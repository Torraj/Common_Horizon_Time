{
 "cells": [
  {
   "cell_type": "code",
   "execution_count": 1,
   "id": "f9d99659-19ac-453e-9717-107a15d826f8",
   "metadata": {},
   "outputs": [
    {
     "name": "stdout",
     "output_type": "stream",
     "text": [
      "[juliapkg] Found dependencies: /home/ajt6830/miniconda3/envs/pysr_env/lib/python3.11/site-packages/pysr/juliapkg.json\n",
      "[juliapkg] Found dependencies: /home/ajt6830/miniconda3/envs/pysr_env/lib/python3.11/site-packages/juliapkg/juliapkg.json\n",
      "[juliapkg] Found dependencies: /home/ajt6830/miniconda3/envs/pysr_env/lib/python3.11/site-packages/juliacall/juliapkg.json\n",
      "[juliapkg] Locating Julia =1.10.0, ^1.10.3\n",
      "[juliapkg] Querying Julia versions from https://julialang-s3.julialang.org/bin/versions.json\n",
      "[juliapkg] WARNING: About to install Julia 1.11.5 to /home/ajt6830/miniconda3/envs/pysr_env/julia_env/pyjuliapkg/install.\n",
      "[juliapkg]   If you use juliapkg in more than one environment, you are likely to\n",
      "[juliapkg]   have Julia installed in multiple locations. It is recommended to\n",
      "[juliapkg]   install JuliaUp (https://github.com/JuliaLang/juliaup) or Julia\n",
      "[juliapkg]   (https://julialang.org/downloads) yourself.\n",
      "[juliapkg] Downloading Julia from https://julialang-s3.julialang.org/bin/linux/x64/1.11/julia-1.11.5-linux-x86_64.tar.gz\n",
      "             downloaded 111.8 MB of 272.5 MB\n",
      "             downloaded 236.4 MB of 272.5 MB\n",
      "             download complete\n",
      "[juliapkg] Verifying download\n",
      "[juliapkg] Installing Julia 1.11.5 to /home/ajt6830/miniconda3/envs/pysr_env/julia_env/pyjuliapkg/install\n",
      "[juliapkg] Using Julia 1.11.5 at /home/ajt6830/miniconda3/envs/pysr_env/julia_env/pyjuliapkg/install/bin/julia\n",
      "[juliapkg] Using Julia project at /home/ajt6830/miniconda3/envs/pysr_env/julia_env\n",
      "[juliapkg] Writing Project.toml:\n",
      "             [deps]\n",
      "             SymbolicRegression = \"8254be44-1295-4e6a-a16d-46603ac705cb\"\n",
      "             Serialization = \"9e88b42a-f829-5b0c-bbe9-9e923198166b\"\n",
      "             PythonCall = \"6099a3de-0909-46bc-b1f4-468b9a2dfc0d\"\n",
      "             OpenSSL_jll = \"458c3c95-2e84-50aa-8efc-19380b2a3a95\"\n",
      "             [compat]\n",
      "             SymbolicRegression = \"~1.11\"\n",
      "             Serialization = \"^1\"\n",
      "             PythonCall = \"=0.9.25\"\n",
      "             OpenSSL_jll = \"3.0.0 - 3.5\"\n",
      "[juliapkg] Installing packages:\n",
      "             import Pkg\n",
      "             Pkg.Registry.update()\n",
      "             Pkg.add([\n",
      "               Pkg.PackageSpec(name=\"SymbolicRegression\", uuid=\"8254be44-1295-4e6a-a16d-46603ac705cb\"),\n",
      "               Pkg.PackageSpec(name=\"Serialization\", uuid=\"9e88b42a-f829-5b0c-bbe9-9e923198166b\"),\n",
      "               Pkg.PackageSpec(name=\"PythonCall\", uuid=\"6099a3de-0909-46bc-b1f4-468b9a2dfc0d\"),\n",
      "               Pkg.PackageSpec(name=\"OpenSSL_jll\", uuid=\"458c3c95-2e84-50aa-8efc-19380b2a3a95\"),\n",
      "             ])\n",
      "             Pkg.resolve()\n",
      "             Pkg.precompile()\n"
     ]
    },
    {
     "name": "stderr",
     "output_type": "stream",
     "text": [
      "    Updating registry at `~/.julia/registries/General.toml`\n",
      "   Resolving package versions...\n",
      "    Updating `~/miniconda3/envs/pysr_env/julia_env/Project.toml`\n",
      "  [6099a3de] + PythonCall v0.9.25\n",
      "⌅ [8254be44] + SymbolicRegression v1.11.3\n",
      "  [458c3c95] + OpenSSL_jll v3.5.1+0\n",
      "  [9e88b42a] ~ Serialization ⇒ v1.11.0\n",
      "    Updating `~/miniconda3/envs/pysr_env/julia_env/Manifest.toml`\n",
      "  [47edcb42] + ADTypes v1.15.0\n",
      "  [79e6a3ab] + Adapt v4.3.0\n",
      "  [66dad0bd] + AliasTables v1.1.3\n",
      "  [4fba245c] + ArrayInterface v7.19.0\n",
      "  [d360d2e6] + ChainRulesCore v1.25.2\n",
      "  [bbf7d656] + CommonSubexpressions v0.3.1\n",
      "  [34da2185] + Compat v4.17.0\n",
      "  [992eb4ea] + CondaPkg v0.2.29\n",
      "  [187b0558] + ConstructionBase v1.6.0\n",
      "  [9a962f9c] + DataAPI v1.16.0\n",
      "  [864edb3b] + DataStructures v0.18.22\n",
      "  [e2d170a0] + DataValueInterfaces v1.0.0\n",
      "  [163ba53b] + DiffResults v1.1.0\n",
      "  [b552c78f] + DiffRules v1.15.1\n",
      "  [a0c0ee7d] + DifferentiationInterface v0.7.1\n",
      "  [8d63f2c5] + DispatchDoctor v0.4.22\n",
      "  [ffbed154] + DocStringExtensions v0.9.5\n",
      "⌅ [7317a516] + DynamicDiff v0.2.1\n",
      "⌅ [a40a106e] + DynamicExpressions v1.10.3\n",
      "  [06fc5a27] + DynamicQuantities v1.8.0\n",
      "  [4e289a0a] + EnumX v1.0.5\n",
      "  [1a297f60] + FillArrays v1.13.0\n",
      "  [6a86dc24] + FiniteDiff v2.27.0\n",
      "  [f6369f11] + ForwardDiff v1.0.1\n",
      "  [85a1e053] + Interfaces v0.3.2\n",
      "  [92d709cd] + IrrationalConstants v0.2.4\n",
      "  [82899510] + IteratorInterfaceExtensions v1.0.0\n",
      "  [692b3bcd] + JLLWrappers v1.7.0\n",
      "  [0f8b85d8] + JSON3 v1.14.3\n",
      "  [d3d80556] + LineSearches v7.4.0\n",
      "  [2ab3a3ac] + LogExpFunctions v0.3.29\n",
      "  [30fc2ffe] + LossFunctions v1.0.1\n",
      "  [e80e1ace] + MLJModelInterface v1.11.1\n",
      "  [1914dd2f] + MacroTools v0.5.16\n",
      "  [0b3b1443] + MicroMamba v0.1.14\n",
      "  [e1d29d7a] + Missings v1.2.0\n",
      "  [d41bc354] + NLSolversBase v7.10.0\n",
      "  [77ba4419] + NaNMath v1.1.3\n",
      "  [429524aa] + Optim v1.13.2\n",
      "  [bac558e1] + OrderedCollections v1.8.1\n",
      "  [d96e819e] + Parameters v0.12.3\n",
      "  [69de0a69] + Parsers v2.8.3\n",
      "  [fa939f87] + Pidfile v1.3.0\n",
      "  [85a6dd25] + PositiveFactorizations v0.2.4\n",
      "⌅ [aea7be01] + PrecompileTools v1.2.1\n",
      "  [21216c6a] + Preferences v1.4.3\n",
      "⌅ [92933f4c] + ProgressMeter v1.10.2\n",
      "  [43287f4e] + PtrArrays v1.3.0\n",
      "  [6099a3de] + PythonCall v0.9.25\n",
      "  [189a3867] + Reexport v1.2.2\n",
      "  [ae029012] + Requires v1.3.1\n",
      "  [30f210dd] + ScientificTypesBase v3.0.0\n",
      "  [6c6a2e73] + Scratch v1.3.0\n",
      "  [efcf1570] + Setfield v1.1.2\n",
      "  [a2af1166] + SortingAlgorithms v1.2.1\n",
      "  [276daf66] + SpecialFunctions v2.5.1\n",
      "  [1e83bf80] + StaticArraysCore v1.4.3\n",
      "  [64bff920] + StatisticalTraits v3.4.0\n",
      "  [10745b16] + Statistics v1.11.1\n",
      "  [82ae8749] + StatsAPI v1.7.1\n",
      "  [2913bbd2] + StatsBase v0.34.5\n",
      "  [856f2bd8] + StructTypes v1.11.0\n",
      "⌅ [8254be44] + SymbolicRegression v1.11.3\n",
      "  [3783bdb8] + TableTraits v1.0.1\n",
      "  [bd369af6] + Tables v1.12.1\n",
      "  [1c621080] + TestItems v1.0.0\n",
      "  [410a4b4d] + Tricks v0.1.10\n",
      "  [3a884ed6] + UnPack v1.0.2\n",
      "  [e17b2a0c] + UnsafePointers v1.0.0\n",
      "  [458c3c95] + OpenSSL_jll v3.5.1+0\n",
      "  [efe28fd5] + OpenSpecFun_jll v0.5.6+0\n",
      "  [f8abcde7] + micromamba_jll v1.5.8+0\n",
      "  [4d7b5844] + pixi_jll v0.41.3+0\n",
      "  [0dad84c5] + ArgTools v1.1.2\n",
      "  [56f22d72] + Artifacts v1.11.0\n",
      "  [2a0f44e3] + Base64 v1.11.0\n",
      "  [ade2ca70] + Dates v1.11.0\n",
      "  [8ba89e20] + Distributed v1.11.0\n",
      "  [f43a241f] + Downloads v1.6.0\n",
      "  [7b1f6079] + FileWatching v1.11.0\n",
      "  [9fa8497b] + Future v1.11.0\n",
      "  [b77e0a4c] + InteractiveUtils v1.11.0\n",
      "  [4af54fe1] + LazyArtifacts v1.11.0\n",
      "  [b27032c2] + LibCURL v0.6.4\n",
      "  [76f85450] + LibGit2 v1.11.0\n",
      "  [8f399da3] + Libdl v1.11.0\n",
      "  [37e2e46d] + LinearAlgebra v1.11.0\n",
      "  [56ddb016] + Logging v1.11.0\n",
      "  [d6f4376e] + Markdown v1.11.0\n",
      "  [a63ad114] + Mmap v1.11.0\n",
      "  [ca575930] + NetworkOptions v1.2.0\n",
      "  [44cfe95a] + Pkg v1.11.0\n",
      "  [de0858da] + Printf v1.11.0\n",
      "  [3fa0cd96] + REPL v1.11.0\n",
      "  [9a3f8284] + Random v1.11.0\n",
      "  [ea8e919c] + SHA v0.7.0\n",
      "  [9e88b42a] + Serialization v1.11.0\n",
      "  [6462fe0b] + Sockets v1.11.0\n",
      "  [2f01184e] + SparseArrays v1.11.0\n",
      "  [f489334b] + StyledStrings v1.11.0\n",
      "  [fa267f1f] + TOML v1.0.3\n",
      "  [a4e569a6] + Tar v1.10.0\n",
      "  [8dfed614] + Test v1.11.0\n",
      "  [cf7118a7] + UUIDs v1.11.0\n",
      "  [4ec0a83e] + Unicode v1.11.0\n",
      "  [e66e0078] + CompilerSupportLibraries_jll v1.1.1+0\n",
      "  [deac9b47] + LibCURL_jll v8.6.0+0\n",
      "  [e37daf67] + LibGit2_jll v1.7.2+0\n",
      "  [29816b5a] + LibSSH2_jll v1.11.0+1\n",
      "  [c8ffd9c3] + MbedTLS_jll v2.28.6+0\n",
      "  [14a3606d] + MozillaCACerts_jll v2023.12.12\n",
      "  [4536629a] + OpenBLAS_jll v0.3.27+1\n",
      "  [05823500] + OpenLibm_jll v0.8.5+0\n",
      "  [bea87d4a] + SuiteSparse_jll v7.7.0+0\n",
      "  [83775a58] + Zlib_jll v1.2.13+1\n",
      "  [8e850b90] + libblastrampoline_jll v5.11.0+0\n",
      "  [8e850ede] + nghttp2_jll v1.59.0+0\n",
      "  [3f19e933] + p7zip_jll v17.4.0+2\n",
      "        Info Packages marked with ⌅ have new versions available but compatibility constraints restrict them from upgrading. To see why use `status --outdated -m`\n",
      "  No Changes to `~/miniconda3/envs/pysr_env/julia_env/Project.toml`\n",
      "  No Changes to `~/miniconda3/envs/pysr_env/julia_env/Manifest.toml`\n"
     ]
    },
    {
     "name": "stdout",
     "output_type": "stream",
     "text": [
      "Detected IPython. Loading juliacall extension. See https://juliapy.github.io/PythonCall.jl/stable/compat/#IPython\n"
     ]
    }
   ],
   "source": [
    "import pandas as pd\n",
    "import numpy as np\n",
    "import scipy\n",
    "import pysr\n",
    "import sympy\n",
    "import math\n",
    "from pysr import PySRRegressor\n",
    "import matplotlib.pyplot as plt\n",
    "import pickle"
   ]
  },
  {
   "cell_type": "code",
   "execution_count": 2,
   "id": "f240465d-f60e-46ad-9781-1da792296af2",
   "metadata": {},
   "outputs": [
    {
     "name": "stdout",
     "output_type": "stream",
     "text": [
      "Collecting sxs\n",
      "  Using cached sxs-2025.0.17-py3-none-any.whl.metadata (13 kB)\n",
      "Collecting bibtexparser>=2.0.0b8 (from sxs)\n",
      "  Using cached bibtexparser-2.0.0b8-py3-none-any.whl.metadata (5.4 kB)\n",
      "Collecting h5py>=3 (from sxs)\n",
      "  Using cached h5py-3.14.0-cp311-cp311-manylinux_2_17_x86_64.manylinux2014_x86_64.whl.metadata (2.7 kB)\n",
      "Collecting inflection>=0.5.1 (from sxs)\n",
      "  Using cached inflection-0.5.1-py2.py3-none-any.whl.metadata (1.7 kB)\n",
      "Requirement already satisfied: juliacall>=0.9.20 in ./miniconda3/envs/pysr_env/lib/python3.11/site-packages (from sxs) (0.9.25)\n",
      "Requirement already satisfied: numba>=0.55 in ./miniconda3/envs/pysr_env/lib/python3.11/site-packages (from sxs) (0.61.2)\n",
      "Requirement already satisfied: numpy>=1.25 in ./miniconda3/envs/pysr_env/lib/python3.11/site-packages (from sxs) (2.2.0)\n",
      "Requirement already satisfied: packaging in ./miniconda3/envs/pysr_env/lib/python3.11/site-packages (from sxs) (25.0)\n",
      "Requirement already satisfied: pandas>=1.1.2 in ./miniconda3/envs/pysr_env/lib/python3.11/site-packages (from sxs) (2.3.0)\n",
      "Requirement already satisfied: pytz>=2020.1 in ./miniconda3/envs/pysr_env/lib/python3.11/site-packages (from sxs) (2025.2)\n",
      "Collecting quaternionic>=1.0.15 (from sxs)\n",
      "  Using cached quaternionic-1.0.15-py3-none-any.whl.metadata (18 kB)\n",
      "Requirement already satisfied: requests>=2.24.0 in ./miniconda3/envs/pysr_env/lib/python3.11/site-packages (from sxs) (2.32.4)\n",
      "Requirement already satisfied: scipy>=1.13 in ./miniconda3/envs/pysr_env/lib/python3.11/site-packages (from sxs) (1.16.0)\n",
      "Collecting spherical>=1.0.15 (from sxs)\n",
      "  Using cached spherical-1.0.16-py3-none-any.whl.metadata (7.7 kB)\n",
      "Collecting sxscatalog>=3.0.14 (from sxs)\n",
      "  Using cached sxscatalog-3.0.15-py3-none-any.whl.metadata (1.6 kB)\n",
      "Collecting tqdm>=4.63.1 (from sxs)\n",
      "  Using cached tqdm-4.67.1-py3-none-any.whl.metadata (57 kB)\n",
      "Requirement already satisfied: urllib3>=1.25.10 in ./miniconda3/envs/pysr_env/lib/python3.11/site-packages (from sxs) (2.5.0)\n",
      "Collecting pylatexenc>=2.10 (from bibtexparser>=2.0.0b8->sxs)\n",
      "  Using cached pylatexenc-2.10-py3-none-any.whl\n",
      "Requirement already satisfied: juliapkg~=0.1.17 in ./miniconda3/envs/pysr_env/lib/python3.11/site-packages (from juliacall>=0.9.20->sxs) (0.1.17)\n",
      "Requirement already satisfied: filelock<4.0,>=3.16 in ./miniconda3/envs/pysr_env/lib/python3.11/site-packages (from juliapkg~=0.1.17->juliacall>=0.9.20->sxs) (3.18.0)\n",
      "Requirement already satisfied: semver<4.0,>=3.0 in ./miniconda3/envs/pysr_env/lib/python3.11/site-packages (from juliapkg~=0.1.17->juliacall>=0.9.20->sxs) (3.0.4)\n",
      "Requirement already satisfied: llvmlite<0.45,>=0.44.0dev0 in ./miniconda3/envs/pysr_env/lib/python3.11/site-packages (from numba>=0.55->sxs) (0.44.0)\n",
      "Requirement already satisfied: python-dateutil>=2.8.2 in ./miniconda3/envs/pysr_env/lib/python3.11/site-packages (from pandas>=1.1.2->sxs) (2.9.0.post0)\n",
      "Requirement already satisfied: tzdata>=2022.7 in ./miniconda3/envs/pysr_env/lib/python3.11/site-packages (from pandas>=1.1.2->sxs) (2025.2)\n",
      "Requirement already satisfied: six>=1.5 in ./miniconda3/envs/pysr_env/lib/python3.11/site-packages (from python-dateutil>=2.8.2->pandas>=1.1.2->sxs) (1.17.0)\n",
      "Requirement already satisfied: charset_normalizer<4,>=2 in ./miniconda3/envs/pysr_env/lib/python3.11/site-packages (from requests>=2.24.0->sxs) (3.4.2)\n",
      "Requirement already satisfied: idna<4,>=2.5 in ./miniconda3/envs/pysr_env/lib/python3.11/site-packages (from requests>=2.24.0->sxs) (3.10)\n",
      "Requirement already satisfied: certifi>=2017.4.17 in ./miniconda3/envs/pysr_env/lib/python3.11/site-packages (from requests>=2.24.0->sxs) (2025.6.15)\n",
      "Collecting spinsfast>=104.2020.8 (from spherical>=1.0.15->sxs)\n",
      "  Using cached spinsfast-2022.4.10-cp311-cp311-manylinux_2_17_x86_64.manylinux2014_x86_64.whl.metadata (520 bytes)\n",
      "Using cached sxs-2025.0.17-py3-none-any.whl (224 kB)\n",
      "Using cached bibtexparser-2.0.0b8-py3-none-any.whl (39 kB)\n",
      "Using cached h5py-3.14.0-cp311-cp311-manylinux_2_17_x86_64.manylinux2014_x86_64.whl (4.5 MB)\n",
      "Using cached inflection-0.5.1-py2.py3-none-any.whl (9.5 kB)\n",
      "Using cached quaternionic-1.0.15-py3-none-any.whl (37 kB)\n",
      "Using cached spherical-1.0.16-py3-none-any.whl (55 kB)\n",
      "Using cached spinsfast-2022.4.10-cp311-cp311-manylinux_2_17_x86_64.manylinux2014_x86_64.whl (783 kB)\n",
      "Using cached sxscatalog-3.0.15-py3-none-any.whl (33 kB)\n",
      "Using cached tqdm-4.67.1-py3-none-any.whl (78 kB)\n",
      "Installing collected packages: spinsfast, pylatexenc, tqdm, inflection, h5py, bibtexparser, quaternionic, sxscatalog, spherical, sxs\n",
      "\u001b[2K   \u001b[90m━━━━━━━━━━━━━━━━━━━━━━━━━━━━━━━━━━━━━━━━\u001b[0m \u001b[32m10/10\u001b[0m [sxs]32m 9/10\u001b[0m [sxs]exparser]\n",
      "\u001b[1A\u001b[2KSuccessfully installed bibtexparser-2.0.0b8 h5py-3.14.0 inflection-0.5.1 pylatexenc-2.10 quaternionic-1.0.15 spherical-1.0.16 spinsfast-2022.4.10 sxs-2025.0.17 sxscatalog-3.0.15 tqdm-4.67.1\n",
      "Note: you may need to restart the kernel to use updated packages.\n"
     ]
    }
   ],
   "source": [
    "pip install sxs"
   ]
  },
  {
   "cell_type": "code",
   "execution_count": 3,
   "id": "959d6b9f-2f96-490c-b1d5-1f71f60376bf",
   "metadata": {},
   "outputs": [
    {
     "name": "stdout",
     "output_type": "stream",
     "text": [
      "/home/ajt6830/miniconda3/envs/pysr_env/lib/python3.11/site-packages/sxs/__init__.py\n",
      "2025.0.17\n",
      "['Catalog', 'HorizonQuantities', 'Horizons', 'Metadata', 'Simulation', 'Simulations', 'TimeSeries', 'WaveformModes', 'WaveformModesDict', '__builtins__', '__cached__', '__doc__', '__file__', '__loader__', '__name__', '__package__', '__path__', '__spec__', '__version__', 'astronomical_unit', 'catalog', 'citation', 'cite', 'doi_prefix', 'doi_url', 'file_format', 'guvectorize', 'handlers', 'horizons', 'importlib_metadata', 'jit', 'lev_number', 'load', 'load_lvc', 'load_via_sxs_id', 'loadcontext', 'local_simulations', 'm_sun_in_meters', 'm_sun_in_seconds', 'metadata', 'parsec_in_meters', 'read_config', 'rpdmb', 'rpxmb', 'simulations', 'solar_mass_parameter', 'spectre_cce_v1', 'speed_of_light', 'sxs_directory', 'sxs_id', 'sxs_id_to_url', 'time_series', 'to_lvc_conventions', 'utilities', 'vectorize', 'version_info', 'waveforms', 'write_config', 'write_local_simulations', 'zenodo']\n"
     ]
    }
   ],
   "source": [
    "import sxs\n",
    "print(sxs.__file__)\n",
    "print(sxs.__version__)\n",
    "print(dir(sxs))"
   ]
  },
  {
   "cell_type": "code",
   "execution_count": 4,
   "id": "43d47626-68cf-454a-af06-f6d2624b5b30",
   "metadata": {},
   "outputs": [
    {
     "name": "stdout",
     "output_type": "stream",
     "text": [
      "Loading SXS simulations using latest tag 'v3.0.0', published at 2025-05-14T18:17:30Z.\n"
     ]
    }
   ],
   "source": [
    "df = sxs.load(\"dataframe\")"
   ]
  },
  {
   "cell_type": "code",
   "execution_count": 5,
   "id": "b4ee3e5c-0ff7-4f58-beae-9ed858b10133",
   "metadata": {},
   "outputs": [],
   "source": [
    "df_1 = df.loc[df['reference_eccentricity'] < 0.01]\n",
    "df_2 = df_1.loc[df_1[\"reference_dimensionless_spin1_mag\"] < 0.001]\n",
    "df_4 = df_2.loc[df_2[\"reference_dimensionless_spin2_mag\"] < 0.001]\n",
    "df_5 = df_4.loc[df_4[\"deprecated\"] == False]\n",
    "df_3 = df_5.loc[np.isfinite(df_5[\"common_horizon_time\"])]\n",
    "#df_3 represents the low eccentricity and low spin simulations that will be relevant for my project"
   ]
  },
  {
   "cell_type": "code",
   "execution_count": 6,
   "id": "f18b79e4-5d6f-4a01-96a2-e50ac1c3af1c",
   "metadata": {},
   "outputs": [],
   "source": [
    "ref_orb_period = 2*np.pi/df_3[\"reference_orbital_frequency_mag\"]\n",
    "init_param = np.column_stack((ref_orb_period, df_3[\"reference_mass_ratio\"]))\n",
    "\n",
    "CHT = df_3[\"common_horizon_time\"] - df_3[\"reference_time\"]"
   ]
  },
  {
   "cell_type": "code",
   "execution_count": 7,
   "id": "7caa67c1-f087-4e41-9618-61e90b0c0880",
   "metadata": {},
   "outputs": [
    {
     "data": {
      "text/plain": [
       "Text(0.5, 1.0, 'Newtonian Percent Residuals')"
      ]
     },
     "execution_count": 7,
     "metadata": {},
     "output_type": "execute_result"
    },
    {
     "data": {
      "image/png": "[encoded data removed]",
      "text/plain": [
       "<Figure size 640x480 with 1 Axes>"
      ]
     },
     "metadata": {},
     "output_type": "display_data"
    }
   ],
   "source": [
    "def Newtonian_CHT(X):\n",
    "    #tau is orbital period, q is mass_ratio, A is scaling constant based on fundamental mathematical and physical constants with G = C = 1\n",
    "    A = 5/(16*np.pi)**(8/3)\n",
    "    tau, q = X\n",
    "    return A*tau**(8/3)*(q+1)**2/q\n",
    "\n",
    "Newt_Per_Residual = (Newtonian_CHT([ref_orb_period, df_3[\"reference_mass_ratio\"]]) - CHT)/CHT"
   ]
  },
  {
   "cell_type": "code",
   "execution_count": 8,
   "id": "521aa609-531e-4faf-a5a5-846caf2a0c87",
   "metadata": {},
   "outputs": [],
   "source": [
    "default_pysr_params = dict(\n",
    "    populations = 30,\n",
    "    model_selection=\"best\",\n",
    ")\n",
    "\n",
    "best_avg_error = 10"
   ]
  },
  {
   "cell_type": "code",
   "execution_count": 13,
   "id": "78c5d561-fed1-4b26-be0e-6d1ba79d3aca",
   "metadata": {},
   "outputs": [],
   "source": [
    "model = PySRRegressor(\n",
    "    niterations=30,\n",
    "    binary_operators=[\"+\", \"*\", \"-\"],\n",
    "    unary_operators=[\"square\", \"cube\", \"sqrt\", \"cbrt\", \"inv(x) = 1/x\"], #\"cube_root(x) = cbrt(x)\"\n",
    "    extra_sympy_mappings={\"inv\": lambda x: 1/x}, #\"square\": lambda x: x**2, \"cube_root\": lambda x: x**(1/3)\n",
    "    **default_pysr_params,\n",
    "    #elementwise_loss=\"loss(prediction, target) = ((prediction - target)/target)^2\"\n",
    "    # ^ Custom loss function (julia syntax)\n",
    ")"
   ]
  },
  {
   "cell_type": "code",
   "execution_count": 16,
   "id": "2a9e2eda-cbe9-4c61-9daa-94447f57898f",
   "metadata": {
    "collapsed": true,
    "jupyter": {
     "outputs_hidden": true
    }
   },
   "outputs": [
    {
     "name": "stderr",
     "output_type": "stream",
     "text": [
      "/home/ajt6830/miniconda3/envs/pysr_env/lib/python3.11/site-packages/pysr/sr.py:2217: UserWarning: The discovered expressions are being reset. Please set `warm_start=True` if you wish to continue to start a search where you left off.\n",
      "  warnings.warn(\n",
      "/home/ajt6830/miniconda3/envs/pysr_env/lib/python3.11/site-packages/pysr/sr.py:2811: UserWarning: Note: it looks like you are running in Jupyter. The progress bar will be turned off.\n",
      "  warnings.warn(\n",
      "[ Info: Started!\n",
      "[ Info: Final population:\n",
      "[ Info: Results saved to:\n"
     ]
    },
    {
     "name": "stdout",
     "output_type": "stream",
     "text": [
      "───────────────────────────────────────────────────────────────────────────────────────────────────\n",
      "Complexity  Loss       Score      Equation\n",
      "1           1.299e-02  0.000e+00  y = 0.17398\n",
      "3           5.630e-03  4.181e-01  y = x₁ * 0.034503\n",
      "4           4.103e-03  3.165e-01  y = sqrt(x₁) * 0.096387\n",
      "5           3.741e-03  9.227e-02  y = cbrt(square(x₁ * 0.018901))\n",
      "7           1.107e-03  6.088e-01  y = (inv(x₀) * 44.143) * cbrt(x₁)\n",
      "9           3.748e-04  5.416e-01  y = (inv(x₀) * (cbrt(x₁) * 56.432)) + -0.063234\n",
      "11          1.456e-04  4.727e-01  y = ((inv(x₀) * 59.512) * cbrt(x₁ + 1.5734)) + -0.1126\n",
      "13          1.387e-04  2.425e-02  y = ((cbrt(x₁ - -1.483) * 57.612) * inv(x₀ - 8.0069)) + -0...\n",
      "                                      .10842\n",
      "18          9.933e-05  6.678e-02  y = ((inv(x₀) * cbrt(59.147 * (inv(x₀ * 0.27202) * (0.6426...\n",
      "                                      4 + x₁)))) * 59.147) + -0.053988\n",
      "21          9.543e-05  1.335e-02  y = ((inv(x₀) * 55.293) * cbrt(inv(0.4396 * x₀) * ((x₁ + (...\n",
      "                                      x₁ + inv(x₁))) * 61.275))) + -0.05012\n",
      "23          9.538e-05  2.838e-04  y = -0.05012 + (inv(x₀) * (cbrt(inv(0.4396 * x₀) * (((inv(...\n",
      "                                      x₁) + (x₁ + x₁)) * 61.275) - -2.4725)) * 55.293))\n",
      "24          9.533e-05  5.461e-04  y = ((inv(x₀) * 55.293) * cbrt((inv(0.4396 * x₀) * (square...\n",
      "                                      (inv(0.0083167 - x₁)) + (x₁ + x₁))) * 61.275)) + -0.05012\n",
      "───────────────────────────────────────────────────────────────────────────────────────────────────\n",
      "Current Prediction Average Error (%): 0.6246970746471409\n",
      "Best Prediction Average Error (%): 0.6162949670500192\n",
      "Current Model Formula: -0.053987686 + 355.665536337782*Abs((x1 + 0.6426413)/x0)**(1/3)*sign((x1 + 0.6426413)/x0)/x0\n"
     ]
    },
    {
     "name": "stderr",
     "output_type": "stream",
     "text": [
      "/home/ajt6830/miniconda3/envs/pysr_env/lib/python3.11/site-packages/pysr/sr.py:1270: UserWarning: `extra_sympy_mappings` cannot be pickled and will be removed from the serialized instance. When loading the model, please redefine `extra_sympy_mappings` at runtime.\n",
      "  warnings.warn(warn_msg)\n",
      "/home/ajt6830/miniconda3/envs/pysr_env/lib/python3.11/site-packages/pysr/sr.py:2217: UserWarning: The discovered expressions are being reset. Please set `warm_start=True` if you wish to continue to start a search where you left off.\n",
      "  warnings.warn(\n",
      "/home/ajt6830/miniconda3/envs/pysr_env/lib/python3.11/site-packages/pysr/sr.py:2811: UserWarning: Note: it looks like you are running in Jupyter. The progress bar will be turned off.\n",
      "  warnings.warn(\n"
     ]
    },
    {
     "name": "stdout",
     "output_type": "stream",
     "text": [
      "  - outputs/20250702_121531_56mYO6/hall_of_fame.csv\n",
      "───────────────────────────────────────────────────────────────────────────────────────────────────\n",
      "Complexity  Loss       Score      Equation\n",
      "1           1.299e-02  0.000e+00  y = 0.17399\n",
      "3           5.630e-03  4.181e-01  y = x₁ * 0.034504\n",
      "4           4.241e-03  2.834e-01  y = sqrt(x₁) * 0.090659\n",
      "5           3.770e-03  1.177e-01  y = 0.065183 - (x₁ * -0.025812)\n",
      "6           3.741e-03  7.686e-03  y = cbrt(x₁ * x₁) * 0.070941\n",
      "7           9.451e-04  1.376e+00  y = (inv(x₀) * 32.505) * sqrt(x₁)\n",
      "9           8.534e-04  5.103e-02  y = (inv(x₀) * sqrt(x₁ + 0.82287)) * 30.35\n",
      "10          5.826e-04  3.817e-01  y = ((cbrt(x₁) + 3.9598) * cbrt(inv(x₀))) + -0.58351\n",
      "11          2.363e-04  9.022e-01  y = cube(((cbrt(x₁) + 5.525) * cbrt(inv(x₀))) + -0.44983)\n",
      "13          1.204e-04  3.370e-01  y = cube((inv(cbrt(x₁ + x₀)) * (cbrt(x₁) + 5.6488)) + -0.4...\n",
      "                                      5665)\n",
      "15          1.111e-04  4.043e-02  y = cube((cbrt(inv(x₀ + (x₁ * 1.3111))) * (cbrt(x₁) + 5.64...\n",
      "                                      9)) + -0.4552)\n",
      "17          1.086e-04  1.149e-02  y = cube(((cbrt(x₁) + 5.6619) * inv(cbrt((x₀ + 0.21197) + ...\n",
      "                                      (x₁ * 1.5342)))) + -0.45335)\n",
      "18          9.995e-05  8.267e-02  y = cube((inv(cbrt(x₀ + ((sqrt(x₁) * 0.46132) * x₁))) * (c...\n",
      "                                      brt(x₁) + 5.8071)) + -0.47578)\n",
      "19          9.527e-05  4.792e-02  y = cube((inv(cbrt((sqrt(x₁) * (square(-0.65201) * x₁)) + ...\n",
      "                                      x₀)) * (cbrt(x₁) + 5.8071)) + -0.47578)\n",
      "20          8.992e-05  5.787e-02  y = cube((cbrt(inv(x₀ + (sqrt(x₁ * 0.15501) * (x₁ + -1.501...\n",
      "                                      3)))) * (cbrt(x₁) + 5.8358)) + -0.48336)\n",
      "26          8.534e-05  8.711e-03  y = cube((cbrt(inv((x₀ + cbrt(square(cbrt(square((x₀ * 0.7...\n",
      "                                      0586) - square(x₁ + 5.8421)))))) + x₁)) * (cbrt(x₁) + 5.84...\n",
      "                                      21)) + -0.47564)\n",
      "───────────────────────────────────────────────────────────────────────────────────────────────────\n"
     ]
    },
    {
     "name": "stderr",
     "output_type": "stream",
     "text": [
      "[ Info: Started!\n",
      "[ Info: Final population:\n",
      "[ Info: Results saved to:\n"
     ]
    },
    {
     "name": "stdout",
     "output_type": "stream",
     "text": [
      "Current Prediction Average Error (%): 0.6637524729886686\n",
      "Best Prediction Average Error (%): 0.6162949670500192\n",
      "Current Model Formula: ((Abs(x1)**(1/3)*sign(x1) + 5.6487546)/(Abs(x0 + x1)**(1/3)*sign(x0 + x1)) - 0.45665458)**3\n"
     ]
    },
    {
     "name": "stderr",
     "output_type": "stream",
     "text": [
      "/home/ajt6830/miniconda3/envs/pysr_env/lib/python3.11/site-packages/pysr/sr.py:1270: UserWarning: `extra_sympy_mappings` cannot be pickled and will be removed from the serialized instance. When loading the model, please redefine `extra_sympy_mappings` at runtime.\n",
      "  warnings.warn(warn_msg)\n",
      "/home/ajt6830/miniconda3/envs/pysr_env/lib/python3.11/site-packages/pysr/sr.py:2217: UserWarning: The discovered expressions are being reset. Please set `warm_start=True` if you wish to continue to start a search where you left off.\n",
      "  warnings.warn(\n",
      "/home/ajt6830/miniconda3/envs/pysr_env/lib/python3.11/site-packages/pysr/sr.py:2811: UserWarning: Note: it looks like you are running in Jupyter. The progress bar will be turned off.\n",
      "  warnings.warn(\n"
     ]
    },
    {
     "name": "stdout",
     "output_type": "stream",
     "text": [
      "  - outputs/20250702_121536_ondUhn/hall_of_fame.csv\n",
      "───────────────────────────────────────────────────────────────────────────────────────────────────\n",
      "Complexity  Loss       Score      Equation\n",
      "1           1.299e-02  0.000e+00  y = 0.17398\n",
      "3           5.630e-03  4.181e-01  y = x₁ * 0.034504\n",
      "4           4.103e-03  3.165e-01  y = sqrt(x₁) * 0.096387\n",
      "5           3.732e-03  9.469e-02  y = square(inv(x₀) * 150.45)\n",
      "7           9.451e-04  6.867e-01  y = inv(x₀) * (sqrt(x₁) * 32.505)\n",
      "9           7.396e-04  1.225e-01  y = inv(x₀ + -57.605) * sqrt(x₁ * 710.34)\n",
      "11          6.861e-04  3.757e-02  y = sqrt((x₁ + 0.4676) * 710.34) * inv(x₀ + -57.605)\n",
      "12          5.627e-04  1.982e-01  y = square(square(sqrt(inv(x₀) * (cbrt(x₁) * 43.023)) + 0....\n",
      "                                      20909))\n",
      "13          4.827e-04  1.534e-01  y = sqrt(inv(x₀) * (sqrt(inv(x₀) * x₁) * 342.73)) + -0.126...\n",
      "                                      48\n",
      "14          3.786e-04  2.430e-01  y = inv(x₀) * sqrt(919.29 * (x₁ + inv(cube(1.1221e-05 * sq...\n",
      "                                      uare(x₀)))))\n",
      "15          1.663e-04  8.228e-01  y = square(sqrt((cbrt(sqrt(x₀)) + sqrt(x₁)) * (inv(x₀) * 4...\n",
      "                                      5.619)) + -0.35234)\n",
      "17          1.310e-04  1.191e-01  y = square(sqrt((((sqrt(inv(x₀)) * 31.732) + sqrt(x₁)) * 3...\n",
      "                                      3.711) * inv(x₀)) + -0.16991)\n",
      "19          1.282e-04  1.077e-02  y = square(-0.17094 + sqrt(34.743 * (((sqrt(inv(x₀)) * 31....\n",
      "                                      491) + sqrt(x₁)) * inv(x₁ + x₀))))\n",
      "21          1.113e-04  7.087e-02  y = square(sqrt((((inv(sqrt(x₀)) * 31.65) + sqrt(x₁)) * 37...\n",
      "                                      .778) * inv(x₀ + (x₁ + 0.39135))) + -0.19932)\n",
      "22          1.111e-04  2.015e-03  y = square(sqrt((inv((x₀ - sqrt(x₀)) + x₁) * ((sqrt(inv(x₀...\n",
      "                                      )) * 30.309) + sqrt(x₁))) * 35.439) + -0.19175)\n",
      "───────────────────────────────────────────────────────────────────────────────────────────────────\n"
     ]
    },
    {
     "name": "stderr",
     "output_type": "stream",
     "text": [
      "[ Info: Started!\n",
      "[ Info: Final population:\n",
      "[ Info: Results saved to:\n"
     ]
    },
    {
     "name": "stdout",
     "output_type": "stream",
     "text": [
      "Current Prediction Average Error (%): 0.8107566170127285\n",
      "Best Prediction Average Error (%): 0.6162949670500192\n",
      "Current Model Formula: (6.75419403037846*sqrt((sqrt(x1) + Abs(sqrt(x0))**(1/3)*sign(sqrt(x0)))/x0) - 0.35233936)**2\n"
     ]
    },
    {
     "name": "stderr",
     "output_type": "stream",
     "text": [
      "/home/ajt6830/miniconda3/envs/pysr_env/lib/python3.11/site-packages/pysr/sr.py:1270: UserWarning: `extra_sympy_mappings` cannot be pickled and will be removed from the serialized instance. When loading the model, please redefine `extra_sympy_mappings` at runtime.\n",
      "  warnings.warn(warn_msg)\n",
      "/home/ajt6830/miniconda3/envs/pysr_env/lib/python3.11/site-packages/pysr/sr.py:2217: UserWarning: The discovered expressions are being reset. Please set `warm_start=True` if you wish to continue to start a search where you left off.\n",
      "  warnings.warn(\n",
      "/home/ajt6830/miniconda3/envs/pysr_env/lib/python3.11/site-packages/pysr/sr.py:2811: UserWarning: Note: it looks like you are running in Jupyter. The progress bar will be turned off.\n",
      "  warnings.warn(\n"
     ]
    },
    {
     "name": "stdout",
     "output_type": "stream",
     "text": [
      "  - outputs/20250702_121542_nU7QdJ/hall_of_fame.csv\n",
      "───────────────────────────────────────────────────────────────────────────────────────────────────\n",
      "Complexity  Loss       Score      Equation\n",
      "1           1.299e-02  0.000e+00  y = 0.174\n",
      "3           5.630e-03  4.181e-01  y = x₁ * 0.034504\n",
      "4           4.103e-03  3.165e-01  y = sqrt(x₁) * 0.096387\n",
      "5           3.741e-03  9.228e-02  y = cbrt(square(x₁ * 0.018895))\n",
      "6           3.479e-03  7.258e-02  y = (inv(x₀) + -0.0014683) * 139.03\n",
      "7           9.451e-04  1.303e+00  y = (inv(x₀) * 32.505) * sqrt(x₁)\n",
      "9           9.440e-04  5.528e-04  y = inv(x₀ - 0.27429) * (32.505 * sqrt(x₁))\n",
      "10          9.367e-04  7.788e-03  y = (inv(x₀ - inv(0.27429)) * 32.505) * sqrt(x₁)\n",
      "11          8.028e-04  1.542e-01  y = (((x₁ * sqrt(x₁)) + 101.57) * inv(x₀)) + -0.13671\n",
      "12          2.073e-04  1.354e+00  y = -0.3571 + (inv(cbrt(x₀) - (cbrt(x₁) + 1.0103)) * 2.432...\n",
      "                                      1)\n",
      "14          2.073e-04  1.015e-04  y = (inv(cbrt(x₀ + -0.083391) - (cbrt(x₁) + 1.0103)) * 2.4...\n",
      "                                      321) + -0.3572\n",
      "15          2.070e-04  1.219e-03  y = (inv(cbrt(cbrt(x₁) + x₀) - (cbrt(x₁) + 1.046)) * 2.416...\n",
      "                                      6) + -0.35667\n",
      "16          2.069e-04  4.984e-04  y = ((inv(cbrt(x₀ + -0.015918) - (cbrt(x₁) + 1.083)) * 2.3...\n",
      "                                      475) + -0.14033) - 0.20699\n",
      "17          2.065e-04  1.805e-03  y = -0.3571 + (inv(cbrt(x₀ + (-1.8273 + cbrt(x₁))) - (cbrt...\n",
      "                                      (x₁) + 1.0103)) * 2.4321)\n",
      "18          2.042e-04  1.154e-02  y = (inv(((cbrt(inv(1.3268 - x₀)) + -0.7809) - cbrt(x₁)) +...\n",
      "                                       cbrt(x₀)) * 2.5007) + -0.36169\n",
      "19          2.018e-04  1.182e-02  y = (inv(((-0.58771 - cbrt(x₁)) + cbrt(x₀)) + cbrt(inv(0.9...\n",
      "                                      9744 - cbrt(x₀)))) * 2.2479) + -0.33166\n",
      "21          2.008e-04  2.401e-03  y = -0.33161 + (inv(((-0.58772 + cbrt(inv(0.99744 - cbrt(x...\n",
      "                                      ₁ + x₀)))) - cbrt(x₁)) + cbrt(x₀)) * 2.2479)\n",
      "22          1.946e-04  3.109e-02  y = -0.33161 + (2.2479 * inv(-0.58772 + ((inv(cbrt(0.99744...\n",
      "                                       - cbrt(square(x₁) + x₀))) - cbrt(x₁)) + cbrt(x₀))))\n",
      "25          1.890e-04  9.732e-03  y = (inv((cbrt(x₀) + (cbrt(cbrt(inv(0.9466 - ((x₁ * inv(in...\n",
      "                                      v(x₁))) + x₀)))) - cbrt(x₁))) + -0.6816) * 2.2222) + -0.33...\n",
      "                                      282\n",
      "27          1.864e-04  7.153e-03  y = (2.2655 * inv(cbrt(x₀) + ((cbrt(inv(1 - cbrt(inv(inv(x...\n",
      "                                      ₁ * (x₁ + -1.3943))) + x₀))) - cbrt(x₁)) + -0.62002))) + -...\n",
      "                                      0.33829\n",
      "29          1.846e-04  4.628e-03  y = (inv(((inv(cbrt(1.0985 - cbrt((x₀ + -0.68033) + inv(in...\n",
      "                                      v((x₁ + -0.49703) * x₁))))) - cbrt(x₁)) + cbrt(x₀)) + -0.7...\n",
      "                                      4231) * 2.1225) + -0.32074\n",
      "───────────────────────────────────────────────────────────────────────────────────────────────────\n"
     ]
    },
    {
     "name": "stderr",
     "output_type": "stream",
     "text": [
      "[ Info: Started!\n",
      "[ Info: Final population:\n",
      "[ Info: Results saved to:\n"
     ]
    },
    {
     "name": "stdout",
     "output_type": "stream",
     "text": [
      "Current Prediction Average Error (%): 1.0264783351579279\n",
      "Best Prediction Average Error (%): 0.6162949670500192\n",
      "Current Model Formula: -0.35709503 + 2.4321358/(Abs(x0)**(1/3)*sign(x0) - Abs(x1)**(1/3)*sign(x1) - 1.0102869)\n"
     ]
    },
    {
     "name": "stderr",
     "output_type": "stream",
     "text": [
      "/home/ajt6830/miniconda3/envs/pysr_env/lib/python3.11/site-packages/pysr/sr.py:2217: UserWarning: The discovered expressions are being reset. Please set `warm_start=True` if you wish to continue to start a search where you left off.\n",
      "  warnings.warn(\n",
      "/home/ajt6830/miniconda3/envs/pysr_env/lib/python3.11/site-packages/pysr/sr.py:2811: UserWarning: Note: it looks like you are running in Jupyter. The progress bar will be turned off.\n",
      "  warnings.warn(\n"
     ]
    },
    {
     "name": "stdout",
     "output_type": "stream",
     "text": [
      "  - outputs/20250702_121547_labNtz/hall_of_fame.csv\n"
     ]
    },
    {
     "name": "stderr",
     "output_type": "stream",
     "text": [
      "[ Info: Started!\n",
      "[ Info: Final population:\n",
      "[ Info: Results saved to:\n",
      "/home/ajt6830/miniconda3/envs/pysr_env/lib/python3.11/site-packages/pysr/sr.py:2217: UserWarning: The discovered expressions are being reset. Please set `warm_start=True` if you wish to continue to start a search where you left off.\n",
      "  warnings.warn(\n",
      "/home/ajt6830/miniconda3/envs/pysr_env/lib/python3.11/site-packages/pysr/sr.py:2811: UserWarning: Note: it looks like you are running in Jupyter. The progress bar will be turned off.\n",
      "  warnings.warn(\n"
     ]
    },
    {
     "name": "stdout",
     "output_type": "stream",
     "text": [
      "───────────────────────────────────────────────────────────────────────────────────────────────────\n",
      "Complexity  Loss       Score      Equation\n",
      "1           1.299e-02  0.000e+00  y = 0.17398\n",
      "3           5.630e-03  4.181e-01  y = x₁ * 0.034505\n",
      "4           4.103e-03  3.165e-01  y = sqrt(x₁) * 0.096387\n",
      "5           3.741e-03  9.228e-02  y = cbrt(square(x₁)) * 0.070941\n",
      "7           9.451e-04  6.879e-01  y = (inv(x₀) * 32.505) * sqrt(x₁)\n",
      "9           8.515e-04  5.213e-02  y = (inv(x₀) * 30.988) * sqrt(x₁ + 0.68949)\n",
      "10          6.177e-04  3.209e-01  y = ((x₁ + 14.509) * square(cbrt(inv(x₀)))) - 0.19421\n",
      "11          4.147e-04  3.985e-01  y = -0.59259 - ((x₁ + 43.175) * (cbrt(inv(x₀)) * -0.11639)...\n",
      "                                      )\n",
      "12          3.235e-04  2.485e-01  y = (cube(inv(cbrt(x₀))) * ((x₁ * 4.9984) + 84.625)) - 0.1...\n",
      "                                      1978\n",
      "14          2.472e-04  1.345e-01  y = (((x₁ * 11.061) + 6.484) * square(cbrt(inv(x₁ * x₀))))...\n",
      "                                       - 0.22177\n",
      "16          2.454e-04  3.527e-03  y = (((x₁ * 10.967) + 6.3362) * cbrt(square(inv((x₀ + -1.4...\n",
      "                                      728) * x₁)))) - 0.21856\n",
      "17          2.423e-04  1.306e-02  y = (square(inv(cbrt(x₁ * (cbrt(x₀) - x₀)))) * ((x₁ * 10.7...\n",
      "                                      79) + 6.0819)) - 0.21432\n",
      "19          2.418e-04  9.844e-04  y = (square(inv(cbrt((cbrt(x₀) - (x₀ - 0.65986)) * x₁))) *...\n",
      "                                       (6.0819 + (x₁ * 10.779))) - 0.21432\n",
      "21          2.374e-04  9.128e-03  y = (((x₁ * 10.474) + 6.2001) * square(inv(cbrt(x₁ * (x₀ -...\n",
      "                                       cbrt(square(sqrt(x₁) * 16.857))))))) - 0.20952\n",
      "───────────────────────────────────────────────────────────────────────────────────────────────────\n",
      "Current Prediction Average Error (%): 1.2331917409003277\n",
      "Best Prediction Average Error (%): 0.6162949670500192\n",
      "Current Model Formula: (4.998391*x1 + 84.62525)/(Abs(x0)*sign(x0)**3) - 0.1197775\n",
      "  - outputs/20250702_121552_1VThpD/hall_of_fame.csv\n",
      "───────────────────────────────────────────────────────────────────────────────────────────────────\n",
      "Complexity  Loss       Score      Equation\n",
      "1           1.299e-02  0.000e+00  y = 0.174\n",
      "3           5.630e-03  4.181e-01  y = x₁ * 0.034503\n",
      "4           4.103e-03  3.165e-01  y = sqrt(x₁) * 0.096393\n",
      "5           3.732e-03  9.469e-02  y = square(inv(x₀) * 150.45)\n",
      "6           3.479e-03  7.017e-02  y = (inv(x₀) * 139.03) - 0.20415\n",
      "7           9.451e-04  1.303e+00  y = inv(x₀) * (sqrt(x₁) * 32.505)\n",
      "9           2.304e-04  7.057e-01  y = inv(x₀ + -142.19) * (cbrt(x₁) * 23.62)\n",
      "10          2.207e-04  4.307e-02  y = ((inv(x₀) * 74.117) * sqrt(sqrt(x₁))) + -0.10321\n",
      "11          1.407e-04  4.503e-01  y = (inv(x₀ + -96.037) * (cbrt(x₁) * 34.989)) - 0.033674\n",
      "18          1.148e-04  2.908e-02  y = ((sqrt(sqrt(inv(x₀) * ((x₁ * 2.6895e+05) * inv(x₀)))) ...\n",
      "                                      + -0.53119) * 55.297) * inv(x₀)\n",
      "20          1.034e-04  5.220e-02  y = (sqrt(sqrt(((x₁ - -0.56889) * (inv(x₀) * 1.8184e+05)) ...\n",
      "                                      * inv(x₀))) + -0.66143) * (inv(x₀) * 67.667)\n",
      "22          1.008e-04  1.240e-02  y = ((sqrt(sqrt(((x₁ - -0.22717) * (inv(x₀) * 1.4362e+05))...\n",
      "                                       * inv(x₀))) + -0.44795) * (inv(x₀) * 65.79)) - 0.0098475\n",
      "23          1.004e-04  4.364e-03  y = (sqrt(sqrt(inv(x₀) * ((sqrt(sqrt(x₁)) * inv(x₀)) * 2.6...\n",
      "                                      894e+05)) * (sqrt(x₁) * 1653.3)) * inv(x₀)) + -0.030901\n",
      "25          9.791e-05  1.260e-02  y = (sqrt(sqrt(x₁) * (sqrt(((2.6893e+05 * inv(x₀)) * sqrt(...\n",
      "                                      sqrt(x₁ - -0.72338))) * inv(x₀)) * 1653.3)) * inv(x₀)) + -...\n",
      "                                      0.034308\n",
      "27          9.729e-05  3.200e-03  y = (sqrt((sqrt(2.6893e+05 * ((inv(x₀) * inv(x₀)) * sqrt(s...\n",
      "                                      qrt(x₁ - -0.72338)))) * 1653.3) * sqrt(x₁)) * inv(x₀ + -0....\n",
      "                                      97106)) + -0.034308\n",
      "29          9.670e-05  3.010e-03  y = (inv(x₀) * sqrt((sqrt(x₁ + 0.22369) * sqrt((inv(x₀) * ...\n",
      "                                      (sqrt(sqrt(x₁ - 0.11865)) * 2.6893e+05)) * inv(x₀ + -1.327...\n",
      "                                      ))) * 1653.3)) + -0.034263\n",
      "───────────────────────────────────────────────────────────────────────────────────────────────────\n",
      "Current Prediction Average Error (%): 0.8398098256356433\n",
      "Best Prediction Average Error (%): 0.6162949670500192\n",
      "Current Model Formula: -0.033673637 + 34.98916*Abs(x1)**(1/3)*sign(x1)/(x0 - 96.03741)\n"
     ]
    },
    {
     "name": "stderr",
     "output_type": "stream",
     "text": [
      "[ Info: Started!\n",
      "[ Info: Final population:\n",
      "[ Info: Results saved to:\n",
      "/home/ajt6830/miniconda3/envs/pysr_env/lib/python3.11/site-packages/pysr/sr.py:1270: UserWarning: `extra_sympy_mappings` cannot be pickled and will be removed from the serialized instance. When loading the model, please redefine `extra_sympy_mappings` at runtime.\n",
      "  warnings.warn(warn_msg)\n",
      "/home/ajt6830/miniconda3/envs/pysr_env/lib/python3.11/site-packages/pysr/sr.py:2217: UserWarning: The discovered expressions are being reset. Please set `warm_start=True` if you wish to continue to start a search where you left off.\n",
      "  warnings.warn(\n",
      "/home/ajt6830/miniconda3/envs/pysr_env/lib/python3.11/site-packages/pysr/sr.py:2811: UserWarning: Note: it looks like you are running in Jupyter. The progress bar will be turned off.\n",
      "  warnings.warn(\n"
     ]
    },
    {
     "name": "stdout",
     "output_type": "stream",
     "text": [
      "  - outputs/20250702_121557_RTsxTM/hall_of_fame.csv\n"
     ]
    },
    {
     "name": "stderr",
     "output_type": "stream",
     "text": [
      "[ Info: Started!\n",
      "[ Info: Final population:\n",
      "[ Info: Results saved to:\n"
     ]
    },
    {
     "name": "stdout",
     "output_type": "stream",
     "text": [
      "───────────────────────────────────────────────────────────────────────────────────────────────────\n",
      "Complexity  Loss       Score      Equation\n",
      "1           1.299e-02  0.000e+00  y = 0.17398\n",
      "3           5.630e-03  4.181e-01  y = x₁ * 0.034505\n",
      "4           4.103e-03  3.165e-01  y = sqrt(x₁) * 0.096387\n",
      "5           3.741e-03  9.228e-02  y = square(cbrt(x₁) * 0.26634)\n",
      "7           8.150e-04  7.620e-01  y = sqrt(inv(x₀ + -207.83) * x₁)\n",
      "9           5.109e-04  2.335e-01  y = sqrt(inv(x₁ + (-219.56 + x₀)) * x₁)\n",
      "12          2.190e-04  2.824e-01  y = sqrt(x₁ + 1.771) * (inv(sqrt(x₀) + -10.101) - 0.042499...\n",
      "                                      )\n",
      "14          2.018e-04  4.101e-02  y = (inv(sqrt(x₀ + 0.36138) + -9.9574) - 0.045789) * (sqrt...\n",
      "                                      (x₁) + 0.60614)\n",
      "15          1.255e-04  4.751e-01  y = (cbrt(x₁) + sqrt(1.6098 + x₁)) * (inv(-7.9188 + sqrt(x...\n",
      "                                      ₀)) - 0.046388)\n",
      "16          1.254e-04  4.292e-05  y = (sqrt(x₁ + square(1.2699)) + cbrt(x₁)) * (inv(-7.9188 ...\n",
      "                                      + sqrt(x₀)) - 0.046388)\n",
      "17          8.745e-05  3.608e-01  y = (inv(sqrt(x₁ + x₀) + -8.5007) - 0.047797) * (cbrt(x₁) ...\n",
      "                                      + sqrt(x₁ + 0.76285))\n",
      "19          8.722e-05  1.337e-03  y = (inv(sqrt((x₁ * 1.0107) + x₀) + -8.5007) - 0.047797) *...\n",
      "                                       (cbrt(x₁) + sqrt(x₁ + 0.76285))\n",
      "21          8.721e-05  8.056e-05  y = (sqrt(x₁ + 0.76285) + cbrt(x₁)) * (inv(sqrt((x₀ - 0.15...\n",
      "                                      604) + (1.0107 * x₁)) + -8.5007) - 0.047797)\n",
      "22          8.359e-05  4.239e-02  y = (inv(sqrt(((x₁ * 1.1691) + x₀) - sqrt(x₀)) + -8.0964) ...\n",
      "                                      - 0.048272) * (cbrt(x₁) + sqrt(x₁ + 0.71035))\n",
      "───────────────────────────────────────────────────────────────────────────────────────────────────\n",
      "Current Prediction Average Error (%): 0.5157951559137864\n",
      "Best Prediction Average Error (%): 0.6162949670500192\n",
      "Current Model Formula: (-0.047797177 + 1/(sqrt(x0 + x1) - 8.500748))*(sqrt(x1 + 0.7628455) + Abs(x1)**(1/3)*sign(x1))\n"
     ]
    },
    {
     "name": "stderr",
     "output_type": "stream",
     "text": [
      "/home/ajt6830/miniconda3/envs/pysr_env/lib/python3.11/site-packages/pysr/sr.py:1270: UserWarning: `extra_sympy_mappings` cannot be pickled and will be removed from the serialized instance. When loading the model, please redefine `extra_sympy_mappings` at runtime.\n",
      "  warnings.warn(warn_msg)\n",
      "/home/ajt6830/miniconda3/envs/pysr_env/lib/python3.11/site-packages/pysr/sr.py:2217: UserWarning: The discovered expressions are being reset. Please set `warm_start=True` if you wish to continue to start a search where you left off.\n",
      "  warnings.warn(\n",
      "/home/ajt6830/miniconda3/envs/pysr_env/lib/python3.11/site-packages/pysr/sr.py:2811: UserWarning: Note: it looks like you are running in Jupyter. The progress bar will be turned off.\n",
      "  warnings.warn(\n"
     ]
    },
    {
     "name": "stdout",
     "output_type": "stream",
     "text": [
      "  - outputs/20250702_121603_P0J3JM/hall_of_fame.csv\n",
      "───────────────────────────────────────────────────────────────────────────────────────────────────\n",
      "Complexity  Loss       Score      Equation\n",
      "1           1.299e-02  0.000e+00  y = 0.17399\n",
      "3           5.630e-03  4.181e-01  y = x₁ * 0.034502\n",
      "4           4.103e-03  3.165e-01  y = sqrt(x₁) * 0.096387\n",
      "5           3.732e-03  9.469e-02  y = square(inv(x₀) * 150.45)\n",
      "6           3.596e-03  3.700e-02  y = (inv(x₀) - 0.001312) * 123.59\n",
      "7           9.451e-04  1.336e+00  y = inv(x₀) * sqrt(x₁ * 1054.6)\n",
      "9           5.414e-04  2.785e-01  y = square((inv(x₀) * cbrt(cbrt(x₁))) * 129.38)\n",
      "11          3.004e-04  2.945e-01  y = square(inv(x₀) * (cbrt(cbrt(x₁ + -1.5583)) * 132.72))\n",
      "14          2.211e-04  1.022e-01  y = sqrt(((inv(x₀) * (x₁ * 1742.7)) + 50.082) * inv(x₀)) -...\n",
      "                                       0.26576\n",
      "16          2.111e-04  2.307e-02  y = sqrt(((inv(x₁ + x₀) * (x₁ * 1741)) + 50.082) * inv(x₀)...\n",
      "                                      ) - 0.26576\n",
      "17          1.942e-04  8.377e-02  y = square(inv(x₀) * (129.38 * cbrt(cbrt(-0.25996 - x₁) * ...\n",
      "                                      cbrt(cbrt(x₁) + -0.69452))))\n",
      "18          1.882e-04  3.110e-02  y = sqrt(((inv(x₁ + x₀) * (x₁ * 1909)) + 41.948) * inv(x₀ ...\n",
      "                                      + x₁)) - 0.24115\n",
      "20          1.833e-04  1.314e-02  y = square((inv(x₀) * 129.38) * cbrt(cbrt(cbrt(x₁) + -0.69...\n",
      "                                      452) * (inv(129.38 - x₀) + cbrt(x₁))))\n",
      "22          1.826e-04  2.106e-03  y = square(inv(x₀) * (129.38 * (inv(x₀ + -0.25996) + cbrt(...\n",
      "                                      cbrt(-0.25996 - x₁) * cbrt(cbrt(x₁) + -0.69452)))))\n",
      "23          1.761e-04  3.579e-02  y = square(inv(x₀) * (129.38 * cbrt(inv(sqrt(x₀) + -0.2599...\n",
      "                                      6) + (cbrt(-0.25996 - x₁) * cbrt(cbrt(x₁) + -0.69452)))))\n",
      "25          8.233e-05  3.803e-01  y = sqrt(square(((((x₁ * 0.11036) * square(-138.81 - ((x₁ ...\n",
      "                                      - cbrt(x₀)) * -2.8396))) * inv(x₀)) - -65.88) * inv(x₀))) ...\n",
      "                                      - 0.083327\n",
      "26          8.112e-05  1.482e-02  y = sqrt(square(((((square((x₁ + (x₁ * -3.1144)) - -125.25...\n",
      "                                      ) * ((x₁ * 0.17198) - 0.071702)) * inv(x₀)) - -67.004) * i...\n",
      "                                      nv(x₀)) - 0.080448))\n",
      "28          7.421e-05  4.453e-02  y = sqrt(square((((((x₁ * 0.11036) * square(-138.81 - ((x₁...\n",
      "                                       - cbrt(x₀)) * -2.8396))) * inv(x₀)) - -65.88) - inv(x₁)) ...\n",
      "                                      * inv(x₀))) - 0.083327\n",
      "30          7.370e-05  3.399e-03  y = sqrt(square(((inv(x₁) - (((x₁ * (square(-138.81 - ((x₁...\n",
      "                                       - cbrt(x₀)) * -2.8396)) * 0.11036)) * inv(x₀)) - -65.88))...\n",
      "                                       + 0.16422) * inv(x₀))) - 0.083327\n",
      "───────────────────────────────────────────────────────────────────────────────────────────────────\n"
     ]
    },
    {
     "name": "stderr",
     "output_type": "stream",
     "text": [
      "[ Info: Started!\n",
      "[ Info: Final population:\n",
      "[ Info: Results saved to:\n"
     ]
    },
    {
     "name": "stdout",
     "output_type": "stream",
     "text": [
      "Current Prediction Average Error (%): 0.5760321984212409\n",
      "Best Prediction Average Error (%): 0.5157951559137864\n",
      "Current Model Formula: sqrt((65.87992 + 0.11035639*x1*(2.8396194*x1 - 2.8396194*Abs(x0)**(1/3)*sign(x0) - 138.80812)**2/x0)**2/x0**2) - 0.08332679\n"
     ]
    },
    {
     "name": "stderr",
     "output_type": "stream",
     "text": [
      "/home/ajt6830/miniconda3/envs/pysr_env/lib/python3.11/site-packages/pysr/sr.py:1270: UserWarning: `extra_sympy_mappings` cannot be pickled and will be removed from the serialized instance. When loading the model, please redefine `extra_sympy_mappings` at runtime.\n",
      "  warnings.warn(warn_msg)\n",
      "/home/ajt6830/miniconda3/envs/pysr_env/lib/python3.11/site-packages/pysr/sr.py:2217: UserWarning: The discovered expressions are being reset. Please set `warm_start=True` if you wish to continue to start a search where you left off.\n",
      "  warnings.warn(\n",
      "/home/ajt6830/miniconda3/envs/pysr_env/lib/python3.11/site-packages/pysr/sr.py:2811: UserWarning: Note: it looks like you are running in Jupyter. The progress bar will be turned off.\n",
      "  warnings.warn(\n"
     ]
    },
    {
     "name": "stdout",
     "output_type": "stream",
     "text": [
      "  - outputs/20250702_121608_kAAQkE/hall_of_fame.csv\n",
      "───────────────────────────────────────────────────────────────────────────────────────────────────\n",
      "Complexity  Loss       Score      Equation\n",
      "1           1.299e-02  0.000e+00  y = 0.17399\n",
      "3           5.630e-03  4.181e-01  y = x₁ * 0.034504\n",
      "4           4.103e-03  3.165e-01  y = sqrt(x₁) * 0.096386\n",
      "5           3.741e-03  9.228e-02  y = square(cbrt(x₁ * -0.018896))\n",
      "7           8.150e-04  7.620e-01  y = sqrt(x₁ * inv(x₀ + -207.83))\n",
      "9           6.921e-04  8.172e-02  y = sqrt((x₁ + 0.60526) * inv(x₀ + -207.83))\n",
      "10          6.745e-04  2.581e-02  y = inv(sqrt(-207.83 + x₀)) * sqrt(x₁ + 0.44919)\n",
      "11          4.922e-04  3.151e-01  y = cube(inv(((cbrt(x₀) + inv(x₁)) * 0.51365) + -2.0059))\n",
      "13          2.521e-04  3.345e-01  y = inv(cube((cbrt(x₀) * 0.4834) + (inv(x₁ + 0.74916) + -1...\n",
      "                                      .8727)))\n",
      "14          1.958e-04  2.525e-01  y = inv(cube((inv(inv(x₁) + x₁) + -1.8737) + (cbrt(x₀) * 0...\n",
      "                                      .48235)))\n",
      "15          1.802e-04  8.296e-02  y = cube(inv((cbrt(x₀ * 0.11141) + -1.8725) + inv(x₁ + inv...\n",
      "                                      (square(x₁)))))\n",
      "16          1.706e-04  5.475e-02  y = inv(cube((inv(inv(x₁) + (x₁ - 0.16115)) + cbrt(x₀ * 0....\n",
      "                                      099846)) + -1.7582))\n",
      "24          1.677e-04  2.152e-03  y = inv(cube((inv(x₁ + ((x₁ + sqrt(x₁)) * inv(1.184 + (x₁ ...\n",
      "                                      * cube(x₁))))) + (0.47703 * cbrt(x₀))) + -1.8456))\n",
      "25          1.667e-04  6.036e-03  y = inv(cube(((cbrt(x₀) * 0.4771) + -1.8456) + inv(x₁ + ((...\n",
      "                                      x₁ + (x₁ + -0.10451)) * inv((x₁ * cube(x₁)) + 1.184)))))\n",
      "26          1.529e-04  8.639e-02  y = (cube(inv(((cbrt(x₀) * 0.5165) + inv(inv((x₁ * ((x₁ - ...\n",
      "                                      0.025306) * x₁)) + 0.37233) + x₁)) + -1.6474)) * 2.4566) -...\n",
      "                                       0.029974\n",
      "───────────────────────────────────────────────────────────────────────────────────────────────────\n",
      "Current Prediction Average Error (%): 0.9806022092049923\n",
      "Best Prediction Average Error (%): 0.5157951559137864\n",
      "Current Model Formula: (0.48235294*Abs(x0)**(1/3)*sign(x0) - 1.8736587 + 1/(x1 + 1/x1))**(-3)\n"
     ]
    },
    {
     "name": "stderr",
     "output_type": "stream",
     "text": [
      "[ Info: Started!\n",
      "[ Info: Final population:\n",
      "[ Info: Results saved to:\n",
      "/home/ajt6830/miniconda3/envs/pysr_env/lib/python3.11/site-packages/pysr/sr.py:2217: UserWarning: The discovered expressions are being reset. Please set `warm_start=True` if you wish to continue to start a search where you left off.\n",
      "  warnings.warn(\n",
      "/home/ajt6830/miniconda3/envs/pysr_env/lib/python3.11/site-packages/pysr/sr.py:2811: UserWarning: Note: it looks like you are running in Jupyter. The progress bar will be turned off.\n",
      "  warnings.warn(\n"
     ]
    },
    {
     "name": "stdout",
     "output_type": "stream",
     "text": [
      "  - outputs/20250702_121614_cGCs71/hall_of_fame.csv\n"
     ]
    },
    {
     "name": "stderr",
     "output_type": "stream",
     "text": [
      "[ Info: Started!\n",
      "[ Info: Final population:\n",
      "[ Info: Results saved to:\n"
     ]
    },
    {
     "name": "stdout",
     "output_type": "stream",
     "text": [
      "───────────────────────────────────────────────────────────────────────────────────────────────────\n",
      "Complexity  Loss       Score      Equation\n",
      "1           1.299e-02  0.000e+00  y = 0.17399\n",
      "3           5.630e-03  4.181e-01  y = x₁ * 0.034503\n",
      "4           4.103e-03  3.165e-01  y = sqrt(x₁) * 0.096387\n",
      "5           3.741e-03  9.228e-02  y = cbrt(square(x₁)) * 0.070941\n",
      "7           9.451e-04  6.879e-01  y = (inv(x₀) * 32.505) * sqrt(x₁)\n",
      "8           8.762e-04  7.564e-02  y = ((x₀ * -0.00031893) + 0.2073) * sqrt(x₁)\n",
      "9           6.573e-04  2.874e-01  y = sqrt(x₁) * inv((x₀ * 0.045575) + -4.5039)\n",
      "11          3.772e-04  2.777e-01  y = sqrt(x₁ + 0.84342) * inv((x₀ * 0.049617) + -5.183)\n",
      "14          1.813e-04  2.443e-01  y = sqrt(inv(x₀) * (inv(x₀) * ((x₁ - -4.6659) * 1201.7))) ...\n",
      "                                      - 0.10862\n",
      "16          1.706e-04  3.028e-02  y = sqrt((inv(x₁ + x₀) * inv(x₀)) * (1356.5 * (x₁ - -4.16)...\n",
      "                                      )) - 0.11483\n",
      "18          1.681e-04  7.481e-03  y = sqrt(sqrt(square(inv(x₀) * (((x₁ - -4.2422) * inv(x₀ +...\n",
      "                                       x₁)) * 1315)))) - 0.11185\n",
      "19          1.551e-04  8.003e-02  y = sqrt(inv(x₀) * (3.0287e+05 * ((inv(x₀) * (x₁ - -2.3751...\n",
      "                                      )) * inv(x₁ + x₀)))) + -0.032033\n",
      "21          1.466e-04  2.844e-02  y = sqrt(inv(x₀) * (((inv(x₁ + (x₁ + x₀)) * 3.0287e+05) * ...\n",
      "                                      inv(x₀)) * (x₁ - -2.2355))) + -0.028008\n",
      "22          9.115e-05  4.749e-01  y = -0.034713 + sqrt(((-3.5598e+05 * (inv(x₀) * (-1.7525 -...\n",
      "                                       x₁))) * inv(x₀)) * inv((x₁ * sqrt(x₁)) + x₀))\n",
      "24          9.092e-05  1.272e-03  y = square(sqrt(sqrt(inv((x₁ * sqrt(x₁)) + x₀) * (((inv(x₀...\n",
      "                                      ) * inv(x₀)) * (-1.7832 - x₁)) * -3.5598e+05)))) + -0.0348...\n",
      "                                      71\n",
      "25          8.915e-05  1.973e-02  y = sqrt(sqrt(square(inv(x₀ + ((x₁ + -0.53321) * 7.8019)) ...\n",
      "                                      * ((inv(x₀) * ((x₁ - -1.4088) * -4.2172e+05)) * inv(x₀))))...\n",
      "                                      ) + -0.038063\n",
      "26          8.576e-05  3.868e-02  y = sqrt((inv(x₀ + ((x₁ + -1.6114) + (sqrt(x₁) * x₁))) * (...\n",
      "                                      (-1.6929 - x₁) * inv(x₀))) * (-3.6489e+05 * inv(x₀))) + -0...\n",
      "                                      .034258\n",
      "28          8.573e-05  1.723e-04  y = sqrt((((inv(x₁ + (((x₁ * sqrt(x₁)) + -1.6114) + x₀)) *...\n",
      "                                       (-1.6929 - (x₁ + -0.00083614))) * inv(x₀)) * -3.6489e+05)...\n",
      "                                       * inv(x₀)) + -0.034412\n",
      "───────────────────────────────────────────────────────────────────────────────────────────────────\n",
      "Current Prediction Average Error (%): 0.5919849180362904\n",
      "Best Prediction Average Error (%): 0.5157951559137864\n",
      "Current Model Formula: 596.637796322023*sqrt(-(-x1 - 1.7524629)/(x0**2*(x0 + x1**(3/2)))) - 0.034713406\n"
     ]
    },
    {
     "name": "stderr",
     "output_type": "stream",
     "text": [
      "/home/ajt6830/miniconda3/envs/pysr_env/lib/python3.11/site-packages/pysr/sr.py:1270: UserWarning: `extra_sympy_mappings` cannot be pickled and will be removed from the serialized instance. When loading the model, please redefine `extra_sympy_mappings` at runtime.\n",
      "  warnings.warn(warn_msg)\n",
      "/home/ajt6830/miniconda3/envs/pysr_env/lib/python3.11/site-packages/pysr/sr.py:2217: UserWarning: The discovered expressions are being reset. Please set `warm_start=True` if you wish to continue to start a search where you left off.\n",
      "  warnings.warn(\n",
      "/home/ajt6830/miniconda3/envs/pysr_env/lib/python3.11/site-packages/pysr/sr.py:2811: UserWarning: Note: it looks like you are running in Jupyter. The progress bar will be turned off.\n",
      "  warnings.warn(\n"
     ]
    },
    {
     "name": "stdout",
     "output_type": "stream",
     "text": [
      "  - outputs/20250702_121619_fAFoAF/hall_of_fame.csv\n"
     ]
    },
    {
     "name": "stderr",
     "output_type": "stream",
     "text": [
      "[ Info: Started!\n",
      "[ Info: Final population:\n",
      "[ Info: Results saved to:\n"
     ]
    },
    {
     "name": "stdout",
     "output_type": "stream",
     "text": [
      "───────────────────────────────────────────────────────────────────────────────────────────────────\n",
      "Complexity  Loss       Score      Equation\n",
      "1           1.299e-02  0.000e+00  y = 0.17398\n",
      "3           5.630e-03  4.181e-01  y = x₁ * 0.034504\n",
      "4           4.103e-03  3.165e-01  y = sqrt(x₁) * 0.096383\n",
      "5           3.732e-03  9.469e-02  y = inv(square(x₀)) * 22636\n",
      "6           3.479e-03  7.017e-02  y = (inv(x₀) * 139.04) - 0.20417\n",
      "7           9.451e-04  1.303e+00  y = (inv(x₀) * 32.505) * sqrt(x₁)\n",
      "8           1.796e-04  1.660e+00  y = cbrt(x₁) * (inv(square(x₀)) * 13788)\n",
      "10          1.317e-04  1.553e-01  y = (cbrt(x₁) * square(inv(-37.86 - x₀))) * 17524\n",
      "12          1.038e-04  1.190e-01  y = ((cbrt(x₁) * inv(square(x₀ + 63.439))) * 21332) - 0.01...\n",
      "                                      298\n",
      "14          9.910e-05  2.301e-02  y = (inv(square((x₁ * 2.7226) + x₀)) * sqrt(x₁ + 0.48586))...\n",
      "                                       * 11166\n",
      "15          9.910e-05  2.152e-05  y = (11166 * sqrt(x₁ + inv(2.0456))) * inv(square(x₀ + (2....\n",
      "                                      7226 * x₁)))\n",
      "16          9.849e-05  6.184e-03  y = ((sqrt(x₁ + 0.44028) * 11166) * square(inv(x₀ + (x₁ * ...\n",
      "                                      2.7355)))) - -0.0015912\n",
      "18          9.632e-05  1.112e-02  y = sqrt(x₁ + 0.38989) * ((x₀ - -11166) * square(inv(((x₁ ...\n",
      "                                      * 2.8756) + x₀) + 1.3104)))\n",
      "19          9.573e-05  6.178e-03  y = inv(square(x₀ + (x₁ * 2.7913))) * (((0.080647 - inv(x₁...\n",
      "                                       * -7.1383)) + sqrt(x₁)) * 11166)\n",
      "20          9.487e-05  8.973e-03  y = (square(inv(x₀ + (x₁ * 2.6458))) * sqrt((x₁ - cube(inv...\n",
      "                                      (x₁ * -1.8355))) + 0.3946)) * 11166\n",
      "21          8.895e-05  6.443e-02  y = square(inv(x₀ + (x₁ * 2.7965))) * ((sqrt(x₁ - cube(inv...\n",
      "                                      (square(x₁) * -1.4231))) + 0.11077) * 11166)\n",
      "22          7.002e-05  2.393e-01  y = sqrt((x₁ - inv(cube(x₁ * -2.16) + x₀)) + 0.57217) * (i...\n",
      "                                      nv(square(x₀ + (x₁ * 2.7751))) * 11166)\n",
      "24          6.956e-05  3.285e-03  y = sqrt((x₁ - inv((cube(x₁ * -2.16) - 0.037141) + x₀)) + ...\n",
      "                                      0.57217) * (inv(square(x₀ + (x₁ * 2.7751))) * 11166)\n",
      "26          5.666e-05  1.026e-01  y = ((square(inv(x₀ + (x₁ * 2.7773))) * 11166) * sqrt((0.4...\n",
      "                                      3539 - inv(cube(x₁ * -1.926) + (x₀ * 0.70783))) + x₁)) - -...\n",
      "                                      0.0032708\n",
      "28          5.564e-05  9.086e-03  y = ((square(inv(x₀ + (x₁ * 2.7773))) * sqrt(0.43539 + (x₁...\n",
      "                                       - (1.1036 * inv(cube(x₁ * -1.926) + (x₀ * 0.70783)))))) *...\n",
      "                                       11166) - -0.0032708\n",
      "30          5.538e-05  2.272e-03  y = square(sqrt(sqrt((x₁ + 0.45721) - inv((cube(x₁ * -1.85...\n",
      "                                      21) + (x₀ * 0.63105)) * 0.70933)) * ((square(inv(x₀ + (x₁ ...\n",
      "                                      * 2.6881))) * 11166) - -0.00090959)))\n",
      "───────────────────────────────────────────────────────────────────────────────────────────────────\n",
      "Current Prediction Average Error (%): 0.48067222392531395\n",
      "Best Prediction Average Error (%): 0.5157951559137864\n",
      "Current Model Formula: 11166.248*sqrt(x1 + 0.5721734 - 1/(x0 - 10.0774020700577*x1**3))/(x0 + 2.7750654*x1)**2\n"
     ]
    },
    {
     "name": "stderr",
     "output_type": "stream",
     "text": [
      "/home/ajt6830/miniconda3/envs/pysr_env/lib/python3.11/site-packages/pysr/sr.py:1270: UserWarning: `extra_sympy_mappings` cannot be pickled and will be removed from the serialized instance. When loading the model, please redefine `extra_sympy_mappings` at runtime.\n",
      "  warnings.warn(warn_msg)\n",
      "/home/ajt6830/miniconda3/envs/pysr_env/lib/python3.11/site-packages/pysr/sr.py:2217: UserWarning: The discovered expressions are being reset. Please set `warm_start=True` if you wish to continue to start a search where you left off.\n",
      "  warnings.warn(\n",
      "/home/ajt6830/miniconda3/envs/pysr_env/lib/python3.11/site-packages/pysr/sr.py:2811: UserWarning: Note: it looks like you are running in Jupyter. The progress bar will be turned off.\n",
      "  warnings.warn(\n"
     ]
    },
    {
     "name": "stdout",
     "output_type": "stream",
     "text": [
      "  - outputs/20250702_121625_y1wXjX/hall_of_fame.csv\n"
     ]
    },
    {
     "name": "stderr",
     "output_type": "stream",
     "text": [
      "[ Info: Started!\n",
      "[ Info: Final population:\n",
      "[ Info: Results saved to:\n"
     ]
    },
    {
     "name": "stdout",
     "output_type": "stream",
     "text": [
      "───────────────────────────────────────────────────────────────────────────────────────────────────\n",
      "Complexity  Loss       Score      Equation\n",
      "1           1.299e-02  0.000e+00  y = 0.17399\n",
      "3           5.630e-03  4.181e-01  y = x₁ * 0.034504\n",
      "4           4.103e-03  3.165e-01  y = sqrt(x₁ * 0.0092904)\n",
      "5           3.741e-03  9.228e-02  y = square(cbrt(x₁ * -0.018896))\n",
      "6           3.479e-03  7.258e-02  y = (inv(x₀) * 139.03) + -0.20415\n",
      "7           9.451e-04  1.303e+00  y = (sqrt(x₁) * 32.505) * inv(x₀)\n",
      "9           7.613e-04  1.081e-01  y = sqrt(x₁ * 750.71) * inv(x₀ + -50.86)\n",
      "11          1.818e-04  7.161e-01  y = ((inv(x₀) * 35.426) * sqrt(x₁ - -4.1946)) - 0.10684\n",
      "15          1.669e-04  2.140e-02  y = (inv((cbrt(x₀ * 0.21724) + sqrt(inv(x₁))) + -3.3614) *...\n",
      "                                       0.45345) - 0.13578\n",
      "17          1.653e-04  4.567e-03  y = (inv((inv(sqrt(x₁)) + -3.3379) + cbrt((x₀ * 0.23196) -...\n",
      "                                       3.7623)) * 0.46831) - 0.13623\n",
      "18          1.592e-04  3.773e-02  y = (inv(cbrt((x₀ * 0.25679) - sqrt(x₁)) + (sqrt(inv(x₁)) ...\n",
      "                                      + -3.3295)) * 0.58355) - 0.16642\n",
      "19          1.487e-04  6.804e-02  y = (inv((cbrt((x₀ - x₁) * 0.25648) + sqrt(inv(x₁ + 0.1035...\n",
      "                                      5))) + -3.3294) * 0.58329) - 0.16742\n",
      "20          1.030e-04  3.676e-01  y = (inv((sqrt(inv(x₁)) + cbrt((x₀ * 0.18035) - inv(x₁ + -...\n",
      "                                      0.83573))) + -3.1639) * 0.43851) - 0.14379\n",
      "21          1.012e-04  1.730e-02  y = (inv((cbrt((x₀ * 0.19669) - inv(cube(x₁ + -0.44616))) ...\n",
      "                                      + sqrt(inv(x₁))) + -3.2662) * 0.44185) - 0.14195\n",
      "───────────────────────────────────────────────────────────────────────────────────────────────────\n",
      "Current Prediction Average Error (%): 0.6357250739823793\n",
      "Best Prediction Average Error (%): 0.48067222392531395\n",
      "Current Model Formula: -0.14379433 + 0.4385131/(sqrt(1/x1) + Abs(0.18035299*x0 - 1/(x1 - 0.8357302))**(1/3)*sign(0.18035299*x0 - 1/(x1 - 0.8357302)) - 3.1638663)\n"
     ]
    },
    {
     "name": "stderr",
     "output_type": "stream",
     "text": [
      "/home/ajt6830/miniconda3/envs/pysr_env/lib/python3.11/site-packages/pysr/sr.py:1270: UserWarning: `extra_sympy_mappings` cannot be pickled and will be removed from the serialized instance. When loading the model, please redefine `extra_sympy_mappings` at runtime.\n",
      "  warnings.warn(warn_msg)\n",
      "/home/ajt6830/miniconda3/envs/pysr_env/lib/python3.11/site-packages/pysr/sr.py:2217: UserWarning: The discovered expressions are being reset. Please set `warm_start=True` if you wish to continue to start a search where you left off.\n",
      "  warnings.warn(\n",
      "/home/ajt6830/miniconda3/envs/pysr_env/lib/python3.11/site-packages/pysr/sr.py:2811: UserWarning: Note: it looks like you are running in Jupyter. The progress bar will be turned off.\n",
      "  warnings.warn(\n"
     ]
    },
    {
     "name": "stdout",
     "output_type": "stream",
     "text": [
      "  - outputs/20250702_121631_dhYRMK/hall_of_fame.csv\n",
      "───────────────────────────────────────────────────────────────────────────────────────────────────\n",
      "Complexity  Loss       Score      Equation\n",
      "1           1.299e-02  0.000e+00  y = 0.17398\n",
      "3           5.630e-03  4.181e-01  y = x₁ * 0.034504\n",
      "4           4.103e-03  3.165e-01  y = sqrt(x₁) * 0.096387\n",
      "5           3.732e-03  9.469e-02  y = square(inv(x₀) * 150.45)\n",
      "7           9.451e-04  6.867e-01  y = inv(x₀) * sqrt(x₁ * 1056.6)\n",
      "9           1.032e-04  1.107e+00  y = ((75.137 * inv(x₀)) - 0.095023) * cbrt(x₁)\n",
      "11          1.032e-04  4.470e-07  y = ((inv(x₀) * 75.137) - 0.095023) * square(cbrt(sqrt(x₁)...\n",
      "                                      ))\n",
      "19          1.020e-04  1.432e-03  y = cube(sqrt(sqrt(((219.42 * inv(x₀)) - 0.28574) * sqrt((...\n",
      "                                      x₁ - -0.32596) * inv(x₀ * 0.12645)))))\n",
      "21          1.017e-04  1.455e-03  y = sqrt(sqrt(cube(sqrt((x₁ - -0.32596) * inv((x₀ * 0.1264...\n",
      "                                      5) - 0.2163)) * ((inv(x₀) * 219.42) - 0.28574))))\n",
      "22          9.617e-05  5.590e-02  y = cube(sqrt(sqrt(((219.42 * inv(x₀)) - 0.28193) * sqrt(x...\n",
      "                                      ₁ * inv((x₀ * 0.11664) - cube(-0.096288 * x₁))))))\n",
      "24          8.881e-05  3.982e-02  y = cube(sqrt(sqrt(((inv(x₀) * 219.42) - 0.28515) * sqrt(i...\n",
      "                                      nv(((x₁ + inv(0.98476 - x₁)) + x₀) * 0.11568) * x₁))))\n",
      "26          8.545e-05  1.932e-02  y = sqrt(sqrt(cube(((inv(x₀) * 219.42) - 0.28692) * sqrt(x...\n",
      "                                      ₁ * inv((((x₁ + x₁) + x₀) + inv(0.98329 - x₁)) * 0.11223))...\n",
      "                                      )))\n",
      "27          8.516e-05  3.350e-03  y = sqrt(sqrt(cube(((inv(x₀) * 219.42) - 0.28692) * sqrt(x...\n",
      "                                      ₁ * inv(0.11223 * (((x₁ + inv(0.98329 - cbrt(x₁))) + x₁) +...\n",
      "                                       x₀))))))\n",
      "28          8.478e-05  4.520e-03  y = sqrt(cube(sqrt(((inv(x₀) * 219.42) - 0.28637) * sqrt(x...\n",
      "                                      ₁ * inv(((((x₀ + x₁) + x₁) + inv(0.98237 - x₁)) * 0.11536)...\n",
      "                                       + -0.90734)))))\n",
      "30          8.454e-05  1.388e-03  y = sqrt(cube(sqrt(((inv(x₀) * 219.42) - 0.28556) * sqrt(i...\n",
      "                                      nv(((((x₀ + inv(0.98269 - x₁)) + (x₁ + x₁)) + -0.90727) * ...\n",
      "                                      0.11581) + -0.90736) * x₁))))\n",
      "───────────────────────────────────────────────────────────────────────────────────────────────────\n"
     ]
    },
    {
     "name": "stderr",
     "output_type": "stream",
     "text": [
      "[ Info: Started!\n",
      "[ Info: Final population:\n",
      "[ Info: Results saved to:\n"
     ]
    },
    {
     "name": "stdout",
     "output_type": "stream",
     "text": [
      "Current Prediction Average Error (%): 0.6162896812912281\n",
      "Best Prediction Average Error (%): 0.48067222392531395\n",
      "Current Model Formula: (-0.09502266 + 75.13727/x0)*Abs(x1)**(1/3)*sign(x1)\n"
     ]
    },
    {
     "name": "stderr",
     "output_type": "stream",
     "text": [
      "/home/ajt6830/miniconda3/envs/pysr_env/lib/python3.11/site-packages/pysr/sr.py:1270: UserWarning: `extra_sympy_mappings` cannot be pickled and will be removed from the serialized instance. When loading the model, please redefine `extra_sympy_mappings` at runtime.\n",
      "  warnings.warn(warn_msg)\n",
      "/home/ajt6830/miniconda3/envs/pysr_env/lib/python3.11/site-packages/pysr/sr.py:2217: UserWarning: The discovered expressions are being reset. Please set `warm_start=True` if you wish to continue to start a search where you left off.\n",
      "  warnings.warn(\n",
      "/home/ajt6830/miniconda3/envs/pysr_env/lib/python3.11/site-packages/pysr/sr.py:2811: UserWarning: Note: it looks like you are running in Jupyter. The progress bar will be turned off.\n",
      "  warnings.warn(\n",
      "[ Info: Started!\n"
     ]
    },
    {
     "name": "stdout",
     "output_type": "stream",
     "text": [
      "  - outputs/20250702_121636_xVtMat/hall_of_fame.csv\n",
      "───────────────────────────────────────────────────────────────────────────────────────────────────\n",
      "Complexity  Loss       Score      Equation\n",
      "1           1.299e-02  0.000e+00  y = 0.17399\n",
      "3           5.630e-03  4.181e-01  y = x₁ * 0.034503\n",
      "4           4.103e-03  3.165e-01  y = sqrt(x₁) * 0.096386\n",
      "5           3.732e-03  9.469e-02  y = inv(square(x₀)) * 22636\n",
      "6           3.479e-03  7.017e-02  y = (inv(x₀) * 139.03) + -0.20415\n",
      "7           9.451e-04  1.303e+00  y = sqrt(x₁ * 1056.6) * inv(x₀)\n",
      "9           8.404e-04  5.869e-02  y = (sqrt(x₁ + 0.63321) * inv(x₀)) * 30.602\n",
      "10          3.747e-04  8.076e-01  y = ((inv(x₀) * (-19.464 - x₁)) + 0.030412) * -4.8645\n",
      "12          1.702e-04  3.947e-01  y = ((inv(x₀) * (-5.0116 - cbrt(square(x₁)))) * -13.789) +...\n",
      "                                       -0.11125\n",
      "14          1.393e-04  1.000e-01  y = (-3.9372 - x₁) * ((cbrt(square(x₁)) + -15.464) * (inv(...\n",
      "                                      x₀) + -0.0010949))\n",
      "16          1.087e-04  1.244e-01  y = sqrt(cube(((square(cbrt(x₁)) + -13.92) * (-6.9526 - x₁...\n",
      "                                      )) * inv(x₀))) + -0.034392\n",
      "19          1.083e-04  1.122e-03  y = sqrt(cube(((square(cbrt(x₁)) + -13.92) * ((-6.9526 - x...\n",
      "                                      ₁) + inv(x₀))) * inv(x₀))) + -0.034392\n",
      "20          1.017e-04  6.253e-02  y = cube(sqrt((-7.0583 - x₁) * (inv(x₀) * (square(cbrt((x₁...\n",
      "                                       - -0.88959) + -0.27676)) + -13.999)))) + -0.03409\n",
      "21          1.001e-04  1.656e-02  y = -0.034392 + cube(sqrt((square(cbrt((x₁ - 0.1452) + inv...\n",
      "                                      (x₁))) + -13.92) * (inv(x₀) * (-6.9526 - x₁))))\n",
      "23          9.783e-05  1.123e-02  y = cube(sqrt(inv(x₀) * ((square(cbrt(x₁)) + -13.92) * (-6...\n",
      "                                      .9526 - (x₁ - inv(2.1017 * (x₁ + x₁))))))) + -0.034392\n",
      "29          9.119e-05  1.172e-02  y = cube(sqrt(((square(cbrt((x₁ - 0.12128) + inv(x₁))) + -...\n",
      "                                      13.796) * ((-6.9544 - x₁) - (inv(square(x₀)) * (x₀ - -27.4...\n",
      "                                      6)))) * inv(x₀))) + -0.029519\n",
      "───────────────────────────────────────────────────────────────────────────────────────────────────\n"
     ]
    },
    {
     "name": "stderr",
     "output_type": "stream",
     "text": [
      "[ Info: Final population:\n",
      "[ Info: Results saved to:\n"
     ]
    },
    {
     "name": "stdout",
     "output_type": "stream",
     "text": [
      "Current Prediction Average Error (%): 0.7352086801524128\n",
      "Best Prediction Average Error (%): 0.48067222392531395\n",
      "Current Model Formula: sqrt((-x1 - 6.952578)**3*(Abs(x1)**(2/3)*sign(x1)**2 - 13.920121)**3/x0**3) - 0.03439197\n",
      "  - outputs/20250702_121641_GS9D5B/hall_of_fame.csv\n"
     ]
    },
    {
     "name": "stderr",
     "output_type": "stream",
     "text": [
      "/home/ajt6830/miniconda3/envs/pysr_env/lib/python3.11/site-packages/pysr/sr.py:2217: UserWarning: The discovered expressions are being reset. Please set `warm_start=True` if you wish to continue to start a search where you left off.\n",
      "  warnings.warn(\n",
      "/home/ajt6830/miniconda3/envs/pysr_env/lib/python3.11/site-packages/pysr/sr.py:2811: UserWarning: Note: it looks like you are running in Jupyter. The progress bar will be turned off.\n",
      "  warnings.warn(\n",
      "[ Info: Started!\n",
      "[ Info: Final population:\n",
      "[ Info: Results saved to:\n"
     ]
    },
    {
     "name": "stdout",
     "output_type": "stream",
     "text": [
      "───────────────────────────────────────────────────────────────────────────────────────────────────\n",
      "Complexity  Loss       Score      Equation\n",
      "1           1.299e-02  0.000e+00  y = 0.17399\n",
      "3           5.630e-03  4.181e-01  y = x₁ * 0.034504\n",
      "4           4.121e-03  3.121e-01  y = sqrt(x₁ * 0.008893)\n",
      "5           3.732e-03  9.914e-02  y = square(inv(x₀) * 150.45)\n",
      "6           3.479e-03  7.017e-02  y = (inv(x₀) * 139.03) - 0.20415\n",
      "7           9.451e-04  1.303e+00  y = inv(x₀) * sqrt(x₁ * 1056.6)\n",
      "8           1.796e-04  1.660e+00  y = cbrt(x₁) * square(inv(x₀) * -117.42)\n",
      "9           1.032e-04  5.544e-01  y = ((inv(x₀) * 75.139) - 0.095027) * cbrt(x₁)\n",
      "11          1.013e-04  9.176e-03  y = ((inv(x₀ + -9.6938) * 71.079) - 0.089528) * cbrt(x₁)\n",
      "13          1.004e-04  4.443e-03  y = (-0.036201 + cbrt(x₁)) * ((inv(x₀ - 1.9576) * 75.143) ...\n",
      "                                      - 0.093422)\n",
      "14          9.456e-05  6.000e-02  y = cbrt(x₁) * ((inv(inv(x₁ + -2.7434) + x₀) * 75.139) - 0...\n",
      "                                      .094982)\n",
      "15          7.957e-05  1.726e-01  y = cbrt(x₁) * ((inv(square(inv(x₁ + -2.7434)) + x₀) * 75....\n",
      "                                      139) - 0.094982)\n",
      "17          7.628e-05  2.110e-02  y = cbrt(x₁) * ((inv((inv(square(x₁ + -2.7434)) + x₀) + -1...\n",
      "                                      .4919) * 75.139) - 0.094982)\n",
      "───────────────────────────────────────────────────────────────────────────────────────────────────\n",
      "Current Prediction Average Error (%): 0.6162991530598977\n",
      "Best Prediction Average Error (%): 0.48067222392531395\n",
      "Current Model Formula: (-0.095026806 + 75.13879/x0)*Abs(x1)**(1/3)*sign(x1)\n"
     ]
    },
    {
     "name": "stderr",
     "output_type": "stream",
     "text": [
      "/home/ajt6830/miniconda3/envs/pysr_env/lib/python3.11/site-packages/pysr/sr.py:1270: UserWarning: `extra_sympy_mappings` cannot be pickled and will be removed from the serialized instance. When loading the model, please redefine `extra_sympy_mappings` at runtime.\n",
      "  warnings.warn(warn_msg)\n",
      "/home/ajt6830/miniconda3/envs/pysr_env/lib/python3.11/site-packages/pysr/sr.py:2217: UserWarning: The discovered expressions are being reset. Please set `warm_start=True` if you wish to continue to start a search where you left off.\n",
      "  warnings.warn(\n",
      "/home/ajt6830/miniconda3/envs/pysr_env/lib/python3.11/site-packages/pysr/sr.py:2811: UserWarning: Note: it looks like you are running in Jupyter. The progress bar will be turned off.\n",
      "  warnings.warn(\n"
     ]
    },
    {
     "name": "stdout",
     "output_type": "stream",
     "text": [
      "  - outputs/20250702_121647_OsYufY/hall_of_fame.csv\n",
      "───────────────────────────────────────────────────────────────────────────────────────────────────\n",
      "Complexity  Loss       Score      Equation\n",
      "1           1.299e-02  0.000e+00  y = 0.17399\n",
      "3           5.630e-03  4.181e-01  y = x₁ * 0.034504\n",
      "4           4.103e-03  3.165e-01  y = sqrt(x₁) * 0.096387\n",
      "5           3.732e-03  9.469e-02  y = inv(square(x₀)) * 22637\n",
      "6           3.479e-03  7.017e-02  y = (inv(x₀) * 139.03) + -0.20415\n",
      "7           9.451e-04  1.303e+00  y = inv(x₀) * sqrt(x₁ * 1056.5)\n",
      "9           6.582e-04  1.808e-01  y = inv(x₀ + -97.004) * sqrt(x₁ * 488.47)\n",
      "10          1.796e-04  1.299e+00  y = square(117.42 * inv(cbrt(x₁) * x₀)) * x₁\n",
      "12          1.317e-04  1.553e-01  y = square(inv((-34.664 - x₀) * cbrt(x₁)) * 131.09) * x₁\n",
      "14          1.124e-04  7.914e-02  y = x₁ * square(inv((cbrt(x₁) * (x₁ + x₀)) + 35.657) * 128...\n",
      "                                      .73)\n",
      "16          1.122e-04  8.944e-04  y = square(128.73 * inv((((x₀ + 0.36349) + x₁) * cbrt(x₁))...\n",
      "                                       + 35.643)) * x₁\n",
      "19          1.103e-04  5.738e-03  y = square(inv((cbrt(x₁) * (x₁ + (inv(x₁ + -1.0699) + x₀))...\n",
      "                                      ) + 32.143) * 127.99) * x₁\n",
      "20          1.096e-04  6.261e-03  y = x₁ * square(inv((cbrt(x₁) * ((x₀ + cbrt(inv(x₁ + -1.12...\n",
      "                                      36))) + x₁)) + 30.304) * 127.64)\n",
      "22          1.036e-04  2.800e-02  y = x₁ * square(inv(((inv(x₁ + (-2.5196 + cbrt(-0.015015))...\n",
      "                                      ) + (x₁ + x₀)) * cbrt(x₁)) + 25.386) * 126.45)\n",
      "23          1.014e-04  2.136e-02  y = square(inv((((x₀ + x₁) + inv((x₁ * x₁) + -1.0699)) * c...\n",
      "                                      brt(x₁)) + 32.143) * 127.99) * (x₁ - 0.051121)\n",
      "24          9.423e-05  7.358e-02  y = x₁ * square(inv(((inv((x₁ + -2.5196) + cbrt(x₁ * -0.01...\n",
      "                                      5015)) + (x₁ + x₀)) * cbrt(x₁)) + 25.386) * 126.45)\n",
      "26          8.827e-05  3.268e-02  y = x₁ * square(inv(((inv((x₁ + -2.5196) + cbrt((x₁ + 1.44...\n",
      "                                      77) * -0.015015)) + (x₁ + x₀)) * cbrt(x₁)) + 25.386) * 126...\n",
      "                                      .45)\n",
      "───────────────────────────────────────────────────────────────────────────────────────────────────\n",
      "Current Prediction Average Error (%): 0.7855651244334996\n",
      "Best Prediction Average Error (%): 0.48067222392531395\n",
      "Current Model Formula: 17184.5225550625*x1/((-x0 - 34.663635)**2*Abs(x1)**(2/3)*sign(x1)**2)\n"
     ]
    },
    {
     "name": "stderr",
     "output_type": "stream",
     "text": [
      "[ Info: Started!\n",
      "[ Info: Final population:\n",
      "[ Info: Results saved to:\n",
      "/home/ajt6830/miniconda3/envs/pysr_env/lib/python3.11/site-packages/pysr/sr.py:2217: UserWarning: The discovered expressions are being reset. Please set `warm_start=True` if you wish to continue to start a search where you left off.\n",
      "  warnings.warn(\n",
      "/home/ajt6830/miniconda3/envs/pysr_env/lib/python3.11/site-packages/pysr/sr.py:2811: UserWarning: Note: it looks like you are running in Jupyter. The progress bar will be turned off.\n",
      "  warnings.warn(\n"
     ]
    },
    {
     "name": "stdout",
     "output_type": "stream",
     "text": [
      "  - outputs/20250702_121652_Svp794/hall_of_fame.csv\n",
      "───────────────────────────────────────────────────────────────────────────────────────────────────\n",
      "Complexity  Loss       Score      Equation\n",
      "1           1.299e-02  0.000e+00  y = 0.17398\n",
      "3           5.630e-03  4.181e-01  y = x₁ * 0.034504\n",
      "4           4.103e-03  3.165e-01  y = sqrt(x₁) * 0.096387\n",
      "5           3.732e-03  9.469e-02  y = inv(square(x₀)) * 22636\n",
      "6           3.479e-03  7.017e-02  y = (inv(x₀) * 139.03) + -0.20415\n",
      "7           3.029e-03  1.384e-01  y = cbrt(inv(x₀) * (x₁ + -0.7945))\n",
      "8           7.005e-04  1.464e+00  y = (x₀ + -621.88) * (cbrt(x₁) * -0.0004793)\n",
      "9           2.721e-04  9.457e-01  y = cube(sqrt(inv(x₀) * 85.441)) * cbrt(x₁)\n",
      "11          1.146e-04  4.323e-01  y = (cbrt(x₁) * cube(sqrt(inv(x₀) * 91.393))) - 0.025359\n",
      "13          1.146e-04  1.682e-04  y = (cbrt(x₁) * cube(sqrt(inv(x₀ - 0.27928) * 91.393))) - ...\n",
      "                                      0.02536\n",
      "14          1.128e-04  1.586e-02  y = (cbrt(x₁) * sqrt(cube(inv(x₀ - inv(x₁)) * 91.393))) - ...\n",
      "                                      0.02536\n",
      "15          1.123e-04  3.790e-03  y = (cbrt(x₁) * sqrt(cube(inv(x₀ - inv(cube(x₁))) * 91.393...\n",
      "                                      ))) - 0.02536\n",
      "16          1.096e-04  2.452e-02  y = (cbrt(0.088852 + x₁) * sqrt(cube(inv(x₀ - inv(x₁)) * 9...\n",
      "                                      1.393))) - 0.02536\n",
      "24          1.075e-04  2.475e-03  y = (inv(x₀) * ((cube(square(sqrt(sqrt(sqrt(sqrt(x₁) * x₁)...\n",
      "                                      ) * 0.33918) + 2.3041)) * cbrt(inv(x₀))) * 0.72597)) + -0....\n",
      "                                      054288\n",
      "26          1.062e-04  5.692e-03  y = ((inv(x₀) + -0.0001852) * ((cbrt(inv(x₀)) * 0.73208) *...\n",
      "                                       cube(square(sqrt(sqrt(sqrt(x₁ * sqrt(x₁))) * 0.3686) + 2....\n",
      "                                      279)))) + -0.044829\n",
      "27          1.048e-04  1.380e-02  y = (sqrt(cube(inv(x₀ - cube(inv(sqrt(cube(sqrt((x₀ - 0.48...\n",
      "                                      27) * cbrt(x₁)) * 0.12888)) * 0.15381))) * 91.38)) * cbrt(...\n",
      "                                      x₁)) - 0.027726\n",
      "───────────────────────────────────────────────────────────────────────────────────────────────────\n"
     ]
    },
    {
     "name": "stderr",
     "output_type": "stream",
     "text": [
      "[ Info: Started!\n",
      "[ Info: Final population:\n",
      "[ Info: Results saved to:\n"
     ]
    },
    {
     "name": "stdout",
     "output_type": "stream",
     "text": [
      "Current Prediction Average Error (%): 0.6939932980186859\n",
      "Best Prediction Average Error (%): 0.48067222392531395\n",
      "Current Model Formula: 873.714283713887*(1/x0)**(3/2)*Abs(x1)**(1/3)*sign(x1) - 0.025359446\n"
     ]
    },
    {
     "name": "stderr",
     "output_type": "stream",
     "text": [
      "/home/ajt6830/miniconda3/envs/pysr_env/lib/python3.11/site-packages/pysr/sr.py:1270: UserWarning: `extra_sympy_mappings` cannot be pickled and will be removed from the serialized instance. When loading the model, please redefine `extra_sympy_mappings` at runtime.\n",
      "  warnings.warn(warn_msg)\n",
      "/home/ajt6830/miniconda3/envs/pysr_env/lib/python3.11/site-packages/pysr/sr.py:2217: UserWarning: The discovered expressions are being reset. Please set `warm_start=True` if you wish to continue to start a search where you left off.\n",
      "  warnings.warn(\n",
      "/home/ajt6830/miniconda3/envs/pysr_env/lib/python3.11/site-packages/pysr/sr.py:2811: UserWarning: Note: it looks like you are running in Jupyter. The progress bar will be turned off.\n",
      "  warnings.warn(\n"
     ]
    },
    {
     "name": "stdout",
     "output_type": "stream",
     "text": [
      "  - outputs/20250702_121657_tt7dsN/hall_of_fame.csv\n",
      "───────────────────────────────────────────────────────────────────────────────────────────────────\n",
      "Complexity  Loss       Score      Equation\n",
      "1           1.299e-02  0.000e+00  y = 0.17397\n",
      "3           5.630e-03  4.181e-01  y = x₁ * 0.034503\n",
      "4           4.103e-03  3.165e-01  y = sqrt(x₁) * 0.096387\n",
      "5           3.741e-03  9.228e-02  y = square(cbrt(x₁) * -0.26634)\n",
      "7           9.452e-04  6.879e-01  y = sqrt(x₁) * inv(x₀ * 0.030823)\n",
      "8           8.762e-04  7.580e-02  y = ((x₀ * -0.00031895) - -0.2073) * sqrt(x₁)\n",
      "9           6.847e-04  2.466e-01  y = sqrt(x₁) * inv((x₀ * 0.041521) - 3.2432)\n",
      "10          2.721e-04  9.230e-01  y = cbrt(x₁) * (inv(sqrt(x₀) * x₀) * 789.78)\n",
      "12          1.980e-04  1.590e-01  y = inv(-0.62367 + (x₀ * (sqrt(x₀) * 0.0013856))) * cbrt(x...\n",
      "                                      ₁)\n",
      "14          1.965e-04  3.676e-03  y = cbrt(x₁) * inv(((x₀ + -1.3349) * (sqrt(x₀) * 0.0013856...\n",
      "                                      )) + -0.62367)\n",
      "16          1.759e-04  5.540e-02  y = (inv((x₀ * (sqrt(x₀) * 0.0013856)) + -0.42311) * cbrt(...\n",
      "                                      x₁ * 1.1802)) + -0.014667\n",
      "───────────────────────────────────────────────────────────────────────────────────────────────────\n",
      "Current Prediction Average Error (%): 1.0456685009714075\n",
      "Best Prediction Average Error (%): 0.48067222392531395\n",
      "Current Model Formula: Abs(x1)**(1/3)*sign(x1)/(0.0013856131*x0**(3/2) - 0.62366676)\n"
     ]
    },
    {
     "name": "stderr",
     "output_type": "stream",
     "text": [
      "[ Info: Started!\n",
      "[ Info: Final population:\n",
      "[ Info: Results saved to:\n",
      "/home/ajt6830/miniconda3/envs/pysr_env/lib/python3.11/site-packages/pysr/sr.py:2217: UserWarning: The discovered expressions are being reset. Please set `warm_start=True` if you wish to continue to start a search where you left off.\n",
      "  warnings.warn(\n",
      "/home/ajt6830/miniconda3/envs/pysr_env/lib/python3.11/site-packages/pysr/sr.py:2811: UserWarning: Note: it looks like you are running in Jupyter. The progress bar will be turned off.\n",
      "  warnings.warn(\n"
     ]
    },
    {
     "name": "stdout",
     "output_type": "stream",
     "text": [
      "  - outputs/20250702_121702_ahwFpT/hall_of_fame.csv\n",
      "───────────────────────────────────────────────────────────────────────────────────────────────────\n",
      "Complexity  Loss       Score      Equation\n",
      "1           1.299e-02  0.000e+00  y = 0.174\n",
      "3           5.630e-03  4.181e-01  y = x₁ * 0.034504\n",
      "4           4.103e-03  3.165e-01  y = sqrt(x₁) * 0.096387\n",
      "5           3.770e-03  8.459e-02  y = (x₁ * 0.025812) - -0.065183\n",
      "7           1.010e-03  6.585e-01  y = inv(x₀ * 0.032019) * sqrt(x₁)\n",
      "8           6.991e-04  3.680e-01  y = ((x₀ * -0.00047183) + 0.29563) * cbrt(x₁)\n",
      "9           6.166e-04  1.255e-01  y = cbrt(x₁) * inv((x₀ * 0.028363) + -1.8658)\n",
      "10          1.914e-04  1.170e+00  y = cbrt(x₁) * (cbrt(inv(x₀ * 0.012393)) + -0.48797)\n",
      "12          1.167e-04  2.476e-01  y = cbrt(x₁) * (cbrt(inv((x₀ * 0.042614) + -4.1676)) + -0....\n",
      "                                      33207)\n",
      "14          1.166e-04  3.425e-04  y = (-0.33207 + inv(cbrt(((x₀ + 0.32512) * 0.042614) + -4....\n",
      "                                      1676))) * cbrt(x₁)\n",
      "15          1.011e-04  1.423e-01  y = (cbrt(inv((x₀ * 0.14547) + (cbrt(x₀) * -3.898))) + -0....\n",
      "                                      23084) * cbrt(x₁)\n",
      "17          9.964e-05  7.477e-03  y = (-0.23077 + inv(cbrt((-3.898 * cbrt(x₀)) + (0.14522 * ...\n",
      "                                      x₀)))) * cbrt(-0.034366 + x₁)\n",
      "22          9.362e-05  1.246e-02  y = cbrt(x₁) * (cbrt(inv((cbrt(x₀ + cbrt(x₀ * (-3.898 + x₁...\n",
      "                                      ))) * -3.898) + (x₀ * 0.14561))) + -0.23089)\n",
      "23          8.935e-05  4.662e-02  y = cbrt(x₁) * (cbrt(inv((cbrt(x₀ + cbrt(x₀ * cbrt(x₁ + -3...\n",
      "                                      .898))) * -3.898) + (x₀ * 0.14561))) + -0.23089)\n",
      "25          8.763e-05  9.735e-03  y = cbrt(x₁) * (-0.23089 + cbrt(inv((cbrt(x₀ + cbrt(x₀ * c...\n",
      "                                      brt((x₁ + -3.898) * x₀))) * -3.898) + (x₀ * 0.14561))))\n",
      "───────────────────────────────────────────────────────────────────────────────────────────────────\n",
      "Current Prediction Average Error (%): 0.7169453008801536\n",
      "Best Prediction Average Error (%): 0.48067222392531395\n"
     ]
    },
    {
     "name": "stderr",
     "output_type": "stream",
     "text": [
      "[ Info: Started!\n",
      "[ Info: Final population:\n",
      "[ Info: Results saved to:\n"
     ]
    },
    {
     "name": "stdout",
     "output_type": "stream",
     "text": [
      "Current Model Formula: (-0.33206862 + sign(1/(0.04261414*x0 - 4.167619))/Abs(0.04261414*x0 - 4.167619)**(1/3))*Abs(x1)**(1/3)*sign(x1)\n"
     ]
    },
    {
     "name": "stderr",
     "output_type": "stream",
     "text": [
      "/home/ajt6830/miniconda3/envs/pysr_env/lib/python3.11/site-packages/pysr/sr.py:1270: UserWarning: `extra_sympy_mappings` cannot be pickled and will be removed from the serialized instance. When loading the model, please redefine `extra_sympy_mappings` at runtime.\n",
      "  warnings.warn(warn_msg)\n",
      "/home/ajt6830/miniconda3/envs/pysr_env/lib/python3.11/site-packages/pysr/sr.py:2217: UserWarning: The discovered expressions are being reset. Please set `warm_start=True` if you wish to continue to start a search where you left off.\n",
      "  warnings.warn(\n",
      "/home/ajt6830/miniconda3/envs/pysr_env/lib/python3.11/site-packages/pysr/sr.py:2811: UserWarning: Note: it looks like you are running in Jupyter. The progress bar will be turned off.\n",
      "  warnings.warn(\n",
      "[ Info: Started!\n"
     ]
    },
    {
     "name": "stdout",
     "output_type": "stream",
     "text": [
      "  - outputs/20250702_121707_rqtrfu/hall_of_fame.csv\n",
      "───────────────────────────────────────────────────────────────────────────────────────────────────\n",
      "Complexity  Loss       Score      Equation\n",
      "1           1.299e-02  0.000e+00  y = 0.17398\n",
      "3           5.630e-03  4.181e-01  y = x₁ * 0.034504\n",
      "4           4.103e-03  3.165e-01  y = sqrt(x₁) * 0.096387\n",
      "5           3.741e-03  9.228e-02  y = square(cbrt(x₁)) * 0.070941\n",
      "6           3.479e-03  7.258e-02  y = (inv(x₀) * 139.03) + -0.20415\n",
      "7           9.451e-04  1.303e+00  y = (inv(x₀) * sqrt(x₁)) * 32.505\n",
      "9           8.740e-04  3.909e-02  y = cube((cbrt(x₁) + 2.4598) * cbrt(inv(x₀)))\n",
      "10          5.826e-04  4.056e-01  y = ((cbrt(x₁) + 3.9598) * cbrt(inv(x₀))) + -0.5835\n",
      "11          2.230e-04  9.602e-01  y = ((inv(x₀) * 32.986) * sqrt(x₁ + 5.2663)) + -0.10407\n",
      "12          2.228e-04  1.116e-03  y = sqrt(cube(((cbrt(x₁) + 6.0337) * inv(cbrt(x₀))) + -0.7...\n",
      "                                      4642))\n",
      "13          1.801e-04  2.126e-01  y = cube((inv(cbrt(x₀ + x₀)) * (cbrt(x₁) + 7.4287)) + -0.4...\n",
      "                                      4698)\n",
      "15          1.281e-04  1.705e-01  y = cube(((cbrt(x₁ + -0.57306) + 7.4205) * inv(cbrt(x₀ + x...\n",
      "                                      ₀))) + -0.43656)\n",
      "17          1.230e-04  2.011e-02  y = cube(cube(cbrt((inv(cbrt(x₀ + x₀)) * (cbrt(x₁) + 6.119...\n",
      "                                      3)) + -0.26137))) - 0.038356\n",
      "19          1.183e-04  1.975e-02  y = cube(cbrt(cube(((cbrt(x₁ - 0.67642) + 7.5045) * inv(cb...\n",
      "                                      rt((x₀ + x₁) + x₀))) + -0.43983)))\n",
      "26          1.089e-04  1.181e-02  y = cube((cbrt(inv(x₀ + x₀)) * (cbrt(x₁ + inv((-0.39304 + ...\n",
      "                                      -0.4341) - square((x₁ - 1.123) + cbrt(-1.552)))) + 7.3891)...\n",
      "                                      ) + -0.4341)\n",
      "28          1.045e-04  2.049e-02  y = cube(((cbrt(x₁ + inv(-0.83625 - square((x₁ - 1.1275) +...\n",
      "                                       cbrt(-1.5532 - (x₀ - x₀))))) + 7.39) * inv(cbrt(x₀ + x₀))...\n",
      "                                      ) + -0.43605)\n",
      "───────────────────────────────────────────────────────────────────────────────────────────────────\n"
     ]
    },
    {
     "name": "stderr",
     "output_type": "stream",
     "text": [
      "[ Info: Final population:\n",
      "[ Info: Results saved to:\n"
     ]
    },
    {
     "name": "stdout",
     "output_type": "stream",
     "text": [
      "Current Prediction Average Error (%): 0.6961305424787639\n",
      "Best Prediction Average Error (%): 0.48067222392531395\n",
      "Current Model Formula: (2**(2/3)*(Abs(x1 - 0.573057)**(1/3)*sign(x1 - 0.573057) + 7.420499)/(2*Abs(x0)**(1/3)*sign(x0)) - 0.43656275)**3\n"
     ]
    },
    {
     "name": "stderr",
     "output_type": "stream",
     "text": [
      "/home/ajt6830/miniconda3/envs/pysr_env/lib/python3.11/site-packages/pysr/sr.py:1270: UserWarning: `extra_sympy_mappings` cannot be pickled and will be removed from the serialized instance. When loading the model, please redefine `extra_sympy_mappings` at runtime.\n",
      "  warnings.warn(warn_msg)\n",
      "/home/ajt6830/miniconda3/envs/pysr_env/lib/python3.11/site-packages/pysr/sr.py:2217: UserWarning: The discovered expressions are being reset. Please set `warm_start=True` if you wish to continue to start a search where you left off.\n",
      "  warnings.warn(\n",
      "/home/ajt6830/miniconda3/envs/pysr_env/lib/python3.11/site-packages/pysr/sr.py:2811: UserWarning: Note: it looks like you are running in Jupyter. The progress bar will be turned off.\n",
      "  warnings.warn(\n"
     ]
    },
    {
     "name": "stdout",
     "output_type": "stream",
     "text": [
      "  - outputs/20250702_121713_SAwReT/hall_of_fame.csv\n"
     ]
    },
    {
     "name": "stderr",
     "output_type": "stream",
     "text": [
      "[ Info: Started!\n",
      "[ Info: Final population:\n",
      "[ Info: Results saved to:\n"
     ]
    },
    {
     "name": "stdout",
     "output_type": "stream",
     "text": [
      "───────────────────────────────────────────────────────────────────────────────────────────────────\n",
      "Complexity  Loss       Score      Equation\n",
      "1           1.299e-02  0.000e+00  y = 0.17399\n",
      "3           5.630e-03  4.181e-01  y = x₁ * 0.034504\n",
      "4           4.118e-03  3.129e-01  y = sqrt(x₁ * 0.0089299)\n",
      "5           3.732e-03  9.835e-02  y = square(inv(x₀) * 150.45)\n",
      "6           3.479e-03  7.017e-02  y = (inv(x₀) * 139.04) + -0.20416\n",
      "7           2.048e-03  5.298e-01  y = sqrt(x₁ * inv(x₀ * 0.30901))\n",
      "8           1.073e-03  6.464e-01  y = inv(x₀ * 0.16583) * (x₁ - -6.2695)\n",
      "10          4.122e-04  4.784e-01  y = (x₁ - -9.1132) * (inv(x₀ * 0.12909) - 0.0086681)\n",
      "12          3.897e-04  2.802e-02  y = inv(square(cbrt(sqrt(x₀ * 0.057327) - cbrt(x₁)))) - 0....\n",
      "                                      30943\n",
      "14          2.229e-04  2.793e-01  y = 1.5186 * (cbrt(inv(square(sqrt(x₀ * 0.081128) - cbrt(x...\n",
      "                                      ₁)))) - 0.29028)\n",
      "16          2.133e-04  2.194e-02  y = sqrt(square(1.5183 * (cbrt(inv(square(cbrt(x₁) - sqrt(...\n",
      "                                      0.081128 * x₀)))) - 0.29028)))\n",
      "18          1.387e-04  2.155e-01  y = inv(cbrt((square(sqrt(0.039264 * x₀) - cbrt(x₁)) - 0.9...\n",
      "                                      0075) + (x₀ * 0.0080066))) - 0.3504\n",
      "20          1.322e-04  2.395e-02  y = inv(cbrt((x₀ * 0.0080066) + (square(sqrt(-0.6877 + (x₀...\n",
      "                                       * 0.039264)) - cbrt(x₁)) - 0.78957))) - 0.35611\n",
      "22          1.295e-04  1.037e-02  y = inv(cbrt((((x₀ + 0.00084697) * 0.0081466) + square(cbr...\n",
      "                                      t(x₁) - sqrt((x₀ * 0.039267) + -0.6877))) - 0.78957)) - 0....\n",
      "                                      35611\n",
      "25          1.290e-04  1.116e-03  y = cbrt(inv(square(sqrt((x₀ * 0.039687) - inv((x₀ * 0.008...\n",
      "                                      541) - 1.0225)) - cbrt(x₁)) + ((x₀ * 0.008541) - 0.90075))...\n",
      "                                      ) - 0.35048\n",
      "26          1.275e-04  1.150e-02  y = inv(cbrt((square(sqrt((x₀ * 0.039687) - inv((x₀ * 0.00...\n",
      "                                      8541) - square(-0.97596))) - cbrt(x₁)) + (x₀ * 0.008541)) ...\n",
      "                                      - 0.90075)) - 0.35048\n",
      "───────────────────────────────────────────────────────────────────────────────────────────────────\n",
      "Current Prediction Average Error (%): 0.817033495301971\n",
      "Best Prediction Average Error (%): 0.48067222392531395\n",
      "Current Model Formula: -0.35040057 + 1/(Abs(0.008006636*x0 + (0.198152577575968*sqrt(x0) - Abs(x1)**(1/3)*sign(x1))**2 - 0.90075296)**(1/3)*sign(0.008006636*x0 + (0.198152577575968*sqrt(x0) - Abs(x1)**(1/3)*sign(x1))**2 - 0.90075296))\n"
     ]
    },
    {
     "name": "stderr",
     "output_type": "stream",
     "text": [
      "/home/ajt6830/miniconda3/envs/pysr_env/lib/python3.11/site-packages/pysr/sr.py:2217: UserWarning: The discovered expressions are being reset. Please set `warm_start=True` if you wish to continue to start a search where you left off.\n",
      "  warnings.warn(\n",
      "/home/ajt6830/miniconda3/envs/pysr_env/lib/python3.11/site-packages/pysr/sr.py:2811: UserWarning: Note: it looks like you are running in Jupyter. The progress bar will be turned off.\n",
      "  warnings.warn(\n"
     ]
    },
    {
     "name": "stdout",
     "output_type": "stream",
     "text": [
      "  - outputs/20250702_121718_UtO7rz/hall_of_fame.csv\n",
      "───────────────────────────────────────────────────────────────────────────────────────────────────\n",
      "Complexity  Loss       Score      Equation\n",
      "1           1.299e-02  0.000e+00  y = 0.17399\n",
      "3           5.630e-03  4.181e-01  y = x₁ * 0.034504\n",
      "4           4.103e-03  3.165e-01  y = sqrt(x₁) * 0.096387\n",
      "5           3.741e-03  9.228e-02  y = square(cbrt(x₁ * 0.018895))\n",
      "7           2.048e-03  3.012e-01  y = sqrt((x₁ * 3.2366) * inv(x₀))\n",
      "8           6.227e-04  1.191e+00  y = sqrt(x₁ * cube(inv(x₀))) * 572.24\n",
      "9           2.721e-04  8.280e-01  y = (cbrt(x₁) * 789.77) * inv(cube(sqrt(x₀)))\n",
      "11          1.785e-04  2.108e-01  y = cbrt(x₁) * (667.36 * cube(inv(sqrt(x₀ - 32.941))))\n",
      "13          1.586e-04  5.900e-02  y = (cbrt(x₁) * sqrt(inv(cube((x₀ + -28.185) - 28.155)))) ...\n",
      "                                      * 578.96\n",
      "18          1.363e-04  3.036e-02  y = sqrt(inv(cube(0.015349 * x₀) * (cbrt((0.56438 + x₁) * ...\n",
      "                                      square(x₀)) * 0.0092523)) * x₁)\n",
      "20          1.260e-04  3.912e-02  y = sqrt(inv(cube(0.015349 * x₀) * (cbrt((0.56438 + x₁) * ...\n",
      "                                      square(x₀ + x₁)) * 0.0092523)) * x₁)\n",
      "22          1.258e-04  7.323e-04  y = sqrt(x₁ * inv(cube(0.015349 * x₀) * (cbrt((x₁ + 0.5643...\n",
      "                                      8) * square(1.6372 - (x₀ + x₁))) * 0.0092523)))\n",
      "23          1.173e-04  7.024e-02  y = sqrt(inv(cbrt(square(x₀ + (x₁ * 3.2983)) * (x₁ + 0.957...\n",
      "                                      29)) * 0.010963) * (x₁ * cube(inv(x₀ * 0.014188))))\n",
      "24          1.136e-04  3.206e-02  y = sqrt(x₁ * (inv(cbrt((x₁ + 1.0577) * square((sqrt(x₁) *...\n",
      "                                       x₁) + x₀)) * 0.010963) * cube(inv(x₀ * 0.014188))))\n",
      "28          1.136e-04  9.248e-05  y = sqrt(inv(cbrt((x₁ + sqrt(sqrt(-0.38028 + 1.5556))) * s...\n",
      "                                      quare((x₁ * sqrt(x₁)) + x₀)) * 0.010963) * (x₁ * cube(inv(...\n",
      "                                      x₀ * 0.014188))))\n",
      "29          1.134e-04  1.052e-03  y = sqrt((inv(cbrt((x₁ + sqrt(cbrt(-0.38028 + sqrt(x₁)))) ...\n",
      "                                      * square((x₁ * sqrt(x₁)) + x₀)) * 0.010963) * x₁) * cube(i...\n",
      "                                      nv(x₀ * 0.014188)))\n",
      "30          1.122e-04  1.071e-02  y = sqrt((inv(cbrt((x₁ + cbrt(sqrt(-0.38028 + x₁))) * squa...\n",
      "                                      re(x₀ + (sqrt(x₁) * (x₁ + -1.2137)))) * 0.010963) * x₁) * ...\n",
      "                                      cube(inv(0.014188 * x₀)))\n",
      "───────────────────────────────────────────────────────────────────────────────────────────────────\n"
     ]
    },
    {
     "name": "stderr",
     "output_type": "stream",
     "text": [
      "[ Info: Started!\n",
      "[ Info: Final population:\n",
      "[ Info: Results saved to:\n"
     ]
    },
    {
     "name": "stdout",
     "output_type": "stream",
     "text": [
      "Current Prediction Average Error (%): 0.6757602183423306\n",
      "Best Prediction Average Error (%): 0.48067222392531395\n",
      "Current Model Formula: 5651.21244279542*sqrt(x1/(x0**3*Abs((x0 + 3.2982624*x1)**2*(x1 + 0.95728517))**(1/3)*sign((x0 + 3.2982624*x1)**2*(x1 + 0.95728517))))\n"
     ]
    },
    {
     "name": "stderr",
     "output_type": "stream",
     "text": [
      "/home/ajt6830/miniconda3/envs/pysr_env/lib/python3.11/site-packages/pysr/sr.py:1270: UserWarning: `extra_sympy_mappings` cannot be pickled and will be removed from the serialized instance. When loading the model, please redefine `extra_sympy_mappings` at runtime.\n",
      "  warnings.warn(warn_msg)\n",
      "/home/ajt6830/miniconda3/envs/pysr_env/lib/python3.11/site-packages/pysr/sr.py:2217: UserWarning: The discovered expressions are being reset. Please set `warm_start=True` if you wish to continue to start a search where you left off.\n",
      "  warnings.warn(\n",
      "/home/ajt6830/miniconda3/envs/pysr_env/lib/python3.11/site-packages/pysr/sr.py:2811: UserWarning: Note: it looks like you are running in Jupyter. The progress bar will be turned off.\n",
      "  warnings.warn(\n"
     ]
    },
    {
     "name": "stdout",
     "output_type": "stream",
     "text": [
      "  - outputs/20250702_121723_Q6YTRZ/hall_of_fame.csv\n"
     ]
    },
    {
     "name": "stderr",
     "output_type": "stream",
     "text": [
      "[ Info: Started!\n",
      "[ Info: Final population:\n",
      "[ Info: Results saved to:\n"
     ]
    },
    {
     "name": "stdout",
     "output_type": "stream",
     "text": [
      "───────────────────────────────────────────────────────────────────────────────────────────────────\n",
      "Complexity  Loss       Score      Equation\n",
      "1           1.299e-02  0.000e+00  y = 0.17399\n",
      "3           5.630e-03  4.181e-01  y = x₁ * 0.034506\n",
      "4           4.103e-03  3.165e-01  y = sqrt(x₁ * 0.0092904)\n",
      "5           3.741e-03  9.228e-02  y = square(cbrt(x₁ * 0.018894))\n",
      "7           2.980e-03  1.137e-01  y = cbrt(inv(x₀) * x₁) - 0.034327\n",
      "8           1.741e-03  5.375e-01  y = inv(cbrt(square(x₀))) * (x₁ + 4.7636)\n",
      "9           4.584e-04  1.334e+00  y = cbrt(x₁ * square(square(inv(x₀) * 72.602)))\n",
      "10          4.429e-04  3.459e-02  y = square(square(cbrt((inv(x₀) * -62.194) * cbrt(x₁))))\n",
      "12          4.372e-04  6.384e-03  y = cbrt(x₁) * cbrt(square(square(inv(x₀ - 4.0726) * 71.67...\n",
      "                                      4)))\n",
      "13          1.698e-04  9.457e-01  y = cbrt(x₁ * inv(square(square(x₀ * -0.063937) * 0.039363...\n",
      "                                      ))) + -0.029366\n",
      "14          1.362e-04  2.204e-01  y = cbrt(inv(square((x₀ * square(x₀ * -0.00071664)) + 2.91...\n",
      "                                      74) * inv(x₁)))\n",
      "15          1.356e-04  4.786e-03  y = cbrt(cbrt(square(square(cube(inv(x₀) * 64.038) * (x₁ +...\n",
      "                                       2.0824))))) + -0.050335\n",
      "16          1.285e-04  5.354e-02  y = inv(cbrt(square(((x₀ - x₁) * square(-0.00071664 * x₀))...\n",
      "                                       + 2.9174) * inv(x₁)))\n",
      "18          1.252e-04  1.319e-02  y = cbrt(inv(square(((0.056535 * square(x₀ * 0.0031348)) *...\n",
      "                                       (-6.8848 + x₀)) + 1.7642) * inv(x₁)))\n",
      "20          1.203e-04  1.985e-02  y = cbrt(inv(square((((x₀ + -6.8848) * square(x₀ * 0.00312...\n",
      "                                      33)) * 0.056535) + 1.7642) * inv(x₁ + -0.1047)))\n",
      "24          1.203e-04  1.800e-05  y = cbrt(inv(inv(x₁ + -0.1047) * square((0.056535 * ((-6.8...\n",
      "                                      848 + x₀) * square((x₀ - -0.33333) * (0.0031348 - 1.1433e-...\n",
      "                                      05)))) + 1.7642)))\n",
      "27          1.192e-04  2.926e-03  y = inv(cbrt(square(1.7642 + (square((1.1433e-05 - 0.00313...\n",
      "                                      48) * ((cube(0.59949) * x₁) + x₀)) * (0.056535 * (x₀ + -6....\n",
      "                                      8848)))) * inv(x₁ + -0.1047)))\n",
      "28          1.182e-04  9.119e-03  y = inv(cbrt(square(((square((1.1433e-05 - 0.0031348) * (x...\n",
      "                                      ₀ + square(cbrt(x₁)))) * 0.056535) * ((x₀ + -6.8848) + -6....\n",
      "                                      8848)) + 1.7642) * inv(x₁ + -0.1047)))\n",
      "29          1.174e-04  6.299e-03  y = cbrt(inv(inv(x₁ + -0.1047) * square(((x₀ + x₁) * (squa...\n",
      "                                      re((x₀ + -1.8363) * 0.0031348) * 0.056535)) + inv((x₁ - x₁...\n",
      "                                      ) + (x₀ * 0.0031348)))))\n",
      "───────────────────────────────────────────────────────────────────────────────────────────────────\n",
      "Current Prediction Average Error (%): 0.9507667089544518\n",
      "Best Prediction Average Error (%): 0.48067222392531395\n",
      "Current Model Formula: 338.019832853331*Abs(x1/x0**4)**(1/3)*sign(x1/x0**4) - 0.029366458\n"
     ]
    },
    {
     "name": "stderr",
     "output_type": "stream",
     "text": [
      "/home/ajt6830/miniconda3/envs/pysr_env/lib/python3.11/site-packages/pysr/sr.py:2217: UserWarning: The discovered expressions are being reset. Please set `warm_start=True` if you wish to continue to start a search where you left off.\n",
      "  warnings.warn(\n",
      "/home/ajt6830/miniconda3/envs/pysr_env/lib/python3.11/site-packages/pysr/sr.py:2811: UserWarning: Note: it looks like you are running in Jupyter. The progress bar will be turned off.\n",
      "  warnings.warn(\n",
      "[ Info: Started!\n"
     ]
    },
    {
     "name": "stdout",
     "output_type": "stream",
     "text": [
      "  - outputs/20250702_121729_vKXCum/hall_of_fame.csv\n",
      "───────────────────────────────────────────────────────────────────────────────────────────────────\n",
      "Complexity  Loss       Score      Equation\n",
      "1           1.299e-02  0.000e+00  y = 0.17399\n",
      "3           5.630e-03  4.181e-01  y = x₁ * 0.034504\n",
      "4           4.103e-03  3.165e-01  y = sqrt(x₁) * 0.096387\n",
      "5           3.741e-03  9.228e-02  y = cbrt(square(x₁)) * 0.070941\n",
      "6           3.479e-03  7.258e-02  y = (inv(x₀) * 139.03) + -0.20415\n",
      "7           9.451e-04  1.303e+00  y = inv(x₀) * sqrt(1056.5 * x₁)\n",
      "8           6.991e-04  3.015e-01  y = cbrt(x₁) * ((x₀ * -0.00047184) + 0.29563)\n",
      "10          3.240e-04  3.846e-01  y = (((x₁ * 5.092) + 81.844) * inv(x₀)) + -0.11345\n",
      "13          2.440e-04  9.446e-02  y = (((sqrt(x₁ + -0.89479) * 19.36) + 69.464) * inv(x₀)) +...\n",
      "                                       -0.10229\n",
      "15          1.697e-04  1.817e-01  y = (inv(x₀) * (69.247 - ((inv(x₁ + 9.622) * x₁) * -128.65...\n",
      "                                      ))) + -0.11366\n",
      "19          1.414e-04  4.556e-02  y = (((x₁ + 96.525) - ((inv(x₁ + 13.438) * x₁) * -188.52))...\n",
      "                                       * inv(x₀ * 1.3935)) + -0.10749\n",
      "21          1.406e-04  2.853e-03  y = (inv((x₀ * 1.3974) - 0.99261) * ((96.525 - ((inv(x₁ + ...\n",
      "                                      13.438) * x₁) * -188.52)) + x₁)) + -0.10725\n",
      "25          1.403e-04  5.676e-04  y = ((((x₁ + (sqrt(sqrt(x₁)) + 57.602)) - (((x₁ + 1.137) *...\n",
      "                                       inv(x₁ + 13.294)) * -127.44)) * inv(x₀)) + -0.10805) * 1....\n",
      "                                      0376\n",
      "───────────────────────────────────────────────────────────────────────────────────────────────────\n",
      "Current Prediction Average Error (%): 0.9624411464376406\n",
      "Best Prediction Average Error (%): 0.48067222392531395\n",
      "Current Model Formula: -0.113660745 + (69.247406 - (-128.65138)*x1/(x1 + 9.621993))/x0\n"
     ]
    },
    {
     "name": "stderr",
     "output_type": "stream",
     "text": [
      "[ Info: Final population:\n",
      "[ Info: Results saved to:\n",
      "/home/ajt6830/miniconda3/envs/pysr_env/lib/python3.11/site-packages/pysr/sr.py:2217: UserWarning: The discovered expressions are being reset. Please set `warm_start=True` if you wish to continue to start a search where you left off.\n",
      "  warnings.warn(\n",
      "/home/ajt6830/miniconda3/envs/pysr_env/lib/python3.11/site-packages/pysr/sr.py:2811: UserWarning: Note: it looks like you are running in Jupyter. The progress bar will be turned off.\n",
      "  warnings.warn(\n",
      "[ Info: Started!\n",
      "[ Info: Final population:\n",
      "[ Info: Results saved to:\n"
     ]
    },
    {
     "name": "stdout",
     "output_type": "stream",
     "text": [
      "  - outputs/20250702_121734_VZVGyw/hall_of_fame.csv\n",
      "───────────────────────────────────────────────────────────────────────────────────────────────────\n",
      "Complexity  Loss       Score      Equation\n",
      "1           1.299e-02  0.000e+00  y = 0.17399\n",
      "3           5.630e-03  4.181e-01  y = x₁ * 0.034504\n",
      "4           4.103e-03  3.165e-01  y = sqrt(x₁) * 0.096387\n",
      "5           3.741e-03  9.228e-02  y = square(cbrt(x₁) * 0.26634)\n",
      "7           9.451e-04  6.879e-01  y = (inv(x₀) * sqrt(x₁)) * 32.505\n",
      "9           6.650e-04  1.757e-01  y = inv(x₀ + -89.274) * sqrt(x₁ * 529.76)\n",
      "11          1.792e-04  6.556e-01  y = sqrt((x₁ + 1.8614) * 1841.7) * (inv(x₀) + -0.0011031)\n",
      "13          1.572e-04  6.549e-02  y = (sqrt((x₁ + 1.4656) * 1841.7) * 1.0889) * (inv(x₀) + -...\n",
      "                                      0.0011913)\n",
      "15          1.539e-04  1.074e-02  y = (inv(x₀ + 0.69871) + -0.0011811) * sqrt(((x₁ + 1.545) ...\n",
      "                                      - -0.19681) * 2075.9)\n",
      "20          1.449e-04  1.206e-02  y = sqrt(sqrt((x₁ * ((inv(cube(cube(x₀ * 0.02364)) * x₀) *...\n",
      "                                       cbrt(x₁)) * cube(x₀))) * 0.27647))\n",
      "22          1.402e-04  1.637e-02  y = sqrt(sqrt((x₁ * (inv(cube(cube(x₀ * 0.02364)) * x₀) * ...\n",
      "                                      (cube(x₀) * cbrt(-0.43895 + x₁)))) * 0.27647))\n",
      "24          1.342e-04  2.198e-02  y = sqrt(sqrt((((cube(x₀) * inv(cube(cube(x₀ * 0.025536)) ...\n",
      "                                      * x₀)) * 0.67129) * x₁) * cbrt(cbrt(cube(x₁))))) - 0.00750...\n",
      "                                      62\n",
      "26          1.247e-04  3.666e-02  y = sqrt(sqrt(((cube(x₀) * inv(cube(cube((0.87404 + x₀) * ...\n",
      "                                      0.025536)) * x₀)) * 0.67129) * (x₁ * cbrt(cbrt(cube(x₁))))...\n",
      "                                      )) - 0.0075062\n",
      "30          1.213e-04  6.900e-03  y = sqrt(sqrt((((cube(x₀) * inv(cube(cube(x₀ * 0.025536)) ...\n",
      "                                      * x₀)) * 0.67129) * x₁) * cbrt(cbrt(cube(x₁) * cbrt(cbrt(c...\n",
      "                                      ube(square(-0.54563)))))))) - 0.0075062\n",
      "───────────────────────────────────────────────────────────────────────────────────────────────────\n",
      "Current Prediction Average Error (%): 0.9371952231993305\n",
      "Best Prediction Average Error (%): 0.48067222392531395\n",
      "Current Model Formula: (-0.0011030692 + 1/x0)*sqrt(1841.7405*x1 + 3428.1697231875)\n"
     ]
    },
    {
     "name": "stderr",
     "output_type": "stream",
     "text": [
      "/home/ajt6830/miniconda3/envs/pysr_env/lib/python3.11/site-packages/pysr/sr.py:2217: UserWarning: The discovered expressions are being reset. Please set `warm_start=True` if you wish to continue to start a search where you left off.\n",
      "  warnings.warn(\n",
      "/home/ajt6830/miniconda3/envs/pysr_env/lib/python3.11/site-packages/pysr/sr.py:2811: UserWarning: Note: it looks like you are running in Jupyter. The progress bar will be turned off.\n",
      "  warnings.warn(\n"
     ]
    },
    {
     "name": "stdout",
     "output_type": "stream",
     "text": [
      "  - outputs/20250702_121739_HrVbC6/hall_of_fame.csv\n",
      "───────────────────────────────────────────────────────────────────────────────────────────────────\n",
      "Complexity  Loss       Score      Equation\n",
      "1           1.299e-02  0.000e+00  y = 0.17399\n",
      "3           5.630e-03  4.181e-01  y = x₁ * 0.034503\n",
      "4           4.103e-03  3.165e-01  y = sqrt(x₁) * 0.096387\n",
      "5           3.732e-03  9.469e-02  y = inv(square(x₀)) * 22636\n",
      "7           9.451e-04  6.867e-01  y = inv(x₀) * (sqrt(x₁) * 32.505)\n",
      "9           6.587e-04  1.805e-01  y = (x₁ + 11.322) * (inv(square(x₀)) * 1334.5)\n",
      "11          1.032e-04  9.269e-01  y = cbrt(x₁ * 160.55) * ((inv(x₀) * 13.825) + -0.017484)\n",
      "13          1.013e-04  8.932e-03  y = -0.0057897 - (cbrt(x₁ * -488.63) * ((inv(x₀) * 9.4273)...\n",
      "                                       + -0.011283))\n",
      "15          1.004e-04  4.912e-03  y = ((cube(cbrt(inv(x₀))) * 0.25615) + -0.00032017) * ((cb...\n",
      "                                      rt(x₁) * 301.38) + -18.346)\n",
      "22          9.980e-05  8.005e-04  y = (cbrt((square(cbrt(x₁) - inv(x₁ + -0.66587)) - -87.498...\n",
      "                                      ) * x₁) * ((inv(x₀) * 17.075) + -0.02157)) * 0.97253\n",
      "23          9.806e-05  1.752e-02  y = cbrt((square(inv(x₁ + cbrt(-0.39961)) - cbrt(x₁)) - -8...\n",
      "                                      7.498) * x₁) * (((inv(x₀) * 17.075) + -0.02157) * 0.97253)\n",
      "24          8.997e-05  8.617e-02  y = (((cube(inv(cube(x₁))) * 0.62845) - cbrt(x₁ * -262.19)...\n",
      "                                      ) * ((cube(cube(inv(cbrt(cbrt(x₀))))) * 11.328) + -0.01183...\n",
      "                                      )) + -0.020354\n",
      "───────────────────────────────────────────────────────────────────────────────────────────────────\n",
      "Current Prediction Average Error (%): 0.6162932114830257\n",
      "Best Prediction Average Error (%): 0.48067222392531395\n",
      "Current Model Formula: 5.43502902481095*(-0.017483665 + 13.824723/x0)*Abs(x1)**(1/3)*sign(x1)\n"
     ]
    },
    {
     "name": "stderr",
     "output_type": "stream",
     "text": [
      "[ Info: Started!\n",
      "[ Info: Final population:\n",
      "[ Info: Results saved to:\n",
      "/home/ajt6830/miniconda3/envs/pysr_env/lib/python3.11/site-packages/pysr/sr.py:1270: UserWarning: `extra_sympy_mappings` cannot be pickled and will be removed from the serialized instance. When loading the model, please redefine `extra_sympy_mappings` at runtime.\n",
      "  warnings.warn(warn_msg)\n",
      "/home/ajt6830/miniconda3/envs/pysr_env/lib/python3.11/site-packages/pysr/sr.py:2217: UserWarning: The discovered expressions are being reset. Please set `warm_start=True` if you wish to continue to start a search where you left off.\n",
      "  warnings.warn(\n",
      "/home/ajt6830/miniconda3/envs/pysr_env/lib/python3.11/site-packages/pysr/sr.py:2811: UserWarning: Note: it looks like you are running in Jupyter. The progress bar will be turned off.\n",
      "  warnings.warn(\n"
     ]
    },
    {
     "name": "stdout",
     "output_type": "stream",
     "text": [
      "  - outputs/20250702_121743_lfqR9h/hall_of_fame.csv\n",
      "───────────────────────────────────────────────────────────────────────────────────────────────────\n",
      "Complexity  Loss       Score      Equation\n",
      "1           1.299e-02  0.000e+00  y = 0.174\n",
      "3           5.630e-03  4.181e-01  y = x₁ * 0.034504\n",
      "4           4.103e-03  3.165e-01  y = sqrt(x₁) * 0.096387\n",
      "5           3.732e-03  9.469e-02  y = inv(square(x₀)) * 22636\n",
      "6           3.479e-03  7.017e-02  y = (inv(x₀) * 139.03) - 0.20415\n",
      "7           1.107e-03  1.145e+00  y = cbrt(x₁) * (inv(x₀) * 44.145)\n",
      "8           3.117e-04  1.267e+00  y = square(inv(x₀ * 0.0087622)) * cbrt(x₁)\n",
      "10          1.797e-04  2.755e-01  y = inv(square(x₀ * 0.011491)) * cbrt(x₁ * 6.0576)\n",
      "12          1.412e-04  1.206e-01  y = square(cbrt(sqrt(x₁) * cbrt(x₀)) * inv(x₀ * -0.016063)...\n",
      "                                      )\n",
      "13          1.412e-04  1.169e-04  y = (cbrt(x₁) * cbrt(square(cbrt(x₀)))) * inv(square(x₀ * ...\n",
      "                                      -0.01606))\n",
      "14          1.412e-04  2.164e-05  y = square(inv(x₀ * 0.016059) * cbrt(cbrt(x₁ * (sqrt(x₁) *...\n",
      "                                       x₀))))\n",
      "15          1.365e-04  3.330e-02  y = square(cbrt(cbrt(x₀ * (cube(sqrt(x₁)) + -0.12993))) * ...\n",
      "                                      inv(x₀ * -0.016063))\n",
      "16          1.353e-04  9.271e-03  y = square(inv(0.016035 * x₀) * cbrt(cbrt(sqrt(-0.2528 + x...\n",
      "                                      ₁) * (x₀ * x₁))))\n",
      "17          1.346e-04  5.275e-03  y = square(inv(x₀ * -0.016011) * cbrt(cbrt(sqrt(x₁) * (x₁ ...\n",
      "                                      + -0.22207)) * cbrt(x₀)))\n",
      "19          1.329e-04  6.311e-03  y = square(inv((x₀ + -1.3345) * -0.016039) * cbrt(cbrt(x₀)...\n",
      "                                       * cbrt(sqrt(x₁) * (x₁ + -0.22207))))\n",
      "21          1.301e-04  1.069e-02  y = square(inv((-1.3446 + x₀) * -0.016011) * cbrt(cbrt(x₁ ...\n",
      "                                      - x₀) * cbrt(sqrt(x₁) * (x₁ + -0.22207))))\n",
      "23          1.291e-04  3.935e-03  y = square(cbrt(cbrt(sqrt(x₁) * (x₁ + -0.36718)) * cbrt((x...\n",
      "                                      ₀ - x₁) - x₁)) * inv((-3.2676 + x₀) * -0.016011))\n",
      "24          1.222e-04  5.436e-02  y = square(cbrt(cbrt(x₁ * sqrt(x₁)) * cbrt(x₀ - (x₁ - inv(...\n",
      "                                      x₁)))) * inv((x₀ + -3.2676) * -0.016011)) - 0.0062603\n",
      "───────────────────────────────────────────────────────────────────────────────────────────────────\n"
     ]
    },
    {
     "name": "stderr",
     "output_type": "stream",
     "text": [
      "[ Info: Started!\n",
      "[ Info: Final population:\n",
      "[ Info: Results saved to:\n"
     ]
    },
    {
     "name": "stdout",
     "output_type": "stream",
     "text": [
      "Current Prediction Average Error (%): 0.8970748297942308\n",
      "Best Prediction Average Error (%): 0.48067222392531395\n",
      "Current Model Formula: 13806.1175670537*Abs(x1)**(1/3)*sign(x1)/x0**2\n"
     ]
    },
    {
     "name": "stderr",
     "output_type": "stream",
     "text": [
      "/home/ajt6830/miniconda3/envs/pysr_env/lib/python3.11/site-packages/pysr/sr.py:2217: UserWarning: The discovered expressions are being reset. Please set `warm_start=True` if you wish to continue to start a search where you left off.\n",
      "  warnings.warn(\n",
      "/home/ajt6830/miniconda3/envs/pysr_env/lib/python3.11/site-packages/pysr/sr.py:2811: UserWarning: Note: it looks like you are running in Jupyter. The progress bar will be turned off.\n",
      "  warnings.warn(\n",
      "[ Info: Started!\n"
     ]
    },
    {
     "name": "stdout",
     "output_type": "stream",
     "text": [
      "  - outputs/20250702_121748_WeVKqS/hall_of_fame.csv\n",
      "───────────────────────────────────────────────────────────────────────────────────────────────────\n",
      "Complexity  Loss       Score      Equation\n",
      "1           1.299e-02  0.000e+00  y = 0.17399\n",
      "3           5.630e-03  4.181e-01  y = x₁ * 0.034503\n",
      "4           4.103e-03  3.165e-01  y = sqrt(x₁) * 0.096387\n",
      "5           3.732e-03  9.469e-02  y = inv(square(x₀)) * 22637\n",
      "7           3.010e-03  1.075e-01  y = square(inv(x₁ - x₀)) * 21930\n",
      "8           1.796e-04  2.819e+00  y = (cbrt(x₁) * 13788) * inv(square(x₀))\n",
      "10          1.316e-04  1.556e-01  y = inv(0.53196 + square(x₀ * 0.00815)) * cbrt(x₁)\n",
      "13          1.271e-04  1.164e-02  y = inv(square(0.0081993 * x₀) + inv(0.0081993 * x₀)) * cb...\n",
      "                                      rt(x₁)\n",
      "14          1.222e-04  3.897e-02  y = inv(square(0.0081993 * x₀) + square(inv(x₀ * 0.00544))...\n",
      "                                      ) * cbrt(x₁)\n",
      "16          1.187e-04  1.453e-02  y = cbrt(x₁) * inv(inv(square((x₁ - x₀) * 0.0054189)) + sq...\n",
      "                                      uare(x₀ * 0.0082016))\n",
      "19          1.130e-04  1.651e-02  y = cbrt(x₁) * square(inv((x₀ + (x₁ * (0.48234 - inv((x₁ *...\n",
      "                                       0.80686) + -2.6477)))) * -0.0083866))\n",
      "21          1.084e-04  2.061e-02  y = cbrt(x₁) * square(inv((x₀ + (x₁ * (inv(1.6001) - inv(i...\n",
      "                                      nv(-0.37769) + (0.80686 * x₁))))) * -0.0083866))\n",
      "24          9.518e-05  4.338e-02  y = cube(cbrt(sqrt(cbrt(cube(x₁) + 2.4845)) * inv(square((...\n",
      "                                      cube(cube(cbrt(sqrt(x₁ + 1.1968) * 0.84858))) + x₀) * -0.0...\n",
      "                                      094012))))\n",
      "───────────────────────────────────────────────────────────────────────────────────────────────────\n",
      "Current Prediction Average Error (%): 0.7836789139991944\n",
      "Best Prediction Average Error (%): 0.48067222392531395\n",
      "Current Model Formula: Abs(x1)**(1/3)*sign(x1)/(6.6421945801156e-5*x0**2 + 0.5319569)\n"
     ]
    },
    {
     "name": "stderr",
     "output_type": "stream",
     "text": [
      "[ Info: Final population:\n",
      "[ Info: Results saved to:\n",
      "/home/ajt6830/miniconda3/envs/pysr_env/lib/python3.11/site-packages/pysr/sr.py:2217: UserWarning: The discovered expressions are being reset. Please set `warm_start=True` if you wish to continue to start a search where you left off.\n",
      "  warnings.warn(\n",
      "/home/ajt6830/miniconda3/envs/pysr_env/lib/python3.11/site-packages/pysr/sr.py:2811: UserWarning: Note: it looks like you are running in Jupyter. The progress bar will be turned off.\n",
      "  warnings.warn(\n"
     ]
    },
    {
     "name": "stdout",
     "output_type": "stream",
     "text": [
      "  - outputs/20250702_121753_146rXq/hall_of_fame.csv\n",
      "───────────────────────────────────────────────────────────────────────────────────────────────────\n",
      "Complexity  Loss       Score      Equation\n",
      "1           1.299e-02  0.000e+00  y = 0.17398\n",
      "3           5.630e-03  4.181e-01  y = x₁ * 0.034504\n",
      "4           4.103e-03  3.165e-01  y = sqrt(x₁) * 0.096387\n",
      "5           3.770e-03  8.459e-02  y = (x₁ + 2.5248) * 0.025813\n",
      "6           3.479e-03  8.027e-02  y = (inv(x₀) * 139.04) + -0.20416\n",
      "7           8.240e-04  1.440e+00  y = sqrt(x₁ * inv(x₀ + -205.76))\n",
      "9           1.032e-04  1.039e+00  y = ((inv(x₀) * 75.138) - 0.095026) * cbrt(x₁)\n",
      "11          1.014e-04  8.535e-03  y = ((inv(x₀) + -0.0011848) * (cbrt(x₁) * 73.929)) - 0.006...\n",
      "                                      3154\n",
      "12          1.012e-04  2.515e-03  y = (inv(cbrt(x₀ + -147.55)) + -0.11474) * (cbrt(x₁) * 2.1...\n",
      "                                      254)\n",
      "14          9.671e-05  2.258e-02  y = (cbrt(x₁) * ((cbrt(inv(x₀ + -147.55)) - 0.11153) * 2.0...\n",
      "                                      887)) + -0.0074502\n",
      "18          9.584e-05  2.251e-03  y = ((76.277 * (inv(x₀) + -0.0012709)) - -0.0062892) * cbr...\n",
      "                                      t(x₁ - (1.0016 - cbrt(cube(inv(x₁)))))\n",
      "19          8.917e-05  7.211e-02  y = (((inv(x₀) + -0.0013292) * 76.274) - -0.0061894) * cbr...\n",
      "                                      t((x₁ - cbrt(1.4231 - inv(x₁))) + 0.69087)\n",
      "20          8.643e-05  3.120e-02  y = cbrt(x₁ + (inv((x₁ + -0.054498) - -0.040646) - 1.0759)...\n",
      "                                      ) * (((inv(x₀) + -0.001285) * 76.281) - -0.006205)\n",
      "21          8.595e-05  5.667e-03  y = cbrt((x₁ - cbrt(1.4231 - inv(x₁ * x₁))) + 0.69087) * (...\n",
      "                                      ((inv(x₀) + -0.0013292) * 76.274) - -0.0061894)\n",
      "22          8.546e-05  5.702e-03  y = (((inv(x₀) + -0.0013276) * 76.279) - -0.0060841) * cbr...\n",
      "                                      t(x₁ + (0.80522 - cbrt(1.8771 - cube(inv(-0.13296 + x₁))))...\n",
      "                                      )\n",
      "23          8.446e-05  1.170e-02  y = cbrt((x₁ - cbrt(1.4231 - inv((x₁ * 0.9316) * x₁))) + 0...\n",
      "                                      .69087) * (((inv(x₀) + -0.0013292) * 76.274) - -0.0061894)\n",
      "24          8.423e-05  2.735e-03  y = (((inv(x₀) + -0.0013316) * 76.279) - -0.0061412) * cbr...\n",
      "                                      t((x₁ + cbrt(0.17136 - inv(cube(0.16968 - x₁) + -0.45381))...\n",
      "                                      ) - 1.0527)\n",
      "26          8.300e-05  7.378e-03  y = (((inv(x₀) + -0.001314) * 76.28) - -0.0062083) * cbrt(...\n",
      "                                      x₁ + (cbrt(0.13595 - inv(cube((0.62345 - x₁) + -0.45384) +...\n",
      "                                       -0.44817)) - 1.0997))\n",
      "───────────────────────────────────────────────────────────────────────────────────────────────────\n"
     ]
    },
    {
     "name": "stderr",
     "output_type": "stream",
     "text": [
      "[ Info: Started!\n",
      "[ Info: Final population:\n",
      "[ Info: Results saved to:\n"
     ]
    },
    {
     "name": "stdout",
     "output_type": "stream",
     "text": [
      "Current Prediction Average Error (%): 0.6162965329032627\n",
      "Best Prediction Average Error (%): 0.48067222392531395\n",
      "Current Model Formula: (-0.09502569 + 75.138275/x0)*Abs(x1)**(1/3)*sign(x1)\n"
     ]
    },
    {
     "name": "stderr",
     "output_type": "stream",
     "text": [
      "/home/ajt6830/miniconda3/envs/pysr_env/lib/python3.11/site-packages/pysr/sr.py:1270: UserWarning: `extra_sympy_mappings` cannot be pickled and will be removed from the serialized instance. When loading the model, please redefine `extra_sympy_mappings` at runtime.\n",
      "  warnings.warn(warn_msg)\n",
      "/home/ajt6830/miniconda3/envs/pysr_env/lib/python3.11/site-packages/pysr/sr.py:2217: UserWarning: The discovered expressions are being reset. Please set `warm_start=True` if you wish to continue to start a search where you left off.\n",
      "  warnings.warn(\n",
      "/home/ajt6830/miniconda3/envs/pysr_env/lib/python3.11/site-packages/pysr/sr.py:2811: UserWarning: Note: it looks like you are running in Jupyter. The progress bar will be turned off.\n",
      "  warnings.warn(\n"
     ]
    },
    {
     "name": "stdout",
     "output_type": "stream",
     "text": [
      "  - outputs/20250702_121758_duXiba/hall_of_fame.csv\n",
      "───────────────────────────────────────────────────────────────────────────────────────────────────\n",
      "Complexity  Loss       Score      Equation\n",
      "1           1.299e-02  0.000e+00  y = 0.17398\n",
      "3           5.630e-03  4.181e-01  y = x₁ * 0.034504\n",
      "4           4.103e-03  3.165e-01  y = sqrt(x₁) * 0.096386\n",
      "5           3.741e-03  9.228e-02  y = cbrt(square(x₁)) * 0.070941\n",
      "6           3.479e-03  7.258e-02  y = (inv(x₀) * 139.03) + -0.20415\n",
      "7           8.150e-04  1.451e+00  y = sqrt(x₁ * inv(x₀ + -207.83))\n",
      "8           1.796e-04  1.512e+00  y = cbrt(x₁) * (square(inv(x₀)) * 13788)\n",
      "9           1.032e-04  5.544e-01  y = (inv(x₀) + -0.0012647) * (cbrt(x₁) * 75.137)\n",
      "11          1.020e-04  5.964e-03  y = cbrt(x₁) * ((inv(x₀ + -6.0057) * 72.627) + -0.091667)\n",
      "12          1.016e-04  3.508e-03  y = cbrt(x₁) * ((inv(x₀ - cbrt(x₁)) * 74.164) + -0.093417)\n",
      "16          9.613e-05  1.383e-02  y = cbrt(x₁) * ((inv(x₀ + cbrt((-0.046508 - x₁) + 3.5887))...\n",
      "                                       * 74.237) + -0.093047)\n",
      "17          8.879e-05  7.937e-02  y = ((inv(inv(cbrt(x₁ * x₁) + -1.9643) + x₀) * 75.137) + -...\n",
      "                                      0.094359) * cbrt(x₁)\n",
      "24          8.815e-05  1.038e-03  y = cbrt(x₁) * ((inv((cbrt(inv((x₁ * -0.091527) - -0.38912...\n",
      "                                      )) + x₀) + inv((x₁ * x₁) + -1.2521)) * 75.137) + -0.095325...\n",
      "                                      )\n",
      "26          8.224e-05  3.472e-02  y = ((inv(x₀ + inv(((-0.41451 * (x₀ * 0.17182)) * 0.17182)...\n",
      "                                       * ((cbrt(-0.68623) * inv(x₁)) + 0.28253))) + -0.0012647) ...\n",
      "                                      * 75.137) * cbrt(x₁)\n",
      "───────────────────────────────────────────────────────────────────────────────────────────────────\n",
      "Current Prediction Average Error (%): 0.6162897155320659\n",
      "Best Prediction Average Error (%): 0.48067222392531395\n",
      "Current Model Formula: 75.13699*(-0.0012646603 + 1/x0)*Abs(x1)**(1/3)*sign(x1)\n"
     ]
    },
    {
     "name": "stderr",
     "output_type": "stream",
     "text": [
      "[ Info: Started!\n",
      "[ Info: Final population:\n",
      "[ Info: Results saved to:\n",
      "/home/ajt6830/miniconda3/envs/pysr_env/lib/python3.11/site-packages/pysr/sr.py:1270: UserWarning: `extra_sympy_mappings` cannot be pickled and will be removed from the serialized instance. When loading the model, please redefine `extra_sympy_mappings` at runtime.\n",
      "  warnings.warn(warn_msg)\n",
      "/home/ajt6830/miniconda3/envs/pysr_env/lib/python3.11/site-packages/pysr/sr.py:2217: UserWarning: The discovered expressions are being reset. Please set `warm_start=True` if you wish to continue to start a search where you left off.\n",
      "  warnings.warn(\n",
      "/home/ajt6830/miniconda3/envs/pysr_env/lib/python3.11/site-packages/pysr/sr.py:2811: UserWarning: Note: it looks like you are running in Jupyter. The progress bar will be turned off.\n",
      "  warnings.warn(\n"
     ]
    },
    {
     "name": "stdout",
     "output_type": "stream",
     "text": [
      "  - outputs/20250702_121804_XC2Cci/hall_of_fame.csv\n",
      "───────────────────────────────────────────────────────────────────────────────────────────────────\n",
      "Complexity  Loss       Score      Equation\n",
      "1           1.299e-02  0.000e+00  y = 0.174\n",
      "3           5.630e-03  4.181e-01  y = x₁ * 0.034504\n",
      "4           4.103e-03  3.165e-01  y = sqrt(x₁) * 0.096387\n",
      "5           3.741e-03  9.228e-02  y = cbrt(square(x₁ * -0.018896))\n",
      "7           3.704e-03  4.908e-03  y = square(cbrt(x₁ + 0.24468) * -0.26234)\n",
      "8           9.438e-04  1.367e+00  y = sqrt(x₁) * square(inv(x₀ * 0.0099227))\n",
      "10          3.300e-04  5.254e-01  y = sqrt(x₁ + 1.7471) * square(inv(x₀ * 0.010733))\n",
      "12          1.553e-04  3.769e-01  y = (sqrt(x₁) + 0.62544) * square(inv((x₀ + x₁) * 0.010829...\n",
      "                                      ))\n",
      "14          1.306e-04  8.663e-02  y = (sqrt(x₁) + 0.58035) * square(inv((x₀ + (x₁ * 1.4445))...\n",
      "                                       * 0.010671))\n",
      "16          1.297e-04  3.306e-03  y = ((sqrt(x₁) + 0.57491) * square(inv((x₀ + (x₁ * 1.4445)...\n",
      "                                      ) * 0.010701))) * 1.0095\n",
      "18          1.219e-04  3.097e-02  y = inv(square(((x₁ + x₁) + x₀) * 0.010671)) * (sqrt(x₁ + ...\n",
      "                                      (0.11772 * x₁)) + 0.55711)\n",
      "22          1.198e-04  4.356e-03  y = inv(square(((x₁ + x₁) + (1.8227 + x₀)) * -0.010654)) *...\n",
      "                                       (sqrt((x₁ * (1.0095 * 0.11772)) + x₁) + 0.55711)\n",
      "29          1.140e-04  7.063e-03  y = square(cbrt(cbrt(square((((sqrt(x₁) * -0.4615) - x₁) *...\n",
      "                                       square(inv(((cube(x₁) * 0.0039144) + x₀) * -0.059318))) *...\n",
      "                                       square(inv((x₁ + x₀) * -0.0020112))))))\n",
      "30          9.949e-05  1.365e-01  y = square(inv((((((x₀ + x₁) * -0.16934) + square((0.93165...\n",
      "                                       - cbrt(x₁)) + square(cbrt(x₁) + 0.14383))) + x₀) * 0.0115...\n",
      "                                      54) - -0.05973)) * sqrt(0.65058 + x₁)\n",
      "───────────────────────────────────────────────────────────────────────────────────────────────────\n",
      "Current Prediction Average Error (%): 0.666319085256254\n",
      "Best Prediction Average Error (%): 0.48067222392531395\n"
     ]
    },
    {
     "name": "stderr",
     "output_type": "stream",
     "text": [
      "[ Info: Started!\n",
      "[ Info: Final population:\n",
      "[ Info: Results saved to:\n"
     ]
    },
    {
     "name": "stdout",
     "output_type": "stream",
     "text": [
      "Current Model Formula: sqrt(x1 + 0.65057814)/(0.00959775288094585*x0 - 0.00195664411905415*x1 + 0.011554397*((Abs(x1)**(1/3)*sign(x1) + 0.14382952)**2 - Abs(x1)**(1/3)*sign(x1) + 0.93165183)**2 + 0.05973043)**2\n"
     ]
    },
    {
     "name": "stderr",
     "output_type": "stream",
     "text": [
      "/home/ajt6830/miniconda3/envs/pysr_env/lib/python3.11/site-packages/pysr/sr.py:1270: UserWarning: `extra_sympy_mappings` cannot be pickled and will be removed from the serialized instance. When loading the model, please redefine `extra_sympy_mappings` at runtime.\n",
      "  warnings.warn(warn_msg)\n",
      "/home/ajt6830/miniconda3/envs/pysr_env/lib/python3.11/site-packages/pysr/sr.py:2217: UserWarning: The discovered expressions are being reset. Please set `warm_start=True` if you wish to continue to start a search where you left off.\n",
      "  warnings.warn(\n",
      "/home/ajt6830/miniconda3/envs/pysr_env/lib/python3.11/site-packages/pysr/sr.py:2811: UserWarning: Note: it looks like you are running in Jupyter. The progress bar will be turned off.\n",
      "  warnings.warn(\n"
     ]
    },
    {
     "name": "stdout",
     "output_type": "stream",
     "text": [
      "  - outputs/20250702_121809_3OzgCO/hall_of_fame.csv\n",
      "───────────────────────────────────────────────────────────────────────────────────────────────────\n",
      "Complexity  Loss       Score      Equation\n",
      "1           1.299e-02  0.000e+00  y = 0.17399\n",
      "3           5.630e-03  4.181e-01  y = x₁ * 0.034504\n",
      "4           4.103e-03  3.165e-01  y = sqrt(x₁) * 0.096387\n",
      "5           3.741e-03  9.228e-02  y = square(cbrt(x₁)) * 0.070936\n",
      "7           1.423e-03  4.834e-01  y = sqrt(x₁ * inv(x₀ - 186.89))\n",
      "8           8.150e-04  5.571e-01  y = sqrt(inv(x₀ - 207.83)) * sqrt(x₁)\n",
      "10          6.390e-04  1.216e-01  y = (sqrt(x₁ + 21.033) * cbrt(inv(x₀))) - 0.52238\n",
      "12          3.204e-04  3.451e-01  y = (inv(cbrt(x₀ + -66.819)) * sqrt(x₁ + 14.273)) - 0.4644...\n",
      "                                      9\n",
      "17          2.766e-04  2.946e-02  y = ((sqrt((cbrt(x₀) + x₁) - -1.0551) * inv(cbrt(x₀ - 181....\n",
      "                                      32))) - 0.37823) * 0.69446\n",
      "19          2.761e-04  7.950e-04  y = ((sqrt(((0.034179 + cbrt(x₀)) + x₁) - -1.0551) * inv(c...\n",
      "                                      brt(x₀ - 181.32))) - 0.37823) * 0.69446\n",
      "22          2.358e-04  5.260e-02  y = ((inv(cbrt(sqrt(square(x₀ - 180.26)))) * sqrt(((x₁ + c...\n",
      "                                      brt(x₁)) + cbrt(x₀)) - -1.0553)) - 0.39894) * 0.65702\n",
      "24          2.159e-04  4.406e-02  y = ((cbrt(inv((x₀ - 180.26) + x₁)) * sqrt(((cbrt(x₁ + x₁)...\n",
      "                                       + cbrt(x₀)) + x₁) - -1.0527)) - 0.40167) * 0.66854\n",
      "26          1.889e-04  6.696e-02  y = ((sqrt(cbrt(x₁ + x₁) + (x₁ + (cbrt(x₀) - -1.0526))) * ...\n",
      "                                      cbrt(square(sqrt(inv(x₁ + (x₀ - 180.26)))))) - 0.41546) * ...\n",
      "                                      0.69915\n",
      "28          1.889e-04  2.980e-08  y = ((sqrt(inv(inv((cbrt(x₀) + (x₁ - -1.0526)) + cbrt(x₁ +...\n",
      "                                       x₁)))) * square(sqrt(cbrt(inv((x₀ - 180.26) + x₁))))) - 0...\n",
      "                                      .41545) * 0.69912\n",
      "30          1.887e-04  3.229e-04  y = ((sqrt(cbrt(square(inv((x₀ - 180.26) + (x₁ - 0.76507))...\n",
      "                                      ))) * inv(inv(sqrt(cbrt(x₁ + x₁) + (cbrt(x₀) + (x₁ - -1.05...\n",
      "                                      25)))))) - 0.4155) * 0.69619\n",
      "───────────────────────────────────────────────────────────────────────────────────────────────────\n",
      "Current Prediction Average Error (%): 0.9712026717609318\n",
      "Best Prediction Average Error (%): 0.48067222392531395\n",
      "Current Model Formula: 0.69914937*sqrt(x1 + Abs(x0)**(1/3)*sign(x0) + 2**(1/3)*Abs(x1)**(1/3)*sign(x1) + 1.0525694)*sign(1/(x0 + x1 - 180.26053))/Abs(x0 + x1 - 180.26053)**(1/3) - 0.29046999555894\n"
     ]
    },
    {
     "name": "stderr",
     "output_type": "stream",
     "text": [
      "[ Info: Started!\n",
      "[ Info: Final population:\n",
      "[ Info: Results saved to:\n",
      "/home/ajt6830/miniconda3/envs/pysr_env/lib/python3.11/site-packages/pysr/sr.py:2217: UserWarning: The discovered expressions are being reset. Please set `warm_start=True` if you wish to continue to start a search where you left off.\n",
      "  warnings.warn(\n",
      "/home/ajt6830/miniconda3/envs/pysr_env/lib/python3.11/site-packages/pysr/sr.py:2811: UserWarning: Note: it looks like you are running in Jupyter. The progress bar will be turned off.\n",
      "  warnings.warn(\n"
     ]
    },
    {
     "name": "stdout",
     "output_type": "stream",
     "text": [
      "  - outputs/20250702_121814_eQghEF/hall_of_fame.csv\n"
     ]
    },
    {
     "name": "stderr",
     "output_type": "stream",
     "text": [
      "[ Info: Started!\n",
      "[ Info: Final population:\n",
      "[ Info: Results saved to:\n",
      "/home/ajt6830/miniconda3/envs/pysr_env/lib/python3.11/site-packages/pysr/sr.py:1270: UserWarning: `extra_sympy_mappings` cannot be pickled and will be removed from the serialized instance. When loading the model, please redefine `extra_sympy_mappings` at runtime.\n",
      "  warnings.warn(warn_msg)\n",
      "/home/ajt6830/miniconda3/envs/pysr_env/lib/python3.11/site-packages/pysr/sr.py:2217: UserWarning: The discovered expressions are being reset. Please set `warm_start=True` if you wish to continue to start a search where you left off.\n",
      "  warnings.warn(\n",
      "/home/ajt6830/miniconda3/envs/pysr_env/lib/python3.11/site-packages/pysr/sr.py:2811: UserWarning: Note: it looks like you are running in Jupyter. The progress bar will be turned off.\n",
      "  warnings.warn(\n"
     ]
    },
    {
     "name": "stdout",
     "output_type": "stream",
     "text": [
      "───────────────────────────────────────────────────────────────────────────────────────────────────\n",
      "Complexity  Loss       Score      Equation\n",
      "1           1.299e-02  0.000e+00  y = 0.17399\n",
      "3           5.630e-03  4.181e-01  y = x₁ * 0.034504\n",
      "4           4.103e-03  3.165e-01  y = sqrt(x₁) * 0.096387\n",
      "5           3.732e-03  9.460e-02  y = inv(square(x₀ * 0.0066368))\n",
      "7           3.029e-03  1.043e-01  y = cbrt((x₁ - 0.79457) * inv(x₀))\n",
      "8           7.208e-04  1.436e+00  y = (0.29038 - (x₀ * 0.00046545)) * cbrt(x₁)\n",
      "9           2.276e-04  1.153e+00  y = cbrt(x₁) * square(inv(cbrt(x₀) + -4.1243))\n",
      "10          2.276e-04  5.960e-08  y = square(cbrt(sqrt(x₁)) * inv(-4.1243 + cbrt(x₀)))\n",
      "11          1.516e-04  4.061e-01  y = (square(inv(cbrt(x₀) + -4.1917)) * cbrt(x₁)) + -0.0143...\n",
      "                                      88\n",
      "12          1.408e-04  7.428e-02  y = 0.017229 * ((square(-9.7673 + cbrt(x₀)) * cbrt(x₁)) - ...\n",
      "                                      0.64375)\n",
      "13          1.314e-04  6.892e-02  y = ((square(inv(cbrt(x₀) + -3.8885)) * cbrt(x₁)) * 1.3171...\n",
      "                                      ) + -0.026278\n",
      "15          1.077e-04  9.958e-02  y = cbrt(x₁) * ((2.8817 - (x₀ * 0.0030078)) * square(inv(-...\n",
      "                                      3.1046 + cbrt(x₀))))\n",
      "17          9.912e-05  4.140e-02  y = ((cbrt(x₁) * 1.2875) * inv(square(cbrt(x₀) + -3.8361))...\n",
      "                                      ) + (0.016914 - (x₀ * 8.0841e-05))\n",
      "19          9.774e-05  7.020e-03  y = (2.9544 - (x₀ * 0.0032478)) * (square(inv(cbrt(x₀ + x₁...\n",
      "                                      ) + -3.2686)) * (cbrt(x₁) + -0.10668))\n",
      "22          9.710e-05  2.195e-03  y = ((inv(square(cbrt(x₀) + -3.8611)) * (cbrt(x₁) * 1.399)...\n",
      "                                      ) + -0.029457) - (((cube(x₁) + x₁) + x₀) * 7.4451e-06)\n",
      "───────────────────────────────────────────────────────────────────────────────────────────────────\n",
      "Current Prediction Average Error (%): 0.6481964504388902\n",
      "Best Prediction Average Error (%): 0.48067222392531395\n",
      "Current Model Formula: (2.881738 - 0.0030077735*x0)*Abs(x1)**(1/3)*sign(x1)/(Abs(x0)**(1/3)*sign(x0) - 3.1046262)**2\n",
      "  - outputs/20250702_121819_O2qb9M/hall_of_fame.csv\n",
      "───────────────────────────────────────────────────────────────────────────────────────────────────\n",
      "Complexity  Loss       Score      Equation\n",
      "1           1.299e-02  0.000e+00  y = 0.17398\n",
      "3           5.630e-03  4.181e-01  y = x₁ * 0.034504\n",
      "4           4.103e-03  3.165e-01  y = sqrt(x₁) * 0.096387\n",
      "5           3.741e-03  9.228e-02  y = cbrt(square(x₁)) * 0.070941\n",
      "6           3.479e-03  7.258e-02  y = (inv(x₀) * 139.03) + -0.20416\n",
      "7           9.451e-04  1.303e+00  y = (inv(x₀) * sqrt(x₁)) * 32.504\n",
      "8           9.071e-04  4.096e-02  y = square(inv(x₀)) * (sqrt(x₁) * 9866)\n",
      "9           3.748e-04  8.840e-01  y = ((cbrt(x₁) * 56.432) * inv(x₀)) + -0.063234\n",
      "10          2.207e-04  5.296e-01  y = (sqrt(sqrt(x₁)) * (inv(x₀) * 74.117)) + -0.10321\n",
      "11          1.199e-04  6.098e-01  y = ((sqrt(x₁) + 0.85511) * (inv(x₀) + -0.0012499)) * 40.3...\n",
      "                                      63\n",
      "15          9.703e-05  5.297e-02  y = inv(cbrt((x₁ + x₁) + x₀) + (cbrt(cbrt(x₁)) * -3.8038))...\n",
      "                                       + -0.18786\n",
      "16          9.550e-05  1.596e-02  y = inv(cbrt(cbrt(x₁) * -56.602) + cbrt(x₀ + square(square...\n",
      "                                      (cbrt(x₁))))) + -0.1935\n",
      "17          9.550e-05  1.073e-06  y = inv(cbrt(x₀ + cbrt(square(x₁ * x₁))) + (cbrt(cbrt(x₁))...\n",
      "                                       * -3.8394)) + -0.19347\n",
      "18          8.032e-05  1.730e-01  y = inv(cbrt(square(square(cbrt(x₁)) + -1.231) + x₀) + (cb...\n",
      "                                      rt(cbrt(x₁)) * -3.7645)) + -0.18703\n",
      "20          7.492e-05  3.481e-02  y = inv((-3.8553 * cbrt(cbrt(x₁))) + cbrt(x₀ + sqrt(x₀ + s...\n",
      "                                      quare(cbrt(square(square(x₁))))))) + -0.18544\n",
      "22          7.474e-05  1.164e-03  y = inv((-3.8553 * cbrt(cbrt(x₁))) + cbrt(x₀ + sqrt(x₀ + s...\n",
      "                                      quare(0.46101 - square(cbrt(square(x₁))))))) + -0.18544\n",
      "25          7.467e-05  3.295e-04  y = inv(cbrt(x₀ + sqrt(x₀ + cbrt(square(cube(cbrt(square(s...\n",
      "                                      qrt(x₁) - square(x₁)))))))) + (cbrt(cbrt(x₁)) * -3.8531)) ...\n",
      "                                      + -0.18529\n",
      "26          7.393e-05  9.988e-03  y = inv((cbrt(cbrt(x₁)) * -3.8416) + cbrt((sqrt(x₀ + cbrt(...\n",
      "                                      square(square(square(cube(cbrt(-1.1878 + x₁))))))) + x₀) -...\n",
      "                                       -0.75406)) + -0.18371\n",
      "30          7.297e-05  3.259e-03  y = inv((cbrt(cbrt(x₁)) * -3.8419) + cbrt(sqrt(cbrt(square...\n",
      "                                      (square(square(cbrt(cbrt(cbrt(x₀)) * cube(x₁ + -3.8417))))...\n",
      "                                      )) + x₀) + (x₀ - -1.5472))) + -0.18369\n",
      "───────────────────────────────────────────────────────────────────────────────────────────────────\n"
     ]
    },
    {
     "name": "stderr",
     "output_type": "stream",
     "text": [
      "[ Info: Started!\n",
      "[ Info: Final population:\n",
      "[ Info: Results saved to:\n"
     ]
    },
    {
     "name": "stdout",
     "output_type": "stream",
     "text": [
      "Current Prediction Average Error (%): 0.5615855797867038\n",
      "Best Prediction Average Error (%): 0.48067222392531395\n",
      "Current Model Formula: -0.18703268 + 1/(-3.7644868*Abs(x1)**(1/9)*Abs(sign(x1))**(1/3)*sign(Abs(x1)**(1/3)*sign(x1)) + Abs(x0 + (Abs(x1)**(2/3)*sign(x1)**2 - 1.2310051)**2)**(1/3)*sign(x0 + (Abs(x1)**(2/3)*sign(x1)**2 - 1.2310051)**2))\n"
     ]
    },
    {
     "name": "stderr",
     "output_type": "stream",
     "text": [
      "/home/ajt6830/miniconda3/envs/pysr_env/lib/python3.11/site-packages/pysr/sr.py:1270: UserWarning: `extra_sympy_mappings` cannot be pickled and will be removed from the serialized instance. When loading the model, please redefine `extra_sympy_mappings` at runtime.\n",
      "  warnings.warn(warn_msg)\n",
      "/home/ajt6830/miniconda3/envs/pysr_env/lib/python3.11/site-packages/pysr/sr.py:2217: UserWarning: The discovered expressions are being reset. Please set `warm_start=True` if you wish to continue to start a search where you left off.\n",
      "  warnings.warn(\n",
      "/home/ajt6830/miniconda3/envs/pysr_env/lib/python3.11/site-packages/pysr/sr.py:2811: UserWarning: Note: it looks like you are running in Jupyter. The progress bar will be turned off.\n",
      "  warnings.warn(\n"
     ]
    },
    {
     "name": "stdout",
     "output_type": "stream",
     "text": [
      "  - outputs/20250702_121824_ubBbu2/hall_of_fame.csv\n"
     ]
    },
    {
     "name": "stderr",
     "output_type": "stream",
     "text": [
      "[ Info: Started!\n",
      "[ Info: Final population:\n",
      "[ Info: Results saved to:\n",
      "/home/ajt6830/miniconda3/envs/pysr_env/lib/python3.11/site-packages/pysr/sr.py:2217: UserWarning: The discovered expressions are being reset. Please set `warm_start=True` if you wish to continue to start a search where you left off.\n",
      "  warnings.warn(\n",
      "/home/ajt6830/miniconda3/envs/pysr_env/lib/python3.11/site-packages/pysr/sr.py:2811: UserWarning: Note: it looks like you are running in Jupyter. The progress bar will be turned off.\n",
      "  warnings.warn(\n"
     ]
    },
    {
     "name": "stdout",
     "output_type": "stream",
     "text": [
      "───────────────────────────────────────────────────────────────────────────────────────────────────\n",
      "Complexity  Loss       Score      Equation\n",
      "1           1.299e-02  0.000e+00  y = 0.17399\n",
      "3           5.630e-03  4.181e-01  y = x₁ * 0.034504\n",
      "4           4.103e-03  3.165e-01  y = sqrt(x₁) * 0.096387\n",
      "5           3.732e-03  9.469e-02  y = square(inv(x₀) * -150.46)\n",
      "7           9.451e-04  6.867e-01  y = (inv(x₀) * sqrt(x₁)) * 32.505\n",
      "8           1.796e-04  1.660e+00  y = cbrt(x₁) * square(-117.42 * inv(x₀))\n",
      "9           1.796e-04  1.132e-06  y = square((cbrt(sqrt(x₁)) * -117.42) * inv(x₀))\n",
      "11          1.316e-04  1.556e-01  y = square(inv(-36.763 - x₀) * (-131.95 * cbrt(sqrt(x₁))))\n",
      "13          1.024e-04  1.253e-01  y = square((inv(x₀ - -82.16) * cbrt(sqrt(x₁))) * -154.85) ...\n",
      "                                      - 0.017337\n",
      "16          1.024e-04  1.205e-04  y = square((inv((x₀ - cube(0.83116)) - -82.417) * -154.83)...\n",
      "                                       * cbrt(sqrt(x₁))) - 0.017576\n",
      "17          1.013e-04  1.046e-02  y = square((inv((x₀ + -0.74653) - -82.417) * cbrt(sqrt(x₁ ...\n",
      "                                      + 0.04835))) * -154.83) - 0.017506\n",
      "21          1.010e-04  7.798e-04  y = square(cbrt(sqrt(x₁)) * (-154.83 * inv((x₀ - (0.83116 ...\n",
      "                                      - (0.83116 - cube(inv(x₁))))) - -82.417))) - 0.017506\n",
      "23          1.005e-04  2.543e-03  y = square((inv(x₀ - -64.485) * cbrt(sqrt(x₁))) * (square(...\n",
      "                                      inv((x₁ + x₁) - 66.214) * x₁) + -146.52)) - 0.013047\n",
      "25          9.392e-05  3.380e-02  y = square(cbrt(sqrt(x₁)) * (inv((x₀ - (cube(inv(cbrt(0.89...\n",
      "                                      709 - cbrt(x₁)) + x₁)) - 0)) - -82.417) * -154.83)) - 0.01...\n",
      "                                      7506\n",
      "26          8.955e-05  4.756e-02  y = square((inv((x₀ - (cube(inv(cbrt(0.79662 - cbrt(sqrt(x...\n",
      "                                      ₁))) + x₁)) - -0.0015678)) - -82.415) * -154.83) * sqrt(cb...\n",
      "                                      rt(x₁))) - 0.018889\n",
      "───────────────────────────────────────────────────────────────────────────────────────────────────\n",
      "Current Prediction Average Error (%): 0.7807551212780794\n",
      "Best Prediction Average Error (%): 0.48067222392531395\n",
      "Current Model Formula: 17410.3987353409*Abs(sqrt(x1))**(2/3)*sign(sqrt(x1))**2/(-x0 - 36.763172)**2\n",
      "  - outputs/20250702_121830_Kqmkcm/hall_of_fame.csv\n",
      "───────────────────────────────────────────────────────────────────────────────────────────────────\n",
      "Complexity  Loss       Score      Equation\n",
      "1           1.299e-02  0.000e+00  y = 0.17399\n",
      "3           5.630e-03  4.181e-01  y = x₁ * 0.034504\n",
      "4           4.103e-03  3.165e-01  y = sqrt(x₁) * 0.096387\n",
      "5           3.732e-03  9.469e-02  y = inv(square(x₀)) * 22636\n",
      "7           9.451e-04  6.867e-01  y = (sqrt(x₁) * 32.505) * inv(x₀)\n",
      "8           9.071e-04  4.096e-02  y = (square(inv(x₀)) * 9865.9) * sqrt(x₁)\n",
      "9           3.780e-04  8.753e-01  y = (sqrt(sqrt(x₁)) * 15986) * inv(square(x₀))\n",
      "11          1.625e-04  4.221e-01  y = (inv(square(x₀)) * (sqrt(sqrt(x₁)) + -0.37338)) * 2124...\n",
      "                                      3\n",
      "13          1.581e-04  1.360e-02  y = ((sqrt(sqrt(x₁)) + -0.36206) * inv(square(x₀ + 1.583))...\n",
      "                                      ) * 21243\n",
      "17          1.476e-04  1.719e-02  y = sqrt((x₁ - -4.2565) * (inv(cube(x₁) + square(2.0975 - ...\n",
      "                                      x₀)) * 1269.2)) + -0.11018\n",
      "23          1.471e-04  5.937e-04  y = sqrt(square(sqrt((inv(square(x₀ - x₁) + cube(cube(cbrt...\n",
      "                                      (x₁ - -4.5977)))) * 1222.7) * (x₁ - -4.5977)) + -0.11065))\n",
      "24          1.452e-04  1.314e-02  y = square(sqrt(sqrt((x₁ - -4.5977) * (inv(square(x₀ - (-0...\n",
      "                                      .22851 + x₁)) + cube(x₁ + sqrt(x₁))) * 1222.7)) + -0.11065...\n",
      "                                      ))\n",
      "26          1.421e-04  1.067e-02  y = sqrt(square(sqrt((x₁ - -4.5977) * (inv(square(x₀ - x₁)...\n",
      "                                       + cube(cube(cbrt(sqrt(x₁) + (x₁ + 1.2441))))) * 1222.7)) ...\n",
      "                                      + -0.11065))\n",
      "27          1.408e-04  9.466e-03  y = square(sqrt(sqrt((x₁ - -4.5977) * (inv(square(x₁ - x₀)...\n",
      "                                       + cube(cube(inv(x₁) + cbrt(sqrt(x₁) + x₁)))) * 1222.7)) +...\n",
      "                                       -0.11065))\n",
      "29          1.395e-04  4.673e-03  y = sqrt(square(sqrt((x₁ - -4.6155) * (inv(square(inv(x₁) ...\n",
      "                                      + (x₀ - x₁)) + cube(cube(cbrt((sqrt(x₁) + 0.9216) + x₁))))...\n",
      "                                       * 1222.7)) - 0.11233))\n",
      "───────────────────────────────────────────────────────────────────────────────────────────────────\n"
     ]
    },
    {
     "name": "stderr",
     "output_type": "stream",
     "text": [
      "[ Info: Started!\n",
      "[ Info: Final population:\n",
      "[ Info: Results saved to:\n"
     ]
    },
    {
     "name": "stdout",
     "output_type": "stream",
     "text": [
      "Current Prediction Average Error (%): 0.8638665094707039\n",
      "Best Prediction Average Error (%): 0.48067222392531395\n",
      "Current Model Formula: 21242.83*(x1**(1/4) - 0.37338218)/x0**2\n"
     ]
    },
    {
     "name": "stderr",
     "output_type": "stream",
     "text": [
      "/home/ajt6830/miniconda3/envs/pysr_env/lib/python3.11/site-packages/pysr/sr.py:2217: UserWarning: The discovered expressions are being reset. Please set `warm_start=True` if you wish to continue to start a search where you left off.\n",
      "  warnings.warn(\n",
      "/home/ajt6830/miniconda3/envs/pysr_env/lib/python3.11/site-packages/pysr/sr.py:2811: UserWarning: Note: it looks like you are running in Jupyter. The progress bar will be turned off.\n",
      "  warnings.warn(\n",
      "[ Info: Started!\n"
     ]
    },
    {
     "name": "stdout",
     "output_type": "stream",
     "text": [
      "  - outputs/20250702_121835_hUsxLI/hall_of_fame.csv\n",
      "───────────────────────────────────────────────────────────────────────────────────────────────────\n",
      "Complexity  Loss       Score      Equation\n",
      "1           1.299e-02  0.000e+00  y = 0.17399\n",
      "3           5.630e-03  4.181e-01  y = x₁ * 0.034504\n",
      "4           4.103e-03  3.165e-01  y = sqrt(x₁) * 0.096387\n",
      "5           3.770e-03  8.459e-02  y = (x₁ + 2.5251) * 0.025813\n",
      "6           3.479e-03  8.027e-02  y = (inv(x₀) * 139.03) - 0.20414\n",
      "7           9.451e-04  1.303e+00  y = sqrt(x₁ * 1056.6) * inv(x₀)\n",
      "8           6.991e-04  3.015e-01  y = (0.29563 - (x₀ * 0.00047183)) * cbrt(x₁)\n",
      "9           5.086e-04  3.182e-01  y = inv(-2.4348 - (x₀ * -0.03036)) * cbrt(x₁)\n",
      "10          4.949e-04  2.713e-02  y = inv(inv(-0.39216) - (-0.03036 * x₀)) * cbrt(x₁)\n",
      "11          1.631e-04  1.110e+00  y = cbrt(x₁) * (-0.026806 - inv((-0.026806 * x₀) + 2.4134)...\n",
      "                                      )\n",
      "13          1.490e-04  4.523e-02  y = -0.021746 - (cube(cbrt(inv((x₀ * -0.033184) + 3.778)))...\n",
      "                                       * cbrt(x₁))\n",
      "15          1.431e-04  2.028e-02  y = cube(cbrt((-0.032732 - (cbrt(x₁) * inv((x₀ * -0.024442...\n",
      "                                      ) + 2.4675))) * 0.81176))\n",
      "18          1.347e-04  2.012e-02  y = cube(cbrt((-0.032732 - ((inv((-0.024442 * x₀) + 2.4675...\n",
      "                                      ) * 0.88034) - inv(x₀))) * cbrt(x₁)))\n",
      "20          1.347e-04  4.515e-05  y = cube(cbrt((-0.032732 - ((inv((-0.024442 * x₀) + 2.4675...\n",
      "                                      ) * 0.88034) - inv(x₀ + -0.24671))) * cbrt(x₁)))\n",
      "22          1.347e-04  4.533e-05  y = cbrt(cube((-0.032732 - ((inv((-0.024442 * x₀) + 2.4675...\n",
      "                                      ) * 0.88034) - inv((x₀ + -0.24671) + -0.24671))) * cbrt(x₁...\n",
      "                                      )))\n",
      "───────────────────────────────────────────────────────────────────────────────────────────────────\n"
     ]
    },
    {
     "name": "stderr",
     "output_type": "stream",
     "text": [
      "[ Info: Final population:\n",
      "[ Info: Results saved to:\n"
     ]
    },
    {
     "name": "stdout",
     "output_type": "stream",
     "text": [
      "Current Prediction Average Error (%): 0.9329664557574328\n",
      "Best Prediction Average Error (%): 0.48067222392531395\n",
      "Current Model Formula: (-0.02680642 - 1/(2.4134314 - 0.02680642*x0))*Abs(x1)**(1/3)*sign(x1)\n"
     ]
    },
    {
     "name": "stderr",
     "output_type": "stream",
     "text": [
      "/home/ajt6830/miniconda3/envs/pysr_env/lib/python3.11/site-packages/pysr/sr.py:2217: UserWarning: The discovered expressions are being reset. Please set `warm_start=True` if you wish to continue to start a search where you left off.\n",
      "  warnings.warn(\n",
      "/home/ajt6830/miniconda3/envs/pysr_env/lib/python3.11/site-packages/pysr/sr.py:2811: UserWarning: Note: it looks like you are running in Jupyter. The progress bar will be turned off.\n",
      "  warnings.warn(\n"
     ]
    },
    {
     "name": "stdout",
     "output_type": "stream",
     "text": [
      "  - outputs/20250702_121841_G3WO0a/hall_of_fame.csv\n",
      "───────────────────────────────────────────────────────────────────────────────────────────────────\n",
      "Complexity  Loss       Score      Equation\n",
      "1           1.299e-02  0.000e+00  y = 0.17399\n",
      "3           5.630e-03  4.181e-01  y = x₁ * 0.034504\n",
      "4           4.103e-03  3.165e-01  y = sqrt(x₁) * 0.096387\n",
      "5           3.741e-03  9.228e-02  y = cbrt(square(x₁ * 0.018895))\n",
      "7           8.150e-04  7.620e-01  y = sqrt(inv(x₀ + -207.84) * x₁)\n",
      "9           7.010e-04  7.531e-02  y = sqrt(inv(x₀ + -204.35) * (x₁ + 0.22036))\n",
      "10          6.412e-04  8.926e-02  y = cube(inv(sqrt(sqrt(x₀)) + -2.072)) * sqrt(x₁)\n",
      "12          2.369e-04  4.978e-01  y = cbrt(x₁) * (sqrt(inv(x₀ + -193.12) * 4.6047) - 0.05844...\n",
      "                                      7)\n",
      "14          1.422e-04  2.551e-01  y = (cbrt((x₁ + 1.2954) * 10.422) * sqrt(inv(x₀ + -173.87)...\n",
      "                                      )) - 0.10599\n",
      "18          1.395e-04  4.788e-03  y = (sqrt(inv(x₀ + -173.79)) * cbrt((sqrt(sqrt(x₁ + 1.918)...\n",
      "                                      ) + x₁) * 9.961)) - 0.10521\n",
      "20          1.376e-04  6.972e-03  y = (cbrt((cbrt(sqrt((x₁ * 13.22) + 1.5495)) + x₁) * 9.968...\n",
      "                                      9) * inv(sqrt(x₀ + -173.73))) - 0.11148\n",
      "26          9.168e-05  6.769e-02  y = ((x₀ * ((inv(cube(sqrt(x₀) + -7.2837)) * (inv(x₀ + sqr...\n",
      "                                      t(cube(x₁))) * x₀)) * 0.42096)) * sqrt(x₁ + 1.2734)) - 0.0...\n",
      "                                      40975\n",
      "───────────────────────────────────────────────────────────────────────────────────────────────────\n",
      "Current Prediction Average Error (%): 0.6610141651585671\n",
      "Best Prediction Average Error (%): 0.48067222392531395\n"
     ]
    },
    {
     "name": "stderr",
     "output_type": "stream",
     "text": [
      "[ Info: Started!\n",
      "[ Info: Final population:\n",
      "[ Info: Results saved to:\n"
     ]
    },
    {
     "name": "stdout",
     "output_type": "stream",
     "text": [
      "Current Model Formula: 0.42095616*x0**2*sqrt(x1 + 1.2734466)/((sqrt(x0) - 7.283688)**3*(x0 + sqrt(x1**3))) - 0.040974855\n"
     ]
    },
    {
     "name": "stderr",
     "output_type": "stream",
     "text": [
      "/home/ajt6830/miniconda3/envs/pysr_env/lib/python3.11/site-packages/pysr/sr.py:1270: UserWarning: `extra_sympy_mappings` cannot be pickled and will be removed from the serialized instance. When loading the model, please redefine `extra_sympy_mappings` at runtime.\n",
      "  warnings.warn(warn_msg)\n",
      "/home/ajt6830/miniconda3/envs/pysr_env/lib/python3.11/site-packages/pysr/sr.py:2217: UserWarning: The discovered expressions are being reset. Please set `warm_start=True` if you wish to continue to start a search where you left off.\n",
      "  warnings.warn(\n",
      "/home/ajt6830/miniconda3/envs/pysr_env/lib/python3.11/site-packages/pysr/sr.py:2811: UserWarning: Note: it looks like you are running in Jupyter. The progress bar will be turned off.\n",
      "  warnings.warn(\n"
     ]
    },
    {
     "name": "stdout",
     "output_type": "stream",
     "text": [
      "  - outputs/20250702_121846_cp6QAR/hall_of_fame.csv\n",
      "───────────────────────────────────────────────────────────────────────────────────────────────────\n",
      "Complexity  Loss       Score      Equation\n",
      "1           1.299e-02  0.000e+00  y = 0.17399\n",
      "3           5.630e-03  4.181e-01  y = x₁ * 0.034504\n",
      "4           4.103e-03  3.165e-01  y = sqrt(x₁) * 0.096387\n",
      "5           3.732e-03  9.469e-02  y = inv(square(x₀)) * 22636\n",
      "6           3.479e-03  7.017e-02  y = (inv(x₀) * 139.02) + -0.2041\n",
      "7           9.451e-04  1.303e+00  y = (sqrt(x₁) * 32.505) * inv(x₀)\n",
      "8           1.796e-04  1.660e+00  y = inv(square(x₀)) * (13788 * cbrt(x₁))\n",
      "9           1.050e-04  5.365e-01  y = (76.504 * (inv(x₀) + -0.0012943)) * cbrt(x₁)\n",
      "11          1.032e-04  8.935e-03  y = (cbrt(x₁) * ((x₀ + -790.57) * -0.095055)) * inv(x₀)\n",
      "13          1.001e-04  1.491e-02  y = (x₀ + -796.28) * (((inv(x₀) * cbrt(x₁)) + -0.00012134)...\n",
      "                                       * -0.096043)\n",
      "15          1.001e-04  2.086e-07  y = ((x₀ + -795.9) - 0.38154) * (((inv(x₀) * cbrt(x₁)) + -...\n",
      "                                      0.00012134) * -0.096043)\n",
      "16          7.924e-05  2.341e-01  y = cbrt(x₁) * (inv(inv(x₁ - 2.9591) + x₀) * ((x₀ + -806.0...\n",
      "                                      2) * -0.092772))\n",
      "18          7.913e-05  7.117e-04  y = ((x₀ + -806.02) * cbrt(x₁)) * (inv((x₀ + inv(x₁ - 2.95...\n",
      "                                      91)) + -0.48109) * -0.092772)\n",
      "21          7.892e-05  8.790e-04  y = ((cbrt(x₁) * inv(inv((x₁ - -0.13235) - (inv(x₀) + 3.09...\n",
      "                                      15)) + x₀)) * (x₀ + -806.02)) * -0.092837\n",
      "23          7.879e-05  7.794e-04  y = cbrt(x₁) * ((inv((x₀ - 0.28283) + inv((x₁ - -0.13235) ...\n",
      "                                      - (3.0915 + inv(x₀)))) * (x₀ + -806.02)) * -0.092772)\n",
      "26          7.652e-05  9.780e-03  y = cbrt(x₁) * ((inv(x₀ + (inv((x₁ - -0.13235) - 3.0915) +...\n",
      "                                       inv(x₁ - (square(x₁) - 3.0915)))) * (x₀ + -806.02)) * -0....\n",
      "                                      092772)\n",
      "───────────────────────────────────────────────────────────────────────────────────────────────────\n",
      "Current Prediction Average Error (%): 0.6283803233387562\n",
      "Best Prediction Average Error (%): 0.48067222392531395\n",
      "Current Model Formula: (-0.099019453882731 + 76.503815/x0)*Abs(x1)**(1/3)*sign(x1)\n"
     ]
    },
    {
     "name": "stderr",
     "output_type": "stream",
     "text": [
      "[ Info: Started!\n",
      "[ Info: Final population:\n",
      "[ Info: Results saved to:\n",
      "/home/ajt6830/miniconda3/envs/pysr_env/lib/python3.11/site-packages/pysr/sr.py:1270: UserWarning: `extra_sympy_mappings` cannot be pickled and will be removed from the serialized instance. When loading the model, please redefine `extra_sympy_mappings` at runtime.\n",
      "  warnings.warn(warn_msg)\n",
      "/home/ajt6830/miniconda3/envs/pysr_env/lib/python3.11/site-packages/pysr/sr.py:2217: UserWarning: The discovered expressions are being reset. Please set `warm_start=True` if you wish to continue to start a search where you left off.\n",
      "  warnings.warn(\n",
      "/home/ajt6830/miniconda3/envs/pysr_env/lib/python3.11/site-packages/pysr/sr.py:2811: UserWarning: Note: it looks like you are running in Jupyter. The progress bar will be turned off.\n",
      "  warnings.warn(\n"
     ]
    },
    {
     "name": "stdout",
     "output_type": "stream",
     "text": [
      "  - outputs/20250702_121851_eNFu3h/hall_of_fame.csv\n",
      "───────────────────────────────────────────────────────────────────────────────────────────────────\n",
      "Complexity  Loss       Score      Equation\n",
      "1           1.299e-02  0.000e+00  y = 0.17399\n",
      "3           5.630e-03  4.181e-01  y = x₁ * 0.034503\n",
      "4           4.103e-03  3.165e-01  y = sqrt(x₁) * 0.096387\n",
      "5           3.741e-03  9.228e-02  y = cbrt(square(x₁ * 0.018897))\n",
      "7           9.265e-04  6.978e-01  y = sqrt(x₁ * inv(x₀ + -200.02))\n",
      "9           6.601e-04  1.695e-01  y = cbrt(inv(x₀ + -194.59) * x₁) + -0.10661\n",
      "11          5.218e-04  1.176e-01  y = -0.11235 + cbrt(x₁ * inv(x₁ + (x₀ + -208.32)))\n",
      "13          4.521e-04  7.161e-02  y = cbrt(x₁ * inv((x₁ + x₁) + (x₀ + -217.21))) + -0.11473\n",
      "15          4.360e-04  1.813e-02  y = cbrt((x₁ + 0.032343) * inv(x₁ + (x₁ + (x₀ + -217.21)))...\n",
      "                                      ) + -0.11473\n",
      "16          3.896e-04  1.126e-01  y = cube(inv(square(((sqrt(x₀ - x₁) + (inv(x₁) * 5.3589)) ...\n",
      "                                      * 0.046984) + 0.37774)))\n",
      "17          2.792e-04  3.332e-01  y = inv(cube(square((sqrt(x₀ + inv(inv(x₀) * (x₁ - -0.4515...\n",
      "                                      ))) * 0.041275) + 0.45349)))\n",
      "19          1.841e-04  2.083e-01  y = cube(square(inv((sqrt((x₀ + inv(inv(x₀) * (x₁ - -0.525...\n",
      "                                      38))) - x₁) * 0.042898) + 0.43712)))\n",
      "21          1.756e-04  2.348e-02  y = cube(square(inv((sqrt(x₀ + ((inv(inv(x₀) * (x₁ - -0.60...\n",
      "                                      19)) - x₁) - -3.0638)) * 0.042759) + 0.43712)))\n",
      "22          1.494e-04  1.617e-01  y = square(cube(inv(0.43712 + (sqrt(x₀ + (inv((x₁ - inv(-1...\n",
      "                                      .9159 * x₁)) * inv(x₀)) - x₁)) * 0.042739))))\n",
      "24          1.289e-04  7.371e-02  y = cube(square(inv((0.042739 * sqrt((inv(inv(x₀ + 0.99179...\n",
      "                                      ) * (x₁ - inv(x₁ * -1.2397))) - x₁) + x₀)) + 0.43712)))\n",
      "26          1.268e-04  8.318e-03  y = cube(inv(square((0.042739 * sqrt((inv(inv(x₀ + 0.99179...\n",
      "                                      ) * (x₁ - inv(x₁ * -1.2397))) - (x₁ + -1.3309)) + x₀)) + 0...\n",
      "                                      .43712)))\n",
      "27          1.120e-04  1.238e-01  y = cube(square(inv((sqrt(x₀ + ((inv(inv(x₀ + 0.99179) * (...\n",
      "                                      x₁ - inv(-1.2397 * square(x₁)))) - x₁) + -0.51116)) * 0.04...\n",
      "                                      2739) + 0.43712)))\n",
      "29          1.118e-04  1.095e-03  y = cube(square(inv((sqrt((x₀ + inv(inv(x₀ + 0.99179) * (x...\n",
      "                                      ₁ - inv(-1.2397 * square(x₁))))) - (-0.4437 + (x₁ - -0.493...\n",
      "                                      57))) * 0.042739) + 0.43712)))\n",
      "30          1.113e-04  4.686e-03  y = cube(square(inv((sqrt((x₀ + inv(inv(x₀ + square(1.4043...\n",
      "                                      )) * (x₁ - inv(square(x₁) * -1.2397)))) - (-0.4437 + (x₁ -...\n",
      "                                       -0.49357))) * 0.042739) + 0.43712)))\n",
      "───────────────────────────────────────────────────────────────────────────────────────────────────\n"
     ]
    },
    {
     "name": "stderr",
     "output_type": "stream",
     "text": [
      "[ Info: Started!\n",
      "[ Info: Final population:\n",
      "[ Info: Results saved to:\n"
     ]
    },
    {
     "name": "stdout",
     "output_type": "stream",
     "text": [
      "Current Prediction Average Error (%): 0.8192603802053914\n",
      "Best Prediction Average Error (%): 0.48067222392531395\n",
      "Current Model Formula: (0.042739004*sqrt(x0 + x0/(x1 + 0.521944368037588/x1) - x1) + 0.43712315)**(-6)\n"
     ]
    },
    {
     "name": "stderr",
     "output_type": "stream",
     "text": [
      "/home/ajt6830/miniconda3/envs/pysr_env/lib/python3.11/site-packages/pysr/sr.py:2217: UserWarning: The discovered expressions are being reset. Please set `warm_start=True` if you wish to continue to start a search where you left off.\n",
      "  warnings.warn(\n",
      "/home/ajt6830/miniconda3/envs/pysr_env/lib/python3.11/site-packages/pysr/sr.py:2811: UserWarning: Note: it looks like you are running in Jupyter. The progress bar will be turned off.\n",
      "  warnings.warn(\n"
     ]
    },
    {
     "name": "stdout",
     "output_type": "stream",
     "text": [
      "  - outputs/20250702_121856_UVO79D/hall_of_fame.csv\n",
      "───────────────────────────────────────────────────────────────────────────────────────────────────\n",
      "Complexity  Loss       Score      Equation\n",
      "1           1.299e-02  0.000e+00  y = 0.17399\n",
      "3           5.630e-03  4.181e-01  y = x₁ * 0.034504\n",
      "4           4.103e-03  3.165e-01  y = sqrt(x₁) * 0.096387\n",
      "5           3.732e-03  9.469e-02  y = square(inv(x₀) * 150.45)\n",
      "6           3.479e-03  7.017e-02  y = -0.20415 - (inv(x₀) * -139.03)\n",
      "7           2.979e-03  1.551e-01  y = cbrt(x₁ * inv(x₀)) + -0.035074\n",
      "8           2.048e-03  3.747e-01  y = inv(sqrt(inv(x₁ * 3.2366) * x₀))\n",
      "9           1.583e-03  2.577e-01  y = sqrt(x₁) * (cbrt(square(inv(x₀))) * 4.7362)\n",
      "10          4.204e-04  1.326e+00  y = inv(square(inv(sqrt(cbrt(x₁))) * (x₀ * -0.0088536)))\n",
      "11          1.796e-04  8.505e-01  y = square((inv(x₀) * 117.42) * inv(sqrt(inv(cbrt(x₁)))))\n",
      "12          1.796e-04  1.967e-06  y = square(244.52 * inv((x₀ * 2.0824) * sqrt(inv(cbrt(x₁))...\n",
      "                                      )))\n",
      "14          1.670e-04  3.645e-02  y = square(inv(inv(cbrt(sqrt(x₁ * 0.37934))) * (x₀ + 4.728...\n",
      "                                      6)) * -140.22)\n",
      "16          1.600e-04  2.148e-02  y = square(inv((x₁ * 0.5221) + (x₀ * inv(cbrt(sqrt(x₁) * 0...\n",
      "                                      .20572)))) * -201.55)\n",
      "18          1.492e-04  3.485e-02  y = square(inv((0.51899 * x₁) + (inv(cbrt(sqrt((x₁ + -0.10...\n",
      "                                      714) * 0.042758))) * x₀)) * -201.55)\n",
      "21          1.302e-04  4.529e-02  y = square(inv(cbrt(cbrt((square(inv(cbrt(x₁) * 1.1247)) *...\n",
      "                                       inv(x₁)) * 106.11)) * (x₁ + x₀)) * 190.99)\n",
      "29          1.225e-04  7.675e-03  y = square(inv(cbrt(cbrt((cbrt(inv((x₁ * (x₁ - 1.589)) * x...\n",
      "                                      ₁)) * inv(inv(inv(sqrt(x₁)) * 78.493))) * 78.493)) * (x₀ +...\n",
      "                                       x₁)) * 323.14)\n",
      "30          1.212e-04  1.089e-02  y = square(inv(cbrt(cbrt((inv(inv(sqrt(inv(x₁) * 130.12)))...\n",
      "                                       * cbrt(inv(((1.4108 - x₁) * square(x₁)) * -1.4297))) * 58...\n",
      "                                      .796)) * (x₀ + x₁)) * 249.26)\n",
      "───────────────────────────────────────────────────────────────────────────────────────────────────\n",
      "Current Prediction Average Error (%): 0.9047005007384324\n",
      "Best Prediction Average Error (%): 0.48067222392531395\n",
      "Current Model Formula: 13787.9777497284*Abs(x1)**(1/3)*sign(x1)/x0**2\n"
     ]
    },
    {
     "name": "stderr",
     "output_type": "stream",
     "text": [
      "[ Info: Started!\n",
      "[ Info: Final population:\n",
      "[ Info: Results saved to:\n",
      "/home/ajt6830/miniconda3/envs/pysr_env/lib/python3.11/site-packages/pysr/sr.py:2217: UserWarning: The discovered expressions are being reset. Please set `warm_start=True` if you wish to continue to start a search where you left off.\n",
      "  warnings.warn(\n",
      "/home/ajt6830/miniconda3/envs/pysr_env/lib/python3.11/site-packages/pysr/sr.py:2811: UserWarning: Note: it looks like you are running in Jupyter. The progress bar will be turned off.\n",
      "  warnings.warn(\n"
     ]
    },
    {
     "name": "stdout",
     "output_type": "stream",
     "text": [
      "  - outputs/20250702_121902_XGpzRE/hall_of_fame.csv\n",
      "───────────────────────────────────────────────────────────────────────────────────────────────────\n",
      "Complexity  Loss       Score      Equation\n",
      "1           1.299e-02  0.000e+00  y = 0.17398\n",
      "3           5.630e-03  4.181e-01  y = x₁ * 0.034503\n",
      "4           4.103e-03  3.165e-01  y = sqrt(x₁) * 0.096387\n",
      "5           3.770e-03  8.459e-02  y = (x₁ * 0.025812) - -0.065183\n",
      "7           8.150e-04  7.658e-01  y = sqrt(x₁ * inv(x₀ + -207.84))\n",
      "9           6.957e-04  7.910e-02  y = sqrt(inv(x₀ - 207.83) * (x₁ + 0.62262))\n",
      "10          6.205e-04  1.144e-01  y = sqrt(x₁ + 0.77801) * sqrt(inv(x₀ - 198.89))\n",
      "11          4.816e-04  2.535e-01  y = sqrt(inv(x₁ + (x₀ - 209.39)) * (x₁ + 0.59409))\n",
      "12          1.817e-04  9.747e-01  y = ((sqrt(x₁) + 1.753) * inv(sqrt(x₀ - 174.23))) + -0.102...\n",
      "                                      02\n",
      "14          1.712e-04  2.979e-02  y = (inv(sqrt(x₀ - 174.34)) * (sqrt(x₁ - -0.79389) + 1.665...\n",
      "                                      2)) + -0.1121\n",
      "15          1.681e-04  1.800e-02  y = cube(square(cbrt(cbrt(sqrt(x₁) * inv((x₀ * -1.0743e-05...\n",
      "                                      ) * cube(sqrt(x₀)))))))\n",
      "16          1.616e-04  3.954e-02  y = ((sqrt(x₁) + cbrt(cbrt(x₀))) * (inv(sqrt(x₀ - 175.32))...\n",
      "                                       + -0.0062918)) - 0.091652\n",
      "17          1.220e-04  2.811e-01  y = cbrt(square(inv(x₀ * (cbrt(x₀ * cube(x₀)) * -2.4528e-0...\n",
      "                                      5)) * sqrt(x₁))) - 0.018158\n",
      "19          1.134e-04  3.678e-02  y = cbrt(square(inv((x₀ + x₁) * (cbrt(x₀ * cube(x₀)) * -2....\n",
      "                                      4528e-05)) * sqrt(x₁))) - 0.018158\n",
      "21          1.107e-04  1.208e-02  y = (cbrt(square(inv((-2.4528e-05 * x₀) * square(sqrt(cbrt...\n",
      "                                      (x₀ * cube(x₀))))) * sqrt(x₁))) - 0.018158) + -0.002465\n",
      "23          1.032e-04  3.487e-02  y = cbrt(square(inv(cbrt(square(square(sqrt(sqrt(x₀ * cube...\n",
      "                                      (x₀ + x₁)))))) * (x₀ * -2.2869e-05)) * sqrt(x₁))) - 0.0299...\n",
      "                                      3\n",
      "25          9.896e-05  2.104e-02  y = cbrt(square(sqrt(x₁) * inv(x₀ * (square(square(sqrt(cb...\n",
      "                                      rt(sqrt(cube(x₀ + (x₁ - 12.626)) * x₀))))) * -2.489e-05)))...\n",
      "                                      ) - 0.021621\n",
      "30          9.815e-05  1.639e-03  y = square(cbrt(inv((x₀ - -0.39626) * (square(square(cbrt(...\n",
      "                                      sqrt(sqrt(x₀ * cube(x₀ + square((x₁ + 0.017071) * 0.23))))...\n",
      "                                      ))) * -2.3087e-05)) * sqrt(x₁))) - 0.027861\n",
      "───────────────────────────────────────────────────────────────────────────────────────────────────\n"
     ]
    },
    {
     "name": "stderr",
     "output_type": "stream",
     "text": [
      "[ Info: Started!\n",
      "[ Info: Final population:\n",
      "[ Info: Results saved to:\n"
     ]
    },
    {
     "name": "stdout",
     "output_type": "stream",
     "text": [
      "Current Prediction Average Error (%): 0.7094391208824103\n",
      "Best Prediction Average Error (%): 0.48067222392531395\n",
      "Current Model Formula: -0.018158471 + 1184.57909450255*Abs(x1/(x0**2*sign(x0**4)**2))**(1/3)*sign(x1/(x0**2*Abs(x0**4)**(2/3)*sign(x0**4)**2))/Abs(x0**4)**(2/9)\n"
     ]
    },
    {
     "name": "stderr",
     "output_type": "stream",
     "text": [
      "/home/ajt6830/miniconda3/envs/pysr_env/lib/python3.11/site-packages/pysr/sr.py:1270: UserWarning: `extra_sympy_mappings` cannot be pickled and will be removed from the serialized instance. When loading the model, please redefine `extra_sympy_mappings` at runtime.\n",
      "  warnings.warn(warn_msg)\n",
      "/home/ajt6830/miniconda3/envs/pysr_env/lib/python3.11/site-packages/pysr/sr.py:2217: UserWarning: The discovered expressions are being reset. Please set `warm_start=True` if you wish to continue to start a search where you left off.\n",
      "  warnings.warn(\n",
      "/home/ajt6830/miniconda3/envs/pysr_env/lib/python3.11/site-packages/pysr/sr.py:2811: UserWarning: Note: it looks like you are running in Jupyter. The progress bar will be turned off.\n",
      "  warnings.warn(\n"
     ]
    },
    {
     "name": "stdout",
     "output_type": "stream",
     "text": [
      "  - outputs/20250702_121907_OS0elo/hall_of_fame.csv\n",
      "───────────────────────────────────────────────────────────────────────────────────────────────────\n",
      "Complexity  Loss       Score      Equation\n",
      "1           1.299e-02  0.000e+00  y = 0.17399\n",
      "3           5.630e-03  4.181e-01  y = x₁ * 0.034503\n",
      "4           4.103e-03  3.165e-01  y = sqrt(x₁) * 0.096387\n",
      "5           3.732e-03  9.469e-02  y = square(inv(x₀) * 150.45)\n",
      "6           3.479e-03  7.017e-02  y = (inv(x₀) * 139.04) - 0.20415\n",
      "7           9.451e-04  1.303e+00  y = (inv(x₀) * 32.506) * sqrt(x₁)\n",
      "8           9.071e-04  4.096e-02  y = sqrt(x₁) * (square(inv(x₀)) * 9865.9)\n",
      "9           3.780e-04  8.753e-01  y = sqrt(sqrt(x₁)) * square(inv(x₀) * 126.43)\n",
      "10          3.240e-04  1.544e-01  y = (inv(x₀) * ((-16.059 - x₁) * -5.128)) - 0.11529\n",
      "11          2.135e-04  4.171e-01  y = square(inv(x₀) * 127.86) * sqrt(sqrt(x₁ - 0.55719))\n",
      "13          2.021e-04  2.732e-02  y = square(inv(x₀ + 2.1409) * 139.18) * sqrt(-0.61154 + sq...\n",
      "                                      rt(x₁))\n",
      "14          1.849e-04  8.900e-02  y = sqrt(-0.61154 + sqrt(x₁)) * square(inv(x₀ + sqrt(x₁)) ...\n",
      "                                      * 139.18)\n",
      "16          1.817e-04  8.625e-03  y = sqrt(-0.61154 + sqrt(x₁)) * square(inv(x₀ + (2.1409 + ...\n",
      "                                      sqrt(x₁))) * 139.18)\n",
      "20          1.784e-04  4.709e-03  y = square(cbrt((inv((square(-0.045697 * (x₀ + x₀)) - x₀) ...\n",
      "                                      * -0.089981) * 2.3912) * sqrt(-0.16566 + x₁)))\n",
      "23          1.722e-04  1.168e-02  y = square(cbrt((2.3912 * inv((square((x₀ + x₀) * -0.04569...\n",
      "                                      7) - (x₀ + cbrt(x₀))) * -0.089981)) * sqrt(x₁ + -0.2386)))\n",
      "24          1.615e-04  6.446e-02  y = cbrt(square(((((sqrt(x₁) * inv((-0.13265 - square((x₀ ...\n",
      "                                      + x₀) * -0.04718)) * -0.028808)) + x₀) - x₀) * -1.516) + 0...\n",
      "                                      .012196))\n",
      "───────────────────────────────────────────────────────────────────────────────────────────────────\n",
      "Current Prediction Average Error (%): 1.081896333230757\n",
      "Best Prediction Average Error (%): 0.48067222392531395\n",
      "Current Model Formula: 16347.2027641924*(x1 - 0.55719405)**(1/4)/x0**2\n"
     ]
    },
    {
     "name": "stderr",
     "output_type": "stream",
     "text": [
      "[ Info: Started!\n",
      "[ Info: Final population:\n",
      "[ Info: Results saved to:\n",
      "/home/ajt6830/miniconda3/envs/pysr_env/lib/python3.11/site-packages/pysr/sr.py:2217: UserWarning: The discovered expressions are being reset. Please set `warm_start=True` if you wish to continue to start a search where you left off.\n",
      "  warnings.warn(\n",
      "/home/ajt6830/miniconda3/envs/pysr_env/lib/python3.11/site-packages/pysr/sr.py:2811: UserWarning: Note: it looks like you are running in Jupyter. The progress bar will be turned off.\n",
      "  warnings.warn(\n"
     ]
    },
    {
     "name": "stdout",
     "output_type": "stream",
     "text": [
      "  - outputs/20250702_121912_VC3kfr/hall_of_fame.csv\n",
      "───────────────────────────────────────────────────────────────────────────────────────────────────\n",
      "Complexity  Loss       Score      Equation\n",
      "1           1.299e-02  0.000e+00  y = 0.17399\n",
      "3           5.630e-03  4.181e-01  y = x₁ * 0.034503\n",
      "4           4.103e-03  3.165e-01  y = sqrt(x₁) * 0.096387\n",
      "5           3.770e-03  8.459e-02  y = (x₁ * 0.025812) - -0.065183\n",
      "7           8.150e-04  7.658e-01  y = sqrt(inv(x₀ + -207.83) * x₁)\n",
      "8           6.991e-04  1.534e-01  y = ((x₀ * -0.00047183) + 0.29563) * cbrt(x₁)\n",
      "9           5.109e-04  3.136e-01  y = sqrt(x₁ * inv((x₁ + -219.57) + x₀))\n",
      "10          2.673e-04  6.478e-01  y = cbrt(x₁) * (sqrt(inv(x₀ * 0.022283)) + -0.23513)\n",
      "12          2.174e-04  1.034e-01  y = (inv(sqrt((x₀ + -25.752) * 0.026263)) + -0.22081) * cb...\n",
      "                                      rt(x₁)\n",
      "14          1.006e-04  3.854e-01  y = ((sqrt(inv((x₀ * 0.18651) + -20.627)) + -0.087622) * 1...\n",
      "                                      .9147) * cbrt(x₁)\n",
      "16          1.003e-04  1.559e-03  y = (cbrt(x₁ + -0.007413) * 1.9147) * (sqrt(inv((x₀ * 0.18...\n",
      "                                      649) + -20.627)) + -0.087596)\n",
      "17          1.002e-04  8.548e-05  y = (1.9147 * cbrt(x₁ + cube(-0.19793))) * (inv(sqrt((x₀ *...\n",
      "                                       0.18646) + -20.627)) + -0.087567)\n",
      "18          9.994e-05  3.030e-03  y = ((cbrt(x₁) + -0.007413) * (inv(sqrt(((x₀ - 0.35301) * ...\n",
      "                                      0.18649) + -20.627)) + -0.087596)) * 1.9147\n",
      "19          9.970e-05  2.438e-03  y = (1.9147 * cbrt(x₁ + (-0.54557 + cube(0.77891)))) * (sq...\n",
      "                                      rt(inv((x₀ * 0.18646) + -20.627)) + -0.087567)\n",
      "───────────────────────────────────────────────────────────────────────────────────────────────────\n",
      "Current Prediction Average Error (%): 0.5951709220260194\n",
      "Best Prediction Average Error (%): 0.48067222392531395\n",
      "Current Model Formula: (1.9146817*sqrt(1/(0.18650891*x0 - 20.6269)) - 0.16776900579008)*Abs(x1)**(1/3)*sign(x1)\n"
     ]
    },
    {
     "name": "stderr",
     "output_type": "stream",
     "text": [
      "[ Info: Started!\n",
      "[ Info: Final population:\n",
      "[ Info: Results saved to:\n",
      "/home/ajt6830/miniconda3/envs/pysr_env/lib/python3.11/site-packages/pysr/sr.py:1270: UserWarning: `extra_sympy_mappings` cannot be pickled and will be removed from the serialized instance. When loading the model, please redefine `extra_sympy_mappings` at runtime.\n",
      "  warnings.warn(warn_msg)\n",
      "/home/ajt6830/miniconda3/envs/pysr_env/lib/python3.11/site-packages/pysr/sr.py:2217: UserWarning: The discovered expressions are being reset. Please set `warm_start=True` if you wish to continue to start a search where you left off.\n",
      "  warnings.warn(\n",
      "/home/ajt6830/miniconda3/envs/pysr_env/lib/python3.11/site-packages/pysr/sr.py:2811: UserWarning: Note: it looks like you are running in Jupyter. The progress bar will be turned off.\n",
      "  warnings.warn(\n"
     ]
    },
    {
     "name": "stdout",
     "output_type": "stream",
     "text": [
      "  - outputs/20250702_121917_Ii3b15/hall_of_fame.csv\n"
     ]
    },
    {
     "name": "stderr",
     "output_type": "stream",
     "text": [
      "[ Info: Started!\n",
      "[ Info: Final population:\n",
      "[ Info: Results saved to:\n"
     ]
    },
    {
     "name": "stdout",
     "output_type": "stream",
     "text": [
      "───────────────────────────────────────────────────────────────────────────────────────────────────\n",
      "Complexity  Loss       Score      Equation\n",
      "1           1.299e-02  0.000e+00  y = 0.17399\n",
      "3           5.630e-03  4.181e-01  y = x₁ * 0.034504\n",
      "4           4.103e-03  3.165e-01  y = sqrt(x₁) * 0.096386\n",
      "5           3.732e-03  9.463e-02  y = square(inv(x₀ * -0.0066385))\n",
      "7           9.451e-04  6.868e-01  y = sqrt(x₁ * 1056.6) * inv(x₀)\n",
      "8           3.475e-04  1.000e+00  y = (2.0434 - cbrt(cbrt(x₀))) * cbrt(x₁)\n",
      "10          2.512e-04  1.623e-01  y = sqrt(square((2.0434 - cbrt(cbrt(x₀))) * cbrt(x₁)))\n",
      "12          1.168e-04  3.831e-01  y = cbrt(x₁ * sqrt(x₀)) * square(2.1307 - cbrt(cbrt(x₀)))\n",
      "13          1.168e-04  4.590e-06  y = (cbrt(sqrt(x₀)) * square(2.1307 - cbrt(cbrt(x₀)))) * c...\n",
      "                                      brt(x₁)\n",
      "14          1.160e-04  6.842e-03  y = cbrt(x₁ * sqrt(x₀ + x₁)) * square(cbrt(cbrt(x₀)) - 2.1...\n",
      "                                      298)\n",
      "16          1.153e-04  2.984e-03  y = cbrt(sqrt((x₁ + x₁) + x₀) * x₁) * square(cbrt(cbrt(x₀)...\n",
      "                                      ) - 2.1298)\n",
      "18          1.114e-04  1.711e-02  y = cbrt(x₁ * ((2.7125 - cbrt(cbrt(x₀))) * sqrt(x₀))) * sq...\n",
      "                                      uare(2.1384 - cbrt(cbrt(x₀)))\n",
      "19          1.114e-04  1.788e-07  y = cbrt(x₁ * sqrt(square(2.7125 - cbrt(cbrt(x₀))) * x₀)) ...\n",
      "                                      * square(cbrt(cbrt(x₀)) - 2.1384)\n",
      "20          1.109e-04  4.760e-03  y = square(cbrt(cbrt(x₀)) - 2.1379) * cbrt((x₁ * (2.7125 -...\n",
      "                                       cbrt(cbrt(x₀)))) * sqrt(x₀ + x₁))\n",
      "22          1.107e-04  8.864e-04  y = square(cbrt(cbrt(x₀)) - 2.1383) * cbrt(x₁ * ((2.7125 -...\n",
      "                                       cbrt(cbrt(x₀) + 0.05142)) * sqrt(x₀ + x₁)))\n",
      "23          1.028e-04  7.356e-02  y = square(2.1811 - cbrt(cbrt(x₀))) * square(cbrt(sqrt(squ...\n",
      "                                      are(cbrt(cbrt(x₀)) - 2.2828) * ((x₁ * 2.0413) * sqrt(x₀)))...\n",
      "                                      ))\n",
      "25          1.028e-04  8.086e-05  y = square(2.1811 - cbrt(cbrt(x₀))) * cbrt(square(sqrt(squ...\n",
      "                                      are(cbrt(cbrt(x₀)) - 2.2828) * (x₁ * (sqrt(0.78648 + x₀) *...\n",
      "                                       2.0413)))))\n",
      "29          1.025e-04  6.174e-04  y = square(square(cbrt(cbrt(x₀ + -0.056747)) - 2.4033) * c...\n",
      "                                      brt(sqrt((sqrt(x₀ - ((-1.3572 - x₀) - x₀)) * square(2.4575...\n",
      "                                       - cbrt(cbrt(x₀)))) * x₁)))\n",
      "───────────────────────────────────────────────────────────────────────────────────────────────────\n",
      "Current Prediction Average Error (%): 0.7041316825801455\n",
      "Best Prediction Average Error (%): 0.48067222392531395\n",
      "Current Model Formula: (-Abs(x0)**(1/9)*Abs(sign(x0))**(1/3)*sign(Abs(x0)**(1/3)*sign(x0)) + 2.1307108)**2*Abs(sqrt(x0)*x1)**(1/3)*sign(sqrt(x0)*x1)\n"
     ]
    },
    {
     "name": "stderr",
     "output_type": "stream",
     "text": [
      "/home/ajt6830/miniconda3/envs/pysr_env/lib/python3.11/site-packages/pysr/sr.py:1270: UserWarning: `extra_sympy_mappings` cannot be pickled and will be removed from the serialized instance. When loading the model, please redefine `extra_sympy_mappings` at runtime.\n",
      "  warnings.warn(warn_msg)\n",
      "/home/ajt6830/miniconda3/envs/pysr_env/lib/python3.11/site-packages/pysr/sr.py:2217: UserWarning: The discovered expressions are being reset. Please set `warm_start=True` if you wish to continue to start a search where you left off.\n",
      "  warnings.warn(\n",
      "/home/ajt6830/miniconda3/envs/pysr_env/lib/python3.11/site-packages/pysr/sr.py:2811: UserWarning: Note: it looks like you are running in Jupyter. The progress bar will be turned off.\n",
      "  warnings.warn(\n"
     ]
    },
    {
     "name": "stdout",
     "output_type": "stream",
     "text": [
      "  - outputs/20250702_121922_CN8mLk/hall_of_fame.csv\n",
      "───────────────────────────────────────────────────────────────────────────────────────────────────\n",
      "Complexity  Loss       Score      Equation\n",
      "1           1.299e-02  0.000e+00  y = 0.17399\n",
      "3           5.630e-03  4.181e-01  y = x₁ * 0.034504\n",
      "4           4.103e-03  3.165e-01  y = sqrt(x₁) * 0.096387\n",
      "5           3.732e-03  9.469e-02  y = square(inv(x₀) * 150.45)\n",
      "6           3.479e-03  7.017e-02  y = (inv(x₀) * 139.04) - 0.20416\n",
      "7           1.107e-03  1.145e+00  y = (cbrt(x₁) * inv(x₀)) * 44.145\n",
      "8           6.991e-04  4.597e-01  y = cbrt(x₁) * ((x₀ * -0.00047182) - -0.29563)\n",
      "9           1.032e-04  1.913e+00  y = cbrt(x₁) * ((inv(x₀) * 75.139) - 0.095028)\n",
      "11          1.007e-04  1.203e-02  y = ((inv(x₀ + -13.416) * 69.542) - 0.087391) * cbrt(x₁)\n",
      "13          9.941e-05  6.544e-03  y = ((inv((x₀ - 13.202) + -13.878) * 63.996) - 0.07945) * ...\n",
      "                                      cbrt(x₁)\n",
      "17          9.701e-05  6.119e-03  y = inv(inv(cbrt(x₁))) * ((75.139 * inv(x₀ + cbrt(cbrt(75....\n",
      "                                      139) - x₁))) - 0.095028)\n",
      "18          9.417e-05  2.972e-02  y = cbrt(x₁) * ((inv(((x₀ + -11.863) - 11.053) - cbrt(x₁ -...\n",
      "                                       6.1978)) * 65.058) - 0.080169)\n",
      "20          8.153e-05  7.206e-02  y = cbrt(x₁) * ((inv((x₀ - 6.9936) + (-6.4221 - inv((1.592...\n",
      "                                      3 - x₁) + 1.3179))) * 69.542) - 0.087391)\n",
      "26          7.907e-05  5.102e-03  y = cbrt(x₁) * ((inv((x₀ - 6.9936) + (-6.4221 - inv((x₁ + ...\n",
      "                                      x₁) + (0.89726 - ((x₁ - x₁) + 6.9936))))) * 69.542) - 0.08...\n",
      "                                      7391)\n",
      "───────────────────────────────────────────────────────────────────────────────────────────────────\n",
      "Current Prediction Average Error (%): 0.6163013197466882\n",
      "Best Prediction Average Error (%): 0.48067222392531395\n",
      "Current Model Formula: (-0.09502777 + 75.13909/x0)*Abs(x1)**(1/3)*sign(x1)\n"
     ]
    },
    {
     "name": "stderr",
     "output_type": "stream",
     "text": [
      "[ Info: Started!\n",
      "[ Info: Final population:\n",
      "[ Info: Results saved to:\n",
      "/home/ajt6830/miniconda3/envs/pysr_env/lib/python3.11/site-packages/pysr/sr.py:1270: UserWarning: `extra_sympy_mappings` cannot be pickled and will be removed from the serialized instance. When loading the model, please redefine `extra_sympy_mappings` at runtime.\n",
      "  warnings.warn(warn_msg)\n",
      "/home/ajt6830/miniconda3/envs/pysr_env/lib/python3.11/site-packages/pysr/sr.py:2217: UserWarning: The discovered expressions are being reset. Please set `warm_start=True` if you wish to continue to start a search where you left off.\n",
      "  warnings.warn(\n",
      "/home/ajt6830/miniconda3/envs/pysr_env/lib/python3.11/site-packages/pysr/sr.py:2811: UserWarning: Note: it looks like you are running in Jupyter. The progress bar will be turned off.\n",
      "  warnings.warn(\n"
     ]
    },
    {
     "name": "stdout",
     "output_type": "stream",
     "text": [
      "  - outputs/20250702_121927_1zYoyy/hall_of_fame.csv\n",
      "───────────────────────────────────────────────────────────────────────────────────────────────────\n",
      "Complexity  Loss       Score      Equation\n",
      "1           1.299e-02  0.000e+00  y = 0.17399\n",
      "3           5.630e-03  4.181e-01  y = x₁ * 0.034504\n",
      "4           4.103e-03  3.165e-01  y = sqrt(x₁) * 0.096387\n",
      "5           3.741e-03  9.228e-02  y = square(cbrt(x₁ * -0.018896))\n",
      "6           3.479e-03  7.258e-02  y = (inv(x₀) * 139.03) + -0.20415\n",
      "7           8.150e-04  1.451e+00  y = sqrt(x₁ * inv(x₀ + -207.83))\n",
      "9           5.109e-04  2.335e-01  y = sqrt(x₁ * inv(x₀ + (x₁ + -219.56)))\n",
      "11          4.182e-04  1.001e-01  y = sqrt(inv(x₀ + -201.7) * (2.8166 + x₁)) + -0.044921\n",
      "13          3.540e-04  8.331e-02  y = -0.025945 + sqrt(inv((-213.27 + x₀) + x₁) * (1.4771 + ...\n",
      "                                      x₁))\n",
      "14          3.137e-04  1.208e-01  y = -0.025945 + sqrt(inv((-213.27 + x₀) + x₁) * (x₁ + cbrt...\n",
      "                                      (x₁)))\n",
      "15          2.495e-04  2.291e-01  y = (sqrt(inv(x₀ + -173.93) * x₁) + inv(sqrt(x₀ + -210.01)...\n",
      "                                      )) + -0.057646\n",
      "17          1.456e-04  2.692e-01  y = (sqrt(inv(x₀ + -163.49) * x₁) + inv(sqrt((x₀ + -138.98...\n",
      "                                      ) * 0.14313))) + -0.14375\n",
      "19          1.378e-04  2.752e-02  y = (sqrt(inv(((x₁ + x₀) + -138.7) * 0.12774)) + -0.15197)...\n",
      "                                       + sqrt(inv(x₀ + -164.18) * x₁)\n",
      "21          1.378e-04  4.172e-07  y = (sqrt(inv((((x₁ + -0.62462) + x₀) + -138.07) * 0.12774...\n",
      "                                      )) + -0.15197) + sqrt(x₁ * inv(x₀ + -164.18))\n",
      "22          1.377e-04  1.008e-03  y = (sqrt(inv(((x₀ + inv(x₁)) + (-138.98 + x₁)) * 0.12774)...\n",
      "                                      ) + -0.15197) + sqrt(inv(x₀ + -164.18) * x₁)\n",
      "24          1.317e-04  2.225e-02  y = -0.15197 + (inv(sqrt((((-138.98 + x₀) - inv(1.1461 - x...\n",
      "                                      ₁)) + x₁) * 0.12774)) + sqrt(x₁ * inv(-164.18 + x₀)))\n",
      "26          1.317e-04  4.470e-07  y = sqrt(inv(x₀ + -164.18) * x₁) + (sqrt(inv(((x₁ + (x₀ - ...\n",
      "                                      (inv(1.1461 - x₁) * 1))) + -138.98) * 0.12774)) + -0.15197...\n",
      "                                      )\n",
      "27          1.269e-04  3.707e-02  y = sqrt(inv(x₀ + -164.18) * x₁) + (inv(sqrt(((x₀ - (inv(x...\n",
      "                                      ₀) * ((x₀ + 0.25383) - cube(x₁)))) + -138.95) * 0.13702)) ...\n",
      "                                      + -0.14701)\n",
      "28          1.269e-04  1.013e-06  y = sqrt(x₁ * inv(x₀ + -164.18)) + (inv(sqrt(((x₀ - (((inv...\n",
      "                                      (x₀) + x₀) - cube(x₁)) * inv(x₀))) + -138.95) * 0.13702)) ...\n",
      "                                      + -0.14701)\n",
      "29          1.229e-04  3.252e-02  y = (sqrt(inv(((x₀ + (-138.98 - (x₀ * inv((x₀ + 137.85) - ...\n",
      "                                      square(x₁))))) + 0.52252) * 0.13734)) + sqrt(x₁ * inv(x₀ +...\n",
      "                                       -164.18))) + -0.14744\n",
      "───────────────────────────────────────────────────────────────────────────────────────────────────\n"
     ]
    },
    {
     "name": "stderr",
     "output_type": "stream",
     "text": [
      "[ Info: Started!\n",
      "[ Info: Final population:\n",
      "[ Info: Results saved to:\n"
     ]
    },
    {
     "name": "stdout",
     "output_type": "stream",
     "text": [
      "Current Prediction Average Error (%): 0.8858570704245498\n",
      "Best Prediction Average Error (%): 0.48067222392531395\n",
      "Current Model Formula: sqrt(x1/(x0 - 163.49261)) - 0.14374694 + 1/sqrt(0.14312994*x0 - 19.8924939088764)\n"
     ]
    },
    {
     "name": "stderr",
     "output_type": "stream",
     "text": [
      "/home/ajt6830/miniconda3/envs/pysr_env/lib/python3.11/site-packages/pysr/sr.py:2217: UserWarning: The discovered expressions are being reset. Please set `warm_start=True` if you wish to continue to start a search where you left off.\n",
      "  warnings.warn(\n",
      "/home/ajt6830/miniconda3/envs/pysr_env/lib/python3.11/site-packages/pysr/sr.py:2811: UserWarning: Note: it looks like you are running in Jupyter. The progress bar will be turned off.\n",
      "  warnings.warn(\n"
     ]
    },
    {
     "name": "stdout",
     "output_type": "stream",
     "text": [
      "  - outputs/20250702_121932_0V78mV/hall_of_fame.csv\n",
      "───────────────────────────────────────────────────────────────────────────────────────────────────\n",
      "Complexity  Loss       Score      Equation\n",
      "1           1.299e-02  0.000e+00  y = 0.17399\n",
      "3           5.630e-03  4.181e-01  y = x₁ * 0.034505\n",
      "4           4.103e-03  3.165e-01  y = sqrt(x₁) * 0.096383\n",
      "5           3.732e-03  9.469e-02  y = inv(square(x₀)) * 22636\n",
      "6           3.732e-03  5.960e-08  y = inv(x₀ * x₀) * 22636\n",
      "7           8.150e-04  1.522e+00  y = sqrt(x₁ * inv(x₀ - 207.83))\n",
      "9           5.109e-04  2.335e-01  y = sqrt(x₁ * inv(x₁ + (x₀ - 219.56)))\n",
      "11          1.861e-04  5.051e-01  y = cbrt(inv(x₀ + -199.45) * (x₁ + 2.1702)) + -0.16566\n",
      "13          1.858e-04  6.935e-04  y = square(cbrt(sqrt(inv(x₀ + -198.87) * (x₁ + 2.1697)))) ...\n",
      "                                      + -0.16509\n",
      "14          1.844e-04  7.386e-03  y = cbrt((x₁ + 2.1478) * inv((inv(x₁) + x₀) + -199.86)) + ...\n",
      "                                      -0.16511\n",
      "16          1.842e-04  7.196e-04  y = cbrt(sqrt(square(inv((inv(x₁) + x₀) + -199.84) * (x₁ +...\n",
      "                                       2.2254)))) + -0.16681\n",
      "18          1.791e-04  1.393e-02  y = sqrt(cbrt(square((x₁ + 2.1412) * inv((x₀ + inv(x₁ - 1....\n",
      "                                      1555)) + -199.86)))) + -0.16522\n",
      "19          1.711e-04  4.549e-02  y = square(sqrt(cbrt(inv((-199.86 + x₀) + inv(square(1.175...\n",
      "                                      3) - x₁)) * (x₁ + 2.1403)))) + -0.1651\n",
      "20          1.709e-04  1.333e-03  y = square(sqrt(cbrt(inv((x₀ + (inv(1.3813 - x₁) * 1.1774)...\n",
      "                                      ) + -199.86) * (x₁ + 2.1403)))) + -0.1651\n",
      "21          1.709e-04  8.345e-07  y = -0.1651 + sqrt(cbrt(square(inv((-199.86 + x₀) + (1.177...\n",
      "                                      4 * inv(square(1.1753) - x₁))) * (x₁ + 2.1403))))\n",
      "22          1.656e-04  3.171e-02  y = cbrt(square(sqrt((x₁ + 2.1968) * inv((inv((0.37597 - (...\n",
      "                                      x₁ + x₁)) + 2.206) + x₀) + -200.62)))) + -0.16646\n",
      "28          1.584e-04  7.342e-03  y = square(sqrt(cbrt((x₁ + 2.2248) * inv((x₀ + square(1.88...\n",
      "                                      44 - (sqrt(inv((x₀ - (x₁ * 2.1894)) + -199.86)) * x₁))) + ...\n",
      "                                      -199.88)))) + -0.1649\n",
      "───────────────────────────────────────────────────────────────────────────────────────────────────\n"
     ]
    },
    {
     "name": "stderr",
     "output_type": "stream",
     "text": [
      "[ Info: Started!\n",
      "[ Info: Final population:\n",
      "[ Info: Results saved to:\n"
     ]
    },
    {
     "name": "stdout",
     "output_type": "stream",
     "text": [
      "Current Prediction Average Error (%): 0.9750679302839005\n",
      "Best Prediction Average Error (%): 0.48067222392531395\n",
      "Current Model Formula: Abs((x1 + 2.1702116)/(x0 - 199.4464))**(1/3)*sign((x1 + 2.1702116)/(x0 - 199.4464)) - 0.1656553\n"
     ]
    },
    {
     "name": "stderr",
     "output_type": "stream",
     "text": [
      "/home/ajt6830/miniconda3/envs/pysr_env/lib/python3.11/site-packages/pysr/sr.py:2217: UserWarning: The discovered expressions are being reset. Please set `warm_start=True` if you wish to continue to start a search where you left off.\n",
      "  warnings.warn(\n",
      "/home/ajt6830/miniconda3/envs/pysr_env/lib/python3.11/site-packages/pysr/sr.py:2811: UserWarning: Note: it looks like you are running in Jupyter. The progress bar will be turned off.\n",
      "  warnings.warn(\n"
     ]
    },
    {
     "name": "stdout",
     "output_type": "stream",
     "text": [
      "  - outputs/20250702_121937_EOuDwv/hall_of_fame.csv\n",
      "───────────────────────────────────────────────────────────────────────────────────────────────────\n",
      "Complexity  Loss       Score      Equation\n",
      "1           1.299e-02  0.000e+00  y = 0.17399\n",
      "3           5.630e-03  4.181e-01  y = x₁ * 0.034504\n",
      "4           4.103e-03  3.165e-01  y = sqrt(x₁) * 0.096387\n",
      "5           3.741e-03  9.228e-02  y = square(cbrt(x₁ * 0.018896))\n",
      "6           3.479e-03  7.258e-02  y = (inv(x₀) * 139.05) + -0.20419\n",
      "7           8.150e-04  1.451e+00  y = sqrt(x₁ * inv(x₀ + -207.82))\n",
      "9           5.947e-04  1.575e-01  y = sqrt(x₁) * ((inv(x₀) * 47.263) + -0.046444)\n",
      "10          3.237e-04  6.083e-01  y = ((inv(x₀) * 5.1) * (x₁ + 16.139)) + -0.1151\n",
      "11          1.854e-04  5.574e-01  y = ((inv(x₀) * 34.365) * sqrt(x₁ + 4.9304)) + -0.11038\n",
      "13          1.524e-04  9.794e-02  y = ((inv(x₀) * 32.64) + -0.039355) * sqrt(x₁ + (x₁ + 3.41...\n",
      "                                      65))\n",
      "14          1.474e-04  3.349e-02  y = (sqrt(sqrt(x₁ + 0.64985)) * (inv(x₀ - x₁) * 71.932)) +...\n",
      "                                       -0.11428\n",
      "19          1.327e-04  2.100e-02  y = (sqrt(x₁ + (x₁ + 2.8469)) * ((inv((x₁ * 0.3663) + x₀) ...\n",
      "                                      * 30.93) + -0.037987)) * 1.1099\n",
      "22          1.213e-04  3.001e-02  y = (square(cbrt(square(cbrt(cbrt(square(x₁ + 1.0251) * 2....\n",
      "                                      6004))))) * inv(square(square(cbrt(cbrt(x₀)))) + -7.4632))...\n",
      "                                       - 0.12069\n",
      "───────────────────────────────────────────────────────────────────────────────────────────────────\n",
      "Current Prediction Average Error (%): 0.7727363154062402\n",
      "Best Prediction Average Error (%): 0.48067222392531395\n",
      "Current Model Formula: (-0.039354704 + 32.639698/x0)*sqrt(2*x1 + 3.4164686)\n"
     ]
    },
    {
     "name": "stderr",
     "output_type": "stream",
     "text": [
      "[ Info: Started!\n",
      "[ Info: Final population:\n",
      "[ Info: Results saved to:\n",
      "/home/ajt6830/miniconda3/envs/pysr_env/lib/python3.11/site-packages/pysr/sr.py:2217: UserWarning: The discovered expressions are being reset. Please set `warm_start=True` if you wish to continue to start a search where you left off.\n",
      "  warnings.warn(\n",
      "/home/ajt6830/miniconda3/envs/pysr_env/lib/python3.11/site-packages/pysr/sr.py:2811: UserWarning: Note: it looks like you are running in Jupyter. The progress bar will be turned off.\n",
      "  warnings.warn(\n"
     ]
    },
    {
     "name": "stdout",
     "output_type": "stream",
     "text": [
      "  - outputs/20250702_121942_HWOihm/hall_of_fame.csv\n",
      "───────────────────────────────────────────────────────────────────────────────────────────────────\n",
      "Complexity  Loss       Score      Equation\n",
      "1           1.299e-02  0.000e+00  y = 0.174\n",
      "3           5.630e-03  4.181e-01  y = x₁ * 0.034504\n",
      "4           4.103e-03  3.165e-01  y = sqrt(x₁) * 0.096387\n",
      "5           3.741e-03  9.228e-02  y = square(cbrt(x₁ * -0.018897))\n",
      "7           2.979e-03  1.138e-01  y = cbrt(inv(x₀) * x₁) - 0.035075\n",
      "8           1.728e-03  5.446e-01  y = inv(x₀ + -167.37) * (x₁ - -26.323)\n",
      "9           6.601e-04  9.624e-01  y = cbrt(x₁ * inv(x₀ + -194.61)) - 0.10664\n",
      "10          3.339e-04  6.815e-01  y = (cbrt(inv(x₀ + -214.9)) - 0.082103) * cbrt(x₁)\n",
      "11          1.351e-04  9.050e-01  y = ((cbrt(x₁) * 31.683) * inv(x₀ + -110.87)) - 0.02725\n",
      "17          1.172e-04  2.370e-02  y = square(((cbrt(x₁ * inv(square(x₀) * x₁)) * 23.524) - 0...\n",
      "                                      .13244) * cbrt(sqrt(x₁)))\n",
      "19          1.133e-04  1.674e-02  y = square(sqrt(cbrt(x₁ + -0.11093)) * ((cbrt(x₁ * inv(x₁ ...\n",
      "                                      * square(x₀))) * 23.524) - 0.13073))\n",
      "22          1.133e-04  5.198e-05  y = square(sqrt(cbrt(x₁ + -0.11093)) * ((cbrt(x₁ * inv(x₁ ...\n",
      "                                      * square(x₀ + inv(23.524)))) * 23.524) - 0.13073))\n",
      "24          1.126e-04  3.010e-03  y = square(sqrt(cbrt(x₁ + -0.11093)) * ((cbrt(x₁ * inv(x₁ ...\n",
      "                                      * square((x₀ + cbrt(x₁)) - 1.4872))) * 23.524) - 0.13073))\n",
      "───────────────────────────────────────────────────────────────────────────────────────────────────\n",
      "Current Prediction Average Error (%): 0.7899156678868419\n",
      "Best Prediction Average Error (%): 0.48067222392531395\n",
      "Current Model Formula: -0.02724973 + 31.683186*Abs(x1)**(1/3)*sign(x1)/(x0 - 110.87248)\n"
     ]
    },
    {
     "name": "stderr",
     "output_type": "stream",
     "text": [
      "[ Info: Started!\n",
      "[ Info: Final population:\n",
      "[ Info: Results saved to:\n",
      "/home/ajt6830/miniconda3/envs/pysr_env/lib/python3.11/site-packages/pysr/sr.py:2217: UserWarning: The discovered expressions are being reset. Please set `warm_start=True` if you wish to continue to start a search where you left off.\n",
      "  warnings.warn(\n",
      "/home/ajt6830/miniconda3/envs/pysr_env/lib/python3.11/site-packages/pysr/sr.py:2811: UserWarning: Note: it looks like you are running in Jupyter. The progress bar will be turned off.\n",
      "  warnings.warn(\n"
     ]
    },
    {
     "name": "stdout",
     "output_type": "stream",
     "text": [
      "  - outputs/20250702_121947_CAbJV5/hall_of_fame.csv\n",
      "───────────────────────────────────────────────────────────────────────────────────────────────────\n",
      "Complexity  Loss       Score      Equation\n",
      "1           1.299e-02  0.000e+00  y = 0.17399\n",
      "3           5.630e-03  4.181e-01  y = x₁ * 0.034503\n",
      "4           4.103e-03  3.165e-01  y = sqrt(x₁) * 0.096389\n",
      "5           3.741e-03  9.228e-02  y = square(cbrt(x₁ * -0.018896))\n",
      "7           9.451e-04  6.879e-01  y = inv(x₀) * sqrt(x₁ * 1056.6)\n",
      "9           8.434e-04  5.691e-02  y = sqrt((0.46342 + x₁) * 980.62) * inv(x₀)\n",
      "10          5.392e-04  4.473e-01  y = inv(x₀ + -139.15) * sqrt(sqrt(x₁) * 786.22)\n",
      "11          1.793e-04  1.101e+00  y = (inv(x₀) * sqrt((x₁ + 4.501) * 1241.4)) - 0.1105\n",
      "13          1.760e-04  9.275e-03  y = (sqrt((x₁ + 4.501) * (1241.4 - x₁)) * inv(x₀)) - 0.109...\n",
      "                                      89\n",
      "14          1.759e-04  5.702e-04  y = (sqrt(((x₁ + 4.501) * 1241.4) - square(x₁)) * inv(x₀))...\n",
      "                                       - 0.10989\n",
      "15          1.746e-04  7.575e-03  y = (sqrt((x₁ + 4.501) * (1241.4 - (x₁ + x₁))) * inv(x₀)) ...\n",
      "                                      - 0.10989\n",
      "17          1.587e-04  4.757e-02  y = x₀ * square(square(cube(inv(sqrt(sqrt(x₀))) * -2.2942)...\n",
      "                                      ) * cbrt(cbrt(x₁) + -0.50774))\n",
      "23          1.473e-04  1.251e-02  y = (square(square(cube(sqrt(sqrt(inv(x₀ + 22.494))) * 1.8...\n",
      "                                      338))) * sqrt(sqrt(x₁) * cube(sqrt(x₀ * x₀)))) + -0.065697\n",
      "24          1.473e-04  4.768e-07  y = (square(cube(square(sqrt(inv(sqrt(cube(2.8229) + x₀)))...\n",
      "                                       * 1.8338))) * sqrt(sqrt(cube(x₀ * x₀)) * sqrt(x₁))) + -0....\n",
      "                                      065697\n",
      "26          1.222e-04  9.317e-02  y = sqrt(square((x₁ + (x₀ * -0.9087)) * sqrt(sqrt(x₀))) * ...\n",
      "                                      cube(sqrt(sqrt(x₁)))) * cube(square(square(inv(sqrt(sqrt(x...\n",
      "                                      ₀))) * 1.9729)))\n",
      "30          1.220e-04  5.027e-04  y = sqrt(cube(sqrt(sqrt(x₁))) * square(((x₁ - cube(inv(x₁)...\n",
      "                                      )) + (x₀ * -0.96358)) * sqrt(sqrt(x₀)))) * cube(square(squ...\n",
      "                                      are(inv(sqrt(sqrt(x₀))) * -1.9631)))\n",
      "───────────────────────────────────────────────────────────────────────────────────────────────────\n",
      "Current Prediction Average Error (%): 0.8946030121224217\n",
      "Best Prediction Average Error (%): 0.48067222392531395\n",
      "Current Model Formula: -0.11050276 + sqrt(1241.43*x1 + 5587.692941019)/x0\n"
     ]
    },
    {
     "name": "stderr",
     "output_type": "stream",
     "text": [
      "[ Info: Started!\n",
      "[ Info: Final population:\n",
      "[ Info: Results saved to:\n",
      "/home/ajt6830/miniconda3/envs/pysr_env/lib/python3.11/site-packages/pysr/sr.py:2217: UserWarning: The discovered expressions are being reset. Please set `warm_start=True` if you wish to continue to start a search where you left off.\n",
      "  warnings.warn(\n",
      "/home/ajt6830/miniconda3/envs/pysr_env/lib/python3.11/site-packages/pysr/sr.py:2811: UserWarning: Note: it looks like you are running in Jupyter. The progress bar will be turned off.\n",
      "  warnings.warn(\n"
     ]
    },
    {
     "name": "stdout",
     "output_type": "stream",
     "text": [
      "  - outputs/20250702_121952_hfBXUl/hall_of_fame.csv\n"
     ]
    },
    {
     "name": "stderr",
     "output_type": "stream",
     "text": [
      "[ Info: Started!\n",
      "[ Info: Final population:\n",
      "[ Info: Results saved to:\n"
     ]
    },
    {
     "name": "stdout",
     "output_type": "stream",
     "text": [
      "───────────────────────────────────────────────────────────────────────────────────────────────────\n",
      "Complexity  Loss       Score      Equation\n",
      "1           1.299e-02  0.000e+00  y = 0.17399\n",
      "3           5.630e-03  4.181e-01  y = x₁ * 0.034505\n",
      "4           4.103e-03  3.165e-01  y = sqrt(x₁) * 0.096387\n",
      "5           3.741e-03  9.228e-02  y = square(cbrt(x₁) * -0.26635)\n",
      "7           9.451e-04  6.879e-01  y = inv(x₀) * sqrt(x₁ * 1056.6)\n",
      "9           2.721e-04  6.226e-01  y = sqrt(cube(inv(x₀))) * (cbrt(x₁) * 789.78)\n",
      "11          1.158e-04  4.271e-01  y = (inv(cube(sqrt(x₀))) * (cbrt(x₁) * 866.4)) + -0.024227\n",
      "13          1.104e-04  2.392e-02  y = (cbrt(x₁) * (802.14 * cube(sqrt(inv(x₀ + -13.901))))) ...\n",
      "                                      + -0.021382\n",
      "14          1.095e-04  7.974e-03  y = ((cbrt(sqrt(x₁) + x₁) * 820.78) * inv(cube(sqrt(x₀))))...\n",
      "                                       + -0.041033\n",
      "15          1.026e-04  6.501e-02  y = (cbrt(x₁ + x₁) * ((inv(cube(sqrt(x₀))) * 714.22) + -0....\n",
      "                                      0087358)) + -0.014929\n",
      "17          9.960e-05  1.492e-02  y = ((cbrt((x₁ + 0.54933) + x₁) * (807.94 * inv(cube(sqrt(...\n",
      "                                      x₀))))) + -0.035238) * 0.86125\n",
      "18          9.813e-05  1.485e-02  y = ((cbrt((x₁ - 0.75398) + sqrt(x₁ - -0.89645)) * cube(sq...\n",
      "                                      rt(inv(x₀)))) * 820.78) + -0.033879\n",
      "24          9.243e-05  9.978e-03  y = (inv(cube(sqrt(x₀))) * (cbrt(cbrt(x₁ - cube(square(sqr...\n",
      "                                      t(inv(sqrt(inv(x₁) - -0.17705)))))) + x₁) * 848.6)) + -0.0...\n",
      "                                      32963\n",
      "26          8.650e-05  3.314e-02  y = (inv(cube(sqrt(x₀))) * (cbrt(sqrt(cbrt(square(cbrt((sq...\n",
      "                                      uare(x₁ + -2.1403) + -0.84302) * (x₁ * -0.75856))))) + x₁)...\n",
      "                                       * 856.54)) + -0.042256\n",
      "───────────────────────────────────────────────────────────────────────────────────────────────────\n",
      "Current Prediction Average Error (%): 0.7076979748405534\n",
      "Best Prediction Average Error (%): 0.48067222392531395\n",
      "Current Model Formula: -0.024226561 + 866.4019*Abs(x1)**(1/3)*sign(x1)/x0**(3/2)\n"
     ]
    },
    {
     "name": "stderr",
     "output_type": "stream",
     "text": [
      "/home/ajt6830/miniconda3/envs/pysr_env/lib/python3.11/site-packages/pysr/sr.py:1270: UserWarning: `extra_sympy_mappings` cannot be pickled and will be removed from the serialized instance. When loading the model, please redefine `extra_sympy_mappings` at runtime.\n",
      "  warnings.warn(warn_msg)\n",
      "/home/ajt6830/miniconda3/envs/pysr_env/lib/python3.11/site-packages/pysr/sr.py:2217: UserWarning: The discovered expressions are being reset. Please set `warm_start=True` if you wish to continue to start a search where you left off.\n",
      "  warnings.warn(\n",
      "/home/ajt6830/miniconda3/envs/pysr_env/lib/python3.11/site-packages/pysr/sr.py:2811: UserWarning: Note: it looks like you are running in Jupyter. The progress bar will be turned off.\n",
      "  warnings.warn(\n"
     ]
    },
    {
     "name": "stdout",
     "output_type": "stream",
     "text": [
      "  - outputs/20250702_121957_WSG4zf/hall_of_fame.csv\n",
      "───────────────────────────────────────────────────────────────────────────────────────────────────\n",
      "Complexity  Loss       Score      Equation\n",
      "1           1.299e-02  0.000e+00  y = 0.17399\n",
      "3           5.630e-03  4.181e-01  y = x₁ * 0.034504\n",
      "4           4.103e-03  3.165e-01  y = sqrt(x₁) * 0.096387\n",
      "5           3.770e-03  8.459e-02  y = (x₁ * 0.025812) - -0.065183\n",
      "6           3.479e-03  8.027e-02  y = -0.20414 - (inv(x₀) * -139.03)\n",
      "7           8.150e-04  1.451e+00  y = sqrt(x₁ * inv(x₀ + -207.83))\n",
      "9           5.109e-04  2.335e-01  y = sqrt(inv(x₀ + (x₁ + -219.57)) * x₁)\n",
      "11          4.453e-04  6.876e-02  y = sqrt(inv((x₁ + -215.85) + x₀) * (x₁ + 0.34797))\n",
      "12          1.300e-04  1.231e+00  y = (-0.012427 + inv(cbrt(x₀ * x₀))) * cbrt(x₁ * 3919.9)\n",
      "14          1.284e-04  6.282e-03  y = sqrt(square((-0.012427 + cbrt(inv(x₀ * x₀))) * cbrt(39...\n",
      "                                      19.9 * x₁)))\n",
      "16          1.273e-04  4.189e-03  y = (cbrt(inv((x₀ * x₀) - 1187)) + -0.012388) * (cbrt(x₁ *...\n",
      "                                       2494.2) * 1.1462)\n",
      "20          1.255e-04  3.656e-03  y = (cbrt(inv(x₀ + (x₀ * x₀))) + -0.012331) * cbrt((4132.7...\n",
      "                                       - (x₀ + cbrt(cube(1.0176)))) * x₁)\n",
      "22          1.250e-04  2.007e-03  y = (inv(cbrt((x₀ + 0.41118) * x₀)) + -0.012285) * cbrt((3...\n",
      "                                      989.8 - ((x₀ * 0.85805) - sqrt(cube(x₁)))) * x₁)\n",
      "23          1.241e-04  7.404e-03  y = cbrt(((3989.8 - x₀) + cbrt((x₀ + -0.012418) - 0.003813...\n",
      "                                      9)) * x₁) * (inv(cbrt((x₀ + -4.4414) * x₀)) + -0.01234)\n",
      "24          1.234e-04  5.235e-03  y = (cbrt((x₁ + 3988) * x₁) * (inv(cbrt((inv(x₁ + (-0.4310...\n",
      "                                      2 * cbrt(x₀))) + x₀) * x₀)) + -0.012381)) - 0.00096858\n",
      "25          1.231e-04  2.436e-03  y = (inv(cbrt((x₀ * x₀) + x₀)) + -0.012418) * cbrt((3989.8...\n",
      "                                       * x₁) - cbrt((square(x₀) * x₁) * (x₀ - cube(x₁))))\n",
      "26          1.194e-04  3.045e-02  y = (cbrt(inv(x₀ * (x₁ + x₀))) + -0.012418) * cbrt((3989.8...\n",
      "                                       - (cbrt(x₀ * ((-1.815 + x₀) - cube(x₁))) * 5.083)) * x₁)\n",
      "28          1.129e-04  2.821e-02  y = (cbrt(x₁ * 2494.2) * 1.1636) * (cbrt(inv(x₀ * ((x₀ - i...\n",
      "                                      nv(((0.66716 - square(sqrt(x₁))) * 0.64042) + cbrt(x₁))) -...\n",
      "                                       0.66111))) + -0.012443)\n",
      "───────────────────────────────────────────────────────────────────────────────────────────────────\n"
     ]
    },
    {
     "name": "stderr",
     "output_type": "stream",
     "text": [
      "[ Info: Started!\n",
      "[ Info: Final population:\n",
      "[ Info: Results saved to:\n"
     ]
    },
    {
     "name": "stdout",
     "output_type": "stream",
     "text": [
      "Current Prediction Average Error (%): 0.7827652219128637\n",
      "Best Prediction Average Error (%): 0.48067222392531395\n",
      "Current Model Formula: 15.7672716214018*(-0.012426605 + 1/(Abs(x0**2)**(1/3)*sign(x0**2)))*Abs(x1)**(1/3)*sign(x1)\n"
     ]
    },
    {
     "name": "stderr",
     "output_type": "stream",
     "text": [
      "/home/ajt6830/miniconda3/envs/pysr_env/lib/python3.11/site-packages/pysr/sr.py:2217: UserWarning: The discovered expressions are being reset. Please set `warm_start=True` if you wish to continue to start a search where you left off.\n",
      "  warnings.warn(\n",
      "/home/ajt6830/miniconda3/envs/pysr_env/lib/python3.11/site-packages/pysr/sr.py:2811: UserWarning: Note: it looks like you are running in Jupyter. The progress bar will be turned off.\n",
      "  warnings.warn(\n"
     ]
    },
    {
     "name": "stdout",
     "output_type": "stream",
     "text": [
      "  - outputs/20250702_122002_cUijzx/hall_of_fame.csv\n"
     ]
    },
    {
     "name": "stderr",
     "output_type": "stream",
     "text": [
      "[ Info: Started!\n",
      "[ Info: Final population:\n",
      "[ Info: Results saved to:\n",
      "/home/ajt6830/miniconda3/envs/pysr_env/lib/python3.11/site-packages/pysr/sr.py:2217: UserWarning: The discovered expressions are being reset. Please set `warm_start=True` if you wish to continue to start a search where you left off.\n",
      "  warnings.warn(\n",
      "/home/ajt6830/miniconda3/envs/pysr_env/lib/python3.11/site-packages/pysr/sr.py:2811: UserWarning: Note: it looks like you are running in Jupyter. The progress bar will be turned off.\n",
      "  warnings.warn(\n"
     ]
    },
    {
     "name": "stdout",
     "output_type": "stream",
     "text": [
      "───────────────────────────────────────────────────────────────────────────────────────────────────\n",
      "Complexity  Loss       Score      Equation\n",
      "1           1.299e-02  0.000e+00  y = 0.17399\n",
      "3           5.630e-03  4.181e-01  y = x₁ * 0.034504\n",
      "4           4.103e-03  3.165e-01  y = sqrt(x₁) * 0.096387\n",
      "5           3.735e-03  9.392e-02  y = inv(square(x₀ * 0.0066751))\n",
      "7           2.663e-03  1.692e-01  y = cbrt(x₁ * (inv(x₀) - 0.0011563))\n",
      "8           8.740e-04  1.114e+00  y = inv(x₀) * cube(cbrt(x₁) - -2.4598)\n",
      "10          3.315e-04  4.847e-01  y = sqrt(x₁ + 1.699) * square(inv(x₀ * -0.010718))\n",
      "12          3.191e-04  1.912e-02  y = square(inv(0.63541 - (x₀ * -0.010682))) * (1.6133 + sq...\n",
      "                                      rt(x₁))\n",
      "13          2.665e-04  1.799e-01  y = cube(square(inv(cbrt(x₀)) * (sqrt(sqrt(x₁ * 0.37721)) ...\n",
      "                                      - -4.162)))\n",
      "15          1.827e-04  1.887e-01  y = square(cube((-4.0262 - sqrt(sqrt(x₁ * 0.66092))) * inv...\n",
      "                                      (cbrt(x₀ + x₁))))\n",
      "17          1.680e-04  4.196e-02  y = cube(square(cbrt(inv((x₁ * 1.4126) + x₀)) * (sqrt(sqrt...\n",
      "                                      (x₁ * 0.77163)) - -3.976)))\n",
      "19          1.464e-04  6.901e-02  y = square(cube((sqrt(sqrt(x₁ * 0.83819)) - -3.9512) * inv...\n",
      "                                      (cbrt(x₀ + (cbrt(sqrt(x₁)) * x₁)))))\n",
      "20          1.351e-04  8.037e-02  y = cube(square((sqrt(sqrt(x₁ * 0.84116)) - -3.9501) * cbr...\n",
      "                                      t(inv((x₁ * (cbrt(x₁) * 0.63957)) + x₀))))\n",
      "27          1.279e-04  7.834e-03  y = cube(square((-4.0192 - sqrt(sqrt(x₁ * 0.94624))) * inv...\n",
      "                                      (cbrt((square(cbrt(x₁) * -1.1601) * cbrt(square(x₁) * -0.1...\n",
      "                                      3598)) - x₀))) * 0.96424)\n",
      "───────────────────────────────────────────────────────────────────────────────────────────────────\n",
      "Current Prediction Average Error (%): 0.9476626871584605\n",
      "Best Prediction Average Error (%): 0.48067222392531395\n",
      "Current Model Formula: (-0.901647060923246*x1**(1/4) - 4.0261784)**6/(Abs(x0 + x1)**2*sign(x0 + x1)**6)\n",
      "  - outputs/20250702_122007_hX996C/hall_of_fame.csv\n",
      "───────────────────────────────────────────────────────────────────────────────────────────────────\n",
      "Complexity  Loss       Score      Equation\n",
      "1           1.299e-02  0.000e+00  y = 0.17399\n",
      "3           5.630e-03  4.181e-01  y = x₁ * 0.034504\n",
      "4           4.103e-03  3.165e-01  y = sqrt(x₁) * 0.096387\n",
      "5           3.770e-03  8.459e-02  y = (x₁ * 0.025812) + 0.065183\n",
      "6           3.479e-03  8.027e-02  y = (inv(x₀) * 139.03) + -0.20415\n",
      "7           3.029e-03  1.384e-01  y = cbrt((x₁ - 0.7945) * inv(x₀))\n",
      "8           1.071e-03  1.040e+00  y = ((x₁ + 6.5014) * inv(x₀)) * 5.9293\n",
      "9           9.409e-04  1.296e-01  y = ((x₁ * 0.018046) + 0.30723) + (x₀ * -0.00052856)\n",
      "10          3.234e-04  1.068e+00  y = ((x₁ + 16.913) * (inv(x₀) * 4.9944)) - 0.11935\n",
      "12          2.843e-04  6.447e-02  y = (inv(x₁ + x₀) * ((x₁ + 14.598) * 5.6769)) - 0.1183\n",
      "14          2.637e-04  3.750e-02  y = ((inv(x₀ + (x₁ * 2.1723)) * (x₁ + 14.281)) * 6.1245) -...\n",
      "                                       0.13044\n",
      "15          2.367e-04  1.080e-01  y = (((x₁ + 14.239) * inv(x₀ + (x₁ * cbrt(x₁)))) * 6.223) ...\n",
      "                                      - 0.13557\n",
      "18          2.331e-04  5.203e-03  y = ((x₁ + 14.239) * (inv(x₀ + ((x₁ + inv(x₁)) * cbrt(x₁))...\n",
      "                                      ) * 6.223)) - 0.13557\n",
      "25          2.163e-04  1.068e-02  y = (((x₁ + 14.239) * inv(cbrt(((x₁ * cube(x₁)) - cbrt(x₀ ...\n",
      "                                      - -1.4542)) + (-0.77918 + x₀)) + x₀)) * 6.223) - 0.13557\n",
      "26          1.907e-04  1.258e-01  y = (inv(x₀ + (x₀ * (inv((sqrt(x₁) * ((x₁ + 16.445) * -1.0...\n",
      "                                      424)) + x₀) * x₁))) * ((x₁ + 12.908) * 6.3104)) - 0.11978\n",
      "28          1.827e-04  2.144e-02  y = ((inv(((x₀ + 0.68656) * (inv((sqrt(x₁) * ((x₁ + x₁) * ...\n",
      "                                      -1.0161)) + x₀) * x₁)) + x₀) * (x₁ + 12.907)) * 6.3199) - ...\n",
      "                                      0.12058\n",
      "───────────────────────────────────────────────────────────────────────────────────────────────────\n",
      "Current Prediction Average Error (%): 1.0042106207770158\n",
      "Best Prediction Average Error (%): 0.48067222392531395\n",
      "Current Model Formula: (6.3104224*x1 + 81.4572104016864)/(x0*x1/(x0 + sqrt(x1)*(-1.0423899*x1 - 17.1417235179663)) + x0) - 0.119775034\n"
     ]
    },
    {
     "name": "stderr",
     "output_type": "stream",
     "text": [
      "[ Info: Started!\n",
      "[ Info: Final population:\n",
      "[ Info: Results saved to:\n",
      "/home/ajt6830/miniconda3/envs/pysr_env/lib/python3.11/site-packages/pysr/sr.py:2217: UserWarning: The discovered expressions are being reset. Please set `warm_start=True` if you wish to continue to start a search where you left off.\n",
      "  warnings.warn(\n",
      "/home/ajt6830/miniconda3/envs/pysr_env/lib/python3.11/site-packages/pysr/sr.py:2811: UserWarning: Note: it looks like you are running in Jupyter. The progress bar will be turned off.\n",
      "  warnings.warn(\n"
     ]
    },
    {
     "name": "stdout",
     "output_type": "stream",
     "text": [
      "  - outputs/20250702_122013_wuMKfB/hall_of_fame.csv\n",
      "───────────────────────────────────────────────────────────────────────────────────────────────────\n",
      "Complexity  Loss       Score      Equation\n",
      "1           1.299e-02  0.000e+00  y = 0.17399\n",
      "3           5.630e-03  4.181e-01  y = x₁ * 0.034503\n",
      "4           4.103e-03  3.165e-01  y = sqrt(x₁) * 0.096387\n",
      "5           3.741e-03  9.228e-02  y = cbrt(square(x₁)) * 0.070941\n",
      "7           9.451e-04  6.879e-01  y = (inv(x₀) * sqrt(x₁)) * 32.505\n",
      "9           2.721e-04  6.226e-01  y = cbrt(x₁) * (inv(cube(sqrt(x₀))) * 789.78)\n",
      "10          1.537e-04  5.713e-01  y = (-0.29513 - (sqrt(inv(x₀)) * -7.8143)) * cbrt(x₁)\n",
      "11          1.183e-04  2.618e-01  y = ((cube(inv(sqrt(x₀))) * 888.41) * cbrt(x₁)) + -0.02846...\n",
      "                                      4\n",
      "13          1.025e-04  7.169e-02  y = (inv(cube(sqrt(x₀))) * (cbrt(x₁ + 0.20453) * 888.74)) ...\n",
      "                                      + -0.034271\n",
      "15          9.656e-05  2.974e-02  y = (cbrt(x₁ + 0.32908) * (sqrt(cube(inv(x₀ + 1.8557))) * ...\n",
      "                                      888.74)) + -0.034271\n",
      "19          9.613e-05  1.129e-03  y = (cbrt(0.32908 + x₁) * (888.74 * cube(sqrt(inv(x₀ + (cb...\n",
      "                                      rt(x₁) + inv(-1.4851))))))) + -0.034271\n",
      "20          9.590e-05  2.428e-03  y = (260.15 - 260.18) + (cube(inv(sqrt(x₀ + cbrt(x₁ + 0.32...\n",
      "                                      908)))) * (cbrt(x₁ + 0.32908) * 888.74))\n",
      "───────────────────────────────────────────────────────────────────────────────────────────────────\n",
      "Current Prediction Average Error (%): 0.7007802212589471\n",
      "Best Prediction Average Error (%): 0.48067222392531395\n",
      "Current Model Formula: -0.028464468 + 888.40924*Abs(x1)**(1/3)*sign(x1)/x0**(3/2)\n"
     ]
    },
    {
     "name": "stderr",
     "output_type": "stream",
     "text": [
      "[ Info: Started!\n",
      "[ Info: Final population:\n",
      "[ Info: Results saved to:\n",
      "/home/ajt6830/miniconda3/envs/pysr_env/lib/python3.11/site-packages/pysr/sr.py:1270: UserWarning: `extra_sympy_mappings` cannot be pickled and will be removed from the serialized instance. When loading the model, please redefine `extra_sympy_mappings` at runtime.\n",
      "  warnings.warn(warn_msg)\n",
      "/home/ajt6830/miniconda3/envs/pysr_env/lib/python3.11/site-packages/pysr/sr.py:2217: UserWarning: The discovered expressions are being reset. Please set `warm_start=True` if you wish to continue to start a search where you left off.\n",
      "  warnings.warn(\n",
      "/home/ajt6830/miniconda3/envs/pysr_env/lib/python3.11/site-packages/pysr/sr.py:2811: UserWarning: Note: it looks like you are running in Jupyter. The progress bar will be turned off.\n",
      "  warnings.warn(\n"
     ]
    },
    {
     "name": "stdout",
     "output_type": "stream",
     "text": [
      "  - outputs/20250702_122018_dpa50s/hall_of_fame.csv\n",
      "───────────────────────────────────────────────────────────────────────────────────────────────────\n",
      "Complexity  Loss       Score      Equation\n",
      "1           1.299e-02  0.000e+00  y = 0.17399\n",
      "3           5.630e-03  4.181e-01  y = x₁ * 0.034506\n",
      "4           4.137e-03  3.082e-01  y = sqrt(x₁ * 0.0087469)\n",
      "5           3.741e-03  1.007e-01  y = square(cbrt(x₁) * 0.26634)\n",
      "6           3.479e-03  7.258e-02  y = (inv(x₀) * 139.03) - 0.20415\n",
      "7           3.029e-03  1.384e-01  y = cbrt(inv(x₀) * (x₁ - 0.79451))\n",
      "8           2.916e-03  3.808e-02  y = (inv(x₀ - x₁) * 139.03) - 0.20415\n",
      "9           1.544e-03  6.359e-01  y = cbrt(x₁ * inv(x₀ - 145.76)) - 0.097254\n",
      "10          1.018e-04  2.719e+00  y = cbrt(x₁) * (inv(cbrt(x₀) + -3.7264) - 0.18182)\n",
      "12          9.964e-05  1.085e-02  y = cbrt(x₁ * 0.55865) * (inv(cbrt(x₀) + -4.0327) - 0.1879...\n",
      "                                      1)\n",
      "14          9.963e-05  5.740e-05  y = ((inv(cbrt(x₀ + 5.8992) + -4.1618) - 0.19069) * 0.7830...\n",
      "                                      5) * cbrt(x₁)\n",
      "15          9.919e-05  4.371e-03  y = ((inv(cbrt(inv(x₁) + x₀) + -4.1455) * 0.76204) - 0.144...\n",
      "                                      27) * cbrt(x₁)\n",
      "16          9.828e-05  9.287e-03  y = (inv(cbrt(x₀) + -4.1536) - 0.1893) * (cbrt(x₁ - inv(sq...\n",
      "                                      rt(x₀))) * 0.75934)\n",
      "17          8.479e-05  1.476e-01  y = cbrt(x₁) * ((inv(cbrt(x₀ + inv(x₁ + -2.8645)) + -4.151...\n",
      "                                      9) - 0.1908) * 0.76354)\n",
      "20          7.546e-05  3.889e-02  y = cbrt(x₁) * (0.77432 * (inv(cbrt(x₀) + (-4.1438 + inv(s...\n",
      "                                      quare((-2.9882 + x₁) * x₀)))) - 0.19018))\n",
      "22          7.147e-05  2.714e-02  y = ((inv(cbrt(x₀) + (-4.1438 + inv(square((-2.9882 + x₁) ...\n",
      "                                      * x₀) - x₁))) - 0.19018) * 0.77432) * cbrt(x₁)\n",
      "23          7.073e-05  1.042e-02  y = cbrt(x₁) * (0.77432 * (inv(cbrt(x₀) + (-4.1438 + inv(s...\n",
      "                                      quare((-2.9882 + x₁) * x₀) + cube(-1.6573)))) - 0.19018))\n",
      "24          7.038e-05  4.967e-03  y = (cbrt(x₁) * 0.76414) * (inv((cbrt(x₀) + square(inv(cub...\n",
      "                                      e(square(x₁ + -2.355)) + sqrt(cbrt(x₀))))) + -4.1424) - 0....\n",
      "                                      18657)\n",
      "25          6.104e-05  1.423e-01  y = cbrt(x₁) * ((inv((cbrt(x₀) + -4.1436) + square(inv(x₀ ...\n",
      "                                      - (cube((x₁ + 0.47239) + x₁) + 0.65655)))) - 0.19099) * 0....\n",
      "                                      77305)\n",
      "───────────────────────────────────────────────────────────────────────────────────────────────────\n",
      "Current Prediction Average Error (%): 0.5782551129757787\n",
      "Best Prediction Average Error (%): 0.48067222392531395\n",
      "Current Model Formula: (-0.145682185748771 + 0.76353735/(Abs(x0 + 1/(x1 - 2.8645167))**(1/3)*sign(x0 + 1/(x1 - 2.8645167)) - 4.151932))*Abs(x1)**(1/3)*sign(x1)\n"
     ]
    },
    {
     "name": "stderr",
     "output_type": "stream",
     "text": [
      "[ Info: Started!\n",
      "[ Info: Final population:\n",
      "[ Info: Results saved to:\n",
      "/home/ajt6830/miniconda3/envs/pysr_env/lib/python3.11/site-packages/pysr/sr.py:1270: UserWarning: `extra_sympy_mappings` cannot be pickled and will be removed from the serialized instance. When loading the model, please redefine `extra_sympy_mappings` at runtime.\n",
      "  warnings.warn(warn_msg)\n",
      "/home/ajt6830/miniconda3/envs/pysr_env/lib/python3.11/site-packages/pysr/sr.py:2217: UserWarning: The discovered expressions are being reset. Please set `warm_start=True` if you wish to continue to start a search where you left off.\n",
      "  warnings.warn(\n",
      "/home/ajt6830/miniconda3/envs/pysr_env/lib/python3.11/site-packages/pysr/sr.py:2811: UserWarning: Note: it looks like you are running in Jupyter. The progress bar will be turned off.\n",
      "  warnings.warn(\n"
     ]
    },
    {
     "name": "stdout",
     "output_type": "stream",
     "text": [
      "  - outputs/20250702_122023_90IHW0/hall_of_fame.csv\n"
     ]
    },
    {
     "name": "stderr",
     "output_type": "stream",
     "text": [
      "[ Info: Started!\n",
      "[ Info: Final population:\n",
      "[ Info: Results saved to:\n"
     ]
    },
    {
     "name": "stdout",
     "output_type": "stream",
     "text": [
      "───────────────────────────────────────────────────────────────────────────────────────────────────\n",
      "Complexity  Loss       Score      Equation\n",
      "1           1.299e-02  0.000e+00  y = 0.17399\n",
      "3           5.630e-03  4.181e-01  y = x₁ * 0.034504\n",
      "4           4.103e-03  3.165e-01  y = sqrt(x₁) * 0.096387\n",
      "5           3.732e-03  9.469e-02  y = inv(square(x₀)) * 22637\n",
      "7           9.451e-04  6.867e-01  y = (sqrt(x₁) * 32.505) * inv(x₀)\n",
      "8           6.227e-04  4.172e-01  y = 572.23 * sqrt(x₁ * cube(inv(x₀)))\n",
      "9           2.721e-04  8.280e-01  y = (cbrt(x₁) * 789.77) * sqrt(inv(cube(x₀)))\n",
      "11          1.095e-04  4.549e-01  y = cbrt(x₁) * ((inv(cube(sqrt(x₀))) * 931.88) + -0.025382...\n",
      "                                      )\n",
      "13          9.933e-05  4.896e-02  y = cbrt(x₁) * ((cube(inv(sqrt(x₀ + 56.984))) * 1382) + -0...\n",
      "                                      .049569)\n",
      "16          8.823e-05  3.951e-02  y = sqrt(((x₁ + 1.4651) * 4.4196e+05) * inv(cube(x₀ + (x₁ ...\n",
      "                                      * 2.6572)))) - 0.041679\n",
      "22          8.099e-05  1.426e-02  y = sqrt(((cube(inv(x₀)) + inv(cube(((x₁ * x₁) * 0.21783) ...\n",
      "                                      + x₀))) * 1.7507e+05) * (x₁ + 1.8282)) - 0.034192\n",
      "───────────────────────────────────────────────────────────────────────────────────────────────────\n",
      "Current Prediction Average Error (%): 0.6542448268157234\n",
      "Best Prediction Average Error (%): 0.48067222392531395\n",
      "Current Model Formula: (-0.025382427 + 931.88184/x0**(3/2))*Abs(x1)**(1/3)*sign(x1)\n"
     ]
    },
    {
     "name": "stderr",
     "output_type": "stream",
     "text": [
      "/home/ajt6830/miniconda3/envs/pysr_env/lib/python3.11/site-packages/pysr/sr.py:1270: UserWarning: `extra_sympy_mappings` cannot be pickled and will be removed from the serialized instance. When loading the model, please redefine `extra_sympy_mappings` at runtime.\n",
      "  warnings.warn(warn_msg)\n",
      "/home/ajt6830/miniconda3/envs/pysr_env/lib/python3.11/site-packages/pysr/sr.py:2217: UserWarning: The discovered expressions are being reset. Please set `warm_start=True` if you wish to continue to start a search where you left off.\n",
      "  warnings.warn(\n",
      "/home/ajt6830/miniconda3/envs/pysr_env/lib/python3.11/site-packages/pysr/sr.py:2811: UserWarning: Note: it looks like you are running in Jupyter. The progress bar will be turned off.\n",
      "  warnings.warn(\n"
     ]
    },
    {
     "name": "stdout",
     "output_type": "stream",
     "text": [
      "  - outputs/20250702_122028_T05E7r/hall_of_fame.csv\n",
      "───────────────────────────────────────────────────────────────────────────────────────────────────\n",
      "Complexity  Loss       Score      Equation\n",
      "1           1.299e-02  0.000e+00  y = 0.174\n",
      "3           5.630e-03  4.181e-01  y = x₁ * 0.034503\n",
      "4           4.103e-03  3.165e-01  y = sqrt(x₁) * 0.096387\n",
      "5           3.743e-03  9.167e-02  y = cbrt(square(x₁ * 0.01911))\n",
      "6           3.479e-03  7.318e-02  y = -0.20415 - (inv(x₀) * -139.03)\n",
      "7           2.616e-03  2.853e-01  y = cbrt(x₁ * (inv(x₀) - 0.0012647))\n",
      "8           1.071e-03  8.929e-01  y = (inv(x₀) * 5.9266) * (x₁ + 6.5061)\n",
      "9           1.032e-04  2.340e+00  y = (inv(x₀) - 0.0012647) * (cbrt(x₁) * 75.139)\n",
      "11          1.025e-04  3.082e-03  y = (inv(x₀) - 0.0012647) * (cbrt(-0.037821 + x₁) * 75.139...\n",
      "                                      )\n",
      "13          1.005e-04  9.988e-03  y = ((inv(x₀ + -14.987) * 68.923) - 0.086531) * inv(cbrt(i...\n",
      "                                      nv(x₁)))\n",
      "15          1.005e-04  2.008e-04  y = inv(inv(cbrt(x₁ - 0.032082))) * ((inv(x₀ + -10.518) * ...\n",
      "                                      70.732) - 0.089042)\n",
      "16          8.517e-05  1.653e-01  y = cbrt(x₁) * cbrt(cube((75.143 * inv(x₀ + inv(-2.8896 + ...\n",
      "                                      x₁))) - 0.094137))\n",
      "18          8.517e-05  1.192e-07  y = inv(inv(cbrt(x₁))) * cbrt(cube((inv(x₀ + inv(-2.8896 +...\n",
      "                                       x₁)) * 75.143) - 0.094137))\n",
      "20          8.297e-05  1.305e-02  y = cbrt(inv(inv(x₁))) * cbrt(cube((inv(x₀ + inv((x₁ + -2....\n",
      "                                      8825) * 0.55021)) * 75.144) - 0.094029))\n",
      "24          8.032e-05  8.135e-03  y = inv(inv(cbrt(x₁))) * cbrt(cube((inv(inv(inv(cube(-0.45...\n",
      "                                      38) * x₀) + (-2.8896 + x₁)) + x₀) * 75.143) - 0.094137))\n",
      "27          7.703e-05  1.393e-02  y = inv(inv(cbrt(x₁))) * cbrt(cube((inv(inv((inv(x₀ * cbrt...\n",
      "                                      (cube(-0.046071))) + (-2.8896 + x₁)) * 2.1951) + x₀) * 75....\n",
      "                                      143) - 0.094137))\n",
      "───────────────────────────────────────────────────────────────────────────────────────────────────\n"
     ]
    },
    {
     "name": "stderr",
     "output_type": "stream",
     "text": [
      "[ Info: Started!\n",
      "[ Info: Final population:\n",
      "[ Info: Results saved to:\n"
     ]
    },
    {
     "name": "stdout",
     "output_type": "stream",
     "text": [
      "Current Prediction Average Error (%): 0.6163016447418844\n",
      "Best Prediction Average Error (%): 0.48067222392531395\n",
      "Current Model Formula: 75.13904*(-0.0012646947 + 1/x0)*Abs(x1)**(1/3)*sign(x1)\n"
     ]
    },
    {
     "name": "stderr",
     "output_type": "stream",
     "text": [
      "/home/ajt6830/miniconda3/envs/pysr_env/lib/python3.11/site-packages/pysr/sr.py:1270: UserWarning: `extra_sympy_mappings` cannot be pickled and will be removed from the serialized instance. When loading the model, please redefine `extra_sympy_mappings` at runtime.\n",
      "  warnings.warn(warn_msg)\n",
      "/home/ajt6830/miniconda3/envs/pysr_env/lib/python3.11/site-packages/pysr/sr.py:2217: UserWarning: The discovered expressions are being reset. Please set `warm_start=True` if you wish to continue to start a search where you left off.\n",
      "  warnings.warn(\n",
      "/home/ajt6830/miniconda3/envs/pysr_env/lib/python3.11/site-packages/pysr/sr.py:2811: UserWarning: Note: it looks like you are running in Jupyter. The progress bar will be turned off.\n",
      "  warnings.warn(\n"
     ]
    },
    {
     "name": "stdout",
     "output_type": "stream",
     "text": [
      "  - outputs/20250702_122033_3X6ckh/hall_of_fame.csv\n",
      "───────────────────────────────────────────────────────────────────────────────────────────────────\n",
      "Complexity  Loss       Score      Equation\n",
      "1           1.299e-02  0.000e+00  y = 0.17398\n",
      "3           5.630e-03  4.181e-01  y = x₁ * 0.034507\n",
      "4           4.103e-03  3.165e-01  y = sqrt(x₁) * 0.096387\n",
      "5           3.732e-03  9.469e-02  y = square(inv(x₀) * -150.45)\n",
      "6           3.479e-03  7.017e-02  y = (inv(x₀) * 139.03) + -0.20415\n",
      "7           9.451e-04  1.303e+00  y = inv(x₀) * (sqrt(x₁) * 32.505)\n",
      "9           1.032e-04  1.107e+00  y = ((inv(x₀) * 75.138) + -0.095025) * cbrt(x₁)\n",
      "───────────────────────────────────────────────────────────────────────────────────────────────────\n"
     ]
    },
    {
     "name": "stderr",
     "output_type": "stream",
     "text": [
      "[ Info: Started!\n",
      "[ Info: Final population:\n",
      "[ Info: Results saved to:\n",
      "/home/ajt6830/miniconda3/envs/pysr_env/lib/python3.11/site-packages/pysr/sr.py:1270: UserWarning: `extra_sympy_mappings` cannot be pickled and will be removed from the serialized instance. When loading the model, please redefine `extra_sympy_mappings` at runtime.\n",
      "  warnings.warn(warn_msg)\n",
      "/home/ajt6830/miniconda3/envs/pysr_env/lib/python3.11/site-packages/pysr/sr.py:2217: UserWarning: The discovered expressions are being reset. Please set `warm_start=True` if you wish to continue to start a search where you left off.\n",
      "  warnings.warn(\n",
      "/home/ajt6830/miniconda3/envs/pysr_env/lib/python3.11/site-packages/pysr/sr.py:2811: UserWarning: Note: it looks like you are running in Jupyter. The progress bar will be turned off.\n",
      "  warnings.warn(\n"
     ]
    },
    {
     "name": "stdout",
     "output_type": "stream",
     "text": [
      "Current Prediction Average Error (%): 0.6162949603811751\n",
      "Best Prediction Average Error (%): 0.48067222392531395\n",
      "Current Model Formula: (-0.095024996 + 75.13804/x0)*Abs(x1)**(1/3)*sign(x1)\n",
      "  - outputs/20250702_122038_7QAMfJ/hall_of_fame.csv\n",
      "───────────────────────────────────────────────────────────────────────────────────────────────────\n",
      "Complexity  Loss       Score      Equation\n",
      "1           1.299e-02  0.000e+00  y = 0.17399\n",
      "3           5.630e-03  4.181e-01  y = x₁ * 0.034504\n",
      "4           4.103e-03  3.165e-01  y = sqrt(x₁) * 0.096387\n",
      "5           3.741e-03  9.228e-02  y = square(cbrt(x₁)) * 0.070942\n",
      "6           3.479e-03  7.258e-02  y = -0.20415 - (inv(x₀) * -139.03)\n",
      "7           3.029e-03  1.384e-01  y = cbrt(inv(x₀) * (x₁ + -0.79456))\n",
      "8           1.107e-03  1.007e+00  y = cbrt(cube(inv(x₀) * 44.144) * x₁)\n",
      "9           2.721e-04  1.403e+00  y = cbrt(x₁) * inv(cube(sqrt(x₀) * 0.10822))\n",
      "10          1.909e-04  3.545e-01  y = cbrt(x₁ * 0.032703) * square(inv(x₀ * 0.0048553))\n",
      "12          1.651e-04  7.269e-02  y = cbrt(x₁ * 0.032703) * (inv(square(x₀ * -0.0048861)) + ...\n",
      "                                      0.011726)\n",
      "13          1.628e-04  1.378e-02  y = sqrt(sqrt(x₁) * cube(inv((x₀ - x₁) * 0.010127))) - 0.0...\n",
      "                                      26588\n",
      "14          1.616e-04  7.444e-03  y = cube(sqrt(cbrt(sqrt(x₁)) * inv((x₀ - x₁) * 0.010161)))...\n",
      "                                       - 0.026588\n",
      "16          1.357e-04  8.722e-02  y = sqrt(cube(inv((x₀ - x₁) * 0.010127) * cbrt(sqrt(x₁ + -...\n",
      "                                      0.23532)))) - 0.026588\n",
      "18          1.304e-04  2.021e-02  y = cube(sqrt(cbrt(sqrt(x₁ + -0.23532)) * inv(0.010127 * (...\n",
      "                                      (x₀ - 1.0101) - x₁)))) - 0.026588\n",
      "19          1.220e-04  6.621e-02  y = sqrt(cube(sqrt(cbrt(x₁) + -0.16566) * inv(0.0098988 * ...\n",
      "                                      (x₀ - (cbrt(x₀) + x₁))))) - 0.027182\n",
      "21          1.210e-04  3.951e-03  y = sqrt(cube(inv(((-0.70576 + x₀) - (cbrt(x₀) + x₁)) * 0....\n",
      "                                      0098988) * sqrt(-0.16566 + cbrt(x₁)))) - 0.027182\n",
      "22          1.210e-04  1.263e-04  y = cube(sqrt(inv((x₀ - (cbrt(x₀) + (x₁ + inv(1.2631)))) *...\n",
      "                                       0.0098988) * sqrt(cbrt(x₁) + -0.16566))) - 0.027182\n",
      "25          1.156e-04  1.536e-02  y = cube(sqrt(inv(0.0096585 * (x₀ - sqrt((((x₀ - 0.037082)...\n",
      "                                       + x₀) * x₁) * 0.0097701))) * cbrt(-0.10362 + sqrt(x₁)))) ...\n",
      "                                      - 0.037082\n",
      "26          1.049e-04  9.651e-02  y = sqrt(cube(inv(((x₁ * -0.53764) + (x₀ - (cbrt(x₀ - squa...\n",
      "                                      re(x₁)) + x₁))) * 0.010127) * sqrt(cbrt(x₁) + -0.094133)))...\n",
      "                                       - 0.03028\n",
      "───────────────────────────────────────────────────────────────────────────────────────────────────\n",
      "Current Prediction Average Error (%): 0.6613207012150089\n",
      "Best Prediction Average Error (%): 0.48067222392531395\n"
     ]
    },
    {
     "name": "stderr",
     "output_type": "stream",
     "text": [
      "[ Info: Started!\n",
      "[ Info: Final population:\n",
      "[ Info: Results saved to:\n"
     ]
    },
    {
     "name": "stdout",
     "output_type": "stream",
     "text": [
      "Current Model Formula: sqrt((Abs(x1)**(1/3)*sign(x1) - 0.09413294)**(3/2)/(0.010127417*x0 - 0.0155722825865987*x1 - 0.010127417*Abs(x0 - x1**2)**(1/3)*sign(x0 - x1**2))**3) - 0.030280182\n"
     ]
    },
    {
     "name": "stderr",
     "output_type": "stream",
     "text": [
      "/home/ajt6830/miniconda3/envs/pysr_env/lib/python3.11/site-packages/pysr/sr.py:1270: UserWarning: `extra_sympy_mappings` cannot be pickled and will be removed from the serialized instance. When loading the model, please redefine `extra_sympy_mappings` at runtime.\n",
      "  warnings.warn(warn_msg)\n",
      "/home/ajt6830/miniconda3/envs/pysr_env/lib/python3.11/site-packages/pysr/sr.py:2217: UserWarning: The discovered expressions are being reset. Please set `warm_start=True` if you wish to continue to start a search where you left off.\n",
      "  warnings.warn(\n",
      "/home/ajt6830/miniconda3/envs/pysr_env/lib/python3.11/site-packages/pysr/sr.py:2811: UserWarning: Note: it looks like you are running in Jupyter. The progress bar will be turned off.\n",
      "  warnings.warn(\n"
     ]
    },
    {
     "name": "stdout",
     "output_type": "stream",
     "text": [
      "  - outputs/20250702_122043_DFmZqW/hall_of_fame.csv\n",
      "───────────────────────────────────────────────────────────────────────────────────────────────────\n",
      "Complexity  Loss       Score      Equation\n",
      "1           1.299e-02  0.000e+00  y = 0.17399\n",
      "3           5.630e-03  4.181e-01  y = x₁ * 0.034504\n",
      "4           4.103e-03  3.165e-01  y = sqrt(x₁) * 0.096387\n",
      "5           3.732e-03  9.469e-02  y = inv(square(x₀)) * 22636\n",
      "6           3.479e-03  7.017e-02  y = (inv(x₀) * 139.03) - 0.20415\n",
      "7           9.451e-04  1.303e+00  y = inv(x₀) * (sqrt(x₁) * 32.504)\n",
      "8           8.762e-04  7.564e-02  y = ((-0.00031894 * x₀) + 0.2073) * sqrt(x₁)\n",
      "9           3.780e-04  8.406e-01  y = (inv(square(x₀)) * 15986) * sqrt(sqrt(x₁))\n",
      "10          2.477e-04  4.227e-01  y = (0.99756 + sqrt(x₁)) * (inv(square(x₀)) * 7080.9)\n",
      "11          1.828e-04  3.040e-01  y = ((sqrt(x₁ - -4.463) * inv(x₀)) * 35.745) - 0.114\n",
      "14          1.146e-04  1.557e-01  y = (sqrt(x₁ + 0.53992) * 10735) * inv(square((x₁ * 2.3073...\n",
      "                                      ) + x₀))\n",
      "16          9.923e-05  7.184e-02  y = (sqrt(x₁ + 0.45597) * 11363) * square(inv(x₀ + ((x₁ - ...\n",
      "                                      -0.13274) * 2.899)))\n",
      "18          9.862e-05  3.102e-03  y = (sqrt(x₁ + 0.42241) * 1.0901) * (square(inv(x₀ + ((x₁ ...\n",
      "                                      - -0.13699) * 2.8814))) * 10428)\n",
      "24          7.027e-05  5.648e-02  y = sqrt(x₁) * ((inv((x₀ + (x₁ - cube(inv(x₁) + (inv(x₁) +...\n",
      "                                       1.6803)))) - (x₁ * -1.8196)) * 58.971) + -0.074969)\n",
      "───────────────────────────────────────────────────────────────────────────────────────────────────\n",
      "Current Prediction Average Error (%): 0.5394537679747232\n",
      "Best Prediction Average Error (%): 0.48067222392531395\n",
      "Current Model Formula: 11363.176*sqrt(x1 + 0.45596907)/(x0 + 2.8989797*x1 + 0.384810449418812)**2\n"
     ]
    },
    {
     "name": "stderr",
     "output_type": "stream",
     "text": [
      "[ Info: Started!\n",
      "[ Info: Final population:\n",
      "[ Info: Results saved to:\n",
      "/home/ajt6830/miniconda3/envs/pysr_env/lib/python3.11/site-packages/pysr/sr.py:1270: UserWarning: `extra_sympy_mappings` cannot be pickled and will be removed from the serialized instance. When loading the model, please redefine `extra_sympy_mappings` at runtime.\n",
      "  warnings.warn(warn_msg)\n",
      "/home/ajt6830/miniconda3/envs/pysr_env/lib/python3.11/site-packages/pysr/sr.py:2217: UserWarning: The discovered expressions are being reset. Please set `warm_start=True` if you wish to continue to start a search where you left off.\n",
      "  warnings.warn(\n",
      "/home/ajt6830/miniconda3/envs/pysr_env/lib/python3.11/site-packages/pysr/sr.py:2811: UserWarning: Note: it looks like you are running in Jupyter. The progress bar will be turned off.\n",
      "  warnings.warn(\n"
     ]
    },
    {
     "name": "stdout",
     "output_type": "stream",
     "text": [
      "  - outputs/20250702_122048_vQrUb2/hall_of_fame.csv\n",
      "───────────────────────────────────────────────────────────────────────────────────────────────────\n",
      "Complexity  Loss       Score      Equation\n",
      "1           1.299e-02  0.000e+00  y = 0.17399\n",
      "3           5.630e-03  4.181e-01  y = x₁ * 0.034503\n",
      "4           4.103e-03  3.165e-01  y = sqrt(x₁) * 0.096387\n",
      "5           3.732e-03  9.467e-02  y = square(inv(x₀ * -0.0066422))\n",
      "7           8.150e-04  7.608e-01  y = sqrt(inv(x₀ + -207.83) * x₁)\n",
      "8           8.150e-04  1.192e-07  y = sqrt(x₁) * inv(sqrt(x₀ + -207.83))\n",
      "9           6.212e-04  2.716e-01  y = sqrt(inv(x₀ + -203.33) * (x₁ + 0.59495))\n",
      "10          5.109e-04  1.954e-01  y = sqrt(x₁) * inv(sqrt((x₁ - 219.56) + x₀))\n",
      "11          1.837e-04  1.023e+00  y = square((inv(cbrt(x₀)) * (cbrt(x₁) + 5.6505)) + -0.5898...\n",
      "                                      7)\n",
      "15          1.775e-04  8.604e-03  y = cbrt((inv(x₀ + -170.02) * ((x₁ + x₁) + 6.6432)) + 0.00...\n",
      "                                      48373) + -0.26064\n",
      "16          1.771e-04  1.971e-03  y = cbrt(inv(x₀) + ((7.371 + (x₁ + x₁)) * inv(x₀ + -169.6)...\n",
      "                                      )) + -0.26216\n",
      "17          1.762e-04  5.064e-03  y = cbrt((inv((x₀ + -1.6171) + -170.02) * ((x₁ + x₁) + 6.6...\n",
      "                                      432)) + 0.0048373) + -0.26064\n",
      "22          1.293e-04  6.198e-02  y = square(cbrt(((x₁ + 10.46) * 219.04) * inv((x₁ + (inv(s...\n",
      "                                      qrt(x₁) + 2.8439) * x₀)) * x₀))) - 0.059282\n",
      "24          1.172e-04  4.912e-02  y = square(cbrt(((x₁ + 16.947) * 208.05) * inv(x₀ * ((x₁ +...\n",
      "                                       0.79755) + (x₀ * inv(sqrt(x₁) + 1.4847)))))) - 0.057376\n",
      "29          1.168e-04  6.497e-04  y = square(cbrt((inv((x₁ + x₀) * ((x₀ * inv(sqrt(x₁ + sqrt...\n",
      "                                      (x₁ + 2.9519)))) + (x₁ + 0.71182))) * 311.48) * (x₁ + 25.6...\n",
      "                                      76)) - 0.14642)\n",
      "30          1.105e-04  5.563e-02  y = cbrt(square(inv(x₀ * (square(inv(cube(x₁))) + ((inv(sq...\n",
      "                                      rt(x₁ + 0.96217)) * x₀) + (inv(x₁) + x₁)))) * ((x₁ + 36.28...\n",
      "                                      2) * 155.72))) - 0.046762\n",
      "───────────────────────────────────────────────────────────────────────────────────────────────────\n",
      "Current Prediction Average Error (%): 0.7603413017052014\n",
      "Best Prediction Average Error (%): 0.48067222392531395\n",
      "Current Model Formula: Abs((219.04097*x1 + 2291.10611952355)/(x0*(x0/(sqrt(x1) + 2.843894) + x1)))**(2/3)*sign((219.04097*x1 + 2291.10611952355)/(x0*(x0/(sqrt(x1) + 2.843894) + x1)))**2 - 0.059282344\n"
     ]
    },
    {
     "name": "stderr",
     "output_type": "stream",
     "text": [
      "[ Info: Started!\n",
      "[ Info: Final population:\n",
      "[ Info: Results saved to:\n",
      "/home/ajt6830/miniconda3/envs/pysr_env/lib/python3.11/site-packages/pysr/sr.py:2217: UserWarning: The discovered expressions are being reset. Please set `warm_start=True` if you wish to continue to start a search where you left off.\n",
      "  warnings.warn(\n",
      "/home/ajt6830/miniconda3/envs/pysr_env/lib/python3.11/site-packages/pysr/sr.py:2811: UserWarning: Note: it looks like you are running in Jupyter. The progress bar will be turned off.\n",
      "  warnings.warn(\n"
     ]
    },
    {
     "name": "stdout",
     "output_type": "stream",
     "text": [
      "  - outputs/20250702_122053_lxyuN1/hall_of_fame.csv\n",
      "───────────────────────────────────────────────────────────────────────────────────────────────────\n",
      "Complexity  Loss       Score      Equation\n",
      "1           1.299e-02  0.000e+00  y = 0.17399\n",
      "3           5.630e-03  4.181e-01  y = x₁ * 0.034504\n",
      "4           4.103e-03  3.165e-01  y = sqrt(x₁) * 0.096387\n",
      "5           3.770e-03  8.459e-02  y = (x₁ * 0.025812) - -0.065183\n",
      "6           3.479e-03  8.027e-02  y = (inv(x₀) * 139.03) + -0.20415\n",
      "7           8.150e-04  1.451e+00  y = sqrt(x₁ * inv(x₀ + -207.84))\n",
      "9           5.109e-04  2.335e-01  y = sqrt(x₁ * inv(x₁ + (x₀ + -219.55)))\n",
      "11          4.184e-04  9.986e-02  y = sqrt(inv(x₀ + -201.81) * (x₁ + 2.8239)) - 0.045385\n",
      "13          3.566e-04  7.995e-02  y = sqrt(inv((x₁ + x₀) + -212.82) * (x₁ + 1.5465)) - 0.026...\n",
      "                                      202\n",
      "14          2.794e-04  2.440e-01  y = sqrt(((x₁ + cbrt(x₁)) * inv((x₀ + -206.98) + x₁)) + -0...\n",
      "                                      .0034269)\n",
      "16          2.477e-04  6.012e-02  y = sqrt(inv(-206.98 + (x₀ + x₁)) * (sqrt(x₁) + (0.9001 + ...\n",
      "                                      x₁))) - 0.038354\n",
      "18          2.242e-04  4.993e-02  y = sqrt(inv(x₁ + (x₀ + -206.2)) * (sqrt((x₁ + 1.8905) * 3...\n",
      "                                      .0014) + x₁)) - 0.060931\n",
      "29          2.020e-04  9.459e-03  y = sqrt(inv((x₀ + -202.04) + (x₁ - inv(x₁))) * (x₁ + sqrt...\n",
      "                                      ((x₁ * 3.4032) + (inv(x₀ - x₁) + (inv(x₀) + 4.8075))))) - ...\n",
      "                                      0.057635\n",
      "───────────────────────────────────────────────────────────────────────────────────────────────────\n",
      "Current Prediction Average Error (%): 1.3080860529639116\n",
      "Best Prediction Average Error (%): 0.48067222392531395\n",
      "Current Model Formula: sqrt((x1 + Abs(x1)**(1/3)*sign(x1))/(x0 + x1 - 206.97824) - 0.0034269094)\n"
     ]
    },
    {
     "name": "stderr",
     "output_type": "stream",
     "text": [
      "[ Info: Started!\n",
      "[ Info: Final population:\n",
      "[ Info: Results saved to:\n",
      "/home/ajt6830/miniconda3/envs/pysr_env/lib/python3.11/site-packages/pysr/sr.py:2217: UserWarning: The discovered expressions are being reset. Please set `warm_start=True` if you wish to continue to start a search where you left off.\n",
      "  warnings.warn(\n",
      "/home/ajt6830/miniconda3/envs/pysr_env/lib/python3.11/site-packages/pysr/sr.py:2811: UserWarning: Note: it looks like you are running in Jupyter. The progress bar will be turned off.\n",
      "  warnings.warn(\n"
     ]
    },
    {
     "name": "stdout",
     "output_type": "stream",
     "text": [
      "  - outputs/20250702_122058_DTlAIf/hall_of_fame.csv\n",
      "───────────────────────────────────────────────────────────────────────────────────────────────────\n",
      "Complexity  Loss       Score      Equation\n",
      "1           1.299e-02  0.000e+00  y = 0.17399\n",
      "3           5.630e-03  4.181e-01  y = x₁ * 0.034503\n",
      "4           4.103e-03  3.165e-01  y = sqrt(x₁) * 0.096387\n",
      "5           3.732e-03  9.469e-02  y = square(inv(x₀) * 150.45)\n",
      "7           9.451e-04  6.867e-01  y = (sqrt(x₁) * 32.505) * inv(x₀)\n",
      "8           9.071e-04  4.096e-02  y = (square(inv(x₀)) * 9865.9) * sqrt(x₁)\n",
      "9           5.947e-04  4.223e-01  y = ((inv(x₀) * 47.091) + -0.045877) * sqrt(x₁)\n",
      "10          5.077e-04  1.581e-01  y = sqrt(x₁) * (inv(square(x₁ + x₀)) * 10575)\n",
      "12          2.373e-04  3.802e-01  y = square((inv(x₀) - inv(x₀ * (x₁ + 1.5477))) * -186.92)\n",
      "14          1.324e-04  2.919e-01  y = square((inv(1.7453 * x₀) - inv((3.1099 + x₁) * x₀)) * ...\n",
      "                                      -348.18)\n",
      "15          1.272e-04  3.965e-02  y = square(-191.82 * (inv(x₀ * (inv(x₁) + (x₁ + 0.50103)))...\n",
      "                                       - inv(x₀)))\n",
      "17          1.060e-04  9.147e-02  y = square((inv(((x₁ + inv(x₁ * 0.65567)) + 0.078164) * x₀...\n",
      "                                      ) - inv(x₀)) * -192.64)\n",
      "20          1.037e-04  7.011e-03  y = square((inv(x₀ + 1.0737) - inv((x₁ + ((inv(x₁) + inv(x...\n",
      "                                      ₁)) * 0.80792)) * x₀)) * -194.13)\n",
      "24          1.009e-04  7.043e-03  y = square((inv(x₀ + 1.6898) - inv(((x₀ - x₁) - 0.33626) *...\n",
      "                                       (x₁ + ((inv(x₁) * 0.61688) + inv(x₁))))) * -195.28)\n",
      "───────────────────────────────────────────────────────────────────────────────────────────────────\n",
      "Current Prediction Average Error (%): 0.7101023222731512\n",
      "Best Prediction Average Error (%): 0.48067222392531395\n",
      "Current Model Formula: 121228.68567681*(0.572979216897845/x0 - 1/(x0*(x1 + 3.1099)))**2\n"
     ]
    },
    {
     "name": "stderr",
     "output_type": "stream",
     "text": [
      "[ Info: Started!\n",
      "[ Info: Final population:\n",
      "[ Info: Results saved to:\n",
      "/home/ajt6830/miniconda3/envs/pysr_env/lib/python3.11/site-packages/pysr/sr.py:1270: UserWarning: `extra_sympy_mappings` cannot be pickled and will be removed from the serialized instance. When loading the model, please redefine `extra_sympy_mappings` at runtime.\n",
      "  warnings.warn(warn_msg)\n",
      "/home/ajt6830/miniconda3/envs/pysr_env/lib/python3.11/site-packages/pysr/sr.py:2217: UserWarning: The discovered expressions are being reset. Please set `warm_start=True` if you wish to continue to start a search where you left off.\n",
      "  warnings.warn(\n",
      "/home/ajt6830/miniconda3/envs/pysr_env/lib/python3.11/site-packages/pysr/sr.py:2811: UserWarning: Note: it looks like you are running in Jupyter. The progress bar will be turned off.\n",
      "  warnings.warn(\n"
     ]
    },
    {
     "name": "stdout",
     "output_type": "stream",
     "text": [
      "  - outputs/20250702_122103_gjsZiG/hall_of_fame.csv\n"
     ]
    },
    {
     "name": "stderr",
     "output_type": "stream",
     "text": [
      "[ Info: Started!\n",
      "[ Info: Final population:\n",
      "[ Info: Results saved to:\n"
     ]
    },
    {
     "name": "stdout",
     "output_type": "stream",
     "text": [
      "───────────────────────────────────────────────────────────────────────────────────────────────────\n",
      "Complexity  Loss       Score      Equation\n",
      "1           1.299e-02  0.000e+00  y = 0.17398\n",
      "3           5.630e-03  4.181e-01  y = x₁ * 0.034503\n",
      "4           4.103e-03  3.165e-01  y = sqrt(x₁) * 0.096387\n",
      "5           3.741e-03  9.228e-02  y = square(cbrt(x₁ * 0.018897))\n",
      "6           3.691e-03  1.333e-02  y = inv(x₀ * 0.0082303) - 0.14865\n",
      "7           2.313e-03  4.673e-01  y = inv((x₀ * 0.019206) - cbrt(x₁))\n",
      "8           2.052e-03  1.200e-01  y = sqrt(x₁) * (cbrt(inv(x₀)) - 0.047454)\n",
      "10          5.534e-04  6.552e-01  y = inv((sqrt(x₀) * 0.24913) - cbrt(x₁)) - 0.14698\n",
      "11          2.042e-04  9.971e-01  y = inv((sqrt(x₀) * 0.2104) - sqrt(sqrt(x₁))) - 0.21079\n",
      "13          1.931e-04  2.785e-02  y = inv((sqrt(x₀) * 0.20997) - sqrt(sqrt(x₁ - 0.40851))) -...\n",
      "                                       0.20269\n",
      "16          8.918e-05  2.575e-01  y = inv((0.2243 * sqrt(x₀ - ((-0.20541 * x₁) * x₁))) - cbr...\n",
      "                                      t(x₁)) - 0.19412\n",
      "19          8.916e-05  9.196e-05  y = inv((sqrt(x₀ - (cbrt(x₁) + ((x₁ * -0.20548) * x₁))) * ...\n",
      "                                      0.22463) - cbrt(x₁)) - 0.19497\n",
      "20          8.750e-05  1.876e-02  y = inv((sqrt(x₀ - (1.9885 + ((sqrt(square(x₁)) * -0.20548...\n",
      "                                      ) * x₁))) * 0.22463) - cbrt(x₁)) - 0.19497\n",
      "25          8.324e-05  9.993e-03  y = inv((sqrt(x₀ - (x₁ * (((-0.86407 - (sqrt(x₀) * cbrt(cu...\n",
      "                                      be(x₁)))) * 0.011545) + -0.86373))) * 0.22076) - cbrt(x₁))...\n",
      "                                       - 0.19928\n",
      "27          8.309e-05  8.667e-04  y = inv((sqrt((x₀ - ((x₁ * (-0.66715 - (sqrt(x₀) + -2.4148...\n",
      "                                      ))) * (cbrt(cube(x₁)) * 0.015128))) + -0.0016643) * 0.2237...\n",
      "                                      ) - cbrt(x₁)) - 0.19412\n",
      "29          8.307e-05  1.496e-04  y = inv((0.22076 * sqrt(x₁ + (x₀ - ((0.011545 * (x₁ * cube...\n",
      "                                      (cbrt(x₁)))) * ((-1.5105 * 0.44207) - (-1.3709 + sqrt(x₀))...\n",
      "                                      ))))) - cbrt(x₁)) - 0.19928\n",
      "30          8.301e-05  6.312e-04  y = inv((0.22076 * sqrt((x₀ - ((((-1.5105 - 0.21363) - (sq...\n",
      "                                      rt(x₀) + cube(-1.3709))) * 0.011545) * (x₁ * cbrt(cube(x₁)...\n",
      "                                      )))) + x₁)) - cbrt(x₁)) - 0.19928\n",
      "───────────────────────────────────────────────────────────────────────────────────────────────────\n",
      "Current Prediction Average Error (%): 0.6661390975360432\n",
      "Best Prediction Average Error (%): 0.48067222392531395\n",
      "Current Model Formula: -0.19412082 + 1/(0.22429815*sqrt(x0 + 0.205408*x1**2) - Abs(x1)**(1/3)*sign(x1))\n"
     ]
    },
    {
     "name": "stderr",
     "output_type": "stream",
     "text": [
      "/home/ajt6830/miniconda3/envs/pysr_env/lib/python3.11/site-packages/pysr/sr.py:1270: UserWarning: `extra_sympy_mappings` cannot be pickled and will be removed from the serialized instance. When loading the model, please redefine `extra_sympy_mappings` at runtime.\n",
      "  warnings.warn(warn_msg)\n",
      "/home/ajt6830/miniconda3/envs/pysr_env/lib/python3.11/site-packages/pysr/sr.py:2217: UserWarning: The discovered expressions are being reset. Please set `warm_start=True` if you wish to continue to start a search where you left off.\n",
      "  warnings.warn(\n",
      "/home/ajt6830/miniconda3/envs/pysr_env/lib/python3.11/site-packages/pysr/sr.py:2811: UserWarning: Note: it looks like you are running in Jupyter. The progress bar will be turned off.\n",
      "  warnings.warn(\n"
     ]
    },
    {
     "name": "stdout",
     "output_type": "stream",
     "text": [
      "  - outputs/20250702_122108_7TJC3b/hall_of_fame.csv\n",
      "───────────────────────────────────────────────────────────────────────────────────────────────────\n",
      "Complexity  Loss       Score      Equation\n",
      "1           1.299e-02  0.000e+00  y = 0.174\n",
      "3           5.630e-03  4.181e-01  y = x₁ * 0.034504\n",
      "4           4.103e-03  3.165e-01  y = sqrt(x₁) * 0.096387\n",
      "5           3.741e-03  9.228e-02  y = cbrt(square(x₁)) * 0.070941\n",
      "6           3.479e-03  7.258e-02  y = (inv(x₀) * 139.03) + -0.20415\n",
      "7           9.451e-04  1.303e+00  y = (sqrt(x₁) * 32.505) * inv(x₀)\n",
      "9           8.514e-04  5.218e-02  y = inv(x₀) * (sqrt(x₁ * 756.5) + 11.783)\n",
      "10          7.802e-04  8.732e-02  y = inv((x₀ + -140.09) * sqrt(inv(x₀ * x₁)))\n",
      "11          1.090e-04  1.968e+00  y = cbrt(x₁) * square((cbrt(cbrt(x₀)) - 2.1426) * -1.5344)\n",
      "15          1.090e-04  2.310e-06  y = cbrt(x₀ + (x₁ - x₀)) * square((cbrt(cbrt(x₀)) - 2.1426...\n",
      "                                      ) * -1.5344)\n",
      "16          1.067e-04  2.148e-02  y = square(square(sqrt(inv((sqrt(sqrt(inv(x₁ + 0.69938))) ...\n",
      "                                      * x₀) + x₁)) * 10.113))\n",
      "18          1.013e-04  2.619e-02  y = square(square(sqrt(inv((x₀ * sqrt(sqrt(inv(x₁ + 0.5502...\n",
      "                                      1)))) + (x₁ * 1.2287))) * 10.206))\n",
      "19          9.976e-05  1.502e-02  y = square(square(inv(sqrt(sqrt(x₁) + (x₁ + (sqrt(sqrt(inv...\n",
      "                                      (x₁ + 0.51185))) * x₀)))) * 10.233))\n",
      "21          9.938e-05  1.891e-03  y = square(square(sqrt(inv(sqrt(x₁ + 0.50573) + ((x₀ * sqr...\n",
      "                                      t(sqrt(inv(x₁ + 0.54079)))) + x₁))) * 10.23))\n",
      "23          9.802e-05  6.896e-03  y = square(square(sqrt(inv(sqrt(x₁ + 0.50494) + (((x₀ - -1...\n",
      "                                      .4085) * sqrt(sqrt(inv(x₁ + 0.5185)))) + x₁))) * 10.258))\n",
      "25          9.597e-05  1.054e-02  y = square(square(inv(sqrt((((x₀ * inv(sqrt(sqrt(0.44416 +...\n",
      "                                       x₁)))) - square(inv(x₁ + -0.59357))) + x₁) + sqrt(x₁))) *...\n",
      "                                       10.242))\n",
      "27          9.426e-05  9.031e-03  y = square(square(sqrt(inv(((sqrt(x₁ + 4.503) + x₁) + (x₀ ...\n",
      "                                      * sqrt(sqrt(inv(x₁ + 0.44553))))) - square(inv(x₁ + -0.606...\n",
      "                                      98)))) * 10.257))\n",
      "28          9.272e-05  1.646e-02  y = square(square(inv(sqrt(x₁ + ((sqrt(inv(square((inv(x₁)...\n",
      "                                       + -0.60846) * (x₀ - 104.74)))) + sqrt(inv(sqrt(x₁ + 0.691...\n",
      "                                      56)))) * x₀))) * 10.218))\n",
      "29          8.512e-05  8.552e-02  y = square(square(inv(sqrt((((x₀ - inv((-0.34436 * square(...\n",
      "                                      x₁)) + x₁)) * sqrt(sqrt(inv(x₁ + 0.44416)))) + x₁) + sqrt(...\n",
      "                                      -0.82849 + x₁))) * 10.242))\n",
      "───────────────────────────────────────────────────────────────────────────────────────────────────\n"
     ]
    },
    {
     "name": "stderr",
     "output_type": "stream",
     "text": [
      "[ Info: Started!\n",
      "[ Info: Final population:\n",
      "[ Info: Results saved to:\n"
     ]
    },
    {
     "name": "stdout",
     "output_type": "stream",
     "text": [
      "Current Prediction Average Error (%): 0.6570386041069333\n",
      "Best Prediction Average Error (%): 0.48067222392531395\n",
      "Current Model Formula: (-1.5343707*Abs(x0)**(1/9)*Abs(sign(x0))**(1/3)*sign(Abs(x0)**(1/3)*sign(x0)) + 3.28757672484954)**2*Abs(x1)**(1/3)*sign(x1)\n"
     ]
    },
    {
     "name": "stderr",
     "output_type": "stream",
     "text": [
      "/home/ajt6830/miniconda3/envs/pysr_env/lib/python3.11/site-packages/pysr/sr.py:1270: UserWarning: `extra_sympy_mappings` cannot be pickled and will be removed from the serialized instance. When loading the model, please redefine `extra_sympy_mappings` at runtime.\n",
      "  warnings.warn(warn_msg)\n",
      "/home/ajt6830/miniconda3/envs/pysr_env/lib/python3.11/site-packages/pysr/sr.py:2217: UserWarning: The discovered expressions are being reset. Please set `warm_start=True` if you wish to continue to start a search where you left off.\n",
      "  warnings.warn(\n",
      "/home/ajt6830/miniconda3/envs/pysr_env/lib/python3.11/site-packages/pysr/sr.py:2811: UserWarning: Note: it looks like you are running in Jupyter. The progress bar will be turned off.\n",
      "  warnings.warn(\n"
     ]
    },
    {
     "name": "stdout",
     "output_type": "stream",
     "text": [
      "  - outputs/20250702_122113_fEO1Ue/hall_of_fame.csv\n",
      "───────────────────────────────────────────────────────────────────────────────────────────────────\n",
      "Complexity  Loss       Score      Equation\n",
      "1           1.299e-02  0.000e+00  y = 0.17397\n",
      "3           5.630e-03  4.181e-01  y = x₁ * 0.034505\n",
      "4           4.103e-03  3.165e-01  y = sqrt(x₁) * 0.096387\n",
      "5           3.741e-03  9.228e-02  y = cbrt(square(x₁)) * 0.070941\n",
      "7           8.150e-04  7.620e-01  y = sqrt(x₁ * inv(x₀ + -207.83))\n",
      "8           8.150e-04  2.980e-07  y = sqrt(inv((x₀ + -207.83) * inv(x₁)))\n",
      "9           5.109e-04  4.670e-01  y = sqrt(x₁ * inv(x₁ + (x₀ + -219.56)))\n",
      "10          5.109e-04  1.192e-07  y = sqrt(inv((x₁ + (x₀ + -219.56)) * inv(x₁)))\n",
      "11          1.880e-04  9.997e-01  y = cbrt(inv(x₀ + -200.51) * (x₁ + 2.1463)) + -0.1662\n",
      "17          1.825e-04  4.943e-03  y = cbrt((cbrt(cbrt((x₀ * 4.6657) * x₁)) + x₁) * inv(x₀ + ...\n",
      "                                      -198.88)) + -0.17265\n",
      "20          1.628e-04  3.818e-02  y = cbrt(3.0085 * inv(inv(cbrt(x₁ + ((square(x₁) - -1.9995...\n",
      "                                      ) * 1.7391))) * (x₀ + -188.74))) + -0.20927\n",
      "22          1.604e-04  7.347e-03  y = cbrt(inv(cbrt(inv(x₁ + (((square(x₁) + -0.13585) - -1....\n",
      "                                      9995) * 1.7391))) * (x₀ + -188.74)) * 3.0085) + -0.20927\n",
      "23          1.524e-04  5.126e-02  y = cbrt((inv(cbrt(inv(x₁ + ((square(x₁) + 1.0709) * 1.788...\n",
      "                                      ))) * (x₀ + -188.75)) * 3.087) + inv(x₀)) + -0.21644\n",
      "24          1.485e-04  2.574e-02  y = cbrt((inv(cbrt(inv((x₁ + inv(x₁)) + square(x₁)) * 1.24...\n",
      "                                      74) * (x₀ + -188.8)) * 4.0866) + inv(x₀)) + -0.22066\n",
      "25          1.476e-04  6.050e-03  y = cbrt((inv(cbrt(inv(((x₁ + inv(square(x₁))) + square(x₁...\n",
      "                                      )) * 1.8044)) * (x₀ + -188.75)) * 3.1216) + inv(x₀)) + -0....\n",
      "                                      22195\n",
      "───────────────────────────────────────────────────────────────────────────────────────────────────\n"
     ]
    },
    {
     "name": "stderr",
     "output_type": "stream",
     "text": [
      "[ Info: Started!\n",
      "[ Info: Final population:\n",
      "[ Info: Results saved to:\n"
     ]
    },
    {
     "name": "stdout",
     "output_type": "stream",
     "text": [
      "Current Prediction Average Error (%): 0.9840194042829596\n",
      "Best Prediction Average Error (%): 0.48067222392531395\n",
      "Current Model Formula: Abs((x1 + 2.146342)/(x0 - 200.5096))**(1/3)*sign((x1 + 2.146342)/(x0 - 200.5096)) - 0.16619565\n"
     ]
    },
    {
     "name": "stderr",
     "output_type": "stream",
     "text": [
      "/home/ajt6830/miniconda3/envs/pysr_env/lib/python3.11/site-packages/pysr/sr.py:2217: UserWarning: The discovered expressions are being reset. Please set `warm_start=True` if you wish to continue to start a search where you left off.\n",
      "  warnings.warn(\n",
      "/home/ajt6830/miniconda3/envs/pysr_env/lib/python3.11/site-packages/pysr/sr.py:2811: UserWarning: Note: it looks like you are running in Jupyter. The progress bar will be turned off.\n",
      "  warnings.warn(\n"
     ]
    },
    {
     "name": "stdout",
     "output_type": "stream",
     "text": [
      "  - outputs/20250702_122118_UlmnNe/hall_of_fame.csv\n",
      "───────────────────────────────────────────────────────────────────────────────────────────────────\n",
      "Complexity  Loss       Score      Equation\n",
      "1           1.299e-02  0.000e+00  y = 0.17399\n",
      "3           5.630e-03  4.181e-01  y = x₁ * 0.034504\n",
      "4           4.103e-03  3.165e-01  y = sqrt(x₁) * 0.096387\n",
      "5           3.732e-03  9.469e-02  y = square(inv(x₀) * 150.45)\n",
      "6           3.479e-03  7.017e-02  y = (inv(x₀) * 139.04) + -0.20416\n",
      "7           1.107e-03  1.145e+00  y = (inv(x₀) * 44.145) * cbrt(x₁)\n",
      "8           9.071e-04  1.992e-01  y = sqrt(x₁) * square(inv(x₀) * -99.326)\n",
      "9           1.796e-04  1.619e+00  y = square((cbrt(sqrt(x₁)) * inv(x₀)) * -117.42)\n",
      "11          1.796e-04  2.980e-07  y = square((cbrt(sqrt(x₁ + x₁)) * inv(x₀)) * -104.61)\n",
      "13          1.362e-04  1.384e-01  y = square((sqrt(cbrt(x₁ + x₁)) * -120.21) * inv(x₀ + 42.9...\n",
      "                                      25))\n",
      "22          1.242e-04  1.027e-02  y = cube(cube(cbrt(cbrt(inv(x₀) * (cube(cbrt(x₁) + 5.2132)...\n",
      "                                       + (-0.92396 - (cube(x₁) * inv(x₀))))) - 0.39713)))\n",
      "24          1.231e-04  4.255e-03  y = cube(cbrt(cube(cbrt(inv(x₀) * ((cube(cbrt(x₁) + 5.5153...\n",
      "                                      ) + ((x₁ - cube(x₁)) * inv(x₀))) - x₁)) - 0.44208)))\n",
      "25          1.120e-04  9.497e-02  y = cube(cbrt(cube(cbrt(inv(x₀) * (cube(cbrt(x₁) + 5.1788)...\n",
      "                                       + ((inv(x₀) * (cbrt(x₀) - cube(x₁))) - x₁))) - 0.38695)))\n",
      "27          1.119e-04  1.219e-04  y = cube(cbrt(cube(cbrt(inv(x₀) * ((cube(cbrt(x₁) + 5.1788...\n",
      "                                      ) + (inv(x₀) * ((5.1788 + cbrt(x₀)) - cube(x₁)))) - x₁)) -...\n",
      "                                       0.38695)))\n",
      "28          9.860e-05  1.267e-01  y = cube(cube(cbrt(cbrt((cube(cbrt(x₁) + 5.5054) + ((inv(x...\n",
      "                                      ₀) * (cube(cbrt(x₀) + 4.8189) - cube(x₁))) - x₁)) * inv(x₀...\n",
      "                                      )) - 0.44029)))\n",
      "───────────────────────────────────────────────────────────────────────────────────────────────────\n"
     ]
    },
    {
     "name": "stderr",
     "output_type": "stream",
     "text": [
      "[ Info: Started!\n",
      "[ Info: Final population:\n",
      "[ Info: Results saved to:\n"
     ]
    },
    {
     "name": "stdout",
     "output_type": "stream",
     "text": [
      "Current Prediction Average Error (%): 0.7662745067244416\n",
      "Best Prediction Average Error (%): 0.48067222392531395\n",
      "Current Model Formula: 14451.1846030864*2**(1/3)*Abs(x1)**(1/3)*sign(x1)/(x0 + 42.92465)**2\n"
     ]
    },
    {
     "name": "stderr",
     "output_type": "stream",
     "text": [
      "/home/ajt6830/miniconda3/envs/pysr_env/lib/python3.11/site-packages/pysr/sr.py:2217: UserWarning: The discovered expressions are being reset. Please set `warm_start=True` if you wish to continue to start a search where you left off.\n",
      "  warnings.warn(\n",
      "/home/ajt6830/miniconda3/envs/pysr_env/lib/python3.11/site-packages/pysr/sr.py:2811: UserWarning: Note: it looks like you are running in Jupyter. The progress bar will be turned off.\n",
      "  warnings.warn(\n"
     ]
    },
    {
     "name": "stdout",
     "output_type": "stream",
     "text": [
      "  - outputs/20250702_122124_PCQ6oe/hall_of_fame.csv\n",
      "───────────────────────────────────────────────────────────────────────────────────────────────────\n",
      "Complexity  Loss       Score      Equation\n",
      "1           1.299e-02  0.000e+00  y = 0.17399\n",
      "3           5.630e-03  4.181e-01  y = x₁ * 0.034504\n",
      "4           4.103e-03  3.165e-01  y = sqrt(x₁) * 0.096387\n",
      "5           3.732e-03  9.469e-02  y = inv(square(x₀)) * 22636\n",
      "7           2.756e-03  1.516e-01  y = cbrt(x₁ * (inv(x₀) - 0.0010173))\n",
      "8           9.071e-04  1.111e+00  y = (square(inv(x₀)) * 9865.9) * sqrt(x₁)\n",
      "10          6.177e-04  1.921e-01  y = ((x₁ + 14.509) * square(cbrt(inv(x₀)))) + -0.19421\n",
      "11          2.719e-04  8.205e-01  y = inv(square(-3.774 - (cbrt(x₀) * -0.94578))) * cbrt(x₁)\n",
      "13          1.505e-04  2.959e-01  y = cbrt(x₁) * (inv(cbrt(-3.6529 - cbrt(x₀ * -0.57576))) -...\n",
      "                                       0.6468)\n",
      "14          9.991e-05  4.095e-01  y = cbrt(x₁) * (square(inv(cbrt(cbrt(x₀ * -8.3354) - -9.20...\n",
      "                                      66))) - 0.21978)\n",
      "16          9.643e-05  1.769e-02  y = (cbrt(x₁) * (square(cbrt(inv(cbrt(x₀ * -8.3525) - -9.1...\n",
      "                                      669))) - 0.21267)) - 0.0078387\n",
      "18          9.628e-05  7.904e-04  y = ((inv(square(cbrt(cbrt(x₀ * -9.4366) - -9.6236))) - 0....\n",
      "                                      20681) * cbrt(inv(inv(x₁)))) - 0.0082617\n",
      "20          9.586e-05  2.175e-03  y = ((square(inv(cbrt(cbrt((x₀ + 0.72886) * -10.712) - -10...\n",
      "                                      .154))) - 0.20157) * inv(cbrt(inv(x₁)))) - 0.0084449\n",
      "21          9.585e-05  1.655e-04  y = (cbrt(x₁) * (inv(cbrt(square(-9.1669 - cbrt((x₀ - inv(...\n",
      "                                      x₁ * x₁)) * -8.3525)))) - 0.21267)) - 0.0078387\n",
      "23          9.539e-05  2.414e-03  y = (inv(cbrt(inv(x₁))) * (inv(square(cbrt(cbrt((x₀ - squa...\n",
      "                                      re(inv(square(x₁)))) * -8.3533) - -9.167))) - 0.21218)) - ...\n",
      "                                      0.0085747\n",
      "25          9.132e-05  2.177e-02  y = ((inv(square(cbrt(cbrt(inv(cube(square(0.49893 * x₁)))...\n",
      "                                       + (x₀ * -9.4366)) - -9.6236))) - 0.20681) * cbrt(inv(inv(...\n",
      "                                      x₁)))) - 0.0082617\n",
      "29          7.783e-05  3.996e-02  y = (inv(inv(cbrt(x₁))) * (cbrt(square(inv(-9.167 - cbrt((...\n",
      "                                      x₀ + inv((square(square(1.1539)) - sqrt(x₁)) * square(-1.3...\n",
      "                                      027))) * -8.3533)))) - 0.21265)) - 0.0078459\n",
      "───────────────────────────────────────────────────────────────────────────────────────────────────\n"
     ]
    },
    {
     "name": "stderr",
     "output_type": "stream",
     "text": [
      "[ Info: Started!\n",
      "[ Info: Final population:\n",
      "[ Info: Results saved to:\n"
     ]
    },
    {
     "name": "stdout",
     "output_type": "stream",
     "text": [
      "Current Prediction Average Error (%): 0.5841306548065434\n",
      "Best Prediction Average Error (%): 0.48067222392531395\n",
      "Current Model Formula: (-0.2197804 + 1/(Abs(2.02756946603182*Abs(x0)**(1/3)*sign(x0) - 9.206637)**(2/3)*sign(-2.02756946603182*Abs(x0)**(1/3)*sign(x0) + 9.206637)**2))*Abs(x1)**(1/3)*sign(x1)\n"
     ]
    },
    {
     "name": "stderr",
     "output_type": "stream",
     "text": [
      "/home/ajt6830/miniconda3/envs/pysr_env/lib/python3.11/site-packages/pysr/sr.py:1270: UserWarning: `extra_sympy_mappings` cannot be pickled and will be removed from the serialized instance. When loading the model, please redefine `extra_sympy_mappings` at runtime.\n",
      "  warnings.warn(warn_msg)\n",
      "/home/ajt6830/miniconda3/envs/pysr_env/lib/python3.11/site-packages/pysr/sr.py:2217: UserWarning: The discovered expressions are being reset. Please set `warm_start=True` if you wish to continue to start a search where you left off.\n",
      "  warnings.warn(\n",
      "/home/ajt6830/miniconda3/envs/pysr_env/lib/python3.11/site-packages/pysr/sr.py:2811: UserWarning: Note: it looks like you are running in Jupyter. The progress bar will be turned off.\n",
      "  warnings.warn(\n"
     ]
    },
    {
     "name": "stdout",
     "output_type": "stream",
     "text": [
      "  - outputs/20250702_122129_ZIJ9Rh/hall_of_fame.csv\n",
      "───────────────────────────────────────────────────────────────────────────────────────────────────\n",
      "Complexity  Loss       Score      Equation\n",
      "1           1.299e-02  0.000e+00  y = 0.17399\n",
      "3           5.630e-03  4.181e-01  y = x₁ * 0.034505\n",
      "4           4.103e-03  3.165e-01  y = sqrt(x₁) * 0.096387\n",
      "5           3.732e-03  9.469e-02  y = square(inv(x₀) * 150.45)\n",
      "6           3.479e-03  7.017e-02  y = (inv(x₀) * 139.03) + -0.20415\n",
      "7           9.451e-04  1.303e+00  y = (inv(x₀) * 32.505) * sqrt(x₁)\n",
      "9           6.121e-04  2.172e-01  y = (sqrt(x₁) * 43.806) * (inv(x₀) + -0.00081409)\n",
      "10          3.254e-04  6.318e-01  y = (inv(x₀) * ((x₁ + 15.708) * 5.1653)) + -0.11245\n",
      "11          2.080e-04  4.475e-01  y = ((sqrt(x₁ + 5.1884) * 33.404) * inv(x₀)) + -0.10643\n",
      "18          1.953e-04  9.019e-03  y = ((inv(cbrt(cube(x₁) * x₁) + (x₀ - 43.804)) * (x₁ + 10....\n",
      "                                      504)) * 5.7843) + -0.090816\n",
      "20          1.931e-04  5.526e-03  y = ((inv((cbrt(cube(x₁) * x₁) - 1.1284) + (x₀ - 43.803)) ...\n",
      "                                      * (x₁ + 10.496)) * 5.7286) + -0.087939\n",
      "21          1.687e-04  1.356e-01  y = ((x₁ + 11.926) * (6.0052 * inv(cbrt((x₁ + -7.0937) * c...\n",
      "                                      ube(x₁)) + (x₀ - sqrt(x₀))))) + -0.10956\n",
      "23          1.631e-04  1.666e-02  y = 0.96991 * ((((10.568 + x₁) * 5.7041) * inv(cbrt(cube(x...\n",
      "                                      ₁) * (x₁ - cbrt(x₀))) + (x₀ - 43.815))) + -0.088635)\n",
      "24          1.556e-04  4.718e-02  y = (((x₁ + 10.497) * 5.7738) * inv((x₀ + cbrt(((x₁ + x₁) ...\n",
      "                                      * cube(x₁)) + (x₀ + x₀))) - 50.582)) + -0.089553\n",
      "25          1.482e-04  4.899e-02  y = (-0.086581 + (((x₁ + 10.493) * 5.7027) * inv(cbrt(cube...\n",
      "                                      (x₁) * ((x₁ - 1.0193) - cbrt(x₀))) + (x₀ - 43.802)))) * 0....\n",
      "                                      96142\n",
      "26          1.447e-04  2.365e-02  y = (((x₁ + 10.568) * 5.7041) * (inv((cbrt(cube(x₁) * ((x₁...\n",
      "                                       - cbrt(x₁)) - cbrt(x₀))) + x₀) - 43.815) * 0.96991)) + -0...\n",
      "                                      .088635\n",
      "27          1.235e-04  1.588e-01  y = (((x₁ + 10.51) * 5.8442) * inv((x₀ + cbrt(((cube((cbrt...\n",
      "                                      (x₁) - 1.242) * x₁) * x₁) + x₀) - 3.5251)) - 44.934)) + -0...\n",
      "                                      .091561\n",
      "───────────────────────────────────────────────────────────────────────────────────────────────────\n",
      "Current Prediction Average Error (%): 0.8052055678929071\n",
      "Best Prediction Average Error (%): 0.48067222392531395\n",
      "Current Model Formula: (5.8441625*x1 + 61.4196524176125)/(x0 + Abs(x0 + x1**4*(Abs(x1)**(1/3)*sign(x1) - 1.2420069)**3 - 3.525061)**(1/3)*sign(x0 + x1**4*(Abs(x1)**(1/3)*sign(x1) - 1.2420069)**3 - 3.525061) - 44.93449) - 0.09156088\n"
     ]
    },
    {
     "name": "stderr",
     "output_type": "stream",
     "text": [
      "[ Info: Started!\n",
      "[ Info: Final population:\n",
      "[ Info: Results saved to:\n",
      "/home/ajt6830/miniconda3/envs/pysr_env/lib/python3.11/site-packages/pysr/sr.py:2217: UserWarning: The discovered expressions are being reset. Please set `warm_start=True` if you wish to continue to start a search where you left off.\n",
      "  warnings.warn(\n",
      "/home/ajt6830/miniconda3/envs/pysr_env/lib/python3.11/site-packages/pysr/sr.py:2811: UserWarning: Note: it looks like you are running in Jupyter. The progress bar will be turned off.\n",
      "  warnings.warn(\n"
     ]
    },
    {
     "name": "stdout",
     "output_type": "stream",
     "text": [
      "  - outputs/20250702_122134_26FoHV/hall_of_fame.csv\n"
     ]
    },
    {
     "name": "stderr",
     "output_type": "stream",
     "text": [
      "[ Info: Started!\n",
      "[ Info: Final population:\n",
      "[ Info: Results saved to:\n",
      "/home/ajt6830/miniconda3/envs/pysr_env/lib/python3.11/site-packages/pysr/sr.py:2217: UserWarning: The discovered expressions are being reset. Please set `warm_start=True` if you wish to continue to start a search where you left off.\n",
      "  warnings.warn(\n",
      "/home/ajt6830/miniconda3/envs/pysr_env/lib/python3.11/site-packages/pysr/sr.py:2811: UserWarning: Note: it looks like you are running in Jupyter. The progress bar will be turned off.\n",
      "  warnings.warn(\n"
     ]
    },
    {
     "name": "stdout",
     "output_type": "stream",
     "text": [
      "───────────────────────────────────────────────────────────────────────────────────────────────────\n",
      "Complexity  Loss       Score      Equation\n",
      "1           1.299e-02  0.000e+00  y = 0.17399\n",
      "3           5.630e-03  4.181e-01  y = x₁ * 0.034504\n",
      "4           4.103e-03  3.165e-01  y = sqrt(x₁) * 0.096387\n",
      "5           3.741e-03  9.228e-02  y = cbrt(square(x₁)) * 0.070941\n",
      "7           8.150e-04  7.620e-01  y = sqrt(x₁ * inv(x₀ + -207.82))\n",
      "9           1.933e-04  7.195e-01  y = cbrt(x₁) * ((inv(x₀) * 80.184) - 0.1046)\n",
      "11          1.378e-04  1.693e-01  y = (cbrt(x₁) * ((56.432 * inv(x₀)) - 0.063234)) * 1.2272\n",
      "18          1.357e-04  2.229e-03  y = (inv(sqrt((cbrt(cbrt(x₀)) * (-61.912 + x₀)) - x₀)) * (...\n",
      "                                      sqrt(x₁) + 2.473)) - 0.12912\n",
      "22          1.320e-04  6.809e-03  y = (sqrt(inv((cbrt(cbrt(x₀) + (0.032212 * x₁)) * (-74.233...\n",
      "                                       + x₀)) - x₀)) * (sqrt(x₁) + 1.7173)) - 0.092547\n",
      "23          1.163e-04  1.266e-01  y = (sqrt(inv(((x₀ + -74.233) * cbrt(square(x₁ * -0.049037...\n",
      "                                      ) + cbrt(x₀))) - x₀)) * (sqrt(x₁) + 1.7202)) - 0.09418\n",
      "───────────────────────────────────────────────────────────────────────────────────────────────────\n",
      "Current Prediction Average Error (%): 0.8120658384285006\n",
      "Best Prediction Average Error (%): 0.48067222392531395\n",
      "Current Model Formula: 1.2272261*(-0.06323438 + 56.432117/x0)*Abs(x1)**(1/3)*sign(x1)\n",
      "  - outputs/20250702_122139_wS9TwA/hall_of_fame.csv\n",
      "───────────────────────────────────────────────────────────────────────────────────────────────────\n",
      "Complexity  Loss       Score      Equation\n",
      "1           1.299e-02  0.000e+00  y = 0.174\n",
      "3           5.630e-03  4.181e-01  y = x₁ * 0.034504\n",
      "4           4.103e-03  3.165e-01  y = sqrt(x₁) * 0.096387\n",
      "5           3.732e-03  9.469e-02  y = inv(square(x₀)) * 22636\n",
      "6           3.479e-03  7.017e-02  y = (inv(x₀) * 139.03) - 0.20415\n",
      "7           2.793e-03  2.197e-01  y = square((x₁ - -138.62) * inv(x₀))\n",
      "8           1.936e-03  3.667e-01  y = inv(x₀) * cbrt(square(x₁ * -109.8))\n",
      "9           2.990e-04  1.868e+00  y = inv(x₀ - 158.42) * cbrt(x₁ * 9174.5)\n",
      "10          1.741e-04  5.411e-01  y = cbrt(x₁) * square(1.3275 - (cbrt(x₀) * 0.13811))\n",
      "11          1.261e-04  3.221e-01  y = square(((cbrt(x₀) * 0.1409) - 1.3401) * sqrt(cbrt(x₁))...\n",
      "                                      )\n",
      "12          1.200e-04  4.999e-02  y = square(((cbrt(x₀) * 0.13811) - 1.3275) * 0.98398) * cb...\n",
      "                                      rt(x₁)\n",
      "13          1.062e-04  1.218e-01  y = square((1.9238 - (cbrt(cbrt(x₀)) * 0.89471)) * 1.6621)...\n",
      "                                       * cbrt(x₁)\n",
      "30          1.042e-04  1.157e-03  y = cbrt(0.13811 + (x₁ + cbrt(0.12589 - square(cbrt((-0.93...\n",
      "                                      942 * cbrt(-1.9326)) - (x₁ * -0.98642)) - (-0.93942 * -0.9...\n",
      "                                      8642))))) * square(1.3275 - (0.13811 * cbrt(x₀)))\n",
      "───────────────────────────────────────────────────────────────────────────────────────────────────\n"
     ]
    },
    {
     "name": "stderr",
     "output_type": "stream",
     "text": [
      "[ Info: Started!\n",
      "[ Info: Final population:\n",
      "[ Info: Results saved to:\n",
      "/home/ajt6830/miniconda3/envs/pysr_env/lib/python3.11/site-packages/pysr/sr.py:2217: UserWarning: The discovered expressions are being reset. Please set `warm_start=True` if you wish to continue to start a search where you left off.\n",
      "  warnings.warn(\n",
      "/home/ajt6830/miniconda3/envs/pysr_env/lib/python3.11/site-packages/pysr/sr.py:2811: UserWarning: Note: it looks like you are running in Jupyter. The progress bar will be turned off.\n",
      "  warnings.warn(\n"
     ]
    },
    {
     "name": "stdout",
     "output_type": "stream",
     "text": [
      "Current Prediction Average Error (%): 0.7456848003102498\n",
      "Best Prediction Average Error (%): 0.48067222392531395\n",
      "Current Model Formula: (0.14090395*Abs(x0)**(1/3)*sign(x0) - 1.3400519)**2*Abs(x1)**(1/3)*sign(x1)\n",
      "  - outputs/20250702_122144_BV0W5o/hall_of_fame.csv\n",
      "───────────────────────────────────────────────────────────────────────────────────────────────────\n",
      "Complexity  Loss       Score      Equation\n",
      "1           1.299e-02  0.000e+00  y = 0.17399\n",
      "3           5.630e-03  4.181e-01  y = x₁ * 0.034504\n",
      "4           4.103e-03  3.165e-01  y = sqrt(x₁) * 0.096387\n",
      "5           3.741e-03  9.228e-02  y = cbrt(square(x₁)) * 0.070941\n",
      "6           3.479e-03  7.258e-02  y = (inv(x₀) * 139.03) - 0.20415\n",
      "7           2.048e-03  5.298e-01  y = sqrt(inv(x₀) * (3.2366 * x₁))\n",
      "9           6.648e-04  5.626e-01  y = cbrt(inv(x₀ + -197.34) * x₁) - 0.10785\n",
      "11          3.137e-04  3.755e-01  y = cbrt((1.1929 + x₁) * inv(-207.94 + x₀)) - 0.15264\n",
      "12          2.729e-04  1.394e-01  y = (inv(cbrt(x₀ + -185.65)) - 0.10829) * sqrt(x₁ + 1.492)\n",
      "13          2.093e-04  2.651e-01  y = cbrt(inv(-202.04 + x₀) * square(sqrt(x₁ - -2.3411))) -...\n",
      "                                       0.16807\n",
      "15          1.915e-04  4.455e-02  y = cbrt(inv((x₀ + -207.94) + x₁) * sqrt(square(x₁ - -1.46...\n",
      "                                      64))) - 0.15264\n",
      "16          1.681e-04  1.300e-01  y = cbrt(x₁) * (inv(cube(x₀) * square(cbrt(inv(square(x₀))...\n",
      "                                      ) * 0.014463)) * 0.42961)\n",
      "18          1.103e-04  2.107e-01  y = ((inv(cube(x₀) * square(cbrt(inv(square(x₀))) * 0.0296...\n",
      "                                      8)) * 1.9113) * cbrt(x₁)) - 0.014671\n",
      "20          1.098e-04  2.147e-03  y = ((inv(cube(x₀) * square(square(inv(cbrt(x₀ - -0.63717)...\n",
      "                                      )) * 0.02968)) * cbrt(x₁)) * 1.9113) - 0.014671\n",
      "22          1.098e-04  1.079e-05  y = ((inv(square(0.02968 * inv(cbrt(square(0.53255 - x₀)))...\n",
      "                                      ) * cube(x₀ - 0.53255)) * 1.9113) * cbrt(x₁)) - 0.014671\n",
      "23          1.048e-04  4.732e-02  y = ((inv(cube(x₀) * square(square(inv(cube(x₁ * 0.014671)...\n",
      "                                       - cbrt(x₀))) * 0.02968)) * 1.9113) * cbrt(x₁)) - 0.014671\n",
      "25          1.047e-04  4.724e-04  y = (inv(square(square(inv(cube(x₁ * 0.014671) - cbrt(x₀))...\n",
      "                                      ) * 0.02968) * cube(x₀ - 0.017245)) * (cbrt(x₁) * 1.9113))...\n",
      "                                       - 0.014671\n",
      "26          1.030e-04  1.640e-02  y = ((inv(square(square(inv(cube(x₁ * 0.014671) - cbrt(x₀)...\n",
      "                                      )) * 0.02968) * cube(x₀ - inv(x₁))) * cbrt(x₁)) * 1.9113) ...\n",
      "                                      - 0.014671\n",
      "28          1.029e-04  5.471e-04  y = ((inv(square(square(inv(cube(x₁ * 0.014671) - cbrt(x₀)...\n",
      "                                      )) * 0.02968) * cube(x₀ - inv(x₁ * x₁))) * cbrt(x₁)) * 1.9...\n",
      "                                      113) - 0.014671\n",
      "29          9.354e-05  9.494e-02  y = ((cbrt(x₁) * inv((cube(x₀) + (cube(x₁ * cbrt(cbrt(x₀))...\n",
      "                                      ) * x₁)) * square(square(inv(cbrt(x₀)) * 0.22297) * 0.1384...\n",
      "                                      5))) + -0.18702) * 0.10541\n",
      "───────────────────────────────────────────────────────────────────────────────────────────────────\n"
     ]
    },
    {
     "name": "stderr",
     "output_type": "stream",
     "text": [
      "[ Info: Started!\n",
      "[ Info: Final population:\n",
      "[ Info: Results saved to:\n"
     ]
    },
    {
     "name": "stdout",
     "output_type": "stream",
     "text": [
      "Current Prediction Average Error (%): 0.6712712636982116\n",
      "Best Prediction Average Error (%): 0.48067222392531395\n",
      "Current Model Formula: -0.014671078 + 2169.71528541921*Abs(x0**2)**(2/3)*Abs(x1)**(1/3)*sign(x1)/(x0**3*sign(x0**(-2))**2)\n"
     ]
    },
    {
     "name": "stderr",
     "output_type": "stream",
     "text": [
      "/home/ajt6830/miniconda3/envs/pysr_env/lib/python3.11/site-packages/pysr/sr.py:1270: UserWarning: `extra_sympy_mappings` cannot be pickled and will be removed from the serialized instance. When loading the model, please redefine `extra_sympy_mappings` at runtime.\n",
      "  warnings.warn(warn_msg)\n",
      "/home/ajt6830/miniconda3/envs/pysr_env/lib/python3.11/site-packages/pysr/sr.py:2217: UserWarning: The discovered expressions are being reset. Please set `warm_start=True` if you wish to continue to start a search where you left off.\n",
      "  warnings.warn(\n",
      "/home/ajt6830/miniconda3/envs/pysr_env/lib/python3.11/site-packages/pysr/sr.py:2811: UserWarning: Note: it looks like you are running in Jupyter. The progress bar will be turned off.\n",
      "  warnings.warn(\n"
     ]
    },
    {
     "name": "stdout",
     "output_type": "stream",
     "text": [
      "  - outputs/20250702_122149_oaaMl3/hall_of_fame.csv\n",
      "───────────────────────────────────────────────────────────────────────────────────────────────────\n",
      "Complexity  Loss       Score      Equation\n",
      "1           1.299e-02  0.000e+00  y = 0.17399\n",
      "3           5.630e-03  4.181e-01  y = x₁ * 0.034504\n",
      "4           4.103e-03  3.165e-01  y = sqrt(x₁) * 0.096387\n",
      "5           3.732e-03  9.469e-02  y = square(inv(x₀) * -150.45)\n",
      "6           3.479e-03  7.017e-02  y = (inv(x₀) * 139.03) + -0.20415\n",
      "7           1.107e-03  1.145e+00  y = (inv(x₀) * 44.145) * cbrt(x₁)\n",
      "8           3.499e-04  1.152e+00  y = cbrt(x₁) * square(113.67 * inv(x₀))\n",
      "9           1.032e-04  1.221e+00  y = ((inv(x₀) * 75.138) + -0.095024) * cbrt(x₁)\n",
      "11          1.003e-04  1.413e-02  y = (-0.085526 + (68.225 * inv(x₀ + -16.594))) * cbrt(x₁)\n",
      "13          1.000e-04  1.347e-03  y = (cbrt(x₁) * ((inv(x₀ + -7.3356) * 71.902) + -0.087206)...\n",
      "                                      ) + -0.0052201\n",
      "14          9.620e-05  3.906e-02  y = cbrt(x₁) * ((inv(x₀ - cbrt(x₁ - 4.8024)) * 75.132) + -...\n",
      "                                      0.095448)\n",
      "18          9.171e-05  1.194e-02  y = (-0.095032 + (75.14 * inv(x₀ - inv((x₁ * -0.32686) + c...\n",
      "                                      brt(square(-0.82823)))))) * cbrt(x₁)\n",
      "24          8.392e-05  1.481e-02  y = cbrt(x₁) * ((inv(x₀ - inv(cbrt(-0.289 - ((x₁ + 0.12116...\n",
      "                                      ) * (inv(x₁) - 0.41794))) * 0.58858)) * 75.14) + -0.095239...\n",
      "                                      )\n",
      "27          7.123e-05  5.466e-02  y = cbrt(x₁) * ((inv(x₀ - inv((square(square(cbrt(cbrt(x₀)...\n",
      "                                      ) - x₁)) * square(-0.82672)) - sqrt(-0.095032 + cbrt(x₁)))...\n",
      "                                      ) * 75.14) + -0.095032)\n",
      "29          7.106e-05  1.187e-03  y = cbrt(x₁) * ((inv(x₀ - inv((square(square(cbrt(cbrt(1.9...\n",
      "                                      898 + x₀)) - x₁)) * square(-0.82672)) - sqrt(-0.095032 + c...\n",
      "                                      brt(x₁)))) * 75.14) + -0.095032)\n",
      "───────────────────────────────────────────────────────────────────────────────────────────────────\n",
      "Current Prediction Average Error (%): 0.616293032930497\n",
      "Best Prediction Average Error (%): 0.48067222392531395\n",
      "Current Model Formula: (-0.095024146 + 75.13775/x0)*Abs(x1)**(1/3)*sign(x1)\n"
     ]
    },
    {
     "name": "stderr",
     "output_type": "stream",
     "text": [
      "[ Info: Started!\n",
      "[ Info: Final population:\n",
      "[ Info: Results saved to:\n",
      "/home/ajt6830/miniconda3/envs/pysr_env/lib/python3.11/site-packages/pysr/sr.py:1270: UserWarning: `extra_sympy_mappings` cannot be pickled and will be removed from the serialized instance. When loading the model, please redefine `extra_sympy_mappings` at runtime.\n",
      "  warnings.warn(warn_msg)\n",
      "/home/ajt6830/miniconda3/envs/pysr_env/lib/python3.11/site-packages/pysr/sr.py:2217: UserWarning: The discovered expressions are being reset. Please set `warm_start=True` if you wish to continue to start a search where you left off.\n",
      "  warnings.warn(\n",
      "/home/ajt6830/miniconda3/envs/pysr_env/lib/python3.11/site-packages/pysr/sr.py:2811: UserWarning: Note: it looks like you are running in Jupyter. The progress bar will be turned off.\n",
      "  warnings.warn(\n"
     ]
    },
    {
     "name": "stdout",
     "output_type": "stream",
     "text": [
      "  - outputs/20250702_122154_2yJjNE/hall_of_fame.csv\n",
      "───────────────────────────────────────────────────────────────────────────────────────────────────\n",
      "Complexity  Loss       Score      Equation\n",
      "1           1.299e-02  0.000e+00  y = 0.17399\n",
      "3           5.630e-03  4.181e-01  y = x₁ * 0.034507\n",
      "4           4.103e-03  3.165e-01  y = sqrt(x₁) * 0.096387\n",
      "5           3.741e-03  9.228e-02  y = cbrt(square(x₁)) * 0.070941\n",
      "6           3.479e-03  7.258e-02  y = (inv(x₀) * 139.03) + -0.20415\n",
      "7           2.979e-03  1.551e-01  y = cbrt(inv(x₀) * x₁) - 0.035075\n",
      "8           1.796e-04  2.809e+00  y = cbrt(x₁) * square(inv(x₀) * -117.42)\n",
      "9           1.032e-04  5.544e-01  y = ((inv(x₀) * 75.139) - 0.095028) * cbrt(x₁)\n",
      "11          1.032e-04  8.345e-07  y = ((75.139 * cube(cbrt(inv(x₀)))) - 0.095028) * cbrt(x₁)\n",
      "12          1.008e-04  2.326e-02  y = cbrt(x₁) * ((inv(cbrt(x₀ + -144.02)) - 0.115) * 2.1782...\n",
      "                                      )\n",
      "14          9.659e-05  2.137e-02  y = (((cbrt(inv(x₀ + -145.44)) - 0.11134) * 2.1182) * cbrt...\n",
      "                                      (x₁)) + -0.0085823\n",
      "17          9.587e-05  2.486e-03  y = (cbrt(x₁) * (2.1415 * (inv(cbrt((sqrt(x₁) + x₀) + -146...\n",
      "                                      .49)) - 0.11063))) - 0.011625\n",
      "20          9.227e-05  1.274e-02  y = (inv(cbrt((x₀ + -135.83) + cbrt(cbrt(sqrt(x₀) - square...\n",
      "                                      (x₁))))) - 0.11535) * (2.2859 * cbrt(x₁))\n",
      "21          9.000e-05  2.496e-02  y = ((inv(cbrt((cbrt(cbrt(x₀ + cube(x₁ * -1.6796))) + -135...\n",
      "                                      .83) + x₀)) - 0.11495) * 2.2626) * cbrt(x₁)\n",
      "22          8.490e-05  5.837e-02  y = ((cbrt(inv((x₀ + -135.83) + inv(cbrt(square((x₁ * sqrt...\n",
      "                                      (x₁)) + -5.1404))))) - 0.11538) * 2.2993) * cbrt(x₁)\n",
      "23          8.380e-05  1.304e-02  y = (cbrt(x₁) * 2.324) * (cbrt(inv((x₀ + -135.83) + inv((s...\n",
      "                                      qrt(x₁ * square(x₁)) * 0.30427) + -1.4771))) - 0.11592)\n",
      "26          7.795e-05  2.411e-02  y = ((cbrt(inv(x₀ + (-135.83 + inv(square((cbrt(-2.6032 - ...\n",
      "                                      0.15386) + (0.85894 * sqrt(x₁))) * x₁))))) - 0.11538) * cb...\n",
      "                                      rt(x₁)) * 2.2993\n",
      "30          7.768e-05  8.737e-04  y = cbrt(x₁) * ((cbrt(inv((square(inv((-2.6064 - x₁) + (sq...\n",
      "                                      rt(sqrt(x₁ * x₁)) * (x₁ * cbrt(cbrt(x₁)))))) + x₀) + -135....\n",
      "                                      83)) - 0.11565) * 2.324)\n",
      "───────────────────────────────────────────────────────────────────────────────────────────────────\n"
     ]
    },
    {
     "name": "stderr",
     "output_type": "stream",
     "text": [
      "[ Info: Started!\n",
      "[ Info: Final population:\n",
      "[ Info: Results saved to:\n"
     ]
    },
    {
     "name": "stdout",
     "output_type": "stream",
     "text": [
      "Current Prediction Average Error (%): 0.6163018823251721\n",
      "Best Prediction Average Error (%): 0.48067222392531395\n",
      "Current Model Formula: (-0.095028 + 75.13923/x0)*Abs(x1)**(1/3)*sign(x1)\n"
     ]
    },
    {
     "name": "stderr",
     "output_type": "stream",
     "text": [
      "/home/ajt6830/miniconda3/envs/pysr_env/lib/python3.11/site-packages/pysr/sr.py:1270: UserWarning: `extra_sympy_mappings` cannot be pickled and will be removed from the serialized instance. When loading the model, please redefine `extra_sympy_mappings` at runtime.\n",
      "  warnings.warn(warn_msg)\n",
      "/home/ajt6830/miniconda3/envs/pysr_env/lib/python3.11/site-packages/pysr/sr.py:2217: UserWarning: The discovered expressions are being reset. Please set `warm_start=True` if you wish to continue to start a search where you left off.\n",
      "  warnings.warn(\n",
      "/home/ajt6830/miniconda3/envs/pysr_env/lib/python3.11/site-packages/pysr/sr.py:2811: UserWarning: Note: it looks like you are running in Jupyter. The progress bar will be turned off.\n",
      "  warnings.warn(\n"
     ]
    },
    {
     "name": "stdout",
     "output_type": "stream",
     "text": [
      "  - outputs/20250702_122159_ccAfqD/hall_of_fame.csv\n",
      "───────────────────────────────────────────────────────────────────────────────────────────────────\n",
      "Complexity  Loss       Score      Equation\n",
      "1           1.299e-02  0.000e+00  y = 0.174\n",
      "3           5.630e-03  4.181e-01  y = x₁ * 0.034504\n",
      "4           4.103e-03  3.165e-01  y = sqrt(x₁) * 0.096389\n",
      "5           3.770e-03  8.459e-02  y = (x₁ * 0.025812) + 0.065183\n",
      "6           3.496e-03  7.535e-02  y = (inv(x₀) * 142.78) + -0.21115\n",
      "7           8.150e-04  1.456e+00  y = sqrt(inv(x₀ - 207.84) * x₁)\n",
      "8           8.150e-04  2.980e-07  y = inv(sqrt(x₀ - 207.84)) * sqrt(x₁)\n",
      "9           5.109e-04  4.670e-01  y = sqrt(inv(x₀ + (x₁ - 219.57)) * x₁)\n",
      "11          1.819e-04  5.163e-01  y = (sqrt(x₁ - -4.4978) * (34.896 * inv(x₀))) + -0.10913\n",
      "13          1.784e-04  9.654e-03  y = (sqrt(x₁ - -4.4978) * (inv(x₀ - 1.684) * 34.896)) + -0...\n",
      "                                      .10913\n",
      "15          1.718e-04  1.891e-02  y = ((sqrt(x₁ - -3.378) + 0.35914) * (4.3871 * inv(x₀ * 0....\n",
      "                                      13293))) + -0.10647\n",
      "16          1.240e-04  3.262e-01  y = (square(inv(-0.037852 * x₀)) * (x₁ + 1.1696)) * inv((x...\n",
      "                                      ₁ - -6.2642) * 0.01594)\n",
      "18          1.013e-04  1.011e-01  y = (inv(square((x₀ * -0.040796) + -0.64092)) * (x₁ + 1.16...\n",
      "                                      71)) * inv((x₁ - -6.2654) * 0.012247)\n",
      "───────────────────────────────────────────────────────────────────────────────────────────────────\n",
      "Current Prediction Average Error (%): 0.7645858040955437\n",
      "Best Prediction Average Error (%): 0.48067222392531395\n",
      "Current Model Formula: (697.939930852947/x0**2)*(x1 + 1.1695721)*(62.733824647919/(x1 - 1*(-6.264207)))\n"
     ]
    },
    {
     "name": "stderr",
     "output_type": "stream",
     "text": [
      "[ Info: Started!\n",
      "[ Info: Final population:\n",
      "[ Info: Results saved to:\n",
      "/home/ajt6830/miniconda3/envs/pysr_env/lib/python3.11/site-packages/pysr/sr.py:2217: UserWarning: The discovered expressions are being reset. Please set `warm_start=True` if you wish to continue to start a search where you left off.\n",
      "  warnings.warn(\n",
      "/home/ajt6830/miniconda3/envs/pysr_env/lib/python3.11/site-packages/pysr/sr.py:2811: UserWarning: Note: it looks like you are running in Jupyter. The progress bar will be turned off.\n",
      "  warnings.warn(\n"
     ]
    },
    {
     "name": "stdout",
     "output_type": "stream",
     "text": [
      "  - outputs/20250702_122205_3H18Np/hall_of_fame.csv\n",
      "───────────────────────────────────────────────────────────────────────────────────────────────────\n",
      "Complexity  Loss       Score      Equation\n",
      "1           1.299e-02  0.000e+00  y = 0.17399\n",
      "3           5.630e-03  4.181e-01  y = x₁ * 0.034504\n",
      "4           4.103e-03  3.165e-01  y = sqrt(x₁) * 0.096387\n",
      "5           3.732e-03  9.469e-02  y = inv(square(x₀)) * 22636\n",
      "7           3.010e-03  1.075e-01  y = square(inv(x₁ - x₀)) * 21930\n",
      "9           1.603e-03  3.150e-01  y = inv(square((x₁ * -4.3758) + x₀)) * 18159\n",
      "10          1.256e-03  2.439e-01  y = square(inv(sqrt(x₁ * 491.16) - x₀)) * 15332\n",
      "11          8.778e-04  3.583e-01  y = cube(inv(square(cbrt(x₀))) * (cbrt(square(x₁)) + 25.36...\n",
      "                                      5))\n",
      "12          5.797e-04  4.149e-01  y = cube(((inv(x₁) * -9.0437) + 31.447) * inv(cbrt(square(...\n",
      "                                      x₀))))\n",
      "13          2.723e-04  7.555e-01  y = cube((34.307 - (sqrt(inv(x₁)) * 11.19)) * inv(square(c...\n",
      "                                      brt(x₀))))\n",
      "15          1.760e-04  2.183e-01  y = cube((((x₁ - 8.0055) * sqrt(inv(x₁))) + 30.317) * inv(...\n",
      "                                      cbrt(square(x₀))))\n",
      "17          1.754e-04  1.555e-03  y = cube((((x₁ - 7.5849) * sqrt(inv(x₁) * 1.0506)) + 30.14...\n",
      "                                      7) * inv(square(cbrt(x₀))))\n",
      "19          1.668e-04  2.517e-02  y = cube((((inv(sqrt(x₁ + 0.26148)) * 1.1001) * (x₁ - 7.58...\n",
      "                                      99)) + 30.142) * inv(square(cbrt(x₀))))\n",
      "20          1.387e-04  1.850e-01  y = cube(inv(square(cbrt(x₀))) * ((((x₁ - 3.2317) * 2.5113...\n",
      "                                      ) * inv(cbrt(square(x₁) + 2.7685))) + 27.394))\n",
      "21          1.356e-04  2.247e-02  y = cube(inv(square(cbrt(x₀))) * (((inv(square(cbrt(x₁ + i...\n",
      "                                      nv(x₁)))) * 2.5187) * (x₁ - 3.2475)) + 27.393))\n",
      "22          1.292e-04  4.806e-02  y = cube((((cbrt(inv(square(x₁) + cbrt(sqrt(x₀)))) * 1.814...\n",
      "                                      8) * (x₁ - 5.7626)) + 29.367) * inv(square(cbrt(x₀))))\n",
      "26          1.202e-04  1.809e-02  y = cube(square(inv(cbrt(x₀) - -0.43954) * 1.0628) * (25.7...\n",
      "                                      6 + (((x₁ - 2.0413) * inv(cbrt(square(x₁ + inv(cube(x₁))))...\n",
      "                                      )) * 3.1677)))\n",
      "28          1.117e-04  3.661e-02  y = cube(square(inv(-0.44234 - cbrt(x₀)) * 1.0627) * ((((x...\n",
      "                                      ₁ - 2.0494) * inv(square(cbrt(x₁ + inv(cube(x₁ * 0.78683))...\n",
      "                                      )))) * 3.1764) + 25.76))\n",
      "30          1.050e-04  3.115e-02  y = cube(((((x₁ - 2.8554) * square(inv(cbrt((-0.074782 - c...\n",
      "                                      ube(inv(x₁ * -0.96879))) + x₁)))) * 2.6909) + 27.517) * (s...\n",
      "                                      quare(inv(-0.58348 - cbrt(x₀))) * 1.1576))\n",
      "───────────────────────────────────────────────────────────────────────────────────────────────────\n"
     ]
    },
    {
     "name": "stderr",
     "output_type": "stream",
     "text": [
      "[ Info: Started!\n",
      "[ Info: Final population:\n",
      "[ Info: Results saved to:\n"
     ]
    },
    {
     "name": "stdout",
     "output_type": "stream",
     "text": [
      "Current Prediction Average Error (%): 0.7680735557251939\n",
      "Best Prediction Average Error (%): 0.48067222392531395\n",
      "Current Model Formula: ((2.5113242*x1 - 8.11583662297562)/(Abs(x1**2 + 2.7684562)**(1/3)*sign(x1**2 + 2.7684562)) + 27.393806)**3/(Abs(x0)**2*sign(x0)**6)\n"
     ]
    },
    {
     "name": "stderr",
     "output_type": "stream",
     "text": [
      "/home/ajt6830/miniconda3/envs/pysr_env/lib/python3.11/site-packages/pysr/sr.py:2217: UserWarning: The discovered expressions are being reset. Please set `warm_start=True` if you wish to continue to start a search where you left off.\n",
      "  warnings.warn(\n",
      "/home/ajt6830/miniconda3/envs/pysr_env/lib/python3.11/site-packages/pysr/sr.py:2811: UserWarning: Note: it looks like you are running in Jupyter. The progress bar will be turned off.\n",
      "  warnings.warn(\n"
     ]
    },
    {
     "name": "stdout",
     "output_type": "stream",
     "text": [
      "  - outputs/20250702_122211_4DtQCL/hall_of_fame.csv\n",
      "───────────────────────────────────────────────────────────────────────────────────────────────────\n",
      "Complexity  Loss       Score      Equation\n",
      "1           1.299e-02  0.000e+00  y = 0.17399\n",
      "3           5.630e-03  4.181e-01  y = x₁ * 0.034504\n",
      "4           4.103e-03  3.165e-01  y = sqrt(x₁) * 0.096387\n",
      "5           3.732e-03  9.469e-02  y = square(inv(x₀) * -150.45)\n",
      "7           2.048e-03  3.000e-01  y = sqrt(inv(x₀) * (x₁ * 3.2366))\n",
      "8           1.487e-03  3.202e-01  y = sqrt(square(inv(x₀) * -36.183) * x₁)\n",
      "9           1.796e-04  2.114e+00  y = square((sqrt(cbrt(x₁)) * -117.42) * inv(x₀))\n",
      "13          1.718e-04  1.118e-02  y = square(inv(x₀) * cbrt(91457 * sqrt((x₀ + 1.6598) * x₁)...\n",
      "                                      ))\n",
      "14          1.449e-04  1.702e-01  y = square(((sqrt(sqrt(sqrt(x₀))) * inv(x₀)) * cbrt(sqrt(x...\n",
      "                                      ₁))) * -57.523)\n",
      "16          1.352e-04  3.444e-02  y = square((sqrt(sqrt(sqrt(x₀))) * (inv(x₀) * -57.837)) * ...\n",
      "                                      sqrt(cbrt(x₁ + -0.15341)))\n",
      "18          1.349e-04  1.127e-03  y = square(((inv(x₀ - 1.0343) * sqrt(sqrt(sqrt(x₀)))) * -5...\n",
      "                                      7.693) * sqrt(cbrt(x₁ + -0.14326)))\n",
      "19          1.347e-04  1.734e-03  y = square(sqrt(sqrt(sqrt(x₀))) * ((-57.828 * inv(x₀ - inv...\n",
      "                                      (x₁))) * cbrt(sqrt(-0.17693 + x₁))))\n",
      "20          1.257e-04  6.950e-02  y = cube((inv(x₀) * cbrt(x₀ * 378.29)) * (sqrt(sqrt(sqrt(x...\n",
      "                                      ₀) + (13.294 - x₁))) + cbrt(x₁)))\n",
      "22          1.026e-04  1.013e-01  y = cube((inv(x₀) * (sqrt(sqrt((11.346 - x₁) + sqrt(x₀))) ...\n",
      "                                      + cbrt(x₁))) * cbrt(x₀ * 413.18)) - 0.010199\n",
      "28          9.929e-05  5.492e-03  y = cube(((cbrt(x₁) + sqrt(sqrt(inv(inv(10.403 - x₁)) + sq...\n",
      "                                      rt(x₀ + (x₁ + x₁))))) * inv(x₀)) * cbrt(x₀ * 413.12)) - 0....\n",
      "                                      0082412\n",
      "30          9.914e-05  7.540e-04  y = cube(cbrt(x₀ * 413.12) * ((sqrt(sqrt(sqrt(x₀ + (x₁ + x...\n",
      "                                      ₁)) + inv(inv(10.403 - x₁)))) + cbrt(x₁)) * inv(x₀ - -0.15...\n",
      "                                      707))) - 0.0079756\n",
      "───────────────────────────────────────────────────────────────────────────────────────────────────\n",
      "Current Prediction Average Error (%): 0.833953938340183\n",
      "Best Prediction Average Error (%): 0.48067222392531395\n",
      "Current Model Formula: 3308.8909271616*Abs(sqrt(x1))**(2/3)*sign(sqrt(x1))**2/x0**(7/4)\n"
     ]
    },
    {
     "name": "stderr",
     "output_type": "stream",
     "text": [
      "[ Info: Started!\n",
      "[ Info: Final population:\n",
      "[ Info: Results saved to:\n",
      "/home/ajt6830/miniconda3/envs/pysr_env/lib/python3.11/site-packages/pysr/sr.py:2217: UserWarning: The discovered expressions are being reset. Please set `warm_start=True` if you wish to continue to start a search where you left off.\n",
      "  warnings.warn(\n",
      "/home/ajt6830/miniconda3/envs/pysr_env/lib/python3.11/site-packages/pysr/sr.py:2811: UserWarning: Note: it looks like you are running in Jupyter. The progress bar will be turned off.\n",
      "  warnings.warn(\n"
     ]
    },
    {
     "name": "stdout",
     "output_type": "stream",
     "text": [
      "  - outputs/20250702_122217_UoNogQ/hall_of_fame.csv\n",
      "───────────────────────────────────────────────────────────────────────────────────────────────────\n",
      "Complexity  Loss       Score      Equation\n",
      "1           1.299e-02  0.000e+00  y = 0.174\n",
      "3           5.630e-03  4.181e-01  y = x₁ * 0.034504\n",
      "4           4.103e-03  3.165e-01  y = sqrt(x₁) * 0.096386\n",
      "5           3.732e-03  9.469e-02  y = inv(square(x₀)) * 22636\n",
      "7           9.451e-04  6.867e-01  y = sqrt(x₁) * (inv(x₀) * 32.505)\n",
      "8           1.796e-04  1.660e+00  y = inv(square(x₀)) * (cbrt(x₁) * 13788)\n",
      "9           1.796e-04  2.980e-07  y = square(inv(x₀) * (sqrt(cbrt(x₁)) * 117.42))\n",
      "10          1.442e-04  2.200e-01  y = (cbrt(x₁) * 19662) * inv(square(x₀ + 57.586))\n",
      "11          1.439e-04  1.777e-03  y = cbrt(x₁) * square(inv(x₀) * (100.04 + sqrt(x₀)))\n",
      "12          1.391e-04  3.367e-02  y = (square(inv(-52.602 - x₀)) * 19112) * square(sqrt(cbrt...\n",
      "                                      (x₁)))\n",
      "14          1.124e-04  1.068e-01  y = (square(inv((x₀ * 1.3693) + 152.66) * -236.14) - 0.019...\n",
      "                                      857) * cbrt(x₁)\n",
      "16          1.075e-04  2.200e-02  y = square((sqrt(x₀) + 119.45) * (inv(x₀ + 40.391) * cbrt(...\n",
      "                                      sqrt(x₁)))) + -0.014921\n",
      "17          1.001e-04  7.161e-02  y = (cbrt(x₁) * square(inv((sqrt(sqrt(sqrt(x₀))) * x₀) + 2...\n",
      "                                      35.74) * -341.07)) - 0.012787\n",
      "18          9.971e-05  3.903e-03  y = cbrt(x₁) * (square(inv((x₀ + 193.18) * sqrt(sqrt(sqrt(...\n",
      "                                      sqrt(x₀))))) * -307.85) - 0.035468)\n",
      "19          9.690e-05  2.855e-02  y = (cbrt(x₁) * square(inv(sqrt(sqrt(sqrt(x₁ + x₀))) * (x₀...\n",
      "                                       + 137.24)) * -361.75)) - 0.01542\n",
      "21          9.562e-05  6.665e-03  y = (square(inv((x₀ + 137.15) * sqrt(sqrt(sqrt((x₁ + x₁) +...\n",
      "                                       x₀)))) * -361.84) * cbrt(x₁)) - 0.014518\n",
      "22          9.488e-05  7.759e-03  y = (cbrt(x₁) * square(inv(((sqrt(sqrt(sqrt(sqrt(x₀)))) * ...\n",
      "                                      x₀) + 151.15) + (x₁ - 2.5777)) * -239.34)) - 0.021804\n",
      "23          8.472e-05  1.132e-01  y = (square(inv(((inv(3.0753 - x₁) + x₀) * sqrt(sqrt(sqrt(...\n",
      "                                      sqrt(x₀))))) + 152.67) * -236.12) * cbrt(x₁)) - 0.016814\n",
      "───────────────────────────────────────────────────────────────────────────────────────────────────\n",
      "Current Prediction Average Error (%): 0.5920967247578113\n",
      "Best Prediction Average Error (%): 0.48067222392531395\n",
      "Current Model Formula: -0.016814342 + 55750.5718410481*Abs(x1)**(1/3)*sign(x1)/(x0**(1/16)*(x0 + 1/(3.0753057 - x1)) + 152.67136)**2\n"
     ]
    },
    {
     "name": "stderr",
     "output_type": "stream",
     "text": [
      "[ Info: Started!\n",
      "[ Info: Final population:\n",
      "[ Info: Results saved to:\n",
      "/home/ajt6830/miniconda3/envs/pysr_env/lib/python3.11/site-packages/pysr/sr.py:1270: UserWarning: `extra_sympy_mappings` cannot be pickled and will be removed from the serialized instance. When loading the model, please redefine `extra_sympy_mappings` at runtime.\n",
      "  warnings.warn(warn_msg)\n",
      "/home/ajt6830/miniconda3/envs/pysr_env/lib/python3.11/site-packages/pysr/sr.py:2217: UserWarning: The discovered expressions are being reset. Please set `warm_start=True` if you wish to continue to start a search where you left off.\n",
      "  warnings.warn(\n",
      "/home/ajt6830/miniconda3/envs/pysr_env/lib/python3.11/site-packages/pysr/sr.py:2811: UserWarning: Note: it looks like you are running in Jupyter. The progress bar will be turned off.\n",
      "  warnings.warn(\n"
     ]
    },
    {
     "name": "stdout",
     "output_type": "stream",
     "text": [
      "  - outputs/20250702_122221_Gha0Pv/hall_of_fame.csv\n"
     ]
    },
    {
     "name": "stderr",
     "output_type": "stream",
     "text": [
      "[ Info: Started!\n",
      "[ Info: Final population:\n",
      "[ Info: Results saved to:\n"
     ]
    },
    {
     "name": "stdout",
     "output_type": "stream",
     "text": [
      "───────────────────────────────────────────────────────────────────────────────────────────────────\n",
      "Complexity  Loss       Score      Equation\n",
      "1           1.299e-02  0.000e+00  y = 0.174\n",
      "3           5.630e-03  4.181e-01  y = x₁ * 0.034504\n",
      "4           4.103e-03  3.165e-01  y = sqrt(x₁) * 0.096386\n",
      "5           3.741e-03  9.228e-02  y = square(cbrt(x₁) * 0.26634)\n",
      "6           3.479e-03  7.258e-02  y = (inv(x₀) * 139.03) + -0.20415\n",
      "7           1.107e-03  1.145e+00  y = inv(x₀ * 0.022656) * cbrt(x₁)\n",
      "8           1.098e-03  8.219e-03  y = ((x₁ + 5.705) * inv(x₀)) * 6.2555\n",
      "10          3.935e-04  5.131e-01  y = ((inv(x₀) * (x₁ + 13.372)) + -0.015861) * 5.2267\n",
      "11          3.249e-04  1.914e-01  y = (inv(x₀ * inv(x₁ + 15.794)) - 0.021908) * 5.1505\n",
      "13          2.894e-04  5.790e-02  y = (inv(square(cbrt(x₀ * inv(x₁ + 11.5)))) * 3.2159) - 0....\n",
      "                                      2191\n",
      "14          2.566e-04  1.203e-01  y = (inv(x₀ * inv(x₁ + 19.832)) * 3.9557) - inv(x₁ + 7.793...\n",
      "                                      4)\n",
      "16          2.399e-04  3.377e-02  y = (inv(cube(cbrt(x₀ * inv(x₁ + 22.721)))) * 3.5823) - in...\n",
      "                                      v(x₁ + 7.438)\n",
      "21          1.440e-04  1.021e-01  y = (inv(inv(x₁ + 18.107) * (x₀ - (cbrt(x₁ + -2.6915) * (s...\n",
      "                                      qrt(x₀) - x₁)))) * 4.5681) - 0.11282\n",
      "23          1.422e-04  6.269e-03  y = (4.5174 * inv((x₀ - (cbrt(x₁ + -2.7216) * ((sqrt(x₀) -...\n",
      "                                       x₁) + 1.0437))) * inv(x₁ + 18.106))) - 0.10986\n",
      "25          1.215e-04  7.855e-02  y = (cbrt(inv(cube((x₀ - (cbrt(x₁ + -3.2629) * ((sqrt(x₀) ...\n",
      "                                      - x₁) + 1.8759))) * inv(x₁ + 21.482)))) * 4.1195) - 0.1206...\n",
      "                                      3\n",
      "───────────────────────────────────────────────────────────────────────────────────────────────────\n",
      "Current Prediction Average Error (%): 0.79088943416693\n",
      "Best Prediction Average Error (%): 0.48067222392531395\n",
      "Current Model Formula: -0.11281653 + 4.568121*(x1 + 18.107138)/(x0 - (sqrt(x0) - x1)*Abs(x1 - 2.6914587)**(1/3)*sign(x1 - 2.6914587))\n"
     ]
    },
    {
     "name": "stderr",
     "output_type": "stream",
     "text": [
      "/home/ajt6830/miniconda3/envs/pysr_env/lib/python3.11/site-packages/pysr/sr.py:2217: UserWarning: The discovered expressions are being reset. Please set `warm_start=True` if you wish to continue to start a search where you left off.\n",
      "  warnings.warn(\n",
      "/home/ajt6830/miniconda3/envs/pysr_env/lib/python3.11/site-packages/pysr/sr.py:2811: UserWarning: Note: it looks like you are running in Jupyter. The progress bar will be turned off.\n",
      "  warnings.warn(\n"
     ]
    },
    {
     "name": "stdout",
     "output_type": "stream",
     "text": [
      "  - outputs/20250702_122227_A1hXqV/hall_of_fame.csv\n",
      "───────────────────────────────────────────────────────────────────────────────────────────────────\n",
      "Complexity  Loss       Score      Equation\n",
      "1           1.299e-02  0.000e+00  y = 0.17398\n",
      "3           5.630e-03  4.181e-01  y = x₁ * 0.034504\n",
      "4           4.103e-03  3.165e-01  y = sqrt(x₁) * 0.096387\n",
      "5           3.742e-03  9.192e-02  y = square(cbrt(x₁ * -0.019061))\n",
      "7           9.451e-04  6.881e-01  y = (inv(x₀) * 32.505) * sqrt(x₁)\n",
      "8           9.085e-04  3.940e-02  y = inv(square(x₀ * -0.010097)) * sqrt(x₁)\n",
      "9           4.687e-04  6.618e-01  y = cbrt(inv(square(square(x₀) * 0.00018539)) * x₁)\n",
      "10          2.659e-04  5.669e-01  y = square(inv(x₀ * -0.01239)) * (sqrt(x₁) + 1.3072)\n",
      "14          2.537e-04  1.171e-02  y = (sqrt(x₁ * 1.1548) + 1.3072) * inv(square((x₀ * -0.012...\n",
      "                                      39) + -0.050521))\n",
      "16          2.341e-04  4.032e-02  y = sqrt(x₁) * (square(inv(inv(sqrt(x₁)) + ((x₀ + x₁) * -0...\n",
      "                                      .01239))) + 0.021748)\n",
      "18          1.721e-04  1.537e-01  y = square(inv((x₁ + x₀) * (inv(x₀ * sqrt(x₁)) + -0.01401)...\n",
      "                                      ) + -0.078827) * sqrt(x₁)\n",
      "22          1.687e-04  5.016e-03  y = (square(inv(((x₀ + x₁) * -0.012142) + sqrt(inv(sqrt((s...\n",
      "                                      qrt(x₁) + 1.3492) * x₁))))) + 0.018332) * sqrt(x₁)\n",
      "24          1.678e-04  2.606e-03  y = (square(inv(((x₁ + x₀) * -0.012211) + sqrt(sqrt(inv(sq...\n",
      "                                      rt((x₁ + x₁) + 1.4206) * x₁))))) + 0.018967) * sqrt(x₁)\n",
      "25          1.671e-04  4.035e-03  y = (square(inv(((x₁ + x₀) * -0.012142) + sqrt(sqrt(inv(sq...\n",
      "                                      rt(x₁ + (x₁ + cube(1.5145))) * x₁))))) + 0.018332) * sqrt(...\n",
      "                                      x₁)\n",
      "26          1.665e-04  3.669e-03  y = (inv(square(inv(sqrt(sqrt(x₁ + x₁))) + ((sqrt((x₁ + x₁...\n",
      "                                      ) * (0.061746 + x₁)) + x₀) * -0.01239))) + 0.021748) * sqr...\n",
      "                                      t(x₁)\n",
      "30          1.636e-04  4.436e-03  y = (square(inv(sqrt(sqrt(inv((x₁ * 0.16212) + (x₁ + x₁)))...\n",
      "                                      ) + ((sqrt((x₁ + 0.061746) * (x₁ + x₁)) + x₀) * -0.012436)...\n",
      "                                      )) + 0.021748) * sqrt(x₁)\n",
      "───────────────────────────────────────────────────────────────────────────────────────────────────\n",
      "Current Prediction Average Error (%): 0.9129397048309462\n",
      "Best Prediction Average Error (%): 0.48067222392531395\n",
      "Current Model Formula: sqrt(x1)*(-0.07882704 + 1/((-0.014009608 + 1/(x0*sqrt(x1)))*(x0 + x1)))**2\n"
     ]
    },
    {
     "name": "stderr",
     "output_type": "stream",
     "text": [
      "[ Info: Started!\n",
      "[ Info: Final population:\n",
      "[ Info: Results saved to:\n",
      "/home/ajt6830/miniconda3/envs/pysr_env/lib/python3.11/site-packages/pysr/sr.py:2217: UserWarning: The discovered expressions are being reset. Please set `warm_start=True` if you wish to continue to start a search where you left off.\n",
      "  warnings.warn(\n",
      "/home/ajt6830/miniconda3/envs/pysr_env/lib/python3.11/site-packages/pysr/sr.py:2811: UserWarning: Note: it looks like you are running in Jupyter. The progress bar will be turned off.\n",
      "  warnings.warn(\n"
     ]
    },
    {
     "name": "stdout",
     "output_type": "stream",
     "text": [
      "  - outputs/20250702_122232_vKFciT/hall_of_fame.csv\n",
      "───────────────────────────────────────────────────────────────────────────────────────────────────\n",
      "Complexity  Loss       Score      Equation\n",
      "1           1.299e-02  0.000e+00  y = 0.17398\n",
      "3           5.630e-03  4.181e-01  y = x₁ * 0.034504\n",
      "4           4.103e-03  3.165e-01  y = sqrt(x₁) * 0.096387\n",
      "5           3.741e-03  9.228e-02  y = square(cbrt(x₁) * 0.26634)\n",
      "7           8.150e-04  7.620e-01  y = sqrt(x₁ * inv(x₀ + -207.83))\n",
      "9           5.109e-04  2.335e-01  y = sqrt(inv(x₁ + (x₀ + -219.57)) * x₁)\n",
      "11          4.457e-04  6.832e-02  y = sqrt(inv((-216.08 + x₀) + x₁) * (x₁ + 0.33976))\n",
      "13          3.501e-04  1.206e-01  y = sqrt((x₁ + 1.3365) * inv(x₁ + (x₀ + -214.98))) - 0.024...\n",
      "                                      869\n",
      "14          3.112e-04  1.180e-01  y = sqrt((cbrt(x₁) + x₁) * inv(x₁ + (-212.78 + x₀))) - 0.0...\n",
      "                                      23952\n",
      "16          2.792e-04  5.425e-02  y = sqrt(inv(x₁ + (x₀ + -212.77)) * ((x₁ - -0.67332) + cbr...\n",
      "                                      t(x₁))) - 0.035431\n",
      "18          2.643e-04  2.746e-02  y = sqrt(((x₁ - -1.004) + cbrt(x₁ + -0.48744)) * inv(x₁ + ...\n",
      "                                      (x₀ + -211.73))) - 0.039779\n",
      "22          2.238e-04  4.158e-02  y = square(inv(cbrt(x₀ * inv(cbrt(inv(square(x₀ * inv(((x₁...\n",
      "                                       + 0.78769) * inv(x₀)) * -249.84)))) * 595.84))))\n",
      "23          2.071e-04  7.728e-02  y = inv(square(cbrt(inv(inv(cbrt(square(x₀ * inv((inv(x₀) ...\n",
      "                                      * -113.57) * (sqrt(x₁) + x₁))))) * -889.01) * x₀)))\n",
      "25          1.779e-04  7.609e-02  y = square(inv(cbrt(inv(inv(square(cbrt(inv(((sqrt(x₁) + x...\n",
      "                                      ₁) * inv(x₀)) * -201.21) * x₀))) * -493.6) * (x₀ + -56.25)...\n",
      "                                      )))\n",
      "27          1.774e-04  1.441e-03  y = inv(square(cbrt(inv(square(inv(cbrt(inv((inv(x₀ - 30.6...\n",
      "                                      57) * (sqrt(x₁) + x₁)) * -193.48) * x₀))) * -489.01) * (x₀...\n",
      "                                       + -47.119))))\n",
      "28          1.500e-04  1.674e-01  y = square(sqrt(square(inv(cbrt(x₀ * inv(inv(square(cbrt(x...\n",
      "                                      ₀ * inv((x₁ + 1.5012) * (inv(x₀) * -55.371))))) * 20.687))...\n",
      "                                      )) * 19.276)) - 0.024299\n",
      "───────────────────────────────────────────────────────────────────────────────────────────────────\n"
     ]
    },
    {
     "name": "stderr",
     "output_type": "stream",
     "text": [
      "[ Info: Started!\n",
      "[ Info: Final population:\n",
      "[ Info: Results saved to:\n"
     ]
    },
    {
     "name": "stdout",
     "output_type": "stream",
     "text": [
      "Current Prediction Average Error (%): 0.7656171695691156\n",
      "Best Prediction Average Error (%): 0.48067222392531395\n",
      "Current Model Formula: -0.02429852 + 864.830269831802/(Abs(x0*sign(x0**2/(x1 + 1.5012271))**2)**(2/3)*Abs(x0**2/(x1 + 1.5012271))**(4/9)*sign(x0*Abs(x0**2/(x1 + 1.5012271))**(2/3)*sign(x0**2/(x1 + 1.5012271))**2)**2)\n"
     ]
    },
    {
     "name": "stderr",
     "output_type": "stream",
     "text": [
      "/home/ajt6830/miniconda3/envs/pysr_env/lib/python3.11/site-packages/pysr/sr.py:2217: UserWarning: The discovered expressions are being reset. Please set `warm_start=True` if you wish to continue to start a search where you left off.\n",
      "  warnings.warn(\n",
      "/home/ajt6830/miniconda3/envs/pysr_env/lib/python3.11/site-packages/pysr/sr.py:2811: UserWarning: Note: it looks like you are running in Jupyter. The progress bar will be turned off.\n",
      "  warnings.warn(\n"
     ]
    },
    {
     "name": "stdout",
     "output_type": "stream",
     "text": [
      "  - outputs/20250702_122237_KVPHUA/hall_of_fame.csv\n",
      "───────────────────────────────────────────────────────────────────────────────────────────────────\n",
      "Complexity  Loss       Score      Equation\n",
      "1           1.299e-02  0.000e+00  y = 0.17399\n",
      "3           5.630e-03  4.181e-01  y = x₁ * 0.034506\n",
      "4           4.103e-03  3.165e-01  y = sqrt(x₁) * 0.096389\n",
      "5           3.770e-03  8.459e-02  y = 0.065183 - (x₁ * -0.025812)\n",
      "6           3.479e-03  8.027e-02  y = -0.20415 - (inv(x₀) * -139.03)\n",
      "7           8.150e-04  1.451e+00  y = sqrt(x₁ * inv(-207.83 + x₀))\n",
      "9           2.859e-04  5.238e-01  y = cbrt(x₁) * (inv(x₀ + -156.88) * 21.311)\n",
      "13          2.471e-04  3.648e-02  y = (inv(x₁ + (x₁ + (-154.14 + x₀))) * sqrt(x₁)) * 17.924\n",
      "14          2.027e-04  1.977e-01  y = sqrt(x₁ * 352.29) * inv(x₀ + ((cbrt(x₁) * x₁) + -149.0...\n",
      "                                      7))\n",
      "15          1.808e-04  1.146e-01  y = sqrt(x₁) * ((inv((x₀ + x₁) - (x₁ * -2.823)) + -0.00124...\n",
      "                                      99) * 64.291)\n",
      "16          1.535e-04  1.636e-01  y = ((inv(x₀ + (x₁ - (cbrt(x₁) * -31.022))) + -0.0012616) ...\n",
      "                                      * sqrt(x₁)) * 79.04\n",
      "17          1.483e-04  3.433e-02  y = ((inv(((x₀ - (x₁ * -7.3699)) + x₀) + -133.87) * 86.343...\n",
      "                                      ) + -0.050784) * sqrt(x₁)\n",
      "19          1.006e-04  1.942e-01  y = (((inv(((x₁ * 5.332) + (x₀ + x₀)) + -134.84) + -0.0007...\n",
      "                                      7882) * sqrt(x₁)) * 86.899) + 0.025055\n",
      "22          1.000e-04  1.928e-03  y = (sqrt(x₁) * (86.899 * (inv(((x₁ * 5.3446) + (x₀ + (-13...\n",
      "                                      6.17 + x₀))) + cbrt(x₁)) + -0.00077684))) + 0.025077\n",
      "27          9.970e-05  5.991e-04  y = cbrt(x₁) * (((sqrt(inv(cube(cbrt(((x₀ + -1.2566) * x₀)...\n",
      "                                       * x₀)))) + inv(((x₀ + x₀) + x₀) + -104.72)) * 153) + -0.0...\n",
      "                                      67089)\n",
      "28          9.931e-05  3.921e-03  y = cbrt(x₁) * (((sqrt(inv(cube(cbrt(sqrt(x₀ + 2.3468) * (...\n",
      "                                      x₀ * x₀))))) + inv((x₀ + x₀) + (-59.742 + x₀))) * 113.67) ...\n",
      "                                      + -0.071088)\n",
      "29          9.929e-05  1.668e-04  y = cbrt(x₁) * (((sqrt(inv(cbrt(cube(sqrt(x₀ + inv(x₁)) * ...\n",
      "                                      (x₀ * x₀))))) + inv((x₀ + x₀) + (-59.742 + x₀))) * 113.67)...\n",
      "                                       + -0.071088)\n",
      "───────────────────────────────────────────────────────────────────────────────────────────────────\n",
      "Current Prediction Average Error (%): 0.5453258066954569\n",
      "Best Prediction Average Error (%): 0.48067222392531395\n",
      "Current Model Formula: 86.89908*sqrt(x1)*(-0.0007788154 + 1/(2*x0 + 5.3319974*x1 - 134.8428)) + 0.025055146\n"
     ]
    },
    {
     "name": "stderr",
     "output_type": "stream",
     "text": [
      "[ Info: Started!\n",
      "[ Info: Final population:\n",
      "[ Info: Results saved to:\n",
      "/home/ajt6830/miniconda3/envs/pysr_env/lib/python3.11/site-packages/pysr/sr.py:1270: UserWarning: `extra_sympy_mappings` cannot be pickled and will be removed from the serialized instance. When loading the model, please redefine `extra_sympy_mappings` at runtime.\n",
      "  warnings.warn(warn_msg)\n",
      "/home/ajt6830/miniconda3/envs/pysr_env/lib/python3.11/site-packages/pysr/sr.py:2217: UserWarning: The discovered expressions are being reset. Please set `warm_start=True` if you wish to continue to start a search where you left off.\n",
      "  warnings.warn(\n",
      "/home/ajt6830/miniconda3/envs/pysr_env/lib/python3.11/site-packages/pysr/sr.py:2811: UserWarning: Note: it looks like you are running in Jupyter. The progress bar will be turned off.\n",
      "  warnings.warn(\n"
     ]
    },
    {
     "name": "stdout",
     "output_type": "stream",
     "text": [
      "  - outputs/20250702_122242_lc7A9M/hall_of_fame.csv\n",
      "───────────────────────────────────────────────────────────────────────────────────────────────────\n",
      "Complexity  Loss       Score      Equation\n",
      "1           1.299e-02  0.000e+00  y = 0.17399\n",
      "3           5.630e-03  4.181e-01  y = x₁ * 0.034504\n",
      "4           4.103e-03  3.165e-01  y = sqrt(x₁) * 0.096387\n",
      "5           3.770e-03  8.459e-02  y = (x₁ * 0.025812) - -0.065183\n",
      "6           3.479e-03  8.027e-02  y = (inv(x₀) * 139.03) + -0.20415\n",
      "7           1.126e-03  1.128e+00  y = cbrt(x₁) * (inv(x₀) * 43.207)\n",
      "9           2.310e-04  7.921e-01  y = (inv(x₀ - 135.31) * 24.719) * cbrt(x₁)\n",
      "11          1.399e-04  2.506e-01  y = ((cbrt(x₁) * inv(x₀ - 111.69)) - 0.00088582) * 31.95\n",
      "13          1.364e-04  1.289e-02  y = ((cbrt(x₁) * inv((x₀ - -0.83138) - 111.69)) - 0.000885...\n",
      "                                      82) * 31.95\n",
      "───────────────────────────────────────────────────────────────────────────────────────────────────\n",
      "Current Prediction Average Error (%): 0.7568803337620122\n",
      "Best Prediction Average Error (%): 0.48067222392531395\n",
      "Current Model Formula: -0.0283016095116906 + 31.949642*Abs(x1)**(1/3)*sign(x1)/(x0 - 111.68752)\n"
     ]
    },
    {
     "name": "stderr",
     "output_type": "stream",
     "text": [
      "[ Info: Started!\n",
      "[ Info: Final population:\n",
      "[ Info: Results saved to:\n",
      "/home/ajt6830/miniconda3/envs/pysr_env/lib/python3.11/site-packages/pysr/sr.py:2217: UserWarning: The discovered expressions are being reset. Please set `warm_start=True` if you wish to continue to start a search where you left off.\n",
      "  warnings.warn(\n",
      "/home/ajt6830/miniconda3/envs/pysr_env/lib/python3.11/site-packages/pysr/sr.py:2811: UserWarning: Note: it looks like you are running in Jupyter. The progress bar will be turned off.\n",
      "  warnings.warn(\n"
     ]
    },
    {
     "name": "stdout",
     "output_type": "stream",
     "text": [
      "  - outputs/20250702_122247_ckzERZ/hall_of_fame.csv\n",
      "───────────────────────────────────────────────────────────────────────────────────────────────────\n",
      "Complexity  Loss       Score      Equation\n",
      "1           1.299e-02  0.000e+00  y = 0.17399\n",
      "3           5.630e-03  4.181e-01  y = x₁ * 0.034504\n",
      "4           4.103e-03  3.165e-01  y = sqrt(x₁) * 0.096387\n",
      "5           3.741e-03  9.228e-02  y = cbrt(square(x₁ * -0.018893))\n",
      "7           9.451e-04  6.879e-01  y = (sqrt(x₁) * 32.506) * inv(x₀)\n",
      "8           9.071e-04  4.096e-02  y = (square(inv(x₀)) * 9865.9) * sqrt(x₁)\n",
      "9           6.654e-04  3.099e-01  y = sqrt(x₁ * 445.55) * inv(x₀ + -103.62)\n",
      "10          6.087e-04  8.911e-02  y = inv(square(-110.65 - x₀)) * (sqrt(x₁) * 18688)\n",
      "11          4.231e-04  3.637e-01  y = inv(x₁ + (x₀ - 129.81)) * sqrt(x₁ * 384.2)\n",
      "12          3.269e-04  2.579e-01  y = sqrt((x₁ + 1.4597) * (square(inv(127.38 - x₀)) * 278.0...\n",
      "                                      5))\n",
      "13          1.796e-04  5.989e-01  y = square(inv(cube(sqrt(x₀))) * (sqrt(x₀ * cbrt(x₁)) * 11...\n",
      "                                      7.42))\n",
      "14          1.681e-04  6.601e-02  y = square(sqrt(x₀ * (inv(cube(x₀)) * (cbrt(x₀ * x₁) * 205...\n",
      "                                      3.9))))\n",
      "15          1.681e-04  1.311e-06  y = square((inv(cube(sqrt(x₀))) * sqrt(cbrt(x₁ * x₀) * x₀)...\n",
      "                                      ) * 45.319)\n",
      "16          1.396e-04  1.860e-01  y = square((sqrt(cbrt(x₁ * sqrt(x₀)) * x₀) * 72.991) * inv...\n",
      "                                      (cube(sqrt(x₀))))\n",
      "17          1.096e-04  2.423e-01  y = square((sqrt(x₀ * cbrt(x₀ * x₁)) * inv(cube(sqrt(x₀)))...\n",
      "                                      ) * 46.687) + -0.01484\n",
      "19          1.019e-04  3.647e-02  y = square((sqrt(cbrt((x₀ - x₁) * x₁) * x₀) * inv(cube(sqr...\n",
      "                                      t(x₀)))) * 47.123) - 0.016972\n",
      "21          1.017e-04  6.675e-04  y = square((sqrt(x₀ * cbrt(((x₀ - x₁) - 1.7431) * x₁)) * 4...\n",
      "                                      7.099) * inv(cube(sqrt(x₀)))) - 0.016661\n",
      "22          1.012e-04  5.115e-03  y = square((sqrt(cbrt(((x₀ - sqrt(x₁)) - x₁) * x₁) * x₀) *...\n",
      "                                       47.099) * inv(cube(sqrt(x₀)))) - 0.016661\n",
      "23          9.927e-05  1.928e-02  y = square(cube(inv(sqrt(x₀))) * (47.099 * sqrt(x₀ * cbrt(...\n",
      "                                      x₁ * (((x₀ - x₁) - x₁) - -3.5988))))) - 0.016661\n",
      "25          9.685e-05  1.233e-02  y = square((sqrt(cbrt((((x₀ - x₁) - (x₁ - 0.49367)) + 0.33...\n",
      "                                      952) * x₁) * x₀) * 47.488) * cube(inv(sqrt(x₀)))) - 0.0188...\n",
      "                                      66\n",
      "30          9.459e-05  4.734e-03  y = square(inv(cube(sqrt(x₀))) * (sqrt(cbrt((((x₀ - x₁) - ...\n",
      "                                      x₁) - -0.99752) * (sqrt(inv(x₀ * cube(x₁))) + x₁)) * x₀) *...\n",
      "                                       47.53)) - 0.019845\n",
      "───────────────────────────────────────────────────────────────────────────────────────────────────\n",
      "Current Prediction Average Error (%): 0.6438523601763304\n",
      "Best Prediction Average Error (%): 0.48067222392531395\n"
     ]
    },
    {
     "name": "stderr",
     "output_type": "stream",
     "text": [
      "[ Info: Started!\n",
      "[ Info: Final population:\n",
      "[ Info: Results saved to:\n"
     ]
    },
    {
     "name": "stdout",
     "output_type": "stream",
     "text": [
      "Current Model Formula: -0.014839802 + 2179.6339509025*Abs(x0*x1)**(1/3)*sign(x0*x1)/x0**2\n"
     ]
    },
    {
     "name": "stderr",
     "output_type": "stream",
     "text": [
      "/home/ajt6830/miniconda3/envs/pysr_env/lib/python3.11/site-packages/pysr/sr.py:1270: UserWarning: `extra_sympy_mappings` cannot be pickled and will be removed from the serialized instance. When loading the model, please redefine `extra_sympy_mappings` at runtime.\n",
      "  warnings.warn(warn_msg)\n",
      "/home/ajt6830/miniconda3/envs/pysr_env/lib/python3.11/site-packages/pysr/sr.py:2217: UserWarning: The discovered expressions are being reset. Please set `warm_start=True` if you wish to continue to start a search where you left off.\n",
      "  warnings.warn(\n",
      "/home/ajt6830/miniconda3/envs/pysr_env/lib/python3.11/site-packages/pysr/sr.py:2811: UserWarning: Note: it looks like you are running in Jupyter. The progress bar will be turned off.\n",
      "  warnings.warn(\n"
     ]
    },
    {
     "name": "stdout",
     "output_type": "stream",
     "text": [
      "  - outputs/20250702_122252_U824oi/hall_of_fame.csv\n"
     ]
    },
    {
     "name": "stderr",
     "output_type": "stream",
     "text": [
      "[ Info: Started!\n",
      "[ Info: Final population:\n",
      "[ Info: Results saved to:\n"
     ]
    },
    {
     "name": "stdout",
     "output_type": "stream",
     "text": [
      "───────────────────────────────────────────────────────────────────────────────────────────────────\n",
      "Complexity  Loss       Score      Equation\n",
      "1           1.299e-02  0.000e+00  y = 0.17399\n",
      "3           5.630e-03  4.181e-01  y = x₁ * 0.034503\n",
      "4           4.103e-03  3.165e-01  y = sqrt(x₁) * 0.096386\n",
      "5           3.741e-03  9.228e-02  y = square(cbrt(x₁ * -0.018896))\n",
      "6           3.479e-03  7.258e-02  y = (inv(x₀) * 139.04) - 0.20416\n",
      "7           1.107e-03  1.145e+00  y = cbrt(x₁) * (inv(x₀) * 44.145)\n",
      "8           1.071e-03  3.307e-02  y = ((x₁ + 6.4924) * 5.9308) * inv(x₀)\n",
      "9           1.032e-04  2.340e+00  y = cbrt(x₁) * ((inv(x₀) * 75.139) - 0.095027)\n",
      "───────────────────────────────────────────────────────────────────────────────────────────────────\n",
      "Current Prediction Average Error (%): 0.6162988426611098\n",
      "Best Prediction Average Error (%): 0.48067222392531395\n",
      "Current Model Formula: (-0.09502668 + 75.13871/x0)*Abs(x1)**(1/3)*sign(x1)\n"
     ]
    },
    {
     "name": "stderr",
     "output_type": "stream",
     "text": [
      "/home/ajt6830/miniconda3/envs/pysr_env/lib/python3.11/site-packages/pysr/sr.py:1270: UserWarning: `extra_sympy_mappings` cannot be pickled and will be removed from the serialized instance. When loading the model, please redefine `extra_sympy_mappings` at runtime.\n",
      "  warnings.warn(warn_msg)\n",
      "/home/ajt6830/miniconda3/envs/pysr_env/lib/python3.11/site-packages/pysr/sr.py:2217: UserWarning: The discovered expressions are being reset. Please set `warm_start=True` if you wish to continue to start a search where you left off.\n",
      "  warnings.warn(\n",
      "/home/ajt6830/miniconda3/envs/pysr_env/lib/python3.11/site-packages/pysr/sr.py:2811: UserWarning: Note: it looks like you are running in Jupyter. The progress bar will be turned off.\n",
      "  warnings.warn(\n"
     ]
    },
    {
     "name": "stdout",
     "output_type": "stream",
     "text": [
      "  - outputs/20250702_122257_IwK7Lo/hall_of_fame.csv\n",
      "───────────────────────────────────────────────────────────────────────────────────────────────────\n",
      "Complexity  Loss       Score      Equation\n",
      "1           1.299e-02  0.000e+00  y = 0.17398\n",
      "3           5.630e-03  4.181e-01  y = x₁ * 0.034506\n",
      "4           4.103e-03  3.165e-01  y = sqrt(x₁) * 0.096387\n",
      "5           3.741e-03  9.228e-02  y = cbrt(square(x₁ * -0.018897))\n",
      "6           3.501e-03  6.643e-02  y = square((x₀ * 0.001361) - 0.91583)\n",
      "7           9.835e-04  1.270e+00  y = sqrt(inv(x₀ + -198.01) * x₁)\n",
      "8           9.451e-04  3.983e-02  y = inv(sqrt(inv(x₁)) * (x₀ * 0.030773))\n",
      "9           5.109e-04  6.151e-01  y = sqrt(x₁ * inv(x₀ + (x₁ + -219.56)))\n",
      "11          4.263e-04  9.050e-02  y = cbrt((inv(x₀ + -213.49) * 0.57473) * x₁) - 0.073253\n",
      "13          1.128e-04  6.647e-01  y = cbrt(inv(-197.51 + x₀) * x₁) * (1.1993 - (x₀ * 0.00161...\n",
      "                                      65))\n",
      "17          1.073e-04  1.258e-02  y = ((1.1826 - (x₀ * 0.0014766)) * square(cbrt(sqrt(inv(x₀...\n",
      "                                       + -198.06) * x₁)))) + -0.010311\n",
      "19          1.072e-04  4.287e-04  y = (square(sqrt(square(cbrt(sqrt(inv(x₀ + -197.03) * x₁))...\n",
      "                                      ))) * (1.189 - (x₀ * 0.0014901))) + -0.010229\n",
      "21          1.054e-04  8.294e-03  y = ((1.1886 - (x₀ * 0.0014761)) * cbrt(square(sqrt(inv(x₀...\n",
      "                                       + ((x₁ * 0.11545) + -198.06)) * x₁)))) + -0.011684\n",
      "22          9.786e-05  7.443e-02  y = (1.2586 - (x₀ * 0.0016147)) * (square(cbrt(sqrt(x₁ * i...\n",
      "                                      nv(((square(x₁) * 0.049066) + x₀) + -198.06)))) + -0.02562...\n",
      "                                      1)\n",
      "───────────────────────────────────────────────────────────────────────────────────────────────────\n",
      "Current Prediction Average Error (%): 0.6943136843160828\n",
      "Best Prediction Average Error (%): 0.48067222392531395\n",
      "Current Model Formula: (1.1992884 - 0.001616472*x0)*Abs(x1/(x0 - 197.50984))**(1/3)*sign(x1/(x0 - 197.50984))\n"
     ]
    },
    {
     "name": "stderr",
     "output_type": "stream",
     "text": [
      "[ Info: Started!\n",
      "[ Info: Final population:\n",
      "[ Info: Results saved to:\n",
      "/home/ajt6830/miniconda3/envs/pysr_env/lib/python3.11/site-packages/pysr/sr.py:1270: UserWarning: `extra_sympy_mappings` cannot be pickled and will be removed from the serialized instance. When loading the model, please redefine `extra_sympy_mappings` at runtime.\n",
      "  warnings.warn(warn_msg)\n",
      "/home/ajt6830/miniconda3/envs/pysr_env/lib/python3.11/site-packages/pysr/sr.py:2217: UserWarning: The discovered expressions are being reset. Please set `warm_start=True` if you wish to continue to start a search where you left off.\n",
      "  warnings.warn(\n",
      "/home/ajt6830/miniconda3/envs/pysr_env/lib/python3.11/site-packages/pysr/sr.py:2811: UserWarning: Note: it looks like you are running in Jupyter. The progress bar will be turned off.\n",
      "  warnings.warn(\n"
     ]
    },
    {
     "name": "stdout",
     "output_type": "stream",
     "text": [
      "  - outputs/20250702_122302_1CWn0g/hall_of_fame.csv\n"
     ]
    },
    {
     "name": "stderr",
     "output_type": "stream",
     "text": [
      "[ Info: Started!\n",
      "[ Info: Final population:\n",
      "[ Info: Results saved to:\n",
      "/home/ajt6830/miniconda3/envs/pysr_env/lib/python3.11/site-packages/pysr/sr.py:2217: UserWarning: The discovered expressions are being reset. Please set `warm_start=True` if you wish to continue to start a search where you left off.\n",
      "  warnings.warn(\n",
      "/home/ajt6830/miniconda3/envs/pysr_env/lib/python3.11/site-packages/pysr/sr.py:2811: UserWarning: Note: it looks like you are running in Jupyter. The progress bar will be turned off.\n",
      "  warnings.warn(\n"
     ]
    },
    {
     "name": "stdout",
     "output_type": "stream",
     "text": [
      "───────────────────────────────────────────────────────────────────────────────────────────────────\n",
      "Complexity  Loss       Score      Equation\n",
      "1           1.299e-02  0.000e+00  y = 0.174\n",
      "3           5.630e-03  4.181e-01  y = x₁ * 0.034504\n",
      "4           4.103e-03  3.165e-01  y = sqrt(x₁) * 0.096387\n",
      "5           3.770e-03  8.459e-02  y = (x₁ * 0.025812) + 0.065182\n",
      "6           3.479e-03  8.027e-02  y = -0.20415 - (inv(x₀) * -139.03)\n",
      "7           9.451e-04  1.303e+00  y = sqrt(x₁ * 1056.6) * inv(x₀)\n",
      "9           7.669e-04  1.044e-01  y = sqrt(x₁ * (1421.3 - x₀)) * inv(x₀)\n",
      "10          3.482e-04  7.895e-01  y = (inv(x₀) * ((x₁ * 5.1955) + 75.706)) + -0.10004\n",
      "11          1.527e-04  8.242e-01  y = (inv(x₀) * (sqrt(x₁ * 614.38) + 56.331)) - 0.1129\n",
      "13          1.508e-04  6.368e-03  y = ((sqrt((x₁ + 0.40611) * 676.2) + 52.143) * inv(x₀)) - ...\n",
      "                                      0.11638\n",
      "15          1.484e-04  8.031e-03  y = (inv(x₀) * (inv(cube(x₁)) + (sqrt(x₁ * 630.4) + 55.09)...\n",
      "                                      )) + -0.11199\n",
      "16          1.430e-04  3.697e-02  y = (((inv(x₁ + -0.73542) + 52.149) + sqrt(x₁ * 676.2)) * ...\n",
      "                                      inv(x₀)) - 0.11138\n",
      "17          1.411e-04  1.342e-02  y = (inv(x₀) * (inv(cube(-0.4037 + x₁)) + (sqrt(x₁ * 676.2...\n",
      "                                      ) + 52.15))) - 0.11118\n",
      "19          1.406e-04  1.896e-03  y = (inv(x₀) * ((square(inv((x₁ * x₁) + -0.53001)) + sqrt(...\n",
      "                                      x₁ * 676.2)) + 52.289)) - 0.1114\n",
      "20          1.404e-04  1.510e-03  y = (inv(x₀) * (sqrt(630.4 * x₁) + 55.094)) + (cube(square...\n",
      "                                      (inv(square(x₁ - inv(-1.9998))))) + -0.11186)\n",
      "21          1.325e-04  5.726e-02  y = (((sqrt(676.2 * x₁) + 52.149) + (inv(52.146 - square(-...\n",
      "                                      0.58368 + x₁)) * x₁)) * inv(x₀)) - 0.10929\n",
      "25          1.297e-04  5.428e-03  y = ((inv(square(x₁)) + ((x₁ * inv(52.149 - square(x₁ + -0...\n",
      "                                      .58228))) + (sqrt(x₁ * 676.2) + 52.149))) * inv(x₀)) - 0.1...\n",
      "                                      1179\n",
      "26          1.230e-04  5.332e-02  y = ((((sqrt(x₁ * 676.2) + 52.149) + inv(x₁ + -0.62555)) +...\n",
      "                                       (x₁ * inv(52.149 - square(x₁ + -0.62555)))) * inv(x₀)) - ...\n",
      "                                      0.11138\n",
      "28          1.192e-04  1.549e-02  y = (((inv(x₁ - (-0.62501 - -1.1578)) + (x₁ * inv(52.149 -...\n",
      "                                       square(x₁ + -0.58228)))) + (sqrt(x₁ * 676.2) + 52.149)) *...\n",
      "                                       inv(x₀)) - 0.11179\n",
      "29          1.088e-04  9.106e-02  y = ((square(inv(x₁ - (-0.62501 - -1.1578))) + ((x₁ * inv(...\n",
      "                                      52.149 - square(x₁ + -0.58228))) + (sqrt(x₁ * 676.2) + 52....\n",
      "                                      149))) * inv(x₀)) - 0.11179\n",
      "───────────────────────────────────────────────────────────────────────────────────────────────────\n",
      "Current Prediction Average Error (%): 0.8928943858675765\n",
      "Best Prediction Average Error (%): 0.48067222392531395\n",
      "Current Model Formula: -0.112895295 + (24.7866819078311*sqrt(x1) + 56.331066)/x0\n",
      "  - outputs/20250702_122307_pIhyTc/hall_of_fame.csv\n",
      "───────────────────────────────────────────────────────────────────────────────────────────────────\n",
      "Complexity  Loss       Score      Equation\n",
      "1           1.299e-02  0.000e+00  y = 0.17399\n",
      "3           5.630e-03  4.181e-01  y = x₁ * 0.034504\n",
      "4           4.103e-03  3.165e-01  y = sqrt(x₁) * 0.096387\n",
      "5           3.741e-03  9.228e-02  y = square(cbrt(x₁) * 0.26634)\n",
      "7           3.029e-03  1.055e-01  y = cbrt((x₁ - 0.7945) * inv(x₀))\n",
      "8           1.741e-03  5.540e-01  y = (x₁ + 4.7638) * inv(cbrt(square(x₀)))\n",
      "9           1.380e-03  2.319e-01  y = sqrt(square(sqrt(inv(x₀ - 187.81) * x₁)))\n",
      "10          3.787e-04  1.293e+00  y = cbrt(x₁ * square(inv((x₀ - 187.81) * -0.15817)))\n",
      "11          3.787e-04  3.004e-05  y = cbrt(x₁) * square(cbrt(inv((x₀ - 187.81) * -0.15832)))\n",
      "12          3.209e-04  1.655e-01  y = cbrt((x₁ - 0.35439) * inv(square((x₀ - 187.81) * -0.15...\n",
      "                                      124)))\n",
      "13          1.790e-04  5.836e-01  y = square(cbrt(-0.010423 - (sqrt(x₁) * inv((x₀ - 183.6) *...\n",
      "                                       -0.13826))))\n",
      "15          1.783e-04  2.058e-03  y = square(cbrt(-0.010423 - (inv(((0.27408 + x₀) - 183.6) ...\n",
      "                                      * -0.13826) * sqrt(x₁))))\n",
      "17          1.781e-04  6.792e-04  y = square(cbrt(-0.010423 - (inv((((0.27408 - -0.13826) + ...\n",
      "                                      x₀) - 183.6) * -0.13826) * sqrt(x₁))))\n",
      "19          1.584e-04  5.836e-02  y = cbrt(square(-0.01421 - (sqrt(x₁) * inv(((x₀ + inv(cube...\n",
      "                                      (0.1304 - x₁))) - 165.5) * -0.11523))))\n",
      "───────────────────────────────────────────────────────────────────────────────────────────────────\n"
     ]
    },
    {
     "name": "stderr",
     "output_type": "stream",
     "text": [
      "[ Info: Started!\n",
      "[ Info: Final population:\n",
      "[ Info: Results saved to:\n"
     ]
    },
    {
     "name": "stdout",
     "output_type": "stream",
     "text": [
      "Current Prediction Average Error (%): 0.9581595656819006\n",
      "Best Prediction Average Error (%): 0.48067222392531395\n",
      "Current Model Formula: Abs(-sqrt(x1)/(25.38472581892 - 0.13826254*x0) - 0.010423061)**(2/3)*sign(-sqrt(x1)/(25.38472581892 - 0.13826254*x0) - 0.010423061)**2\n"
     ]
    },
    {
     "name": "stderr",
     "output_type": "stream",
     "text": [
      "/home/ajt6830/miniconda3/envs/pysr_env/lib/python3.11/site-packages/pysr/sr.py:2217: UserWarning: The discovered expressions are being reset. Please set `warm_start=True` if you wish to continue to start a search where you left off.\n",
      "  warnings.warn(\n",
      "/home/ajt6830/miniconda3/envs/pysr_env/lib/python3.11/site-packages/pysr/sr.py:2811: UserWarning: Note: it looks like you are running in Jupyter. The progress bar will be turned off.\n",
      "  warnings.warn(\n"
     ]
    },
    {
     "name": "stdout",
     "output_type": "stream",
     "text": [
      "  - outputs/20250702_122312_58W1LE/hall_of_fame.csv\n"
     ]
    },
    {
     "name": "stderr",
     "output_type": "stream",
     "text": [
      "[ Info: Started!\n",
      "[ Info: Final population:\n",
      "[ Info: Results saved to:\n"
     ]
    },
    {
     "name": "stdout",
     "output_type": "stream",
     "text": [
      "Current Prediction Average Error (%): 0.7820520582352806\n",
      "Best Prediction Average Error (%): 0.48067222392531395\n",
      "Current Model Formula: (-0.16832927 + 12.2784878881036/((sign(x0/(Abs(sqrt(x1))**(1/3)*sign(sqrt(x1))))/Abs(sqrt(x1))**(1/9))**(3/2)*sqrt(Abs(x0/sign(sqrt(x1))))))**3\n"
     ]
    },
    {
     "name": "stderr",
     "output_type": "stream",
     "text": [
      "/home/ajt6830/miniconda3/envs/pysr_env/lib/python3.11/site-packages/pysr/sr.py:2217: UserWarning: The discovered expressions are being reset. Please set `warm_start=True` if you wish to continue to start a search where you left off.\n",
      "  warnings.warn(\n",
      "/home/ajt6830/miniconda3/envs/pysr_env/lib/python3.11/site-packages/pysr/sr.py:2811: UserWarning: Note: it looks like you are running in Jupyter. The progress bar will be turned off.\n",
      "  warnings.warn(\n",
      "[ Info: Started!\n",
      "[ Info: Final population:\n",
      "[ Info: Results saved to:\n"
     ]
    },
    {
     "name": "stdout",
     "output_type": "stream",
     "text": [
      "Current Prediction Average Error (%): 0.922393507330069\n",
      "Best Prediction Average Error (%): 0.48067222392531395\n",
      "Current Model Formula: Abs((x1 + 818.46313/x0)**2*(x1**2 - 1479.9769)**2/x0**4)**(1/3)*sign((1479.9769 - x1**2)**2*(x1 + 818.46313/x0)**2/x0**4)\n"
     ]
    },
    {
     "name": "stderr",
     "output_type": "stream",
     "text": [
      "/home/ajt6830/miniconda3/envs/pysr_env/lib/python3.11/site-packages/pysr/sr.py:2217: UserWarning: The discovered expressions are being reset. Please set `warm_start=True` if you wish to continue to start a search where you left off.\n",
      "  warnings.warn(\n",
      "/home/ajt6830/miniconda3/envs/pysr_env/lib/python3.11/site-packages/pysr/sr.py:2811: UserWarning: Note: it looks like you are running in Jupyter. The progress bar will be turned off.\n",
      "  warnings.warn(\n",
      "[ Info: Started!\n",
      "[ Info: Final population:\n",
      "[ Info: Results saved to:\n"
     ]
    },
    {
     "name": "stdout",
     "output_type": "stream",
     "text": [
      "Current Prediction Average Error (%): 0.634689499298056\n",
      "Best Prediction Average Error (%): 0.48067222392531395\n",
      "Current Model Formula: 350.54383690671*Abs(sqrt(x1 + 0.6327044)/x0**2)**(2/3)*sign(sqrt(x1 + 0.6327044)/x0**2)**2 - 0.049024392\n"
     ]
    },
    {
     "name": "stderr",
     "output_type": "stream",
     "text": [
      "/home/ajt6830/miniconda3/envs/pysr_env/lib/python3.11/site-packages/pysr/sr.py:1270: UserWarning: `extra_sympy_mappings` cannot be pickled and will be removed from the serialized instance. When loading the model, please redefine `extra_sympy_mappings` at runtime.\n",
      "  warnings.warn(warn_msg)\n",
      "/home/ajt6830/miniconda3/envs/pysr_env/lib/python3.11/site-packages/pysr/sr.py:2217: UserWarning: The discovered expressions are being reset. Please set `warm_start=True` if you wish to continue to start a search where you left off.\n",
      "  warnings.warn(\n",
      "/home/ajt6830/miniconda3/envs/pysr_env/lib/python3.11/site-packages/pysr/sr.py:2811: UserWarning: Note: it looks like you are running in Jupyter. The progress bar will be turned off.\n",
      "  warnings.warn(\n",
      "[ Info: Started!\n",
      "[ Info: Final population:\n",
      "[ Info: Results saved to:\n"
     ]
    },
    {
     "name": "stdout",
     "output_type": "stream",
     "text": [
      "Current Prediction Average Error (%): 0.5749625333764632\n",
      "Best Prediction Average Error (%): 0.48067222392531395\n",
      "Current Model Formula: 2.58268999126079*(sqrt((sqrt(x0) - 8.052428)**(-2)) - 0.048031617)*Abs(x1)**(1/3)*sign(x1)\n"
     ]
    },
    {
     "name": "stderr",
     "output_type": "stream",
     "text": [
      "/home/ajt6830/miniconda3/envs/pysr_env/lib/python3.11/site-packages/pysr/sr.py:1270: UserWarning: `extra_sympy_mappings` cannot be pickled and will be removed from the serialized instance. When loading the model, please redefine `extra_sympy_mappings` at runtime.\n",
      "  warnings.warn(warn_msg)\n",
      "/home/ajt6830/miniconda3/envs/pysr_env/lib/python3.11/site-packages/pysr/sr.py:2217: UserWarning: The discovered expressions are being reset. Please set `warm_start=True` if you wish to continue to start a search where you left off.\n",
      "  warnings.warn(\n",
      "/home/ajt6830/miniconda3/envs/pysr_env/lib/python3.11/site-packages/pysr/sr.py:2811: UserWarning: Note: it looks like you are running in Jupyter. The progress bar will be turned off.\n",
      "  warnings.warn(\n",
      "[ Info: Started!\n",
      "[ Info: Final population:\n",
      "[ Info: Results saved to:\n"
     ]
    },
    {
     "name": "stdout",
     "output_type": "stream",
     "text": [
      "Current Prediction Average Error (%): 0.5895118919755913\n",
      "Best Prediction Average Error (%): 0.48067222392531395\n",
      "Current Model Formula: (4.41861347030944*sqrt(1/(x0 - 112.1593)) - 0.1678825)*Abs(x1)**(1/3)*sign(x1)\n"
     ]
    },
    {
     "name": "stderr",
     "output_type": "stream",
     "text": [
      "/home/ajt6830/miniconda3/envs/pysr_env/lib/python3.11/site-packages/pysr/sr.py:1270: UserWarning: `extra_sympy_mappings` cannot be pickled and will be removed from the serialized instance. When loading the model, please redefine `extra_sympy_mappings` at runtime.\n",
      "  warnings.warn(warn_msg)\n",
      "/home/ajt6830/miniconda3/envs/pysr_env/lib/python3.11/site-packages/pysr/sr.py:2217: UserWarning: The discovered expressions are being reset. Please set `warm_start=True` if you wish to continue to start a search where you left off.\n",
      "  warnings.warn(\n",
      "/home/ajt6830/miniconda3/envs/pysr_env/lib/python3.11/site-packages/pysr/sr.py:2811: UserWarning: Note: it looks like you are running in Jupyter. The progress bar will be turned off.\n",
      "  warnings.warn(\n",
      "[ Info: Started!\n",
      "[ Info: Final population:\n",
      "[ Info: Results saved to:\n"
     ]
    },
    {
     "name": "stdout",
     "output_type": "stream",
     "text": [
      "Current Prediction Average Error (%): 1.0331583587596795\n",
      "Best Prediction Average Error (%): 0.48067222392531395\n",
      "Current Model Formula: sqrt((-0.0016840843 + 1/(x0 + x1 - 208.02126))*(sqrt(x1) + x1))\n"
     ]
    },
    {
     "name": "stderr",
     "output_type": "stream",
     "text": [
      "/home/ajt6830/miniconda3/envs/pysr_env/lib/python3.11/site-packages/pysr/sr.py:2217: UserWarning: The discovered expressions are being reset. Please set `warm_start=True` if you wish to continue to start a search where you left off.\n",
      "  warnings.warn(\n",
      "/home/ajt6830/miniconda3/envs/pysr_env/lib/python3.11/site-packages/pysr/sr.py:2811: UserWarning: Note: it looks like you are running in Jupyter. The progress bar will be turned off.\n",
      "  warnings.warn(\n",
      "[ Info: Started!\n",
      "[ Info: Final population:\n",
      "[ Info: Results saved to:\n"
     ]
    },
    {
     "name": "stdout",
     "output_type": "stream",
     "text": [
      "Current Prediction Average Error (%): 0.6927535019376677\n",
      "Best Prediction Average Error (%): 0.48067222392531395\n",
      "Current Model Formula: -0.025859624 + 876.6003*Abs(x1)**(1/3)*sign(x1)/x0**(3/2)\n"
     ]
    },
    {
     "name": "stderr",
     "output_type": "stream",
     "text": [
      "/home/ajt6830/miniconda3/envs/pysr_env/lib/python3.11/site-packages/pysr/sr.py:1270: UserWarning: `extra_sympy_mappings` cannot be pickled and will be removed from the serialized instance. When loading the model, please redefine `extra_sympy_mappings` at runtime.\n",
      "  warnings.warn(warn_msg)\n",
      "/home/ajt6830/miniconda3/envs/pysr_env/lib/python3.11/site-packages/pysr/sr.py:2217: UserWarning: The discovered expressions are being reset. Please set `warm_start=True` if you wish to continue to start a search where you left off.\n",
      "  warnings.warn(\n",
      "/home/ajt6830/miniconda3/envs/pysr_env/lib/python3.11/site-packages/pysr/sr.py:2811: UserWarning: Note: it looks like you are running in Jupyter. The progress bar will be turned off.\n",
      "  warnings.warn(\n",
      "[ Info: Started!\n",
      "[ Info: Final population:\n",
      "[ Info: Results saved to:\n"
     ]
    },
    {
     "name": "stdout",
     "output_type": "stream",
     "text": [
      "Current Prediction Average Error (%): 0.6349518954230298\n",
      "Best Prediction Average Error (%): 0.48067222392531395\n",
      "Current Model Formula: -0.05169431 + 354.931899246464/(sqrt(sign(x0**2)**3*sign(x0**2/(x1 + 0.5523099)**2))*sqrt(Abs(x0**2))*Abs(x0**2/(x1 + 0.5523099)**2)**(1/6))\n"
     ]
    },
    {
     "name": "stderr",
     "output_type": "stream",
     "text": [
      "/home/ajt6830/miniconda3/envs/pysr_env/lib/python3.11/site-packages/pysr/sr.py:1270: UserWarning: `extra_sympy_mappings` cannot be pickled and will be removed from the serialized instance. When loading the model, please redefine `extra_sympy_mappings` at runtime.\n",
      "  warnings.warn(warn_msg)\n",
      "/home/ajt6830/miniconda3/envs/pysr_env/lib/python3.11/site-packages/pysr/sr.py:2217: UserWarning: The discovered expressions are being reset. Please set `warm_start=True` if you wish to continue to start a search where you left off.\n",
      "  warnings.warn(\n",
      "/home/ajt6830/miniconda3/envs/pysr_env/lib/python3.11/site-packages/pysr/sr.py:2811: UserWarning: Note: it looks like you are running in Jupyter. The progress bar will be turned off.\n",
      "  warnings.warn(\n",
      "[ Info: Started!\n",
      "[ Info: Final population:\n",
      "[ Info: Results saved to:\n"
     ]
    },
    {
     "name": "stdout",
     "output_type": "stream",
     "text": [
      "Current Prediction Average Error (%): 0.6162826055969555\n",
      "Best Prediction Average Error (%): 0.48067222392531395\n",
      "Current Model Formula: (-0.095019389401632 + 75.136665/x0)*Abs(x1)**(1/3)*sign(x1)\n"
     ]
    },
    {
     "name": "stderr",
     "output_type": "stream",
     "text": [
      "/home/ajt6830/miniconda3/envs/pysr_env/lib/python3.11/site-packages/pysr/sr.py:1270: UserWarning: `extra_sympy_mappings` cannot be pickled and will be removed from the serialized instance. When loading the model, please redefine `extra_sympy_mappings` at runtime.\n",
      "  warnings.warn(warn_msg)\n",
      "/home/ajt6830/miniconda3/envs/pysr_env/lib/python3.11/site-packages/pysr/sr.py:2217: UserWarning: The discovered expressions are being reset. Please set `warm_start=True` if you wish to continue to start a search where you left off.\n",
      "  warnings.warn(\n",
      "/home/ajt6830/miniconda3/envs/pysr_env/lib/python3.11/site-packages/pysr/sr.py:2811: UserWarning: Note: it looks like you are running in Jupyter. The progress bar will be turned off.\n",
      "  warnings.warn(\n",
      "[ Info: Started!\n",
      "[ Info: Final population:\n",
      "[ Info: Results saved to:\n"
     ]
    },
    {
     "name": "stdout",
     "output_type": "stream",
     "text": [
      "Current Prediction Average Error (%): 0.8555923329005306\n",
      "Best Prediction Average Error (%): 0.48067222392531395\n",
      "Current Model Formula: (x1*sign(1/(x0*x1**2))/Abs(x0*x1**2)**(1/3) + 1/(Abs(x0 + 0.0949793625713284*x1**2)**(1/3)*sign(x0 + 0.0949793625713284*x1**2) - 4.0737724))**3\n",
      "Error in callback _flush_stdio (for post_execute), with arguments args (),kwargs {}:\n"
     ]
    },
    {
     "ename": "UnicodeDecodeError",
     "evalue": "'utf-8' codec can't decode byte 0xe2 in position 4095: unexpected end of data",
     "output_type": "error",
     "traceback": [
      "\u001b[31m---------------------------------------------------------------------------\u001b[39m",
      "\u001b[31mUnicodeDecodeError\u001b[39m                        Traceback (most recent call last)",
      "\u001b[36mFile \u001b[39m\u001b[32m~/.julia/packages/PythonCall/L4cjh/src/JlWrap/any.jl:262\u001b[39m, in \u001b[36m__call__\u001b[39m\u001b[34m(self, *args, **kwargs)\u001b[39m\n\u001b[32m    260\u001b[39m     return ValueBase.__dir__(self) + self._jl_callmethod($(pyjl_methodnum(pyjlany_dir)))\n\u001b[32m    261\u001b[39m def __call__(self, *args, **kwargs):\n\u001b[32m--> \u001b[39m\u001b[32m262\u001b[39m     return self._jl_callmethod($(pyjl_methodnum(pyjlany_call)), args, kwargs)\n\u001b[32m    263\u001b[39m def __bool__(self):\n\u001b[32m    264\u001b[39m     return True\n",
      "\u001b[31mUnicodeDecodeError\u001b[39m: 'utf-8' codec can't decode byte 0xe2 in position 4095: unexpected end of data"
     ]
    }
   ],
   "source": [
    "num = 100\n",
    "\n",
    "for i in range(num):\n",
    "    model.fit(init_param, Newt_Per_Residual)\n",
    "    CHT_pred = model.predict(init_param)\n",
    "    current_avg_error = (abs(CHT_pred - Newt_Per_Residual)*100).mean() #How much percent error is not removed, so this should be equivalent to MSE for total\n",
    "    #corrected model\n",
    "    \n",
    "    print(\"Current Prediction Average Error (%):\", current_avg_error)\n",
    "    print(\"Best Prediction Average Error (%):\", best_avg_error)\n",
    "    print(\"Current Model Formula:\", model.sympy())\n",
    "    plt.scatter(df_3[\"reference_mass_ratio\"], (Newt_Per_Residual - CHT_pred)*100, marker = \".\", label = \"PySR\")\n",
    "    plt.xlabel(\"Mass ratio\")\n",
    "    plt.ylabel(\"Error in CHT (%)\")\n",
    "    plt.title(\"Percent Residuals\")\n",
    "    \n",
    "    if current_avg_error < best_avg_error:\n",
    "        best_avg_error = current_avg_error\n",
    "        best_model = model.equations_\n",
    "        plt.savefig(f\"best_model_{round(best_avg_error, 3)}.png\")\n",
    "        with open(f'best_model_{round(best_avg_error, 3)}.pk', 'wb') as best_model_file: #We create a pickle file called 'best_model.pk' that we want to write into and call it best_model_file\n",
    "            pickle.dump(model, best_model_file) #We write the current state of the model to the pickle file created above\n",
    "    elif current_avg_error < 1.5*best_avg_error:\n",
    "        plt.savefig(f\"good_model_{round(current_avg_error, 3)}.png\")\n",
    "        with open(f'good_model_{round(current_avg_error, 3)}.pk', 'wb') as good_model_file:\n",
    "            pickle.dump(model, good_model_file)\n",
    "\n",
    "    plt.close()"
   ]
  },
  {
   "cell_type": "code",
   "execution_count": 20,
   "id": "953a067d-22de-49b4-8cfa-dd441b8b1db4",
   "metadata": {},
   "outputs": [],
   "source": [
    "with open(\"best_model_0.481.pk\", 'rb') as file: #Open the saved model file and store that data under the name 'file'\n",
    "    loaded_model = pickle.load(file) #Use Pickle module to load data into usable format and put that into loaded_model variable"
   ]
  },
  {
   "cell_type": "code",
   "execution_count": 26,
   "id": "272f43e8-4e8c-48fb-aac3-28e0c0c5583a",
   "metadata": {},
   "outputs": [
    {
     "data": {
      "text/latex": [
       "$\\displaystyle \\frac{11166.248 \\sqrt{x_{1} + 0.5721734 - \\frac{1}{x_{0} - 10.0774020700577 x_{1}^{3}}}}{\\left(x_{0} + 2.7750654 x_{1}\\right)^{2}}$"
      ],
      "text/plain": [
       "11166.248*sqrt(x1 + 0.5721734 - 1/(x0 - 10.0774020700577*x1**3))/(x0 + 2.7750654*x1)**2"
      ]
     },
     "execution_count": 26,
     "metadata": {},
     "output_type": "execute_result"
    },
    {
     "name": "stdout",
     "output_type": "stream",
     "text": [
      "Error in callback _flush_stdio (for post_execute), with arguments args (),kwargs {}:\n"
     ]
    },
    {
     "ename": "UnicodeDecodeError",
     "evalue": "'utf-8' codec can't decode byte 0xe2 in position 4095: unexpected end of data",
     "output_type": "error",
     "traceback": [
      "\u001b[31m---------------------------------------------------------------------------\u001b[39m",
      "\u001b[31mUnicodeDecodeError\u001b[39m                        Traceback (most recent call last)",
      "\u001b[36mFile \u001b[39m\u001b[32m~/.julia/packages/PythonCall/L4cjh/src/JlWrap/any.jl:262\u001b[39m, in \u001b[36m__call__\u001b[39m\u001b[34m(self, *args, **kwargs)\u001b[39m\n\u001b[32m    260\u001b[39m     return ValueBase.__dir__(self) + self._jl_callmethod($(pyjl_methodnum(pyjlany_dir)))\n\u001b[32m    261\u001b[39m def __call__(self, *args, **kwargs):\n\u001b[32m--> \u001b[39m\u001b[32m262\u001b[39m     return self._jl_callmethod($(pyjl_methodnum(pyjlany_call)), args, kwargs)\n\u001b[32m    263\u001b[39m def __bool__(self):\n\u001b[32m    264\u001b[39m     return True\n",
      "\u001b[31mUnicodeDecodeError\u001b[39m: 'utf-8' codec can't decode byte 0xe2 in position 4095: unexpected end of data"
     ]
    }
   ],
   "source": [
    "loaded_model.sympy()"
   ]
  },
  {
   "cell_type": "code",
   "execution_count": 21,
   "id": "03c5eff3-4743-43d6-863f-e9ac822b3ca8",
   "metadata": {},
   "outputs": [
    {
     "data": {
      "image/png": "[encoded data removed]",
      "text/plain": [
       "<Figure size 640x480 with 1 Axes>"
      ]
     },
     "metadata": {},
     "output_type": "display_data"
    }
   ],
   "source": [
    "corrections = loaded_model.predict(init_param)\n",
    "\n",
    "#plt.scatter(df_3[\"reference_mass_ratio\"], (Newtonian_CHT([ref_orb_period, df_3[\"reference_mass_ratio\"]]) - CHT*(1 + corrections))/CHT)\n",
    "#While the line of code above has a more intuitive interpretation based on how I actually defined the corrections, the code below ends up plotting that\n",
    "#always has a smaller error because it always overestimates CHT at high mass ratios but is pretty accurate at low mass ratios (never negative)\n",
    "plt.scatter(df_3[\"reference_mass_ratio\"], 100*(Newtonian_CHT([ref_orb_period, df_3[\"reference_mass_ratio\"]])/(1 + corrections) - CHT)/CHT)\n",
    "plt.axhline(0, linestyle = '--')\n",
    "plt.xlabel(\"Mass Ratio\")\n",
    "plt.ylabel(\"Residual (%)\")\n",
    "plt.title(\"Newtonian Percent Residuals w/Corrections\")\n",
    "plt.savefig(r\"Newtonian_Percent_Residuals_with_Corrections.png\")"
   ]
  },
  {
   "cell_type": "code",
   "execution_count": 43,
   "id": "c90c82d9-4d6e-47ff-b75d-5664eae9010e",
   "metadata": {},
   "outputs": [
    {
     "name": "stdout",
     "output_type": "stream",
     "text": [
      "Error in callback _flush_stdio (for post_execute), with arguments args (),kwargs {}:\n"
     ]
    },
    {
     "ename": "UnicodeDecodeError",
     "evalue": "'utf-8' codec can't decode byte 0xe2 in position 4095: unexpected end of data",
     "output_type": "error",
     "traceback": [
      "\u001b[31m---------------------------------------------------------------------------\u001b[39m",
      "\u001b[31mUnicodeDecodeError\u001b[39m                        Traceback (most recent call last)",
      "\u001b[36mFile \u001b[39m\u001b[32m~/.julia/packages/PythonCall/L4cjh/src/JlWrap/any.jl:262\u001b[39m, in \u001b[36m__call__\u001b[39m\u001b[34m(self, *args, **kwargs)\u001b[39m\n\u001b[32m    260\u001b[39m     return ValueBase.__dir__(self) + self._jl_callmethod($(pyjl_methodnum(pyjlany_dir)))\n\u001b[32m    261\u001b[39m def __call__(self, *args, **kwargs):\n\u001b[32m--> \u001b[39m\u001b[32m262\u001b[39m     return self._jl_callmethod($(pyjl_methodnum(pyjlany_call)), args, kwargs)\n\u001b[32m    263\u001b[39m def __bool__(self):\n\u001b[32m    264\u001b[39m     return True\n",
      "\u001b[31mUnicodeDecodeError\u001b[39m: 'utf-8' codec can't decode byte 0xe2 in position 4095: unexpected end of data"
     ]
    },
    {
     "data": {
      "image/png": "[encoded data removed]",
      "text/plain": [
       "<Figure size 640x480 with 1 Axes>"
      ]
     },
     "metadata": {},
     "output_type": "display_data"
    }
   ],
   "source": [
    "plt.scatter(CHT, 100*(Newtonian_CHT([ref_orb_period, df_3[\"reference_mass_ratio\"]])/(1 + corrections) - CHT)/CHT)\n",
    "plt.xlabel(\"Common Horizon Time\")\n",
    "plt.ylabel(\"Residual (%)\")\n",
    "plt.title(\"Newtonian Percent Residuals w/Corrections\")\n",
    "plt.savefig(r\"Newt_Per_Resid_Corrected_CHT_Distribution.png\")"
   ]
  },
  {
   "cell_type": "code",
   "execution_count": 46,
   "id": "8b3590aa-afa8-419a-813f-5c16ce36fd52",
   "metadata": {},
   "outputs": [
    {
     "name": "stdout",
     "output_type": "stream",
     "text": [
      "Error in callback _flush_stdio (for post_execute), with arguments args (),kwargs {}:\n"
     ]
    },
    {
     "ename": "UnicodeDecodeError",
     "evalue": "'utf-8' codec can't decode byte 0xe2 in position 4095: unexpected end of data",
     "output_type": "error",
     "traceback": [
      "\u001b[31m---------------------------------------------------------------------------\u001b[39m",
      "\u001b[31mUnicodeDecodeError\u001b[39m                        Traceback (most recent call last)",
      "\u001b[36mFile \u001b[39m\u001b[32m~/.julia/packages/PythonCall/L4cjh/src/JlWrap/any.jl:262\u001b[39m, in \u001b[36m__call__\u001b[39m\u001b[34m(self, *args, **kwargs)\u001b[39m\n\u001b[32m    260\u001b[39m     return ValueBase.__dir__(self) + self._jl_callmethod($(pyjl_methodnum(pyjlany_dir)))\n\u001b[32m    261\u001b[39m def __call__(self, *args, **kwargs):\n\u001b[32m--> \u001b[39m\u001b[32m262\u001b[39m     return self._jl_callmethod($(pyjl_methodnum(pyjlany_call)), args, kwargs)\n\u001b[32m    263\u001b[39m def __bool__(self):\n\u001b[32m    264\u001b[39m     return True\n",
      "\u001b[31mUnicodeDecodeError\u001b[39m: 'utf-8' codec can't decode byte 0xe2 in position 4095: unexpected end of data"
     ]
    },
    {
     "data": {
      "image/png": "[encoded data removed]",
      "text/plain": [
       "<Figure size 640x480 with 1 Axes>"
      ]
     },
     "metadata": {},
     "output_type": "display_data"
    }
   ],
   "source": [
    "plt.scatter(df_3[\"reference_mass_ratio\"], 100*Newt_Per_Residual)\n",
    "plt.xlabel(\"Mass Ratio\")\n",
    "plt.ylabel(\"Residual (%)\")\n",
    "plt.title(\"Newtonian Percent Residuals\")\n",
    "plt.savefig(r\"Newtonian_Percent_Residuals.png\")"
   ]
  },
  {
   "cell_type": "code",
   "execution_count": 9,
   "id": "4ae3ac3f-677e-482e-84a7-1e15015cb9fd",
   "metadata": {},
   "outputs": [],
   "source": [
    "model = PySRRegressor(\n",
    "    niterations=30,\n",
    "    binary_operators=[\"+\", \"*\", \"-\"],\n",
    "    unary_operators=[\"square\", \"cube\", \"sqrt\", \"cbrt\", \"inv(x) = 1/x\"], #\"cube_root(x) = cbrt(x)\"\n",
    "    extra_sympy_mappings={\"inv\": lambda x: 1/x}, #\"square\": lambda x: x**2, \"cube_root\": lambda x: x**(1/3)\n",
    "    **default_pysr_params,\n",
    "    elementwise_loss=\"loss(prediction, target, w) = ((prediction - target)/w)^2\"\n",
    "    # ^ Custom loss function (julia syntax). It takes the difference of the Newtonian residual from the PySR estimation and weights it by the inverse\n",
    "    #of the length of the original simulation\n",
    ")"
   ]
  },
  {
   "cell_type": "code",
   "execution_count": 13,
   "id": "3a1e3778-0ca8-4b5b-b67e-326a1520e997",
   "metadata": {
    "scrolled": true
   },
   "outputs": [
    {
     "name": "stderr",
     "output_type": "stream",
     "text": [
      "/home/ajt6830/miniconda3/envs/pysr_env/lib/python3.11/site-packages/pysr/sr.py:2217: UserWarning: The discovered expressions are being reset. Please set `warm_start=True` if you wish to continue to start a search where you left off.\n",
      "  warnings.warn(\n",
      "/home/ajt6830/miniconda3/envs/pysr_env/lib/python3.11/site-packages/pysr/sr.py:2811: UserWarning: Note: it looks like you are running in Jupyter. The progress bar will be turned off.\n",
      "  warnings.warn(\n",
      "[ Info: Started!\n",
      "[ Info: Final population:\n",
      "[ Info: Results saved to:\n"
     ]
    },
    {
     "name": "stdout",
     "output_type": "stream",
     "text": [
      "───────────────────────────────────────────────────────────────────────────────────────────────────\n",
      "Complexity  Loss       Score      Equation\n",
      "1           2.403e-06  0.000e+00  y = 576.8\n",
      "3           2.659e-07  1.101e+00  y = x₁ * 175.55\n",
      "5           9.231e-08  5.290e-01  y = x₀ * (x₁ * 0.60679)\n",
      "7           2.711e-08  6.127e-01  y = (x₁ + 0.68087) * (x₀ * 0.54071)\n",
      "8           2.513e-08  7.589e-02  y = (x₀ * (inv(x₁) + x₁)) * 0.56815\n",
      "9           2.270e-08  1.016e-01  y = ((inv(square(x₁)) + x₁) * x₀) * 0.58214\n",
      "10          1.738e-08  2.670e-01  y = 0.58224 * ((x₁ + inv(x₁ * 1.5448)) * x₀)\n",
      "11          1.646e-08  5.415e-02  y = (square(inv(1.5321 * x₁)) + (x₁ * 0.59022)) * x₀\n",
      "12          1.576e-08  4.352e-02  y = ((x₁ * 0.58714) + inv(x₁ * (x₁ + 1.22))) * x₀\n",
      "13          1.437e-08  9.236e-02  y = (inv(1.5828 + cube(x₁)) + (0.60819 * x₁)) * (x₀ - x₁)\n",
      "15          1.426e-08  3.878e-03  y = ((inv(1.5828 + cube(x₁)) + (0.60819 * x₁)) * (x₀ - x₁)...\n",
      "                                      ) + 1.5828\n",
      "16          1.195e-08  1.769e-01  y = ((inv(x₁) + x₁) + (((1.0386 - x₁) * x₀) * -0.00066325)...\n",
      "                                      ) * (x₀ * 0.49582)\n",
      "18          1.173e-08  9.321e-03  y = (((x₀ * -0.00060212) * (1.2169 - x₁)) + (x₁ + inv(x₁))...\n",
      "                                      ) * ((x₀ * 0.51167) - 2.1481)\n",
      "20          1.160e-08  5.607e-03  y = (x₀ * ((((1.2169 - x₁) * (x₀ * -0.00058876)) + (inv(x₁...\n",
      "                                      ) + x₁)) * 0.51167)) - (x₁ + x₁)\n",
      "21          1.118e-08  3.664e-02  y = (x₀ * (((x₁ + inv(x₁)) + ((1.0392 - x₁) * (x₀ * -0.000...\n",
      "                                      76535))) * 0.48421)) - inv(x₁ * -0.081539)\n",
      "22          1.105e-08  1.176e-02  y = (x₀ * ((((x₀ * -0.00077632) * (1.0392 - x₁)) + (inv(x₁...\n",
      "                                      ) + x₁)) * 0.48421)) - inv(square(x₁) * -0.081539)\n",
      "23          1.084e-08  1.903e-02  y = (((x₀ * 0.47476) * ((x₁ + inv(x₁)) + ((x₀ * -0.0008569...\n",
      "                                      3) * (1.0399 - x₁)))) - inv(x₁ * -0.050587)) + -0.81847\n",
      "25          1.080e-08  1.813e-03  y = ((inv((x₁ * 0.8492) + -0.73576) + (x₀ * 0.48421)) * ((...\n",
      "                                      (1.0392 - x₁) * (x₀ * -0.00079042)) + (x₁ + inv(x₁)))) - x...\n",
      "                                      ₁\n",
      "27          1.071e-08  4.336e-03  y = ((x₀ * ((x₁ + inv(x₁)) + ((x₀ * -0.00083613) * (1.0398...\n",
      "                                       - x₁)))) * 0.47668) - (inv(((x₁ * 0.84946) + -0.7355) * -...\n",
      "                                      0.41796) + -1.0728)\n",
      "───────────────────────────────────────────────────────────────────────────────────────────────────\n",
      "Current Prediction Average Error (%): 0.5877404088610491\n",
      "Best Prediction Average Error (%): 0.4770277128476552\n",
      "Current Model Formula: ((1.0386467 - x1)*x0*(-0.0006632457) + x1 + 1/x1)*x0*0.4958173\n"
     ]
    },
    {
     "name": "stderr",
     "output_type": "stream",
     "text": [
      "/home/ajt6830/miniconda3/envs/pysr_env/lib/python3.11/site-packages/pysr/sr.py:1270: UserWarning: `extra_sympy_mappings` cannot be pickled and will be removed from the serialized instance. When loading the model, please redefine `extra_sympy_mappings` at runtime.\n",
      "  warnings.warn(warn_msg)\n",
      "/home/ajt6830/miniconda3/envs/pysr_env/lib/python3.11/site-packages/pysr/sr.py:2217: UserWarning: The discovered expressions are being reset. Please set `warm_start=True` if you wish to continue to start a search where you left off.\n",
      "  warnings.warn(\n",
      "/home/ajt6830/miniconda3/envs/pysr_env/lib/python3.11/site-packages/pysr/sr.py:2811: UserWarning: Note: it looks like you are running in Jupyter. The progress bar will be turned off.\n",
      "  warnings.warn(\n"
     ]
    },
    {
     "name": "stdout",
     "output_type": "stream",
     "text": [
      "  - outputs/20250702_224555_ZJM0Nn/hall_of_fame.csv\n"
     ]
    },
    {
     "name": "stderr",
     "output_type": "stream",
     "text": [
      "[ Info: Started!\n",
      "[ Info: Final population:\n",
      "[ Info: Results saved to:\n",
      "/home/ajt6830/miniconda3/envs/pysr_env/lib/python3.11/site-packages/pysr/sr.py:2217: UserWarning: The discovered expressions are being reset. Please set `warm_start=True` if you wish to continue to start a search where you left off.\n",
      "  warnings.warn(\n",
      "/home/ajt6830/miniconda3/envs/pysr_env/lib/python3.11/site-packages/pysr/sr.py:2811: UserWarning: Note: it looks like you are running in Jupyter. The progress bar will be turned off.\n",
      "  warnings.warn(\n"
     ]
    },
    {
     "name": "stdout",
     "output_type": "stream",
     "text": [
      "───────────────────────────────────────────────────────────────────────────────────────────────────\n",
      "Complexity  Loss       Score      Equation\n",
      "1           2.403e-06  0.000e+00  y = 576.71\n",
      "3           2.659e-07  1.101e+00  y = x₁ * 175.55\n",
      "5           9.231e-08  5.290e-01  y = x₀ * (x₁ * 0.60679)\n",
      "7           2.717e-08  6.115e-01  y = (x₁ + 0.65798) * (0.54302 * x₀)\n",
      "8           2.513e-08  7.814e-02  y = ((inv(x₁) + x₁) * 0.56815) * x₀\n",
      "10          1.638e-08  2.138e-01  y = ((inv(x₁) + x₁) + -0.26506) * (x₀ * 0.59799)\n",
      "12          1.379e-08  8.601e-02  y = ((x₁ + -0.41623) + inv(x₁)) * ((x₀ * 0.6449) - x₁)\n",
      "14          1.257e-08  4.653e-02  y = (x₁ + (inv(x₁) + -0.41219)) * (((x₀ - x₁) * 0.67552) +...\n",
      "                                       -12.255)\n",
      "16          1.221e-08  1.441e-02  y = ((x₁ + inv(x₁)) + -0.41444) * (((x₀ - (x₁ + 0.47367)) ...\n",
      "                                      * 0.70485) + -20.035)\n",
      "───────────────────────────────────────────────────────────────────────────────────────────────────\n",
      "Current Prediction Average Error (%): 0.7989636697619451\n",
      "Best Prediction Average Error (%): 0.4770277128476552\n",
      "Current Model Formula: (x1 - 0.2650563 + 1/x1)*x0*0.5979863\n",
      "  - outputs/20250702_224601_uVauca/hall_of_fame.csv\n",
      "───────────────────────────────────────────────────────────────────────────────────────────────────\n",
      "Complexity  Loss       Score      Equation\n",
      "1           2.403e-06  0.000e+00  y = 576.76\n",
      "3           2.659e-07  1.101e+00  y = x₁ * 175.55\n",
      "5           9.231e-08  5.290e-01  y = x₀ * (x₁ * 0.60679)\n",
      "7           2.711e-08  6.127e-01  y = x₀ * ((x₁ * 0.54067) + 0.36836)\n",
      "8           2.513e-08  7.589e-02  y = (x₀ * (inv(x₁) + x₁)) * 0.56816\n",
      "9           2.270e-08  1.016e-01  y = (x₁ + inv(square(x₁))) * (x₀ * 0.58213)\n",
      "10          1.857e-08  2.006e-01  y = ((inv(x₁ + 0.26852) + x₁) * x₀) * 0.56815\n",
      "11          1.490e-08  2.203e-01  y = (cbrt(cube(x₁) - -3.4562) * (x₁ - x₀)) * -0.60786\n",
      "13          1.471e-08  6.264e-03  y = ((cbrt(cube(x₁) - -3.7244) * -0.6078) * (x₁ - x₀)) - 2...\n",
      "                                      .9997\n",
      "14          1.471e-08  4.400e-04  y = ((cbrt(cube(x₁) - -3.7244) * -0.6078) * (x₁ - x₀)) - c...\n",
      "                                      brt(x₀)\n",
      "15          1.439e-08  2.173e-02  y = ((x₁ - x₀) * cbrt((cube(x₁ - 0.068634) * -0.22959) + -...\n",
      "                                      0.7987)) - -1.4437\n",
      "16          1.406e-08  2.340e-02  y = cbrt(cube(x₁) - -3.1737) * (((x₁ - x₀) * -0.60601) + i...\n",
      "                                      nv(x₁ + -3.1737))\n",
      "18          1.386e-08  6.988e-03  y = cbrt(cube(x₁) - -3.1737) * (((x₁ - x₀) * -0.60601) + i...\n",
      "                                      nv((x₁ + -3.1737) - -0.088164))\n",
      "20          1.271e-08  4.358e-02  y = (((x₁ - inv(-1.8536 - (x₁ * -0.59395))) - x₀) + 1.3603...\n",
      "                                      ) * (cbrt(cube(x₁) - -3.5412) * -0.61194)\n",
      "22          1.248e-08  8.800e-03  y = ((((1.3603 - inv(-1.8521 - (x₁ * -0.59821))) + x₁) - x...\n",
      "                                      ₀) * (cbrt(cube(x₁) - -3.5413) * -0.6145)) - x₁\n",
      "27          1.241e-08  1.262e-03  y = ((((x₁ - x₀) + (1.3603 - inv(-1.8521 - (x₁ * -0.59808)...\n",
      "                                      ))) * cbrt((inv(x₁ + 6.7455) + cube(x₁)) - -3.5413)) * -0....\n",
      "                                      6159) - x₁\n",
      "───────────────────────────────────────────────────────────────────────────────────────────────────\n",
      "Current Prediction Average Error (%): 0.675381885960053\n",
      "Best Prediction Average Error (%): 0.4770277128476552\n",
      "Current Model Formula: -0.6078649*(-x0 + x1)*Abs(x1**3 + 3.456202)**(1/3)*sign(x1**3 + 3.456202)\n"
     ]
    },
    {
     "name": "stderr",
     "output_type": "stream",
     "text": [
      "[ Info: Started!\n",
      "[ Info: Final population:\n",
      "[ Info: Results saved to:\n",
      "/home/ajt6830/miniconda3/envs/pysr_env/lib/python3.11/site-packages/pysr/sr.py:1270: UserWarning: `extra_sympy_mappings` cannot be pickled and will be removed from the serialized instance. When loading the model, please redefine `extra_sympy_mappings` at runtime.\n",
      "  warnings.warn(warn_msg)\n",
      "/home/ajt6830/miniconda3/envs/pysr_env/lib/python3.11/site-packages/pysr/sr.py:2217: UserWarning: The discovered expressions are being reset. Please set `warm_start=True` if you wish to continue to start a search where you left off.\n",
      "  warnings.warn(\n",
      "/home/ajt6830/miniconda3/envs/pysr_env/lib/python3.11/site-packages/pysr/sr.py:2811: UserWarning: Note: it looks like you are running in Jupyter. The progress bar will be turned off.\n",
      "  warnings.warn(\n"
     ]
    },
    {
     "name": "stdout",
     "output_type": "stream",
     "text": [
      "  - outputs/20250702_224607_HkvLno/hall_of_fame.csv\n"
     ]
    },
    {
     "name": "stderr",
     "output_type": "stream",
     "text": [
      "[ Info: Started!\n",
      "[ Info: Final population:\n",
      "[ Info: Results saved to:\n",
      "/home/ajt6830/miniconda3/envs/pysr_env/lib/python3.11/site-packages/pysr/sr.py:2217: UserWarning: The discovered expressions are being reset. Please set `warm_start=True` if you wish to continue to start a search where you left off.\n",
      "  warnings.warn(\n",
      "/home/ajt6830/miniconda3/envs/pysr_env/lib/python3.11/site-packages/pysr/sr.py:2811: UserWarning: Note: it looks like you are running in Jupyter. The progress bar will be turned off.\n",
      "  warnings.warn(\n"
     ]
    },
    {
     "name": "stdout",
     "output_type": "stream",
     "text": [
      "───────────────────────────────────────────────────────────────────────────────────────────────────\n",
      "Complexity  Loss       Score      Equation\n",
      "1           2.403e-06  0.000e+00  y = 576.71\n",
      "3           2.659e-07  1.101e+00  y = x₁ * 175.56\n",
      "5           9.231e-08  5.290e-01  y = (x₁ * 0.60679) * x₀\n",
      "7           2.711e-08  6.126e-01  y = ((x₁ + 0.68553) * x₀) * 0.54033\n",
      "8           2.513e-08  7.596e-02  y = (x₀ * 0.56816) * (x₁ + inv(x₁))\n",
      "9           2.274e-08  9.969e-02  y = ((inv(square(x₁)) + x₁) * 0.58058) * x₀\n",
      "10          1.637e-08  3.288e-01  y = x₀ * (((x₁ * 1.3648) + inv(x₁)) * 0.42543)\n",
      "11          1.628e-08  5.260e-03  y = x₀ * (((square(inv(x₁)) * 0.78965) + x₁) * 0.58869)\n",
      "12          1.573e-08  3.491e-02  y = (x₀ * (inv(cube(sqrt(x₁))) + (x₁ * 1.3538))) * 0.43366\n",
      "13          1.335e-08  1.636e-01  y = (inv(square(x₁ * 1.1431)) + x₁) * ((x₀ * 0.64392) + -1...\n",
      "                                      6.312)\n",
      "14          1.273e-08  4.756e-02  y = ((x₀ * 0.68475) + -27.811) * (inv(x₁ * (x₁ * 1.3805)) ...\n",
      "                                      + x₁)\n",
      "19          1.252e-08  3.323e-03  y = (inv(x₁ * (inv((x₁ + 1.2467) * x₁) + x₁)) + x₁) * ((x₀...\n",
      "                                       * 0.67384) + -24.909)\n",
      "21          1.224e-08  1.144e-02  y = (inv((x₁ * x₁) + inv(x₁ + ((x₁ + 0.66911) * x₁))) + x₁...\n",
      "                                      ) * ((x₀ * 0.6776) + -26.367)\n",
      "───────────────────────────────────────────────────────────────────────────────────────────────────\n",
      "Current Prediction Average Error (%): 0.7443125065229275\n",
      "Best Prediction Average Error (%): 0.4770277128476552\n",
      "Current Model Formula: x0*(x1*1.3647847 + 1/x1)*0.42543384\n",
      "  - outputs/20250702_224612_67XZ71/hall_of_fame.csv\n"
     ]
    },
    {
     "name": "stderr",
     "output_type": "stream",
     "text": [
      "[ Info: Started!\n",
      "[ Info: Final population:\n",
      "[ Info: Results saved to:\n",
      "/home/ajt6830/miniconda3/envs/pysr_env/lib/python3.11/site-packages/pysr/sr.py:2217: UserWarning: The discovered expressions are being reset. Please set `warm_start=True` if you wish to continue to start a search where you left off.\n",
      "  warnings.warn(\n",
      "/home/ajt6830/miniconda3/envs/pysr_env/lib/python3.11/site-packages/pysr/sr.py:2811: UserWarning: Note: it looks like you are running in Jupyter. The progress bar will be turned off.\n",
      "  warnings.warn(\n"
     ]
    },
    {
     "name": "stdout",
     "output_type": "stream",
     "text": [
      "───────────────────────────────────────────────────────────────────────────────────────────────────\n",
      "Complexity  Loss       Score      Equation\n",
      "1           2.403e-06  0.000e+00  y = 576.65\n",
      "3           2.659e-07  1.101e+00  y = x₁ * 175.56\n",
      "5           9.231e-08  5.290e-01  y = (x₁ * 0.60679) * x₀\n",
      "7           2.711e-08  6.127e-01  y = ((x₁ * 0.54067) + 0.36836) * x₀\n",
      "8           2.513e-08  7.589e-02  y = (x₁ + inv(x₁)) * (x₀ * 0.56816)\n",
      "10          1.639e-08  2.136e-01  y = (x₀ * 0.59727) * ((inv(x₁) + x₁) - 0.25911)\n",
      "12          1.383e-08  8.485e-02  y = ((x₀ * 0.64801) - x₁) * (inv(x₁) + (x₁ - 0.44092))\n",
      "14          1.358e-08  9.402e-03  y = (((x₁ + inv(x₁)) - 0.38044) * (x₀ + (-3.9664 - x₁))) *...\n",
      "                                       0.63772\n",
      "16          1.285e-08  2.751e-02  y = (inv(x₁) + (x₁ - 0.44408)) * ((((x₀ * 0.69215) - x₁) +...\n",
      "                                       -11.423) - 1.5903)\n",
      "18          1.278e-08  2.649e-03  y = (0.88705 + ((inv(x₁) + (x₁ - 0.44408)) * (((x₀ * 0.692...\n",
      "                                      15) + -11.916) - x₁))) - x₁\n",
      "19          1.273e-08  4.278e-03  y = ((((x₀ * 0.69215) - x₁) + -11.916) * (x₁ + (inv(x₁) - ...\n",
      "                                      0.44408))) + (inv(x₁) - x₁)\n",
      "20          1.272e-08  8.370e-04  y = (inv(square(x₁)) - x₁) + ((-11.916 + ((x₀ * 0.69215) -...\n",
      "                                       x₁)) * (x₁ + (inv(x₁) - 0.44408)))\n",
      "21          1.199e-08  5.855e-02  y = (sqrt(0.52853 * square(x₀ - x₁)) * ((x₁ + inv(x₁)) - 0...\n",
      "                                      .4735)) + (cbrt(x₀) * (x₁ * -3.4879))\n",
      "23          1.170e-08  1.237e-02  y = ((x₁ * -3.4879) * cbrt(x₀)) + ((sqrt(0.52853 * square(...\n",
      "                                      x₀ - x₁)) * ((x₁ + inv(x₁)) - 0.4735)) - x₁)\n",
      "25          1.167e-08  1.049e-03  y = (((sqrt(square(x₀ - x₁) * 0.52853) * (x₁ + (inv(x₁) - ...\n",
      "                                      0.4735))) - x₁) + 1.2986) + ((x₁ * cbrt(x₀)) * -3.4879)\n",
      "27          1.161e-08  2.674e-03  y = ((((sqrt(0.53155 * square(x₀ - x₁)) * ((inv(x₁) - 0.47...\n",
      "                                      277) + x₁)) - x₁) - x₁) - -0.32445) + (cbrt(x₀) * (-3.4878...\n",
      "                                       * x₁))\n",
      "28          1.160e-08  1.284e-03  y = (((sqrt(square(x₁ - x₀) * 0.53155) * (x₁ + (inv(x₁) - ...\n",
      "                                      0.47277))) - x₁) - x₁) + (cbrt(x₁) + (x₁ * (cbrt(x₀) * -3....\n",
      "                                      4878)))\n",
      "29          1.157e-08  2.162e-03  y = ((((sqrt(square(x₀ - x₁) * 0.53155) * ((inv(x₁) - 0.47...\n",
      "                                      277) + x₁)) - x₁) - x₁) - -0.32445) + ((cbrt(x₀) * (x₁ * -...\n",
      "                                      3.4878)) - -1.228)\n",
      "30          1.157e-08  4.887e-04  y = (cube(1.3713) + ((((sqrt(0.53155 * square(x₀ - x₁)) * ...\n",
      "                                      ((inv(x₁) - 0.47277) + x₁)) - x₁) - x₁) - -0.32445)) + ((c...\n",
      "                                      brt(x₀) * -3.4878) * x₁)\n",
      "───────────────────────────────────────────────────────────────────────────────────────────────────\n",
      "Current Prediction Average Error (%): 0.7960415792385444\n",
      "Best Prediction Average Error (%): 0.4770277128476552\n",
      "Current Model Formula: x0*0.59726703*(x1 - 1*0.25911328 + 1/x1)\n",
      "  - outputs/20250702_224617_jXbI6X/hall_of_fame.csv\n",
      "───────────────────────────────────────────────────────────────────────────────────────────────────\n",
      "Complexity  Loss       Score      Equation\n",
      "1           2.403e-06  0.000e+00  y = 576.76\n",
      "3           2.659e-07  1.101e+00  y = x₁ * 175.55\n",
      "5           9.231e-08  5.290e-01  y = (x₁ * 0.60679) * x₀\n",
      "7           2.711e-08  6.126e-01  y = (x₁ + 0.68504) * (x₀ * 0.54036)\n",
      "8           2.513e-08  7.595e-02  y = ((x₁ + inv(x₁)) * x₀) * 0.56815\n",
      "9           2.270e-08  1.016e-01  y = (x₀ * 0.58214) * (square(inv(x₁)) + x₁)\n",
      "10          1.640e-08  3.253e-01  y = ((inv(x₁) * 0.74684) + x₁) * (x₀ * 0.57992)\n",
      "12          1.575e-08  2.012e-02  y = (x₀ * 0.58357) * (inv(x₁ + (x₁ - 0.67922)) + x₁)\n",
      "14          1.571e-08  1.247e-03  y = ((x₀ * 0.58357) * (inv(x₁ + (x₁ - 0.67922)) + x₁)) - x...\n",
      "                                      ₁\n",
      "16          1.565e-08  1.752e-03  y = ((x₁ + inv((x₁ + x₁) - 0.66251)) * (x₀ + (x₁ * -0.2680...\n",
      "                                      3))) * 0.58383\n",
      "17          1.497e-08  4.476e-02  y = (((inv(x₁ + inv((2.4096 + 0.61487) - x₁)) + x₁) * x₀) ...\n",
      "                                      * 0.57981) + 1.9292\n",
      "19          1.486e-08  3.530e-03  y = ((((inv(x₁ + inv((2.4096 + 0.61487) - x₁)) + x₁) * x₀)...\n",
      "                                       + 1.9292) * 0.57981) + 1.9292\n",
      "21          1.461e-08  8.691e-03  y = ((1.2132 - x₁) + 0.4345) + ((((x₁ + inv(x₁ + inv(3.024...\n",
      "                                      4 - x₁))) * x₀) * 0.57981) + 3.7547)\n",
      "22          1.407e-08  3.717e-02  y = ((inv(inv(x₁ - (x₁ + ((x₁ - inv(x₁)) + -2.7332))) + x₁...\n",
      "                                      ) + x₁) * (x₀ * 0.58353)) - x₁\n",
      "24          1.397e-08  3.809e-03  y = ((((inv(inv(x₁ - ((x₁ + (x₁ + -2.7333)) - inv(x₁))) + ...\n",
      "                                      x₁) + x₁) * 0.58467) * x₀) - x₁) - x₁\n",
      "26          1.393e-08  1.251e-03  y = (((((inv(inv(x₁ - ((x₁ + (x₁ + -2.7333)) - inv(x₁))) +...\n",
      "                                       x₁) + x₁) * 0.58467) * x₀) - x₁) - x₁) + 1.334\n",
      "28          1.393e-08  8.560e-05  y = ((x₀ * ((x₁ + inv(inv(x₁ - ((x₁ - inv(x₁)) + (-1.3666 ...\n",
      "                                      + (x₁ + -1.3666)))) + x₁)) * 0.58467)) - (-1.617 + x₁)) - ...\n",
      "                                      x₁\n",
      "───────────────────────────────────────────────────────────────────────────────────────────────────\n",
      "Current Prediction Average Error (%): 0.7420568957318392\n",
      "Best Prediction Average Error (%): 0.4770277128476552\n",
      "Current Model Formula: (x1 + 0.74683577/x1)*x0*0.57991856\n"
     ]
    },
    {
     "name": "stderr",
     "output_type": "stream",
     "text": [
      "[ Info: Started!\n",
      "[ Info: Final population:\n",
      "[ Info: Results saved to:\n",
      "/home/ajt6830/miniconda3/envs/pysr_env/lib/python3.11/site-packages/pysr/sr.py:2217: UserWarning: The discovered expressions are being reset. Please set `warm_start=True` if you wish to continue to start a search where you left off.\n",
      "  warnings.warn(\n",
      "/home/ajt6830/miniconda3/envs/pysr_env/lib/python3.11/site-packages/pysr/sr.py:2811: UserWarning: Note: it looks like you are running in Jupyter. The progress bar will be turned off.\n",
      "  warnings.warn(\n"
     ]
    },
    {
     "name": "stdout",
     "output_type": "stream",
     "text": [
      "  - outputs/20250702_224623_Fel7p9/hall_of_fame.csv\n",
      "───────────────────────────────────────────────────────────────────────────────────────────────────\n",
      "Complexity  Loss       Score      Equation\n",
      "1           2.403e-06  0.000e+00  y = 576.77\n",
      "3           2.659e-07  1.101e+00  y = x₁ * 175.56\n",
      "5           9.231e-08  5.290e-01  y = x₀ * (x₁ * 0.60679)\n",
      "7           2.711e-08  6.126e-01  y = (x₀ * (x₁ + 0.68815)) * 0.54001\n",
      "8           2.513e-08  7.608e-02  y = x₀ * ((x₁ + inv(x₁)) * 0.56816)\n",
      "10          1.626e-08  2.175e-01  y = (x₀ * ((x₁ + inv(x₁)) * 0.59679)) - 46.837\n",
      "12          1.613e-08  4.049e-03  y = ((x₀ * (inv(x₁) + x₁)) * 0.60004) - (x₁ + 47.431)\n",
      "14          1.568e-08  1.429e-02  y = (((x₁ + (inv(x₁ + -0.36694) + x₁)) * 0.29294) * x₀) - ...\n",
      "                                      x₁\n",
      "16          1.556e-08  3.860e-03  y = (((x₀ * 0.29536) * (x₁ + (x₁ + inv(x₁ + -0.36706)))) -...\n",
      "                                       x₁) - x₁\n",
      "17          1.529e-08  1.749e-02  y = (sqrt(x₀) * inv(x₁ * 0.12653)) - (((x₀ * x₁) * -0.6034...\n",
      "                                      3) - (x₁ * -7.11))\n",
      "19          1.486e-08  1.412e-02  y = ((sqrt(x₀) + -1.0991) * inv(x₁ * 0.12653)) - (((x₁ * -...\n",
      "                                      0.60343) * x₀) - (x₁ * -7.11))\n",
      "21          1.460e-08  8.930e-03  y = (((-0.47949 - x₁) + sqrt(x₀)) * inv(x₁ * 0.12631)) - (...\n",
      "                                      (x₁ * (x₀ * -0.60479)) - (-7.11 * x₁))\n",
      "24          1.446e-08  3.128e-03  y = x₁ - ((square(sqrt(((x₁ * -0.59514) + x₀) * x₁)) * -0....\n",
      "                                      59769) - ((sqrt(x₀) * cube(inv(x₁ * 0.50273))) * x₁))\n",
      "30          1.309e-08  1.666e-02  y = ((inv(square((x₁ + 0.48226) + cube(sqrt((x₁ + x₁) + -0...\n",
      "                                      .49251))) - x₀) + inv((x₁ + -0.74824) + x₁)) + x₁) * ((x₀ ...\n",
      "                                      * 0.58445) - 0.36225)\n",
      "───────────────────────────────────────────────────────────────────────────────────────────────────\n",
      "Current Prediction Average Error (%): 0.8049411190199444\n",
      "Best Prediction Average Error (%): 0.4770277128476552\n",
      "Current Model Formula: x0*(x1 + 1/x1)*0.59679455 - 1*46.837215\n"
     ]
    },
    {
     "name": "stderr",
     "output_type": "stream",
     "text": [
      "[ Info: Started!\n",
      "[ Info: Final population:\n",
      "[ Info: Results saved to:\n",
      "/home/ajt6830/miniconda3/envs/pysr_env/lib/python3.11/site-packages/pysr/sr.py:2217: UserWarning: The discovered expressions are being reset. Please set `warm_start=True` if you wish to continue to start a search where you left off.\n",
      "  warnings.warn(\n",
      "/home/ajt6830/miniconda3/envs/pysr_env/lib/python3.11/site-packages/pysr/sr.py:2811: UserWarning: Note: it looks like you are running in Jupyter. The progress bar will be turned off.\n",
      "  warnings.warn(\n"
     ]
    },
    {
     "name": "stdout",
     "output_type": "stream",
     "text": [
      "  - outputs/20250702_224628_VnvNsU/hall_of_fame.csv\n",
      "───────────────────────────────────────────────────────────────────────────────────────────────────\n",
      "Complexity  Loss       Score      Equation\n",
      "1           2.403e-06  0.000e+00  y = 576.82\n",
      "3           2.659e-07  1.101e+00  y = x₁ * 175.55\n",
      "5           9.231e-08  5.290e-01  y = x₀ * (x₁ * 0.60679)\n",
      "7           2.711e-08  6.127e-01  y = x₀ * ((x₁ * 0.54067) + 0.36837)\n",
      "8           2.513e-08  7.589e-02  y = (x₀ * 0.56816) * (inv(x₁) + x₁)\n",
      "9           2.270e-08  1.016e-01  y = (x₀ * 0.58214) * (square(inv(x₁)) + x₁)\n",
      "10          1.639e-08  3.259e-01  y = (-0.27101 + (x₁ + inv(x₁))) * (0.59835 * x₀)\n",
      "11          1.591e-08  2.928e-02  y = (x₀ * 0.58925) * (inv(square(x₁ + 0.15364)) + x₁)\n",
      "13          1.270e-08  1.127e-01  y = (inv(square(x₁ + 0.15618)) + x₁) * ((x₀ * 0.65949) + -...\n",
      "                                      20.814)\n",
      "15          1.268e-08  9.000e-04  y = ((inv(square(x₁ + 0.15618)) + x₁) * ((x₀ * 0.65949) + ...\n",
      "                                      -20.814)) + 1.5577\n",
      "17          1.240e-08  1.097e-02  y = (((inv(square(x₁ + 0.19234)) + x₁) * 0.65907) * (x₀ - ...\n",
      "                                      15.289)) + (x₁ * -10.402)\n",
      "18          1.240e-08  2.384e-07  y = (((x₁ + square(inv(x₁ + 0.19234))) * 0.65907) * (x₀ - ...\n",
      "                                      15.289)) + (inv(-0.096136) * x₁)\n",
      "19          1.203e-08  3.019e-02  y = ((x₁ + square(inv(x₁ + 0.2576))) * (((x₀ - 16.905) + -...\n",
      "                                      0.13719) * 0.69087)) + (x₁ * -18.073)\n",
      "───────────────────────────────────────────────────────────────────────────────────────────────────\n",
      "Current Prediction Average Error (%): 0.8051783938534722\n",
      "Best Prediction Average Error (%): 0.4770277128476552\n",
      "Current Model Formula: (x1 - 0.2710125 + 1/x1)*0.59835494*x0\n"
     ]
    },
    {
     "name": "stderr",
     "output_type": "stream",
     "text": [
      "[ Info: Started!\n",
      "[ Info: Final population:\n",
      "[ Info: Results saved to:\n",
      "/home/ajt6830/miniconda3/envs/pysr_env/lib/python3.11/site-packages/pysr/sr.py:2217: UserWarning: The discovered expressions are being reset. Please set `warm_start=True` if you wish to continue to start a search where you left off.\n",
      "  warnings.warn(\n",
      "/home/ajt6830/miniconda3/envs/pysr_env/lib/python3.11/site-packages/pysr/sr.py:2811: UserWarning: Note: it looks like you are running in Jupyter. The progress bar will be turned off.\n",
      "  warnings.warn(\n"
     ]
    },
    {
     "name": "stdout",
     "output_type": "stream",
     "text": [
      "  - outputs/20250702_224634_qRRLLe/hall_of_fame.csv\n",
      "───────────────────────────────────────────────────────────────────────────────────────────────────\n",
      "Complexity  Loss       Score      Equation\n",
      "1           2.403e-06  0.000e+00  y = 576.81\n",
      "3           2.659e-07  1.101e+00  y = x₁ * 175.55\n",
      "5           9.231e-08  5.290e-01  y = x₁ * (x₀ * 0.60678)\n",
      "7           2.711e-08  6.127e-01  y = x₀ * ((x₁ * 0.54067) - -0.36837)\n",
      "8           2.513e-08  7.589e-02  y = (inv(x₁) + x₁) * (x₀ * 0.56816)\n",
      "9           2.280e-08  9.732e-02  y = ((inv(square(x₁)) + x₁) * 0.5798) * x₀\n",
      "10          1.639e-08  3.298e-01  y = x₀ * (((x₁ + -0.26013) + inv(x₁)) * 0.59777)\n",
      "11          1.594e-08  2.786e-02  y = (x₀ * 0.59016) * (inv(square(-0.16249 - x₁)) + x₁)\n",
      "13          1.565e-08  9.137e-03  y = ((inv(square(x₁ - -0.15478)) + x₁) * (x₀ * 0.59252)) -...\n",
      "                                       x₁\n",
      "15          1.519e-08  1.511e-02  y = ((square(inv(x₁ - -0.16541)) + x₁) * ((x₀ * 0.59673) +...\n",
      "                                       -2.8953)) - -3.1856\n",
      "17          1.473e-08  1.538e-02  y = (inv(square(x₁ - -0.16541)) + x₁) * (0.59673 * ((x₀ - ...\n",
      "                                      x₁) + (0.58718 * x₁)))\n",
      "19          1.438e-08  1.182e-02  y = (x₁ + square(inv(x₁ - -0.17993))) * (((((x₁ * 0.41582)...\n",
      "                                       + -0.58369) + x₀) - x₁) * 0.60162)\n",
      "22          1.388e-08  1.191e-02  y = ((inv(x₁ - -0.29985) + x₁) * (0.57591 + inv((4.1099 - ...\n",
      "                                      x₀) + (square(x₁ * x₁) * x₁)))) * x₀\n",
      "23          1.255e-08  1.005e-01  y = (inv(x₁ - -0.29985) + x₁) * ((inv((sqrt(x₀) - x₀) + (x...\n",
      "                                      ₁ * square(x₁ * x₁))) + 0.57591) * x₀)\n",
      "25          1.216e-08  1.577e-02  y = x₁ + ((inv(((cube(x₁) + 2.1768) * square(x₁)) - x₀) + ...\n",
      "                                      0.57591) * ((x₀ * (x₁ + inv(x₁ - -0.29985))) - 0.97736))\n",
      "26          1.215e-08  1.234e-03  y = (x₁ + ((x₁ + inv(x₁ - -0.29985)) * ((inv(((2.1768 + cu...\n",
      "                                      be(x₁)) * square(x₁)) - x₀) + 0.57591) * x₀))) - inv(x₀)\n",
      "27          1.215e-08  7.749e-07  y = ((x₁ + (((inv(((2.1768 + cube(x₁)) * square(x₁)) - x₀)...\n",
      "                                       + 0.57591) * x₀) * (x₁ + inv(x₁ - -0.29985)))) - x₁) + x₁\n",
      "───────────────────────────────────────────────────────────────────────────────────────────────────\n",
      "Current Prediction Average Error (%): 0.793143252997347\n",
      "Best Prediction Average Error (%): 0.4770277128476552\n",
      "Current Model Formula: x0*(x1 - 0.2601348 + 1/x1)*0.5977727\n"
     ]
    },
    {
     "name": "stderr",
     "output_type": "stream",
     "text": [
      "[ Info: Started!\n",
      "[ Info: Final population:\n",
      "[ Info: Results saved to:\n",
      "/home/ajt6830/miniconda3/envs/pysr_env/lib/python3.11/site-packages/pysr/sr.py:2217: UserWarning: The discovered expressions are being reset. Please set `warm_start=True` if you wish to continue to start a search where you left off.\n",
      "  warnings.warn(\n",
      "/home/ajt6830/miniconda3/envs/pysr_env/lib/python3.11/site-packages/pysr/sr.py:2811: UserWarning: Note: it looks like you are running in Jupyter. The progress bar will be turned off.\n",
      "  warnings.warn(\n"
     ]
    },
    {
     "name": "stdout",
     "output_type": "stream",
     "text": [
      "  - outputs/20250702_224639_pob3CG/hall_of_fame.csv\n",
      "───────────────────────────────────────────────────────────────────────────────────────────────────\n",
      "Complexity  Loss       Score      Equation\n",
      "1           2.403e-06  0.000e+00  y = 576.82\n",
      "3           2.659e-07  1.101e+00  y = x₁ * 175.55\n",
      "5           9.231e-08  5.290e-01  y = x₀ * (x₁ * 0.60679)\n",
      "7           2.711e-08  6.126e-01  y = x₀ * ((x₁ * 0.5405) + 0.36796)\n",
      "8           2.513e-08  7.593e-02  y = ((x₁ + inv(x₁)) * x₀) * 0.56815\n",
      "9           2.270e-08  1.016e-01  y = ((square(inv(x₁)) + x₁) * x₀) * 0.58214\n",
      "10          1.639e-08  3.256e-01  y = (x₀ * 0.59733) * (x₁ + (inv(x₁) + -0.25964))\n",
      "12          1.604e-08  1.075e-02  y = x₀ * ((inv(x₁ + x₁) + -0.07451) + (x₁ * 0.58923))\n",
      "13          1.391e-08  1.427e-01  y = (x₀ - x₁) * (inv(cube(x₁) - -1.4172) + (0.60965 * x₁))\n",
      "15          1.387e-08  1.419e-03  y = ((x₀ - x₁) * ((x₁ * 0.60965) + inv(cube(x₁) - -1.3416)...\n",
      "                                      )) + -1.7291\n",
      "17          1.382e-08  1.909e-03  y = (((x₁ * 0.61134) + inv(cube(x₁) - (x₁ + -2.3388))) * (...\n",
      "                                      x₀ - x₁)) - 2.695\n",
      "22          1.379e-08  3.317e-04  y = (((-0.041906 + x₁) * 0.61264) + inv(sqrt(x₁ - (-0.5627...\n",
      "                                      8 * cube(x₁ * x₁))) + x₁)) * (x₀ - x₁)\n",
      "24          1.364e-08  5.587e-03  y = (((x₁ * 0.61686) + (inv((x₁ - cube((cbrt(x₁) * x₁) * -...\n",
      "                                      0.56272)) + x₁) + -0.040854)) * (x₀ - x₁)) - x₁\n",
      "27          1.362e-08  4.528e-04  y = (inv((((x₁ * ((x₁ - 0.067169) * x₁)) + square(x₁)) - -...\n",
      "                                      1.7291) * 0.6097) + ((x₁ + -0.047828) * 0.61789)) * ((x₀ -...\n",
      "                                       x₁) - 2.2021)\n",
      "28          1.362e-08  3.124e-04  y = ((x₀ - x₁) - 2.2021) * (inv(((((x₁ * x₁) * x₁) - 0.067...\n",
      "                                      169) + (x₁ - -1.7291)) * 0.6097) + (((x₁ + 0.067169) - 0.1...\n",
      "                                      1528) * 0.61789))\n",
      "29          1.349e-08  9.361e-03  y = (((((x₁ * 0.62161) + -0.057564) + inv((x₁ + x₁) - (cbr...\n",
      "                                      t(x₁) * cube((x₁ * cbrt(x₁)) * -0.53076)))) * (x₀ - x₁)) -...\n",
      "                                       x₁) + 1.0055\n",
      "───────────────────────────────────────────────────────────────────────────────────────────────────\n",
      "Current Prediction Average Error (%): 0.7963181386188831\n",
      "Best Prediction Average Error (%): 0.4770277128476552\n",
      "Current Model Formula: x0*0.5973283*(x1 - 0.25963998 + 1/x1)\n"
     ]
    },
    {
     "name": "stderr",
     "output_type": "stream",
     "text": [
      "[ Info: Started!\n",
      "[ Info: Final population:\n",
      "[ Info: Results saved to:\n",
      "/home/ajt6830/miniconda3/envs/pysr_env/lib/python3.11/site-packages/pysr/sr.py:2217: UserWarning: The discovered expressions are being reset. Please set `warm_start=True` if you wish to continue to start a search where you left off.\n",
      "  warnings.warn(\n",
      "/home/ajt6830/miniconda3/envs/pysr_env/lib/python3.11/site-packages/pysr/sr.py:2811: UserWarning: Note: it looks like you are running in Jupyter. The progress bar will be turned off.\n",
      "  warnings.warn(\n"
     ]
    },
    {
     "name": "stdout",
     "output_type": "stream",
     "text": [
      "  - outputs/20250702_224645_vyy5Wg/hall_of_fame.csv\n",
      "───────────────────────────────────────────────────────────────────────────────────────────────────\n",
      "Complexity  Loss       Score      Equation\n",
      "1           2.403e-06  0.000e+00  y = 576.75\n",
      "3           2.297e-06  2.238e-02  y = x₀ * 1.9369\n",
      "4           5.486e-07  1.432e+00  y = sqrt(x₁) * 415.3\n",
      "5           9.231e-08  1.782e+00  y = (x₀ * x₁) * 0.60679\n",
      "7           2.711e-08  6.127e-01  y = x₀ * ((x₁ * 0.54067) + 0.36839)\n",
      "8           2.513e-08  7.589e-02  y = (x₀ * (inv(x₁) + x₁)) * 0.56815\n",
      "9           2.270e-08  1.016e-01  y = ((x₁ + square(inv(x₁))) * x₀) * 0.58214\n",
      "10          1.642e-08  3.237e-01  y = x₀ * ((inv(x₁ * 1.3286) + x₁) * 0.57981)\n",
      "11          1.621e-08  1.287e-02  y = x₀ * (((cube(inv(x₁)) + 1.3028) * x₁) * 0.45276)\n",
      "13          1.536e-08  2.689e-02  y = (x₁ * ((cube(inv(x₁)) + 1.2625) * 0.48071)) * (x₀ - x₁...\n",
      "                                      )\n",
      "14          1.405e-08  8.959e-02  y = (((x₀ * 0.50148) - sqrt(x₀)) * (cube(inv(x₁)) + 1.3307...\n",
      "                                      )) * x₁\n",
      "15          1.387e-08  1.290e-02  y = ((x₀ * 0.50085) - sqrt(x₀)) * ((1.3305 * x₁) + sqrt(in...\n",
      "                                      v(cube(x₁))))\n",
      "16          1.360e-08  1.965e-02  y = x₁ * ((((x₀ * 0.50936) - 2.5774) - sqrt(x₀)) * (inv(cu...\n",
      "                                      be(x₁)) + 1.3332))\n",
      "17          1.318e-08  3.080e-02  y = (((x₀ * 0.5106) + -3.8563) - sqrt(x₀)) * (cube(sqrt(in...\n",
      "                                      v(x₁))) + (x₁ * 1.3336))\n",
      "18          1.297e-08  1.665e-02  y = (x₁ * (cube(inv(x₁)) + 1.409)) * (((x₀ * 0.49121) - cb...\n",
      "                                      rt(square(x₁))) - sqrt(x₀))\n",
      "21          1.274e-08  5.876e-03  y = (2.0737 + (x₁ * (((0.47638 * x₀) - sqrt(x₁)) - (sqrt(x...\n",
      "                                      ₀) - -4.5395)))) * (1.5082 + inv(cube(x₁)))\n",
      "22          1.219e-08  4.445e-02  y = (inv(cube(x₁)) + 1.7509) * (((((x₀ - 4.1639) * 0.42143...\n",
      "                                      ) - sqrt(x₀ - (-1.2738 - x₀))) * x₁) + 11.584)\n",
      "24          1.203e-08  6.285e-03  y = (cube(inv(x₁)) + 1.7507) * (((((x₀ - 4.1639) * 0.42076...\n",
      "                                      ) - sqrt((x₀ - (-1.2738 - x₀)) + 11.584)) * x₁) + 11.584)\n",
      "26          1.200e-08  1.498e-03  y = ((inv(cube(x₁)) + 1.7509) * (((x₁ * (((x₀ - 4.1639) * ...\n",
      "                                      0.42143) - sqrt(x₀ - (0.005803 - x₀)))) - -8.6359) + 2.947...\n",
      "                                      6)) - x₁\n",
      "27          1.200e-08  6.056e-05  y = ((1.7509 + inv(cube(x₁))) * (((x₁ * (((x₀ - 4.1639) * ...\n",
      "                                      0.42143) - sqrt(x₀ - (-0.86901 - x₀)))) - inv(-0.1158)) + ...\n",
      "                                      2.9476)) - x₁\n",
      "28          1.199e-08  2.575e-04  y = (inv(cube(x₁)) + 1.8799) * ((((((x₀ - 4.699) * 0.39505...\n",
      "                                      ) - sqrt(x₀ - (((x₁ * 0.24028) - x₀) - 3.7108))) * x₁) - -...\n",
      "                                      10.827) + 4.4962)\n",
      "29          1.195e-08  3.624e-03  y = (1.7509 + inv(cube(x₁))) * ((x₁ * (((x₀ - 4.1639) * 0....\n",
      "                                      42143) - sqrt(x₀ - (x₁ - x₀)))) - ((x₁ - 0.54957) + (inv(-...\n",
      "                                      0.1158) - 4.1639)))\n",
      "───────────────────────────────────────────────────────────────────────────────────────────────────\n",
      "Current Prediction Average Error (%): 0.7402209141948337\n",
      "Best Prediction Average Error (%): 0.4770277128476552\n",
      "Current Model Formula: x0*(x1 + 0.752656746600569/x1)*0.5798141\n"
     ]
    },
    {
     "name": "stderr",
     "output_type": "stream",
     "text": [
      "[ Info: Started!\n",
      "[ Info: Final population:\n",
      "[ Info: Results saved to:\n",
      "/home/ajt6830/miniconda3/envs/pysr_env/lib/python3.11/site-packages/pysr/sr.py:2217: UserWarning: The discovered expressions are being reset. Please set `warm_start=True` if you wish to continue to start a search where you left off.\n",
      "  warnings.warn(\n",
      "/home/ajt6830/miniconda3/envs/pysr_env/lib/python3.11/site-packages/pysr/sr.py:2811: UserWarning: Note: it looks like you are running in Jupyter. The progress bar will be turned off.\n",
      "  warnings.warn(\n"
     ]
    },
    {
     "name": "stdout",
     "output_type": "stream",
     "text": [
      "  - outputs/20250702_224649_qzP4JH/hall_of_fame.csv\n",
      "───────────────────────────────────────────────────────────────────────────────────────────────────\n",
      "Complexity  Loss       Score      Equation\n",
      "1           2.403e-06  0.000e+00  y = 576.82\n",
      "3           2.659e-07  1.101e+00  y = x₁ * 175.55\n",
      "5           9.231e-08  5.290e-01  y = x₀ * (x₁ * 0.60679)\n",
      "7           2.711e-08  6.127e-01  y = x₀ * ((x₁ * 0.54067) + 0.36849)\n",
      "8           2.513e-08  7.589e-02  y = (inv(x₁) + x₁) * (x₀ * 0.56816)\n",
      "9           2.319e-08  8.014e-02  y = x₀ * (0.5874 * (square(inv(x₁)) + x₁))\n",
      "10          1.639e-08  3.471e-01  y = (((inv(x₁) + -0.27434) + x₁) * x₀) * 0.59929\n",
      "11          1.593e-08  2.849e-02  y = x₀ * (0.58948 * (square(inv(x₁ - -0.14334)) + x₁))\n",
      "12          1.589e-08  2.263e-03  y = (inv((x₁ * x₁) - -0.28944) + x₁) * (x₀ * 0.58948)\n",
      "13          1.567e-08  1.396e-02  y = ((inv(square(-0.47327 - x₁)) + (x₁ * 0.58948)) * x₀) -...\n",
      "                                       x₁\n",
      "14          1.554e-08  8.271e-03  y = ((((x₁ + x₁) + inv(x₁ + -0.32485)) * x₀) * 0.29361) - ...\n",
      "                                      x₁\n",
      "16          1.474e-08  2.663e-02  y = ((x₁ + (inv(x₁ - 0.36449) + x₁)) * ((x₀ * 0.30118) - 2...\n",
      "                                      .8896)) - 0.24826\n",
      "17          1.427e-08  3.254e-02  y = ((x₁ + inv(x₁ + x₁)) + (inv(x₁) + x₁)) * ((0.32304 * x...\n",
      "                                      ₀) + -9.6149)\n",
      "18          1.350e-08  5.501e-02  y = ((0.32304 * x₀) + -9.6149) * (x₁ + ((inv(x₁) + x₁) + i...\n",
      "                                      nv(x₁ + square(x₁))))\n",
      "19          1.317e-08  2.493e-02  y = ((0.32814 * x₀) + -10.888) * (((inv(x₁) + x₁) + inv(x₁...\n",
      "                                       * (x₁ + x₁))) + x₁)\n",
      "21          1.302e-08  5.594e-03  y = ((x₁ + inv(x₁)) + ((inv(x₁) * inv(x₁ + square(x₁))) + ...\n",
      "                                      x₁)) * (-10.888 + (0.32814 * x₀))\n",
      "22          1.302e-08  4.263e-04  y = (-10.888 + (x₀ * 0.32814)) * (x₁ + ((x₁ + inv(x₁)) + i...\n",
      "                                      nv(inv(inv((cube(x₁) + x₁) * x₁)))))\n",
      "23          1.302e-08  5.960e-08  y = ((0.32814 * x₀) + -10.888) * ((x₁ + inv(inv(inv(cube(x...\n",
      "                                      ₁) + x₁) * inv(x₁)))) + (inv(x₁) + x₁))\n",
      "───────────────────────────────────────────────────────────────────────────────────────────────────\n",
      "Current Prediction Average Error (%): 0.8018827636318332\n",
      "Best Prediction Average Error (%): 0.4770277128476552\n",
      "Current Model Formula: (x1 - 0.27433914 + 1/x1)*x0*0.59929466\n"
     ]
    },
    {
     "name": "stderr",
     "output_type": "stream",
     "text": [
      "[ Info: Started!\n",
      "[ Info: Final population:\n",
      "[ Info: Results saved to:\n",
      "/home/ajt6830/miniconda3/envs/pysr_env/lib/python3.11/site-packages/pysr/sr.py:2217: UserWarning: The discovered expressions are being reset. Please set `warm_start=True` if you wish to continue to start a search where you left off.\n",
      "  warnings.warn(\n",
      "/home/ajt6830/miniconda3/envs/pysr_env/lib/python3.11/site-packages/pysr/sr.py:2811: UserWarning: Note: it looks like you are running in Jupyter. The progress bar will be turned off.\n",
      "  warnings.warn(\n"
     ]
    },
    {
     "name": "stdout",
     "output_type": "stream",
     "text": [
      "  - outputs/20250702_224656_mlpQTx/hall_of_fame.csv\n"
     ]
    },
    {
     "name": "stderr",
     "output_type": "stream",
     "text": [
      "[ Info: Started!\n",
      "[ Info: Final population:\n",
      "[ Info: Results saved to:\n"
     ]
    },
    {
     "name": "stdout",
     "output_type": "stream",
     "text": [
      "───────────────────────────────────────────────────────────────────────────────────────────────────\n",
      "Complexity  Loss       Score      Equation\n",
      "1           2.403e-06  0.000e+00  y = 576.85\n",
      "3           2.659e-07  1.101e+00  y = x₁ * 175.55\n",
      "5           9.231e-08  5.290e-01  y = (x₁ * x₀) * 0.60679\n",
      "7           2.711e-08  6.126e-01  y = (x₁ + 0.6795) * (x₀ * 0.54085)\n",
      "8           2.513e-08  7.590e-02  y = ((x₁ + inv(x₁)) * x₀) * 0.56816\n",
      "10          1.639e-08  2.136e-01  y = x₀ * (0.59907 * (-0.27489 + (x₁ + inv(x₁))))\n",
      "11          1.623e-08  9.549e-03  y = x₀ * ((x₁ * 0.59165) + square(inv(x₁ + 0.56621)))\n",
      "12          1.270e-08  2.452e-01  y = ((x₁ + inv(x₁)) + -0.28053) * ((x₀ * 0.68734) - 26.034...\n",
      "                                      )\n",
      "15          1.203e-08  1.807e-02  y = ((cbrt(x₁) * -10.819) + (x₀ * 0.68909)) * ((x₁ + -0.43...\n",
      "                                      126) + inv(x₁))\n",
      "───────────────────────────────────────────────────────────────────────────────────────────────────\n",
      "Current Prediction Average Error (%): 0.6471834901961828\n",
      "Best Prediction Average Error (%): 0.4770277128476552\n",
      "Current Model Formula: (x0*0.68734086 - 1*26.034225)*(x1 - 0.28052878 + 1/x1)\n"
     ]
    },
    {
     "name": "stderr",
     "output_type": "stream",
     "text": [
      "/home/ajt6830/miniconda3/envs/pysr_env/lib/python3.11/site-packages/pysr/sr.py:1270: UserWarning: `extra_sympy_mappings` cannot be pickled and will be removed from the serialized instance. When loading the model, please redefine `extra_sympy_mappings` at runtime.\n",
      "  warnings.warn(warn_msg)\n",
      "/home/ajt6830/miniconda3/envs/pysr_env/lib/python3.11/site-packages/pysr/sr.py:2217: UserWarning: The discovered expressions are being reset. Please set `warm_start=True` if you wish to continue to start a search where you left off.\n",
      "  warnings.warn(\n",
      "/home/ajt6830/miniconda3/envs/pysr_env/lib/python3.11/site-packages/pysr/sr.py:2811: UserWarning: Note: it looks like you are running in Jupyter. The progress bar will be turned off.\n",
      "  warnings.warn(\n"
     ]
    },
    {
     "name": "stdout",
     "output_type": "stream",
     "text": [
      "  - outputs/20250702_224702_Fkd53g/hall_of_fame.csv\n",
      "───────────────────────────────────────────────────────────────────────────────────────────────────\n",
      "Complexity  Loss       Score      Equation\n",
      "1           2.403e-06  0.000e+00  y = 576.71\n",
      "3           2.659e-07  1.101e+00  y = x₁ * 175.55\n",
      "5           9.231e-08  5.290e-01  y = (x₀ * x₁) * 0.60679\n",
      "7           2.711e-08  6.126e-01  y = ((x₁ * 0.54087) - -0.36829) * x₀\n",
      "8           2.513e-08  7.591e-02  y = ((x₁ + inv(x₁)) * x₀) * 0.56815\n",
      "9           2.270e-08  1.016e-01  y = (x₀ * 0.58213) * (square(inv(x₁)) + x₁)\n",
      "10          1.708e-08  2.843e-01  y = ((x₁ - (0.33507 - inv(x₁))) * x₀) * 0.60411\n",
      "12          1.396e-08  1.008e-01  y = ((x₁ - (0.36857 - inv(x₁))) * 0.62877) * (x₀ - x₁)\n",
      "16          1.378e-08  3.258e-03  y = (((x₁ - (0.029229 - inv(x₁))) - 0.34224) * ((x₀ - x₁) ...\n",
      "                                      * 0.63137)) - x₁\n",
      "18          1.356e-08  8.259e-03  y = ((x₀ - (x₁ - -4.6681)) * (((x₁ - (0.049569 - inv(x₁)))...\n",
      "                                       - 0.31056) * 0.64032)) + -0.78165\n",
      "19          1.344e-08  8.557e-03  y = (((x₁ - (0.36013 - inv(x₁))) * (x₀ + (inv(x₁) - (x₁ + ...\n",
      "                                      4.141)))) * 0.64032) - x₁\n",
      "20          1.337e-08  5.162e-03  y = ((((x₀ - (x₁ - -4.6681)) * ((x₁ - (0.049569 - inv(x₁))...\n",
      "                                      ) - 0.31056)) * 0.64032) - x₁) + -0.78165\n",
      "21          1.337e-08  1.442e-04  y = (((x₁ - (0.39699 - inv(x₁))) * (x₀ + (inv(x₁) - ((x₁ +...\n",
      "                                       -0.86182) - -5.0771)))) * 0.64446) - x₁\n",
      "25          1.335e-08  3.803e-04  y = ((((x₁ - (0.049539 - inv(x₁))) - 0.31053) * ((x₀ + (0....\n",
      "                                      37272 - (inv(x₀) + (x₁ - -4.7177)))) * 0.64148)) - x₁) + -...\n",
      "                                      1.4343\n",
      "───────────────────────────────────────────────────────────────────────────────────────────────────\n",
      "Current Prediction Average Error (%): 0.857986777750197\n",
      "Best Prediction Average Error (%): 0.4770277128476552\n",
      "Current Model Formula: (x1 - (0.33507258 - 1/x1))*x0*0.60410935\n"
     ]
    },
    {
     "name": "stderr",
     "output_type": "stream",
     "text": [
      "[ Info: Started!\n",
      "[ Info: Final population:\n",
      "[ Info: Results saved to:\n",
      "/home/ajt6830/miniconda3/envs/pysr_env/lib/python3.11/site-packages/pysr/sr.py:2217: UserWarning: The discovered expressions are being reset. Please set `warm_start=True` if you wish to continue to start a search where you left off.\n",
      "  warnings.warn(\n",
      "/home/ajt6830/miniconda3/envs/pysr_env/lib/python3.11/site-packages/pysr/sr.py:2811: UserWarning: Note: it looks like you are running in Jupyter. The progress bar will be turned off.\n",
      "  warnings.warn(\n"
     ]
    },
    {
     "name": "stdout",
     "output_type": "stream",
     "text": [
      "  - outputs/20250702_224707_zB7Nfk/hall_of_fame.csv\n",
      "───────────────────────────────────────────────────────────────────────────────────────────────────\n",
      "Complexity  Loss       Score      Equation\n",
      "1           2.403e-06  0.000e+00  y = 576.82\n",
      "3           2.659e-07  1.101e+00  y = x₁ * 175.55\n",
      "5           9.231e-08  5.290e-01  y = (x₀ * x₁) * 0.60679\n",
      "7           2.711e-08  6.125e-01  y = (0.54152 * x₀) * (x₁ - -0.6747)\n",
      "8           2.513e-08  7.611e-02  y = (x₀ * 0.56816) * (inv(x₁) + x₁)\n",
      "9           2.270e-08  1.016e-01  y = (x₀ * (square(inv(x₁)) + x₁)) * 0.58214\n",
      "10          1.734e-08  2.694e-01  y = ((inv(x₁ + 0.35891) + x₁) * 0.57695) * x₀\n",
      "11          1.712e-08  1.261e-02  y = x₀ * ((square(inv(x₁ - -0.17636)) + x₁) * 0.58214)\n",
      "12          1.541e-08  1.052e-01  y = (x₁ + inv(x₁ * 1.2411)) * ((x₀ * 0.61752) - 12.002)\n",
      "14          1.441e-08  3.350e-02  y = ((x₀ * 0.63198) - 16.709) * (x₁ + inv((x₁ + x₁) - 0.74...\n",
      "                                      932))\n",
      "16          1.437e-08  1.460e-03  y = ((x₀ * 0.63198) - 16.709) * (x₁ + inv(x₁ + (x₁ - (0.74...\n",
      "                                      932 - 0.018509))))\n",
      "18          1.359e-08  2.797e-02  y = ((inv(x₁ + x₁) + (x₁ * 0.51809)) + (-0.095464 - (x₀ * ...\n",
      "                                      (x₁ * -0.00024686)))) * x₀\n",
      "20          1.155e-08  8.122e-02  y = x₀ * (((x₁ * 0.48362) + inv((x₁ + x₁) - 0.048102)) - (...\n",
      "                                      ((x₀ * x₁) - x₀) * -0.0003776))\n",
      "22          1.124e-08  1.389e-02  y = ((inv(x₁ + (x₁ - 0.10347)) + (x₁ * 0.47604)) - (((x₀ *...\n",
      "                                       x₁) - x₀) * -0.00040727)) * (x₀ - 0.82604)\n",
      "───────────────────────────────────────────────────────────────────────────────────────────────────\n",
      "Current Prediction Average Error (%): 0.6845558411278784\n",
      "Best Prediction Average Error (%): 0.4770277128476552\n",
      "Current Model Formula: (x1 + 0.805731782525257/x1)*(x0*0.61752367 - 1*12.001889)\n"
     ]
    },
    {
     "name": "stderr",
     "output_type": "stream",
     "text": [
      "[ Info: Started!\n",
      "[ Info: Final population:\n",
      "[ Info: Results saved to:\n",
      "/home/ajt6830/miniconda3/envs/pysr_env/lib/python3.11/site-packages/pysr/sr.py:1270: UserWarning: `extra_sympy_mappings` cannot be pickled and will be removed from the serialized instance. When loading the model, please redefine `extra_sympy_mappings` at runtime.\n",
      "  warnings.warn(warn_msg)\n",
      "/home/ajt6830/miniconda3/envs/pysr_env/lib/python3.11/site-packages/pysr/sr.py:2217: UserWarning: The discovered expressions are being reset. Please set `warm_start=True` if you wish to continue to start a search where you left off.\n",
      "  warnings.warn(\n",
      "/home/ajt6830/miniconda3/envs/pysr_env/lib/python3.11/site-packages/pysr/sr.py:2811: UserWarning: Note: it looks like you are running in Jupyter. The progress bar will be turned off.\n",
      "  warnings.warn(\n"
     ]
    },
    {
     "name": "stdout",
     "output_type": "stream",
     "text": [
      "  - outputs/20250702_224713_RozGQh/hall_of_fame.csv\n",
      "───────────────────────────────────────────────────────────────────────────────────────────────────\n",
      "Complexity  Loss       Score      Equation\n",
      "1           2.403e-06  0.000e+00  y = 576.9\n",
      "3           2.659e-07  1.101e+00  y = x₁ * 175.55\n",
      "5           9.231e-08  5.290e-01  y = x₁ * (x₀ * 0.6068)\n",
      "7           2.711e-08  6.126e-01  y = x₀ * (0.36955 - (x₁ * -0.5406))\n",
      "9           2.709e-08  3.070e-04  y = (x₀ + -0.59966) * (0.37366 - (x₁ * -0.54036))\n",
      "10          1.364e-08  6.863e-01  y = x₀ + ((x₀ + -85.031) * (x₁ - sqrt(x₁)))\n",
      "12          1.281e-08  3.115e-02  y = x₀ + ((x₀ + -84.774) * ((x₁ - sqrt(x₁)) - 0.039535))\n",
      "14          1.254e-08  1.069e-02  y = (((x₀ + -75.606) * ((x₁ * 0.97315) - sqrt(x₁))) + x₀) ...\n",
      "                                      - 3.6013\n",
      "15          1.090e-08  1.406e-01  y = (((x₀ + -84.795) * (x₁ - sqrt(x₁))) + x₀) - inv(-2.967...\n",
      "                                      3 + x₁)\n",
      "17          1.072e-08  8.019e-03  y = x₁ + (x₀ + ((x₁ - sqrt(x₁)) * (-84.795 + (x₀ - inv(x₁ ...\n",
      "                                      + -2.9673)))))\n",
      "19          1.053e-08  9.338e-03  y = x₁ + (x₀ + ((x₁ - sqrt(x₁ + 0.047864)) * (-84.795 + (x...\n",
      "                                      ₀ - inv(x₁ + -2.9673)))))\n",
      "21          1.051e-08  9.823e-04  y = x₁ + (((x₁ - (sqrt(x₁) + 0.047864)) * (x₀ + -84.795)) ...\n",
      "                                      + (x₀ - (inv(x₁ + -2.9673) + -1.1845)))\n",
      "22          1.024e-08  2.562e-02  y = ((x₁ + x₀) + ((x₁ - (sqrt(x₁) + 0.047864)) * (x₀ + (-8...\n",
      "                                      4.795 - inv(x₁ + -2.9673))))) + cbrt(x₀)\n",
      "24          1.024e-08  5.514e-05  y = (x₁ + ((x₀ + ((x₁ - (0.047864 + sqrt(x₁))) * ((x₀ + -8...\n",
      "                                      4.795) - inv(-2.9673 + x₁)))) + cbrt(x₀))) - -0.36891\n",
      "26          1.009e-08  7.327e-03  y = x₁ + ((((x₁ - (sqrt(x₁) + 0.021889)) * ((x₀ + -85.031)...\n",
      "                                       - inv(x₁ + -2.9422))) + x₀) - (inv(x₁ + -1.0597) + 2.3807...\n",
      "                                      ))\n",
      "───────────────────────────────────────────────────────────────────────────────────────────────────\n",
      "Current Prediction Average Error (%): 0.6163559513508419\n",
      "Best Prediction Average Error (%): 0.4770277128476552\n",
      "Current Model Formula: x0 + (x0 - 85.031105)*(-sqrt(x1) + x1)\n"
     ]
    },
    {
     "name": "stderr",
     "output_type": "stream",
     "text": [
      "[ Info: Started!\n",
      "[ Info: Final population:\n",
      "[ Info: Results saved to:\n",
      "/home/ajt6830/miniconda3/envs/pysr_env/lib/python3.11/site-packages/pysr/sr.py:1270: UserWarning: `extra_sympy_mappings` cannot be pickled and will be removed from the serialized instance. When loading the model, please redefine `extra_sympy_mappings` at runtime.\n",
      "  warnings.warn(warn_msg)\n",
      "/home/ajt6830/miniconda3/envs/pysr_env/lib/python3.11/site-packages/pysr/sr.py:2217: UserWarning: The discovered expressions are being reset. Please set `warm_start=True` if you wish to continue to start a search where you left off.\n",
      "  warnings.warn(\n",
      "/home/ajt6830/miniconda3/envs/pysr_env/lib/python3.11/site-packages/pysr/sr.py:2811: UserWarning: Note: it looks like you are running in Jupyter. The progress bar will be turned off.\n",
      "  warnings.warn(\n"
     ]
    },
    {
     "name": "stdout",
     "output_type": "stream",
     "text": [
      "  - outputs/20250702_224718_TC8Zox/hall_of_fame.csv\n",
      "───────────────────────────────────────────────────────────────────────────────────────────────────\n",
      "Complexity  Loss       Score      Equation\n",
      "1           2.403e-06  0.000e+00  y = 576.78\n",
      "3           2.659e-07  1.101e+00  y = x₁ * 175.55\n",
      "5           9.231e-08  5.290e-01  y = (x₁ * 0.60679) * x₀\n",
      "7           2.711e-08  6.127e-01  y = ((x₁ * 0.54067) + 0.36841) * x₀\n",
      "9           2.683e-08  5.051e-03  y = ((x₀ * 0.55165) + -3.2169) * (x₁ - -0.67909)\n",
      "10          1.644e-08  4.903e-01  y = (x₀ * ((x₁ * 1.3238) + inv(x₁))) * 0.43777\n",
      "12          1.401e-08  7.981e-02  y = ((x₀ * 0.46964) + -15.954) * (inv(x₁) + (x₁ * 1.3962))\n",
      "15          1.399e-08  3.791e-04  y = (inv(x₁) + (x₁ * 1.3962)) * ((x₀ * 0.46964) + (-15.954...\n",
      "                                       + inv(x₁)))\n",
      "17          1.397e-08  8.836e-04  y = ((x₁ * 1.6064) + inv(x₁)) * (((x₀ * 0.38614) - inv(0.9...\n",
      "                                      2262 - x₁)) + -6.7851)\n",
      "18          1.384e-08  9.119e-03  y = ((((x₀ * 0.46964) + -15.954) + inv(cube(x₁))) * ((x₁ *...\n",
      "                                       1.3962) + inv(x₁))) - 0.44823\n",
      "19          1.379e-08  3.814e-03  y = (((x₁ * 1.6063) + inv(x₁)) * (((x₀ * 0.38477) - inv(0....\n",
      "                                      92202 - x₁)) + -6.8589)) + 0.073763\n",
      "21          1.358e-08  7.518e-03  y = ((((x₀ * 0.37324) + -7.5458) - inv(0.88364 - x₁)) * (i...\n",
      "                                      nv(x₁) + ((x₁ * 2.6754) - x₁))) + 0.51252\n",
      "22          1.356e-08  1.688e-03  y = (((((x₀ * 0.38703) + -6.8589) - inv(cube(0.57959 - x₁)...\n",
      "                                      )) * (inv(x₁) + (x₁ * 1.6067))) + -0.34815) - x₁\n",
      "24          1.351e-08  1.945e-03  y = ((((0.38614 * x₀) - inv(0.75117 - (x₁ - 0.17145))) + -...\n",
      "                                      6.8589) * (((1.6064 * x₁) + inv(x₁)) + cube(-0.33178))) - ...\n",
      "                                      0.75117\n",
      "25          1.344e-08  4.965e-03  y = (((x₀ * 0.37324) - inv((((1.6352 - x₁) + 0.017077) - x...\n",
      "                                      ₁) + 0.25715)) + -7.5458) * (((x₁ * 2.6754) + inv(x₁)) - x...\n",
      "                                      ₁)\n",
      "27          1.344e-08  1.416e-04  y = ((((x₀ * 0.37324) - inv((((1.6352 - x₁) + 0.017077) - ...\n",
      "                                      x₁) + 0.25715)) + -7.5458) * (((x₁ * 2.6754) + inv(x₁)) - ...\n",
      "                                      x₁)) + -0.53597\n",
      "30          1.338e-08  1.569e-03  y = (((1.6065 * x₁) + inv(x₁)) * (((0.38731 * x₀) + -6.858...\n",
      "                                      9) - inv(x₁ * (0.38614 - inv(inv(((-0.07998 + x₁) * 1.6065...\n",
      "                                      ) - x₁)))))) - cbrt(x₀)\n",
      "───────────────────────────────────────────────────────────────────────────────────────────────────\n"
     ]
    },
    {
     "name": "stderr",
     "output_type": "stream",
     "text": [
      "[ Info: Started!\n",
      "[ Info: Final population:\n",
      "[ Info: Results saved to:\n",
      "/home/ajt6830/miniconda3/envs/pysr_env/lib/python3.11/site-packages/pysr/sr.py:2217: UserWarning: The discovered expressions are being reset. Please set `warm_start=True` if you wish to continue to start a search where you left off.\n",
      "  warnings.warn(\n",
      "/home/ajt6830/miniconda3/envs/pysr_env/lib/python3.11/site-packages/pysr/sr.py:2811: UserWarning: Note: it looks like you are running in Jupyter. The progress bar will be turned off.\n",
      "  warnings.warn(\n"
     ]
    },
    {
     "name": "stdout",
     "output_type": "stream",
     "text": [
      "Current Prediction Average Error (%): 0.7407974740727973\n",
      "Best Prediction Average Error (%): 0.4770277128476552\n",
      "Current Model Formula: x0*(x1*1.3237762 + 1/x1)*0.43777028\n",
      "  - outputs/20250702_224724_fjjmPw/hall_of_fame.csv\n"
     ]
    },
    {
     "name": "stderr",
     "output_type": "stream",
     "text": [
      "[ Info: Started!\n",
      "[ Info: Final population:\n",
      "[ Info: Results saved to:\n",
      "/home/ajt6830/miniconda3/envs/pysr_env/lib/python3.11/site-packages/pysr/sr.py:2217: UserWarning: The discovered expressions are being reset. Please set `warm_start=True` if you wish to continue to start a search where you left off.\n",
      "  warnings.warn(\n",
      "/home/ajt6830/miniconda3/envs/pysr_env/lib/python3.11/site-packages/pysr/sr.py:2811: UserWarning: Note: it looks like you are running in Jupyter. The progress bar will be turned off.\n",
      "  warnings.warn(\n"
     ]
    },
    {
     "name": "stdout",
     "output_type": "stream",
     "text": [
      "───────────────────────────────────────────────────────────────────────────────────────────────────\n",
      "Complexity  Loss       Score      Equation\n",
      "1           2.403e-06  0.000e+00  y = 576.76\n",
      "3           2.659e-07  1.101e+00  y = x₁ * 175.56\n",
      "5           9.231e-08  5.290e-01  y = x₁ * (x₀ * 0.60678)\n",
      "7           2.711e-08  6.126e-01  y = (x₀ * 0.54099) * (x₁ + 0.67796)\n",
      "8           2.513e-08  7.594e-02  y = ((x₁ + inv(x₁)) * x₀) * 0.56815\n",
      "9           2.270e-08  1.016e-01  y = ((x₁ + square(inv(x₁))) * x₀) * 0.58214\n",
      "10          1.643e-08  3.229e-01  y = x₀ * ((x₁ + (inv(x₁) * 0.75524)) * 0.57967)\n",
      "12          1.612e-08  9.728e-03  y = x₀ * ((x₁ * 0.58869) + inv(x₁ * (x₁ + 1.4542)))\n",
      "13          1.393e-08  1.461e-01  y = ((x₁ * 0.61019) + inv(1.4494 + cube(x₁))) * (x₀ - x₁)\n",
      "15          1.385e-08  2.674e-03  y = ((x₁ * 0.61238) + inv(cube(x₁) + 1.4555)) * ((x₀ - x₁)...\n",
      "                                       + -1.4027)\n",
      "16          1.385e-08  8.440e-05  y = ((x₁ * 0.61238) + inv(cube(x₁) + 1.4555)) * ((x₀ - x₁)...\n",
      "                                       + cbrt(-1.9461))\n",
      "17          1.359e-08  1.920e-02  y = (x₀ - x₁) * ((x₁ * 0.61034) + inv(cube(x₁) + sqrt(cbrt...\n",
      "                                      (x₀ * 0.02357))))\n",
      "18          1.331e-08  2.085e-02  y = (x₀ - x₁) * ((x₁ * 0.61034) + inv((-0.56804 + cbrt(x₀ ...\n",
      "                                      * 0.02357)) + cube(x₁)))\n",
      "20          1.322e-08  3.124e-03  y = (((0.61034 * x₁) + inv((cube(x₁) + -0.56804) + cbrt(x₀...\n",
      "                                       * 0.02357))) * (x₀ - x₁)) + -2.1096\n",
      "24          1.319e-08  6.944e-04  y = ((x₁ * 0.61307) + inv(cube(x₁) + sqrt(x₁ + cube((cbrt(...\n",
      "                                      x₀) * 0.20414) + -0.50411)))) * ((x₀ - x₁) - 1.2272)\n",
      "───────────────────────────────────────────────────────────────────────────────────────────────────\n",
      "Current Prediction Average Error (%): 0.7399812237167878\n",
      "Best Prediction Average Error (%): 0.4770277128476552\n",
      "Current Model Formula: x0*(x1 + 0.75524116/x1)*0.57966816\n",
      "  - outputs/20250702_224730_whP9yE/hall_of_fame.csv\n"
     ]
    },
    {
     "name": "stderr",
     "output_type": "stream",
     "text": [
      "[ Info: Started!\n",
      "[ Info: Final population:\n",
      "[ Info: Results saved to:\n",
      "/home/ajt6830/miniconda3/envs/pysr_env/lib/python3.11/site-packages/pysr/sr.py:2217: UserWarning: The discovered expressions are being reset. Please set `warm_start=True` if you wish to continue to start a search where you left off.\n",
      "  warnings.warn(\n",
      "/home/ajt6830/miniconda3/envs/pysr_env/lib/python3.11/site-packages/pysr/sr.py:2811: UserWarning: Note: it looks like you are running in Jupyter. The progress bar will be turned off.\n",
      "  warnings.warn(\n"
     ]
    },
    {
     "name": "stdout",
     "output_type": "stream",
     "text": [
      "───────────────────────────────────────────────────────────────────────────────────────────────────\n",
      "Complexity  Loss       Score      Equation\n",
      "1           2.403e-06  0.000e+00  y = 576.69\n",
      "3           2.659e-07  1.101e+00  y = x₁ * 175.55\n",
      "5           9.231e-08  5.290e-01  y = x₀ * (x₁ * 0.60679)\n",
      "7           2.711e-08  6.127e-01  y = ((x₁ * 0.54067) + 0.3684) * x₀\n",
      "9           2.577e-08  2.527e-02  y = ((0.51635 * x₁) + 0.40253) * (x₁ + x₀)\n",
      "10          2.453e-08  4.958e-02  y = -1.687 - ((x₁ + inv(x₁)) * (x₀ * -0.56822))\n",
      "12          2.156e-08  6.447e-02  y = (x₀ * (0.1933 + (0.56398 * x₁))) + inv(x₁ * 0.019746)\n",
      "13          1.992e-08  7.891e-02  y = inv(0.019746 * square(x₁)) + (x₀ * ((x₁ * 0.56398) + 0...\n",
      "                                      .1933))\n",
      "14          1.835e-08  8.216e-02  y = (x₀ * ((x₁ + 0.50869) * 0.54915)) + inv(square(square(...\n",
      "                                      x₁ * -0.34747)))\n",
      "16          1.754e-08  2.260e-02  y = (((x₁ * 0.55364) + 0.26556) * x₀) + inv(square(square(...\n",
      "                                      sqrt(square(x₁ * -0.35751)))))\n",
      "18          1.638e-08  3.413e-02  y = inv(x₁ * (0.013634 * x₁)) + ((x₀ - (2.2012 + 2.2012)) ...\n",
      "                                      * ((x₁ * 0.5734) + 0.18547))\n",
      "23          1.633e-08  6.107e-04  y = ((x₁ + 0.49019) * (((x₀ + sqrt(square(square(inv(squar...\n",
      "                                      e(x₁ * -0.31152)) - cbrt(x₁))))) * 0.5481) - -0.24641)) + ...\n",
      "                                      -5.5533\n",
      "25          1.631e-08  5.687e-04  y = (((((x₁ + 0.48983) * 0.55108) * (x₀ + sqrt(square(squa...\n",
      "                                      re(cbrt(x₁) - square(inv(x₁ * 0.31332))))))) + -4.2315) - ...\n",
      "                                      x₁) + 1.0679\n",
      "───────────────────────────────────────────────────────────────────────────────────────────────────\n",
      "Current Prediction Average Error (%): 0.7630841683084557\n",
      "Best Prediction Average Error (%): 0.4770277128476552\n",
      "Current Model Formula: x0*(x1 + 0.50868744)*0.5491474 + 68.6029185015349/x1**4\n",
      "  - outputs/20250702_224736_zKBrJy/hall_of_fame.csv\n",
      "───────────────────────────────────────────────────────────────────────────────────────────────────\n",
      "Complexity  Loss       Score      Equation\n",
      "1           2.403e-06  0.000e+00  y = 576.8\n",
      "3           2.659e-07  1.101e+00  y = x₁ * 175.55\n",
      "5           9.231e-08  5.290e-01  y = x₀ * (0.60679 * x₁)\n",
      "7           2.711e-08  6.126e-01  y = x₀ * ((x₁ * 0.54052) - -0.36824)\n",
      "8           2.513e-08  7.591e-02  y = (x₁ + inv(x₁)) * (x₀ * 0.56815)\n",
      "9           2.270e-08  1.016e-01  y = ((x₁ + inv(square(x₁))) * x₀) * 0.58214\n",
      "10          1.640e-08  3.251e-01  y = ((inv(x₁) + (x₁ + -0.25618)) * 0.59714) * x₀\n",
      "11          1.605e-08  2.154e-02  y = (x₀ * 0.58762) * (inv(square(x₁) + 0.25475) + x₁)\n",
      "12          1.579e-08  1.649e-02  y = (x₁ + inv((x₁ * x₁) + 0.35617)) * (x₀ * 0.58913)\n",
      "14          1.441e-08  4.548e-02  y = ((inv((x₁ * x₁) + 0.47637) + x₁) * 0.60827) * (x₀ - x₁...\n",
      "                                      )\n",
      "───────────────────────────────────────────────────────────────────────────────────────────────────\n",
      "Current Prediction Average Error (%): 0.7937693318407086\n",
      "Best Prediction Average Error (%): 0.4770277128476552\n",
      "Current Model Formula: (x1 - 0.25617918 + 1/x1)*0.5971436*x0\n"
     ]
    },
    {
     "name": "stderr",
     "output_type": "stream",
     "text": [
      "[ Info: Started!\n",
      "[ Info: Final population:\n",
      "[ Info: Results saved to:\n",
      "/home/ajt6830/miniconda3/envs/pysr_env/lib/python3.11/site-packages/pysr/sr.py:2217: UserWarning: The discovered expressions are being reset. Please set `warm_start=True` if you wish to continue to start a search where you left off.\n",
      "  warnings.warn(\n",
      "/home/ajt6830/miniconda3/envs/pysr_env/lib/python3.11/site-packages/pysr/sr.py:2811: UserWarning: Note: it looks like you are running in Jupyter. The progress bar will be turned off.\n",
      "  warnings.warn(\n"
     ]
    },
    {
     "name": "stdout",
     "output_type": "stream",
     "text": [
      "  - outputs/20250702_224741_DWVnQ7/hall_of_fame.csv\n",
      "───────────────────────────────────────────────────────────────────────────────────────────────────\n",
      "Complexity  Loss       Score      Equation\n",
      "1           2.403e-06  0.000e+00  y = 576.8\n",
      "3           2.659e-07  1.101e+00  y = x₁ * 175.55\n",
      "5           9.231e-08  5.290e-01  y = (x₀ * x₁) * 0.60679\n",
      "7           2.711e-08  6.127e-01  y = ((x₁ * 0.54065) + 0.36849) * x₀\n",
      "8           2.513e-08  7.589e-02  y = ((inv(x₁) + x₁) * x₀) * 0.56815\n",
      "9           2.270e-08  1.016e-01  y = (square(inv(x₁)) + x₁) * (x₀ * 0.58214)\n",
      "10          1.683e-08  2.989e-01  y = (((x₁ + inv(x₁)) * x₀) * 0.58991) - 35.414\n",
      "12          1.359e-08  1.070e-01  y = ((x₁ + inv(x₁)) + -0.25486) * ((x₀ * 0.65119) + -16.16...\n",
      "                                      4)\n",
      "13          1.244e-08  8.879e-02  y = ((x₀ * 0.66965) + -24.098) * (inv(square(x₁) + 0.33407...\n",
      "                                      ) + x₁)\n",
      "15          1.240e-08  1.419e-03  y = ((x₀ * -0.32828) + (x₀ + -24.479)) * (inv(square(x₁) +...\n",
      "                                       0.37216) + x₁)\n",
      "17          1.233e-08  2.804e-03  y = (((x₀ - 1.413) * 0.6915) + -29.555) * (inv(square(x₁ +...\n",
      "                                       -0.19801) + 0.741) + x₁)\n",
      "18          1.226e-08  5.991e-03  y = (x₁ + inv(square(x₁ + cube(inv(square(x₁ + 0.33404))))...\n",
      "                                      )) * ((x₀ * 0.66851) + -23.774)\n",
      "19          1.220e-08  5.223e-03  y = (((x₀ + -41.166) * 0.7026) + -3.2066) * ((sqrt(inv(squ...\n",
      "                                      are(square(x₁)) + 0.7026)) + x₁) + -0.063967)\n",
      "21          1.209e-08  4.426e-03  y = (((x₀ * 0.69302) - cbrt(cbrt((x₁ + x₁) + -3.1044))) + ...\n",
      "                                      -29.555) * (inv(square(x₁) + 0.41488) + x₁)\n",
      "24          1.205e-08  1.103e-03  y = (((x₀ + -41.166) * 0.7026) + -3.2066) * (inv(sqrt(squa...\n",
      "                                      re(square(x₁)) + inv(square(square(x₁)) + 0.65289))) + (x₁...\n",
      "                                       + -0.063967))\n",
      "25          1.204e-08  1.037e-03  y = (((x₀ * 0.69302) - cbrt(cbrt(x₁ + (x₁ + -3.1044)))) + ...\n",
      "                                      -29.555) * (inv(square(x₁) + inv(cube(x₁) + 1.3495)) + x₁)\n",
      "26          1.148e-08  4.739e-02  y = ((x₁ + inv(square(x₁) + inv(cube(x₁) + 1.3723))) * ((-...\n",
      "                                      29.918 - inv(cube(cbrt(x₁ + -2.8825)))) + (x₀ * 0.69302)))...\n",
      "                                       + 1.5697\n",
      "27          1.138e-08  8.758e-03  y = (((x₀ * 0.69302) + (-29.918 - cube(cbrt(inv(x₁ + -2.88...\n",
      "                                      25))))) * (x₁ + inv(square(x₁) + inv(x₁ + inv(x₁))))) + sq...\n",
      "                                      uare(-2.8825)\n",
      "28          1.109e-08  2.545e-02  y = (((-29.918 - inv(cube(cbrt(x₁ + -2.8825)))) + (x₀ * 0....\n",
      "                                      69302)) * (x₁ + inv(square(x₁) + inv(x₁ + x₁)))) + (square...\n",
      "                                      (-2.8825) - x₁)\n",
      "───────────────────────────────────────────────────────────────────────────────────────────────────\n"
     ]
    },
    {
     "name": "stderr",
     "output_type": "stream",
     "text": [
      "[ Info: Started!\n",
      "[ Info: Final population:\n",
      "[ Info: Results saved to:\n"
     ]
    },
    {
     "name": "stdout",
     "output_type": "stream",
     "text": [
      "Current Prediction Average Error (%): 0.6940125696543951\n",
      "Best Prediction Average Error (%): 0.4770277128476552\n",
      "Current Model Formula: (x0*0.6511883 - 16.164328)*(x1 - 0.2548616 + 1/x1)\n"
     ]
    },
    {
     "name": "stderr",
     "output_type": "stream",
     "text": [
      "/home/ajt6830/miniconda3/envs/pysr_env/lib/python3.11/site-packages/pysr/sr.py:1270: UserWarning: `extra_sympy_mappings` cannot be pickled and will be removed from the serialized instance. When loading the model, please redefine `extra_sympy_mappings` at runtime.\n",
      "  warnings.warn(warn_msg)\n",
      "/home/ajt6830/miniconda3/envs/pysr_env/lib/python3.11/site-packages/pysr/sr.py:2217: UserWarning: The discovered expressions are being reset. Please set `warm_start=True` if you wish to continue to start a search where you left off.\n",
      "  warnings.warn(\n",
      "/home/ajt6830/miniconda3/envs/pysr_env/lib/python3.11/site-packages/pysr/sr.py:2811: UserWarning: Note: it looks like you are running in Jupyter. The progress bar will be turned off.\n",
      "  warnings.warn(\n"
     ]
    },
    {
     "name": "stdout",
     "output_type": "stream",
     "text": [
      "  - outputs/20250702_224746_7ZTfTC/hall_of_fame.csv\n"
     ]
    },
    {
     "name": "stderr",
     "output_type": "stream",
     "text": [
      "[ Info: Started!\n",
      "[ Info: Final population:\n",
      "[ Info: Results saved to:\n",
      "/home/ajt6830/miniconda3/envs/pysr_env/lib/python3.11/site-packages/pysr/sr.py:2217: UserWarning: The discovered expressions are being reset. Please set `warm_start=True` if you wish to continue to start a search where you left off.\n",
      "  warnings.warn(\n",
      "/home/ajt6830/miniconda3/envs/pysr_env/lib/python3.11/site-packages/pysr/sr.py:2811: UserWarning: Note: it looks like you are running in Jupyter. The progress bar will be turned off.\n",
      "  warnings.warn(\n"
     ]
    },
    {
     "name": "stdout",
     "output_type": "stream",
     "text": [
      "───────────────────────────────────────────────────────────────────────────────────────────────────\n",
      "Complexity  Loss       Score      Equation\n",
      "1           2.403e-06  0.000e+00  y = 576.85\n",
      "3           2.659e-07  1.101e+00  y = x₁ * 175.56\n",
      "5           9.231e-08  5.290e-01  y = (x₁ * x₀) * 0.60679\n",
      "7           2.711e-08  6.127e-01  y = ((x₁ * 0.54065) + 0.3684) * x₀\n",
      "8           2.513e-08  7.589e-02  y = (x₁ + inv(x₁)) * (x₀ * 0.56816)\n",
      "9           2.398e-08  4.662e-02  y = (x₀ * (inv(cube(x₁)) + x₁)) * 0.58676\n",
      "10          1.746e-08  3.173e-01  y = ((inv(x₁ + 0.30935) + x₁) * x₀) * 0.57739\n",
      "12          1.453e-08  9.176e-02  y = (0.65516 * (x₀ + -32.451)) * (x₁ + inv(x₁ * 1.5313))\n",
      "13          1.351e-08  7.310e-02  y = (inv(square(x₁) + 0.2224) + x₁) * (0.65516 * (x₀ + -32...\n",
      "                                      .451))\n",
      "14          1.318e-08  2.456e-02  y = (x₁ + inv(sqrt(cube(x₁) + x₁))) * ((x₀ + -38.891) * 0....\n",
      "                                      67348)\n",
      "15          1.217e-08  7.962e-02  y = ((x₁ + inv(cbrt(square(cube(x₁)) + 1.698))) * (x₀ + -4...\n",
      "                                      1.227)) * 0.68408\n",
      "17          1.217e-08  5.960e-08  y = ((x₁ + inv(cbrt(square(cube(x₁)) + 1.698))) * ((x₀ + -...\n",
      "                                      41.124) - 0.10376)) * 0.68408\n",
      "27          1.206e-08  9.370e-04  y = ((x₁ + cube(cbrt(inv((cube((inv(cube(cbrt(cube(x₁)) + ...\n",
      "                                      0.40951)) + x₁) * 0.68621) * x₁) + 0.57247)))) * (x₀ + -37...\n",
      "                                      .544)) * 0.67725\n",
      "───────────────────────────────────────────────────────────────────────────────────────────────────\n",
      "Current Prediction Average Error (%): 0.7520290099457947\n",
      "Best Prediction Average Error (%): 0.4770277128476552\n",
      "Current Model Formula: (x1 + 1/(x1 + 0.30935255))*x0*0.5773939\n",
      "  - outputs/20250702_224751_pEGDkA/hall_of_fame.csv\n",
      "───────────────────────────────────────────────────────────────────────────────────────────────────\n",
      "Complexity  Loss       Score      Equation\n",
      "1           2.403e-06  0.000e+00  y = 576.76\n",
      "3           2.659e-07  1.101e+00  y = x₁ * 175.55\n",
      "5           9.231e-08  5.290e-01  y = (0.60679 * x₁) * x₀\n",
      "7           2.711e-08  6.127e-01  y = x₀ * ((x₁ * 0.5407) + 0.36825)\n",
      "8           2.513e-08  7.589e-02  y = (x₀ * (x₁ + inv(x₁))) * 0.56816\n",
      "9           2.276e-08  9.883e-02  y = 0.58026 * ((x₁ + inv(square(x₁))) * x₀)\n",
      "10          1.637e-08  3.295e-01  y = ((inv(x₁ * 1.3557) + x₁) * 0.58026) * x₀\n",
      "11          1.626e-08  6.649e-03  y = x₀ * (square(inv(x₁ * -1.5081)) + (x₁ * 0.59036))\n",
      "12          1.544e-08  5.197e-02  y = (x₀ - 11.679) * ((x₁ * 0.60913) + inv(x₁ * 2.3529))\n",
      "13          1.438e-08  7.099e-02  y = (x₀ - x₁) * (inv(square(x₁ * -1.5079)) + (x₁ * 0.60913...\n",
      "                                      ))\n",
      "15          1.423e-08  5.194e-03  y = ((x₁ * 0.61238) + inv(square(x₁ * 1.5057))) * ((x₀ - x...\n",
      "                                      ₁) - 1.9603)\n",
      "20          1.423e-08  3.856e-05  y = (((x₀ - x₁) * (inv(cube(x₁) * square(1.5559 - (x₁ * 0....\n",
      "                                      044645))) + 0.61238)) - 1.4842) * x₁\n",
      "23          1.415e-08  1.862e-03  y = (((0.61238 + inv(cube(x₁) * square(1.5559 - square(-1....\n",
      "                                      4431 * (x₁ * 0.044645))))) * (x₀ - x₁)) - 1.9603) * x₁\n",
      "25          1.409e-08  2.298e-03  y = ((((0.61238 + inv(cube(x₁) * square(1.5559 - square(-1...\n",
      "                                      .4431 * (x₁ * 0.044645))))) * (x₀ - x₁)) - 1.9603) * x₁) -...\n",
      "                                       -1.1766\n",
      "───────────────────────────────────────────────────────────────────────────────────────────────────\n",
      "Current Prediction Average Error (%): 0.7442908105353149\n",
      "Best Prediction Average Error (%): 0.4770277128476552\n",
      "Current Model Formula: (x1 + 0.737646396069938/x1)*0.5802562*x0\n"
     ]
    },
    {
     "name": "stderr",
     "output_type": "stream",
     "text": [
      "[ Info: Started!\n",
      "[ Info: Final population:\n",
      "[ Info: Results saved to:\n",
      "/home/ajt6830/miniconda3/envs/pysr_env/lib/python3.11/site-packages/pysr/sr.py:2217: UserWarning: The discovered expressions are being reset. Please set `warm_start=True` if you wish to continue to start a search where you left off.\n",
      "  warnings.warn(\n",
      "/home/ajt6830/miniconda3/envs/pysr_env/lib/python3.11/site-packages/pysr/sr.py:2811: UserWarning: Note: it looks like you are running in Jupyter. The progress bar will be turned off.\n",
      "  warnings.warn(\n"
     ]
    },
    {
     "name": "stdout",
     "output_type": "stream",
     "text": [
      "  - outputs/20250702_224757_XSxmJF/hall_of_fame.csv\n",
      "───────────────────────────────────────────────────────────────────────────────────────────────────\n",
      "Complexity  Loss       Score      Equation\n",
      "1           2.403e-06  0.000e+00  y = 576.78\n",
      "3           2.659e-07  1.101e+00  y = x₁ * 175.55\n",
      "5           9.231e-08  5.290e-01  y = (x₁ * x₀) * 0.60679\n",
      "7           2.711e-08  6.127e-01  y = ((x₁ * 0.54069) + 0.36826) * x₀\n",
      "8           2.513e-08  7.589e-02  y = (x₀ * (inv(x₁) + x₁)) * 0.56815\n",
      "9           2.270e-08  1.016e-01  y = ((x₁ + inv(square(x₁))) * 0.58214) * x₀\n",
      "10          1.709e-08  2.841e-01  y = (-0.16333 + ((inv(x₁) + x₁) * 0.59274)) * x₀\n",
      "11          1.662e-08  2.783e-02  y = (0.59274 * (cube(-0.62871) + (x₁ + inv(x₁)))) * x₀\n",
      "12          1.575e-08  5.385e-02  y = x₀ * ((x₁ * 0.58781) + inv(x₁ * (x₁ + 1.3161)))\n",
      "13          1.572e-08  1.685e-03  y = x₁ * (x₀ * (inv(x₁ + (cube(x₁) * 1.3162)) + 0.58747))\n",
      "14          1.541e-08  1.980e-02  y = (x₀ + -2.7226) * (inv(x₁ * (x₁ + 1.3161)) + (0.59274 *...\n",
      "                                       x₁))\n",
      "16          1.306e-08  8.276e-02  y = (((x₀ * 0.8429) - x₁) - x₁) * ((x₁ + 0.7245) - sqrt(x₁...\n",
      "                                       + -0.75016))\n",
      "18          1.278e-08  1.076e-02  y = ((x₁ - sqrt(x₁ + -0.75073)) + 0.72611) * (((x₀ * 0.852...\n",
      "                                      59) - (x₁ + 2.9864)) - x₁)\n",
      "19          1.251e-08  2.153e-02  y = ((0.88978 * ((x₀ - x₁) - sqrt(x₀))) - x₁) * (x₁ + (0.7...\n",
      "                                      3416 - sqrt(x₁ + -0.75415)))\n",
      "21          1.243e-08  3.042e-03  y = (((x₁ + 0.73416) - sqrt(x₁ + -0.75415)) * (0.88978 * (...\n",
      "                                      (x₀ - x₁) - (x₁ + sqrt(x₀))))) - x₁\n",
      "23          1.231e-08  5.094e-03  y = ((((x₁ + 0.73528) - sqrt(x₁ + -0.75449)) * 0.8955) * (...\n",
      "                                      ((x₀ - 1.8472) - (x₁ + sqrt(x₀))) - x₁)) - x₁\n",
      "24          1.230e-08  2.895e-04  y = (((((x₀ - cube(1.2897)) - (sqrt(x₀) + x₁)) - x₁) * 0.8...\n",
      "                                      955) * ((x₁ + 0.73528) - sqrt(x₁ + -0.75449))) - x₁\n",
      "25          1.228e-08  2.280e-03  y = (((x₁ + 0.73455) - sqrt(x₁ + -0.73754)) * (((x₀ - (x₁ ...\n",
      "                                      + sqrt(x₀ * 0.85304))) * 0.89655) - (x₁ + 1.9012))) - x₁\n",
      "26          1.227e-08  6.959e-04  y = (x₁ + (0.73455 - sqrt(-0.73754 + x₁))) * ((((x₀ - (sqr...\n",
      "                                      t(x₀) + x₁)) * 0.89655) - (1.9756 + x₁)) + inv(x₁ - 0.7345...\n",
      "                                      5))\n",
      "27          1.227e-08  9.001e-05  y = ((x₁ + (0.73455 - sqrt(-0.73754 + x₁))) * (((x₀ - (sqr...\n",
      "                                      t(x₀ * 0.85304) + x₁)) * 0.89655) - (1.9756 + x₁))) - (x₁ ...\n",
      "                                      - 0.73455)\n",
      "28          1.225e-08  1.573e-03  y = (((0.73455 - sqrt(-0.73754 + x₁)) + x₁) * (((x₀ - (sqr...\n",
      "                                      t(x₀ * 0.85304) + x₁)) * 0.89655) - (1.9756 + x₁))) + (inv...\n",
      "                                      (x₁) - x₁)\n",
      "30          1.217e-08  3.007e-03  y = ((((x₁ + 0.73607) - sqrt(x₁ + -0.72605)) * (((x₀ * 0.9...\n",
      "                                      0603) - (sqrt(x₀ * 0.85275) + x₁)) - (x₁ + 1.9012))) - x₁)...\n",
      "                                       + inv(x₁ + -0.73757)\n",
      "───────────────────────────────────────────────────────────────────────────────────────────────────\n",
      "Current Prediction Average Error (%): 0.8718930869741323\n",
      "Best Prediction Average Error (%): 0.4770277128476552\n"
     ]
    },
    {
     "name": "stderr",
     "output_type": "stream",
     "text": [
      "[ Info: Started!\n",
      "[ Info: Final population:\n",
      "[ Info: Results saved to:\n"
     ]
    },
    {
     "name": "stdout",
     "output_type": "stream",
     "text": [
      "Current Model Formula: x0*((x1 + 1/x1)*0.5927421 - 0.16332959)\n"
     ]
    },
    {
     "name": "stderr",
     "output_type": "stream",
     "text": [
      "/home/ajt6830/miniconda3/envs/pysr_env/lib/python3.11/site-packages/pysr/sr.py:2217: UserWarning: The discovered expressions are being reset. Please set `warm_start=True` if you wish to continue to start a search where you left off.\n",
      "  warnings.warn(\n",
      "/home/ajt6830/miniconda3/envs/pysr_env/lib/python3.11/site-packages/pysr/sr.py:2811: UserWarning: Note: it looks like you are running in Jupyter. The progress bar will be turned off.\n",
      "  warnings.warn(\n"
     ]
    },
    {
     "name": "stdout",
     "output_type": "stream",
     "text": [
      "  - outputs/20250702_224802_FoDXav/hall_of_fame.csv\n"
     ]
    },
    {
     "name": "stderr",
     "output_type": "stream",
     "text": [
      "[ Info: Started!\n",
      "[ Info: Final population:\n",
      "[ Info: Results saved to:\n"
     ]
    },
    {
     "name": "stdout",
     "output_type": "stream",
     "text": [
      "───────────────────────────────────────────────────────────────────────────────────────────────────\n",
      "Complexity  Loss       Score      Equation\n",
      "1           2.403e-06  0.000e+00  y = 576.75\n",
      "3           2.659e-07  1.101e+00  y = x₁ * 175.55\n",
      "5           9.231e-08  5.290e-01  y = (x₀ * x₁) * 0.60679\n",
      "7           2.711e-08  6.126e-01  y = ((x₁ * 0.54055) + 0.3686) * x₀\n",
      "8           2.513e-08  7.590e-02  y = ((inv(x₁) + x₁) * x₀) * 0.56815\n",
      "9           2.290e-08  9.279e-02  y = 0.5855 * ((inv(square(x₁)) + x₁) * x₀)\n",
      "10          1.732e-08  2.792e-01  y = x₀ * ((x₁ * 0.5855) - inv(-2.2221 * x₁))\n",
      "11          1.654e-08  4.639e-02  y = x₀ * ((x₁ * 0.5855) - inv(-2.2221 * square(x₁)))\n",
      "12          1.579e-08  4.600e-02  y = ((x₁ + inv((0.31386 - x₁) * -1.9705)) * 0.58389) * x₀\n",
      "15          1.559e-08  4.342e-03  y = (x₀ * ((inv(-1.9705 * (square(0.5855) - x₁)) + x₁) * 0...\n",
      "                                      .5855)) - x₁\n",
      "17          1.554e-08  1.466e-03  y = ((x₀ * x₁) * 0.58688) - ((inv(x₁ - 0.56297) * -1.3179)...\n",
      "                                       * cbrt(x₀ * x₀))\n",
      "18          1.512e-08  2.779e-02  y = -1.361 + ((((x₀ - x₁) * x₁) * 0.60155) + cbrt(square(i...\n",
      "                                      nv(0.80725 - x₁) * x₀)))\n",
      "20          1.508e-08  1.364e-03  y = (((x₀ - x₁) * x₁) * 0.60155) + (cbrt(square((x₀ * inv(...\n",
      "                                      x₁ - 0.80725)) + x₁)) - 0.69568)\n",
      "21          1.481e-08  1.791e-02  y = cbrt(square(inv(x₁ - 0.80725) * (x₀ - cube(x₁)))) + ((...\n",
      "                                      (x₀ - x₁) * (x₁ * 0.60155)) - 0.035024)\n",
      "23          1.481e-08  2.796e-05  y = cbrt(square(inv(x₁ - 0.80725) * (x₀ - cube(x₁))) + x₁)...\n",
      "                                       + (((x₀ - x₁) * (x₁ * 0.60155)) - 0.035024)\n",
      "25          1.477e-08  1.289e-03  y = cbrt(x₀ + (x₀ + square(inv(0.80725 - x₁) * (x₀ - cube(...\n",
      "                                      x₁))))) + ((((x₀ - x₁) * x₁) * 0.60155) - 1.5208)\n",
      "29          1.461e-08  2.686e-03  y = sqrt(((x₀ + (x₀ * square(x₁))) * ((0.34848 * x₀) + -1....\n",
      "                                      8061)) - ((cube(x₁) - ((square(2.7072 * inv(x₁)) - 1.1875)...\n",
      "                                       * x₀)) * sqrt(x₀)))\n",
      "30          1.458e-08  2.167e-03  y = sqrt(((x₀ + (square(x₁) * x₀)) * ((0.34848 * x₀) + -1....\n",
      "                                      8061)) - ((cube(x₁) - ((square(2.7072 * inv(x₁)) - sqrt(1....\n",
      "                                      1875)) * x₀)) * sqrt(x₀)))\n",
      "───────────────────────────────────────────────────────────────────────────────────────────────────\n",
      "Current Prediction Average Error (%): 0.720859030424125\n",
      "Best Prediction Average Error (%): 0.4770277128476552\n",
      "Current Model Formula: x0*(x1*0.5854983 - (-1)*0.450026189274085/x1)\n"
     ]
    },
    {
     "name": "stderr",
     "output_type": "stream",
     "text": [
      "/home/ajt6830/miniconda3/envs/pysr_env/lib/python3.11/site-packages/pysr/sr.py:2217: UserWarning: The discovered expressions are being reset. Please set `warm_start=True` if you wish to continue to start a search where you left off.\n",
      "  warnings.warn(\n",
      "/home/ajt6830/miniconda3/envs/pysr_env/lib/python3.11/site-packages/pysr/sr.py:2811: UserWarning: Note: it looks like you are running in Jupyter. The progress bar will be turned off.\n",
      "  warnings.warn(\n"
     ]
    },
    {
     "name": "stdout",
     "output_type": "stream",
     "text": [
      "  - outputs/20250702_224808_5HjanN/hall_of_fame.csv\n",
      "───────────────────────────────────────────────────────────────────────────────────────────────────\n",
      "Complexity  Loss       Score      Equation\n",
      "1           2.403e-06  0.000e+00  y = 576.72\n",
      "3           2.659e-07  1.101e+00  y = x₁ * 175.56\n",
      "5           9.231e-08  5.290e-01  y = (x₁ * 0.60679) * x₀\n",
      "7           2.711e-08  6.127e-01  y = ((x₁ * 0.54072) + 0.36819) * x₀\n",
      "8           2.513e-08  7.589e-02  y = ((inv(x₁) + x₁) * x₀) * 0.56815\n",
      "10          1.626e-08  2.175e-01  y = ((x₀ * 0.59734) * (x₁ + inv(x₁))) - 47.486\n",
      "12          1.613e-08  4.075e-03  y = ((((x₁ + inv(x₁)) * x₀) * 0.60043) - 47.486) - x₁\n",
      "13          1.326e-08  1.957e-01  y = (inv(square(x₁) + x₁) + (x₁ * 0.64023)) * (x₀ - 24.563...\n",
      "                                      )\n",
      "───────────────────────────────────────────────────────────────────────────────────────────────────\n",
      "Current Prediction Average Error (%): 0.8053413687844001\n",
      "Best Prediction Average Error (%): 0.4770277128476552\n",
      "Current Model Formula: x0*0.59734017*(x1 + 1/x1) - 1*47.486237\n"
     ]
    },
    {
     "name": "stderr",
     "output_type": "stream",
     "text": [
      "[ Info: Started!\n",
      "[ Info: Final population:\n",
      "[ Info: Results saved to:\n",
      "/home/ajt6830/miniconda3/envs/pysr_env/lib/python3.11/site-packages/pysr/sr.py:2217: UserWarning: The discovered expressions are being reset. Please set `warm_start=True` if you wish to continue to start a search where you left off.\n",
      "  warnings.warn(\n",
      "/home/ajt6830/miniconda3/envs/pysr_env/lib/python3.11/site-packages/pysr/sr.py:2811: UserWarning: Note: it looks like you are running in Jupyter. The progress bar will be turned off.\n",
      "  warnings.warn(\n"
     ]
    },
    {
     "name": "stdout",
     "output_type": "stream",
     "text": [
      "  - outputs/20250702_224813_v1fhLQ/hall_of_fame.csv\n",
      "───────────────────────────────────────────────────────────────────────────────────────────────────\n",
      "Complexity  Loss       Score      Equation\n",
      "1           2.403e-06  0.000e+00  y = 576.76\n",
      "3           2.659e-07  1.101e+00  y = x₁ * 175.55\n",
      "5           9.231e-08  5.290e-01  y = (x₁ * x₀) * 0.60679\n",
      "7           2.711e-08  6.127e-01  y = x₀ * ((x₁ * 0.5407) + 0.36823)\n",
      "8           2.513e-08  7.589e-02  y = (x₀ * 0.56816) * (x₁ + inv(x₁))\n",
      "9           2.270e-08  1.016e-01  y = ((inv(square(x₁)) + x₁) * 0.58214) * x₀\n",
      "10          1.638e-08  3.260e-01  y = (((x₁ + inv(x₁)) + -0.26356) * 0.59775) * x₀\n",
      "12          1.581e-08  1.774e-02  y = (x₀ * 0.29145) * ((x₁ + inv(x₁ - 0.36048)) + x₁)\n",
      "13          1.576e-08  3.398e-03  y = ((inv(x₁ - square(0.58193)) + (x₁ + x₁)) * x₀) * 0.292...\n",
      "                                      18\n",
      "14          1.448e-08  8.495e-02  y = (inv(x₁ - 0.34574) + (x₁ + x₁)) * ((x₀ - 11.286) * 0.3...\n",
      "                                      0322)\n",
      "16          1.446e-08  4.408e-04  y = ((inv(x₁ - 0.34574) + (x₁ + x₁)) * ((x₀ - 11.286) * 0....\n",
      "                                      30322)) - 0.47964\n",
      "18          1.360e-08  3.080e-02  y = ((x₀ * 0.32277) + -8.4475) * ((x₁ + (cube(inv(x₁)) + i...\n",
      "                                      nv(x₁ + x₁))) + x₁)\n",
      "19          1.299e-08  4.577e-02  y = ((x₀ * 0.33107) + -11.563) * ((x₁ + cube(inv(sqrt(x₁))...\n",
      "                                      )) + (inv(x₁ + x₁) + x₁))\n",
      "20          1.298e-08  7.208e-04  y = ((0.32277 * x₀) + -8.4475) * ((x₁ + sqrt(inv(cube(x₁))...\n",
      "                                      )) + (inv(x₁ + cube(x₁)) + x₁))\n",
      "22          1.248e-08  1.977e-02  y = (((sqrt(inv(cube(x₁))) + x₁) + x₁) + square(inv(sqrt(c...\n",
      "                                      ube(x₁) + x₁)))) * ((x₀ * 0.33956) + -13.468)\n",
      "24          1.243e-08  1.841e-03  y = ((x₀ * 0.3402) + -13.66) * ((inv(sqrt(square(cube(x₁) ...\n",
      "                                      + x₁) - -0.60481)) + x₁) + (x₁ + cube(inv(sqrt(x₁)))))\n",
      "25          1.228e-08  1.198e-02  y = ((x₀ * 0.3402) + -13.66) * (inv(sqrt(square(cube(x₁) +...\n",
      "                                       inv(x₁)) - -0.60481)) + (x₁ + (x₁ + cube(inv(sqrt(x₁)))))...\n",
      "                                      )\n",
      "30          1.223e-08  8.617e-04  y = ((((x₀ * 0.33976) + -13.66) * (inv(sqrt(square(inv(x₁)...\n",
      "                                       + cube(x₁)) - -0.60481)) + (x₁ + (cube(sqrt(inv(x₁))) + x...\n",
      "                                      ₁)))) - -1.021) + inv(x₁)\n",
      "───────────────────────────────────────────────────────────────────────────────────────────────────\n",
      "Current Prediction Average Error (%): 0.7987485085202793\n",
      "Best Prediction Average Error (%): 0.4770277128476552\n",
      "Current Model Formula: (x1 - 0.2635585 + 1/x1)*0.5977481*x0\n"
     ]
    },
    {
     "name": "stderr",
     "output_type": "stream",
     "text": [
      "[ Info: Started!\n",
      "[ Info: Final population:\n",
      "[ Info: Results saved to:\n",
      "/home/ajt6830/miniconda3/envs/pysr_env/lib/python3.11/site-packages/pysr/sr.py:2217: UserWarning: The discovered expressions are being reset. Please set `warm_start=True` if you wish to continue to start a search where you left off.\n",
      "  warnings.warn(\n",
      "/home/ajt6830/miniconda3/envs/pysr_env/lib/python3.11/site-packages/pysr/sr.py:2811: UserWarning: Note: it looks like you are running in Jupyter. The progress bar will be turned off.\n",
      "  warnings.warn(\n"
     ]
    },
    {
     "name": "stdout",
     "output_type": "stream",
     "text": [
      "  - outputs/20250702_224818_7d3g3e/hall_of_fame.csv\n"
     ]
    },
    {
     "name": "stderr",
     "output_type": "stream",
     "text": [
      "[ Info: Started!\n",
      "[ Info: Final population:\n",
      "[ Info: Results saved to:\n",
      "/home/ajt6830/miniconda3/envs/pysr_env/lib/python3.11/site-packages/pysr/sr.py:2217: UserWarning: The discovered expressions are being reset. Please set `warm_start=True` if you wish to continue to start a search where you left off.\n",
      "  warnings.warn(\n",
      "/home/ajt6830/miniconda3/envs/pysr_env/lib/python3.11/site-packages/pysr/sr.py:2811: UserWarning: Note: it looks like you are running in Jupyter. The progress bar will be turned off.\n",
      "  warnings.warn(\n"
     ]
    },
    {
     "name": "stdout",
     "output_type": "stream",
     "text": [
      "───────────────────────────────────────────────────────────────────────────────────────────────────\n",
      "Complexity  Loss       Score      Equation\n",
      "1           2.403e-06  0.000e+00  y = 576.8\n",
      "3           2.659e-07  1.101e+00  y = x₁ * 175.55\n",
      "5           9.231e-08  5.290e-01  y = (x₀ * x₁) * 0.60679\n",
      "7           2.711e-08  6.126e-01  y = x₀ * ((x₁ * 0.54099) + 0.3664)\n",
      "8           2.513e-08  7.596e-02  y = ((x₁ + inv(x₁)) * x₀) * 0.56815\n",
      "9           2.270e-08  1.016e-01  y = (x₀ * (x₁ + inv(square(x₁)))) * 0.58214\n",
      "10          1.638e-08  3.261e-01  y = x₀ * (((x₁ + inv(x₁)) * 0.59829) + -0.16028)\n",
      "12          1.396e-08  7.995e-02  y = (0.62849 * (x₀ - x₁)) * (inv(x₁) + (-0.36862 + x₁))\n",
      "14          1.395e-08  2.838e-04  y = ((0.62849 * (x₀ - x₁)) * (inv(x₁) + (-0.36862 + x₁))) ...\n",
      "                                      - x₁\n",
      "16          1.391e-08  1.546e-03  y = ((((x₀ - x₁) + -1.2688) * 0.62849) * (inv(x₁) + (x₁ + ...\n",
      "                                      -0.36862))) - -1.4669\n",
      "18          1.391e-08  2.423e-05  y = (((((x₀ - x₁) + -0.84386) - 0.42493) * 0.62849) * ((in...\n",
      "                                      v(x₁) + x₁) + -0.36862)) - -1.5925\n",
      "19          1.368e-08  1.633e-02  y = (((x₀ - x₁) + -0.77802) * (((inv(x₁) + x₁) + -0.36847)...\n",
      "                                       * 0.63008)) - inv(x₁ + -2.4097)\n",
      "20          1.367e-08  1.269e-03  y = (-0.10851 + ((x₀ * (((x₁ + inv(x₁)) * 0.6551) + -0.301...\n",
      "                                      61)) - x₁)) - (x₁ * (x₁ + 0.094142))\n",
      "21          1.366e-08  6.370e-04  y = (((x₀ * (-0.30161 + ((x₁ + inv(x₁)) * 0.6551))) - x₁) ...\n",
      "                                      - (x₁ * (x₁ + 0.98083))) + inv(x₀)\n",
      "22          1.342e-08  1.774e-02  y = (((((inv(x₁) + x₁) * 0.6551) + -0.30161) * ((x₀ - x₁) ...\n",
      "                                      + -0.10851)) - (x₁ * cbrt(x₀))) + sqrt(x₀)\n",
      "26          1.340e-08  3.046e-04  y = (((((inv(x₁) + x₁) * 0.6551) + -0.30161) * ((x₀ - x₁) ...\n",
      "                                      + -0.10851)) - (x₁ * cbrt(x₀))) + sqrt((x₀ - x₁) + -0.1085...\n",
      "                                      1)\n",
      "───────────────────────────────────────────────────────────────────────────────────────────────────\n",
      "Current Prediction Average Error (%): 0.80075706456493\n",
      "Best Prediction Average Error (%): 0.4770277128476552\n",
      "Current Model Formula: x0*((x1 + 1/x1)*0.59828734 - 0.16027665)\n",
      "  - outputs/20250702_224824_GBjKzc/hall_of_fame.csv\n"
     ]
    },
    {
     "name": "stderr",
     "output_type": "stream",
     "text": [
      "[ Info: Started!\n",
      "[ Info: Final population:\n",
      "[ Info: Results saved to:\n"
     ]
    },
    {
     "name": "stdout",
     "output_type": "stream",
     "text": [
      "───────────────────────────────────────────────────────────────────────────────────────────────────\n",
      "Complexity  Loss       Score      Equation\n",
      "1           2.403e-06  0.000e+00  y = 576.8\n",
      "3           2.659e-07  1.101e+00  y = x₁ * 175.56\n",
      "5           9.231e-08  5.290e-01  y = x₁ * (x₀ * 0.6068)\n",
      "7           2.711e-08  6.126e-01  y = x₀ * ((x₁ * 0.54066) + 0.36877)\n",
      "8           2.513e-08  7.590e-02  y = (x₀ * 0.56815) * (inv(x₁) + x₁)\n",
      "10          1.734e-08  1.853e-01  y = x₀ * ((x₁ + inv(x₁ - -0.35089)) * 0.57637)\n",
      "12          1.626e-08  3.214e-02  y = ((inv(x₁) + x₁) * ((x₀ * 1.5978) - x₀)) + -48.244\n",
      "14          1.548e-08  2.477e-02  y = ((x₁ + 5.1588) * -10.215) + (x₀ * (0.6335 * (x₁ + inv(...\n",
      "                                      x₁))))\n",
      "16          1.372e-08  6.041e-02  y = ((x₁ + inv(x₁)) * ((x₀ + (x₀ * -0.35219)) - x₁)) - (x₀...\n",
      "                                       * 0.27438)\n",
      "18          1.371e-08  3.156e-04  y = (-0.82215 + (((x₀ + (x₀ * -0.35219)) - x₁) * (inv(x₁) ...\n",
      "                                      + x₁))) - (x₀ * 0.27438)\n",
      "19          1.351e-08  1.483e-02  y = (inv(x₁) + (x₁ - 0.34973)) * (((((x₀ + x₁) * -0.36272)...\n",
      "                                       + x₀) + -2.8307) - sqrt(x₁))\n",
      "21          1.320e-08  1.155e-02  y = ((((((x₀ + x₁) * -0.35134) - sqrt(x₁)) + 0.063915) + x...\n",
      "                                      ₀) + -5.2934) * ((inv(x₁) + x₁) - 0.38017)\n",
      "24          1.301e-08  4.716e-03  y = ((((((x₁ * 0.40115) + (x₀ * -0.34899)) + -1.5055) + (x...\n",
      "                                      ₀ + -5.5281)) - x₁) * ((x₁ + inv(x₁)) - 0.37075)) - -0.523...\n",
      "                                      19\n",
      "25          1.264e-08  2.891e-02  y = ((x₁ + (inv(x₁) - 0.36369)) * ((x₁ * 0.44865) + (((-3....\n",
      "                                      4235 - x₁) + (x₀ + (x₀ * -0.30552))) - sqrt(x₀)))) + 1.049...\n",
      "                                      8\n",
      "───────────────────────────────────────────────────────────────────────────────────────────────────\n",
      "Current Prediction Average Error (%): 0.7558173881874153\n",
      "Best Prediction Average Error (%): 0.4770277128476552\n",
      "Current Model Formula: x0*(x1 + 1/(x1 - 1*(-0.35089037)))*0.5763658\n"
     ]
    },
    {
     "name": "stderr",
     "output_type": "stream",
     "text": [
      "/home/ajt6830/miniconda3/envs/pysr_env/lib/python3.11/site-packages/pysr/sr.py:2217: UserWarning: The discovered expressions are being reset. Please set `warm_start=True` if you wish to continue to start a search where you left off.\n",
      "  warnings.warn(\n",
      "/home/ajt6830/miniconda3/envs/pysr_env/lib/python3.11/site-packages/pysr/sr.py:2811: UserWarning: Note: it looks like you are running in Jupyter. The progress bar will be turned off.\n",
      "  warnings.warn(\n"
     ]
    },
    {
     "name": "stdout",
     "output_type": "stream",
     "text": [
      "  - outputs/20250702_224829_0AW3ep/hall_of_fame.csv\n"
     ]
    },
    {
     "name": "stderr",
     "output_type": "stream",
     "text": [
      "[ Info: Started!\n",
      "[ Info: Final population:\n",
      "[ Info: Results saved to:\n",
      "/home/ajt6830/miniconda3/envs/pysr_env/lib/python3.11/site-packages/pysr/sr.py:2217: UserWarning: The discovered expressions are being reset. Please set `warm_start=True` if you wish to continue to start a search where you left off.\n",
      "  warnings.warn(\n",
      "/home/ajt6830/miniconda3/envs/pysr_env/lib/python3.11/site-packages/pysr/sr.py:2811: UserWarning: Note: it looks like you are running in Jupyter. The progress bar will be turned off.\n",
      "  warnings.warn(\n"
     ]
    },
    {
     "name": "stdout",
     "output_type": "stream",
     "text": [
      "───────────────────────────────────────────────────────────────────────────────────────────────────\n",
      "Complexity  Loss       Score      Equation\n",
      "1           2.403e-06  0.000e+00  y = 576.91\n",
      "3           2.659e-07  1.101e+00  y = x₁ * 175.55\n",
      "5           9.231e-08  5.290e-01  y = (x₀ * x₁) * 0.60678\n",
      "7           2.714e-08  6.121e-01  y = x₀ * ((x₁ + 0.66496) * 0.54227)\n",
      "8           2.513e-08  7.699e-02  y = (x₀ * (x₁ + inv(x₁))) * 0.56816\n",
      "9           2.270e-08  1.016e-01  y = x₀ * ((x₁ + inv(square(x₁))) * 0.58214)\n",
      "10          1.638e-08  3.265e-01  y = x₀ * ((inv(x₁ * 1.3525) + x₁) * 0.58018)\n",
      "11          1.606e-08  1.918e-02  y = (inv(square(x₁) + 1.2603) + (x₁ * 0.5858)) * x₀\n",
      "12          1.577e-08  1.876e-02  y = (inv((x₁ + 1.2603) * x₁) + (x₁ * 0.5858)) * x₀\n",
      "13          1.532e-08  2.894e-02  y = ((x₀ * 0.59801) + -2.7696) * (x₁ + inv(square(x₁ + 0.1...\n",
      "                                      3714)))\n",
      "15          1.529e-08  9.496e-04  y = (((x₀ * 0.59801) + -2.7696) * (x₁ + square(inv(x₁ + 0....\n",
      "                                      13714)))) - x₁\n",
      "16          1.318e-08  1.485e-01  y = 0.72959 * ((x₁ + inv(square(0.19847 + x₁))) * ((-3.308...\n",
      "                                      7 * sqrt(x₀)) + x₀))\n",
      "18          1.290e-08  1.043e-02  y = ((x₁ + square(inv(x₁ + 0.14536))) * ((x₀ * 0.76379) + ...\n",
      "                                      (sqrt(x₀) * -3.0442))) - -0.95953\n",
      "20          1.268e-08  8.826e-03  y = ((x₁ + inv(square(x₁ + 0.16291))) * 0.74905) * (x₀ + (...\n",
      "                                      (sqrt(x₁ + x₀) + 1.0021) * -3.4281))\n",
      "23          1.262e-08  1.439e-03  y = -0.3912 + ((x₁ + inv(square(x₁) + inv(cube(sqrt(x₁ + x...\n",
      "                                      ₁))))) * ((-2.9114 * sqrt(x₀)) + (0.75737 * x₀)))\n",
      "25          1.259e-08  1.539e-03  y = ((x₁ + inv(cube(inv(sqrt(x₁ + x₁) + -0.029831)) + squa...\n",
      "                                      re(x₁))) * ((sqrt(x₀) * -2.9114) + (x₀ * 0.75737))) + 0.75...\n",
      "                                      737\n",
      "27          1.202e-08  2.301e-02  y = ((x₁ + inv(square(x₁ + 0.27794))) * ((x₀ + (((sqrt(inv...\n",
      "                                      (cube(x₁ + 0.064581))) * -4.3037) + sqrt(x₀)) * -4.2923)) ...\n",
      "                                      * 0.78332)) + -2.5812\n",
      "30          1.178e-08  6.783e-03  y = (((x₁ + inv(square(x₁ + 0.27794))) * ((sqrt(x₀) * -4.2...\n",
      "                                      923) + (square(inv(0.064581 - cube(x₁)) * square(x₁ + x₁))...\n",
      "                                       + x₀))) + 1.6016) * 0.78332\n",
      "───────────────────────────────────────────────────────────────────────────────────────────────────\n",
      "Current Prediction Average Error (%): 0.7439366599029612\n",
      "Best Prediction Average Error (%): 0.4770277128476552\n",
      "Current Model Formula: x0*(x1 + 0.73939411236735/x1)*0.58018064\n",
      "  - outputs/20250702_224835_Xc6oth/hall_of_fame.csv\n"
     ]
    },
    {
     "name": "stderr",
     "output_type": "stream",
     "text": [
      "[ Info: Started!\n",
      "[ Info: Final population:\n",
      "[ Info: Results saved to:\n",
      "/home/ajt6830/miniconda3/envs/pysr_env/lib/python3.11/site-packages/pysr/sr.py:2217: UserWarning: The discovered expressions are being reset. Please set `warm_start=True` if you wish to continue to start a search where you left off.\n",
      "  warnings.warn(\n",
      "/home/ajt6830/miniconda3/envs/pysr_env/lib/python3.11/site-packages/pysr/sr.py:2811: UserWarning: Note: it looks like you are running in Jupyter. The progress bar will be turned off.\n",
      "  warnings.warn(\n"
     ]
    },
    {
     "name": "stdout",
     "output_type": "stream",
     "text": [
      "───────────────────────────────────────────────────────────────────────────────────────────────────\n",
      "Complexity  Loss       Score      Equation\n",
      "1           2.403e-06  0.000e+00  y = 576.81\n",
      "3           2.659e-07  1.101e+00  y = x₁ * 175.55\n",
      "5           9.231e-08  5.290e-01  y = (0.60679 * x₁) * x₀\n",
      "7           2.711e-08  6.127e-01  y = x₀ * ((x₁ * 0.5407) - -0.36824)\n",
      "8           2.513e-08  7.589e-02  y = (x₀ * (x₁ + inv(x₁))) * 0.56816\n",
      "9           1.589e-08  4.585e-01  y = (x₀ * cbrt(cube(x₁) + 4.2708)) * 0.58612\n",
      "11          1.583e-08  1.906e-03  y = 0.58632 * ((x₀ * cbrt(4.2865 + cube(x₁))) - x₁)\n",
      "13          1.485e-08  3.195e-02  y = cbrt((cube(x₁) * 0.55276) - -2.3898) * ((x₀ * 0.73499)...\n",
      "                                       - 6.2332)\n",
      "16          1.480e-08  9.406e-04  y = (x₀ - (x₁ * cbrt(0.47493))) * (cbrt((cube(x₁) * 0.4356...\n",
      "                                      1) - -1.5572) * 0.79824)\n",
      "17          1.463e-08  1.149e-02  y = (((x₀ - (x₁ * 0.79824)) * cbrt((cube(x₁) * 0.43561) - ...\n",
      "                                      -1.5572)) * 0.79824) - x₁\n",
      "18          1.461e-08  1.465e-03  y = ((x₀ - (x₁ * cbrt(0.47493))) * (cbrt((cube(x₁) * 0.435...\n",
      "                                      61) - -1.5572) * 0.79824)) - x₁\n",
      "19          1.371e-08  6.398e-02  y = (((x₀ - ((x₁ * 0.46693) - -16.569)) * cbrt((cube(x₁) *...\n",
      "                                       0.30551) - -1.3075)) * 0.93788) + -1.8097\n",
      "26          1.349e-08  2.308e-03  y = (cbrt((cube(x₁) * 0.57192) - -1.9578) * (((cbrt((x₁ + ...\n",
      "                                      1.1677) - 11.005) + x₀) - ((x₁ - -17.236) * 0.97059)) * 0....\n",
      "                                      77807)) + 0.53193\n",
      "───────────────────────────────────────────────────────────────────────────────────────────────────\n",
      "Current Prediction Average Error (%): 0.7737645090213843\n",
      "Best Prediction Average Error (%): 0.4770277128476552\n",
      "Current Model Formula: 0.5861226*x0*Abs(x1**3 + 4.270778)**(1/3)*sign(x1**3 + 4.270778)\n",
      "  - outputs/20250702_224840_FIEKUY/hall_of_fame.csv\n",
      "───────────────────────────────────────────────────────────────────────────────────────────────────\n",
      "Complexity  Loss       Score      Equation\n",
      "1           2.403e-06  0.000e+00  y = 576.73\n",
      "3           2.659e-07  1.101e+00  y = x₁ * 175.55\n",
      "5           9.231e-08  5.290e-01  y = (x₁ * x₀) * 0.60679\n",
      "7           2.711e-08  6.126e-01  y = ((x₁ + 0.67872) * x₀) * 0.54092\n",
      "8           2.513e-08  7.592e-02  y = (x₀ * (inv(x₁) + x₁)) * 0.56815\n",
      "9           2.270e-08  1.016e-01  y = (x₀ * 0.58213) * (square(inv(x₁)) + x₁)\n",
      "10          1.647e-08  3.209e-01  y = ((inv(x₁) + x₁) - 0.24198) * (x₀ * 0.59533)\n",
      "11          1.645e-08  1.156e-03  y = (0.59533 * x₀) * (inv(x₁) + (x₁ - cbrt(0.014768)))\n",
      "12          1.378e-08  1.768e-01  y = ((x₀ * 0.6463) - x₁) * ((inv(x₁) + x₁) - 0.42549)\n",
      "14          1.349e-08  1.068e-02  y = (-3.1509 - ((x₁ - x₀) * 0.63929)) * ((inv(x₁) + x₁) - ...\n",
      "                                      0.3621)\n",
      "16          1.334e-08  5.825e-03  y = ((-3.1509 - ((x₁ - x₀) * 0.642)) * (inv(x₁) + (x₁ - 0....\n",
      "                                      36193))) - x₁\n",
      "17          1.280e-08  4.085e-02  y = (x₁ + (inv(x₁) - 0.41733)) * ((x₀ * 0.68405) - cbrt((x...\n",
      "                                      ₀ * x₁) * 3.7902))\n",
      "19          1.274e-08  2.321e-03  y = -3.1079 + (((x₁ - 0.42154) + inv(x₁)) * ((x₀ * 0.70476...\n",
      "                                      ) - cbrt(x₁ * (7.7027 * x₀))))\n",
      "21          1.260e-08  5.745e-03  y = (((x₀ * 0.69241) - cbrt(x₁ * (x₀ * 4.0735))) * (inv(x₁...\n",
      "                                      ) + (x₁ - 0.41663))) - (x₁ + x₁)\n",
      "22          1.258e-08  1.341e-03  y = ((((x₀ * 0.68735) - sqrt(x₁)) - cbrt((x₁ + x₁) * x₀)) ...\n",
      "                                      * ((x₁ + inv(x₁)) - 0.4458)) - x₁\n",
      "23          1.254e-08  3.464e-03  y = (((x₀ * 0.69772) - cbrt((x₁ * x₀) * 3.9009)) * ((x₁ - ...\n",
      "                                      0.45837) + inv(x₁))) - ((x₁ + x₁) - -1.2821)\n",
      "───────────────────────────────────────────────────────────────────────────────────────────────────\n"
     ]
    },
    {
     "name": "stderr",
     "output_type": "stream",
     "text": [
      "[ Info: Started!\n",
      "[ Info: Final population:\n",
      "[ Info: Results saved to:\n",
      "/home/ajt6830/miniconda3/envs/pysr_env/lib/python3.11/site-packages/pysr/sr.py:2217: UserWarning: The discovered expressions are being reset. Please set `warm_start=True` if you wish to continue to start a search where you left off.\n",
      "  warnings.warn(\n",
      "/home/ajt6830/miniconda3/envs/pysr_env/lib/python3.11/site-packages/pysr/sr.py:2811: UserWarning: Note: it looks like you are running in Jupyter. The progress bar will be turned off.\n",
      "  warnings.warn(\n"
     ]
    },
    {
     "name": "stdout",
     "output_type": "stream",
     "text": [
      "Current Prediction Average Error (%): 0.7941720515118692\n",
      "Best Prediction Average Error (%): 0.4770277128476552\n",
      "Current Model Formula: (x1 - 1*0.24198006 + 1/x1)*x0*0.59533125\n",
      "  - outputs/20250702_224846_Dcq2OD/hall_of_fame.csv\n"
     ]
    },
    {
     "name": "stderr",
     "output_type": "stream",
     "text": [
      "[ Info: Started!\n",
      "[ Info: Final population:\n",
      "[ Info: Results saved to:\n",
      "/home/ajt6830/miniconda3/envs/pysr_env/lib/python3.11/site-packages/pysr/sr.py:2217: UserWarning: The discovered expressions are being reset. Please set `warm_start=True` if you wish to continue to start a search where you left off.\n",
      "  warnings.warn(\n",
      "/home/ajt6830/miniconda3/envs/pysr_env/lib/python3.11/site-packages/pysr/sr.py:2811: UserWarning: Note: it looks like you are running in Jupyter. The progress bar will be turned off.\n",
      "  warnings.warn(\n"
     ]
    },
    {
     "name": "stdout",
     "output_type": "stream",
     "text": [
      "───────────────────────────────────────────────────────────────────────────────────────────────────\n",
      "Complexity  Loss       Score      Equation\n",
      "1           2.403e-06  0.000e+00  y = 576.69\n",
      "3           2.659e-07  1.101e+00  y = x₁ * 175.55\n",
      "5           9.231e-08  5.290e-01  y = x₀ * (x₁ * 0.60679)\n",
      "7           2.711e-08  6.126e-01  y = ((x₁ * 0.54081) + 0.36861) * x₀\n",
      "8           2.513e-08  7.591e-02  y = (x₀ * 0.56815) * (x₁ + inv(x₁))\n",
      "9           2.270e-08  1.016e-01  y = (x₁ + inv(square(x₁))) * (x₀ * 0.58214)\n",
      "10          1.637e-08  3.267e-01  y = x₀ * ((inv(x₁) + (x₁ * 1.3745)) * 0.42251)\n",
      "14          1.631e-08  8.982e-04  y = ((x₁ * (x₀ * 0.58265)) + ((x₀ * inv(x₁)) * 0.44419)) -...\n",
      "                                       x₁\n",
      "16          1.616e-08  4.721e-03  y = ((x₀ * (inv(x₁) * 0.42624)) - x₁) + ((x₁ * (x₀ + x₀)) ...\n",
      "                                      * 0.2919)\n",
      "18          1.596e-08  6.270e-03  y = ((((x₀ * 0.42628) * inv(x₁)) - x₁) - x₁) + ((x₁ * 0.29...\n",
      "                                      355) * (x₀ + x₀))\n",
      "20          1.464e-08  4.313e-02  y = ((inv(x₁) * 0.39964) * x₀) + (x₁ * (0.11267 * (sqrt((x...\n",
      "                                      ₀ * x₀) * sqrt(x₀)) + x₀)))\n",
      "21          1.373e-08  6.435e-02  y = ((x₁ * 0.1288) * sqrt(x₀ * ((sqrt(x₁) + sqrt(x₀)) * x₀...\n",
      "                                      ))) + ((x₀ * 0.45276) * inv(x₁))\n",
      "23          1.349e-08  8.827e-03  y = (inv(x₁) * (x₀ * 0.45263)) + (((x₀ + sqrt(x₀ * ((sqrt(...\n",
      "                                      x₀) + sqrt(x₁)) * x₀))) * x₁) * 0.10537)\n",
      "25          1.338e-08  4.054e-03  y = ((inv(x₁) * x₀) * 0.45264) + ((x₁ * 0.10598) * ((x₀ - ...\n",
      "                                      x₁) + sqrt(((sqrt(x₁) + sqrt(x₀)) * x₀) * x₀)))\n",
      "27          1.337e-08  1.601e-04  y = (((inv(x₁) * x₀) * 0.45264) + ((x₁ * 0.10598) * ((x₀ -...\n",
      "                                       x₁) + sqrt(((sqrt(x₁) + sqrt(x₀)) * x₀) * x₀)))) + -0.796...\n",
      "                                      98\n",
      "28          1.336e-08  9.283e-04  y = (inv(x₁) * (x₀ * cbrt(0.092739))) + ((0.10598 * x₁) * ...\n",
      "                                      (sqrt((x₀ * x₀) * (sqrt(x₁ + -0.29995) + sqrt(x₀))) + (x₀ ...\n",
      "                                      - x₁)))\n",
      "29          1.336e-08  3.681e-04  y = ((x₀ * inv(x₁)) * 0.45264) + ((x₁ * 0.10598) * ((sqrt(...\n",
      "                                      (x₀ * x₀) * (sqrt(x₁ + -0.29995) + sqrt(x₀))) + (x₀ + 1.63...\n",
      "                                      6)) - x₁))\n",
      "───────────────────────────────────────────────────────────────────────────────────────────────────\n",
      "Current Prediction Average Error (%): 0.7460964321323662\n",
      "Best Prediction Average Error (%): 0.4770277128476552\n",
      "Current Model Formula: x0*(x1*1.374473 + 1/x1)*0.42251223\n",
      "  - outputs/20250702_224851_BTn0Ci/hall_of_fame.csv\n"
     ]
    },
    {
     "name": "stderr",
     "output_type": "stream",
     "text": [
      "[ Info: Started!\n",
      "[ Info: Final population:\n",
      "[ Info: Results saved to:\n",
      "/home/ajt6830/miniconda3/envs/pysr_env/lib/python3.11/site-packages/pysr/sr.py:2217: UserWarning: The discovered expressions are being reset. Please set `warm_start=True` if you wish to continue to start a search where you left off.\n",
      "  warnings.warn(\n",
      "/home/ajt6830/miniconda3/envs/pysr_env/lib/python3.11/site-packages/pysr/sr.py:2811: UserWarning: Note: it looks like you are running in Jupyter. The progress bar will be turned off.\n",
      "  warnings.warn(\n"
     ]
    },
    {
     "name": "stdout",
     "output_type": "stream",
     "text": [
      "───────────────────────────────────────────────────────────────────────────────────────────────────\n",
      "Complexity  Loss       Score      Equation\n",
      "1           2.403e-06  0.000e+00  y = 576.74\n",
      "3           2.659e-07  1.101e+00  y = x₁ * 175.55\n",
      "5           9.231e-08  5.290e-01  y = (0.60679 * x₁) * x₀\n",
      "7           2.711e-08  6.127e-01  y = ((x₁ * 0.54066) + 0.36849) * x₀\n",
      "8           2.513e-08  7.589e-02  y = (x₀ * (inv(x₁) + x₁)) * 0.56815\n",
      "9           2.478e-08  1.395e-02  y = (0.5935 * (cube(inv(x₁)) + x₁)) * x₀\n",
      "10          1.641e-08  4.120e-01  y = ((inv(x₁) + (x₁ - 0.282)) * 0.59993) * x₀\n",
      "12          1.519e-08  3.875e-02  y = ((x₀ - x₁) * (inv(x₁) + (x₁ - 0.37982))) * 0.62098\n",
      "15          1.485e-08  7.439e-03  y = (((x₁ + sqrt(sqrt(inv(cube(x₁))))) - 0.37982) * (x₀ - ...\n",
      "                                      x₁)) * 0.62098\n",
      "17          1.482e-08  1.208e-03  y = (((cube(sqrt(inv(sqrt(x₁)))) + (x₁ - 0.37982)) * (x₀ -...\n",
      "                                       x₁)) * 0.62098) + -1.1187\n",
      "19          1.481e-08  2.994e-04  y = ((-1.6395 - 1.6439) + ((cube(sqrt(inv(sqrt(x₁)))) + (x...\n",
      "                                      ₁ - 0.37982)) * (x₀ - x₁))) * 0.62098\n",
      "20          1.473e-08  4.966e-03  y = square(((cbrt(x₀) + 3.7724) * inv(x₁)) + 1.1812) + (((...\n",
      "                                      x₁ * 0.60664) * (x₀ - x₁)) + -1.0506)\n",
      "21          1.450e-08  1.601e-02  y = square((cbrt(x₀) + 3.7724) * inv(x₁)) + ((x₁ * ((x₀ * ...\n",
      "                                      0.5935) - cbrt(x₀))) + (x₀ * 0.10262))\n",
      "23          1.426e-08  8.325e-03  y = square(inv(x₁) * (cbrt(x₀) + 3.7724)) + ((x₀ * 0.10283...\n",
      "                                      ) + (x₁ * ((x₀ * 0.5973) + cbrt(1.029 - x₀))))\n",
      "24          1.407e-08  1.336e-02  y = (((((((x₀ * 0.613) - 6.3409) * x₁) - x₁) + 1.4496) - -...\n",
      "                                      0.3594) + square(inv(x₁) * (cbrt(x₀) + 4.7795))) - -2.3371\n",
      "26          1.393e-08  4.879e-03  y = (square((cbrt(x₀) + 3.7724) * inv(x₁)) + (((x₁ * ((x₀ ...\n",
      "                                      * 0.5935) - 2.6367)) - (x₁ + x₁)) + (x₀ * 0.10262))) - 3.7...\n",
      "                                      724\n",
      "27          1.320e-08  5.438e-02  y = (x₀ * 0.11319) + ((x₁ * (((x₀ - sqrt(x₀ * 0.69247)) - ...\n",
      "                                      7.2746) * 0.62037)) + (square((cbrt(x₀) + 3.5882) * inv(x₁...\n",
      "                                      )) + -2.7088))\n",
      "───────────────────────────────────────────────────────────────────────────────────────────────────\n",
      "Current Prediction Average Error (%): 0.8084568735954084\n",
      "Best Prediction Average Error (%): 0.4770277128476552\n",
      "Current Model Formula: (x1 - 1*0.28199953 + 1/x1)*0.59992534*x0\n",
      "  - outputs/20250702_224857_XxOBob/hall_of_fame.csv\n",
      "───────────────────────────────────────────────────────────────────────────────────────────────────\n",
      "Complexity  Loss       Score      Equation\n",
      "1           2.403e-06  0.000e+00  y = 576.81\n",
      "3           2.659e-07  1.101e+00  y = x₁ * 175.55\n",
      "5           9.231e-08  5.290e-01  y = (x₁ * x₀) * 0.60678\n",
      "7           2.711e-08  6.125e-01  y = (x₀ * (x₁ - -0.68297)) * 0.53999\n",
      "8           2.513e-08  7.611e-02  y = ((inv(x₁) + x₁) * 0.56815) * x₀\n",
      "9           2.310e-08  8.397e-02  y = (x₀ * (x₁ + inv(square(x₁)))) * 0.57738\n",
      "10          1.637e-08  3.442e-01  y = ((x₁ - (inv(x₁) * -0.73874)) * x₀) * 0.58021\n",
      "11          1.637e-08  3.970e-04  y = (x₀ * (x₁ - (square(inv(x₁)) * -0.8017))) * 0.58878\n",
      "12          1.622e-08  9.066e-03  y = ((-0.58291 * x₀) * ((inv(x₁) * -0.74946) - x₁)) - x₁\n",
      "13          1.466e-08  1.011e-01  y = (inv(cube(x₁) + 1.3975) - (x₁ * -0.61755)) * (x₀ - x₁)\n",
      "15          1.384e-08  2.874e-02  y = (inv(cube(x₁) + 1.3169) - (x₁ * -0.6124)) * ((x₀ - x₁)...\n",
      "                                       + -1.0972)\n",
      "16          1.364e-08  1.464e-02  y = (inv(cube(x₁) + 1.3168) - (-0.62225 * x₁)) * ((x₀ - cb...\n",
      "                                      rt(x₀)) - x₁)\n",
      "18          1.361e-08  9.907e-04  y = (inv(cube(x₁) + 1.3168) - (-0.62225 * x₁)) * (((0.5229...\n",
      "                                      5 + x₀) - cbrt(x₀)) - x₁)\n",
      "20          1.352e-08  3.471e-03  y = ((cbrt(-1.837 - x₀) + x₀) - (x₁ * 0.82338)) * (inv(cub...\n",
      "                                      e(x₁) + 1.3168) - (x₁ * -0.62225))\n",
      "22          1.351e-08  2.050e-04  y = ((cbrt(0.37483 - (x₁ + x₀)) + x₀) - (x₁ * 0.82338)) * ...\n",
      "                                      (inv(cube(x₁) + 1.3168) - (x₁ * -0.62225))\n",
      "23          1.351e-08  1.775e-04  y = (cbrt((cube(-1.0658) - x₀) - x₁) + (x₀ - (0.82338 * x₁...\n",
      "                                      ))) * (inv(cube(x₁) + 1.3168) - (x₁ * -0.62225))\n",
      "24          1.344e-08  5.673e-03  y = (((0.37483 - cbrt(x₀ + x₁)) + (x₀ - (0.82338 * x₁))) *...\n",
      "                                       (inv(cube(x₁) + 1.3168) - (x₁ * -0.62225))) - x₁\n",
      "28          1.313e-08  5.739e-03  y = (((0.60372 * x₁) - (-0.065189 - inv(cube(x₁) + 1.8554)...\n",
      "                                      )) * ((x₀ - (x₁ + -1.1772)) - inv(-1.3977 + square(cbrt(x₁...\n",
      "                                       + -1.1772))))) - x₁\n",
      "───────────────────────────────────────────────────────────────────────────────────────────────────\n",
      "Current Prediction Average Error (%): 0.7440684124832302\n",
      "Best Prediction Average Error (%): 0.4770277128476552\n",
      "Current Model Formula: (x1 - (-0.73874056)/x1)*x0*0.580209\n"
     ]
    },
    {
     "name": "stderr",
     "output_type": "stream",
     "text": [
      "[ Info: Started!\n",
      "[ Info: Final population:\n",
      "[ Info: Results saved to:\n",
      "/home/ajt6830/miniconda3/envs/pysr_env/lib/python3.11/site-packages/pysr/sr.py:2217: UserWarning: The discovered expressions are being reset. Please set `warm_start=True` if you wish to continue to start a search where you left off.\n",
      "  warnings.warn(\n",
      "/home/ajt6830/miniconda3/envs/pysr_env/lib/python3.11/site-packages/pysr/sr.py:2811: UserWarning: Note: it looks like you are running in Jupyter. The progress bar will be turned off.\n",
      "  warnings.warn(\n"
     ]
    },
    {
     "name": "stdout",
     "output_type": "stream",
     "text": [
      "  - outputs/20250702_224903_bUECnh/hall_of_fame.csv\n",
      "───────────────────────────────────────────────────────────────────────────────────────────────────\n",
      "Complexity  Loss       Score      Equation\n",
      "1           2.403e-06  0.000e+00  y = 576.8\n",
      "3           2.659e-07  1.101e+00  y = x₁ * 175.55\n",
      "5           9.231e-08  5.290e-01  y = x₀ * (x₁ * 0.60679)\n",
      "7           2.711e-08  6.127e-01  y = x₀ * ((x₁ * 0.54066) + 0.36846)\n",
      "8           2.513e-08  7.589e-02  y = ((inv(x₁) + x₁) * x₀) * 0.56815\n",
      "9           2.398e-08  4.662e-02  y = ((x₁ + cube(inv(x₁))) * x₀) * 0.58676\n",
      "10          1.640e-08  3.799e-01  y = (x₀ * 0.59961) * ((x₁ + inv(x₁)) + -0.27969)\n",
      "12          1.611e-08  9.085e-03  y = cbrt((square(x₀) + cube((x₀ * 0.087335) * x₁)) * x₀)\n",
      "14          1.168e-08  1.606e-01  y = cbrt(x₀ * (square(x₀) + cube((0.090915 * (x₁ - 0.32246...\n",
      "                                      )) * x₀)))\n",
      "16          1.117e-08  2.227e-02  y = cbrt(x₀ * (cube(x₀ * (0.090915 * (x₁ - 0.32246))) + sq...\n",
      "                                      uare(x₀))) + x₁\n",
      "17          1.115e-08  2.251e-03  y = inv(0.17614) + cbrt(x₀ * (cube((x₀ * (x₁ - 0.32246)) *...\n",
      "                                       0.090915) + square(x₀)))\n",
      "18          1.098e-08  1.531e-02  y = (cbrt(x₀ * (cube(x₀ * ((x₁ - 0.32246) * 0.090915)) + s...\n",
      "                                      quare(x₀))) + x₁) + 4.4078\n",
      "21          1.098e-08  1.256e-05  y = (x₁ + (cbrt(x₀ * (cube((x₁ - 0.32246) * (0.090915 * x₀...\n",
      "                                      )) + square(x₀))) + cube(1.4456))) - -1.1602\n",
      "22          1.084e-08  1.283e-02  y = cbrt(((cube(((x₀ * (x₁ - 0.32249)) * 0.088284) + x₁) +...\n",
      "                                       x₁) + square(x₀ + sqrt(sqrt(x₀)))) * x₀)\n",
      "───────────────────────────────────────────────────────────────────────────────────────────────────\n",
      "Current Prediction Average Error (%): 0.6462697950016424\n",
      "Best Prediction Average Error (%): 0.4770277128476552\n",
      "Current Model Formula: Abs(x0*(x0**3*(0.09091483*x1 - 0.0293161460660175)**3 + x0**2))**(1/3)*sign(x0*(x0**3*(0.09091483*x1 - 0.0293161460660175)**3 + x0**2))\n"
     ]
    },
    {
     "name": "stderr",
     "output_type": "stream",
     "text": [
      "[ Info: Started!\n",
      "[ Info: Final population:\n",
      "[ Info: Results saved to:\n",
      "/home/ajt6830/miniconda3/envs/pysr_env/lib/python3.11/site-packages/pysr/sr.py:1270: UserWarning: `extra_sympy_mappings` cannot be pickled and will be removed from the serialized instance. When loading the model, please redefine `extra_sympy_mappings` at runtime.\n",
      "  warnings.warn(warn_msg)\n",
      "/home/ajt6830/miniconda3/envs/pysr_env/lib/python3.11/site-packages/pysr/sr.py:2217: UserWarning: The discovered expressions are being reset. Please set `warm_start=True` if you wish to continue to start a search where you left off.\n",
      "  warnings.warn(\n",
      "/home/ajt6830/miniconda3/envs/pysr_env/lib/python3.11/site-packages/pysr/sr.py:2811: UserWarning: Note: it looks like you are running in Jupyter. The progress bar will be turned off.\n",
      "  warnings.warn(\n"
     ]
    },
    {
     "name": "stdout",
     "output_type": "stream",
     "text": [
      "  - outputs/20250702_224909_yokd0D/hall_of_fame.csv\n"
     ]
    },
    {
     "name": "stderr",
     "output_type": "stream",
     "text": [
      "[ Info: Started!\n",
      "[ Info: Final population:\n",
      "[ Info: Results saved to:\n",
      "/home/ajt6830/miniconda3/envs/pysr_env/lib/python3.11/site-packages/pysr/sr.py:2217: UserWarning: The discovered expressions are being reset. Please set `warm_start=True` if you wish to continue to start a search where you left off.\n",
      "  warnings.warn(\n",
      "/home/ajt6830/miniconda3/envs/pysr_env/lib/python3.11/site-packages/pysr/sr.py:2811: UserWarning: Note: it looks like you are running in Jupyter. The progress bar will be turned off.\n",
      "  warnings.warn(\n"
     ]
    },
    {
     "name": "stdout",
     "output_type": "stream",
     "text": [
      "───────────────────────────────────────────────────────────────────────────────────────────────────\n",
      "Complexity  Loss       Score      Equation\n",
      "1           2.403e-06  0.000e+00  y = 576.77\n",
      "3           2.659e-07  1.101e+00  y = x₁ * 175.55\n",
      "5           9.231e-08  5.290e-01  y = (x₀ * x₁) * 0.60679\n",
      "7           2.711e-08  6.126e-01  y = ((x₁ * 0.54057) + 0.36836) * x₀\n",
      "8           2.513e-08  7.590e-02  y = ((x₁ + inv(x₁)) * x₀) * 0.56816\n",
      "9           2.270e-08  1.016e-01  y = (x₀ * (x₁ + inv(square(x₁)))) * 0.58214\n",
      "10          1.662e-08  3.115e-01  y = x₀ * (((x₁ + inv(x₁)) + -0.26658) * 0.59435)\n",
      "11          1.638e-08  1.505e-02  y = (x₁ * (inv(square(x₁) * 2.372) + 0.58071)) * x₀\n",
      "13          1.621e-08  5.065e-03  y = (inv(square(x₁)) * (x₀ * 0.45161)) + (x₁ * (0.58991 * ...\n",
      "                                      x₀))\n",
      "14          1.581e-08  2.511e-02  y = ((x₀ * x₁) * 0.58581) + (inv(sqrt(cube(x₁))) * (x₀ * 0...\n",
      "                                      .45799))\n",
      "15          1.572e-08  5.430e-03  y = ((inv((square(x₁) * 0.32611) + x₁) + x₁) * (0.58597 * ...\n",
      "                                      x₀)) - x₁\n",
      "16          1.546e-08  1.679e-02  y = (((cube(inv(sqrt(x₁))) * 0.44125) * x₀) - x₁) + ((x₁ *...\n",
      "                                       x₀) * 0.59)\n",
      "18          1.435e-08  3.723e-02  y = x₁ * ((((x₀ * (x₁ - 0.56326)) * inv(square(square(x₁))...\n",
      "                                      )) + -7.1939) - (x₀ * -0.61042))\n",
      "19          1.423e-08  8.755e-03  y = x₁ * ((((square(inv(square(x₁))) * x₀) * (sqrt(x₁) - 0...\n",
      "                                      .55324)) + -8.605) - (x₀ * -0.62037))\n",
      "20          1.324e-08  7.189e-02  y = ((square(inv(square(x₁))) * ((x₁ - 0.55287) * x₀)) + (...\n",
      "                                      x₁ * (-14.949 - (x₀ * -0.64314)))) + 1.8851\n",
      "22          1.314e-08  3.936e-03  y = (((x₁ * (-14.949 - (x₀ * -0.64058))) - -0.64058) + 1.8...\n",
      "                                      851) + (x₀ * ((x₁ - 0.55322) * square(square(inv(x₁)))))\n",
      "25          1.306e-08  2.021e-03  y = ((square(inv(square(x₁))) * (((x₁ + (x₁ - sqrt(x₁))) -...\n",
      "                                       0.55287) * x₀)) + (x₁ * (-14.949 - (-0.64314 * x₀)))) + 1...\n",
      "                                      .8851\n",
      "26          1.283e-08  1.721e-02  y = (((square(inv(square(x₁))) * x₀) * ((x₁ + (x₁ - x₁)) -...\n",
      "                                       0.58844)) + ((x₁ * (-14.949 - (x₀ * -0.64314))) - -5.1281...\n",
      "                                      )) - x₁\n",
      "27          1.264e-08  1.501e-02  y = (((x₀ * (((x₁ + (x₁ - sqrt(x₁))) - 0.55287) * inv(squa...\n",
      "                                      re(square(x₁))))) + (x₁ * (-14.949 - (x₀ * -0.64314)))) - ...\n",
      "                                      -2.0826) - x₁\n",
      "───────────────────────────────────────────────────────────────────────────────────────────────────\n",
      "Current Prediction Average Error (%): 0.8396237299889772\n",
      "Best Prediction Average Error (%): 0.4770277128476552\n",
      "Current Model Formula: x0*(x1 - 0.26658148 + 1/x1)*0.5943488\n",
      "  - outputs/20250702_224915_MIDtyu/hall_of_fame.csv\n",
      "───────────────────────────────────────────────────────────────────────────────────────────────────\n",
      "Complexity  Loss       Score      Equation\n",
      "1           2.403e-06  0.000e+00  y = 576.77\n",
      "3           2.659e-07  1.101e+00  y = x₁ * 175.55\n",
      "5           9.231e-08  5.290e-01  y = x₀ * (x₁ * 0.60679)\n",
      "7           2.711e-08  6.127e-01  y = ((x₁ * 0.54067) - -0.36837) * x₀\n",
      "8           2.513e-08  7.589e-02  y = (x₀ * (inv(x₁) + x₁)) * 0.56816\n",
      "9           2.270e-08  1.016e-01  y = ((x₁ + inv(square(x₁))) * x₀) * 0.58214\n",
      "10          1.638e-08  3.261e-01  y = x₀ * (((inv(x₁) + x₁) + -0.26536) * 0.59798)\n",
      "11          1.586e-08  3.271e-02  y = x₀ * ((inv(0.29178 + square(x₁)) + x₁) * 0.58825)\n",
      "12          1.379e-08  1.393e-01  y = ((x₀ * 0.64495) - x₁) * (inv(x₁) + (x₁ + -0.41646))\n",
      "14          1.363e-08  6.098e-03  y = (x₁ + (x₁ + inv(x₁ + -0.31067))) * ((x₀ * 0.31585) + -...\n",
      "                                      7.0329)\n",
      "20          1.004e-08  5.091e-02  y = sqrt(((cube(inv(x₁) * sqrt(x₀)) - (576.77 + (square(x₀...\n",
      "                                      ) * -0.038436))) * x₁) * (10.926 * x₁))\n",
      "21          9.250e-09  8.190e-02  y = sqrt(((sqrt(x₀) * (x₀ * inv(x₁))) - (((square(x₀) * -0...\n",
      "                                      .033915) + 656.67) * (x₁ * x₁))) * 13.208)\n",
      "23          8.890e-09  1.982e-02  y = sqrt((((sqrt(x₀) * (x₀ * inv(x₁))) - (((square(x₀) * -...\n",
      "                                      0.033915) + 656.67) * (x₁ * x₁))) - x₀) * 13.208)\n",
      "25          8.881e-09  5.159e-04  y = sqrt(((((x₀ * sqrt(x₀)) * inv(x₁)) - ((x₁ * x₁) * ((sq...\n",
      "                                      uare(x₀) * -0.033915) + 656.67))) - x₀) * 13.208) - 0.7853...\n",
      "                                      1\n",
      "27          8.872e-09  5.059e-04  y = sqrt(((((x₀ * sqrt(x₀)) * inv(x₁)) - ((x₁ * x₁) * ((sq...\n",
      "                                      uare(x₀) * -0.033915) + (656.67 - 2.3638)))) - x₀) * 13.20...\n",
      "                                      8) + -0.47554\n",
      "28          8.833e-09  4.454e-03  y = sqrt((13.208 * (((x₀ * inv(x₁)) * sqrt(x₀ * inv(x₁))) ...\n",
      "                                      - (((656.67 + (-0.033915 * square(x₀))) * x₁) * x₁))) - (6...\n",
      "                                      56.67 - x₀))\n",
      "───────────────────────────────────────────────────────────────────────────────────────────────────\n",
      "Current Prediction Average Error (%): 0.44584397516875574\n",
      "Best Prediction Average Error (%): 0.4770277128476552\n",
      "Current Model Formula: sqrt(13.208489*x0**(3/2)/x1 - 13.208489*x1**2*(656.6745 - 0.033914566*x0**2))\n"
     ]
    },
    {
     "name": "stderr",
     "output_type": "stream",
     "text": [
      "[ Info: Started!\n",
      "[ Info: Final population:\n",
      "[ Info: Results saved to:\n",
      "/home/ajt6830/miniconda3/envs/pysr_env/lib/python3.11/site-packages/pysr/sr.py:1270: UserWarning: `extra_sympy_mappings` cannot be pickled and will be removed from the serialized instance. When loading the model, please redefine `extra_sympy_mappings` at runtime.\n",
      "  warnings.warn(warn_msg)\n",
      "/home/ajt6830/miniconda3/envs/pysr_env/lib/python3.11/site-packages/pysr/sr.py:2217: UserWarning: The discovered expressions are being reset. Please set `warm_start=True` if you wish to continue to start a search where you left off.\n",
      "  warnings.warn(\n",
      "/home/ajt6830/miniconda3/envs/pysr_env/lib/python3.11/site-packages/pysr/sr.py:2811: UserWarning: Note: it looks like you are running in Jupyter. The progress bar will be turned off.\n",
      "  warnings.warn(\n"
     ]
    },
    {
     "name": "stdout",
     "output_type": "stream",
     "text": [
      "  - outputs/20250702_224920_VkNcEe/hall_of_fame.csv\n",
      "───────────────────────────────────────────────────────────────────────────────────────────────────\n",
      "Complexity  Loss       Score      Equation\n",
      "1           2.403e-06  0.000e+00  y = 576.71\n",
      "3           2.659e-07  1.101e+00  y = x₁ * 175.56\n",
      "5           9.231e-08  5.290e-01  y = x₀ * (x₁ * 0.60679)\n",
      "7           2.711e-08  6.127e-01  y = ((x₁ * 0.54067) + 0.36836) * x₀\n",
      "9           2.576e-08  2.542e-02  y = ((x₁ * 0.51638) + 0.40345) * (x₁ + x₀)\n",
      "11          2.576e-08  6.548e-05  y = (((x₁ * 0.51638) + 0.40345) * (x₁ + x₀)) + 0.56902\n",
      "12          1.637e-08  4.534e-01  y = ((x₀ * x₁) * 0.58047) + ((x₀ * inv(x₁)) * 0.42531)\n",
      "13          1.621e-08  9.766e-03  y = (x₀ * (x₁ * 0.58991)) + (x₀ * (square(inv(x₁)) * 0.451...\n",
      "                                      57))\n",
      "15          1.433e-08  6.178e-02  y = ((x₀ * square(inv(x₁))) * 0.4266) + (((x₀ - x₁) * x₁) ...\n",
      "                                      * 0.60956)\n",
      "16          1.429e-08  2.300e-03  y = (((x₀ - x₁) * 0.61007) + -0.45478) * (x₁ + inv((x₁ + 0...\n",
      "                                      .4369) * x₁))\n",
      "17          1.420e-08  6.237e-03  y = x₁ * (((0.42636 * x₀) * cube(inv(x₁))) + (((x₀ - x₁) *...\n",
      "                                       0.61221) - 0.84944))\n",
      "18          1.414e-08  4.315e-03  y = ((((x₀ - x₁) * 0.61411) + -1.3413) * x₁) + (inv(x₁ * x...\n",
      "                                      ₁) * (x₀ * 0.42173))\n",
      "19          1.379e-08  2.517e-02  y = ((x₁ * (x₀ - x₁)) * 0.61079) + (x₀ * (inv(x₁ - cube(0....\n",
      "                                      77549 - x₁)) * 0.41239))\n",
      "20          1.367e-08  9.018e-03  y = (((x₀ - x₁) * 0.61189) * x₁) + (inv(x₁ - cube(cube(0.9...\n",
      "                                      1654 - x₁))) * (x₀ * 0.4121))\n",
      "21          1.360e-08  4.671e-03  y = (inv(x₁ - cube(0.89148 - x₁)) * (0.41244 * x₀)) + (x₁ ...\n",
      "                                      * (-1.8157 + ((x₀ - x₁) * 0.61527)))\n",
      "22          1.340e-08  1.496e-02  y = ((((x₀ - x₁) * 0.6173) + -1.6549) * x₁) + (inv(x₁ - cu...\n",
      "                                      be(cube(0.91655 - x₁))) * (x₀ * 0.41223))\n",
      "24          1.337e-08  1.349e-03  y = ((inv(x₁ - cube(cube((0.49023 * x₁) - x₁))) * 0.41244)...\n",
      "                                       * x₀) + ((-1.8157 + ((x₀ - x₁) * 0.61527)) * x₁)\n",
      "26          1.325e-08  4.339e-03  y = ((inv(x₁ - cube(cube((x₁ * 0.4902) - x₁))) * x₀) * 0.4...\n",
      "                                      1235) + (((x₀ - (x₁ + 1.864)) * (x₁ * 0.6182)) - x₁)\n",
      "28          1.313e-08  4.472e-03  y = ((x₀ * 0.41209) * inv(square(x₁) - cube(square(inv(0.6...\n",
      "                                      1659) - (x₁ * 1.0849))))) + (((0.61659 * ((x₀ - x₁) + -0.7...\n",
      "                                      358)) * x₁) - x₁)\n",
      "───────────────────────────────────────────────────────────────────────────────────────────────────\n",
      "Current Prediction Average Error (%): 0.7452644253070906\n",
      "Best Prediction Average Error (%): 0.44584397516875574\n",
      "Current Model Formula: x0*x1*0.5804749 + x0*0.42531335/x1\n"
     ]
    },
    {
     "name": "stderr",
     "output_type": "stream",
     "text": [
      "[ Info: Started!\n",
      "[ Info: Final population:\n",
      "[ Info: Results saved to:\n",
      "/home/ajt6830/miniconda3/envs/pysr_env/lib/python3.11/site-packages/pysr/sr.py:2217: UserWarning: The discovered expressions are being reset. Please set `warm_start=True` if you wish to continue to start a search where you left off.\n",
      "  warnings.warn(\n",
      "/home/ajt6830/miniconda3/envs/pysr_env/lib/python3.11/site-packages/pysr/sr.py:2811: UserWarning: Note: it looks like you are running in Jupyter. The progress bar will be turned off.\n",
      "  warnings.warn(\n"
     ]
    },
    {
     "name": "stdout",
     "output_type": "stream",
     "text": [
      "  - outputs/20250702_224925_EaYUD0/hall_of_fame.csv\n"
     ]
    },
    {
     "name": "stderr",
     "output_type": "stream",
     "text": [
      "[ Info: Started!\n",
      "[ Info: Final population:\n",
      "[ Info: Results saved to:\n",
      "/home/ajt6830/miniconda3/envs/pysr_env/lib/python3.11/site-packages/pysr/sr.py:2217: UserWarning: The discovered expressions are being reset. Please set `warm_start=True` if you wish to continue to start a search where you left off.\n",
      "  warnings.warn(\n",
      "/home/ajt6830/miniconda3/envs/pysr_env/lib/python3.11/site-packages/pysr/sr.py:2811: UserWarning: Note: it looks like you are running in Jupyter. The progress bar will be turned off.\n",
      "  warnings.warn(\n"
     ]
    },
    {
     "name": "stdout",
     "output_type": "stream",
     "text": [
      "───────────────────────────────────────────────────────────────────────────────────────────────────\n",
      "Complexity  Loss       Score      Equation\n",
      "1           2.403e-06  0.000e+00  y = 576.82\n",
      "3           2.659e-07  1.101e+00  y = x₁ * 175.55\n",
      "5           9.231e-08  5.290e-01  y = x₀ * (0.60679 * x₁)\n",
      "7           2.711e-08  6.127e-01  y = x₀ * ((x₁ * 0.54063) + 0.36847)\n",
      "8           2.513e-08  7.589e-02  y = 0.56816 * ((x₁ + inv(x₁)) * x₀)\n",
      "9           2.270e-08  1.016e-01  y = ((x₁ + inv(square(x₁))) * 0.58214) * x₀\n",
      "10          1.735e-08  2.685e-01  y = (x₀ * (inv(x₁ + 0.33781) + x₁)) * 0.57657\n",
      "11          1.592e-08  8.636e-02  y = (x₀ * 0.589) * (inv(square(x₁ + 0.14542)) + x₁)\n",
      "12          1.586e-08  3.372e-03  y = (x₁ + cube(inv(sqrt(x₁ + 0.24474)))) * (x₀ * 0.58574)\n",
      "13          1.552e-08  2.217e-02  y = ((x₀ - 2.8618) * 0.59523) * (x₁ + inv(square(x₁ + 0.15...\n",
      "                                      86)))\n",
      "14          1.548e-08  2.111e-03  y = ((x₀ - cbrt(x₁)) * 0.59295) * (inv(square(x₁ + 0.14654...\n",
      "                                      )) + x₁)\n",
      "15          1.446e-08  6.840e-02  y = (x₁ + inv(square(x₁ + 0.22899))) * (((x₀ - x₁) * 0.609...\n",
      "                                      43) - 0.41561)\n",
      "18          1.430e-08  3.653e-03  y = (((x₁ + cube(inv(cbrt(inv(square(-2.8257 + x₁)) + x₁))...\n",
      "                                      )) * x₀) * 0.59003) - x₁\n",
      "20          1.345e-08  3.086e-02  y = (((x₁ + cube(cbrt(inv(inv(square(x₁ + -2.8257)) + x₁))...\n",
      "                                      )) * x₀) * 0.59003) - cube(sqrt(x₁))\n",
      "24          1.338e-08  1.318e-03  y = (((x₀ * 0.59225) - 0.82367) * (x₁ + cbrt(inv(cube(squa...\n",
      "                                      re(inv(x₁ + -2.8256)) + x₁))))) - sqrt(cube(x₁ + -0.92926)...\n",
      "                                      )\n",
      "───────────────────────────────────────────────────────────────────────────────────────────────────\n",
      "Current Prediction Average Error (%): 0.7541399167525233\n",
      "Best Prediction Average Error (%): 0.44584397516875574\n",
      "Current Model Formula: x0*(x1 + 1/(x1 + 0.33780906))*0.57656896\n",
      "  - outputs/20250702_224931_6YMcHc/hall_of_fame.csv\n",
      "───────────────────────────────────────────────────────────────────────────────────────────────────\n",
      "Complexity  Loss       Score      Equation\n",
      "1           2.403e-06  0.000e+00  y = 576.81\n",
      "3           2.659e-07  1.101e+00  y = x₁ * 175.55\n",
      "5           9.231e-08  5.290e-01  y = (x₀ * x₁) * 0.60679\n",
      "7           2.711e-08  6.127e-01  y = ((x₁ * 0.54067) + 0.36836) * x₀\n",
      "8           2.513e-08  7.589e-02  y = ((x₁ + inv(x₁)) * x₀) * 0.56815\n",
      "9           2.270e-08  1.016e-01  y = (square(inv(x₁)) + x₁) * (x₀ * 0.58214)\n",
      "10          1.827e-08  2.172e-01  y = 0.58398 * (x₀ * (x₁ + inv(x₁ - -0.4883)))\n",
      "12          1.615e-08  6.164e-02  y = (-1.023 - (x₀ * -0.60034)) * ((x₁ + inv(x₁)) + -0.2587...\n",
      "                                      9)\n",
      "13          1.612e-08  1.778e-03  y = ((inv(x₁) + x₁) + -0.25879) * (cbrt(-1.7271) - (x₀ * -...\n",
      "                                      0.60034))\n",
      "14          1.475e-08  8.908e-02  y = -3.5717 - ((((x₁ + -0.30046) + inv(x₁)) * -0.62777) * ...\n",
      "                                      (x₀ - x₁))\n",
      "16          1.407e-08  2.354e-02  y = (-5.0565 - (((inv(x₁) + x₁) + -0.30046) * ((x₀ - x₁) *...\n",
      "                                       -0.62777))) - x₁\n",
      "18          1.383e-08  8.459e-03  y = (cube(inv(-0.46041)) - ((-0.30046 + (inv(x₁) + x₁)) * ...\n",
      "                                      ((x₀ - x₁) * -0.62777))) - x₁\n",
      "20          1.336e-08  1.740e-02  y = ((x₁ + inv(x₁)) - 0.44715) * (((sqrt(square(x₀ * -0.66...\n",
      "                                      468)) - (4.6641 + x₀)) + x₀) - x₁)\n",
      "22          1.275e-08  2.316e-02  y = ((x₁ + inv(x₁)) - 0.27797) * ((x₀ + (square(sqrt(sqrt(...\n",
      "                                      square(x₀ * -0.68394)))) - (x₀ + 16.763))) - 8.4022)\n",
      "25          1.217e-08  1.552e-02  y = (inv(x₁ + 0.034955) + ((inv(x₁) + (x₁ + -0.43781)) * (...\n",
      "                                      sqrt(square(3.3133 - ((x₁ - x₀) * -0.70887))) + -17.592)))...\n",
      "                                       + 1.0629\n",
      "───────────────────────────────────────────────────────────────────────────────────────────────────\n",
      "Current Prediction Average Error (%): 0.6525762990056198\n",
      "Best Prediction Average Error (%): 0.44584397516875574\n",
      "Current Model Formula: -(-0.627773)*(x0 - x1)*(x1 - 0.3004617 + 1/x1) - 3.5716712\n"
     ]
    },
    {
     "name": "stderr",
     "output_type": "stream",
     "text": [
      "[ Info: Started!\n",
      "[ Info: Final population:\n",
      "[ Info: Results saved to:\n",
      "/home/ajt6830/miniconda3/envs/pysr_env/lib/python3.11/site-packages/pysr/sr.py:1270: UserWarning: `extra_sympy_mappings` cannot be pickled and will be removed from the serialized instance. When loading the model, please redefine `extra_sympy_mappings` at runtime.\n",
      "  warnings.warn(warn_msg)\n",
      "/home/ajt6830/miniconda3/envs/pysr_env/lib/python3.11/site-packages/pysr/sr.py:2217: UserWarning: The discovered expressions are being reset. Please set `warm_start=True` if you wish to continue to start a search where you left off.\n",
      "  warnings.warn(\n",
      "/home/ajt6830/miniconda3/envs/pysr_env/lib/python3.11/site-packages/pysr/sr.py:2811: UserWarning: Note: it looks like you are running in Jupyter. The progress bar will be turned off.\n",
      "  warnings.warn(\n"
     ]
    },
    {
     "name": "stdout",
     "output_type": "stream",
     "text": [
      "  - outputs/20250702_224936_8HKSsw/hall_of_fame.csv\n",
      "───────────────────────────────────────────────────────────────────────────────────────────────────\n",
      "Complexity  Loss       Score      Equation\n",
      "1           2.403e-06  0.000e+00  y = 576.69\n",
      "3           2.659e-07  1.101e+00  y = x₁ * 175.55\n",
      "5           9.231e-08  5.290e-01  y = (x₁ * 0.60679) * x₀\n",
      "7           2.712e-08  6.124e-01  y = ((x₁ + 0.69214) * x₀) * 0.53965\n",
      "8           2.513e-08  7.637e-02  y = ((inv(x₁) + x₁) * x₀) * 0.56815\n",
      "9           2.270e-08  1.016e-01  y = (inv(square(x₁)) + x₁) * (x₀ * 0.58214)\n",
      "10          1.770e-08  2.485e-01  y = (x₁ + inv(x₁ + 0.46987)) * (x₀ * 0.57876)\n",
      "12          1.740e-08  8.673e-03  y = ((x₀ * (x₁ + inv(x₁ + 0.30407))) * 0.5762) - 0.43939\n",
      "14          1.674e-08  1.930e-02  y = ((x₁ * x₀) * 0.60197) + (x₀ * (inv(x₁ + 0.53658) + -0....\n",
      "                                      23871))\n",
      "16          1.643e-08  9.349e-03  y = (((x₀ * x₁) + (inv((x₁ + x₁) + -0.52928) * x₀)) * 0.58...\n",
      "                                      56) - -0.035812\n",
      "18          1.534e-08  3.441e-02  y = (x₀ * inv(((x₁ - 0.55531) + 0.079746) * sqrt(sqrt(x₀))...\n",
      "                                      )) + ((x₀ * 0.58504) * x₁)\n",
      "19          1.521e-08  8.202e-03  y = (x₁ * (x₀ * 0.57546)) + ((inv(square(0.16278 - x₁) * s...\n",
      "                                      qrt(sqrt(x₀))) + 0.1183) * x₀)\n",
      "23          1.510e-08  1.924e-03  y = ((((x₁ * x₀) * 0.57341) + (x₀ * (inv(sqrt(sqrt(x₀)) * ...\n",
      "                                      cube(x₁ - 0.096874)) + 0.17104))) - 6.0818) - x₁\n",
      "25          1.499e-08  3.533e-03  y = ((((x₁ * x₀) * 0.57341) + (x₀ * (inv(sqrt(sqrt(x₀)) * ...\n",
      "                                      cube(x₁ - (x₁ * 0.096874))) + 0.17104))) - 6.0818) - x₁\n",
      "27          1.497e-08  7.545e-04  y = ((((x₁ * (x₀ * 0.57341)) + (x₀ * (inv(sqrt(sqrt(x₀)) *...\n",
      "                                       cube(x₁ - (x₁ * 0.096874))) + 0.17104))) - 6.0818) - x₁) ...\n",
      "                                      + -0.42104\n",
      "───────────────────────────────────────────────────────────────────────────────────────────────────\n",
      "Current Prediction Average Error (%): 0.7682907685765247\n",
      "Best Prediction Average Error (%): 0.44584397516875574\n",
      "Current Model Formula: (x1 + 1/(x1 + 0.46987477))*x0*0.5787611\n"
     ]
    },
    {
     "name": "stderr",
     "output_type": "stream",
     "text": [
      "[ Info: Started!\n",
      "[ Info: Final population:\n",
      "[ Info: Results saved to:\n",
      "/home/ajt6830/miniconda3/envs/pysr_env/lib/python3.11/site-packages/pysr/sr.py:2217: UserWarning: The discovered expressions are being reset. Please set `warm_start=True` if you wish to continue to start a search where you left off.\n",
      "  warnings.warn(\n",
      "/home/ajt6830/miniconda3/envs/pysr_env/lib/python3.11/site-packages/pysr/sr.py:2811: UserWarning: Note: it looks like you are running in Jupyter. The progress bar will be turned off.\n",
      "  warnings.warn(\n"
     ]
    },
    {
     "name": "stdout",
     "output_type": "stream",
     "text": [
      "  - outputs/20250702_224942_qDfbpi/hall_of_fame.csv\n"
     ]
    },
    {
     "name": "stderr",
     "output_type": "stream",
     "text": [
      "[ Info: Started!\n",
      "[ Info: Final population:\n",
      "[ Info: Results saved to:\n",
      "/home/ajt6830/miniconda3/envs/pysr_env/lib/python3.11/site-packages/pysr/sr.py:2217: UserWarning: The discovered expressions are being reset. Please set `warm_start=True` if you wish to continue to start a search where you left off.\n",
      "  warnings.warn(\n",
      "/home/ajt6830/miniconda3/envs/pysr_env/lib/python3.11/site-packages/pysr/sr.py:2811: UserWarning: Note: it looks like you are running in Jupyter. The progress bar will be turned off.\n",
      "  warnings.warn(\n"
     ]
    },
    {
     "name": "stdout",
     "output_type": "stream",
     "text": [
      "───────────────────────────────────────────────────────────────────────────────────────────────────\n",
      "Complexity  Loss       Score      Equation\n",
      "1           2.403e-06  0.000e+00  y = 576.82\n",
      "3           2.659e-07  1.101e+00  y = x₁ * 175.56\n",
      "5           9.231e-08  5.290e-01  y = x₀ * (x₁ * 0.60679)\n",
      "7           2.711e-08  6.127e-01  y = x₀ * ((x₁ * 0.54069) - -0.36814)\n",
      "9           2.707e-08  6.472e-04  y = ((x₁ * 0.54201) - -0.3684) * (x₀ - 0.65649)\n",
      "10          1.796e-08  4.104e-01  y = ((inv(-0.42451 - x₁) - x₁) * x₀) * -0.58323\n",
      "11          1.572e-08  1.333e-01  y = x₀ * (square(inv(x₁ + 0.50746)) - (x₁ * -0.58718))\n",
      "13          1.548e-08  7.466e-03  y = ((inv(square(x₁ + 0.50999)) - (x₁ * -0.58974)) * x₀) -...\n",
      "                                       x₁\n",
      "15          1.546e-08  8.647e-04  y = (inv(square(0.50746 + x₁)) - (-0.58718 * x₁)) * (x₀ - ...\n",
      "                                      (0.12638 * x₁))\n",
      "17          1.538e-08  2.645e-03  y = (x₀ * (inv(square(x₁) - (x₁ * -1.1798)) - (x₁ * -0.593...\n",
      "                                      58))) - (x₁ + x₁)\n",
      "18          1.517e-08  1.369e-02  y = (inv(square(x₁) - (-1.1798 * x₁)) - (x₁ * -0.59358)) *...\n",
      "                                       (-1.0417 + (x₀ - sqrt(x₁)))\n",
      "20          1.514e-08  1.041e-03  y = ((inv(square(x₁) - (-1.1798 * x₁)) - (x₁ * -0.59358)) ...\n",
      "                                      * (-1.0417 + (x₀ - sqrt(x₁)))) + -1.0816\n",
      "22          1.462e-08  1.747e-02  y = ((inv((square(x₁) * sqrt(x₁)) - (x₁ * -1.1797)) - (x₁ ...\n",
      "                                      * -0.60918)) * ((x₀ - x₁) + 0.72104)) - x₁\n",
      "27          1.438e-08  3.211e-03  y = (((inv(((square(x₁) - (inv(-1.1798) - -0.59367)) * sqr...\n",
      "                                      t(x₁)) - (x₁ * -1.1797)) - (x₁ * -0.60918)) * (x₀ - x₁)) +...\n",
      "                                       -1.1247) - x₁\n",
      "28          1.422e-08  1.159e-02  y = ((inv(((x₁ - (inv(-1.1798 * x₁) - -0.59367)) * square(...\n",
      "                                      x₁)) - (x₁ * -1.1797)) - (x₁ * -0.60918)) * (x₀ - x₁)) + (...\n",
      "                                      0.72104 - x₁)\n",
      "29          1.415e-08  4.503e-03  y = ((inv(((square(x₁) - (inv(-1.1798 * x₁) - -0.59367)) *...\n",
      "                                       sqrt(x₁)) - (x₁ * -1.1797)) - (x₁ * -0.60918)) * ((x₀ - x...\n",
      "                                      ₁) + 0.72104)) - x₁\n",
      "30          1.415e-08  4.808e-04  y = ((inv(((square(x₁) - (inv(-1.1798 * x₁) - -0.59367)) *...\n",
      "                                       sqrt(x₁)) - (x₁ * -1.1797)) - (x₁ * -0.60918)) * ((x₀ - x...\n",
      "                                      ₁) + cbrt(1.2691))) - x₁\n",
      "───────────────────────────────────────────────────────────────────────────────────────────────────\n",
      "Current Prediction Average Error (%): 0.7521151118126962\n",
      "Best Prediction Average Error (%): 0.44584397516875574\n",
      "Current Model Formula: (-x1 + 1/(-x1 - 0.4245062))*x0*(-0.5832326)\n",
      "  - outputs/20250702_224948_YQIa4H/hall_of_fame.csv\n"
     ]
    },
    {
     "name": "stderr",
     "output_type": "stream",
     "text": [
      "[ Info: Started!\n",
      "[ Info: Final population:\n",
      "[ Info: Results saved to:\n"
     ]
    },
    {
     "name": "stdout",
     "output_type": "stream",
     "text": [
      "───────────────────────────────────────────────────────────────────────────────────────────────────\n",
      "Complexity  Loss       Score      Equation\n",
      "1           2.403e-06  0.000e+00  y = 576.79\n",
      "3           2.659e-07  1.101e+00  y = x₁ * 175.56\n",
      "5           9.231e-08  5.290e-01  y = x₀ * (x₁ * 0.60679)\n",
      "7           2.711e-08  6.126e-01  y = ((x₁ * 0.54058) + 0.36825) * x₀\n",
      "8           2.513e-08  7.590e-02  y = (x₀ * (inv(x₁) + x₁)) * 0.56816\n",
      "10          1.649e-08  2.105e-01  y = x₀ * ((x₁ + (inv(x₁) - 0.23876)) * 0.59486)\n",
      "12          1.393e-08  8.433e-02  y = ((x₁ + -0.45339) + inv(x₁)) * ((x₀ * 0.64974) - x₁)\n",
      "14          1.323e-08  2.584e-02  y = (((x₀ - x₁) * 0.65711) - 9.8131) * ((inv(x₁) + -0.3260...\n",
      "                                      7) + x₁)\n",
      "16          1.307e-08  6.186e-03  y = (((x₁ + -0.32607) + inv(x₁)) * (((x₀ - x₁) * 0.65711) ...\n",
      "                                      - 9.8131)) + -3.5377\n",
      "18          1.271e-08  1.392e-02  y = (((((x₀ - x₁) * 0.66608) - 10.799) * (inv(x₁) + (x₁ + ...\n",
      "                                      -0.34149))) - 3.7885) + -1.6589\n",
      "25          1.261e-08  1.136e-03  y = ((((x₀ - x₁) * 0.6303) - cbrt(cbrt(cube(inv(inv(x₁) + ...\n",
      "                                      -0.32872) + x₁)))) * ((x₁ + inv(x₁)) + -0.32872)) - 3.7392\n",
      "27          1.260e-08  3.998e-04  y = (((inv(x₁) + -0.32872) + x₁) * (((x₀ - x₁) * 0.6303) -...\n",
      "                                       cbrt(cbrt(cube(x₁ + inv(inv(x₁) + -0.32872)) + -0.68241))...\n",
      "                                      )) - 3.6791\n",
      "29          1.222e-08  1.542e-02  y = (((((x₀ - x₁) * 0.63712) - cbrt(cbrt(cube((inv(inv(x₁)...\n",
      "                                       + -0.33198) + -0.37317) + x₁)))) * ((x₁ + inv(x₁)) + -0.3...\n",
      "                                      3648)) - 2.7873) - x₁\n",
      "30          1.219e-08  1.774e-03  y = (((((x₀ - x₁) * 0.63712) - cbrt(cbrt(cube(inv(inv(x₁) ...\n",
      "                                      + -0.33198) + (inv(x₁) + x₁))))) * (x₁ + (inv(x₁) + -0.336...\n",
      "                                      48))) - 2.7873) - x₁\n",
      "───────────────────────────────────────────────────────────────────────────────────────────────────\n",
      "Current Prediction Average Error (%): 0.7954811965101076\n",
      "Best Prediction Average Error (%): 0.44584397516875574\n",
      "Current Model Formula: x0*(x1 - 1*0.23876463 + 1/x1)*0.5948588\n"
     ]
    },
    {
     "name": "stderr",
     "output_type": "stream",
     "text": [
      "/home/ajt6830/miniconda3/envs/pysr_env/lib/python3.11/site-packages/pysr/sr.py:2217: UserWarning: The discovered expressions are being reset. Please set `warm_start=True` if you wish to continue to start a search where you left off.\n",
      "  warnings.warn(\n",
      "/home/ajt6830/miniconda3/envs/pysr_env/lib/python3.11/site-packages/pysr/sr.py:2811: UserWarning: Note: it looks like you are running in Jupyter. The progress bar will be turned off.\n",
      "  warnings.warn(\n"
     ]
    },
    {
     "name": "stdout",
     "output_type": "stream",
     "text": [
      "  - outputs/20250702_224953_RGspyD/hall_of_fame.csv\n"
     ]
    },
    {
     "name": "stderr",
     "output_type": "stream",
     "text": [
      "[ Info: Started!\n",
      "[ Info: Final population:\n",
      "[ Info: Results saved to:\n",
      "/home/ajt6830/miniconda3/envs/pysr_env/lib/python3.11/site-packages/pysr/sr.py:2217: UserWarning: The discovered expressions are being reset. Please set `warm_start=True` if you wish to continue to start a search where you left off.\n",
      "  warnings.warn(\n",
      "/home/ajt6830/miniconda3/envs/pysr_env/lib/python3.11/site-packages/pysr/sr.py:2811: UserWarning: Note: it looks like you are running in Jupyter. The progress bar will be turned off.\n",
      "  warnings.warn(\n"
     ]
    },
    {
     "name": "stdout",
     "output_type": "stream",
     "text": [
      "───────────────────────────────────────────────────────────────────────────────────────────────────\n",
      "Complexity  Loss       Score      Equation\n",
      "1           2.403e-06  0.000e+00  y = 576.73\n",
      "3           2.659e-07  1.101e+00  y = x₁ * 175.55\n",
      "5           9.231e-08  5.290e-01  y = x₀ * (x₁ * 0.60679)\n",
      "7           2.711e-08  6.127e-01  y = x₀ * ((x₁ * 0.54067) - -0.36837)\n",
      "8           2.513e-08  7.589e-02  y = (x₀ * 0.56815) * (x₁ + inv(x₁))\n",
      "9           2.270e-08  1.016e-01  y = (0.58214 * x₀) * (x₁ + inv(square(x₁)))\n",
      "10          1.637e-08  3.266e-01  y = (x₀ * 0.58023) * (x₁ + inv(x₁ * 1.3543))\n",
      "11          1.592e-08  2.834e-02  y = (square(inv(x₁ + 0.14627)) + x₁) * (x₀ * 0.58904)\n",
      "13          1.437e-08  5.106e-02  y = ((inv(cube(x₁) * 2.2864) + 0.60993) * (x₀ - x₁)) * x₁\n",
      "15          1.428e-08  3.125e-03  y = ((x₀ - x₁) * ((inv(cube(x₁) * 2.2864) + 0.60993) * x₁)...\n",
      "                                      ) + -2.0347\n",
      "16          1.411e-08  1.201e-02  y = ((x₀ - x₁) * 0.61472) * (inv(square(x₁ * 0.46412) * cb...\n",
      "                                      rt(x₀)) + x₁)\n",
      "17          1.388e-08  1.677e-02  y = ((inv((x₁ + (cube(x₁) * x₁)) + 0.40222) + 0.61061) * x...\n",
      "                                      ₁) * (x₀ - x₁)\n",
      "18          1.360e-08  1.993e-02  y = (((x₀ - x₁) * 0.61331) - 0.94211) * (inv(square(x₁ * 0...\n",
      "                                      .46378) * cbrt(x₀)) + x₁)\n",
      "24          1.357e-08  3.809e-04  y = (((x₀ - (x₁ + 0.58552)) * (x₁ + inv(square(x₁ * (sqrt(...\n",
      "                                      x₁ * 0.24785) * x₁)) + 1.2472))) * 0.61657) - x₁\n",
      "26          1.354e-08  1.046e-03  y = ((((x₀ - x₁) * 0.61657) - 0.78753) * (inv(sqrt(cbrt(0....\n",
      "                                      78753)) + (sqrt(0.24785 * x₁) * (square(x₁) * x₁))) + x₁))...\n",
      "                                       - x₁\n",
      "27          1.340e-08  1.036e-02  y = ((((x₁ + cbrt(inv((square(x₁ * -0.10002) * x₁) * ((cub...\n",
      "                                      e(x₁) * x₀) - x₁)))) * (x₀ - x₁)) * 0.61671) - x₁) - x₁\n",
      "28          1.335e-08  3.810e-03  y = ((inv(square((x₁ * (sqrt(x₁) * 0.32081)) * sqrt(cbrt(x...\n",
      "                                      ₀ * x₁))) + 0.68298) + x₁) * (((x₀ - x₁) * 0.61816) - 1.13...\n",
      "                                      71)) - x₁\n",
      "───────────────────────────────────────────────────────────────────────────────────────────────────\n",
      "Current Prediction Average Error (%): 0.7440956125317787\n",
      "Best Prediction Average Error (%): 0.44584397516875574\n",
      "Current Model Formula: x0*0.5802306*(x1 + 0.738397286537651/x1)\n",
      "  - outputs/20250702_224959_VEKgXW/hall_of_fame.csv\n",
      "───────────────────────────────────────────────────────────────────────────────────────────────────\n",
      "Complexity  Loss       Score      Equation\n",
      "1           2.403e-06  0.000e+00  y = 576.84\n",
      "3           2.659e-07  1.101e+00  y = x₁ * 175.56\n",
      "5           9.231e-08  5.290e-01  y = x₀ * (x₁ * 0.60679)\n",
      "7           2.711e-08  6.127e-01  y = x₀ * ((x₁ * 0.54065) - -0.36854)\n",
      "9           2.701e-08  1.775e-03  y = (((x₁ * 0.54414) + 0.36785) * x₀) - x₁\n",
      "10          1.973e-08  3.143e-01  y = (((x₁ + 1.3777) - sqrt(x₁)) * 0.7116) * x₀\n",
      "12          1.778e-08  5.198e-02  y = x₀ + (((x₁ - sqrt(x₁)) * 0.73382) * (x₀ - x₁))\n",
      "20          1.749e-08  2.042e-03  y = ((x₁ - 1.692) * (x₀ * 0.54328)) + ((x₀ - inv(0.12915 *...\n",
      "                                       (x₁ - 2.8899))) + (x₀ * 0.31049))\n",
      "22          1.749e-08  3.255e-05  y = (((((x₁ - 1.692) * (x₀ * 0.54328)) + x₀) - inv((x₁ - 2...\n",
      "                                      .8899) * 0.12915)) + (x₀ * 0.31049)) - -0.24838\n",
      "24          1.735e-08  4.048e-03  y = (x₀ - (inv((x₁ - 2.894) * 0.12815) + -5.799)) + (((x₀ ...\n",
      "                                      * 0.29689) + (0.54735 * (x₀ * (x₁ - 1.6994)))) - x₁)\n",
      "25          1.665e-08  4.110e-02  y = ((0.29689 * x₀) + (0.54735 * ((x₁ - 1.6994) * x₀))) + ...\n",
      "                                      (x₀ - (inv((x₁ - 2.894) * 0.12815) + inv(-0.090328 * x₁)))\n",
      "27          1.450e-08  6.916e-02  y = ((x₀ * 0.29894) + (x₀ - inv((x₁ - 2.8931) * 0.12866)))...\n",
      "                                       + ((x₁ - 1.6983) * ((x₀ * 0.55133) - inv((0.80655 - x₁) *...\n",
      "                                       -0.11135)))\n",
      "30          1.449e-08  1.551e-04  y = (x₀ + ((x₀ * 0.29894) - inv(0.12866 * (x₁ - 2.8931))))...\n",
      "                                       + ((x₁ - 1.6983) * ((0.55133 * x₀) - inv(-0.11135 * (0.80...\n",
      "                                      655 - (x₁ + inv(x₀))))))\n",
      "───────────────────────────────────────────────────────────────────────────────────────────────────\n",
      "Current Prediction Average Error (%): 0.8536179680577294\n",
      "Best Prediction Average Error (%): 0.44584397516875574\n",
      "Current Model Formula: x0*(-0.711603*sqrt(x1) + 0.711603*x1 + 0.9803980820754)\n"
     ]
    },
    {
     "name": "stderr",
     "output_type": "stream",
     "text": [
      "[ Info: Started!\n",
      "[ Info: Final population:\n",
      "[ Info: Results saved to:\n",
      "/home/ajt6830/miniconda3/envs/pysr_env/lib/python3.11/site-packages/pysr/sr.py:2217: UserWarning: The discovered expressions are being reset. Please set `warm_start=True` if you wish to continue to start a search where you left off.\n",
      "  warnings.warn(\n",
      "/home/ajt6830/miniconda3/envs/pysr_env/lib/python3.11/site-packages/pysr/sr.py:2811: UserWarning: Note: it looks like you are running in Jupyter. The progress bar will be turned off.\n",
      "  warnings.warn(\n"
     ]
    },
    {
     "name": "stdout",
     "output_type": "stream",
     "text": [
      "  - outputs/20250702_225004_M4BZ5F/hall_of_fame.csv\n",
      "───────────────────────────────────────────────────────────────────────────────────────────────────\n",
      "Complexity  Loss       Score      Equation\n",
      "1           2.403e-06  0.000e+00  y = 576.8\n",
      "3           2.659e-07  1.101e+00  y = x₁ * 175.56\n",
      "5           9.231e-08  5.290e-01  y = x₀ * (x₁ * 0.60678)\n",
      "7           2.711e-08  6.126e-01  y = (0.36783 + (x₁ * 0.5407)) * x₀\n",
      "8           2.513e-08  7.590e-02  y = ((inv(x₁) + x₁) * x₀) * 0.56816\n",
      "9           2.270e-08  1.016e-01  y = ((square(inv(x₁)) + x₁) * x₀) * 0.58214\n",
      "10          1.639e-08  3.258e-01  y = (((x₁ + inv(x₁)) * 0.59772) - 0.15634) * x₀\n",
      "12          1.407e-08  7.628e-02  y = ((0.39581 - (inv(x₁) + x₁)) * (x₀ - x₁)) * -0.63186\n",
      "13          1.404e-08  2.354e-03  y = (sqrt(0.1524) - (x₁ + inv(x₁))) * ((x₀ - x₁) * -0.6318...\n",
      "                                      6)\n",
      "14          1.397e-08  4.538e-03  y = (((0.37671 - (x₁ + inv(x₁))) * -0.62926) * (x₀ - x₁)) ...\n",
      "                                      + 0.3717\n",
      "15          1.393e-08  3.063e-03  y = ((sqrt(0.1524) - (x₁ + inv(x₁))) * ((x₀ - x₁) * -0.631...\n",
      "                                      86)) - x₁\n",
      "17          1.345e-08  1.738e-02  y = sqrt(square(((x₀ * 0.73926) - square(cbrt(x₀))) * (inv...\n",
      "                                      (square(-0.1684 - x₁)) + x₁)))\n",
      "19          1.335e-08  3.863e-03  y = square(sqrt((inv(square(x₁ - -0.16711)) + x₁) * (0.777...\n",
      "                                      42 * (x₀ - cbrt(square(x₀ + x₀))))))\n",
      "21          1.302e-08  1.263e-02  y = square(sqrt((x₁ + inv(square(x₁ - -0.16711))) * (0.777...\n",
      "                                      42 * (x₀ - cbrt(square((x₀ + x₀) + x₁))))))\n",
      "23          1.285e-08  6.577e-03  y = ((square(inv(-0.16711 - x₁)) + x₁) * (0.77742 * (x₀ - ...\n",
      "                                      square(cbrt((x₁ + x₀) + (x₁ + x₀)))))) - -0.92703\n",
      "25          1.281e-08  1.527e-03  y = ((square(inv(-0.16853 - x₁)) + x₁) * ((x₀ - square(cbr...\n",
      "                                      t(x₁ + ((x₁ + (x₀ + x₀)) + 6.5298)))) * 0.77881)) - -1.267...\n",
      "                                      7\n",
      "26          1.230e-08  4.079e-02  y = ((square(inv(x₁ - -0.16711)) + x₁) * ((x₀ - cbrt(squar...\n",
      "                                      e((inv(3.0055 - x₁) + x₀) + (x₀ + x₁)))) * 0.77742)) - -2....\n",
      "                                      3364\n",
      "28          1.215e-08  5.949e-03  y = ((square(inv(x₁ - -0.16711)) + x₁) * ((x₀ - cbrt(squar...\n",
      "                                      e((x₀ + x₁) + (inv(3.0055 - x₁) + (x₁ + x₀))))) * 0.77742)...\n",
      "                                      ) - -2.3364\n",
      "30          1.210e-08  2.071e-03  y = (((square(inv(x₁ - -0.16711)) + x₁) * ((x₀ - cbrt(squa...\n",
      "                                      re(((inv(3.0055 - x₁) + x₀) + (x₀ + x₁)) + x₁))) * 0.77742...\n",
      "                                      )) - -2.3364) - -0.56419\n",
      "───────────────────────────────────────────────────────────────────────────────────────────────────\n"
     ]
    },
    {
     "name": "stderr",
     "output_type": "stream",
     "text": [
      "[ Info: Started!\n",
      "[ Info: Final population:\n",
      "[ Info: Results saved to:\n"
     ]
    },
    {
     "name": "stdout",
     "output_type": "stream",
     "text": [
      "Current Prediction Average Error (%): 0.7958003268752382\n",
      "Best Prediction Average Error (%): 0.44584397516875574\n",
      "Current Model Formula: x0*((x1 + 1/x1)*0.59771854 - 1*0.15633714)\n"
     ]
    },
    {
     "name": "stderr",
     "output_type": "stream",
     "text": [
      "/home/ajt6830/miniconda3/envs/pysr_env/lib/python3.11/site-packages/pysr/sr.py:2217: UserWarning: The discovered expressions are being reset. Please set `warm_start=True` if you wish to continue to start a search where you left off.\n",
      "  warnings.warn(\n",
      "/home/ajt6830/miniconda3/envs/pysr_env/lib/python3.11/site-packages/pysr/sr.py:2811: UserWarning: Note: it looks like you are running in Jupyter. The progress bar will be turned off.\n",
      "  warnings.warn(\n"
     ]
    },
    {
     "name": "stdout",
     "output_type": "stream",
     "text": [
      "  - outputs/20250702_225010_koSI8y/hall_of_fame.csv\n",
      "───────────────────────────────────────────────────────────────────────────────────────────────────\n",
      "Complexity  Loss       Score      Equation\n",
      "1           2.403e-06  0.000e+00  y = 576.77\n",
      "3           2.659e-07  1.101e+00  y = x₁ * 175.55\n",
      "5           9.231e-08  5.290e-01  y = (x₁ * x₀) * 0.60679\n",
      "7           2.713e-08  6.121e-01  y = (x₀ * 0.54212) * (x₁ + 0.66557)\n",
      "8           2.513e-08  7.690e-02  y = ((inv(x₁) + x₁) * x₀) * 0.56816\n",
      "10          1.727e-08  1.876e-01  y = x₀ * ((x₁ + inv(x₁ * 1.2239)) * 0.57675)\n",
      "12          1.608e-08  3.551e-02  y = ((x₁ * 0.58112) + inv(-0.5242 - (x₁ * -2.74))) * x₀\n",
      "19          1.556e-08  4.746e-03  y = x₀ + (((cbrt(x₁) * (x₁ * 0.26622)) - 0.2736) * (x₀ + (...\n",
      "                                      cbrt(x₁ * -2.0553) * x₁)))\n",
      "21          1.529e-08  8.620e-03  y = (((x₁ * (0.98745 - sqrt(x₁))) + x₀) * ((x₁ * (cbrt(x₁ ...\n",
      "                                      * x₀) * 0.039692)) - 0.30745)) + x₀\n",
      "22          1.405e-08  8.445e-02  y = (((x₁ * (cbrt(x₀ * x₁) * 0.040681)) - 0.30744) * (x₀ +...\n",
      "                                       ((-0.65895 - cbrt(sqrt(x₀))) * x₁))) + x₀\n",
      "24          1.394e-08  4.078e-03  y = (x₀ + (((cbrt(x₀ * x₁) * (x₁ * 0.040496)) - 0.30745) *...\n",
      "                                       (x₀ + (x₁ * (-0.65895 - cbrt(sqrt(x₀))))))) + x₁\n",
      "25          1.389e-08  3.222e-03  y = ((((cbrt(x₀ * x₁) * (x₁ * 0.040496)) - 0.30745) * (x₀ ...\n",
      "                                      + (x₁ * (-0.65895 - sqrt(cbrt(x₀)))))) + x₀) + cbrt(x₀)\n",
      "26          1.388e-08  7.674e-04  y = ((((((x₁ * 0.040496) * cbrt(x₀ * x₁)) - 0.30745) * (x₀...\n",
      "                                       + ((-0.65895 - cbrt(sqrt(x₀))) * x₁))) + x₀) + x₁) - -1.2...\n",
      "                                      183\n",
      "───────────────────────────────────────────────────────────────────────────────────────────────────\n",
      "Current Prediction Average Error (%): 0.7496551977693529\n",
      "Best Prediction Average Error (%): 0.44584397516875574\n",
      "Current Model Formula: x0*(x1 + 0.817085052344103/x1)*0.5767544\n"
     ]
    },
    {
     "name": "stderr",
     "output_type": "stream",
     "text": [
      "[ Info: Started!\n",
      "[ Info: Final population:\n",
      "[ Info: Results saved to:\n",
      "/home/ajt6830/miniconda3/envs/pysr_env/lib/python3.11/site-packages/pysr/sr.py:2217: UserWarning: The discovered expressions are being reset. Please set `warm_start=True` if you wish to continue to start a search where you left off.\n",
      "  warnings.warn(\n",
      "/home/ajt6830/miniconda3/envs/pysr_env/lib/python3.11/site-packages/pysr/sr.py:2811: UserWarning: Note: it looks like you are running in Jupyter. The progress bar will be turned off.\n",
      "  warnings.warn(\n"
     ]
    },
    {
     "name": "stdout",
     "output_type": "stream",
     "text": [
      "  - outputs/20250702_225015_iqkgHa/hall_of_fame.csv\n",
      "───────────────────────────────────────────────────────────────────────────────────────────────────\n",
      "Complexity  Loss       Score      Equation\n",
      "1           2.403e-06  0.000e+00  y = 576.77\n",
      "3           2.659e-07  1.101e+00  y = x₁ * 175.55\n",
      "5           9.231e-08  5.290e-01  y = x₁ * (x₀ * 0.60677)\n",
      "7           2.711e-08  6.126e-01  y = x₀ * ((x₁ + 0.67947) * 0.54085)\n",
      "8           2.513e-08  7.590e-02  y = (x₀ * (inv(x₁) + x₁)) * 0.56815\n",
      "9           2.270e-08  1.016e-01  y = x₀ * ((x₁ + square(inv(x₁))) * 0.58214)\n",
      "10          1.637e-08  3.269e-01  y = x₀ * ((x₁ + inv(x₁ * 1.3629)) * 0.58042)\n",
      "11          1.578e-08  3.694e-02  y = (x₁ + inv(square(x₁) + 0.34171)) * (x₀ * 0.58894)\n",
      "12          1.575e-08  1.523e-03  y = x₀ * ((inv((x₁ + x₁) + -0.67057) + x₁) * 0.5836)\n",
      "13          1.570e-08  3.283e-03  y = ((inv(0.34171 + square(x₁)) + x₁) * (x₀ * 0.58894)) - ...\n",
      "                                      x₁\n",
      "14          1.557e-08  8.531e-03  y = (x₀ * 0.57933) * (inv((x₁ + 0.50342) * x₁) + (x₁ + 0.1...\n",
      "                                      1244))\n",
      "15          1.466e-08  5.985e-02  y = (0.5968 * ((x₁ * -0.48614) + x₀)) * (x₁ + square(inv(0...\n",
      "                                      .18207 + x₁)))\n",
      "17          1.466e-08  5.960e-08  y = (0.5968 * ((-0.48614 * cube(cbrt(x₁))) + x₀)) * (x₁ + ...\n",
      "                                      inv(square(0.18207 + x₁)))\n",
      "18          1.462e-08  2.869e-03  y = (inv((x₁ * sqrt(cbrt(x₀))) * x₁) + (x₁ * 0.61196)) * (...\n",
      "                                      (-0.28384 - x₁) + x₀)\n",
      "22          1.457e-08  9.107e-04  y = ((x₁ * -1.0698) + (x₀ + -2.8165)) * (cbrt(sqrt(inv(x₀ ...\n",
      "                                      * cube(cube(0.93533 * x₁))))) + (x₁ * 0.60947))\n",
      "24          1.451e-08  1.864e-03  y = ((((x₁ * -0.81923) - 0.63316) + x₀) * (inv(cbrt(sqrt(x...\n",
      "                                      ₀ * cube(cube(x₁))))) + (x₁ * 0.6108))) + (x₁ * -1.4847)\n",
      "25          1.420e-08  2.167e-02  y = (((x₁ * -1.0698) + x₀) + cube(0.48986)) * (cbrt(inv(sq...\n",
      "                                      rt((x₀ * x₁) * cube(cube(0.93533 * x₁))))) + (x₁ * 0.60947...\n",
      "                                      ))\n",
      "28          1.396e-08  5.700e-03  y = ((x₀ * ((inv((x₁ * x₁) + 0.50342) + (x₁ + 0.11244)) * ...\n",
      "                                      0.57933)) - inv((x₁ + 0.69911) - (x₁ * 1.2211))) + (sqrt(x...\n",
      "                                      ₁) + 0.11244)\n",
      "───────────────────────────────────────────────────────────────────────────────────────────────────\n",
      "Current Prediction Average Error (%): 0.7451001410904924\n",
      "Best Prediction Average Error (%): 0.44584397516875574\n",
      "Current Model Formula: x0*(x1 + 0.733714581212592/x1)*0.5804243\n"
     ]
    },
    {
     "name": "stderr",
     "output_type": "stream",
     "text": [
      "[ Info: Started!\n",
      "[ Info: Final population:\n",
      "[ Info: Results saved to:\n",
      "/home/ajt6830/miniconda3/envs/pysr_env/lib/python3.11/site-packages/pysr/sr.py:2217: UserWarning: The discovered expressions are being reset. Please set `warm_start=True` if you wish to continue to start a search where you left off.\n",
      "  warnings.warn(\n",
      "/home/ajt6830/miniconda3/envs/pysr_env/lib/python3.11/site-packages/pysr/sr.py:2811: UserWarning: Note: it looks like you are running in Jupyter. The progress bar will be turned off.\n",
      "  warnings.warn(\n"
     ]
    },
    {
     "name": "stdout",
     "output_type": "stream",
     "text": [
      "  - outputs/20250702_225021_GDQZJf/hall_of_fame.csv\n",
      "───────────────────────────────────────────────────────────────────────────────────────────────────\n",
      "Complexity  Loss       Score      Equation\n",
      "1           2.403e-06  0.000e+00  y = 576.75\n",
      "3           2.659e-07  1.101e+00  y = x₁ * 175.55\n",
      "5           9.231e-08  5.290e-01  y = (x₁ * x₀) * 0.60678\n",
      "7           2.711e-08  6.126e-01  y = (x₀ * (x₁ + 0.68214)) * 0.54066\n",
      "8           2.513e-08  7.590e-02  y = (inv(x₁) + x₁) * (x₀ * 0.56816)\n",
      "9           2.270e-08  1.016e-01  y = x₀ * ((x₁ + square(inv(x₁))) * 0.58214)\n",
      "10          1.641e-08  3.246e-01  y = (((x₁ + -0.28075) + inv(x₁)) * 0.59995) * x₀\n",
      "12          1.380e-08  8.663e-02  y = ((inv(x₁) + -0.41468) + x₁) * ((x₀ * 0.64495) - x₁)\n",
      "14          1.355e-08  8.925e-03  y = ((inv(x₁) + -0.44644) + x₁) * (((x₀ * 0.65799) - x₁) +...\n",
      "                                       -2.6836)\n",
      "15          1.299e-08  4.260e-02  y = ((x₁ + inv(x₁)) + -0.38991) * (((x₀ - x₁) * 0.6938) - ...\n",
      "                                      sqrt(x₀))\n",
      "17          1.272e-08  1.039e-02  y = (((-0.38991 + x₁) + inv(x₁)) * (((x₀ - x₁) * 0.6938) -...\n",
      "                                       sqrt(x₀))) - x₁\n",
      "19          1.257e-08  5.983e-03  y = (((((x₀ - x₁) * 0.70411) + -2.1142) - sqrt(x₀)) * (inv...\n",
      "                                      (x₁) + (x₁ + -0.40839))) - x₁\n",
      "20          1.231e-08  2.050e-02  y = (((x₁ + -0.32587) + inv(x₁)) * ((((-3.4683 - x₁) + (x₀...\n",
      "                                       * 1.7572)) * 0.4016) - 24.071)) - x₁\n",
      "22          1.228e-08  1.432e-03  y = ((x₁ + (inv(x₁) + -0.34444)) * ((((x₀ * 1.4048) + (-4....\n",
      "                                      0117 - x₁)) * 0.48438) - 14.592)) - (x₁ + 1.4048)\n",
      "23          1.210e-08  1.493e-02  y = inv(inv(x₁) + -0.40907) + (((((x₀ - x₁) * 0.69969) - s...\n",
      "                                      qrt(x₀)) * (inv(x₁) + (-0.40907 + x₁))) - x₁)\n",
      "25          1.180e-08  1.232e-02  y = (((((x₀ - x₁) * 0.69969) - sqrt(x₀)) * ((inv(x₁) + -0....\n",
      "                                      40907) + x₁)) - x₁) + inv((inv(x₁) + -0.40907) + 0.024893)\n",
      "───────────────────────────────────────────────────────────────────────────────────────────────────\n",
      "Current Prediction Average Error (%): 0.8062191615677702\n",
      "Best Prediction Average Error (%): 0.44584397516875574\n",
      "Current Model Formula: (x1 - 0.28074935 + 1/x1)*0.59994924*x0\n"
     ]
    },
    {
     "name": "stderr",
     "output_type": "stream",
     "text": [
      "[ Info: Started!\n",
      "[ Info: Final population:\n",
      "[ Info: Results saved to:\n",
      "/home/ajt6830/miniconda3/envs/pysr_env/lib/python3.11/site-packages/pysr/sr.py:2217: UserWarning: The discovered expressions are being reset. Please set `warm_start=True` if you wish to continue to start a search where you left off.\n",
      "  warnings.warn(\n",
      "/home/ajt6830/miniconda3/envs/pysr_env/lib/python3.11/site-packages/pysr/sr.py:2811: UserWarning: Note: it looks like you are running in Jupyter. The progress bar will be turned off.\n",
      "  warnings.warn(\n"
     ]
    },
    {
     "name": "stdout",
     "output_type": "stream",
     "text": [
      "  - outputs/20250702_225026_ilC9xe/hall_of_fame.csv\n",
      "───────────────────────────────────────────────────────────────────────────────────────────────────\n",
      "Complexity  Loss       Score      Equation\n",
      "1           2.403e-06  0.000e+00  y = 576.71\n",
      "3           2.659e-07  1.101e+00  y = x₁ * 175.55\n",
      "5           9.231e-08  5.290e-01  y = (x₁ * 0.60679) * x₀\n",
      "7           2.711e-08  6.127e-01  y = x₀ * ((x₁ * 0.54073) + 0.36805)\n",
      "8           2.513e-08  7.589e-02  y = (inv(x₁) + x₁) * (x₀ * 0.56816)\n",
      "9           2.270e-08  1.016e-01  y = (x₀ * 0.58214) * (x₁ + square(inv(x₁)))\n",
      "10          1.638e-08  3.261e-01  y = (((x₁ + inv(x₁)) + -0.26799) * 0.59844) * x₀\n",
      "12          1.383e-08  8.464e-02  y = ((inv(x₁) + x₁) + -0.40709) * ((x₀ * 0.64378) - x₁)\n",
      "14          1.229e-08  5.916e-02  y = ((inv(x₁) + (x₁ + -0.41632)) * 0.6942) * ((x₀ + -24.79...\n",
      "                                      3) - x₁)\n",
      "22          1.225e-08  4.333e-04  y = ((-3.2421 + (((x₀ + (-11.75 - (0.64936 * x₁))) + -10.4...\n",
      "                                      82) * 0.6857)) * ((inv(x₁) + x₁) + -0.38588)) + 0.71605\n",
      "23          1.146e-08  6.598e-02  y = ((inv(x₁) + x₁) + -0.35944) * (((x₀ * 0.69279) + 1.090...\n",
      "                                      5) + ((inv(x₁ + -3.2397) - (x₁ * 0.56581)) + -20.87))\n",
      "───────────────────────────────────────────────────────────────────────────────────────────────────\n",
      "Current Prediction Average Error (%): 0.7995194485652705\n",
      "Best Prediction Average Error (%): 0.44584397516875574\n",
      "Current Model Formula: (x1 - 0.26799306 + 1/x1)*0.5984394*x0\n"
     ]
    },
    {
     "name": "stderr",
     "output_type": "stream",
     "text": [
      "[ Info: Started!\n",
      "[ Info: Final population:\n",
      "[ Info: Results saved to:\n",
      "/home/ajt6830/miniconda3/envs/pysr_env/lib/python3.11/site-packages/pysr/sr.py:2217: UserWarning: The discovered expressions are being reset. Please set `warm_start=True` if you wish to continue to start a search where you left off.\n",
      "  warnings.warn(\n",
      "/home/ajt6830/miniconda3/envs/pysr_env/lib/python3.11/site-packages/pysr/sr.py:2811: UserWarning: Note: it looks like you are running in Jupyter. The progress bar will be turned off.\n",
      "  warnings.warn(\n"
     ]
    },
    {
     "name": "stdout",
     "output_type": "stream",
     "text": [
      "  - outputs/20250702_225031_MtWvDz/hall_of_fame.csv\n",
      "───────────────────────────────────────────────────────────────────────────────────────────────────\n",
      "Complexity  Loss       Score      Equation\n",
      "1           2.403e-06  0.000e+00  y = 576.87\n",
      "3           2.659e-07  1.101e+00  y = x₁ * 175.55\n",
      "5           9.231e-08  5.290e-01  y = (x₀ * x₁) * 0.60679\n",
      "7           2.711e-08  6.127e-01  y = x₀ * ((x₁ * 0.54067) + 0.36838)\n",
      "8           2.513e-08  7.589e-02  y = ((x₁ + inv(x₁)) * x₀) * 0.56816\n",
      "9           2.270e-08  1.016e-01  y = ((x₁ + inv(square(x₁))) * 0.58214) * x₀\n",
      "10          1.677e-08  3.025e-01  y = (x₁ - inv(x₁ * -1.267)) * (x₀ * 0.57794)\n",
      "12          1.587e-08  2.771e-02  y = (x₀ * 0.58266) * (x₁ - inv(0.73546 - (x₁ + x₁)))\n",
      "14          1.579e-08  2.623e-03  y = ((x₁ - inv(0.73546 - (x₁ + x₁))) * (x₀ * 0.58266)) - 2...\n",
      "                                      .7137\n",
      "16          1.481e-08  3.187e-02  y = ((x₁ * 0.60776) - inv((1.1897 - (x₁ + 2.6986)) * x₁)) ...\n",
      "                                      * (x₀ - x₁)\n",
      "───────────────────────────────────────────────────────────────────────────────────────────────────\n",
      "Current Prediction Average Error (%): 0.7377600383923286\n",
      "Best Prediction Average Error (%): 0.44584397516875574\n",
      "Current Model Formula: (x1 - (-1)*0.789236580926109/x1)*x0*0.577941\n"
     ]
    },
    {
     "name": "stderr",
     "output_type": "stream",
     "text": [
      "[ Info: Started!\n",
      "[ Info: Final population:\n",
      "[ Info: Results saved to:\n",
      "/home/ajt6830/miniconda3/envs/pysr_env/lib/python3.11/site-packages/pysr/sr.py:2217: UserWarning: The discovered expressions are being reset. Please set `warm_start=True` if you wish to continue to start a search where you left off.\n",
      "  warnings.warn(\n",
      "/home/ajt6830/miniconda3/envs/pysr_env/lib/python3.11/site-packages/pysr/sr.py:2811: UserWarning: Note: it looks like you are running in Jupyter. The progress bar will be turned off.\n",
      "  warnings.warn(\n"
     ]
    },
    {
     "name": "stdout",
     "output_type": "stream",
     "text": [
      "  - outputs/20250702_225037_PTHhiW/hall_of_fame.csv\n",
      "───────────────────────────────────────────────────────────────────────────────────────────────────\n",
      "Complexity  Loss       Score      Equation\n",
      "1           2.403e-06  0.000e+00  y = 576.69\n",
      "3           2.659e-07  1.101e+00  y = x₁ * 175.56\n",
      "5           9.231e-08  5.290e-01  y = (x₁ * x₀) * 0.60679\n",
      "7           2.711e-08  6.127e-01  y = ((x₁ * 0.54065) - -0.36831) * x₀\n",
      "8           2.513e-08  7.589e-02  y = ((inv(x₁) + x₁) * x₀) * 0.56815\n",
      "9           2.270e-08  1.016e-01  y = (x₀ * (x₁ + inv(square(x₁)))) * 0.58214\n",
      "10          1.638e-08  3.261e-01  y = ((inv(x₁) + -0.26649) + x₁) * (x₀ * 0.59815)\n",
      "12          1.597e-08  1.268e-02  y = (inv(x₁ * 1.3509) + x₁) * ((x₀ * 0.58647) - 2.2235)\n",
      "13          1.520e-08  4.965e-02  y = ((x₁ + inv(x₁)) + -0.26721) * ((x₀ - sqrt(x₀)) * 0.634...\n",
      "                                      82)\n",
      "15          1.519e-08  3.154e-04  y = ((x₁ + (inv(x₁) + -0.26721)) * ((x₀ - sqrt(x₀)) * 0.63...\n",
      "                                      482)) - 1.0893\n",
      "17          1.498e-08  6.797e-03  y = (((inv(x₁) + (x₁ + -0.26676)) * ((x₀ - sqrt(x₀)) * 0.6...\n",
      "                                      3912)) - x₁) - 1.0893\n",
      "22          1.497e-08  1.240e-04  y = (inv(square(sqrt(cbrt(cbrt(cbrt(x₀ * cube(x₀))) * x₁) ...\n",
      "                                      * x₁))) + (x₁ * 0.5936)) * (x₀ + -3.8902)\n",
      "23          1.496e-08  6.512e-04  y = ((x₁ + inv((x₁ - 0.26067) * 1.8108)) * ((x₀ * 0.59568)...\n",
      "                                       - cbrt(x₁))) + (((-1.4127 - x₁) - x₁) + -0.99854)\n",
      "24          1.410e-08  5.978e-02  y = (inv(sqrt(cbrt(square(cbrt(cbrt(cube(x₀))) * x₁))) * x...\n",
      "                                      ₁) + ((x₁ - 0.22255) * 0.62037)) * (x₀ + (-0.83013 * x₁))\n",
      "26          1.391e-08  6.806e-03  y = (inv(x₁ * cbrt(sqrt(square(cbrt(cbrt(cube(x₀ - 0.49595...\n",
      "                                      ))) * x₁)))) + ((x₁ - 0.20714) * 0.61905)) * (x₀ + (x₁ * -...\n",
      "                                      0.8274))\n",
      "28          1.386e-08  1.819e-03  y = ((inv(cbrt(sqrt(cbrt(square(cube(cbrt(x₀)) * x₁)))) * ...\n",
      "                                      x₁) + ((x₁ - 0.22255) * 0.62037)) * (x₀ + ((x₁ - -0.45573)...\n",
      "                                       * -0.83013))) - x₁\n",
      "30          1.371e-08  5.442e-03  y = ((inv(cbrt(sqrt(square(cbrt(cube(0.49594 - cbrt(x₀)) *...\n",
      "                                       x₁)))) * x₁) + ((x₁ - 0.22255) * 0.62037)) * (x₀ + ((x₁ -...\n",
      "                                       -0.45573) * -0.83013))) - x₁\n",
      "───────────────────────────────────────────────────────────────────────────────────────────────────\n"
     ]
    },
    {
     "name": "stderr",
     "output_type": "stream",
     "text": [
      "[ Info: Started!\n",
      "[ Info: Final population:\n",
      "[ Info: Results saved to:\n"
     ]
    },
    {
     "name": "stdout",
     "output_type": "stream",
     "text": [
      "Current Prediction Average Error (%): 0.7997253366473309\n",
      "Best Prediction Average Error (%): 0.44584397516875574\n",
      "Current Model Formula: (x1 - 0.26649255 + 1/x1)*x0*0.5981546\n"
     ]
    },
    {
     "name": "stderr",
     "output_type": "stream",
     "text": [
      "/home/ajt6830/miniconda3/envs/pysr_env/lib/python3.11/site-packages/pysr/sr.py:2217: UserWarning: The discovered expressions are being reset. Please set `warm_start=True` if you wish to continue to start a search where you left off.\n",
      "  warnings.warn(\n",
      "/home/ajt6830/miniconda3/envs/pysr_env/lib/python3.11/site-packages/pysr/sr.py:2811: UserWarning: Note: it looks like you are running in Jupyter. The progress bar will be turned off.\n",
      "  warnings.warn(\n"
     ]
    },
    {
     "name": "stdout",
     "output_type": "stream",
     "text": [
      "  - outputs/20250702_225043_kQbW18/hall_of_fame.csv\n",
      "───────────────────────────────────────────────────────────────────────────────────────────────────\n",
      "Complexity  Loss       Score      Equation\n",
      "1           2.403e-06  0.000e+00  y = 576.73\n",
      "3           2.659e-07  1.101e+00  y = x₁ * 175.55\n",
      "5           9.231e-08  5.290e-01  y = (x₁ * 0.6068) * x₀\n",
      "7           2.711e-08  6.126e-01  y = x₀ * ((x₁ - -0.68288) * 0.54057)\n",
      "8           2.513e-08  7.590e-02  y = (inv(x₁) + x₁) * (x₀ * 0.56815)\n",
      "10          1.932e-08  1.315e-01  y = ((x₀ * x₁) * 0.58205) + (inv(x₁) * 123.17)\n",
      "11          1.642e-08  1.627e-01  y = (x₀ * x₁) * ((square(inv(x₁)) * 0.41483) + 0.58114)\n",
      "13          1.619e-08  6.802e-03  y = (x₀ * (0.56929 * (x₁ - -0.32199))) + (inv(cube(x₁)) * ...\n",
      "                                      79.469)\n",
      "15          1.592e-08  8.399e-03  y = (x₀ * (0.56929 * (x₁ - -0.32199))) + ((cube(inv(x₁)) -...\n",
      "                                       0.06362) * 79.469)\n",
      "17          1.504e-08  2.872e-02  y = ((cube(inv(x₁)) - 0.12755) * 97.062) + (((x₀ * (x₁ - -...\n",
      "                                      0.37158)) * 0.56639) + -5.6812)\n",
      "18          1.486e-08  1.158e-02  y = ((cube(inv(x₁)) - 0.12758) * 97.062) + ((((x₁ - -0.371...\n",
      "                                      75) * x₀) * 0.56972) - cbrt(x₀))\n",
      "19          1.460e-08  1.798e-02  y = ((((cube(inv(x₁)) - 0.12757) * 97.062) + (x₀ * ((x₁ - ...\n",
      "                                      -0.37198) * 0.57192))) + -6.2544) - 3.1198\n",
      "───────────────────────────────────────────────────────────────────────────────────────────────────\n",
      "Current Prediction Average Error (%): 0.7500443816386512\n",
      "Best Prediction Average Error (%): 0.44584397516875574\n",
      "Current Model Formula: x0*x1*(0.5811412 + 0.4148332/x1**2)\n"
     ]
    },
    {
     "name": "stderr",
     "output_type": "stream",
     "text": [
      "[ Info: Started!\n",
      "[ Info: Final population:\n",
      "[ Info: Results saved to:\n",
      "/home/ajt6830/miniconda3/envs/pysr_env/lib/python3.11/site-packages/pysr/sr.py:2217: UserWarning: The discovered expressions are being reset. Please set `warm_start=True` if you wish to continue to start a search where you left off.\n",
      "  warnings.warn(\n",
      "/home/ajt6830/miniconda3/envs/pysr_env/lib/python3.11/site-packages/pysr/sr.py:2811: UserWarning: Note: it looks like you are running in Jupyter. The progress bar will be turned off.\n",
      "  warnings.warn(\n"
     ]
    },
    {
     "name": "stdout",
     "output_type": "stream",
     "text": [
      "  - outputs/20250702_225049_MegOTE/hall_of_fame.csv\n"
     ]
    },
    {
     "name": "stderr",
     "output_type": "stream",
     "text": [
      "[ Info: Started!\n",
      "[ Info: Final population:\n",
      "[ Info: Results saved to:\n",
      "/home/ajt6830/miniconda3/envs/pysr_env/lib/python3.11/site-packages/pysr/sr.py:2217: UserWarning: The discovered expressions are being reset. Please set `warm_start=True` if you wish to continue to start a search where you left off.\n",
      "  warnings.warn(\n",
      "/home/ajt6830/miniconda3/envs/pysr_env/lib/python3.11/site-packages/pysr/sr.py:2811: UserWarning: Note: it looks like you are running in Jupyter. The progress bar will be turned off.\n",
      "  warnings.warn(\n"
     ]
    },
    {
     "name": "stdout",
     "output_type": "stream",
     "text": [
      "───────────────────────────────────────────────────────────────────────────────────────────────────\n",
      "Complexity  Loss       Score      Equation\n",
      "1           2.403e-06  0.000e+00  y = 576.93\n",
      "3           2.659e-07  1.101e+00  y = x₁ * 175.55\n",
      "5           9.231e-08  5.290e-01  y = x₀ * (x₁ * 0.60679)\n",
      "7           2.711e-08  6.126e-01  y = (x₁ - -0.68411) * (x₀ * 0.54041)\n",
      "8           2.513e-08  7.592e-02  y = (x₁ + inv(x₁)) * (x₀ * 0.56816)\n",
      "9           2.281e-08  9.687e-02  y = (x₀ * (x₁ + square(inv(x₁)))) * 0.5846\n",
      "10          1.734e-08  2.741e-01  y = (x₀ * (inv(x₁ + 0.35602) + x₁)) * 0.57686\n",
      "12          1.575e-08  4.798e-02  y = (x₀ * (inv(x₁ + (x₁ - 0.67041)) + x₁)) * 0.58371\n",
      "14          1.574e-08  2.515e-04  y = (x₀ * ((inv((x₁ + x₁) - 0.67041) + x₁) * 0.58371)) - 0...\n",
      "                                      .88051\n",
      "24          1.528e-08  2.982e-03  y = (inv(x₁ - sqrt(0.8516)) + ((0.54588 * x₀) - inv((0.236...\n",
      "                                      85 + (-1.3125 * (0.8516 - x₁))) - x₁))) * (x₁ - -0.65637)\n",
      "26          1.457e-08  2.387e-02  y = ((x₀ * 0.54588) + (inv(cube(x₁) - cbrt(cbrt(0.69825)))...\n",
      "                                       - inv((-1.3125 * (0.8516 - x₁)) + (0.23545 - x₁)))) * (x₁...\n",
      "                                       - -0.65637)\n",
      "28          1.442e-08  5.291e-03  y = ((x₀ * 0.54588) + (inv(cube(x₁) - cbrt(cbrt(x₁ - 0.346...\n",
      "                                      45))) - inv(((0.8516 - x₁) * -1.3125) + (0.23545 - x₁)))) ...\n",
      "                                      * (x₁ - -0.65637)\n",
      "29          1.440e-08  1.385e-03  y = (inv(cube(square(x₁)) - cbrt(cbrt(x₁ - 0.34645))) + ((...\n",
      "                                      x₀ * 0.54588) - inv(((0.8516 - x₁) * -1.3125) + (0.23545 -...\n",
      "                                       x₁)))) * (x₁ - -0.65637)\n",
      "30          1.426e-08  9.247e-03  y = ((x₁ - -0.65627) * (((x₀ * 0.54798) + inv(cube(x₁) - c...\n",
      "                                      brt(cbrt(x₁ - 0.34643)))) - inv(((0.85164 - x₁) * -1.3132)...\n",
      "                                       + (0.23539 - x₁)))) - 1.4393\n",
      "───────────────────────────────────────────────────────────────────────────────────────────────────\n",
      "Current Prediction Average Error (%): 0.7550639128943469\n",
      "Best Prediction Average Error (%): 0.44584397516875574\n",
      "Current Model Formula: x0*(x1 + 1/(x1 + 0.35602102))*0.57685715\n",
      "  - outputs/20250702_225055_NyRZg2/hall_of_fame.csv\n",
      "───────────────────────────────────────────────────────────────────────────────────────────────────\n",
      "Complexity  Loss       Score      Equation\n",
      "1           2.403e-06  0.000e+00  y = 576.82\n",
      "3           2.659e-07  1.101e+00  y = x₁ * 175.55\n",
      "5           9.231e-08  5.290e-01  y = (x₁ * x₀) * 0.60679\n",
      "7           2.711e-08  6.127e-01  y = ((x₁ * 0.54064) + 0.36849) * x₀\n",
      "8           2.513e-08  7.589e-02  y = (x₀ * (x₁ + inv(x₁))) * 0.56815\n",
      "9           2.270e-08  1.016e-01  y = ((x₁ + inv(square(x₁))) * 0.58214) * x₀\n",
      "10          1.642e-08  3.237e-01  y = ((inv(x₁) + (x₁ - 0.2503)) * x₀) * 0.59619\n",
      "11          1.578e-08  4.000e-02  y = (inv(square(x₁) + 0.33349) + x₁) * (x₀ * 0.58908)\n",
      "12          1.548e-08  1.920e-02  y = (inv(x₁ + 0.44008) + x₁) * ((x₀ * 0.65373) - 22.456)\n",
      "13          1.435e-08  7.537e-02  y = (x₁ - x₀) * (-0.60822 * (inv(square(x₁ + 0.19492)) + x...\n",
      "                                      ₁))\n",
      "15          1.371e-08  2.280e-02  y = (inv(square(x₁ + -0.29622) + 0.9405) + x₁) * ((x₀ * 0....\n",
      "                                      62643) - 11.111)\n",
      "17          1.364e-08  2.805e-03  y = (x₀ - x₁) * ((x₁ + square(inv(x₁ + inv(square(x₁ + -3....\n",
      "                                      2401))))) * 0.61139)\n",
      "19          1.282e-08  3.091e-02  y = (inv(x₁ + inv(square(x₁ + -2.6017))) + x₁) * ((x₀ * 0....\n",
      "                                      6265) - (inv(x₁) + 12.832))\n",
      "21          1.274e-08  2.913e-03  y = ((inv(x₁ + square(x₁ + -0.30863)) + x₁) * (x₀ - (x₁ + ...\n",
      "                                      inv(square(x₁ + -3.2401))))) * 0.61139\n",
      "22          1.274e-08  2.384e-07  y = (inv(x₁ + square(x₁ + inv(-3.2401))) + x₁) * (0.61139 ...\n",
      "                                      * (x₀ - (x₁ + square(inv(x₁ + -3.2401)))))\n",
      "23          1.269e-08  4.115e-03  y = ((x₀ - (square(inv(x₁ + -3.2401)) + x₁)) * ((x₁ + inv(...\n",
      "                                      x₁ + square(x₁ + -0.30863))) * 0.61139)) + 3.0021\n",
      "24          1.269e-08  8.404e-06  y = ((x₁ + inv(x₁ + square(inv(-3.2401) + x₁))) * ((x₀ - (...\n",
      "                                      square(inv(-3.2401 + x₁)) + x₁)) * 0.61139)) + 1.5932\n",
      "25          1.260e-08  7.084e-03  y = (((inv(x₁ + square(x₁ + -0.30864)) + x₁) * 0.61292) * ...\n",
      "                                      (x₀ - ((inv(square(x₁ + -3.24)) + x₁) + 1.009))) + 3.0021\n",
      "27          1.257e-08  1.219e-03  y = (((inv(x₁ + square(x₁ + -0.32271)) + x₁) * 0.6108) * (...\n",
      "                                      x₀ - (square(inv(x₁ + -2.7624)) + (x₁ + -0.47994)))) + (4....\n",
      "                                      9582 - x₁)\n",
      "28          1.257e-08  1.465e-04  y = (((((x₀ - (x₁ + inv(square(x₁ + -2.7624)))) + cbrt(-1....\n",
      "                                      049)) * 0.6108) * (x₁ + inv(x₁ + square(x₁ + -0.32271)))) ...\n",
      "                                      + 4.9582) - 0.010277\n",
      "29          1.256e-08  4.586e-04  y = (((x₀ - (x₁ + (square(inv(x₁ + -2.7624)) + -0.47994)))...\n",
      "                                       * (0.6108 * (inv(x₁ + square(x₁ + -0.32271)) + x₁))) + (4...\n",
      "                                      .9582 - x₁)) + -0.80213\n",
      "───────────────────────────────────────────────────────────────────────────────────────────────────\n",
      "Current Prediction Average Error (%): 0.7954508931854138\n",
      "Best Prediction Average Error (%): 0.44584397516875574\n",
      "Current Model Formula: (x1 - 1*0.2502952 + 1/x1)*x0*0.59618765\n"
     ]
    },
    {
     "name": "stderr",
     "output_type": "stream",
     "text": [
      "[ Info: Started!\n",
      "[ Info: Final population:\n",
      "[ Info: Results saved to:\n",
      "/home/ajt6830/miniconda3/envs/pysr_env/lib/python3.11/site-packages/pysr/sr.py:2217: UserWarning: The discovered expressions are being reset. Please set `warm_start=True` if you wish to continue to start a search where you left off.\n",
      "  warnings.warn(\n",
      "/home/ajt6830/miniconda3/envs/pysr_env/lib/python3.11/site-packages/pysr/sr.py:2811: UserWarning: Note: it looks like you are running in Jupyter. The progress bar will be turned off.\n",
      "  warnings.warn(\n"
     ]
    },
    {
     "name": "stdout",
     "output_type": "stream",
     "text": [
      "  - outputs/20250702_225059_35tVc7/hall_of_fame.csv\n",
      "───────────────────────────────────────────────────────────────────────────────────────────────────\n",
      "Complexity  Loss       Score      Equation\n",
      "1           2.403e-06  0.000e+00  y = 576.8\n",
      "3           2.659e-07  1.101e+00  y = x₁ * 175.55\n",
      "5           9.231e-08  5.290e-01  y = x₀ * (x₁ * 0.60679)\n",
      "7           2.712e-08  6.125e-01  y = ((-0.69007 - x₁) * -0.53985) * x₀\n",
      "9           2.575e-08  2.581e-02  y = (x₀ + x₁) * ((x₁ - -0.78393) * 0.51684)\n",
      "11          2.524e-08  1.010e-02  y = (x₁ - -0.83639) * (((x₁ + x₀) * 0.52881) - 5.0777)\n",
      "12          1.887e-08  2.907e-01  y = (inv(x₁ - 3.037) + (x₀ * 0.53717)) * (x₁ - -0.82618)\n",
      "13          1.715e-08  9.587e-02  y = ((x₀ * 0.54032) - inv(square(x₁ - 2.7862))) * (x₁ - -0...\n",
      "                                      .77466)\n",
      "15          1.714e-08  2.751e-04  y = (x₁ - -0.77486) * ((x₀ * 0.54205) - (inv(square(2.7883...\n",
      "                                       - x₁)) - -0.56994))\n",
      "16          1.710e-08  2.362e-03  y = (x₁ - -0.83812) * ((0.53109 * (x₁ + x₀)) + (inv(x₁ - 3...\n",
      "                                      .0583) - 4.5467))\n",
      "17          1.697e-08  7.476e-03  y = (x₁ - -0.84148) * (((x₁ + x₀) * 0.57298) + (inv(x₁ - 3...\n",
      "                                      .063) - sqrt(x₀)))\n",
      "18          1.669e-08  1.679e-02  y = (x₁ - -0.77486) * ((x₀ * 0.54205) - (inv(square(x₁ - 2...\n",
      "                                      .7883)) - inv(x₁ + -2.0676)))\n",
      "19          1.640e-08  1.713e-02  y = (x₁ - -0.77486) * ((x₀ * 0.54205) - (square(inv(2.7883...\n",
      "                                       - x₁)) - inv(square(x₁) + -0.80519)))\n",
      "21          1.604e-08  1.109e-02  y = (x₁ - -0.77457) * (((x₀ * 0.54012) - square(inv(2.7868...\n",
      "                                       - x₁))) - inv(square(x₁ - 0.24711) + -0.80462))\n",
      "22          1.471e-08  8.651e-02  y = ((((x₀ * 0.54205) - inv(square(x₁ - 2.7715))) - inv((x...\n",
      "                                      ₁ + -0.80519) - 0.26)) * (x₁ - -0.75953)) - 2.7715\n",
      "23          1.461e-08  6.836e-03  y = ((((x₀ * 0.54205) - inv(square(x₁ - 2.7715))) - inv((x...\n",
      "                                      ₁ + -0.80519) - 0.26)) * (x₁ - -0.75953)) - cbrt(x₀)\n",
      "26          1.433e-08  6.630e-03  y = ((((x₀ * 0.54205) - square(inv(x₁ - 2.7715))) - inv(x₁...\n",
      "                                       + -1.0652)) * (x₁ - -0.77308)) - (inv(x₁ + -1.4239) + cbr...\n",
      "                                      t(x₀))\n",
      "───────────────────────────────────────────────────────────────────────────────────────────────────\n",
      "Current Prediction Average Error (%): 0.9103723648550842\n",
      "Best Prediction Average Error (%): 0.44584397516875574\n",
      "Current Model Formula: (x1 - 1*(-0.8261766))*(x0*0.5371729 + 1/(x1 - 1*3.0369906))\n"
     ]
    },
    {
     "name": "stderr",
     "output_type": "stream",
     "text": [
      "[ Info: Started!\n",
      "[ Info: Final population:\n",
      "[ Info: Results saved to:\n",
      "/home/ajt6830/miniconda3/envs/pysr_env/lib/python3.11/site-packages/pysr/sr.py:2217: UserWarning: The discovered expressions are being reset. Please set `warm_start=True` if you wish to continue to start a search where you left off.\n",
      "  warnings.warn(\n",
      "/home/ajt6830/miniconda3/envs/pysr_env/lib/python3.11/site-packages/pysr/sr.py:2811: UserWarning: Note: it looks like you are running in Jupyter. The progress bar will be turned off.\n",
      "  warnings.warn(\n"
     ]
    },
    {
     "name": "stdout",
     "output_type": "stream",
     "text": [
      "  - outputs/20250702_225105_K29lxP/hall_of_fame.csv\n"
     ]
    },
    {
     "name": "stderr",
     "output_type": "stream",
     "text": [
      "[ Info: Started!\n",
      "[ Info: Final population:\n",
      "[ Info: Results saved to:\n",
      "/home/ajt6830/miniconda3/envs/pysr_env/lib/python3.11/site-packages/pysr/sr.py:2217: UserWarning: The discovered expressions are being reset. Please set `warm_start=True` if you wish to continue to start a search where you left off.\n",
      "  warnings.warn(\n",
      "/home/ajt6830/miniconda3/envs/pysr_env/lib/python3.11/site-packages/pysr/sr.py:2811: UserWarning: Note: it looks like you are running in Jupyter. The progress bar will be turned off.\n",
      "  warnings.warn(\n"
     ]
    },
    {
     "name": "stdout",
     "output_type": "stream",
     "text": [
      "───────────────────────────────────────────────────────────────────────────────────────────────────\n",
      "Complexity  Loss       Score      Equation\n",
      "1           2.403e-06  0.000e+00  y = 576.71\n",
      "3           2.659e-07  1.101e+00  y = x₁ * 175.55\n",
      "5           9.231e-08  5.290e-01  y = x₀ * (x₁ * 0.60679)\n",
      "7           2.711e-08  6.127e-01  y = x₀ * ((x₁ * 0.54067) + 0.36837)\n",
      "8           2.513e-08  7.589e-02  y = (x₀ * (x₁ + inv(x₁))) * 0.56816\n",
      "9           2.270e-08  1.016e-01  y = (x₁ + inv(square(x₁))) * (x₀ * 0.58214)\n",
      "10          1.638e-08  3.261e-01  y = (((inv(x₁) + x₁) * 0.59815) + -0.15969) * x₀\n",
      "11          1.577e-08  3.820e-02  y = x₀ * (inv(square(x₁ + 0.53135)) + (x₁ * 0.5871))\n",
      "13          1.566e-08  3.313e-03  y = (inv(square(x₁) + 1.3593) + (x₁ * 0.59077)) * (x₀ - 2....\n",
      "                                      6856)\n",
      "14          1.549e-08  1.116e-02  y = (inv(square(x₁) + 1.3592) + (x₁ * 0.59205)) * (x₀ - sq...\n",
      "                                      rt(x₁))\n",
      "15          1.442e-08  7.190e-02  y = ((x₁ * 0.58399) + inv(inv(3.0061 - x₁) + (x₁ + x₁))) *...\n",
      "                                       x₀\n",
      "17          1.431e-08  3.798e-03  y = (x₀ * (inv((x₁ + inv(3.0061 - x₁)) + x₁) + (x₁ * 0.583...\n",
      "                                      99))) + 1.7058\n",
      "18          1.383e-08  3.412e-02  y = (inv((x₁ + x₁) + inv(3.0065 - x₁)) + (x₁ * 0.59011)) *...\n",
      "                                       (x₀ - sqrt(x₁))\n",
      "20          1.368e-08  5.365e-03  y = (inv((x₁ + x₁) + inv(3.0065 - x₁)) + (x₁ * 0.59011)) *...\n",
      "                                       (x₀ - sqrt(x₁ + x₁))\n",
      "23          1.356e-08  2.924e-03  y = ((x₁ + (inv((x₁ + inv(2.9755 - x₁)) + x₁) + (x₁ * -0.4...\n",
      "                                      068))) * (x₀ - (x₁ * 0.63635))) + x₁\n",
      "26          1.354e-08  5.080e-04  y = (((x₁ * 0.58964) + inv(((x₁ + x₁) - sqrt(inv(sqrt(x₀))...\n",
      "                                      )) + inv(3.0065 - x₁))) * x₀) - ((x₁ + x₁) - -1.1615)\n",
      "27          1.352e-08  1.321e-03  y = (x₀ * ((x₁ * 0.59011) + inv((inv(2.6285 + (0.37804 - x...\n",
      "                                      ₁)) + (x₁ - inv(sqrt(x₀) * 0.33689))) + x₁))) - (x₁ + x₁)\n",
      "28          1.348e-08  3.033e-03  y = (((inv(((x₁ - inv(sqrt(sqrt(x₀)))) + x₁) + inv(3.0247 ...\n",
      "                                      - x₁)) + (x₁ * 0.58908)) * x₀) + 1.1562) - (x₁ + (x₁ - -2....\n",
      "                                      2553))\n",
      "30          1.330e-08  6.543e-03  y = (((x₁ * 0.60021) + inv((inv((0.37808 - x₁) + 2.6285) +...\n",
      "                                       ((x₁ * 2.6284) - 0.55203)) - inv(x₀ * 0.042344))) * ((x₀ ...\n",
      "                                      - x₁) + 0.45018)) + x₁\n",
      "───────────────────────────────────────────────────────────────────────────────────────────────────\n",
      "Current Prediction Average Error (%): 0.8005664761324678\n",
      "Best Prediction Average Error (%): 0.44584397516875574\n",
      "Current Model Formula: x0*((x1 + 1/x1)*0.59814835 - 0.15969323)\n",
      "  - outputs/20250702_225111_u9MZHK/hall_of_fame.csv\n",
      "───────────────────────────────────────────────────────────────────────────────────────────────────\n",
      "Complexity  Loss       Score      Equation\n",
      "1           2.403e-06  0.000e+00  y = 576.81\n",
      "3           2.659e-07  1.101e+00  y = x₁ * 175.55\n",
      "5           9.231e-08  5.290e-01  y = (0.60679 * x₁) * x₀\n",
      "7           2.711e-08  6.127e-01  y = ((x₁ * 0.54067) + 0.36835) * x₀\n",
      "8           2.513e-08  7.589e-02  y = ((inv(x₁) + x₁) * 0.56816) * x₀\n",
      "9           2.270e-08  1.016e-01  y = (x₁ + square(inv(x₁))) * (x₀ * 0.58214)\n",
      "10          1.639e-08  3.259e-01  y = ((x₁ * 0.5799) + inv(x₁ * 2.3186)) * x₀\n",
      "11          1.575e-08  3.943e-02  y = x₀ * ((x₁ * 0.58786) + square(inv(x₁ - -0.52848)))\n",
      "13          1.434e-08  4.706e-02  y = (x₀ - x₁) * ((x₁ * 0.60974) + square(inv(x₁ * 1.5354))...\n",
      "                                      )\n",
      "14          1.406e-08  1.975e-02  y = (x₁ * (inv(square(-0.55708 - square(x₁))) + 0.60982)) ...\n",
      "                                      * (x₀ - x₁)\n",
      "15          1.406e-08  4.768e-07  y = (0.60982 + square(inv(-0.55708 - (x₁ * x₁)))) * (x₁ * ...\n",
      "                                      (x₀ - x₁))\n",
      "16          1.401e-08  3.370e-03  y = (x₁ * (inv(square(-0.704 - (square(x₁) * 0.83605))) + ...\n",
      "                                      0.60952)) * (x₀ - x₁)\n",
      "20          1.323e-08  1.440e-02  y = x₁ * (((x₀ - x₁) * (square(inv(-0.57615 - (x₁ * x₁))) ...\n",
      "                                      + 0.60982)) + inv(x₁ - 3.1465))\n",
      "22          1.290e-08  1.231e-02  y = (x₁ * (((x₀ - x₁) * (inv(square(-0.57615 - (x₁ * x₁)))...\n",
      "                                       + 0.60982)) + inv(x₁ - 3.1465))) - -5.3976\n",
      "27          1.287e-08  5.121e-04  y = inv(inv(x₁) - 0.36777) + (((((x₀ - x₁) * ((x₁ + inv(sq...\n",
      "                                      uare(x₁) + 0.46116)) * 0.6048)) + x₁) + (x₁ - x₁)) + x₁)\n",
      "28          1.283e-08  3.057e-03  y = (x₁ * (((x₀ - x₁) * (square(inv(-0.57609 - (x₁ * x₁)))...\n",
      "                                       + 0.61176)) + inv(x₁ - 3.1465))) - (inv(cube(x₁ * -0.6055...\n",
      "                                      3)) + -1.0241)\n",
      "30          1.281e-08  9.060e-04  y = (x₁ * (((x₀ - x₁) * (square(inv(-0.57615 - (x₁ * x₁)))...\n",
      "                                       + 0.60982)) + inv(x₁ - 3.1465))) - (inv(cube(-0.50189 - (...\n",
      "                                      x₁ * 0.029397))) + -1.0241)\n",
      "───────────────────────────────────────────────────────────────────────────────────────────────────\n",
      "Current Prediction Average Error (%): 0.7436192673666155\n",
      "Best Prediction Average Error (%): 0.44584397516875574\n",
      "Current Model Formula: x0*(x1*0.5799038 + 0.431292179836073/x1)\n"
     ]
    },
    {
     "name": "stderr",
     "output_type": "stream",
     "text": [
      "[ Info: Started!\n",
      "[ Info: Final population:\n",
      "[ Info: Results saved to:\n",
      "/home/ajt6830/miniconda3/envs/pysr_env/lib/python3.11/site-packages/pysr/sr.py:2217: UserWarning: The discovered expressions are being reset. Please set `warm_start=True` if you wish to continue to start a search where you left off.\n",
      "  warnings.warn(\n",
      "/home/ajt6830/miniconda3/envs/pysr_env/lib/python3.11/site-packages/pysr/sr.py:2811: UserWarning: Note: it looks like you are running in Jupyter. The progress bar will be turned off.\n",
      "  warnings.warn(\n"
     ]
    },
    {
     "name": "stdout",
     "output_type": "stream",
     "text": [
      "  - outputs/20250702_225117_FIAbLf/hall_of_fame.csv\n"
     ]
    },
    {
     "name": "stderr",
     "output_type": "stream",
     "text": [
      "[ Info: Started!\n",
      "[ Info: Final population:\n",
      "[ Info: Results saved to:\n"
     ]
    },
    {
     "name": "stdout",
     "output_type": "stream",
     "text": [
      "───────────────────────────────────────────────────────────────────────────────────────────────────\n",
      "Complexity  Loss       Score      Equation\n",
      "1           2.403e-06  0.000e+00  y = 576.75\n",
      "3           2.659e-07  1.101e+00  y = x₁ * 175.56\n",
      "5           9.231e-08  5.290e-01  y = x₁ * (x₀ * 0.60679)\n",
      "7           2.711e-08  6.127e-01  y = ((x₁ * 0.54067) - -0.36836) * x₀\n",
      "8           2.513e-08  7.589e-02  y = ((inv(x₁) + x₁) * x₀) * 0.56816\n",
      "10          1.855e-08  1.518e-01  y = ((x₁ + inv(x₁ + 0.29102)) * 0.56816) * x₀\n",
      "12          1.855e-08  5.960e-08  y = (x₁ + inv(square(inv(1.8537)) + x₁)) * (x₀ * 0.56816)\n",
      "13          1.530e-08  1.921e-01  y = x₀ + ((x₀ - (x₁ * 2.3864)) * (x₁ - square(cbrt(x₁))))\n",
      "14          1.483e-08  3.139e-02  y = ((x₀ * (x₁ - square(cbrt(x₁)))) + x₀) - (square(x₁) * ...\n",
      "                                      1.4154)\n",
      "16          1.481e-08  7.641e-04  y = ((x₀ + (x₀ * (x₁ - cbrt(square(x₁))))) - (square(x₁) *...\n",
      "                                       1.3991)) + -1.9606\n",
      "17          1.480e-08  5.619e-04  y = (x₀ * (x₁ - square(cbrt(x₁)))) + (x₀ - (cbrt(x₁) + (sq...\n",
      "                                      uare(x₁) * 1.398)))\n",
      "18          1.459e-08  1.448e-02  y = x₀ + ((x₀ * ((x₁ * 1.0096) - square(cbrt(x₁)))) - ((sq...\n",
      "                                      uare(x₁) + x₁) * 1.4991))\n",
      "20          1.447e-08  3.968e-03  y = ((x₀ + (x₀ * ((x₁ * 1.0096) - square(cbrt(x₁))))) - ((...\n",
      "                                      square(x₁) + x₁) * 1.4991)) + -1.7146\n",
      "21          1.278e-08  1.245e-01  y = (((x₁ - square(cbrt(x₁))) * (x₀ + inv(-0.62498 - (x₁ *...\n",
      "                                       -0.19759)))) + x₀) - square(1.1477 * x₁)\n",
      "23          1.262e-08  6.248e-03  y = (x₀ + ((x₁ - square(cbrt(x₁))) * ((x₀ - 1.7968) + inv(...\n",
      "                                      -0.62498 - (x₁ * -0.19759))))) - square(x₁ * 1.1477)\n",
      "24          1.257e-08  3.967e-03  y = (x₀ + (((x₀ - cbrt(x₁)) + inv(-0.62498 - (x₁ * -0.1975...\n",
      "                                      9))) * (x₁ - square(cbrt(x₁))))) - square(1.1477 * x₁)\n",
      "25          1.257e-08  1.185e-04  y = ((x₀ + ((x₁ - square(cbrt(x₁))) * ((x₀ - 1.7968) + inv...\n",
      "                                      (-0.62498 - (x₁ * -0.19759))))) - square(x₁ * 1.1477)) + 1...\n",
      "                                      .2964\n",
      "26          1.247e-08  7.948e-03  y = (((x₀ - square(x₁ * 1.2212)) + x₁) + ((x₁ - cbrt(squar...\n",
      "                                      e(x₁))) * (inv(-0.62498 - (x₁ * -0.19759)) + x₀))) - cbrt(...\n",
      "                                      x₁)\n",
      "27          1.244e-08  2.624e-03  y = ((x₀ + ((x₁ - cbrt(square(x₁))) * (inv(-0.62498 - (x₁ ...\n",
      "                                      * -0.19759)) + (x₀ - (x₁ * 0.18988))))) - square(x₁ * 1.14...\n",
      "                                      77)) - -1.7435\n",
      "29          1.243e-08  1.472e-04  y = (((x₁ - cbrt(square(x₁))) * (x₀ + (inv(-0.62498 - (x₁ ...\n",
      "                                      * -0.19759)) - ((0.31071 - x₁) * -0.19759)))) - square(x₁ ...\n",
      "                                      * 1.1477)) + (x₀ - -1.841)\n",
      "30          1.243e-08  1.752e-05  y = (((x₁ - square(cbrt(x₁))) * ((x₀ - (-0.19759 * (-0.289...\n",
      "                                      42 - x₁))) + inv(-0.62498 - (-0.19759 * x₁)))) - square(x₁...\n",
      "                                       * 1.1477)) + (x₀ - cube(-1.2256))\n",
      "───────────────────────────────────────────────────────────────────────────────────────────────────\n",
      "Current Prediction Average Error (%): 0.6782750248304139\n",
      "Best Prediction Average Error (%): 0.44584397516875574\n",
      "Current Model Formula: x0 + (x0 - 2.3864496*x1)*(x1 - Abs(x1)**(2/3)*sign(x1)**2)\n"
     ]
    },
    {
     "name": "stderr",
     "output_type": "stream",
     "text": [
      "/home/ajt6830/miniconda3/envs/pysr_env/lib/python3.11/site-packages/pysr/sr.py:2217: UserWarning: The discovered expressions are being reset. Please set `warm_start=True` if you wish to continue to start a search where you left off.\n",
      "  warnings.warn(\n",
      "/home/ajt6830/miniconda3/envs/pysr_env/lib/python3.11/site-packages/pysr/sr.py:2811: UserWarning: Note: it looks like you are running in Jupyter. The progress bar will be turned off.\n",
      "  warnings.warn(\n",
      "[ Info: Started!\n"
     ]
    },
    {
     "name": "stdout",
     "output_type": "stream",
     "text": [
      "  - outputs/20250702_225123_ji6UFC/hall_of_fame.csv\n",
      "───────────────────────────────────────────────────────────────────────────────────────────────────\n",
      "Complexity  Loss       Score      Equation\n",
      "1           2.403e-06  0.000e+00  y = 576.8\n",
      "3           2.659e-07  1.101e+00  y = x₁ * 175.55\n",
      "5           9.231e-08  5.290e-01  y = (x₁ * 0.60679) * x₀\n",
      "7           2.713e-08  6.122e-01  y = x₀ * ((x₁ * 0.54094) + 0.36254)\n",
      "8           2.513e-08  7.685e-02  y = x₀ * ((inv(x₁) + x₁) * 0.56815)\n",
      "9           2.270e-08  1.016e-01  y = (inv(square(x₁)) + x₁) * (0.58214 * x₀)\n",
      "10          1.736e-08  2.682e-01  y = x₀ * (0.5764 * (x₁ + inv(x₁ + 0.33483)))\n",
      "11          1.725e-08  6.315e-03  y = ((x₁ + square(inv(x₁) + -0.087613)) * 0.58932) * x₀\n",
      "12          1.711e-08  8.011e-03  y = (((inv(x₁ + 0.3607) + x₁) * x₀) * 0.58014) + -3.94\n",
      "13          1.604e-08  6.479e-02  y = (0.2836 * x₀) * (((x₁ - -0.61266) + cube(inv(x₁))) + x...\n",
      "                                      ₁)\n",
      "15          1.410e-08  6.430e-02  y = ((x₁ + (square(inv(x₁)) + x₁)) - -0.43167) * ((x₀ * 0....\n",
      "                                      32015) + -9.8107)\n",
      "17          1.392e-08  6.472e-03  y = (((x₀ * 0.32475) + -11.553) * (x₁ + (cube(inv(x₁)) + (...\n",
      "                                      x₁ - -0.50226)))) - -1.8567\n",
      "20          1.371e-08  5.157e-03  y = (square(inv(x₁)) + ((x₁ + x₁) + (0.57664 * inv(x₁)))) ...\n",
      "                                      * (((0.31298 * x₀) + -8.037) - -1.9508)\n",
      "22          1.265e-08  4.011e-02  y = (inv((x₁ + inv(cbrt(x₁))) * x₁) + ((square(inv(x₁)) + ...\n",
      "                                      x₁) + x₁)) * ((x₀ * 0.33211) + -11.111)\n",
      "───────────────────────────────────────────────────────────────────────────────────────────────────\n",
      "Current Prediction Average Error (%): 0.7542541981843753\n",
      "Best Prediction Average Error (%): 0.44584397516875574\n",
      "Current Model Formula: x0*0.5764035*(x1 + 1/(x1 + 0.33483094))\n"
     ]
    },
    {
     "name": "stderr",
     "output_type": "stream",
     "text": [
      "[ Info: Final population:\n",
      "[ Info: Results saved to:\n",
      "/home/ajt6830/miniconda3/envs/pysr_env/lib/python3.11/site-packages/pysr/sr.py:2217: UserWarning: The discovered expressions are being reset. Please set `warm_start=True` if you wish to continue to start a search where you left off.\n",
      "  warnings.warn(\n",
      "/home/ajt6830/miniconda3/envs/pysr_env/lib/python3.11/site-packages/pysr/sr.py:2811: UserWarning: Note: it looks like you are running in Jupyter. The progress bar will be turned off.\n",
      "  warnings.warn(\n"
     ]
    },
    {
     "name": "stdout",
     "output_type": "stream",
     "text": [
      "  - outputs/20250702_225128_3YJ3EK/hall_of_fame.csv\n"
     ]
    },
    {
     "name": "stderr",
     "output_type": "stream",
     "text": [
      "[ Info: Started!\n",
      "[ Info: Final population:\n",
      "[ Info: Results saved to:\n",
      "/home/ajt6830/miniconda3/envs/pysr_env/lib/python3.11/site-packages/pysr/sr.py:2217: UserWarning: The discovered expressions are being reset. Please set `warm_start=True` if you wish to continue to start a search where you left off.\n",
      "  warnings.warn(\n",
      "/home/ajt6830/miniconda3/envs/pysr_env/lib/python3.11/site-packages/pysr/sr.py:2811: UserWarning: Note: it looks like you are running in Jupyter. The progress bar will be turned off.\n",
      "  warnings.warn(\n"
     ]
    },
    {
     "name": "stdout",
     "output_type": "stream",
     "text": [
      "───────────────────────────────────────────────────────────────────────────────────────────────────\n",
      "Complexity  Loss       Score      Equation\n",
      "1           2.403e-06  0.000e+00  y = 576.87\n",
      "3           2.659e-07  1.101e+00  y = x₁ * 175.55\n",
      "5           9.231e-08  5.290e-01  y = (x₀ * 0.60679) * x₁\n",
      "7           2.711e-08  6.127e-01  y = (0.3682 + (x₁ * 0.5407)) * x₀\n",
      "8           2.513e-08  7.589e-02  y = (inv(x₁) + x₁) * (x₀ * 0.56815)\n",
      "10          1.735e-08  1.852e-01  y = (x₀ * (inv(x₁ + 0.35802) + x₁)) * 0.57768\n",
      "11          1.712e-08  1.298e-02  y = (inv(0.44579 + square(x₁)) + x₁) * (x₀ * 0.58271)\n",
      "12          1.711e-08  8.844e-04  y = (x₁ + inv(x₁ + 0.3526)) * ((0.58271 * x₀) - 1.4035)\n",
      "14          1.577e-08  4.082e-02  y = ((x₀ * 0.58271) + -0.73989) * (x₁ + inv(x₁ + (x₁ + -0....\n",
      "                                      70418)))\n",
      "18          1.542e-08  5.622e-03  y = ((0.58772 * x₁) + (3.1131 * inv(cbrt((x₁ * (x₁ * x₀)) ...\n",
      "                                      * cube(x₁))))) * x₀\n",
      "20          1.541e-08  2.166e-04  y = ((0.58772 * x₁) + (3.1131 * cbrt(inv((x₁ + (x₁ * (x₁ *...\n",
      "                                       x₀))) * cube(x₁))))) * x₀\n",
      "21          1.520e-08  1.367e-02  y = inv(x₁) + (((((inv(x₀ * x₁) * (x₀ * 0.74325)) + x₁) * ...\n",
      "                                      (x₀ + -10.577)) - x₁) * 0.60317)\n",
      "25          1.510e-08  1.698e-03  y = ((0.58772 * x₁) + (cbrt(inv(square(cbrt(square(cube(x₁...\n",
      "                                      ))))) * inv(x₀ - (x₁ * inv(-0.029735)))) * 3.1131)) * (-1....\n",
      "                                      3397 + x₀)\n",
      "27          1.495e-08  4.979e-03  y = ((x₀ + -1.3827) * ((x₁ * 0.59489) + (cbrt(inv(x₀ * x₁)...\n",
      "                                       * cube(cbrt(inv(square((0.0041209 - x₁) * x₁))))) * 2.903...\n",
      "                                      9))) - x₁\n",
      "29          1.486e-08  2.906e-03  y = (((x₀ + -1.3827) * ((x₁ * 0.59489) + (cbrt(inv(x₀ * x₁...\n",
      "                                      ) * cube(cbrt(square(inv((0.0041209 - x₁) * x₁))))) * 2.90...\n",
      "                                      39))) - x₁) - x₁\n",
      "───────────────────────────────────────────────────────────────────────────────────────────────────\n",
      "Current Prediction Average Error (%): 0.7533459654645386\n",
      "Best Prediction Average Error (%): 0.44584397516875574\n",
      "Current Model Formula: x0*(x1 + 1/(x1 + 0.35801816))*0.5776827\n",
      "  - outputs/20250702_225133_btfdCT/hall_of_fame.csv\n",
      "───────────────────────────────────────────────────────────────────────────────────────────────────\n",
      "Complexity  Loss       Score      Equation\n",
      "1           2.403e-06  0.000e+00  y = 576.77\n",
      "3           2.659e-07  1.101e+00  y = x₁ * 175.56\n",
      "5           9.231e-08  5.290e-01  y = (0.60679 * x₁) * x₀\n",
      "7           2.711e-08  6.127e-01  y = x₀ * ((x₁ * 0.54067) - -0.36837)\n",
      "9           2.575e-08  2.566e-02  y = ((x₁ - -0.78537) * (x₀ + x₁)) * 0.51672\n",
      "10          1.638e-08  4.523e-01  y = x₀ * (((x₁ + inv(x₁)) * 0.59826) - 0.16006)\n",
      "11          1.637e-08  9.792e-04  y = (x₁ * x₀) * ((cube(inv(x₁)) * 0.43985) - -0.59288)\n",
      "12          1.555e-08  5.144e-02  y = ((inv(x₁) * 0.44027) - (x₁ * -0.59535)) * (x₀ - 7.6448...\n",
      "                                      )\n",
      "17          1.490e-08  8.448e-03  y = ((cube(sqrt(inv(x₁))) * 0.40933) - (x₁ * -0.60405)) * ...\n",
      "                                      ((x₀ + inv(x₁)) - x₁)\n",
      "22          1.421e-08  9.479e-03  y = inv((cbrt(x₀) - (x₁ + x₁)) * -0.079936) + (((cube(inv(...\n",
      "                                      sqrt(x₁))) * 0.44043) - (x₁ * -0.58841)) * x₀)\n",
      "24          1.411e-08  3.560e-03  y = ((((0.43997 * inv(x₁)) - (-0.58664 * x₁)) * x₀) + (inv...\n",
      "                                      ((cbrt(x₀) - (x₁ + x₁)) * -0.059473) - -1.1823)) - -0.5941...\n",
      "                                      1\n",
      "26          1.404e-08  2.393e-03  y = ((((cube(sqrt(inv(x₁))) * 0.43997) - (x₁ * -0.58664)) ...\n",
      "                                      * x₀) + (inv((cbrt(x₀) - (x₁ + x₁)) * -0.059473) - -1.1823...\n",
      "                                      )) - -0.59411\n",
      "27          1.399e-08  3.556e-03  y = ((((sqrt(cube(inv(x₁))) * 0.43997) - (x₁ * -0.58664)) ...\n",
      "                                      * x₀) + (inv((cbrt(x₀) - (x₁ + x₁)) * -0.059473) - -0.5941...\n",
      "                                      1)) - cube(-1.2054)\n",
      "28          1.387e-08  8.889e-03  y = ((((cube(sqrt(inv(x₁))) * 0.43997) - (-0.58664 * x₁)) ...\n",
      "                                      * x₀) + (inv((cbrt(x₀) - (x₁ + x₁)) * -0.059473) - -1.1823...\n",
      "                                      )) - (-1.2082 + -2.0975)\n",
      "───────────────────────────────────────────────────────────────────────────────────────────────────\n",
      "Current Prediction Average Error (%): 0.8004754071601119\n",
      "Best Prediction Average Error (%): 0.44584397516875574\n",
      "Current Model Formula: x0*((x1 + 1/x1)*0.5982579 - 1*0.16006342)\n"
     ]
    },
    {
     "name": "stderr",
     "output_type": "stream",
     "text": [
      "[ Info: Started!\n",
      "[ Info: Final population:\n",
      "[ Info: Results saved to:\n",
      "/home/ajt6830/miniconda3/envs/pysr_env/lib/python3.11/site-packages/pysr/sr.py:2217: UserWarning: The discovered expressions are being reset. Please set `warm_start=True` if you wish to continue to start a search where you left off.\n",
      "  warnings.warn(\n",
      "/home/ajt6830/miniconda3/envs/pysr_env/lib/python3.11/site-packages/pysr/sr.py:2811: UserWarning: Note: it looks like you are running in Jupyter. The progress bar will be turned off.\n",
      "  warnings.warn(\n"
     ]
    },
    {
     "name": "stdout",
     "output_type": "stream",
     "text": [
      "  - outputs/20250702_225139_B1C5Qu/hall_of_fame.csv\n",
      "───────────────────────────────────────────────────────────────────────────────────────────────────\n",
      "Complexity  Loss       Score      Equation\n",
      "1           2.403e-06  0.000e+00  y = 576.69\n",
      "3           2.659e-07  1.101e+00  y = x₁ * 175.55\n",
      "5           9.231e-08  5.290e-01  y = (x₁ * x₀) * 0.60679\n",
      "7           2.711e-08  6.127e-01  y = x₀ * ((x₁ * 0.54067) - -0.36837)\n",
      "8           2.513e-08  7.589e-02  y = (inv(x₁) + x₁) * (x₀ * 0.56817)\n",
      "9           2.270e-08  1.016e-01  y = x₀ * ((square(inv(x₁)) + x₁) * 0.58214)\n",
      "10          1.640e-08  3.252e-01  y = (x₀ * 0.59702) * ((inv(x₁) + x₁) - 0.25695)\n",
      "11          1.602e-08  2.344e-02  y = ((x₁ + inv(square(x₁ + 0.13058))) * 0.58753) * x₀\n",
      "12          1.371e-08  1.558e-01  y = (0.66045 * ((x₁ + inv(x₁)) + -0.22488)) * (-30.276 + x...\n",
      "                                      ₀)\n",
      "14          1.276e-08  3.563e-02  y = ((x₀ + -54.113) * ((inv(x₁) - 0.14563) + (x₁ + -0.1957...\n",
      "                                      6))) * 0.74195\n",
      "27          1.271e-08  3.316e-04  y = (((x₁ + inv(((x₁ + x₁) + square(cube(-0.7634 + x₁))) +...\n",
      "                                       -0.49283)) * ((cbrt(x₀) + 4.9407) - (x₀ - x₁))) * -0.6404...\n",
      "                                      6) - x₁\n",
      "30          1.269e-08  5.331e-04  y = ((x₁ + inv((square(cube(-0.7634 + x₁)) + (x₁ + x₁)) + ...\n",
      "                                      -0.49283)) * (((cbrt(x₀) + 4.9407) - (x₀ - x₁)) * -0.64046...\n",
      "                                      )) - (x₁ - inv(x₁))\n",
      "───────────────────────────────────────────────────────────────────────────────────────────────────\n",
      "Current Prediction Average Error (%): 0.7954703750951105\n",
      "Best Prediction Average Error (%): 0.44584397516875574\n",
      "Current Model Formula: x0*0.5970196*(x1 - 1*0.25694856 + 1/x1)\n"
     ]
    },
    {
     "name": "stderr",
     "output_type": "stream",
     "text": [
      "[ Info: Started!\n",
      "[ Info: Final population:\n",
      "[ Info: Results saved to:\n",
      "/home/ajt6830/miniconda3/envs/pysr_env/lib/python3.11/site-packages/pysr/sr.py:2217: UserWarning: The discovered expressions are being reset. Please set `warm_start=True` if you wish to continue to start a search where you left off.\n",
      "  warnings.warn(\n",
      "/home/ajt6830/miniconda3/envs/pysr_env/lib/python3.11/site-packages/pysr/sr.py:2811: UserWarning: Note: it looks like you are running in Jupyter. The progress bar will be turned off.\n",
      "  warnings.warn(\n"
     ]
    },
    {
     "name": "stdout",
     "output_type": "stream",
     "text": [
      "  - outputs/20250702_225144_qfOcAY/hall_of_fame.csv\n",
      "───────────────────────────────────────────────────────────────────────────────────────────────────\n",
      "Complexity  Loss       Score      Equation\n",
      "1           2.403e-06  0.000e+00  y = 576.81\n",
      "3           2.659e-07  1.101e+00  y = x₁ * 175.55\n",
      "5           9.231e-08  5.290e-01  y = (x₀ * 0.6068) * x₁\n",
      "7           2.711e-08  6.127e-01  y = x₀ * ((x₁ * 0.54073) + 0.36837)\n",
      "8           2.513e-08  7.589e-02  y = (inv(x₁) + x₁) * (x₀ * 0.56815)\n",
      "9           2.270e-08  1.016e-01  y = ((square(inv(x₁)) + x₁) * 0.58214) * x₀\n",
      "10          1.642e-08  3.236e-01  y = x₀ * ((inv(x₁ * 1.4037) + x₁) * 0.58152)\n",
      "12          1.573e-08  2.155e-02  y = x₀ * (inv(x₁ * (x₁ + 1.2991)) + (x₁ * 0.5875))\n",
      "15          1.338e-08  5.383e-02  y = (x₀ * inv(square(x₁) + 1.165)) + (((x₀ + -62.713) * 0....\n",
      "                                      74144) * x₁)\n",
      "17          1.297e-08  1.586e-02  y = (inv(square(x₁) + 1.2079) * x₀) + (x₁ * ((x₁ + (x₀ + -...\n",
      "                                      67.527)) * 0.72858))\n",
      "18          1.259e-08  2.923e-02  y = (inv(cube(x₁) + inv(x₁)) * x₀) + (((x₁ * (x₀ + -52.107...\n",
      "                                      )) + x₁) * 0.71151)\n",
      "19          1.158e-08  8.347e-02  y = ((x₀ * (inv(1.2394 + cube(x₁)) + -0.016626)) + 2.2858)...\n",
      "                                       + ((x₁ * 0.76632) * (x₀ + -67.174))\n",
      "20          1.121e-08  3.267e-02  y = (x₀ * inv(cube(x₁) + 1.236)) + (((((x₀ + cbrt(x₀)) + -...\n",
      "                                      66.056) * 0.73385) - -1.1621) * x₁)\n",
      "22          1.120e-08  5.896e-04  y = (x₀ * inv(cube(x₁) + 1.236)) + ((((((x₀ + cbrt(x₀)) + ...\n",
      "                                      -66.804) * 0.73288) + 0.7472) - -1.1621) * x₁)\n",
      "25          1.114e-08  1.855e-03  y = (x₀ * inv(1.236 + cube(x₁))) + ((((((x₀ + cbrt(x₀)) + ...\n",
      "                                      -66.804) * 0.72293) + (cube(1.4463) - -1.1621)) * x₁) - 1....\n",
      "                                      4934)\n",
      "28          1.073e-08  1.226e-02  y = (sqrt(x₀) + 3.8733) + ((((x₁ + x₀) + -64.74) * (x₁ * 0...\n",
      "                                      .71311)) + (inv(sqrt(cbrt(x₀ + -44.689) + -3.8923) + cube(...\n",
      "                                      x₁)) * x₀))\n",
      "───────────────────────────────────────────────────────────────────────────────────────────────────\n",
      "Current Prediction Average Error (%): 0.5767164921635975\n",
      "Best Prediction Average Error (%): 0.44584397516875574\n",
      "Current Model Formula: x0*(-0.01662633 + 1/(x1**3 + 1.2393899)) + x1*0.76631534*(x0 - 67.1735) + 2.2857835\n"
     ]
    },
    {
     "name": "stderr",
     "output_type": "stream",
     "text": [
      "[ Info: Started!\n",
      "[ Info: Final population:\n",
      "[ Info: Results saved to:\n",
      "/home/ajt6830/miniconda3/envs/pysr_env/lib/python3.11/site-packages/pysr/sr.py:1270: UserWarning: `extra_sympy_mappings` cannot be pickled and will be removed from the serialized instance. When loading the model, please redefine `extra_sympy_mappings` at runtime.\n",
      "  warnings.warn(warn_msg)\n",
      "/home/ajt6830/miniconda3/envs/pysr_env/lib/python3.11/site-packages/pysr/sr.py:2217: UserWarning: The discovered expressions are being reset. Please set `warm_start=True` if you wish to continue to start a search where you left off.\n",
      "  warnings.warn(\n",
      "/home/ajt6830/miniconda3/envs/pysr_env/lib/python3.11/site-packages/pysr/sr.py:2811: UserWarning: Note: it looks like you are running in Jupyter. The progress bar will be turned off.\n",
      "  warnings.warn(\n"
     ]
    },
    {
     "name": "stdout",
     "output_type": "stream",
     "text": [
      "  - outputs/20250702_225150_q3JJxH/hall_of_fame.csv\n",
      "───────────────────────────────────────────────────────────────────────────────────────────────────\n",
      "Complexity  Loss       Score      Equation\n",
      "1           2.403e-06  0.000e+00  y = 576.81\n",
      "3           2.659e-07  1.101e+00  y = x₁ * 175.55\n",
      "5           9.231e-08  5.290e-01  y = (x₁ * x₀) * 0.60679\n",
      "7           2.719e-08  6.112e-01  y = (x₀ * (x₁ + 0.6547)) * 0.54318\n",
      "8           2.513e-08  7.880e-02  y = (inv(x₁) + x₁) * (x₀ * 0.56815)\n",
      "9           2.270e-08  1.016e-01  y = (x₁ + inv(square(x₁))) * (x₀ * 0.58214)\n",
      "10          1.647e-08  3.205e-01  y = (((inv(x₁) * 0.70429) + x₁) * x₀) * 0.58154\n",
      "11          1.594e-08  3.280e-02  y = (x₀ * 0.58992) * (inv(square(x₁) - -0.40973) + x₁)\n",
      "13          1.435e-08  5.272e-02  y = (0.61043 * ((inv(square(x₁)) * 0.7054) + x₁)) * (x₀ - ...\n",
      "                                      x₁)\n",
      "15          1.425e-08  3.532e-03  y = ((x₀ - (x₁ + 1.4314)) * (x₁ + (inv(square(x₁)) * 0.686...\n",
      "                                      53))) * 0.61314\n",
      "17          1.420e-08  1.727e-03  y = (((((inv(square(x₁)) * 0.70542) + x₁) * (x₀ - x₁)) + 0...\n",
      "                                      .085176) * 0.61278) - x₁\n",
      "18          1.386e-08  2.422e-02  y = ((0.6085 * x₁) + (1.8734 * (square(inv(x₁)) * inv(sqrt...\n",
      "                                      (sqrt(x₀)))))) * (x₀ - x₁)\n",
      "19          1.380e-08  4.159e-03  y = ((0.6085 * x₁) + (sqrt(sqrt(inv(x₀))) * (inv(0.56249) ...\n",
      "                                      * square(inv(x₁))))) * (x₀ - x₁)\n",
      "20          1.353e-08  1.961e-02  y = ((x₀ - x₁) - 2.2427) * ((x₁ * 0.61436) + ((1.8174 * sq...\n",
      "                                      uare(inv(x₁))) * sqrt(sqrt(inv(x₀)))))\n",
      "22          1.353e-08  3.702e-05  y = ((x₀ - x₁) - 2.2427) * ((x₁ * 0.61436) + ((inv(square(...\n",
      "                                      x₁)) * inv(sqrt(sqrt(x₁ + x₀)))) * 1.8174))\n",
      "23          1.349e-08  3.040e-03  y = ((x₀ - x₁) - 2.2427) * (((sqrt(inv(sqrt(x₀) + cube(x₁)...\n",
      "                                      )) * 1.8174) * inv(square(x₁))) + (x₁ * 0.61436))\n",
      "24          1.332e-08  1.265e-02  y = ((0.61436 * x₁) + ((1.8174 * square(inv(x₁))) * sqrt(i...\n",
      "                                      nv(sqrt(square(cube(x₁)) + x₀))))) * ((x₀ - x₁) - 2.2427)\n",
      "25          1.327e-08  3.719e-03  y = ((x₀ - x₁) * ((x₁ * 0.61574) + (square(inv(x₁)) * (sqr...\n",
      "                                      t(inv(sqrt(x₀) + sqrt(1.8891))) * 2.0044)))) - (x₁ + 9.946...\n",
      "                                      7)\n",
      "26          1.320e-08  5.546e-03  y = (((x₀ - x₁) + 0.95774) * (((inv(square(x₁)) * sqrt(inv...\n",
      "                                      (sqrt(x₀ + 1.2034)))) * 2.0044) + (x₁ * 0.61701))) - (x₁ +...\n",
      "                                       12.998)\n",
      "29          1.316e-08  1.017e-03  y = (((x₀ - x₁) + (x₁ - x₁)) * ((x₁ * 0.6196) + (square(in...\n",
      "                                      v(x₁)) * (sqrt(inv(sqrt(x₁) + sqrt(x₀))) * 2.1268)))) - (x...\n",
      "                                      ₁ + 14.612)\n",
      "───────────────────────────────────────────────────────────────────────────────────────────────────\n"
     ]
    },
    {
     "name": "stderr",
     "output_type": "stream",
     "text": [
      "[ Info: Started!\n",
      "[ Info: Final population:\n",
      "[ Info: Results saved to:\n"
     ]
    },
    {
     "name": "stdout",
     "output_type": "stream",
     "text": [
      "Current Prediction Average Error (%): 0.7520892750187722\n",
      "Best Prediction Average Error (%): 0.44584397516875574\n",
      "Current Model Formula: (x1 + 0.7042851/x1)*x0*0.58153874\n"
     ]
    },
    {
     "name": "stderr",
     "output_type": "stream",
     "text": [
      "/home/ajt6830/miniconda3/envs/pysr_env/lib/python3.11/site-packages/pysr/sr.py:2217: UserWarning: The discovered expressions are being reset. Please set `warm_start=True` if you wish to continue to start a search where you left off.\n",
      "  warnings.warn(\n",
      "/home/ajt6830/miniconda3/envs/pysr_env/lib/python3.11/site-packages/pysr/sr.py:2811: UserWarning: Note: it looks like you are running in Jupyter. The progress bar will be turned off.\n",
      "  warnings.warn(\n"
     ]
    },
    {
     "name": "stdout",
     "output_type": "stream",
     "text": [
      "  - outputs/20250702_225155_WbpREC/hall_of_fame.csv\n",
      "───────────────────────────────────────────────────────────────────────────────────────────────────\n",
      "Complexity  Loss       Score      Equation\n",
      "1           2.403e-06  0.000e+00  y = 576.77\n",
      "3           2.659e-07  1.101e+00  y = x₁ * 175.55\n",
      "5           9.231e-08  5.290e-01  y = (x₁ * x₀) * 0.60679\n",
      "7           2.711e-08  6.127e-01  y = ((x₁ * 0.54067) + 0.36836) * x₀\n",
      "8           2.513e-08  7.589e-02  y = (x₁ + inv(x₁)) * (x₀ * 0.56815)\n",
      "10          1.641e-08  2.131e-01  y = (x₀ * (x₁ - (inv(x₁) * -0.75017))) * 0.57979\n",
      "12          1.638e-08  8.895e-04  y = (inv(x₁ + x₁) - (x₁ * -0.6744)) * (0.86006 * x₀)\n",
      "13          1.627e-08  6.470e-03  y = -0.87891 * (x₀ * ((x₁ * -0.67149) - (square(inv(x₁)) *...\n",
      "                                       0.49917)))\n",
      "14          1.614e-08  8.334e-03  y = ((x₁ * -0.66712) - (inv(x₁) * 0.49855)) * ((-0.87521 *...\n",
      "                                       x₀) + 2.0084)\n",
      "15          1.460e-08  9.998e-02  y = (((x₁ * -0.50028) - (inv(square(x₁)) * 0.3628)) * -1.2...\n",
      "                                      24) * (x₀ - x₁)\n",
      "17          1.427e-08  1.143e-02  y = (((x₀ - x₁) - 1.6602) * -1.224) * ((x₁ * -0.50028) - (...\n",
      "                                      square(inv(x₁)) * 0.3628))\n",
      "18          1.423e-08  2.814e-03  y = ((((x₁ * -0.50028) - (square(inv(x₁)) * 0.3628)) * -1....\n",
      "                                      224) * (x₀ - x₁)) - cbrt(x₀)\n",
      "19          1.407e-08  1.163e-02  y = sqrt(square(((inv(square(x₁)) * 0.3628) - (x₁ * -0.500...\n",
      "                                      28)) * ((x₁ + (x₀ * -1.224)) + 3.9439)))\n",
      "21          1.404e-08  1.030e-03  y = square(sqrt(((-0.50028 * x₁) - (square(inv(x₁)) * 0.36...\n",
      "                                      28)) * (x₁ + ((x₀ * -1.224) + 2.5262)))) - x₁\n",
      "25          1.403e-08  8.795e-05  y = sqrt(square(((square(inv(x₁)) * 0.3628) - (x₁ * -0.500...\n",
      "                                      28)) * (x₁ + (3.9439 + (x₀ * -1.224)))) - cube(x₁ + square...\n",
      "                                      (2.4323)))\n",
      "26          1.392e-08  8.133e-03  y = sqrt(square((-1.2246 - ((((x₀ - x₁) - 3.223) - cbrt(4....\n",
      "                                      8648 - x₁)) * -1.2251)) * ((inv(square(x₁)) * 0.36287) - (...\n",
      "                                      x₁ * -0.50285))))\n",
      "28          1.345e-08  1.726e-02  y = sqrt(square((((square(inv(-0.58126 - (square(x₁) * 0.3...\n",
      "                                      8534))) * 0.33407) - (x₁ * -0.51126)) * (((x₁ - (x₀ + -1.2...\n",
      "                                      013)) * -1.22) + -3.6599)) - x₁))\n",
      "30          1.344e-08  2.686e-04  y = sqrt(square((((((x₁ - (x₀ + -1.2013)) * -1.22) + -3.65...\n",
      "                                      99) * ((inv(square(-0.58126 - (square(x₁) * 0.38534))) * 0...\n",
      "                                      .33407) - (x₁ * -0.51126))) - x₁) - 0.21485))\n",
      "───────────────────────────────────────────────────────────────────────────────────────────────────\n"
     ]
    },
    {
     "name": "stderr",
     "output_type": "stream",
     "text": [
      "[ Info: Started!\n",
      "[ Info: Final population:\n",
      "[ Info: Results saved to:\n"
     ]
    },
    {
     "name": "stdout",
     "output_type": "stream",
     "text": [
      "Current Prediction Average Error (%): 0.7413735969091304\n",
      "Best Prediction Average Error (%): 0.44584397516875574\n",
      "Current Model Formula: x0*(x1 - (-0.7501716)/x1)*0.5797899\n"
     ]
    },
    {
     "name": "stderr",
     "output_type": "stream",
     "text": [
      "/home/ajt6830/miniconda3/envs/pysr_env/lib/python3.11/site-packages/pysr/sr.py:2217: UserWarning: The discovered expressions are being reset. Please set `warm_start=True` if you wish to continue to start a search where you left off.\n",
      "  warnings.warn(\n",
      "/home/ajt6830/miniconda3/envs/pysr_env/lib/python3.11/site-packages/pysr/sr.py:2811: UserWarning: Note: it looks like you are running in Jupyter. The progress bar will be turned off.\n",
      "  warnings.warn(\n"
     ]
    },
    {
     "name": "stdout",
     "output_type": "stream",
     "text": [
      "  - outputs/20250702_225200_311R27/hall_of_fame.csv\n",
      "───────────────────────────────────────────────────────────────────────────────────────────────────\n",
      "Complexity  Loss       Score      Equation\n",
      "1           2.403e-06  0.000e+00  y = 576.81\n",
      "3           2.659e-07  1.101e+00  y = x₁ * 175.55\n",
      "5           9.231e-08  5.290e-01  y = x₀ * (x₁ * 0.60679)\n",
      "7           2.711e-08  6.126e-01  y = (x₁ + 0.68022) * (x₀ * 0.54072)\n",
      "8           2.513e-08  7.590e-02  y = ((x₁ + inv(x₁)) * x₀) * 0.56816\n",
      "9           2.270e-08  1.016e-01  y = (x₁ + inv(square(x₁))) * (0.58214 * x₀)\n",
      "10          1.674e-08  3.047e-01  y = x₀ * (0.59211 * (x₁ + (inv(x₁) - 0.21564)))\n",
      "11          1.572e-08  6.293e-02  y = (square(inv(x₁ + 0.50943)) + (x₁ * 0.58706)) * x₀\n",
      "13          1.436e-08  4.497e-02  y = (x₀ - x₁) * ((x₁ * 0.61096) + square(inv(x₁ * 1.5396))...\n",
      "                                      )\n",
      "14          1.435e-08  7.466e-04  y = (x₁ + inv(x₁ * (x₁ + 0.44911))) * ((x₀ - x₁) * 0.60879...\n",
      "                                      )\n",
      "15          1.402e-08  2.364e-02  y = (inv(square((x₁ * x₁) + 0.5248)) + 0.61096) * ((x₀ - x...\n",
      "                                      ₁) * x₁)\n",
      "16          1.396e-08  3.853e-03  y = (x₀ - x₁) * (inv(((x₁ * x₁) * x₁) + 1.4789) + (x₁ * 0....\n",
      "                                      61096))\n",
      "17          1.390e-08  5.010e-03  y = (x₀ - x₁) * (inv((x₁ * (x₁ * x₁)) + square(1.1757)) + ...\n",
      "                                      (x₁ * 0.61096))\n",
      "18          1.389e-08  1.155e-04  y = (x₀ - x₁) * (inv((((x₁ * x₁) * x₁) - -0.049324) + 1.34...\n",
      "                                      96) + (x₁ * 0.61096))\n",
      "19          1.378e-08  8.227e-03  y = (x₀ - x₁) * ((x₁ * 0.61096) + inv(1.6368 + square((0.5...\n",
      "                                      5653 * (x₁ + 0.55653)) * x₁)))\n",
      "20          1.376e-08  1.602e-03  y = (x₀ - x₁) * (inv(((square(x₁ * x₁) + 0.50721) * 0.5565...\n",
      "                                      3) + inv(0.64954)) + (x₁ * 0.61096))\n",
      "21          1.370e-08  4.515e-03  y = ((x₀ - x₁) * ((x₁ * 0.61096) + inv(square((0.55653 * x...\n",
      "                                      ₁) * (x₁ + 0.50721)) + 1.6368))) + -3.1936\n",
      "25          1.362e-08  1.457e-03  y = ((x₀ - (x₁ + 0.23325)) * ((x₁ * 0.61655) + inv((((x₁ *...\n",
      "                                       x₁) + 0.54304) * (0.55574 * square(x₁))) + 1.5393))) - x₁\n",
      "27          1.359e-08  1.079e-03  y = (((x₁ * 0.61333) + inv((x₁ * (square((x₁ * 0.39659) * ...\n",
      "                                      x₁) + 1.5395)) + 0.73369)) * (x₀ + (0.73371 - x₁))) + (-0....\n",
      "                                      9784 - x₁)\n",
      "28          1.356e-08  1.629e-03  y = (((x₀ - (cube(0.85397) + x₁)) - 1.3689e-05) * ((x₁ * 0...\n",
      "                                      .61655) + inv(((((x₁ * x₁) + 0.54304) * square(x₁)) * 0.55...\n",
      "                                      574) + 1.5393))) - x₁\n",
      "29          1.353e-08  2.859e-03  y = ((((x₀ - (0.19663 + x₁)) - 1.3689e-05) * ((x₁ * 0.6165...\n",
      "                                      5) + inv((((x₁ * x₁) + 0.54304) * (square(x₁) * 0.55574)) ...\n",
      "                                      + 1.5393))) - x₁) - x₁\n",
      "───────────────────────────────────────────────────────────────────────────────────────────────────\n"
     ]
    },
    {
     "name": "stderr",
     "output_type": "stream",
     "text": [
      "[ Info: Started!\n",
      "[ Info: Final population:\n",
      "[ Info: Results saved to:\n",
      "/home/ajt6830/miniconda3/envs/pysr_env/lib/python3.11/site-packages/pysr/sr.py:2217: UserWarning: The discovered expressions are being reset. Please set `warm_start=True` if you wish to continue to start a search where you left off.\n",
      "  warnings.warn(\n",
      "/home/ajt6830/miniconda3/envs/pysr_env/lib/python3.11/site-packages/pysr/sr.py:2811: UserWarning: Note: it looks like you are running in Jupyter. The progress bar will be turned off.\n",
      "  warnings.warn(\n"
     ]
    },
    {
     "name": "stdout",
     "output_type": "stream",
     "text": [
      "Current Prediction Average Error (%): 0.8001294627030333\n",
      "Best Prediction Average Error (%): 0.44584397516875574\n",
      "Current Model Formula: x0*0.5921109*(x1 - 1*0.21564037 + 1/x1)\n",
      "  - outputs/20250702_225206_4qm7rd/hall_of_fame.csv\n",
      "───────────────────────────────────────────────────────────────────────────────────────────────────\n",
      "Complexity  Loss       Score      Equation\n",
      "1           2.403e-06  0.000e+00  y = 576.88\n",
      "3           2.659e-07  1.101e+00  y = x₁ * 175.55\n",
      "5           9.231e-08  5.290e-01  y = x₀ * (x₁ * 0.60679)\n",
      "7           2.711e-08  6.126e-01  y = ((x₁ * 0.54053) - -0.36919) * x₀\n",
      "8           2.513e-08  7.590e-02  y = (x₀ * (inv(x₁) + x₁)) * 0.56815\n",
      "14          1.943e-08  4.284e-02  y = (x₀ - x₁) * (cbrt(-1.2406 * (x₁ * x₁)) + (x₁ - -1.0945...\n",
      "                                      ))\n",
      "16          1.469e-08  1.398e-01  y = (x₀ + (x₁ * -2.214)) * ((cbrt((x₁ * x₁) * -0.97296) - ...\n",
      "                                      -0.98129) + x₁)\n",
      "18          1.445e-08  8.387e-03  y = ((x₁ * -2.2143) + x₀) * ((x₁ - -0.97038) + cbrt(((x₁ *...\n",
      "                                       x₁) * -0.97038) + 0.097144))\n",
      "20          1.444e-08  4.104e-04  y = (((x₁ + (cbrt((-0.90002 * x₁) * x₁) - -1.9665)) * ((-2...\n",
      "                                      .1647 * x₁) + x₀)) - x₀) - x₁\n",
      "21          1.360e-08  5.997e-02  y = (((cbrt(x₁ * x₁) * -0.98233) + x₁) - -0.96652) * ((x₁ ...\n",
      "                                      * -2.2147) + (x₀ + inv(x₁ + -3.1714)))\n",
      "22          1.231e-08  9.914e-02  y = ((inv(sqrt(x₁) + -1.7861) + (x₁ * -2.214)) + x₀) * (x₁...\n",
      "                                       + (cbrt((x₁ * x₁) * -0.95941) - -0.99069))\n",
      "24          1.217e-08  5.714e-03  y = (((inv(sqrt(x₁) + -1.7861) + (x₁ * -2.214)) + x₀) * ((...\n",
      "                                      cbrt(x₁ * (-0.95941 * x₁)) + x₁) - -0.99069)) - x₁\n",
      "26          1.206e-08  4.455e-03  y = ((cbrt((x₁ * -0.95195) * x₁) + (x₁ - -1.0006)) * (x₀ +...\n",
      "                                       ((inv(sqrt(x₁) + -1.789) + (x₁ * -2.2135)) + -0.99062))) ...\n",
      "                                      - x₁\n",
      "───────────────────────────────────────────────────────────────────────────────────────────────────\n"
     ]
    },
    {
     "name": "stderr",
     "output_type": "stream",
     "text": [
      "[ Info: Started!\n",
      "[ Info: Final population:\n",
      "[ Info: Results saved to:\n",
      "/home/ajt6830/miniconda3/envs/pysr_env/lib/python3.11/site-packages/pysr/sr.py:2217: UserWarning: The discovered expressions are being reset. Please set `warm_start=True` if you wish to continue to start a search where you left off.\n",
      "  warnings.warn(\n",
      "/home/ajt6830/miniconda3/envs/pysr_env/lib/python3.11/site-packages/pysr/sr.py:2811: UserWarning: Note: it looks like you are running in Jupyter. The progress bar will be turned off.\n",
      "  warnings.warn(\n"
     ]
    },
    {
     "name": "stdout",
     "output_type": "stream",
     "text": [
      "Current Prediction Average Error (%): 0.6822454185161317\n",
      "Best Prediction Average Error (%): 0.44584397516875574\n",
      "Current Model Formula: (x0 - 2.213985*x1)*(x1 - 0.990904747173446*Abs(x1**2)**(1/3)*sign(x1**2) + 0.9812854)\n",
      "  - outputs/20250702_225212_AYmhkB/hall_of_fame.csv\n",
      "───────────────────────────────────────────────────────────────────────────────────────────────────\n",
      "Complexity  Loss       Score      Equation\n",
      "1           2.403e-06  0.000e+00  y = 576.77\n",
      "3           2.659e-07  1.101e+00  y = x₁ * 175.55\n",
      "5           9.231e-08  5.290e-01  y = (x₀ * x₁) * 0.60679\n",
      "7           2.711e-08  6.127e-01  y = ((x₁ * 0.54067) + 0.36837) * x₀\n",
      "8           2.513e-08  7.589e-02  y = (x₀ * (x₁ + inv(x₁))) * 0.56815\n",
      "9           2.274e-08  9.981e-02  y = (x₀ * 0.58063) * (x₁ + inv(square(x₁)))\n",
      "10          1.637e-08  3.287e-01  y = (inv(x₁ * 1.3628) + x₁) * (x₀ * 0.58043)\n",
      "11          1.621e-08  9.568e-03  y = ((x₁ + square(inv(x₁ * -1.1402))) * x₀) * 0.59012\n",
      "12          1.583e-08  2.425e-02  y = (x₁ + inv((x₁ * x₁) + 0.3172)) * (0.59 * x₀)\n",
      "13          1.582e-08  7.385e-05  y = 0.59 * ((inv(square(0.61055) + (x₁ * x₁)) + x₁) * x₀)\n",
      "14          1.554e-08  1.813e-02  y = (((inv(cube(x₁) + 0.52252) + x₁) * x₀) * 0.62961) - sq...\n",
      "                                      uare(x₁)\n",
      "15          1.436e-08  7.919e-02  y = ((x₀ - (x₁ + 2.2176)) * 0.61576) * (x₁ + inv(cube(x₁) ...\n",
      "                                      + 0.37102))\n",
      "17          1.378e-08  2.052e-02  y = ((x₀ * (inv(0.18909 + square(x₁)) + x₁)) - square(x₁ +...\n",
      "                                       cbrt(x₀))) * 0.64842\n",
      "18          1.332e-08  3.385e-02  y = ((x₀ * (inv(cube(sqrt(x₁ + 0.18909))) + x₁)) - square(...\n",
      "                                      x₁ + cbrt(x₀))) * 0.64842\n",
      "20          1.326e-08  2.324e-03  y = (((x₀ * (x₁ + cube(inv(sqrt(x₁ + 0.1781))))) - square(...\n",
      "                                      x₁ + cbrt(x₀))) * 0.64938) + -2.049\n",
      "21          1.317e-08  6.548e-03  y = (((x₀ * (inv(square(x₁) + 0.34003) + x₁)) - (square(cb...\n",
      "                                      rt(x₀) + x₁) + -2.195)) * 0.66016) - x₁\n",
      "22          1.277e-08  3.083e-02  y = (0.65529 * (((sqrt(inv(0.74104 + (x₁ * cube(x₁)))) + x...\n",
      "                                      ₁) * x₀) - square(cbrt(x₀) + x₁))) - x₁\n",
      "24          1.274e-08  1.113e-03  y = (((x₀ * (sqrt(inv((x₁ * cube(x₁)) + 0.74102)) + x₁)) -...\n",
      "                                       square(cbrt(cbrt(cube(x₀))) + x₁)) * 0.6567) - x₁\n",
      "26          1.273e-08  6.273e-04  y = (((x₀ * (sqrt(inv((x₁ * cube(x₁)) + 0.74102)) + x₁)) -...\n",
      "                                       square(cbrt(cbrt(cube(x₁ + x₀))) + x₁)) * 0.6567) - x₁\n",
      "28          1.273e-08  1.309e-04  y = (((x₀ * (sqrt(inv((x₁ * cube(x₁)) + 0.74102)) + x₁)) -...\n",
      "                                       square(x₁ + cbrt(cube(cbrt((x₀ + x₁) - 0.64127))))) * 0.6...\n",
      "                                      5721) - x₁\n",
      "30          1.272e-08  7.374e-05  y = ((((x₀ * (sqrt(inv((x₁ * cube(x₁)) + 0.74102)) + x₁)) ...\n",
      "                                      - square(x₁ + cbrt(cube(cbrt((x₀ + x₁) - 0.64127))))) * 0....\n",
      "                                      65721) - x₁) - -0.39571\n",
      "───────────────────────────────────────────────────────────────────────────────────────────────────\n",
      "Current Prediction Average Error (%): 0.745051607882846\n",
      "Best Prediction Average Error (%): 0.44584397516875574\n"
     ]
    },
    {
     "name": "stderr",
     "output_type": "stream",
     "text": [
      "[ Info: Started!\n",
      "[ Info: Final population:\n",
      "[ Info: Results saved to:\n"
     ]
    },
    {
     "name": "stdout",
     "output_type": "stream",
     "text": [
      "Current Model Formula: (x1 + 0.733798517565559/x1)*x0*0.5804257\n"
     ]
    },
    {
     "name": "stderr",
     "output_type": "stream",
     "text": [
      "/home/ajt6830/miniconda3/envs/pysr_env/lib/python3.11/site-packages/pysr/sr.py:2217: UserWarning: The discovered expressions are being reset. Please set `warm_start=True` if you wish to continue to start a search where you left off.\n",
      "  warnings.warn(\n",
      "/home/ajt6830/miniconda3/envs/pysr_env/lib/python3.11/site-packages/pysr/sr.py:2811: UserWarning: Note: it looks like you are running in Jupyter. The progress bar will be turned off.\n",
      "  warnings.warn(\n"
     ]
    },
    {
     "name": "stdout",
     "output_type": "stream",
     "text": [
      "  - outputs/20250702_225217_uGKzQb/hall_of_fame.csv\n",
      "───────────────────────────────────────────────────────────────────────────────────────────────────\n",
      "Complexity  Loss       Score      Equation\n",
      "1           2.403e-06  0.000e+00  y = 576.81\n",
      "3           2.659e-07  1.101e+00  y = x₁ * 175.55\n",
      "5           9.231e-08  5.290e-01  y = x₀ * (x₁ * 0.60679)\n",
      "7           2.711e-08  6.126e-01  y = x₀ * ((x₁ - -0.67538) * 0.5412)\n",
      "8           2.513e-08  7.603e-02  y = x₀ * ((inv(x₁) + x₁) * 0.56815)\n",
      "9           2.270e-08  1.016e-01  y = x₀ * ((x₁ + inv(square(x₁))) * 0.58214)\n",
      "10          1.638e-08  3.261e-01  y = (x₀ * 0.59831) * ((inv(x₁) + -0.2689) + x₁)\n",
      "12          1.547e-08  2.873e-02  y = (x₀ + -6.4583) * (((inv(x₁) + x₁) * 0.61236) + -0.1678...\n",
      "                                      7)\n",
      "14          1.523e-08  7.868e-03  y = (x₀ + -10.362) * ((((inv(x₁) + x₁) * 0.72757) + -0.195...\n",
      "                                      5) * 0.84665)\n",
      "15          1.481e-08  2.770e-02  y = ((inv(x₁) + (x₁ + -0.29196)) * (x₀ * 0.60895)) + (cube...\n",
      "                                      (x₁) * -0.022425)\n",
      "16          1.424e-08  3.938e-02  y = (x₁ + inv(x₁ * (x₁ + 0.40963))) * (((-1.8808 - x₁) + x...\n",
      "                                      ₀) * 0.61227)\n",
      "18          1.415e-08  2.940e-03  y = ((inv((x₁ + 0.39318) * x₁) + x₁) * (((x₀ + -1.6354) - ...\n",
      "                                      x₁) * 0.61241)) + -2.1295\n",
      "19          1.406e-08  6.824e-03  y = (((-0.035384 + x₁) + inv(square(x₁ - 0.36426) + x₁)) *...\n",
      "                                       ((-1.2157 - x₁) + x₀)) * 0.61366\n",
      "20          1.400e-08  4.330e-03  y = ((0.0081907 - x₁) + x₀) * ((inv(((x₁ * x₁) - 0.23109) ...\n",
      "                                      + 0.53763) + (x₁ + -0.070259)) * 0.61366)\n",
      "21          1.398e-08  1.289e-03  y = ((0.0081907 - x₁) + x₀) * ((inv((x₁ * (x₁ - cube(0.613...\n",
      "                                      66))) + 0.53763) + (x₁ + -0.070259)) * 0.61366)\n",
      "22          1.384e-08  9.930e-03  y = (x₁ + inv((x₁ * x₁) + 0.45597)) * (((0.61432 * (x₀ + -...\n",
      "                                      1.6011)) - sqrt(x₁)) + (-1.6011 - cbrt(x₁)))\n",
      "24          1.383e-08  5.085e-04  y = ((x₁ + inv((x₁ * x₁) + 0.45597)) * ((((x₀ + (-1.6011 -...\n",
      "                                       sqrt(x₁))) * 0.61432) + -1.6011) - sqrt(x₁))) - x₁\n",
      "29          1.379e-08  5.800e-04  y = ((inv((x₁ * x₁) + 0.45597) + x₁) * ((((0.61432 * x₀) +...\n",
      "                                       -1.6011) - ((0.45597 + (x₁ * inv(x₁))) + sqrt(x₁))) - cbr...\n",
      "                                      t(x₁))) - -1.4299\n",
      "───────────────────────────────────────────────────────────────────────────────────────────────────\n"
     ]
    },
    {
     "name": "stderr",
     "output_type": "stream",
     "text": [
      "[ Info: Started!\n",
      "[ Info: Final population:\n",
      "[ Info: Results saved to:\n",
      "/home/ajt6830/miniconda3/envs/pysr_env/lib/python3.11/site-packages/pysr/sr.py:2217: UserWarning: The discovered expressions are being reset. Please set `warm_start=True` if you wish to continue to start a search where you left off.\n",
      "  warnings.warn(\n",
      "/home/ajt6830/miniconda3/envs/pysr_env/lib/python3.11/site-packages/pysr/sr.py:2811: UserWarning: Note: it looks like you are running in Jupyter. The progress bar will be turned off.\n",
      "  warnings.warn(\n"
     ]
    },
    {
     "name": "stdout",
     "output_type": "stream",
     "text": [
      "Current Prediction Average Error (%): 0.8021939740812419\n",
      "Best Prediction Average Error (%): 0.44584397516875574\n",
      "Current Model Formula: x0*0.5983077*(x1 - 0.26890117 + 1/x1)\n",
      "  - outputs/20250702_225224_7ZvnBM/hall_of_fame.csv\n",
      "───────────────────────────────────────────────────────────────────────────────────────────────────\n",
      "Complexity  Loss       Score      Equation\n",
      "1           2.403e-06  0.000e+00  y = 576.7\n",
      "3           2.659e-07  1.101e+00  y = x₁ * 175.56\n",
      "5           9.231e-08  5.290e-01  y = (x₁ * x₀) * 0.60679\n",
      "7           2.711e-08  6.126e-01  y = (x₀ * 0.54051) * (x₁ + 0.68175)\n",
      "8           2.513e-08  7.590e-02  y = ((inv(x₁) + x₁) * x₀) * 0.56815\n",
      "9           2.270e-08  1.016e-01  y = ((inv(square(x₁)) + x₁) * 0.58214) * x₀\n",
      "10          1.665e-08  3.100e-01  y = 0.60373 * (((inv(x₁) + x₁) + -0.31107) * x₀)\n",
      "11          1.572e-08  5.726e-02  y = (x₀ * x₁) * (cube(inv(x₁ + 0.32118)) + 0.58728)\n",
      "13          1.484e-08  2.895e-02  y = (inv(square(x₁ + 0.57336)) + (x₁ * 0.60715)) * (x₀ - x...\n",
      "                                      ₁)\n",
      "14          1.465e-08  1.262e-02  y = (x₀ - sqrt(x₀)) * (0.62386 * (x₁ + inv(square(x₁) + 0....\n",
      "                                      3247)))\n",
      "17          1.460e-08  1.226e-03  y = 1.025 * ((((x₀ - 11.826) * x₁) * (inv(cube(x₁ + 0.3483...\n",
      "                                      1)) + 0.59765)) - -0.87573)\n",
      "18          1.453e-08  4.387e-03  y = ((0.63083 * (x₀ - sqrt(x₀ * 1.1175))) * (square(inv(0....\n",
      "                                      17279 + x₁)) + x₁)) - x₁\n",
      "19          1.407e-08  3.278e-02  y = (((x₀ - sqrt(cbrt(x₁) * x₀)) * 0.63773) * (inv(square(...\n",
      "                                      x₁ + 0.17278)) + x₁)) + x₁\n",
      "21          1.393e-08  4.987e-03  y = (((x₁ + inv(square(x₁) + 0.31716)) * (x₀ - (((x₁ + x₁)...\n",
      "                                       * 0.38955) + 10.244))) * 0.62414) + -0.037624\n",
      "26          1.350e-08  6.232e-03  y = (inv(square((x₁ + 0.57315) + inv(square(square(inv(squ...\n",
      "                                      are(inv(inv(x₁) * 0.57337)))) * x₀)))) + (x₁ * 0.61165)) *...\n",
      "                                       (x₀ - x₁)\n",
      "───────────────────────────────────────────────────────────────────────────────────────────────────\n",
      "Current Prediction Average Error (%): 0.8229890499523629\n",
      "Best Prediction Average Error (%): 0.44584397516875574\n",
      "Current Model Formula: 0.60373443*x0*(x1 - 0.31107086 + 1/x1)\n"
     ]
    },
    {
     "name": "stderr",
     "output_type": "stream",
     "text": [
      "[ Info: Started!\n",
      "[ Info: Final population:\n",
      "[ Info: Results saved to:\n",
      "/home/ajt6830/miniconda3/envs/pysr_env/lib/python3.11/site-packages/pysr/sr.py:2217: UserWarning: The discovered expressions are being reset. Please set `warm_start=True` if you wish to continue to start a search where you left off.\n",
      "  warnings.warn(\n",
      "/home/ajt6830/miniconda3/envs/pysr_env/lib/python3.11/site-packages/pysr/sr.py:2811: UserWarning: Note: it looks like you are running in Jupyter. The progress bar will be turned off.\n",
      "  warnings.warn(\n"
     ]
    },
    {
     "name": "stdout",
     "output_type": "stream",
     "text": [
      "  - outputs/20250702_225230_pwNouv/hall_of_fame.csv\n",
      "───────────────────────────────────────────────────────────────────────────────────────────────────\n",
      "Complexity  Loss       Score      Equation\n",
      "1           2.403e-06  0.000e+00  y = 576.8\n",
      "3           2.659e-07  1.101e+00  y = x₁ * 175.55\n",
      "5           9.231e-08  5.290e-01  y = x₁ * (x₀ * 0.60679)\n",
      "7           3.006e-08  5.609e-01  y = ((x₁ - -0.8498) * 0.52471) * x₀\n",
      "10          2.578e-08  5.129e-02  y = square(-0.59206 - cbrt(square(x₁ * 0.23971))) * x₀\n",
      "11          1.763e-08  3.798e-01  y = x₀ * cbrt(0.79795 - (cube(x₁ * 0.76838) * -0.4231))\n",
      "13          1.584e-08  5.366e-02  y = (square(sqrt(cbrt(0.8383 - cube(x₁ * -0.5874)))) * x₀)...\n",
      "                                       - 0.70355\n",
      "15          1.577e-08  2.014e-03  y = sqrt(square(cbrt((cube(0.72996 * x₁) * -0.5204) - 0.83...\n",
      "                                      463))) * (x₀ - 0.92113)\n",
      "16          1.577e-08  2.611e-05  y = cbrt(square(sqrt(0.83463 - (cube(0.72996 * x₁) * -0.52...\n",
      "                                      04)))) * (x₀ - inv(0.92113))\n",
      "17          1.214e-08  2.615e-01  y = (x₀ * cbrt(square((square(x₁ * 0.70911) * -0.4108) - 0...\n",
      "                                      .84283))) - square(x₁ * 2.2399)\n",
      "18          1.197e-08  1.405e-02  y = (x₀ * square(cbrt(0.82546 - (square(x₁) * -0.22714))))...\n",
      "                                       - square((x₁ * -2.3064) - cbrt(x₁))\n",
      "19          1.188e-08  8.040e-03  y = (x₁ + ((x₀ * cbrt(square(0.82499 - (square(x₁) * -0.20...\n",
      "                                      991)))) - square(x₁ * -2.3074))) + 1.3625\n",
      "20          1.181e-08  5.414e-03  y = (x₀ * square(cbrt(0.82546 - (square(x₁) * -0.22714))))...\n",
      "                                       - (square((x₁ * -2.3064) - cbrt(x₁)) + -2.4823)\n",
      "22          1.181e-08  3.387e-04  y = (cbrt(x₀) + 3.9257) + ((x₀ * square(cbrt((square(x₁ * ...\n",
      "                                      0.71409) * -0.41511) - 0.78399))) - square(x₁ * -2.3269))\n",
      "25          1.180e-08  2.392e-05  y = (((0.71374 - cbrt(x₀)) + sqrt(x₀)) + (x₀ * cbrt(square...\n",
      "                                      (0.78379 - (square(x₁ * 0.71374) * -0.4148))))) - square(x...\n",
      "                                      ₁ * -2.327)\n",
      "26          1.180e-08  4.213e-04  y = (((inv(x₁) + sqrt(x₀)) - cbrt(x₀)) + (x₀ * cbrt(square...\n",
      "                                      ((-0.4148 * square(x₁ * 0.71374)) - 0.78379)))) - square(-...\n",
      "                                      2.327 * x₁)\n",
      "───────────────────────────────────────────────────────────────────────────────────────────────────\n"
     ]
    },
    {
     "name": "stderr",
     "output_type": "stream",
     "text": [
      "[ Info: Started!\n",
      "[ Info: Final population:\n",
      "[ Info: Results saved to:\n"
     ]
    },
    {
     "name": "stdout",
     "output_type": "stream",
     "text": [
      "Current Prediction Average Error (%): 0.8848299475298289\n",
      "Best Prediction Average Error (%): 0.44584397516875574\n",
      "Current Model Formula: x0*Abs(0.191941413430518*x1**3 + 0.79794925)**(1/3)*sign(0.191941413430518*x1**3 + 0.79794925)\n"
     ]
    },
    {
     "name": "stderr",
     "output_type": "stream",
     "text": [
      "/home/ajt6830/miniconda3/envs/pysr_env/lib/python3.11/site-packages/pysr/sr.py:2217: UserWarning: The discovered expressions are being reset. Please set `warm_start=True` if you wish to continue to start a search where you left off.\n",
      "  warnings.warn(\n",
      "/home/ajt6830/miniconda3/envs/pysr_env/lib/python3.11/site-packages/pysr/sr.py:2811: UserWarning: Note: it looks like you are running in Jupyter. The progress bar will be turned off.\n",
      "  warnings.warn(\n"
     ]
    },
    {
     "name": "stdout",
     "output_type": "stream",
     "text": [
      "  - outputs/20250702_225235_enK9IO/hall_of_fame.csv\n",
      "───────────────────────────────────────────────────────────────────────────────────────────────────\n",
      "Complexity  Loss       Score      Equation\n",
      "1           2.403e-06  0.000e+00  y = 576.76\n",
      "3           2.659e-07  1.101e+00  y = x₁ * 175.55\n",
      "5           9.231e-08  5.290e-01  y = (x₁ * x₀) * 0.60679\n",
      "7           2.892e-08  5.803e-01  y = ((x₁ * 0.54031) + 0.4119) * x₀\n",
      "9           2.711e-08  3.224e-02  y = x₀ + (((x₁ * 0.54031) - 0.63254) * x₀)\n",
      "11          2.711e-08  1.116e-04  y = (((x₁ * 0.54031) - 0.63254) * (x₀ - 0.45477)) + x₀\n",
      "12          2.671e-08  1.460e-02  y = (((0.53496 * x₁) - 0.62274) * (x₀ + sqrt(x₁))) + x₀\n",
      "13          2.626e-08  1.698e-02  y = x₀ + (((0.53496 * x₁) - 0.62274) * (x₀ + (0.53496 * x₁...\n",
      "                                      )))\n",
      "15          2.592e-08  6.632e-03  y = ((((0.53496 * x₁) - 0.62274) * (x₀ + (0.53496 * x₁))) ...\n",
      "                                      + x₀) - x₁\n",
      "16          2.146e-08  1.888e-01  y = sqrt(((cbrt(x₀) * x₀) * sqrt(x₀)) * (((x₁ * x₁) * 0.85...\n",
      "                                      824) + 1.7111))\n",
      "18          2.003e-08  3.435e-02  y = sqrt(sqrt(x₀) * ((cbrt(x₀) + -0.96577) * ((x₀ + (x₁ * ...\n",
      "                                      (x₀ * x₁))) + x₀)))\n",
      "19          1.936e-08  3.413e-02  y = sqrt(((x₀ + (((x₁ * x₁) + inv(x₁)) * x₀)) * (-0.72038 ...\n",
      "                                      + cbrt(x₀))) * sqrt(x₀))\n",
      "20          1.897e-08  2.073e-02  y = sqrt(((x₀ + (((x₁ * x₁) + inv(cube(x₁))) * x₀)) * (-0....\n",
      "                                      72038 + cbrt(x₀))) * sqrt(x₀))\n",
      "21          1.821e-08  4.071e-02  y = sqrt((cbrt(x₀) + -0.72038) * ((((inv(x₁) + (x₁ * x₁)) ...\n",
      "                                      * (x₀ - x₁)) + x₀) * sqrt(x₀)))\n",
      "22          1.744e-08  4.301e-02  y = sqrt((x₀ + ((inv(square(x₁)) + x₁) * (x₀ * x₁))) * ((c...\n",
      "                                      brt(x₀) + -1.6967) * sqrt(x₀))) * 1.0928\n",
      "24          1.662e-08  2.400e-02  y = sqrt(((x₀ + ((x₀ * x₁) * (inv(square(x₁)) + x₁))) * (c...\n",
      "                                      brt(x₀) + -1.6967)) * sqrt(x₀ - x₁)) * 1.0928\n",
      "26          1.524e-08  4.352e-02  y = ((sqrt((sqrt(x₀) * (cbrt(x₀) + -2.4421)) * (((inv(squa...\n",
      "                                      re(x₁)) + (x₁ * x₁)) * x₀) + x₀)) * 1.1839) + -1.1824) - 1...\n",
      "                                      .7114\n",
      "───────────────────────────────────────────────────────────────────────────────────────────────────\n",
      "Current Prediction Average Error (%): 0.8716679783640975\n",
      "Best Prediction Average Error (%): 0.44584397516875574\n",
      "Current Model Formula: sqrt(x0**(3/2)*(0.8582371*x1**2 + 1.7111037)*sign(x0))*Abs(x0)**(1/6)\n"
     ]
    },
    {
     "name": "stderr",
     "output_type": "stream",
     "text": [
      "[ Info: Started!\n",
      "[ Info: Final population:\n",
      "[ Info: Results saved to:\n",
      "/home/ajt6830/miniconda3/envs/pysr_env/lib/python3.11/site-packages/pysr/sr.py:2217: UserWarning: The discovered expressions are being reset. Please set `warm_start=True` if you wish to continue to start a search where you left off.\n",
      "  warnings.warn(\n",
      "/home/ajt6830/miniconda3/envs/pysr_env/lib/python3.11/site-packages/pysr/sr.py:2811: UserWarning: Note: it looks like you are running in Jupyter. The progress bar will be turned off.\n",
      "  warnings.warn(\n"
     ]
    },
    {
     "name": "stdout",
     "output_type": "stream",
     "text": [
      "  - outputs/20250702_225241_UGg8xz/hall_of_fame.csv\n",
      "───────────────────────────────────────────────────────────────────────────────────────────────────\n",
      "Complexity  Loss       Score      Equation\n",
      "1           2.403e-06  0.000e+00  y = 576.81\n",
      "3           2.659e-07  1.101e+00  y = x₁ * 175.55\n",
      "5           9.231e-08  5.290e-01  y = (x₀ * x₁) * 0.60679\n",
      "7           2.721e-08  6.108e-01  y = x₀ * ((x₁ + 0.71155) * 0.53762)\n",
      "8           2.513e-08  7.960e-02  y = (x₁ + inv(x₁)) * (x₀ * 0.56816)\n",
      "9           2.270e-08  1.016e-01  y = (x₀ * 0.58214) * (x₁ + square(inv(x₁)))\n",
      "10          1.734e-08  2.692e-01  y = ((inv(x₁ + 0.34999) + x₁) * x₀) * 0.57679\n",
      "11          1.578e-08  9.431e-02  y = (x₁ + inv(square(x₁) - -0.33095)) * (0.58922 * x₀)\n",
      "13          1.566e-08  3.748e-03  y = ((x₁ + inv(square(x₁) - -0.33095)) * (0.58922 * x₀)) -...\n",
      "                                       x₁\n",
      "15          1.498e-08  2.227e-02  y = (x₁ + inv(x₁ * (x₁ * 1.3378))) * ((0.59956 * x₀) - sqr...\n",
      "                                      t(x₁))\n",
      "16          1.445e-08  3.635e-02  y = ((x₁ - x₀) * (inv(((x₁ * x₁) + x₁) - 0.57264) + x₁)) *...\n",
      "                                       -0.60893\n",
      "17          1.393e-08  3.664e-02  y = (x₁ + inv(x₁ * (x₁ * 1.3938))) * ((x₀ * 0.62917) - (sq...\n",
      "                                      rt(x₁) * 3.9491))\n",
      "19          1.364e-08  1.055e-02  y = ((x₀ * 0.62917) - (sqrt(x₁) * 3.9491)) * (inv(((x₁ * x...\n",
      "                                      ₁) * 1.3938) - -0.10429) + x₁)\n",
      "21          1.363e-08  9.745e-06  y = (x₁ + inv((1.3938 * (x₁ * x₁)) - -0.10342)) * ((x₀ * 0...\n",
      "                                      .62917) - ((sqrt(x₁) * 3.4382) * 1.1486))\n",
      "22          1.361e-08  1.526e-03  y = (x₁ + inv(((x₁ * x₁) * 1.3938) - (inv(x₁) * -0.10342))...\n",
      "                                      ) * ((x₀ * 0.62917) - (sqrt(x₁) * 3.9491))\n",
      "23          1.358e-08  2.241e-03  y = ((x₀ * 0.62917) - (sqrt(x₁) * 3.9491)) * (inv(((x₁ * x...\n",
      "                                      ₁) * 1.3938) - (cube(inv(x₁)) * -0.099927)) + x₁)\n",
      "24          1.356e-08  1.874e-03  y = ((x₀ * 0.62917) - (sqrt(x₁) * 3.9491)) * (inv(((x₁ * x...\n",
      "                                      ₁) * 1.3938) - (square(inv(cube(x₁))) * -0.099927)) + x₁)\n",
      "───────────────────────────────────────────────────────────────────────────────────────────────────\n",
      "Current Prediction Average Error (%): 0.754701605054471\n",
      "Best Prediction Average Error (%): 0.44584397516875574\n",
      "Current Model Formula: (x1 + 1/(x1 + 0.3499908))*x0*0.5767892\n"
     ]
    },
    {
     "name": "stderr",
     "output_type": "stream",
     "text": [
      "[ Info: Started!\n",
      "[ Info: Final population:\n",
      "[ Info: Results saved to:\n",
      "/home/ajt6830/miniconda3/envs/pysr_env/lib/python3.11/site-packages/pysr/sr.py:2217: UserWarning: The discovered expressions are being reset. Please set `warm_start=True` if you wish to continue to start a search where you left off.\n",
      "  warnings.warn(\n",
      "/home/ajt6830/miniconda3/envs/pysr_env/lib/python3.11/site-packages/pysr/sr.py:2811: UserWarning: Note: it looks like you are running in Jupyter. The progress bar will be turned off.\n",
      "  warnings.warn(\n"
     ]
    },
    {
     "name": "stdout",
     "output_type": "stream",
     "text": [
      "  - outputs/20250702_225246_40AqLo/hall_of_fame.csv\n",
      "───────────────────────────────────────────────────────────────────────────────────────────────────\n",
      "Complexity  Loss       Score      Equation\n",
      "1           2.403e-06  0.000e+00  y = 576.77\n",
      "3           2.659e-07  1.101e+00  y = x₁ * 175.55\n",
      "5           9.231e-08  5.290e-01  y = x₀ * (x₁ * 0.60679)\n",
      "7           2.715e-08  6.119e-01  y = ((x₁ + 0.66215) * x₀) * 0.54248\n",
      "8           2.513e-08  7.739e-02  y = (x₀ * (inv(x₁) + x₁)) * 0.56815\n",
      "9           1.585e-08  4.610e-01  y = (cbrt(cube(x₁) + 4.103) * 0.58718) * x₀\n",
      "11          1.488e-08  3.160e-02  y = (x₀ - x₁) * cbrt((cube(x₁) + 3.534) * 0.22418)\n",
      "13          1.478e-08  3.213e-03  y = (((x₀ - x₁) - 1.896) * cbrt(cube(x₁) + 3.6057)) * 0.61...\n",
      "                                      255\n",
      "14          1.461e-08  1.166e-02  y = (x₀ - x₁) * (0.60687 * cbrt(cube(x₁) + (inv(x₁) + 2.90...\n",
      "                                      49)))\n",
      "15          1.440e-08  1.460e-02  y = (x₀ - x₁) * cbrt(((inv(cube(x₁)) + 2.8988) + cube(x₁))...\n",
      "                                       * 0.22392)\n",
      "16          1.407e-08  2.308e-02  y = (cbrt((inv(x₁) * 3.974) + cube(x₁)) * (x₀ - (x₁ + -1.0...\n",
      "                                      227))) * 0.60841\n",
      "17          1.376e-08  2.182e-02  y = (((x₀ - x₁) + -3.4522) * cbrt(square(inv(x₁) + 0.98843...\n",
      "                                      ) + cube(x₁))) * 0.61726\n",
      "21          1.352e-08  4.486e-03  y = (-8.9603 - x₁) + ((cbrt(cube(x₁) + square(inv(x₁) + 1....\n",
      "                                      0415)) * ((x₀ - x₁) * 0.62112)) - x₁)\n",
      "24          1.339e-08  3.113e-03  y = (((cbrt(cube(x₁) + square(inv(x₁) + 1.0415)) * 0.62112...\n",
      "                                      ) * (x₀ - x₁)) + inv((x₁ * 0.18155) + -0.57251)) - x₁\n",
      "26          1.279e-08  2.297e-02  y = (((cbrt(cube(x₁) + square(inv(x₁) + 1.0415)) * 0.62061...\n",
      "                                      ) * (x₀ - x₁)) + inv((x₁ * 0.17852) + -0.57279)) - (x₁ + x...\n",
      "                                      ₁)\n",
      "28          1.272e-08  2.687e-03  y = ((cbrt(cube(x₁) + square(inv(x₁ - -0.16227) + 1.0415))...\n",
      "                                       * (0.62112 * (x₀ - x₁))) + inv(-0.57251 + (0.18155 * x₁))...\n",
      "                                      ) - (x₁ + x₁)\n",
      "───────────────────────────────────────────────────────────────────────────────────────────────────\n",
      "Current Prediction Average Error (%): 0.7749093899104246\n",
      "Best Prediction Average Error (%): 0.44584397516875574\n",
      "Current Model Formula: 0.58717746*x0*Abs(x1**3 + 4.1029987)**(1/3)*sign(x1**3 + 4.1029987)\n"
     ]
    },
    {
     "name": "stderr",
     "output_type": "stream",
     "text": [
      "[ Info: Started!\n",
      "[ Info: Final population:\n",
      "[ Info: Results saved to:\n",
      "/home/ajt6830/miniconda3/envs/pysr_env/lib/python3.11/site-packages/pysr/sr.py:2217: UserWarning: The discovered expressions are being reset. Please set `warm_start=True` if you wish to continue to start a search where you left off.\n",
      "  warnings.warn(\n",
      "/home/ajt6830/miniconda3/envs/pysr_env/lib/python3.11/site-packages/pysr/sr.py:2811: UserWarning: Note: it looks like you are running in Jupyter. The progress bar will be turned off.\n",
      "  warnings.warn(\n"
     ]
    },
    {
     "name": "stdout",
     "output_type": "stream",
     "text": [
      "  - outputs/20250702_225252_dBwgJq/hall_of_fame.csv\n",
      "───────────────────────────────────────────────────────────────────────────────────────────────────\n",
      "Complexity  Loss       Score      Equation\n",
      "1           2.403e-06  0.000e+00  y = 576.76\n",
      "3           2.659e-07  1.101e+00  y = x₁ * 175.55\n",
      "5           9.231e-08  5.290e-01  y = x₀ * (x₁ * 0.60679)\n",
      "7           2.711e-08  6.126e-01  y = (x₀ * 0.54084) * (x₁ - -0.67928)\n",
      "9           2.698e-08  2.452e-03  y = (x₁ - -0.68213) * ((x₀ * 0.5452) + -1.4299)\n",
      "10          1.638e-08  4.990e-01  y = x₀ * ((x₁ - inv(x₁ * -1.3797)) * 0.58081)\n",
      "11          1.621e-08  1.026e-02  y = (x₀ * (0.58991 - (inv(cube(x₁)) * -0.45165))) * x₁\n",
      "12          1.579e-08  2.621e-02  y = ((x₁ * 0.58296) - inv(-3.247 * (x₁ - 0.296))) * x₀\n",
      "13          1.451e-08  8.471e-02  y = (0.60752 - (cube(inv(x₁)) * -0.44839)) * (x₁ * (x₀ - x...\n",
      "                                      ₁))\n",
      "17          1.403e-08  8.464e-03  y = ((x₁ * -0.7013) - inv(1.0236 - cube(-0.0054517 - x₁)))...\n",
      "                                       * (x₁ + (-0.87502 * x₀))\n",
      "19          1.398e-08  1.604e-03  y = (((x₁ * -0.7013) - inv(1.0236 - cube(-0.0054517 - x₁))...\n",
      "                                      ) * (x₁ + (-0.87502 * x₀))) - 0.80009\n",
      "20          1.388e-08  7.338e-03  y = ((x₁ + (x₀ * -0.87502)) * ((x₁ * -0.7013) - inv(inv(x₁...\n",
      "                                      ) - cube(-0.0054517 - x₁)))) - 2.2669\n",
      "21          1.367e-08  1.484e-02  y = ((x₁ + (((x₀ + -1.7773) * -1.0813) - 0.018346)) * ((x₁...\n",
      "                                       * -0.56706) - inv(cube(x₁) - -1.4891))) + -2.1194\n",
      "───────────────────────────────────────────────────────────────────────────────────────────────────\n",
      "Current Prediction Average Error (%): 0.7468928236483384\n",
      "Best Prediction Average Error (%): 0.44584397516875574\n",
      "Current Model Formula: x0*(x1 - (-1)*0.724778014989569/x1)*0.5808145\n"
     ]
    },
    {
     "name": "stderr",
     "output_type": "stream",
     "text": [
      "[ Info: Started!\n",
      "[ Info: Final population:\n",
      "[ Info: Results saved to:\n",
      "/home/ajt6830/miniconda3/envs/pysr_env/lib/python3.11/site-packages/pysr/sr.py:2217: UserWarning: The discovered expressions are being reset. Please set `warm_start=True` if you wish to continue to start a search where you left off.\n",
      "  warnings.warn(\n",
      "/home/ajt6830/miniconda3/envs/pysr_env/lib/python3.11/site-packages/pysr/sr.py:2811: UserWarning: Note: it looks like you are running in Jupyter. The progress bar will be turned off.\n",
      "  warnings.warn(\n"
     ]
    },
    {
     "name": "stdout",
     "output_type": "stream",
     "text": [
      "  - outputs/20250702_225258_tA4mvV/hall_of_fame.csv\n",
      "───────────────────────────────────────────────────────────────────────────────────────────────────\n",
      "Complexity  Loss       Score      Equation\n",
      "1           2.403e-06  0.000e+00  y = 576.76\n",
      "3           2.659e-07  1.101e+00  y = x₁ * 175.55\n",
      "5           9.231e-08  5.290e-01  y = (x₁ * x₀) * 0.60678\n",
      "7           2.715e-08  6.119e-01  y = x₀ * ((x₁ * 0.53896) - -0.36903)\n",
      "9           1.780e-08  2.110e-01  y = (x₀ * 0.57725) * sqrt(square(x₁) + 1.9195)\n",
      "10          1.643e-08  7.999e-02  y = 0.60046 * (((inv(x₁) + x₁) + -0.28664) * x₀)\n",
      "12          1.350e-08  9.825e-02  y = ((inv(x₁) + x₁) + -0.24727) * (-20.647 + (x₀ * 0.66881...\n",
      "                                      ))\n",
      "14          1.329e-08  7.865e-03  y = square(sqrt((inv(x₁) + x₁) + -0.24813)) * ((x₀ * 0.665...\n",
      "                                      59) + -20.647)\n",
      "16          1.294e-08  1.324e-02  y = ((x₀ * 0.67598) + -22.697) * (-0.24638 + sqrt(inv(x₁) ...\n",
      "                                      + (square(x₁) - -1.6648)))\n",
      "18          1.287e-08  3.000e-03  y = ((((x₀ + -0.82217) * 0.69518) + -28.039) * square(sqrt...\n",
      "                                      ((x₁ + inv(x₁)) + -0.25745))) + -1.9094\n",
      "20          1.285e-08  6.178e-04  y = (((sqrt((square(x₁) - -1.6648) + inv(x₁)) + -0.24638) ...\n",
      "                                      * ((x₀ * 0.67598) + -21.836)) - x₁) + 1.3561\n",
      "22          1.192e-08  3.742e-02  y = (((x₀ * 0.72183) + -36.283) * (sqrt(square(inv(x₁) + 0...\n",
      "                                      .13798) + (square(x₁) + 1.2765)) + -0.28786)) + sqrt(x₀)\n",
      "25          1.188e-08  1.276e-03  y = ((sqrt((square(inv(x₁) + (inv(x₀) + 0.13798)) + square...\n",
      "                                      (x₁)) - -1.2768) + -0.28802) * ((x₀ * 0.72048) + -36.283))...\n",
      "                                       + sqrt(x₀)\n",
      "30          1.176e-08  2.003e-03  y = sqrt((inv(cube(x₁) + x₁) - -1.0177) + square(x₁)) * ((...\n",
      "                                      x₀ * 0.67297) + (-26.419 + cube(sqrt(inv(square(x₁ - 0.485...\n",
      "                                      57))) + inv(x₁ + 0.24815))))\n",
      "───────────────────────────────────────────────────────────────────────────────────────────────────\n",
      "Current Prediction Average Error (%): 0.6367814537942733\n",
      "Best Prediction Average Error (%): 0.44584397516875574\n",
      "Current Model Formula: (x0*0.6688096 - 20.646603)*(x1 - 0.24726713 + 1/x1)\n"
     ]
    },
    {
     "name": "stderr",
     "output_type": "stream",
     "text": [
      "[ Info: Started!\n",
      "[ Info: Final population:\n",
      "[ Info: Results saved to:\n",
      "/home/ajt6830/miniconda3/envs/pysr_env/lib/python3.11/site-packages/pysr/sr.py:1270: UserWarning: `extra_sympy_mappings` cannot be pickled and will be removed from the serialized instance. When loading the model, please redefine `extra_sympy_mappings` at runtime.\n",
      "  warnings.warn(warn_msg)\n",
      "/home/ajt6830/miniconda3/envs/pysr_env/lib/python3.11/site-packages/pysr/sr.py:2217: UserWarning: The discovered expressions are being reset. Please set `warm_start=True` if you wish to continue to start a search where you left off.\n",
      "  warnings.warn(\n",
      "/home/ajt6830/miniconda3/envs/pysr_env/lib/python3.11/site-packages/pysr/sr.py:2811: UserWarning: Note: it looks like you are running in Jupyter. The progress bar will be turned off.\n",
      "  warnings.warn(\n"
     ]
    },
    {
     "name": "stdout",
     "output_type": "stream",
     "text": [
      "  - outputs/20250702_225303_3buNM6/hall_of_fame.csv\n",
      "───────────────────────────────────────────────────────────────────────────────────────────────────\n",
      "Complexity  Loss       Score      Equation\n",
      "1           2.403e-06  0.000e+00  y = 576.76\n",
      "3           2.659e-07  1.101e+00  y = x₁ * 175.55\n",
      "5           9.231e-08  5.290e-01  y = x₀ * (x₁ * 0.60679)\n",
      "7           2.711e-08  6.126e-01  y = (x₁ + 0.68005) * (x₀ * 0.54076)\n",
      "8           2.513e-08  7.590e-02  y = (inv(x₁) + x₁) * (x₀ * 0.56815)\n",
      "9           2.270e-08  1.016e-01  y = (inv(square(x₁)) + x₁) * (x₀ * 0.58213)\n",
      "10          1.734e-08  2.693e-01  y = x₀ * ((x₁ + inv(x₁ + 0.35456)) * 0.57688)\n",
      "12          1.474e-08  8.107e-02  y = (inv(1.3998 * x₁) + x₁) * ((0.6164 * x₀) + -10.367)\n",
      "14          1.379e-08  3.333e-02  y = inv(x₁ * 0.008568) + (((x₀ * x₁) * 0.72125) - (x₁ * 38...\n",
      "                                      .271))\n",
      "15          9.967e-09  3.249e-01  y = (((x₁ * 0.72051) * x₀) - (x₁ * 38.271)) + square(inv(x...\n",
      "                                      ₁ * 0.087203))\n",
      "17          9.879e-09  4.420e-03  y = (inv(square(x₁ * 0.086721)) + (((x₀ * x₁) * 0.72256) -...\n",
      "                                       (x₁ * 38.271))) - x₁\n",
      "21          9.695e-09  4.703e-03  y = square(inv(x₁ * 0.086686)) + ((((x₁ * x₀) * 0.73646) -...\n",
      "                                       0.012415) - ((x₁ * 22.825) - (x₁ * -20.499)))\n",
      "23          9.655e-09  2.072e-03  y = (inv(square(x₁ * 0.085312)) + (((x₁ * 0.73592) * x₀) -...\n",
      "                                       0.76602)) - (((x₁ * 21.345) - -3.0644) + (x₁ * 21.345))\n",
      "25          9.642e-09  6.754e-04  y = ((square(inv(x₁ * 0.084987)) + (x₁ * ((x₀ - -0.67254) ...\n",
      "                                      * 0.73668))) - 1.287) - ((x₁ * 22.864) - ((x₁ * -20.499) +...\n",
      "                                       -3.238))\n",
      "29          9.630e-09  3.057e-04  y = (((((x₁ * x₀) - 1.0353) * 0.73742) - 1.3917) - (((x₁ *...\n",
      "                                       21.345) + 1.48) - (((x₁ * -20.499) + -2.3349) - x₁))) + i...\n",
      "                                      nv(square(x₁ * 0.084663))\n",
      "───────────────────────────────────────────────────────────────────────────────────────────────────\n",
      "Current Prediction Average Error (%): 0.5345087841510487\n",
      "Best Prediction Average Error (%): 0.44584397516875574\n",
      "Current Model Formula: x1*0.7205133*x0 - 38.270885*x1 + 131.503103546889/x1**2\n"
     ]
    },
    {
     "name": "stderr",
     "output_type": "stream",
     "text": [
      "[ Info: Started!\n",
      "[ Info: Final population:\n",
      "[ Info: Results saved to:\n",
      "/home/ajt6830/miniconda3/envs/pysr_env/lib/python3.11/site-packages/pysr/sr.py:1270: UserWarning: `extra_sympy_mappings` cannot be pickled and will be removed from the serialized instance. When loading the model, please redefine `extra_sympy_mappings` at runtime.\n",
      "  warnings.warn(warn_msg)\n",
      "/home/ajt6830/miniconda3/envs/pysr_env/lib/python3.11/site-packages/pysr/sr.py:2217: UserWarning: The discovered expressions are being reset. Please set `warm_start=True` if you wish to continue to start a search where you left off.\n",
      "  warnings.warn(\n",
      "/home/ajt6830/miniconda3/envs/pysr_env/lib/python3.11/site-packages/pysr/sr.py:2811: UserWarning: Note: it looks like you are running in Jupyter. The progress bar will be turned off.\n",
      "  warnings.warn(\n"
     ]
    },
    {
     "name": "stdout",
     "output_type": "stream",
     "text": [
      "  - outputs/20250702_225309_HUSirJ/hall_of_fame.csv\n"
     ]
    },
    {
     "name": "stderr",
     "output_type": "stream",
     "text": [
      "[ Info: Started!\n",
      "[ Info: Final population:\n",
      "[ Info: Results saved to:\n",
      "/home/ajt6830/miniconda3/envs/pysr_env/lib/python3.11/site-packages/pysr/sr.py:2217: UserWarning: The discovered expressions are being reset. Please set `warm_start=True` if you wish to continue to start a search where you left off.\n",
      "  warnings.warn(\n",
      "/home/ajt6830/miniconda3/envs/pysr_env/lib/python3.11/site-packages/pysr/sr.py:2811: UserWarning: Note: it looks like you are running in Jupyter. The progress bar will be turned off.\n",
      "  warnings.warn(\n"
     ]
    },
    {
     "name": "stdout",
     "output_type": "stream",
     "text": [
      "───────────────────────────────────────────────────────────────────────────────────────────────────\n",
      "Complexity  Loss       Score      Equation\n",
      "1           2.403e-06  0.000e+00  y = 576.82\n",
      "3           2.659e-07  1.101e+00  y = x₁ * 175.56\n",
      "5           9.231e-08  5.290e-01  y = (x₁ * x₀) * 0.60679\n",
      "7           2.711e-08  6.127e-01  y = (0.36825 - (x₁ * -0.5407)) * x₀\n",
      "9           2.575e-08  2.566e-02  y = (x₁ + x₀) * ((x₁ * 0.51672) + 0.40598)\n",
      "11          2.563e-08  2.439e-03  y = ((x₁ * 0.51912) - -0.40607) * (x₁ + (x₀ - 1.3261))\n",
      "12          1.685e-08  4.194e-01  y = (x₀ - x₁) * ((x₁ * 0.80537) + (1.1983 - sqrt(x₁)))\n",
      "14          1.676e-08  2.673e-03  y = (x₀ + (-0.6446 - x₁)) * ((x₁ * 0.80792) + (1.1979 - sq...\n",
      "                                      rt(x₁)))\n",
      "15          1.648e-08  1.660e-02  y = ((1.2128 + (x₁ * 0.81278)) - sqrt(x₁)) * ((x₀ - cbrt(x...\n",
      "                                      ₀)) - x₁)\n",
      "16          1.540e-08  6.797e-02  y = (((x₁ * 0.8581) + 1.136) - sqrt(x₁)) * (((x₀ - x₁) * 1...\n",
      "                                      .9702) - x₀)\n",
      "18          1.354e-08  6.445e-02  y = ((1.4523 * ((x₀ - x₁) - x₁)) - x₁) * (((x₁ + 1.5917) *...\n",
      "                                       0.66077) - sqrt(x₁))\n",
      "20          1.347e-08  2.421e-03  y = (((0.66077 * (x₁ + 1.5917)) - sqrt(x₁)) * ((1.4523 * (...\n",
      "                                      (x₀ - x₁) - x₁)) - x₁)) - 1.8718\n",
      "22          1.347e-08  1.736e-04  y = (((1.4523 * ((x₀ - x₁) - x₁)) - x₁) * ((0.66077 * (x₁ ...\n",
      "                                      + 1.5917)) - sqrt(x₁))) - (1.6457 - -0.83395)\n",
      "24          1.335e-08  4.439e-03  y = ((((x₁ + 1.5879) * 0.66297) - sqrt(x₁)) * ((x₀ + (x₁ *...\n",
      "                                       -0.57118)) + ((-1.3307 - x₁) - (x₁ + 1.0691)))) * 1.4529\n",
      "26          1.325e-08  3.880e-03  y = (((((x₁ + 1.5879) * 0.66386) - sqrt(x₁)) * (((x₁ * -0....\n",
      "                                      57118) + x₀) + ((-1.3307 - x₁) - (x₁ + 0.88138)))) - 2.258...\n",
      "                                      4) * 1.4532\n",
      "30          1.309e-08  3.005e-03  y = (((((x₀ - x₀) - x₁) + x₀) - ((x₁ + cbrt(x₀)) * 1.5913)...\n",
      "                                      ) * ((((1.593 + x₁) * 0.67525) - sqrt(x₁)) * 1.4559)) + (-...\n",
      "                                      0.82805 - cube(1.8854))\n",
      "───────────────────────────────────────────────────────────────────────────────────────────────────\n",
      "Current Prediction Average Error (%): 0.7899321350393675\n",
      "Best Prediction Average Error (%): 0.44584397516875574\n",
      "Current Model Formula: (x0 - x1)*(-sqrt(x1) + 0.80537224*x1 + 1.1983484)\n",
      "  - outputs/20250702_225315_NaqjtL/hall_of_fame.csv\n",
      "───────────────────────────────────────────────────────────────────────────────────────────────────\n",
      "Complexity  Loss       Score      Equation\n",
      "1           2.403e-06  0.000e+00  y = 576.81\n",
      "3           2.659e-07  1.101e+00  y = x₁ * 175.55\n",
      "5           9.231e-08  5.290e-01  y = (x₀ * x₁) * 0.60679\n",
      "7           2.711e-08  6.126e-01  y = x₀ * ((x₁ * 0.54076) + 0.36872)\n",
      "8           2.513e-08  7.591e-02  y = (x₀ * (x₁ + inv(x₁))) * 0.56815\n",
      "9           2.270e-08  1.016e-01  y = ((x₁ + square(inv(x₁))) * 0.58214) * x₀\n",
      "10          1.800e-08  2.319e-01  y = ((inv(1.2681 * x₁) + x₁) * x₀) * 0.58627\n",
      "11          1.642e-08  9.171e-02  y = (0.58627 * (inv(square(x₁) * 1.2681) + x₁)) * x₀\n",
      "14          1.618e-08  5.006e-03  y = (x₁ * (x₀ * 0.58469)) + square(cbrt(inv(x₁ + -0.82091)...\n",
      "                                       * x₀))\n",
      "15          1.587e-08  1.909e-02  y = (((inv(x₁ * sqrt(x₁ + 0.68112)) + x₁) * 0.58469) * x₀)...\n",
      "                                       + 0.47555\n",
      "16          1.509e-08  5.075e-02  y = (((x₀ - x₁) * 0.60331) * x₁) + (sqrt(x₀) * (inv(square...\n",
      "                                      (x₁)) * 6.9616))\n",
      "18          1.414e-08  3.229e-02  y = ((((x₀ + 1.3047) - x₁) * x₁) * 0.60747) + (square(inv(...\n",
      "                                      x₁)) * (sqrt(x₀) * 7.2166))\n",
      "───────────────────────────────────────────────────────────────────────────────────────────────────\n",
      "Current Prediction Average Error (%): 0.7361789032999472\n",
      "Best Prediction Average Error (%): 0.44584397516875574\n",
      "Current Model Formula: (x1 + 0.788572822768179/x1)*x0*0.5862663\n"
     ]
    },
    {
     "name": "stderr",
     "output_type": "stream",
     "text": [
      "[ Info: Started!\n",
      "[ Info: Final population:\n",
      "[ Info: Results saved to:\n",
      "/home/ajt6830/miniconda3/envs/pysr_env/lib/python3.11/site-packages/pysr/sr.py:2217: UserWarning: The discovered expressions are being reset. Please set `warm_start=True` if you wish to continue to start a search where you left off.\n",
      "  warnings.warn(\n",
      "/home/ajt6830/miniconda3/envs/pysr_env/lib/python3.11/site-packages/pysr/sr.py:2811: UserWarning: Note: it looks like you are running in Jupyter. The progress bar will be turned off.\n",
      "  warnings.warn(\n"
     ]
    },
    {
     "name": "stdout",
     "output_type": "stream",
     "text": [
      "  - outputs/20250702_225321_cXg76F/hall_of_fame.csv\n",
      "───────────────────────────────────────────────────────────────────────────────────────────────────\n",
      "Complexity  Loss       Score      Equation\n",
      "1           2.403e-06  0.000e+00  y = 576.81\n",
      "3           2.659e-07  1.101e+00  y = x₁ * 175.55\n",
      "5           9.231e-08  5.290e-01  y = (x₀ * x₁) * 0.60679\n",
      "7           2.711e-08  6.127e-01  y = ((x₁ * 0.54068) + 0.36808) * x₀\n",
      "8           2.513e-08  7.589e-02  y = ((inv(x₁) + x₁) * x₀) * 0.56815\n",
      "9           2.270e-08  1.016e-01  y = ((x₁ + square(inv(x₁))) * x₀) * 0.58214\n",
      "10          1.665e-08  3.102e-01  y = ((inv(x₁ * 1.2831) + x₁) * x₀) * 0.57841\n",
      "11          1.622e-08  2.604e-02  y = (x₀ * (x₁ + inv(square(x₁) * 1.3192))) * 0.59014\n",
      "12          1.387e-08  1.567e-01  y = (x₁ + (inv(x₁) + -0.44583)) * ((x₀ * 0.64854) - x₁)\n",
      "14          1.261e-08  4.761e-02  y = ((inv(x₁) + (x₁ + -0.40695)) * 0.67246) * ((x₀ - x₁) -...\n",
      "                                       16.765)\n",
      "16          1.258e-08  1.044e-03  y = ((((x₀ - x₁) - 16.765) * (inv(x₁) + (x₁ + -0.40695))) ...\n",
      "                                      * 0.67246) - -1.5288\n",
      "18          1.256e-08  6.392e-04  y = ((((x₀ - x₁) - 16.765) * (((inv(x₁) + x₁) + -0.40695) ...\n",
      "                                      * 0.67246)) - -0.86831) - x₁\n",
      "20          1.252e-08  1.675e-03  y = ((((0.67246 * ((inv(x₁) + x₁) + -0.40695)) * ((x₀ - x₁...\n",
      "                                      ) - 16.765)) - -0.86831) - -0.58022) - x₁\n",
      "───────────────────────────────────────────────────────────────────────────────────────────────────\n"
     ]
    },
    {
     "name": "stderr",
     "output_type": "stream",
     "text": [
      "[ Info: Started!\n",
      "[ Info: Final population:\n",
      "[ Info: Results saved to:\n",
      "/home/ajt6830/miniconda3/envs/pysr_env/lib/python3.11/site-packages/pysr/sr.py:2217: UserWarning: The discovered expressions are being reset. Please set `warm_start=True` if you wish to continue to start a search where you left off.\n",
      "  warnings.warn(\n",
      "/home/ajt6830/miniconda3/envs/pysr_env/lib/python3.11/site-packages/pysr/sr.py:2811: UserWarning: Note: it looks like you are running in Jupyter. The progress bar will be turned off.\n",
      "  warnings.warn(\n"
     ]
    },
    {
     "name": "stdout",
     "output_type": "stream",
     "text": [
      "Current Prediction Average Error (%): 0.738204206792813\n",
      "Best Prediction Average Error (%): 0.44584397516875574\n",
      "Current Model Formula: (x1 + 0.779377849161861/x1)*x0*0.57840616\n",
      "  - outputs/20250702_225326_FWn7RT/hall_of_fame.csv\n",
      "───────────────────────────────────────────────────────────────────────────────────────────────────\n",
      "Complexity  Loss       Score      Equation\n",
      "1           2.403e-06  0.000e+00  y = 576.8\n",
      "3           2.659e-07  1.101e+00  y = x₁ * 175.55\n",
      "5           9.231e-08  5.290e-01  y = (x₀ * x₁) * 0.60679\n",
      "7           2.711e-08  6.127e-01  y = ((x₁ + 0.68175) * 0.54063) * x₀\n",
      "8           2.513e-08  7.589e-02  y = (x₁ + inv(x₁)) * (x₀ * 0.56815)\n",
      "9           2.270e-08  1.016e-01  y = (x₀ * 0.58214) * (x₁ + inv(square(x₁)))\n",
      "10          1.736e-08  2.683e-01  y = (x₀ * (inv(x₁ + 0.3788) + x₁)) * 0.57671\n",
      "11          1.736e-08  1.354e-04  y = (0.57671 * (inv(square(0.61429) + x₁) + x₁)) * x₀\n",
      "12          1.693e-08  2.483e-02  y = x₀ * (inv((x₁ + x₁) + 0.3788) + (x₁ * 0.57671))\n",
      "14          1.693e-08  2.277e-05  y = (x₀ * (inv((x₁ + x₁) + 0.3788) + (x₁ * 0.57671))) + -0...\n",
      "                                      .86063\n",
      "19          1.430e-08  3.379e-02  y = (x₁ + 0.64738) * (((inv(2.7789 - (x₁ + -0.19173)) + x₀...\n",
      "                                      ) * 0.54687) + inv(x₁ + -0.94534))\n",
      "21          1.426e-08  1.220e-03  y = (x₁ + 0.64738) * (((x₀ + (inv(2.7785 - (x₁ + -0.19171)...\n",
      "                                      ) - 0.86025)) * 0.54797) + inv(x₁ + -0.94541))\n",
      "22          1.418e-08  5.572e-03  y = (x₁ + 0.64738) * (inv(cube(x₁) + -0.94534) + (((-0.917...\n",
      "                                      55 + inv(2.7789 - (x₁ + -0.19173))) + x₀) * 0.54789))\n",
      "23          1.417e-08  9.853e-04  y = (x₁ + 0.64738) * (inv((x₁ * x₁) + -0.94534) + (0.54789...\n",
      "                                       * ((inv(2.7789 - (x₁ + -0.19173)) + -0.55956) + x₀)))\n",
      "───────────────────────────────────────────────────────────────────────────────────────────────────\n",
      "Current Prediction Average Error (%): 0.7576647842840366\n",
      "Best Prediction Average Error (%): 0.44584397516875574\n",
      "Current Model Formula: x0*(x1 + 1/(x1 + 0.37880105))*0.57670873\n"
     ]
    },
    {
     "name": "stderr",
     "output_type": "stream",
     "text": [
      "[ Info: Started!\n",
      "[ Info: Final population:\n",
      "[ Info: Results saved to:\n",
      "/home/ajt6830/miniconda3/envs/pysr_env/lib/python3.11/site-packages/pysr/sr.py:2217: UserWarning: The discovered expressions are being reset. Please set `warm_start=True` if you wish to continue to start a search where you left off.\n",
      "  warnings.warn(\n",
      "/home/ajt6830/miniconda3/envs/pysr_env/lib/python3.11/site-packages/pysr/sr.py:2811: UserWarning: Note: it looks like you are running in Jupyter. The progress bar will be turned off.\n",
      "  warnings.warn(\n"
     ]
    },
    {
     "name": "stdout",
     "output_type": "stream",
     "text": [
      "  - outputs/20250702_225332_8GSQgw/hall_of_fame.csv\n",
      "───────────────────────────────────────────────────────────────────────────────────────────────────\n",
      "Complexity  Loss       Score      Equation\n",
      "1           2.403e-06  0.000e+00  y = 576.65\n",
      "3           2.659e-07  1.101e+00  y = x₁ * 175.56\n",
      "5           9.231e-08  5.290e-01  y = (x₀ * x₁) * 0.60679\n",
      "7           2.711e-08  6.127e-01  y = ((x₁ * 0.54068) + 0.36837) * x₀\n",
      "8           2.513e-08  7.589e-02  y = ((x₁ + inv(x₁)) * x₀) * 0.56815\n",
      "9           2.270e-08  1.016e-01  y = x₀ * ((x₁ + inv(square(x₁))) * 0.58214)\n",
      "10          1.749e-08  2.607e-01  y = (x₀ * (x₁ + inv(x₁ - -0.42837))) * 0.57815\n",
      "11          1.572e-08  1.070e-01  y = (square(inv(-0.51125 - x₁)) + (x₁ * 0.58725)) * x₀\n",
      "12          1.435e-08  9.071e-02  y = (x₀ - 44.84) * (inv(x₁ + x₁) + (x₁ * 0.68531))\n",
      "13          1.263e-08  1.278e-01  y = ((x₀ - 43.147) * (inv(square(x₁ - -0.19482)) + x₁)) * ...\n",
      "                                      0.69015\n",
      "14          1.253e-08  7.879e-03  y = (x₀ - 43.147) * ((x₁ + inv(square(x₁ - cube(-0.56916))...\n",
      "                                      )) * 0.69055)\n",
      "15          1.241e-08  1.008e-02  y = (((x₀ - 43.147) * 0.69055) * (x₁ + inv(square(-0.18437...\n",
      "                                       - x₁)))) - -3.0088\n",
      "17          1.235e-08  2.261e-03  y = ((((x₀ - 44.728) * 0.69229) * (x₁ + square(inv(-0.1969...\n",
      "                                      8 - x₁)))) - -0.71111) + 3.5497\n",
      "19          1.211e-08  9.939e-03  y = ((inv(square(-0.1974 - x₁)) + x₁) * (x₀ - cube(inv(-3....\n",
      "                                      2148 * x₁) + 3.5497))) * 0.68668\n",
      "21          1.202e-08  3.477e-03  y = (((x₀ - cube(inv(x₁ * -3.2148) + 3.5497)) * 0.68668) -...\n",
      "                                       -0.97992) * (x₁ + inv(square(-0.23 - x₁)))\n",
      "23          1.198e-08  1.700e-03  y = (0.68668 * (((x₀ - cube(inv(-3.2148 * x₁) + 3.5497)) -...\n",
      "                                       -0.97992) * (x₁ + inv(square(-0.23 - x₁))))) - -1.3892\n",
      "24          1.190e-08  6.552e-03  y = ((x₁ + square(inv(-0.23 - x₁))) * ((x₀ - cube(inv((inv...\n",
      "                                      (0.68668) + -3.2148) * x₁) + 3.5497)) * 0.68668)) - 1.5063\n",
      "25          1.184e-08  5.487e-03  y = (x₁ + inv(square(-0.23 - x₁))) * (((x₀ - cube(3.5497 +...\n",
      "                                       inv(inv(square(x₁)) + (-3.2148 * x₁)))) * 0.68668) - -0.9...\n",
      "                                      7992)\n",
      "26          1.134e-08  4.309e-02  y = (x₁ + square(inv(-0.1974 - x₁))) * (((x₀ - cube(inv((x...\n",
      "                                      ₁ - 0.13033) * -3.2148) + 3.5491)) * 0.68668) + inv(x₁ - 3...\n",
      "                                      .1301))\n",
      "───────────────────────────────────────────────────────────────────────────────────────────────────\n",
      "Current Prediction Average Error (%): 0.6311682452137181\n",
      "Best Prediction Average Error (%): 0.44584397516875574\n",
      "Current Model Formula: (x0 - 1*43.146923)*(x1 + (x1 - 1*(-0.19481924))**(-2))*0.6901515\n"
     ]
    },
    {
     "name": "stderr",
     "output_type": "stream",
     "text": [
      "[ Info: Started!\n",
      "[ Info: Final population:\n",
      "[ Info: Results saved to:\n",
      "/home/ajt6830/miniconda3/envs/pysr_env/lib/python3.11/site-packages/pysr/sr.py:1270: UserWarning: `extra_sympy_mappings` cannot be pickled and will be removed from the serialized instance. When loading the model, please redefine `extra_sympy_mappings` at runtime.\n",
      "  warnings.warn(warn_msg)\n",
      "/home/ajt6830/miniconda3/envs/pysr_env/lib/python3.11/site-packages/pysr/sr.py:2217: UserWarning: The discovered expressions are being reset. Please set `warm_start=True` if you wish to continue to start a search where you left off.\n",
      "  warnings.warn(\n",
      "/home/ajt6830/miniconda3/envs/pysr_env/lib/python3.11/site-packages/pysr/sr.py:2811: UserWarning: Note: it looks like you are running in Jupyter. The progress bar will be turned off.\n",
      "  warnings.warn(\n"
     ]
    },
    {
     "name": "stdout",
     "output_type": "stream",
     "text": [
      "  - outputs/20250702_225336_2TaQa3/hall_of_fame.csv\n"
     ]
    },
    {
     "name": "stderr",
     "output_type": "stream",
     "text": [
      "[ Info: Started!\n",
      "[ Info: Final population:\n",
      "[ Info: Results saved to:\n"
     ]
    },
    {
     "name": "stdout",
     "output_type": "stream",
     "text": [
      "───────────────────────────────────────────────────────────────────────────────────────────────────\n",
      "Complexity  Loss       Score      Equation\n",
      "1           2.403e-06  0.000e+00  y = 576.76\n",
      "3           2.659e-07  1.101e+00  y = x₁ * 175.55\n",
      "5           9.231e-08  5.290e-01  y = (x₁ * x₀) * 0.60679\n",
      "7           2.711e-08  6.127e-01  y = x₀ * ((x₁ * 0.54067) + 0.36839)\n",
      "8           2.513e-08  7.589e-02  y = (x₀ * 0.56816) * (x₁ + inv(x₁))\n",
      "9           2.270e-08  1.016e-01  y = (x₀ * 0.58214) * (x₁ + square(inv(x₁)))\n",
      "10          1.638e-08  3.261e-01  y = ((x₁ + (inv(x₁) - 0.2665)) * x₀) * 0.59812\n",
      "16          1.636e-08  2.218e-04  y = (((((x₁ + x₁) + x₁) + inv(x₁ * 0.46546)) * x₀) - x₁) *...\n",
      "                                       0.19394\n",
      "17          1.357e-08  1.868e-01  y = (x₁ + inv(square(x₁) + 0.3939)) * sqrt(cbrt(square(squ...\n",
      "                                      are(x₀))) * (x₀ * 0.051835))\n",
      "19          1.331e-08  9.624e-03  y = sqrt(x₀ * (square(cbrt(square(x₀))) * 0.051817)) * (x₁...\n",
      "                                       + inv(0.0036884 * (square(x₁) * x₀)))\n",
      "20          1.066e-08  2.221e-01  y = (x₁ + inv(x₁ * (x₀ * (x₁ * 0.0043593)))) * sqrt((x₀ * ...\n",
      "                                      0.051816) * square(cbrt(square(x₀))))\n",
      "21          1.042e-08  2.277e-02  y = sqrt((square(cbrt(square(x₀))) * x₀) * 0.051817) * (x₁...\n",
      "                                       + inv(((x₀ * 0.0036884) * square(x₁)) + 0.27075))\n",
      "23          1.030e-08  6.166e-03  y = (inv((square(x₁ * -0.060429) * x₀) + 0.32132) + x₁) * ...\n",
      "                                      sqrt((-3.0611 + (cbrt(square(square(x₀))) * 0.053574)) * x...\n",
      "                                      ₀)\n",
      "25          9.999e-09  1.458e-02  y = ((x₁ + inv((square(x₁ * 0.05846) * x₀) + 0.32132)) * s...\n",
      "                                      qrt(x₀ * ((0.053574 * cbrt(square(square(x₀)))) + -3.0611)...\n",
      "                                      )) + -1.7641\n",
      "26          9.999e-09  1.448e-05  y = ((x₁ + inv((square(x₁ * 0.05846) * x₀) + 0.32132)) * s...\n",
      "                                      qrt(x₀ * ((square(cbrt(square(x₀))) * 0.053574) + -3.0611)...\n",
      "                                      )) - square(-1.3218)\n",
      "27          9.998e-09  8.756e-05  y = (((x₁ + inv((square(x₁ * 0.05846) * x₀) + 0.32132)) * ...\n",
      "                                      sqrt(x₀ * ((0.053574 * cbrt(square(square(x₀)))) + -3.0611...\n",
      "                                      ))) + -1.7641) + 0.65755\n",
      "───────────────────────────────────────────────────────────────────────────────────────────────────\n",
      "Current Prediction Average Error (%): 0.5896164356553829\n",
      "Best Prediction Average Error (%): 0.44584397516875574\n",
      "Current Model Formula: 0.227630834905994*sqrt(x0*sign(x0**2)**2)*(x1 + 229.392480624594/(x0*x1**2))*Abs(x0**2)**(1/3)\n"
     ]
    },
    {
     "name": "stderr",
     "output_type": "stream",
     "text": [
      "/home/ajt6830/miniconda3/envs/pysr_env/lib/python3.11/site-packages/pysr/sr.py:1270: UserWarning: `extra_sympy_mappings` cannot be pickled and will be removed from the serialized instance. When loading the model, please redefine `extra_sympy_mappings` at runtime.\n",
      "  warnings.warn(warn_msg)\n",
      "/home/ajt6830/miniconda3/envs/pysr_env/lib/python3.11/site-packages/pysr/sr.py:2217: UserWarning: The discovered expressions are being reset. Please set `warm_start=True` if you wish to continue to start a search where you left off.\n",
      "  warnings.warn(\n",
      "/home/ajt6830/miniconda3/envs/pysr_env/lib/python3.11/site-packages/pysr/sr.py:2811: UserWarning: Note: it looks like you are running in Jupyter. The progress bar will be turned off.\n",
      "  warnings.warn(\n",
      "[ Info: Started!\n"
     ]
    },
    {
     "name": "stdout",
     "output_type": "stream",
     "text": [
      "  - outputs/20250702_225342_USXSlF/hall_of_fame.csv\n",
      "───────────────────────────────────────────────────────────────────────────────────────────────────\n",
      "Complexity  Loss       Score      Equation\n",
      "1           2.403e-06  0.000e+00  y = 576.73\n",
      "3           2.659e-07  1.101e+00  y = x₁ * 175.55\n",
      "5           9.231e-08  5.290e-01  y = x₀ * (x₁ * 0.60679)\n",
      "7           2.711e-08  6.126e-01  y = (x₁ + 0.68328) * (0.54071 * x₀)\n",
      "8           2.513e-08  7.594e-02  y = (inv(x₁) + x₁) * (x₀ * 0.56815)\n",
      "10          1.855e-08  1.516e-01  y = ((inv(x₁ - -0.27969) + x₁) * x₀) * 0.56815\n",
      "12          1.758e-08  2.687e-02  y = x₁ + (x₀ * ((inv(x₁ - -0.39465) + x₁) * 0.5744))\n",
      "15          1.623e-08  2.658e-02  y = (((x₁ + 0.21493) * x₀) * 0.57271) - (square(inv(x₁ * 0...\n",
      "                                      .12184)) * -1.4397)\n",
      "17          1.575e-08  1.523e-02  y = (((x₀ * (x₁ + 0.21565)) * 0.57664) - (square(inv(x₁ * ...\n",
      "                                      0.11842)) * -1.4398)) - 7.3671\n",
      "19          1.445e-08  4.297e-02  y = ((((x₁ + 0.31451) * x₀) * 0.58384) - 50.183) - (inv(sq...\n",
      "                                      uare(x₁ * 0.075321) * -1.2519) - 1.2366)\n",
      "26          1.190e-08  2.778e-02  y = (x₁ + 0.22855) * (((0.6207 * ((x₁ * 0.94307) + x₀)) - ...\n",
      "                                      inv(x₁ * 0.0094496)) - (inv(square(x₁ * 0.083342) * -0.828...\n",
      "                                      49) + x₁))\n",
      "28          1.188e-08  5.414e-04  y = (x₁ + 0.22855) * (((0.6207 * ((x₁ * 0.94307) + x₀)) - ...\n",
      "                                      inv(x₁ * 0.0094496)) - ((inv(square(x₁ * 0.083342) * -0.82...\n",
      "                                      849) + x₁) + 0.22855))\n",
      "30          1.188e-08  4.262e-06  y = (x₁ + 0.22855) * (((((x₁ * 0.94307) + x₀) * 0.6207) - ...\n",
      "                                      inv(x₁ * 0.0094496)) - (((inv(square(x₁ * 0.083342) * -0.8...\n",
      "                                      2849) + 0.22855) + x₁) - -0.03524))\n",
      "───────────────────────────────────────────────────────────────────────────────────────────────────\n",
      "Current Prediction Average Error (%): 0.7719767283367827\n",
      "Best Prediction Average Error (%): 0.44584397516875574\n",
      "Current Model Formula: (x1 + 0.31450978)*x0*0.5838356 - (-1*1.2365637 - 140.800955687476/x1**2) - 1*50.18313\n"
     ]
    },
    {
     "name": "stderr",
     "output_type": "stream",
     "text": [
      "[ Info: Final population:\n",
      "[ Info: Results saved to:\n",
      "/home/ajt6830/miniconda3/envs/pysr_env/lib/python3.11/site-packages/pysr/sr.py:2217: UserWarning: The discovered expressions are being reset. Please set `warm_start=True` if you wish to continue to start a search where you left off.\n",
      "  warnings.warn(\n",
      "/home/ajt6830/miniconda3/envs/pysr_env/lib/python3.11/site-packages/pysr/sr.py:2811: UserWarning: Note: it looks like you are running in Jupyter. The progress bar will be turned off.\n",
      "  warnings.warn(\n"
     ]
    },
    {
     "name": "stdout",
     "output_type": "stream",
     "text": [
      "  - outputs/20250702_225348_hNdWP9/hall_of_fame.csv\n",
      "───────────────────────────────────────────────────────────────────────────────────────────────────\n",
      "Complexity  Loss       Score      Equation\n",
      "1           2.403e-06  0.000e+00  y = 576.84\n",
      "3           2.659e-07  1.101e+00  y = x₁ * 175.56\n",
      "5           9.231e-08  5.290e-01  y = (x₁ * x₀) * 0.60678\n",
      "7           2.711e-08  6.126e-01  y = ((x₁ + 0.68257) * x₀) * 0.54055\n",
      "8           2.513e-08  7.590e-02  y = (x₀ * 0.56816) * (inv(x₁) + x₁)\n",
      "9           2.270e-08  1.016e-01  y = ((x₁ + inv(square(x₁))) * 0.58214) * x₀\n",
      "10          1.639e-08  3.258e-01  y = x₀ * (((inv(x₁) + x₁) * 0.59909) + -0.16182)\n",
      "12          1.628e-08  3.458e-03  y = (x₀ * (((inv(x₁) + x₁) * 0.59909) + -0.16182)) - x₁\n",
      "13          1.480e-08  9.516e-02  y = (x₁ * (x₀ + -47.122)) * ((inv(square(x₁)) * 0.45035) +...\n",
      "                                       0.69335)\n",
      "14          1.333e-08  1.042e-01  y = ((x₀ * 0.42636) * inv(x₁)) + (((x₀ + -45.093) * x₁) * ...\n",
      "                                      0.68523)\n",
      "16          1.163e-08  6.850e-02  y = (((x₀ + -47.658) * 0.70472) * x₁) + ((x₀ * 0.43432) * ...\n",
      "                                      inv(x₁ * x₁))\n",
      "17          1.157e-08  4.509e-03  y = (x₁ * (((x₀ + -51.87) * 0.71146) + ((x₀ * 0.43726) * c...\n",
      "                                      ube(inv(x₁))))) + x₁\n",
      "18          1.157e-08  2.082e-04  y = ((((x₀ + -47.658) * 0.70472) * x₁) + ((inv(x₁ * x₁) * ...\n",
      "                                      0.43432) * x₀)) - -1.6445\n",
      "19          1.142e-08  1.348e-02  y = (x₁ * ((x₀ + -51.87) * 0.71561)) + (inv(x₁) * (((inv(x...\n",
      "                                      ₁) * x₀) * 0.43735) + 3.2434))\n",
      "21          9.238e-09  1.059e-01  y = (x₀ + -54.818) * ((inv((((x₀ + x₀) * 0.025864) + cube(...\n",
      "                                      x₁)) * (x₁ * 0.082537)) + x₁) * 0.72101)\n",
      "23          9.175e-09  3.412e-03  y = (x₀ + -51.87) * (inv((((x₀ + x₀) * 0.033997) + (cube(x...\n",
      "                                      ₁) * 1.8714)) * (x₁ * 0.085716)) + (x₁ * 0.71905))\n",
      "26          8.973e-09  7.400e-03  y = (inv(0.084477 * (((x₀ + x₀) * 0.030565) + square(cube(...\n",
      "                                      x₁) + x₁))) + (x₁ * 0.71971)) * ((x₀ + (-51.87 - x₁)) + x₁...\n",
      "                                      )\n",
      "28          8.873e-09  5.606e-03  y = ((x₀ + -51.87) * (inv((x₁ * 0.084477) * (((cube(x₁) + ...\n",
      "                                      1.8714) + ((x₀ + x₀) * 0.030565)) + cube(x₁))) + (x₁ * 0.7...\n",
      "                                      1971))) - x₁\n",
      "30          8.868e-09  3.139e-04  y = (((-51.87 + x₀) * (inv((x₁ * 0.084477) * ((1.8714 + (c...\n",
      "                                      ube(x₁) + (0.030565 * (x₀ + x₀)))) + cube(x₁))) + (x₁ * 0....\n",
      "                                      71971))) - x₁) - 0.32874\n",
      "───────────────────────────────────────────────────────────────────────────────────────────────────\n",
      "Current Prediction Average Error (%): 0.5033977882563874\n",
      "Best Prediction Average Error (%): 0.44584397516875574\n",
      "Current Model Formula: (x0 - 54.818382)*(x1 + 12.1157299369873/(x1*(x1**3 + (x0 + x0)*0.02586363)))*0.72101474\n"
     ]
    },
    {
     "name": "stderr",
     "output_type": "stream",
     "text": [
      "[ Info: Started!\n",
      "[ Info: Final population:\n",
      "[ Info: Results saved to:\n",
      "/home/ajt6830/miniconda3/envs/pysr_env/lib/python3.11/site-packages/pysr/sr.py:1270: UserWarning: `extra_sympy_mappings` cannot be pickled and will be removed from the serialized instance. When loading the model, please redefine `extra_sympy_mappings` at runtime.\n",
      "  warnings.warn(warn_msg)\n",
      "/home/ajt6830/miniconda3/envs/pysr_env/lib/python3.11/site-packages/pysr/sr.py:2217: UserWarning: The discovered expressions are being reset. Please set `warm_start=True` if you wish to continue to start a search where you left off.\n",
      "  warnings.warn(\n",
      "/home/ajt6830/miniconda3/envs/pysr_env/lib/python3.11/site-packages/pysr/sr.py:2811: UserWarning: Note: it looks like you are running in Jupyter. The progress bar will be turned off.\n",
      "  warnings.warn(\n"
     ]
    },
    {
     "name": "stdout",
     "output_type": "stream",
     "text": [
      "  - outputs/20250702_225353_hRmcdA/hall_of_fame.csv\n"
     ]
    },
    {
     "name": "stderr",
     "output_type": "stream",
     "text": [
      "[ Info: Started!\n",
      "[ Info: Final population:\n",
      "[ Info: Results saved to:\n",
      "/home/ajt6830/miniconda3/envs/pysr_env/lib/python3.11/site-packages/pysr/sr.py:2217: UserWarning: The discovered expressions are being reset. Please set `warm_start=True` if you wish to continue to start a search where you left off.\n",
      "  warnings.warn(\n",
      "/home/ajt6830/miniconda3/envs/pysr_env/lib/python3.11/site-packages/pysr/sr.py:2811: UserWarning: Note: it looks like you are running in Jupyter. The progress bar will be turned off.\n",
      "  warnings.warn(\n"
     ]
    },
    {
     "name": "stdout",
     "output_type": "stream",
     "text": [
      "───────────────────────────────────────────────────────────────────────────────────────────────────\n",
      "Complexity  Loss       Score      Equation\n",
      "1           2.403e-06  0.000e+00  y = 576.79\n",
      "3           2.659e-07  1.101e+00  y = x₁ * 175.55\n",
      "5           9.231e-08  5.290e-01  y = (x₁ * 0.60678) * x₀\n",
      "7           2.711e-08  6.127e-01  y = x₀ * ((x₁ * 0.54069) + 0.36828)\n",
      "8           2.513e-08  7.589e-02  y = ((inv(x₁) + x₁) * 0.56815) * x₀\n",
      "10          1.863e-08  1.495e-01  y = (0.56817 * x₀) * (x₁ + inv(x₁ + 0.24999))\n",
      "11          1.794e-08  3.783e-02  y = inv(square(x₁ * -0.086569)) + ((x₀ * 0.58911) * x₁)\n",
      "12          1.396e-08  2.507e-01  y = ((x₀ - x₁) * 0.62838) * ((inv(x₁) + x₁) - 0.36767)\n",
      "14          1.392e-08  1.378e-03  y = (((inv(x₁) + (x₁ - 0.36541)) * 0.62846) * (x₀ - x₁)) -...\n",
      "                                       x₁\n",
      "16          1.360e-08  1.162e-02  y = ((((x₀ + -2.2537) - x₁) * ((x₁ - 0.39705) + inv(x₁))) ...\n",
      "                                      * 0.64055) - x₁\n",
      "───────────────────────────────────────────────────────────────────────────────────────────────────\n",
      "Current Prediction Average Error (%): 0.6930892627956492\n",
      "Best Prediction Average Error (%): 0.44584397516875574\n",
      "Current Model Formula: (x0 - x1)*0.6283766*(x1 - 1*0.3676719 + 1/x1)\n",
      "  - outputs/20250702_225359_3LCh5f/hall_of_fame.csv\n"
     ]
    },
    {
     "name": "stderr",
     "output_type": "stream",
     "text": [
      "[ Info: Started!\n",
      "[ Info: Final population:\n",
      "[ Info: Results saved to:\n",
      "/home/ajt6830/miniconda3/envs/pysr_env/lib/python3.11/site-packages/pysr/sr.py:2217: UserWarning: The discovered expressions are being reset. Please set `warm_start=True` if you wish to continue to start a search where you left off.\n",
      "  warnings.warn(\n",
      "/home/ajt6830/miniconda3/envs/pysr_env/lib/python3.11/site-packages/pysr/sr.py:2811: UserWarning: Note: it looks like you are running in Jupyter. The progress bar will be turned off.\n",
      "  warnings.warn(\n"
     ]
    },
    {
     "name": "stdout",
     "output_type": "stream",
     "text": [
      "───────────────────────────────────────────────────────────────────────────────────────────────────\n",
      "Complexity  Loss       Score      Equation\n",
      "1           2.403e-06  0.000e+00  y = 576.77\n",
      "3           2.659e-07  1.101e+00  y = x₁ * 175.55\n",
      "5           9.231e-08  5.290e-01  y = (x₁ * 0.60679) * x₀\n",
      "7           2.711e-08  6.126e-01  y = x₀ * ((x₁ + 0.68066) * 0.54092)\n",
      "8           2.513e-08  7.592e-02  y = ((x₁ + inv(x₁)) * x₀) * 0.56815\n",
      "9           2.270e-08  1.016e-01  y = ((inv(square(x₁)) + x₁) * 0.58214) * x₀\n",
      "10          1.626e-08  3.333e-01  y = (((inv(x₁) + x₁) * x₀) * 0.59681) + -46.632\n",
      "12          1.461e-08  5.363e-02  y = (x₁ + inv(x₁ * 1.3293)) * ((x₀ * 0.62241) + -12.602)\n",
      "13          1.338e-08  8.761e-02  y = (x₁ + inv(square(x₁) + 0.34013)) * ((x₀ * 0.63444) + -...\n",
      "                                      13.033)\n",
      "14          1.265e-08  5.675e-02  y = ((x₀ * 0.68438) + -27.83) * (inv((x₁ * x₁) + 0.46805) ...\n",
      "                                      + x₁)\n",
      "17          1.260e-08  1.133e-03  y = (inv(sqrt(x₁ + (x₁ + -0.18233)) * x₁) + x₁) * ((x₀ * 0...\n",
      "                                      .68305) + -28.472)\n",
      "18          1.230e-08  2.447e-02  y = (((x₀ * 0.68438) + -27.305) * (inv((x₁ * x₁) + 0.40118...\n",
      "                                      ) + x₁)) - (x₁ + -0.48629)\n",
      "20          1.227e-08  1.184e-03  y = (((inv((x₁ * x₁) + 0.36312) + x₁) * (((x₀ + 0.52526) *...\n",
      "                                       0.68438) + -27.83)) - x₁) + 1.6535\n",
      "24          1.227e-08  4.377e-05  y = (((inv(((x₁ * x₁) + 0.38838) + (x₁ * -0.025254)) + x₁)...\n",
      "                                       * (((x₀ + 0.52526) * 0.68438) + -27.83)) - x₁) + 1.6535\n",
      "25          1.194e-08  2.746e-02  y = (((x₀ * 0.68438) + -27.83) * (x₁ + inv(((x₁ + -0.04656...\n",
      "                                      6) * x₁) + 0.51461))) + inv(x₁ + (-0.54254 * (x₁ + 0.68438...\n",
      "                                      )))\n",
      "27          1.191e-08  1.247e-03  y = (((x₀ * 0.68438) + -27.83) * (x₁ + inv((0.034866 + ((x...\n",
      "                                      ₁ + -0.046566) * x₁)) + 0.51461))) + inv(x₁ + (-0.54254 * ...\n",
      "                                      (x₁ + 0.68438)))\n",
      "───────────────────────────────────────────────────────────────────────────────────────────────────\n",
      "Current Prediction Average Error (%): 0.8027957114892952\n",
      "Best Prediction Average Error (%): 0.44584397516875574\n",
      "Current Model Formula: (x1 + 1/x1)*x0*0.5968083 - 46.632103\n",
      "  - outputs/20250702_225404_OcmaFh/hall_of_fame.csv\n",
      "───────────────────────────────────────────────────────────────────────────────────────────────────\n",
      "Complexity  Loss       Score      Equation\n",
      "1           2.403e-06  0.000e+00  y = 576.8\n",
      "3           2.659e-07  1.101e+00  y = x₁ * 175.59\n",
      "5           9.231e-08  5.290e-01  y = (x₀ * 0.60679) * x₁\n",
      "7           2.711e-08  6.126e-01  y = (x₁ + 0.68372) * (0.54044 * x₀)\n",
      "8           2.513e-08  7.591e-02  y = ((inv(x₁) + x₁) * x₀) * 0.56815\n",
      "10          1.638e-08  2.139e-01  y = x₀ * (0.598 * ((inv(x₁) + x₁) + -0.26528))\n",
      "12          1.616e-08  6.952e-03  y = ((x₀ * ((x₁ + inv(x₁)) + -0.26497)) * 0.60109) - x₁\n",
      "13          1.614e-08  9.228e-04  y = ((0.6011 - inv(x₀)) * ((x₁ + inv(x₁)) + -0.26495)) * x...\n",
      "                                      ₀\n",
      "14          1.592e-08  1.355e-02  y = ((inv(x₁ * 0.69388) + (x₁ + x₁)) * (x₀ + -4.0302)) * 0...\n",
      "                                      .2945\n",
      "16          1.552e-08  1.284e-02  y = (((x₁ + inv(x₁)) + -0.26414) * 0.61636) * ((x₀ - 1.389...\n",
      "                                      2) - (x₁ - 0.84459))\n",
      "18          1.550e-08  5.669e-04  y = ((inv((x₁ + 2.1222) * (x₁ * 0.73116)) + (x₁ + (x₁ * -0...\n",
      "                                      .41011))) * x₀) - x₁\n",
      "20          1.544e-08  2.131e-03  y = (inv((x₁ + 2.1285) * (x₁ * 0.76384)) + ((x₁ + x₁) * 0....\n",
      "                                      29941)) * (x₀ - (x₁ - 0.97585))\n",
      "21          1.523e-08  1.322e-02  y = (inv((x₁ + 2.1285) * (x₁ * 0.76384)) + ((x₁ + x₁) * 0....\n",
      "                                      29941)) * ((x₀ - x₁) + inv(0.46704))\n",
      "22          1.523e-08  7.093e-06  y = (inv(((x₁ + 2.1285) * x₁) * 0.76384) + ((x₁ + x₁) * 0....\n",
      "                                      29941)) * ((x₀ - (x₁ - 0.97585)) + 2.4005)\n",
      "23          1.521e-08  1.284e-03  y = (inv((x₁ + 2.1285) * (x₁ * 0.76384)) + ((x₁ + x₁) * 0....\n",
      "                                      29941)) * (((x₀ - x₁) - -0.28532) + inv(0.46704))\n",
      "24          1.512e-08  5.914e-03  y = ((inv(((x₁ + 2.1285) * x₁) * 0.76384) + ((x₁ + x₁) * 0...\n",
      "                                      .29941)) * ((x₀ - (x₁ - 0.97585)) + 2.4005)) - 1.3316\n",
      "26          1.497e-08  5.242e-03  y = ((x₀ - (x₁ * 0.29671)) - 1.0306) * (inv(((x₁ + x₁) + (...\n",
      "                                      (x₁ + 0.29669) * x₁)) * 0.71023) + ((x₁ + x₁) * 0.29728))\n",
      "28          1.479e-08  5.903e-03  y = ((x₀ - (x₁ * 0.45151)) - 1.444) * (inv((((x₁ + x₁) + (...\n",
      "                                      (x₁ * 0.093749) + x₁)) * x₁) * 0.70798) + ((x₁ + x₁) * 0.3...\n",
      "                                      0166))\n",
      "29          1.428e-08  3.544e-02  y = (inv((x₁ + (((x₁ * 1.4709) + x₁) * 0.81566)) * (x₁ * 0...\n",
      "                                      .81519)) + ((x₁ + x₁) * 0.31387)) * ((x₀ - (x₁ + cbrt(x₀))...\n",
      "                                      ) - 1.0922)\n",
      "───────────────────────────────────────────────────────────────────────────────────────────────────\n",
      "Current Prediction Average Error (%): 0.7992242368148127\n",
      "Best Prediction Average Error (%): 0.44584397516875574\n",
      "Current Model Formula: x0*0.59799653*(x1 - 0.26527676 + 1/x1)\n"
     ]
    },
    {
     "name": "stderr",
     "output_type": "stream",
     "text": [
      "[ Info: Started!\n",
      "[ Info: Final population:\n",
      "[ Info: Results saved to:\n",
      "/home/ajt6830/miniconda3/envs/pysr_env/lib/python3.11/site-packages/pysr/sr.py:2217: UserWarning: The discovered expressions are being reset. Please set `warm_start=True` if you wish to continue to start a search where you left off.\n",
      "  warnings.warn(\n",
      "/home/ajt6830/miniconda3/envs/pysr_env/lib/python3.11/site-packages/pysr/sr.py:2811: UserWarning: Note: it looks like you are running in Jupyter. The progress bar will be turned off.\n",
      "  warnings.warn(\n"
     ]
    },
    {
     "name": "stdout",
     "output_type": "stream",
     "text": [
      "  - outputs/20250702_225409_XydKrd/hall_of_fame.csv\n",
      "───────────────────────────────────────────────────────────────────────────────────────────────────\n",
      "Complexity  Loss       Score      Equation\n",
      "1           2.403e-06  0.000e+00  y = 576.91\n",
      "3           2.659e-07  1.101e+00  y = x₁ * 175.56\n",
      "5           9.231e-08  5.290e-01  y = (x₀ * x₁) * 0.60679\n",
      "7           2.711e-08  6.127e-01  y = ((x₁ * 0.54068) + 0.36832) * x₀\n",
      "8           2.513e-08  7.589e-02  y = (x₁ + inv(x₁)) * (x₀ * 0.56816)\n",
      "9           2.270e-08  1.016e-01  y = (x₁ + square(inv(x₁))) * (x₀ * 0.58214)\n",
      "10          1.734e-08  2.694e-01  y = ((x₁ + inv(x₁ + 0.35526)) * x₀) * 0.57688\n",
      "11          1.578e-08  9.443e-02  y = x₀ * ((x₁ + inv(square(x₁) + 0.33288)) * 0.58881)\n",
      "13          1.435e-08  4.735e-02  y = ((x₁ + inv(square(x₁ + 0.19743))) * (x₀ - x₁)) * 0.608...\n",
      "                                      26\n",
      "15          1.422e-08  4.642e-03  y = (((x₀ - x₁) * (inv(square(x₁ + 0.20775)) + x₁)) * 0.61...\n",
      "                                      207) - x₁\n",
      "16          1.419e-08  1.784e-03  y = ((0.61172 * (x₁ + square(inv(x₁ + 0.19735)))) * (x₀ - ...\n",
      "                                      x₁)) - square(2.2484)\n",
      "17          1.408e-08  7.967e-03  y = ((x₀ - x₁) * ((x₁ + inv(square(x₁ + 0.19552))) * 0.613...\n",
      "                                      57)) - (x₁ + 3.0421)\n",
      "18          1.385e-08  1.675e-02  y = (inv(square(x₁) + x₁) + ((x₁ * 0.63061) + -0.094355)) ...\n",
      "                                      * (x₀ - (sqrt(x₁) + x₁))\n",
      "19          1.367e-08  1.292e-02  y = (inv(square(x₁) + x₁) + (-0.094355 + (0.63061 * x₁))) ...\n",
      "                                      * (x₀ - (0.63061 - (-3.0956 - x₁)))\n",
      "20          1.339e-08  2.066e-02  y = (inv(x₁ + square(x₁)) + ((x₁ * 0.63704) + -0.093046)) ...\n",
      "                                      * (x₀ - (sqrt(x₁) - (-4.3203 - x₁)))\n",
      "30          1.245e-08  7.234e-03  y = ((x₀ - x₁) * (((x₁ * 0.66815) + -0.32156) + sqrt(inv(x...\n",
      "                                      ₁ + square(x₁))))) - cube(sqrt((1.0852 - inv(cube(x₁ * 0.9...\n",
      "                                      4447))) + x₁) + 1.2184)\n",
      "───────────────────────────────────────────────────────────────────────────────────────────────────\n",
      "Current Prediction Average Error (%): 0.754945982407779\n",
      "Best Prediction Average Error (%): 0.44584397516875574\n",
      "Current Model Formula: (x1 + 1/(x1 + 0.35525635))*x0*0.57688016\n"
     ]
    },
    {
     "name": "stderr",
     "output_type": "stream",
     "text": [
      "[ Info: Started!\n",
      "[ Info: Final population:\n",
      "[ Info: Results saved to:\n",
      "/home/ajt6830/miniconda3/envs/pysr_env/lib/python3.11/site-packages/pysr/sr.py:2217: UserWarning: The discovered expressions are being reset. Please set `warm_start=True` if you wish to continue to start a search where you left off.\n",
      "  warnings.warn(\n",
      "/home/ajt6830/miniconda3/envs/pysr_env/lib/python3.11/site-packages/pysr/sr.py:2811: UserWarning: Note: it looks like you are running in Jupyter. The progress bar will be turned off.\n",
      "  warnings.warn(\n"
     ]
    },
    {
     "name": "stdout",
     "output_type": "stream",
     "text": [
      "  - outputs/20250702_225414_4ZFBpi/hall_of_fame.csv\n",
      "───────────────────────────────────────────────────────────────────────────────────────────────────\n",
      "Complexity  Loss       Score      Equation\n",
      "1           2.403e-06  0.000e+00  y = 576.81\n",
      "3           2.659e-07  1.101e+00  y = x₁ * 175.55\n",
      "5           9.231e-08  5.290e-01  y = (x₁ * x₀) * 0.60679\n",
      "7           2.711e-08  6.127e-01  y = ((x₁ * 0.5407) + 0.36817) * x₀\n",
      "8           2.513e-08  7.589e-02  y = x₀ * ((inv(x₁) + x₁) * 0.56815)\n",
      "9           2.270e-08  1.016e-01  y = (inv(square(x₁)) + x₁) * (x₀ * 0.58214)\n",
      "10          1.638e-08  3.263e-01  y = ((inv(x₁ * 1.3696) + x₁) * x₀) * 0.57989\n",
      "12          1.621e-08  5.286e-03  y = ((0.58226 * x₁) + inv((x₁ * x₁) - -1.3035)) * x₀\n",
      "13          1.475e-08  9.443e-02  y = (inv(square(x₁ * 1.4719)) + (x₁ * 0.60826)) * (x₀ - x₁...\n",
      "                                      )\n",
      "19          1.460e-08  1.664e-03  y = inv(x₁ + -3.0261) - (((x₁ * 0.67847) + inv(x₁ * 2.2213...\n",
      "                                      )) * ((x₀ * -0.86805) + 1.0566))\n",
      "21          1.459e-08  4.032e-04  y = inv(x₁ + -3.0261) - (((x₁ * 0.67847) + inv(x₁ * 2.2213...\n",
      "                                      )) * (((-0.19771 + x₀) * -0.86805) + 1.0566))\n",
      "24          1.423e-08  8.388e-03  y = ((inv(0.57989 - (x₁ * 0.21108)) - ((x₀ * -1.0085) + 1....\n",
      "                                      6477)) * ((x₁ * 0.57989) + inv(x₁ * 2.4154))) + cbrt(x₀)\n",
      "25          1.388e-08  2.481e-02  y = inv(x₁ + -3.0261) - ((((x₁ * 0.67847) + inv(x₁ * 2.221...\n",
      "                                      3)) * ((x₀ * -0.86805) + (0.67847 * (x₁ + -3.0261)))) + -0...\n",
      "                                      .70496)\n",
      "27          1.352e-08  1.298e-02  y = inv(x₁ + -3.0261) - (((x₁ * 0.67847) + inv(x₁ * 2.2213...\n",
      "                                      )) * ((((x₁ * 0.67847) + -3.0261) - square(inv(x₁))) + (x₀...\n",
      "                                       * -0.86805)))\n",
      "28          1.346e-08  4.440e-03  y = inv((-0.53628 - (x₁ * 0.41185)) + (x₁ * 0.58204)) + (2...\n",
      "                                      .4396 - ((sqrt(x₁) + (x₀ * -1.0095)) * ((x₁ * 0.58119) + i...\n",
      "                                      nv(x₁ * 2.4154))))\n",
      "29          1.335e-08  8.698e-03  y = inv(x₁ + -3.0281) - (((x₁ * 0.67985) + inv(x₁ * 2.2212...\n",
      "                                      )) * (((((x₁ * 0.67845) + -3.0261) - square(inv(x₁))) + (x...\n",
      "                                      ₀ * -0.86927)) + -0.70496))\n",
      "───────────────────────────────────────────────────────────────────────────────────────────────────\n",
      "Current Prediction Average Error (%): 0.7501576258958732\n",
      "Best Prediction Average Error (%): 0.44584397516875574\n",
      "Current Model Formula: (x1 + 0.73014263920571/x1)*x0*0.57988673\n"
     ]
    },
    {
     "name": "stderr",
     "output_type": "stream",
     "text": [
      "[ Info: Started!\n",
      "[ Info: Final population:\n",
      "[ Info: Results saved to:\n",
      "/home/ajt6830/miniconda3/envs/pysr_env/lib/python3.11/site-packages/pysr/sr.py:2217: UserWarning: The discovered expressions are being reset. Please set `warm_start=True` if you wish to continue to start a search where you left off.\n",
      "  warnings.warn(\n",
      "/home/ajt6830/miniconda3/envs/pysr_env/lib/python3.11/site-packages/pysr/sr.py:2811: UserWarning: Note: it looks like you are running in Jupyter. The progress bar will be turned off.\n",
      "  warnings.warn(\n"
     ]
    },
    {
     "name": "stdout",
     "output_type": "stream",
     "text": [
      "  - outputs/20250702_225420_wKuE6r/hall_of_fame.csv\n"
     ]
    },
    {
     "name": "stderr",
     "output_type": "stream",
     "text": [
      "[ Info: Started!\n",
      "[ Info: Final population:\n",
      "[ Info: Results saved to:\n",
      "/home/ajt6830/miniconda3/envs/pysr_env/lib/python3.11/site-packages/pysr/sr.py:2217: UserWarning: The discovered expressions are being reset. Please set `warm_start=True` if you wish to continue to start a search where you left off.\n",
      "  warnings.warn(\n",
      "/home/ajt6830/miniconda3/envs/pysr_env/lib/python3.11/site-packages/pysr/sr.py:2811: UserWarning: Note: it looks like you are running in Jupyter. The progress bar will be turned off.\n",
      "  warnings.warn(\n"
     ]
    },
    {
     "name": "stdout",
     "output_type": "stream",
     "text": [
      "───────────────────────────────────────────────────────────────────────────────────────────────────\n",
      "Complexity  Loss       Score      Equation\n",
      "1           2.403e-06  0.000e+00  y = 576.8\n",
      "3           2.659e-07  1.101e+00  y = x₁ * 175.55\n",
      "5           9.231e-08  5.290e-01  y = (x₀ * 0.60679) * x₁\n",
      "7           2.711e-08  6.126e-01  y = ((x₁ + 0.68741) * x₀) * 0.54007\n",
      "8           2.513e-08  7.604e-02  y = (x₀ * (x₁ + inv(x₁))) * 0.56816\n",
      "9           2.270e-08  1.016e-01  y = (x₀ * 0.58214) * (x₁ + square(inv(x₁)))\n",
      "10          1.639e-08  3.259e-01  y = (x₀ * 0.5977) * ((inv(x₁) + x₁) - 0.26246)\n",
      "12          1.626e-08  3.976e-03  y = 0.60081 * ((x₀ * ((inv(x₁) + x₁) - 0.26561)) - x₁)\n",
      "13          1.587e-08  2.411e-02  y = (inv(0.5869 - cube(-0.19828 - x₁)) + 0.5869) * (x₀ * x...\n",
      "                                      ₁)\n",
      "14          1.426e-08  1.071e-01  y = ((-14.083 + (0.65788 * x₀)) * (inv(x₁) + (x₁ - 0.28855...\n",
      "                                      ))) - x₁\n",
      "15          1.303e-08  8.962e-02  y = ((x₁ + inv(x₁)) - inv(x₁ + 3.1638)) * ((x₀ * 0.67569) ...\n",
      "                                      + -26.951)\n",
      "16          1.276e-08  2.115e-02  y = (((x₀ + -35.027) * (inv(x₁) + (x₁ - 0.29298))) + (x₁ *...\n",
      "                                       0.31993)) * 0.68111\n",
      "18          1.227e-08  1.968e-02  y = ((((x₀ + -38.285) * (-0.14158 * ((inv(x₁) + x₁) - 0.36...\n",
      "                                      572))) + x₁) * -5.0691) + 2.3533\n",
      "19          1.213e-08  1.111e-02  y = ((((x₀ + -38.285) * (-0.14158 * ((inv(x₁) + x₁) - 0.36...\n",
      "                                      572))) + x₁) * -5.0691) + inv(0.14643)\n",
      "20          1.196e-08  1.419e-02  y = ((x₁ + (((x₀ + -38.285) * ((x₁ + inv(x₁)) - 0.36572)) ...\n",
      "                                      * -0.14158)) * -5.0691) + (6.8292 - x₁)\n",
      "21          1.196e-08  5.960e-08  y = ((((x₀ + -38.285) * (-0.14158 * ((inv(x₁) + x₁) - 0.36...\n",
      "                                      572))) + x₁) * -5.0691) + (inv(0.14643) - x₁)\n",
      "23          1.192e-08  1.927e-03  y = (((((x₀ + -38.285) * (((inv(x₁) + x₁) - 0.36572) * -0....\n",
      "                                      14158)) + x₁) * -5.0691) + (inv(0.14643) - x₁)) + 1.9956\n",
      "───────────────────────────────────────────────────────────────────────────────────────────────────\n",
      "Current Prediction Average Error (%): 0.797458000580917\n",
      "Best Prediction Average Error (%): 0.44584397516875574\n",
      "Current Model Formula: x0*0.59769696*(x1 - 1*0.26246324 + 1/x1)\n",
      "  - outputs/20250702_225425_HEst3m/hall_of_fame.csv\n",
      "───────────────────────────────────────────────────────────────────────────────────────────────────\n",
      "Complexity  Loss       Score      Equation\n",
      "1           2.403e-06  0.000e+00  y = 576.82\n",
      "3           2.659e-07  1.101e+00  y = x₁ * 175.55\n",
      "5           9.231e-08  5.290e-01  y = (0.60679 * x₁) * x₀\n",
      "7           2.711e-08  6.126e-01  y = x₀ * ((x₁ + 0.68614) * 0.54024)\n",
      "8           2.513e-08  7.599e-02  y = ((x₁ + inv(x₁)) * x₀) * 0.56815\n",
      "10          1.638e-08  2.139e-01  y = x₀ * (((x₁ + -0.26543) + inv(x₁)) * 0.598)\n",
      "12          1.623e-08  4.701e-03  y = ((x₀ * (-0.25455 + (inv(x₁) + x₁))) * 0.59854) - x₁\n",
      "20          1.577e-08  3.600e-03  y = (((x₁ * 0.56874) + 0.23107) * (x₀ + -2.0488)) + cbrt(i...\n",
      "                                      nv(cube((x₁ + -0.87351) * 0.10844)) - x₀)\n",
      "21          1.538e-08  2.518e-02  y = cbrt(cube(inv((x₁ + -0.87032) * 0.10062)) - x₀) + (((x...\n",
      "                                      ₁ * 0.57655) + 0.22844) * (x₀ - cbrt(x₀)))\n",
      "23          1.511e-08  8.844e-03  y = cbrt(inv(cube((-0.87032 + x₁) * 0.10062)) - (x₀ * 2.08...\n",
      "                                      21)) + ((x₀ - cbrt(x₀)) * (0.22844 + (0.57655 * x₁)))\n",
      "24          1.503e-08  4.844e-03  y = cbrt(cube(inv((x₁ + -0.87032) * 0.10062)) - (x₀ * cbrt...\n",
      "                                      (x₀))) + ((x₀ - cbrt(x₀)) * ((x₁ * 0.57655) + 0.22844))\n",
      "25          1.500e-08  2.272e-03  y = (((x₀ - cbrt(x₀)) * ((x₁ * 0.58349) + 0.20053)) + cbrt...\n",
      "                                      (inv(cube((x₁ + -0.87147) * 0.098446)) - (x₀ * 2.0821))) +...\n",
      "                                       -1.3556\n",
      "27          1.495e-08  1.514e-03  y = (cbrt((inv(cube((-0.87149 + x₁) * 0.11269)) - x₀) * x₁...\n",
      "                                      ) - x₁) + ((-0.8253 + (x₀ - cbrt(x₀))) * ((x₁ * 0.58198) +...\n",
      "                                       0.23449))\n",
      "28          1.459e-08  2.435e-02  y = (cbrt(inv(cube((x₁ + -0.87174) * 0.097967)) - (x₀ * (2...\n",
      "                                      .0821 - cbrt(x₀ * -1.3118)))) + (x₀ - cbrt(x₀))) * ((x₁ * ...\n",
      "                                      0.60264) + 0.23297)\n",
      "───────────────────────────────────────────────────────────────────────────────────────────────────\n",
      "Current Prediction Average Error (%): 0.7994367965342366\n",
      "Best Prediction Average Error (%): 0.44584397516875574\n"
     ]
    },
    {
     "name": "stderr",
     "output_type": "stream",
     "text": [
      "[ Info: Started!\n",
      "[ Info: Final population:\n",
      "[ Info: Results saved to:\n"
     ]
    },
    {
     "name": "stdout",
     "output_type": "stream",
     "text": [
      "Current Model Formula: x0*(x1 - 0.2654327 + 1/x1)*0.5980007\n"
     ]
    },
    {
     "name": "stderr",
     "output_type": "stream",
     "text": [
      "/home/ajt6830/miniconda3/envs/pysr_env/lib/python3.11/site-packages/pysr/sr.py:2217: UserWarning: The discovered expressions are being reset. Please set `warm_start=True` if you wish to continue to start a search where you left off.\n",
      "  warnings.warn(\n",
      "/home/ajt6830/miniconda3/envs/pysr_env/lib/python3.11/site-packages/pysr/sr.py:2811: UserWarning: Note: it looks like you are running in Jupyter. The progress bar will be turned off.\n",
      "  warnings.warn(\n"
     ]
    },
    {
     "name": "stdout",
     "output_type": "stream",
     "text": [
      "  - outputs/20250702_225430_QnmJVf/hall_of_fame.csv\n",
      "───────────────────────────────────────────────────────────────────────────────────────────────────\n",
      "Complexity  Loss       Score      Equation\n",
      "1           2.403e-06  0.000e+00  y = 576.85\n",
      "3           2.659e-07  1.101e+00  y = x₁ * 175.55\n",
      "5           9.231e-08  5.290e-01  y = x₀ * (x₁ * 0.60679)\n",
      "7           2.711e-08  6.127e-01  y = ((0.54068 * x₁) + 0.36833) * x₀\n",
      "8           2.513e-08  7.589e-02  y = (x₀ * (inv(x₁) + x₁)) * 0.56815\n",
      "10          1.737e-08  1.845e-01  y = x₀ * ((inv(x₁ - -0.39125) + x₁) * 0.57751)\n",
      "12          1.579e-08  4.777e-02  y = (x₁ + inv((x₁ + -0.67221) + x₁)) * (x₀ * 0.5822)\n",
      "14          1.531e-08  1.538e-02  y = ((x₁ + inv(x₁ + -0.37511)) + x₁) * ((x₀ + -5.3939) * 0...\n",
      "                                      .2966)\n",
      "23          1.469e-08  4.569e-03  y = ((inv(inv(x₁ * (x₀ - 1.7195))) * 0.5751) - x₁) + ((x₀ ...\n",
      "                                      * 0.19472) + (cube(inv(x₁ * 0.21278)) + -15.87))\n",
      "27          1.452e-08  2.953e-03  y = ((((inv(inv(x₁ * (x₀ - 1.7195))) * 0.57834) - 2.4008) ...\n",
      "                                      - x₁) + ((x₀ * 0.19403) + -0.56464)) + (cube(inv(x₁ * 0.21...\n",
      "                                      787)) + -11.282)\n",
      "───────────────────────────────────────────────────────────────────────────────────────────────────\n",
      "Current Prediction Average Error (%): 0.7567080639956918\n",
      "Best Prediction Average Error (%): 0.44584397516875574\n",
      "Current Model Formula: x0*(x1 + 1/(x1 - 1*(-0.3912459)))*0.57751083\n"
     ]
    },
    {
     "name": "stderr",
     "output_type": "stream",
     "text": [
      "[ Info: Started!\n",
      "[ Info: Final population:\n",
      "[ Info: Results saved to:\n",
      "/home/ajt6830/miniconda3/envs/pysr_env/lib/python3.11/site-packages/pysr/sr.py:2217: UserWarning: The discovered expressions are being reset. Please set `warm_start=True` if you wish to continue to start a search where you left off.\n",
      "  warnings.warn(\n",
      "/home/ajt6830/miniconda3/envs/pysr_env/lib/python3.11/site-packages/pysr/sr.py:2811: UserWarning: Note: it looks like you are running in Jupyter. The progress bar will be turned off.\n",
      "  warnings.warn(\n"
     ]
    },
    {
     "name": "stdout",
     "output_type": "stream",
     "text": [
      "  - outputs/20250702_225436_r6EgW0/hall_of_fame.csv\n"
     ]
    },
    {
     "name": "stderr",
     "output_type": "stream",
     "text": [
      "[ Info: Started!\n",
      "[ Info: Final population:\n",
      "[ Info: Results saved to:\n",
      "/home/ajt6830/miniconda3/envs/pysr_env/lib/python3.11/site-packages/pysr/sr.py:2217: UserWarning: The discovered expressions are being reset. Please set `warm_start=True` if you wish to continue to start a search where you left off.\n",
      "  warnings.warn(\n",
      "/home/ajt6830/miniconda3/envs/pysr_env/lib/python3.11/site-packages/pysr/sr.py:2811: UserWarning: Note: it looks like you are running in Jupyter. The progress bar will be turned off.\n",
      "  warnings.warn(\n"
     ]
    },
    {
     "name": "stdout",
     "output_type": "stream",
     "text": [
      "───────────────────────────────────────────────────────────────────────────────────────────────────\n",
      "Complexity  Loss       Score      Equation\n",
      "1           2.403e-06  0.000e+00  y = 576.81\n",
      "3           2.659e-07  1.101e+00  y = x₁ * 175.55\n",
      "5           9.231e-08  5.290e-01  y = (x₁ * 0.60679) * x₀\n",
      "7           2.712e-08  6.125e-01  y = ((x₁ * 0.54003) + 0.37237) * x₀\n",
      "8           2.513e-08  7.618e-02  y = ((x₁ + inv(x₁)) * x₀) * 0.56815\n",
      "9           2.270e-08  1.016e-01  y = (x₀ * 0.58214) * (x₁ + square(inv(x₁)))\n",
      "10          1.637e-08  3.268e-01  y = ((x₁ + inv(x₁ * 1.3587)) * 0.58033) * x₀\n",
      "11          1.576e-08  3.834e-02  y = (square(inv(x₁ + 0.49392)) + (x₁ * 0.5869)) * x₀\n",
      "13          1.249e-08  1.163e-01  y = 0.67127 * ((x₀ + -36.393) * (x₁ + inv(square(x₁) + 0.4...\n",
      "                                      1059)))\n",
      "16          1.226e-08  6.232e-03  y = ((x₁ + inv((x₁ * x₁) + 0.38516)) * ((x₀ + -43.201) * 0...\n",
      "                                      .68757)) + 3.0601\n",
      "18          1.225e-08  1.864e-04  y = (((x₁ + inv((x₁ * x₁) + 0.41064)) * 0.67275) * (x₀ + -...\n",
      "                                      36.359)) + (3.5521 - x₁)\n",
      "20          1.224e-08  5.276e-04  y = ((((x₀ + -36.359) * (0.67275 * (x₁ + inv((x₁ * x₁) + 0...\n",
      "                                      .41064)))) + 2.0105) - x₁) + 2.0105\n",
      "21          1.154e-08  5.906e-02  y = inv(2.9205 - x₁) + ((((inv((x₁ * x₁) + 0.41064) + x₁) ...\n",
      "                                      * 0.67275) * (x₀ + -37.61)) + 4.9844)\n",
      "24          1.131e-08  6.498e-03  y = 0.67962 * ((((inv(0.60132 * cube(0.36178 * x₁)) + -38....\n",
      "                                      096) + x₀) - 0.50654) * (x₁ + inv((x₁ + 0.75704) * x₁)))\n",
      "26          1.115e-08  7.290e-03  y = (x₁ + inv((x₁ + 0.75704) * x₁)) * ((0.67962 * (((inv(0...\n",
      "                                      .60132 * cube(0.36178 * x₁)) - 1.1351) + -38.096) + x₀)) -...\n",
      "                                       0.50654)\n",
      "28          1.114e-08  6.395e-04  y = (-0.14223 + ((x₁ + inv(0.75704 + (x₁ * x₁))) * ((0.679...\n",
      "                                      62 * ((inv(0.60132 * cube(x₁ * 0.36178)) + -38.096) + x₀))...\n",
      "                                       - 0.96625))) - x₁\n",
      "30          1.107e-08  3.154e-03  y = (((x₁ + inv((x₁ * x₁) + 0.75704)) * (((((inv(cube(x₁ *...\n",
      "                                       0.36178) * 0.67962) - -1.0275) + -38.096) + x₀) * 0.67962...\n",
      "                                      ) - 0.96625)) - x₁) + -0.14223\n",
      "───────────────────────────────────────────────────────────────────────────────────────────────────\n",
      "Current Prediction Average Error (%): 0.7446036617939196\n",
      "Best Prediction Average Error (%): 0.44584397516875574\n",
      "Current Model Formula: (x1 + 0.735997698976794/x1)*0.5803309*x0\n",
      "  - outputs/20250702_225441_jWRwVc/hall_of_fame.csv\n",
      "───────────────────────────────────────────────────────────────────────────────────────────────────\n",
      "Complexity  Loss       Score      Equation\n",
      "1           2.403e-06  0.000e+00  y = 576.81\n",
      "3           2.659e-07  1.101e+00  y = x₁ * 175.55\n",
      "5           9.231e-08  5.290e-01  y = (x₁ * x₀) * 0.60679\n",
      "7           2.711e-08  6.127e-01  y = (x₀ * (x₁ - -0.68121)) * 0.54069\n",
      "8           2.513e-08  7.589e-02  y = (x₁ + inv(x₁)) * (x₀ * 0.56816)\n",
      "9           2.327e-08  7.666e-02  y = (0.57646 * x₀) * (square(inv(x₁)) + x₁)\n",
      "10          1.750e-08  2.852e-01  y = (((x₁ + -0.18399) + inv(x₁)) * x₀) * 0.58527\n",
      "12          1.638e-08  3.285e-02  y = (x₀ * (((inv(x₁) + x₁) * 0.59835) + -0.15477)) + -0.52...\n",
      "                                      995\n",
      "14          1.625e-08  4.052e-03  y = (x₀ * (((inv(x₁) + x₁) * 0.59835) + -0.15477)) + (-0.0...\n",
      "                                      18919 - x₁)\n",
      "15          1.552e-08  4.592e-02  y = cube(inv(x₁) * 4.603) + ((0.14406 - (x₁ * -0.57454)) *...\n",
      "                                       (x₀ - 1.536))\n",
      "17          1.547e-08  1.667e-03  y = (cube(inv(x₁) * 4.603) + ((0.14406 - (x₁ * -0.57454)) ...\n",
      "                                      * (x₀ - 1.536))) - 0.91317\n",
      "19          1.514e-08  1.068e-02  y = cube(inv(x₁) * 4.6031) + (((x₀ - 1.536) * (0.145 - (x₁...\n",
      "                                       * -0.57935))) - (x₁ * 1.5458))\n",
      "───────────────────────────────────────────────────────────────────────────────────────────────────\n",
      "Current Prediction Average Error (%): 0.8335603254066697\n",
      "Best Prediction Average Error (%): 0.44584397516875574\n",
      "Current Model Formula: (x1 - 0.1839925 + 1/x1)*x0*0.5852748\n"
     ]
    },
    {
     "name": "stderr",
     "output_type": "stream",
     "text": [
      "[ Info: Started!\n",
      "[ Info: Final population:\n",
      "[ Info: Results saved to:\n",
      "/home/ajt6830/miniconda3/envs/pysr_env/lib/python3.11/site-packages/pysr/sr.py:2217: UserWarning: The discovered expressions are being reset. Please set `warm_start=True` if you wish to continue to start a search where you left off.\n",
      "  warnings.warn(\n",
      "/home/ajt6830/miniconda3/envs/pysr_env/lib/python3.11/site-packages/pysr/sr.py:2811: UserWarning: Note: it looks like you are running in Jupyter. The progress bar will be turned off.\n",
      "  warnings.warn(\n"
     ]
    },
    {
     "name": "stdout",
     "output_type": "stream",
     "text": [
      "  - outputs/20250702_225446_7zUDXW/hall_of_fame.csv\n",
      "───────────────────────────────────────────────────────────────────────────────────────────────────\n",
      "Complexity  Loss       Score      Equation\n",
      "1           2.403e-06  0.000e+00  y = 576.8\n",
      "3           2.659e-07  1.101e+00  y = x₁ * 175.55\n",
      "5           9.231e-08  5.290e-01  y = x₀ * (x₁ * 0.60679)\n",
      "7           2.711e-08  6.126e-01  y = ((x₁ * 0.54047) - -0.36946) * x₀\n",
      "8           2.513e-08  7.591e-02  y = ((inv(x₁) + x₁) * x₀) * 0.56815\n",
      "9           2.270e-08  1.016e-01  y = (x₀ * (inv(square(x₁)) + x₁)) * 0.58214\n",
      "10          1.653e-08  3.169e-01  y = ((inv(x₁ * 1.3008) + x₁) * 0.57888) * x₀\n",
      "11          1.591e-08  3.828e-02  y = (x₁ + square(inv(x₁ + 0.14791))) * (x₀ * 0.5891)\n",
      "13          1.550e-08  1.331e-02  y = (inv(square(x₁ + 0.53248)) + (x₁ * 0.5914)) * (x₀ - 2....\n",
      "                                      4781)\n",
      "15          1.543e-08  1.997e-03  y = ((x₀ * (inv(square(x₁ + 0.53248)) + (0.5914 * x₁))) - ...\n",
      "                                      x₁) - x₁\n",
      "17          1.538e-08  1.760e-03  y = (((0.1238 + x₁) + square(inv(square(0.1238 + sqrt(x₁))...\n",
      "                                      ))) * (x₀ * 0.58214)) - x₁\n",
      "19          1.438e-08  3.349e-02  y = ((inv(x₁ + square((0.1657 + x₁) - 0.48164)) + x₁) * (0...\n",
      "                                      .6078 * (x₀ - x₁))) + -0.17548\n",
      "20          1.382e-08  4.026e-02  y = (x₀ * ((x₁ * 0.58248) + inv(x₁ + (inv((-3.477 + cbrt(x...\n",
      "                                      ₀)) - x₁) + x₁)))) - -1.3058\n",
      "22          1.354e-08  1.011e-02  y = ((((x₁ * 0.58248) + inv((x₁ + inv((cbrt(x₀) + -3.477) ...\n",
      "                                      - x₁)) + x₁)) * x₀) - x₁) + 2.518\n",
      "───────────────────────────────────────────────────────────────────────────────────────────────────\n",
      "Current Prediction Average Error (%): 0.7393225655738974\n",
      "Best Prediction Average Error (%): 0.44584397516875574\n",
      "Current Model Formula: (x1 + 0.76875910595161/x1)*0.57888013*x0\n"
     ]
    },
    {
     "name": "stderr",
     "output_type": "stream",
     "text": [
      "[ Info: Started!\n",
      "[ Info: Final population:\n",
      "[ Info: Results saved to:\n",
      "/home/ajt6830/miniconda3/envs/pysr_env/lib/python3.11/site-packages/pysr/sr.py:2217: UserWarning: The discovered expressions are being reset. Please set `warm_start=True` if you wish to continue to start a search where you left off.\n",
      "  warnings.warn(\n",
      "/home/ajt6830/miniconda3/envs/pysr_env/lib/python3.11/site-packages/pysr/sr.py:2811: UserWarning: Note: it looks like you are running in Jupyter. The progress bar will be turned off.\n",
      "  warnings.warn(\n"
     ]
    },
    {
     "name": "stdout",
     "output_type": "stream",
     "text": [
      "  - outputs/20250702_225452_fFmOuI/hall_of_fame.csv\n"
     ]
    },
    {
     "name": "stderr",
     "output_type": "stream",
     "text": [
      "[ Info: Started!\n",
      "[ Info: Final population:\n",
      "[ Info: Results saved to:\n",
      "/home/ajt6830/miniconda3/envs/pysr_env/lib/python3.11/site-packages/pysr/sr.py:2217: UserWarning: The discovered expressions are being reset. Please set `warm_start=True` if you wish to continue to start a search where you left off.\n",
      "  warnings.warn(\n",
      "/home/ajt6830/miniconda3/envs/pysr_env/lib/python3.11/site-packages/pysr/sr.py:2811: UserWarning: Note: it looks like you are running in Jupyter. The progress bar will be turned off.\n",
      "  warnings.warn(\n"
     ]
    },
    {
     "name": "stdout",
     "output_type": "stream",
     "text": [
      "───────────────────────────────────────────────────────────────────────────────────────────────────\n",
      "Complexity  Loss       Score      Equation\n",
      "1           2.403e-06  0.000e+00  y = 576.77\n",
      "3           2.659e-07  1.101e+00  y = x₁ * 175.55\n",
      "5           9.231e-08  5.290e-01  y = (x₁ * 0.60679) * x₀\n",
      "7           2.711e-08  6.126e-01  y = x₀ * ((x₁ * 0.54066) + 0.36761)\n",
      "8           2.513e-08  7.591e-02  y = (inv(x₁) + x₁) * (x₀ * 0.56815)\n",
      "9           2.270e-08  1.016e-01  y = x₀ * ((square(inv(x₁)) + x₁) * 0.58214)\n",
      "10          1.642e-08  3.238e-01  y = (inv(x₁) + (x₁ - 0.28395)) * (x₀ * 0.60012)\n",
      "11          1.598e-08  2.684e-02  y = (x₀ * 0.5897) * (square(inv(x₁ + 0.13528)) + x₁)\n",
      "12          1.570e-08  1.772e-02  y = x₀ * ((x₁ * 0.58622) + (sqrt(inv(cube(x₁))) * 0.44259)...\n",
      "                                      )\n",
      "13          1.438e-08  8.790e-02  y = (x₀ - x₁) * ((x₁ * 0.61009) + inv(square(x₁ * 1.5105))...\n",
      "                                      )\n",
      "15          1.427e-08  4.084e-03  y = ((x₀ - x₁) * ((x₁ * 0.61147) + inv(square(x₁ * 1.4977)...\n",
      "                                      ))) - 3.3463\n",
      "16          1.334e-08  6.693e-02  y = ((((x₀ + x₁) * 0.64594) + -8.1075) - x₁) * (inv(x₁) + ...\n",
      "                                      (x₁ - 0.34803))\n",
      "18          1.237e-08  3.779e-02  y = (((((x₀ + x₁) * 0.52309) + -13.954) * 1.2978) - x₁) * ...\n",
      "                                      (x₁ + (inv(x₁) - 0.3556))\n",
      "───────────────────────────────────────────────────────────────────────────────────────────────────\n",
      "Current Prediction Average Error (%): 0.8098274950252986\n",
      "Best Prediction Average Error (%): 0.44584397516875574\n",
      "Current Model Formula: (x1 - 1*0.28394616 + 1/x1)*x0*0.6001188\n"
     ]
    },
    {
     "name": "stderr",
     "output_type": "stream",
     "text": [
      "[ Info: Started!\n",
      "[ Info: Final population:\n",
      "[ Info: Results saved to:\n"
     ]
    },
    {
     "name": "stdout",
     "output_type": "stream",
     "text": [
      "  - outputs/20250702_225457_CZvl0U/hall_of_fame.csv\n",
      "───────────────────────────────────────────────────────────────────────────────────────────────────\n",
      "Complexity  Loss       Score      Equation\n",
      "1           2.403e-06  0.000e+00  y = 576.8\n",
      "3           2.659e-07  1.101e+00  y = x₁ * 175.55\n",
      "5           9.231e-08  5.290e-01  y = (x₀ * x₁) * 0.60679\n",
      "7           2.711e-08  6.127e-01  y = x₀ * ((x₁ + 0.68132) * 0.54071)\n",
      "9           2.575e-08  2.566e-02  y = ((x₁ + 0.78392) * 0.51684) * (x₀ + x₁)\n",
      "10          1.638e-08  4.524e-01  y = x₀ * ((x₁ * 0.58079) - (inv(x₁) * -0.42036))\n",
      "11          1.637e-08  6.370e-04  y = (x₁ * x₀) * (0.58047 - (square(inv(x₁)) * -0.4254))\n",
      "12          1.617e-08  1.221e-02  y = (x₀ * ((x₁ - (inv(x₁) * -0.7222)) * 0.58353)) - x₁\n",
      "13          1.565e-08  3.266e-02  y = (x₁ - (inv(x₁) * -0.7222)) * ((0.59382 * x₀) - square(...\n",
      "                                      -2.1471))\n",
      "14          1.498e-08  4.407e-02  y = ((x₀ * 0.49385) * (x₁ + sqrt(cbrt(square(x₁ + -2.5411)...\n",
      "                                      )))) + -16.6\n",
      "15          1.336e-08  1.142e-01  y = (x₀ * x₁) * (0.51828 - ((cube(inv(x₁)) * -0.44355) - (...\n",
      "                                      x₀ * 0.00023183)))\n",
      "17          1.316e-08  7.655e-03  y = ((x₁ * x₀) * ((0.50811 - (cube(inv(x₁)) * -0.43275)) -...\n",
      "                                       (x₀ * -0.00026661))) + 2.6963\n",
      "21          1.309e-08  1.325e-03  y = ((x₁ * x₀) - -3.3441) * ((0.50039 - inv(((-0.96304 - x...\n",
      "                                      ₁) * square(x₁)) * 1.1983)) - (x₀ * -0.00028607))\n",
      "23          1.270e-08  1.500e-02  y = ((0.5091 - (inv(((-0.48675 - square(0.73941 - x₁)) * x...\n",
      "                                      ₁) * 4.1933) - (x₀ * 0.00027366))) * (x₀ * x₁)) - x₁\n",
      "25          1.266e-08  1.625e-03  y = ((0.5091 - (inv(((-0.48675 - square(0.73941 - x₁)) * x...\n",
      "                                      ₁) * 4.1933) - (x₀ * 0.00027366))) * (x₀ * x₁)) + (0.903 -...\n",
      "                                       x₁)\n",
      "27          1.263e-08  1.326e-03  y = (0.49451 - x₁) + ((0.5091 - (inv((-0.48675 - square(x₁...\n",
      "                                       - 0.73941)) * (x₁ * 4.1933)) - (x₀ * 0.00027543))) * ((x₀...\n",
      "                                       * x₁) + 2.1301))\n",
      "29          1.255e-08  3.024e-03  y = 5.7415 + ((x₀ * x₁) * (0.51142 - (inv((-0.44267 - squa...\n",
      "                                      re((x₁ * (((0.94462 - x₁) - x₁) + -0.017998)) * -0.35474))...\n",
      "                                       * 4.1878) - (x₀ * 0.00025089))))\n",
      "───────────────────────────────────────────────────────────────────────────────────────────────────\n",
      "Current Prediction Average Error (%): 0.7475222243945214\n",
      "Best Prediction Average Error (%): 0.44584397516875574\n",
      "Current Model Formula: x0*(x1*0.58079004 - (-0.4203602)/x1)\n",
      "  - outputs/20250702_225503_iaZHfG/hall_of_fame.csv\n"
     ]
    }
   ],
   "source": [
    "Newt_Residual = Newtonian_CHT([ref_orb_period, df_3[\"reference_mass_ratio\"]]) - CHT #Here, I calculate the absolute difference between what the quadrupole mode\n",
    "#of gravitational waves predicts from what the actual, simulation common horizon time is\n",
    "\n",
    "num = 100\n",
    "\n",
    "for i in range(num):\n",
    "\n",
    "    model.fit(init_param, Newt_Residual, weights = CHT)\n",
    "    Residual_pred = model.predict(init_param)\n",
    "    current_avg_error = 100*np.sqrt(np.power((Newt_Residual - Residual_pred)/CHT, 2)).mean() \n",
    "    \n",
    "    print(\"Current Prediction Average Error (%):\", current_avg_error)\n",
    "    print(\"Best Prediction Average Error (%):\", best_avg_error)\n",
    "    print(\"Current Model Formula:\", model.sympy())\n",
    "    plt.scatter(df_3[\"reference_mass_ratio\"], 100*(Newt_Residual - Residual_pred)/CHT, marker = \".\", label = \"PySR\")\n",
    "    plt.xlabel(\"Mass ratio\")\n",
    "    plt.ylabel(\"Error in CHT (%)\")\n",
    "    plt.title(\"Percent Residuals\")\n",
    "\n",
    "    if current_avg_error < best_avg_error:\n",
    "        best_avg_error = current_avg_error\n",
    "        best_model = model.equations_\n",
    "        plt.savefig(f\"best_model_{round(best_avg_error, 3)}.png\")\n",
    "        with open(f'best_model_{round(best_avg_error, 3)}.pk', 'wb') as best_model_file: #We create a pickle file called 'best_model.pk' that we want to write into and call it best_model_file\n",
    "            pickle.dump(model, best_model_file) #We write the current state of the model to the pickle file created above\n",
    "    elif current_avg_error < 1.5*best_avg_error:\n",
    "        plt.savefig(f\"good_model_{round(current_avg_error, 3)}.png\")\n",
    "        with open(f'good_model_{round(current_avg_error, 3)}.pk', 'wb') as good_model_file:\n",
    "            pickle.dump(model, good_model_file)\n",
    "            \n",
    "    plt.close()"
   ]
  },
  {
   "cell_type": "code",
   "execution_count": 23,
   "id": "6c1df09e-848d-464c-baf3-2f1607908938",
   "metadata": {},
   "outputs": [
    {
     "data": {
      "text/latex": [
       "$\\displaystyle \\sqrt{\\frac{13.208489 x_{0}^{\\frac{3}{2}}}{x_{1}} - 13.208489 x_{1}^{2} \\left(656.6745 - 0.033914566 x_{0}^{2}\\right)}$"
      ],
      "text/plain": [
       "sqrt(13.208489*x0**(3/2)/x1 - 13.208489*x1**2*(656.6745 - 0.033914566*x0**2))"
      ]
     },
     "execution_count": 23,
     "metadata": {},
     "output_type": "execute_result"
    }
   ],
   "source": [
    "with open(\"best_model_0.446.pk\", 'rb') as file: #Open the saved model file and store that data under the name 'file'\n",
    "    loaded_model = pickle.load(file) #Use Pickle module to load data into usable format and put that into loaded_model variable\n",
    "\n",
    "loaded_model.sympy()\n",
    "\n",
    "#\\sqrt{\\frac{13.21 \\tau^\\frac{3}{2}}{q} - 13.21q^2(656.67 - 0.03 \\tau^2}"
   ]
  },
  {
   "cell_type": "code",
   "execution_count": 25,
   "id": "5b8d3cd9-9109-4a6b-b398-86574ac4d940",
   "metadata": {},
   "outputs": [
    {
     "data": {
      "image/png": "[encoded data removed]",
      "text/plain": [
       "<Figure size 640x480 with 1 Axes>"
      ]
     },
     "metadata": {},
     "output_type": "display_data"
    }
   ],
   "source": [
    "direct_corrections = loaded_model.predict(init_param)\n",
    "\n",
    "#plt.scatter(df_3[\"reference_mass_ratio\"], (Newtonian_CHT([ref_orb_period, df_3[\"reference_mass_ratio\"]]) - CHT*(1 + corrections))/CHT)\n",
    "#While the line of code above has a more intuitive interpretation based on how I actually defined the corrections, the code below ends up plotting that\n",
    "#always has a smaller error because it always overestimates CHT at high mass ratios but is pretty accurate at low mass ratios (never negative)\n",
    "plt.scatter(df_3[\"reference_mass_ratio\"], 100*(Newtonian_CHT([ref_orb_period, df_3[\"reference_mass_ratio\"]]) - direct_corrections - CHT)/CHT)\n",
    "plt.axhline(0, linestyle = '--')\n",
    "plt.xlabel(\"Mass Ratio\")\n",
    "plt.ylabel(\"Residual (%)\")\n",
    "plt.title(\"Newtonian Percent Residuals w/Direct Corrections\")\n",
    "plt.savefig(r\"Newtonian_Percent_Residuals_with_Direct_Corrections.png\")"
   ]
  },
  {
   "cell_type": "code",
   "execution_count": 27,
   "id": "eb2b5e31-fbbc-44a5-a558-1665865a69e0",
   "metadata": {},
   "outputs": [
    {
     "data": {
      "image/png": "[encoded data removed]",
      "text/plain": [
       "<Figure size 640x480 with 1 Axes>"
      ]
     },
     "metadata": {},
     "output_type": "display_data"
    }
   ],
   "source": [
    "plt.scatter(CHT, 100*(Newtonian_CHT([ref_orb_period, df_3[\"reference_mass_ratio\"]]) - direct_corrections - CHT)/CHT)\n",
    "plt.axhline(0, linestyle = '--')\n",
    "plt.xlabel(\"Common Horizon Time\")\n",
    "plt.ylabel(\"Residual (%)\")\n",
    "plt.title(\"Newtonian Percent Residuals w/Direct Corrections\")\n",
    "plt.savefig(r\"Newt_Per_Resid_Dir_Corrected_CHT_Distribution.png\")"
   ]
  },
  {
   "cell_type": "code",
   "execution_count": null,
   "id": "e6db17e5-b13c-47bc-899d-6a719dbe75bb",
   "metadata": {},
   "outputs": [],
   "source": []
  }
 ],
 "metadata": {
  "kernelspec": {
   "display_name": "Python 3 (ipykernel)",
   "language": "python",
   "name": "python3"
  },
  "language_info": {
   "codemirror_mode": {
    "name": "ipython",
    "version": 3
   },
   "file_extension": ".py",
   "mimetype": "text/x-python",
   "name": "python",
   "nbconvert_exporter": "python",
   "pygments_lexer": "ipython3",
   "version": "3.11.13"
  }
 },
 "nbformat": 4,
 "nbformat_minor": 5
}
