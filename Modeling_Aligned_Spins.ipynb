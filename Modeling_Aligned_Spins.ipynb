{
 "cells": [
  {
   "cell_type": "code",
   "execution_count": 1,
   "id": "f9d99659-19ac-453e-9717-107a15d826f8",
   "metadata": {
    "scrolled": true
   },
   "outputs": [
    {
     "name": "stdout",
     "output_type": "stream",
     "text": [
      "[juliapkg] Found dependencies: /home/ajt6830/.local/share/mamba/envs/pysr_env/lib/python3.11/site-packages/pysr/juliapkg.json\n",
      "[juliapkg] Found dependencies: /home/ajt6830/.local/share/mamba/envs/pysr_env/lib/python3.11/site-packages/juliacall/juliapkg.json\n",
      "[juliapkg] Found dependencies: /home/ajt6830/.local/share/mamba/envs/pysr_env/lib/python3.11/site-packages/juliapkg/juliapkg.json\n",
      "[juliapkg] Locating Julia =1.10.0, ^1.10.3\n",
      "[juliapkg] Querying Julia versions from https://julialang-s3.julialang.org/bin/versions.json\n",
      "[juliapkg] WARNING: About to install Julia 1.11.5 to /home/ajt6830/.local/share/mamba/envs/pysr_env/julia_env/pyjuliapkg/install.\n",
      "[juliapkg]   If you use juliapkg in more than one environment, you are likely to\n",
      "[juliapkg]   have Julia installed in multiple locations. It is recommended to\n",
      "[juliapkg]   install JuliaUp (https://github.com/JuliaLang/juliaup) or Julia\n",
      "[juliapkg]   (https://julialang.org/downloads) yourself.\n",
      "[juliapkg] Downloading Julia from https://julialang-s3.julialang.org/bin/linux/x64/1.11/julia-1.11.5-linux-x86_64.tar.gz\n",
      "             downloaded 80.8 MB of 272.5 MB\n",
      "             downloaded 149.0 MB of 272.5 MB\n",
      "             downloaded 220.6 MB of 272.5 MB\n",
      "             download complete\n",
      "[juliapkg] Verifying download\n",
      "[juliapkg] Installing Julia 1.11.5 to /home/ajt6830/.local/share/mamba/envs/pysr_env/julia_env/pyjuliapkg/install\n",
      "[juliapkg] Using Julia 1.11.5 at /home/ajt6830/.local/share/mamba/envs/pysr_env/julia_env/pyjuliapkg/install/bin/julia\n",
      "[juliapkg] Using Julia project at /home/ajt6830/.local/share/mamba/envs/pysr_env/julia_env\n",
      "[juliapkg] Writing Project.toml:\n",
      "             [deps]\n",
      "             SymbolicRegression = \"8254be44-1295-4e6a-a16d-46603ac705cb\"\n",
      "             Serialization = \"9e88b42a-f829-5b0c-bbe9-9e923198166b\"\n",
      "             PythonCall = \"6099a3de-0909-46bc-b1f4-468b9a2dfc0d\"\n",
      "             OpenSSL_jll = \"458c3c95-2e84-50aa-8efc-19380b2a3a95\"\n",
      "             [compat]\n",
      "             SymbolicRegression = \"~1.11\"\n",
      "             Serialization = \"^1\"\n",
      "             PythonCall = \"=0.9.25\"\n",
      "             OpenSSL_jll = \"3.0.0 - 3.5\"\n",
      "[juliapkg] Installing packages:\n",
      "             import Pkg\n",
      "             Pkg.Registry.update()\n",
      "             Pkg.add([\n",
      "               Pkg.PackageSpec(name=\"SymbolicRegression\", uuid=\"8254be44-1295-4e6a-a16d-46603ac705cb\"),\n",
      "               Pkg.PackageSpec(name=\"Serialization\", uuid=\"9e88b42a-f829-5b0c-bbe9-9e923198166b\"),\n",
      "               Pkg.PackageSpec(name=\"PythonCall\", uuid=\"6099a3de-0909-46bc-b1f4-468b9a2dfc0d\"),\n",
      "               Pkg.PackageSpec(name=\"OpenSSL_jll\", uuid=\"458c3c95-2e84-50aa-8efc-19380b2a3a95\"),\n",
      "             ])\n",
      "             Pkg.resolve()\n",
      "             Pkg.precompile()\n"
     ]
    },
    {
     "name": "stderr",
     "output_type": "stream",
     "text": [
      "    Updating registry at `~/.julia/registries/General.toml`\n",
      "   Resolving package versions...\n",
      "    Updating `~/.local/share/mamba/envs/pysr_env/julia_env/Project.toml`\n",
      "  [6099a3de] + PythonCall v0.9.25\n",
      "⌅ [8254be44] + SymbolicRegression v1.11.3\n",
      "  [458c3c95] + OpenSSL_jll v3.5.1+0\n",
      "  [9e88b42a] ~ Serialization ⇒ v1.11.0\n",
      "    Updating `~/.local/share/mamba/envs/pysr_env/julia_env/Manifest.toml`\n",
      "  [47edcb42] + ADTypes v1.15.0\n",
      "  [79e6a3ab] + Adapt v4.3.0\n",
      "  [66dad0bd] + AliasTables v1.1.3\n",
      "  [4fba245c] + ArrayInterface v7.19.0\n",
      "  [d360d2e6] + ChainRulesCore v1.25.2\n",
      "  [bbf7d656] + CommonSubexpressions v0.3.1\n",
      "  [34da2185] + Compat v4.17.0\n",
      "  [992eb4ea] + CondaPkg v0.2.29\n",
      "  [187b0558] + ConstructionBase v1.6.0\n",
      "  [9a962f9c] + DataAPI v1.16.0\n",
      "  [864edb3b] + DataStructures v0.18.22\n",
      "  [e2d170a0] + DataValueInterfaces v1.0.0\n",
      "  [163ba53b] + DiffResults v1.1.0\n",
      "  [b552c78f] + DiffRules v1.15.1\n",
      "  [a0c0ee7d] + DifferentiationInterface v0.7.1\n",
      "  [8d63f2c5] + DispatchDoctor v0.4.22\n",
      "  [ffbed154] + DocStringExtensions v0.9.5\n",
      "⌅ [7317a516] + DynamicDiff v0.2.1\n",
      "⌅ [a40a106e] + DynamicExpressions v1.10.3\n",
      "  [06fc5a27] + DynamicQuantities v1.8.0\n",
      "  [4e289a0a] + EnumX v1.0.5\n",
      "  [1a297f60] + FillArrays v1.13.0\n",
      "  [6a86dc24] + FiniteDiff v2.27.0\n",
      "  [f6369f11] + ForwardDiff v1.0.1\n",
      "  [85a1e053] + Interfaces v0.3.2\n",
      "  [92d709cd] + IrrationalConstants v0.2.4\n",
      "  [82899510] + IteratorInterfaceExtensions v1.0.0\n",
      "  [692b3bcd] + JLLWrappers v1.7.0\n",
      "  [0f8b85d8] + JSON3 v1.14.3\n",
      "  [d3d80556] + LineSearches v7.4.0\n",
      "  [2ab3a3ac] + LogExpFunctions v0.3.29\n",
      "  [30fc2ffe] + LossFunctions v1.0.1\n",
      "  [e80e1ace] + MLJModelInterface v1.11.1\n",
      "  [1914dd2f] + MacroTools v0.5.16\n",
      "  [0b3b1443] + MicroMamba v0.1.14\n",
      "  [e1d29d7a] + Missings v1.2.0\n",
      "  [d41bc354] + NLSolversBase v7.10.0\n",
      "  [77ba4419] + NaNMath v1.1.3\n",
      "  [429524aa] + Optim v1.13.2\n",
      "  [bac558e1] + OrderedCollections v1.8.1\n",
      "  [d96e819e] + Parameters v0.12.3\n",
      "  [69de0a69] + Parsers v2.8.3\n",
      "  [fa939f87] + Pidfile v1.3.0\n",
      "  [85a6dd25] + PositiveFactorizations v0.2.4\n",
      "⌅ [aea7be01] + PrecompileTools v1.2.1\n",
      "  [21216c6a] + Preferences v1.4.3\n",
      "⌅ [92933f4c] + ProgressMeter v1.10.2\n",
      "  [43287f4e] + PtrArrays v1.3.0\n",
      "  [6099a3de] + PythonCall v0.9.25\n",
      "  [189a3867] + Reexport v1.2.2\n",
      "  [ae029012] + Requires v1.3.1\n",
      "  [30f210dd] + ScientificTypesBase v3.0.0\n",
      "  [6c6a2e73] + Scratch v1.3.0\n",
      "  [efcf1570] + Setfield v1.1.2\n",
      "  [a2af1166] + SortingAlgorithms v1.2.1\n",
      "  [276daf66] + SpecialFunctions v2.5.1\n",
      "  [1e83bf80] + StaticArraysCore v1.4.3\n",
      "  [64bff920] + StatisticalTraits v3.4.0\n",
      "  [10745b16] + Statistics v1.11.1\n",
      "  [82ae8749] + StatsAPI v1.7.1\n",
      "  [2913bbd2] + StatsBase v0.34.5\n",
      "  [856f2bd8] + StructTypes v1.11.0\n",
      "⌅ [8254be44] + SymbolicRegression v1.11.3\n",
      "  [3783bdb8] + TableTraits v1.0.1\n",
      "  [bd369af6] + Tables v1.12.1\n",
      "  [1c621080] + TestItems v1.0.0\n",
      "  [410a4b4d] + Tricks v0.1.10\n",
      "  [3a884ed6] + UnPack v1.0.2\n",
      "  [e17b2a0c] + UnsafePointers v1.0.0\n",
      "  [458c3c95] + OpenSSL_jll v3.5.1+0\n",
      "  [efe28fd5] + OpenSpecFun_jll v0.5.6+0\n",
      "  [f8abcde7] + micromamba_jll v1.5.8+0\n",
      "  [4d7b5844] + pixi_jll v0.41.3+0\n",
      "  [0dad84c5] + ArgTools v1.1.2\n",
      "  [56f22d72] + Artifacts v1.11.0\n",
      "  [2a0f44e3] + Base64 v1.11.0\n",
      "  [ade2ca70] + Dates v1.11.0\n",
      "  [8ba89e20] + Distributed v1.11.0\n",
      "  [f43a241f] + Downloads v1.6.0\n",
      "  [7b1f6079] + FileWatching v1.11.0\n",
      "  [9fa8497b] + Future v1.11.0\n",
      "  [b77e0a4c] + InteractiveUtils v1.11.0\n",
      "  [4af54fe1] + LazyArtifacts v1.11.0\n",
      "  [b27032c2] + LibCURL v0.6.4\n",
      "  [76f85450] + LibGit2 v1.11.0\n",
      "  [8f399da3] + Libdl v1.11.0\n",
      "  [37e2e46d] + LinearAlgebra v1.11.0\n",
      "  [56ddb016] + Logging v1.11.0\n",
      "  [d6f4376e] + Markdown v1.11.0\n",
      "  [a63ad114] + Mmap v1.11.0\n",
      "  [ca575930] + NetworkOptions v1.2.0\n",
      "  [44cfe95a] + Pkg v1.11.0\n",
      "  [de0858da] + Printf v1.11.0\n",
      "  [3fa0cd96] + REPL v1.11.0\n",
      "  [9a3f8284] + Random v1.11.0\n",
      "  [ea8e919c] + SHA v0.7.0\n",
      "  [9e88b42a] + Serialization v1.11.0\n",
      "  [6462fe0b] + Sockets v1.11.0\n",
      "  [2f01184e] + SparseArrays v1.11.0\n",
      "  [f489334b] + StyledStrings v1.11.0\n",
      "  [fa267f1f] + TOML v1.0.3\n",
      "  [a4e569a6] + Tar v1.10.0\n",
      "  [8dfed614] + Test v1.11.0\n",
      "  [cf7118a7] + UUIDs v1.11.0\n",
      "  [4ec0a83e] + Unicode v1.11.0\n",
      "  [e66e0078] + CompilerSupportLibraries_jll v1.1.1+0\n",
      "  [deac9b47] + LibCURL_jll v8.6.0+0\n",
      "  [e37daf67] + LibGit2_jll v1.7.2+0\n",
      "  [29816b5a] + LibSSH2_jll v1.11.0+1\n",
      "  [c8ffd9c3] + MbedTLS_jll v2.28.6+0\n",
      "  [14a3606d] + MozillaCACerts_jll v2023.12.12\n",
      "  [4536629a] + OpenBLAS_jll v0.3.27+1\n",
      "  [05823500] + OpenLibm_jll v0.8.5+0\n",
      "  [bea87d4a] + SuiteSparse_jll v7.7.0+0\n",
      "  [83775a58] + Zlib_jll v1.2.13+1\n",
      "  [8e850b90] + libblastrampoline_jll v5.11.0+0\n",
      "  [8e850ede] + nghttp2_jll v1.59.0+0\n",
      "  [3f19e933] + p7zip_jll v17.4.0+2\n",
      "        Info Packages marked with ⌅ have new versions available but compatibility constraints restrict them from upgrading. To see why use `status --outdated -m`\n",
      "  No Changes to `~/.local/share/mamba/envs/pysr_env/julia_env/Project.toml`\n",
      "  No Changes to `~/.local/share/mamba/envs/pysr_env/julia_env/Manifest.toml`\n"
     ]
    },
    {
     "name": "stdout",
     "output_type": "stream",
     "text": [
      "Detected IPython. Loading juliacall extension. See https://juliapy.github.io/PythonCall.jl/stable/compat/#IPython\n"
     ]
    }
   ],
   "source": [
    "import pandas as pd\n",
    "import numpy as np\n",
    "import scipy\n",
    "import pysr\n",
    "import sympy\n",
    "import math\n",
    "from pysr import PySRRegressor\n",
    "import matplotlib.pyplot as plt\n",
    "import pickle"
   ]
  },
  {
   "cell_type": "code",
   "execution_count": 2,
   "id": "f240465d-f60e-46ad-9781-1da792296af2",
   "metadata": {
    "scrolled": true
   },
   "outputs": [
    {
     "name": "stdout",
     "output_type": "stream",
     "text": [
      "Collecting sxs\n",
      "  Using cached sxs-2025.0.17-py3-none-any.whl.metadata (13 kB)\n",
      "Collecting bibtexparser>=2.0.0b8 (from sxs)\n",
      "  Using cached bibtexparser-2.0.0b8-py3-none-any.whl.metadata (5.4 kB)\n",
      "Collecting h5py>=3 (from sxs)\n",
      "  Using cached h5py-3.14.0-cp311-cp311-manylinux_2_17_x86_64.manylinux2014_x86_64.whl.metadata (2.7 kB)\n",
      "Collecting inflection>=0.5.1 (from sxs)\n",
      "  Using cached inflection-0.5.1-py2.py3-none-any.whl.metadata (1.7 kB)\n",
      "Requirement already satisfied: juliacall>=0.9.20 in ./.local/share/mamba/envs/pysr_env/lib/python3.11/site-packages (from sxs) (0.9.25)\n",
      "Requirement already satisfied: numba>=0.55 in ./.local/share/mamba/envs/pysr_env/lib/python3.11/site-packages (from sxs) (0.61.2)\n",
      "Requirement already satisfied: numpy>=1.25 in ./.local/share/mamba/envs/pysr_env/lib/python3.11/site-packages (from sxs) (2.2.0)\n",
      "Requirement already satisfied: packaging in ./.local/share/mamba/envs/pysr_env/lib/python3.11/site-packages (from sxs) (25.0)\n",
      "Requirement already satisfied: pandas>=1.1.2 in ./.local/share/mamba/envs/pysr_env/lib/python3.11/site-packages (from sxs) (2.3.0)\n",
      "Requirement already satisfied: pytz>=2020.1 in ./.local/share/mamba/envs/pysr_env/lib/python3.11/site-packages (from sxs) (2025.2)\n",
      "Collecting quaternionic>=1.0.15 (from sxs)\n",
      "  Using cached quaternionic-1.0.15-py3-none-any.whl.metadata (18 kB)\n",
      "Requirement already satisfied: requests>=2.24.0 in ./.local/share/mamba/envs/pysr_env/lib/python3.11/site-packages (from sxs) (2.32.4)\n",
      "Requirement already satisfied: scipy>=1.13 in ./.local/share/mamba/envs/pysr_env/lib/python3.11/site-packages (from sxs) (1.16.0)\n",
      "Collecting spherical>=1.0.15 (from sxs)\n",
      "  Using cached spherical-1.0.16-py3-none-any.whl.metadata (7.7 kB)\n",
      "Collecting sxscatalog>=3.0.14 (from sxs)\n",
      "  Using cached sxscatalog-3.0.15-py3-none-any.whl.metadata (1.6 kB)\n",
      "Collecting tqdm>=4.63.1 (from sxs)\n",
      "  Using cached tqdm-4.67.1-py3-none-any.whl.metadata (57 kB)\n",
      "Requirement already satisfied: urllib3>=1.25.10 in ./.local/share/mamba/envs/pysr_env/lib/python3.11/site-packages (from sxs) (2.5.0)\n",
      "Collecting pylatexenc>=2.10 (from bibtexparser>=2.0.0b8->sxs)\n",
      "  Using cached pylatexenc-2.10-py3-none-any.whl\n",
      "Requirement already satisfied: juliapkg~=0.1.17 in ./.local/share/mamba/envs/pysr_env/lib/python3.11/site-packages (from juliacall>=0.9.20->sxs) (0.1.17)\n",
      "Requirement already satisfied: filelock<4.0,>=3.16 in ./.local/share/mamba/envs/pysr_env/lib/python3.11/site-packages (from juliapkg~=0.1.17->juliacall>=0.9.20->sxs) (3.18.0)\n",
      "Requirement already satisfied: semver<4.0,>=3.0 in ./.local/share/mamba/envs/pysr_env/lib/python3.11/site-packages (from juliapkg~=0.1.17->juliacall>=0.9.20->sxs) (3.0.4)\n",
      "Requirement already satisfied: llvmlite<0.45,>=0.44.0dev0 in ./.local/share/mamba/envs/pysr_env/lib/python3.11/site-packages (from numba>=0.55->sxs) (0.44.0)\n",
      "Requirement already satisfied: python-dateutil>=2.8.2 in ./.local/share/mamba/envs/pysr_env/lib/python3.11/site-packages (from pandas>=1.1.2->sxs) (2.9.0.post0)\n",
      "Requirement already satisfied: tzdata>=2022.7 in ./.local/share/mamba/envs/pysr_env/lib/python3.11/site-packages (from pandas>=1.1.2->sxs) (2025.2)\n",
      "Requirement already satisfied: six>=1.5 in ./.local/share/mamba/envs/pysr_env/lib/python3.11/site-packages (from python-dateutil>=2.8.2->pandas>=1.1.2->sxs) (1.17.0)\n",
      "Requirement already satisfied: charset_normalizer<4,>=2 in ./.local/share/mamba/envs/pysr_env/lib/python3.11/site-packages (from requests>=2.24.0->sxs) (3.4.2)\n",
      "Requirement already satisfied: idna<4,>=2.5 in ./.local/share/mamba/envs/pysr_env/lib/python3.11/site-packages (from requests>=2.24.0->sxs) (3.10)\n",
      "Requirement already satisfied: certifi>=2017.4.17 in ./.local/share/mamba/envs/pysr_env/lib/python3.11/site-packages (from requests>=2.24.0->sxs) (2025.6.15)\n",
      "Collecting spinsfast>=104.2020.8 (from spherical>=1.0.15->sxs)\n",
      "  Using cached spinsfast-2022.4.10-cp311-cp311-manylinux_2_17_x86_64.manylinux2014_x86_64.whl.metadata (520 bytes)\n",
      "Using cached sxs-2025.0.17-py3-none-any.whl (224 kB)\n",
      "Using cached bibtexparser-2.0.0b8-py3-none-any.whl (39 kB)\n",
      "Using cached h5py-3.14.0-cp311-cp311-manylinux_2_17_x86_64.manylinux2014_x86_64.whl (4.5 MB)\n",
      "Using cached inflection-0.5.1-py2.py3-none-any.whl (9.5 kB)\n",
      "Using cached quaternionic-1.0.15-py3-none-any.whl (37 kB)\n",
      "Using cached spherical-1.0.16-py3-none-any.whl (55 kB)\n",
      "Using cached spinsfast-2022.4.10-cp311-cp311-manylinux_2_17_x86_64.manylinux2014_x86_64.whl (783 kB)\n",
      "Using cached sxscatalog-3.0.15-py3-none-any.whl (33 kB)\n",
      "Using cached tqdm-4.67.1-py3-none-any.whl (78 kB)\n",
      "Installing collected packages: spinsfast, pylatexenc, tqdm, inflection, h5py, bibtexparser, quaternionic, sxscatalog, spherical, sxs\n",
      "\u001b[2K   \u001b[90m━━━━━━━━━━━━━━━━━━━━━━━━━━━━━━━━━━━━━━━━\u001b[0m \u001b[32m10/10\u001b[0m [sxs]32m 7/10\u001b[0m [sxscatalog]\n",
      "\u001b[1A\u001b[2KSuccessfully installed bibtexparser-2.0.0b8 h5py-3.14.0 inflection-0.5.1 pylatexenc-2.10 quaternionic-1.0.15 spherical-1.0.16 spinsfast-2022.4.10 sxs-2025.0.17 sxscatalog-3.0.15 tqdm-4.67.1\n",
      "Note: you may need to restart the kernel to use updated packages.\n"
     ]
    }
   ],
   "source": [
    "pip install sxs"
   ]
  },
  {
   "cell_type": "code",
   "execution_count": 3,
   "id": "959d6b9f-2f96-490c-b1d5-1f71f60376bf",
   "metadata": {},
   "outputs": [
    {
     "name": "stdout",
     "output_type": "stream",
     "text": [
      "/home/ajt6830/.local/share/mamba/envs/pysr_env/lib/python3.11/site-packages/sxs/__init__.py\n",
      "2025.0.17\n",
      "['Catalog', 'HorizonQuantities', 'Horizons', 'Metadata', 'Simulation', 'Simulations', 'TimeSeries', 'WaveformModes', 'WaveformModesDict', '__builtins__', '__cached__', '__doc__', '__file__', '__loader__', '__name__', '__package__', '__path__', '__spec__', '__version__', 'astronomical_unit', 'catalog', 'citation', 'cite', 'doi_prefix', 'doi_url', 'file_format', 'guvectorize', 'handlers', 'horizons', 'importlib_metadata', 'jit', 'lev_number', 'load', 'load_lvc', 'load_via_sxs_id', 'loadcontext', 'local_simulations', 'm_sun_in_meters', 'm_sun_in_seconds', 'metadata', 'parsec_in_meters', 'read_config', 'rpdmb', 'rpxmb', 'simulations', 'solar_mass_parameter', 'spectre_cce_v1', 'speed_of_light', 'sxs_directory', 'sxs_id', 'sxs_id_to_url', 'time_series', 'to_lvc_conventions', 'utilities', 'vectorize', 'version_info', 'waveforms', 'write_config', 'write_local_simulations', 'zenodo']\n"
     ]
    }
   ],
   "source": [
    "import sxs\n",
    "print(sxs.__file__)\n",
    "print(sxs.__version__)\n",
    "print(dir(sxs))"
   ]
  },
  {
   "cell_type": "code",
   "execution_count": 4,
   "id": "43d47626-68cf-454a-af06-f6d2624b5b30",
   "metadata": {},
   "outputs": [
    {
     "name": "stdout",
     "output_type": "stream",
     "text": [
      "Loading SXS simulations using latest tag 'v3.0.0', published at 2025-05-14T18:17:30Z.\n"
     ]
    }
   ],
   "source": [
    "df = sxs.load(\"dataframe\")"
   ]
  },
  {
   "cell_type": "code",
   "execution_count": 5,
   "id": "b4ee3e5c-0ff7-4f58-beae-9ed858b10133",
   "metadata": {},
   "outputs": [
    {
     "name": "stdout",
     "output_type": "stream",
     "text": [
      "848\n"
     ]
    }
   ],
   "source": [
    "df_1 = df.loc[df['reference_eccentricity'] < 0.01]\n",
    "df_2 = df_1.loc[df_1[\"reference_dimensionless_spin1_x\"] < 0.001]\n",
    "df_3 = df_2.loc[df_2[\"reference_dimensionless_spin2_x\"] < 0.001]\n",
    "df_4 = df_3.loc[df_3[\"reference_dimensionless_spin1_y\"] < 0.001]\n",
    "df_5 = df_4.loc[df_4[\"reference_dimensionless_spin2_y\"] < 0.001]\n",
    "df_6 = df_5.loc[df_5[\"deprecated\"] == False]\n",
    "df_7 = df_6.loc[np.isfinite(df_6[\"common_horizon_time\"])]\n",
    "\n",
    "print(len(df_7))"
   ]
  },
  {
   "cell_type": "code",
   "execution_count": 11,
   "id": "1efa68e3-7086-47bb-9018-4bae321b7cfb",
   "metadata": {},
   "outputs": [
    {
     "data": {
      "text/plain": [
       "deprecated                                                                      False\n",
       "reference_mass_ratio                                                         5.002185\n",
       "reference_chi_eff                                                           -0.416321\n",
       "reference_chi1_perp                                                               0.0\n",
       "reference_chi2_perp                                                               0.0\n",
       "reference_eccentricity                                                       0.001107\n",
       "reference_eccentricity_bound                                                 0.001107\n",
       "reference_time                                                                  340.0\n",
       "reference_dimensionless_spin1_x                                                   0.0\n",
       "reference_dimensionless_spin1_y                                                  -0.0\n",
       "reference_dimensionless_spin1_z                                             -0.499549\n",
       "reference_dimensionless_spin1_mag                                            0.499549\n",
       "reference_dimensionless_spin1           [2.7749738947355142e-11, -5.88733663534388...\n",
       "reference_dimensionless_spin2_x                                                  -0.0\n",
       "reference_dimensionless_spin2_y                                                  -0.0\n",
       "reference_dimensionless_spin2_z                                              0.000001\n",
       "reference_dimensionless_spin2_mag                                            0.000001\n",
       "reference_dimensionless_spin2           [-6.361154710525347e-12, -1.04400909396598...\n",
       "reference_mean_anomaly                                                       1.321199\n",
       "reference_orbital_frequency_x                                                    -0.0\n",
       "reference_orbital_frequency_y                                                    -0.0\n",
       "reference_orbital_frequency_z                                                0.019928\n",
       "reference_orbital_frequency_mag                                              0.019928\n",
       "reference_orbital_frequency             [-2.0778621531068835e-14, -1.6990061177749...\n",
       "reference_separation                                                        12.771936\n",
       "reference_position1                     [1.97601673172146, 0.8599341509338032, 4.9...\n",
       "reference_position2                     [-9.736426256041332, -4.233300583187452, 4...\n",
       "reference_mass1                                                                0.8337\n",
       "reference_mass2                                                              0.166667\n",
       "reference_chi1_mag                                                           0.499549\n",
       "reference_chi2_mag                                                           0.000001\n",
       "relaxation_time                                                                 340.0\n",
       "common_horizon_time                                                       3425.524237\n",
       "remnant_mass                                                                  0.98667\n",
       "remnant_dimensionless_spin_x                                                     -0.0\n",
       "remnant_dimensionless_spin_y                                                      0.0\n",
       "remnant_dimensionless_spin_z                                                 0.116622\n",
       "remnant_dimensionless_spin_mag                                               0.116622\n",
       "remnant_dimensionless_spin              [-3.895786342200932e-09, 1.121236199633156...\n",
       "remnant_velocity_x                                                          -0.000594\n",
       "remnant_velocity_y                                                           0.000062\n",
       "remnant_velocity_z                                                                0.0\n",
       "remnant_velocity_mag                                                         0.000597\n",
       "remnant_velocity                        [-0.0005941727717855772, 6.246990973178231...\n",
       "EOS                                                                               NaN\n",
       "disk_mass                                                                         NaN\n",
       "ejecta_mass                                                                       NaN\n",
       "object_types                                                                     BHBH\n",
       "initial_data_type                                                            BBH_CFMS\n",
       "initial_separation                                                               13.0\n",
       "initial_orbital_frequency                                                     0.01952\n",
       "initial_adot                                                                -0.000058\n",
       "initial_ADM_energy                                                            0.99592\n",
       "initial_ADM_linear_momentum_x                                                     0.0\n",
       "initial_ADM_linear_momentum_y                                                    -0.0\n",
       "initial_ADM_linear_momentum_z                                                     0.0\n",
       "initial_ADM_linear_momentum_mag                                                   0.0\n",
       "initial_ADM_linear_momentum             [5.9252184e-09, -2.4230781e-09, 4.5459875e...\n",
       "initial_ADM_angular_momentum_x                                              -0.000001\n",
       "initial_ADM_angular_momentum_y                                               0.000001\n",
       "initial_ADM_angular_momentum_z                                                0.25216\n",
       "initial_ADM_angular_momentum_mag                                              0.25216\n",
       "initial_ADM_angular_momentum            [-1.2249999254e-06, 9.490620486e-07, 0.252...\n",
       "initial_mass1                                                                0.833333\n",
       "initial_mass2                                                                0.166667\n",
       "initial_mass_ratio                                                                5.0\n",
       "initial_dimensionless_spin1_x                                                    -0.0\n",
       "initial_dimensionless_spin1_y                                                     0.0\n",
       "initial_dimensionless_spin1_z                                                    -0.5\n",
       "initial_dimensionless_spin1_mag                                                   0.5\n",
       "initial_dimensionless_spin1                  [-7.1e-15, 1.57e-14, -0.499999999934672]\n",
       "initial_dimensionless_spin2_x                                                    -0.0\n",
       "initial_dimensionless_spin2_y                                                    -0.0\n",
       "initial_dimensionless_spin2_z                                                     0.0\n",
       "initial_dimensionless_spin2_mag                                                   0.0\n",
       "initial_dimensionless_spin2                  [-5.2048e-12, -7.8224e-12, 4.896084e-10]\n",
       "initial_position1                          [2.157946120914188, 0.01778760695721, 0.0]\n",
       "initial_position2                        [-10.842053879085812, 0.01778760695721, 0.0]\n",
       "number_of_orbits                                                            14.722808\n",
       "number_of_orbits_from_start                                                 14.722808\n",
       "number_of_orbits_from_reference_time                                        13.662139\n",
       "DOI_versions                             [, v1.1, v1.2, v1.3, v1.4, v1.5, v2.0, v3.0]\n",
       "keywords                                       [Aligned-Spins, ManyMergers-Eccentric]\n",
       "date_link_earliest                                                2013-03-06 21:55:55\n",
       "date_run_earliest                                                 2013-03-20 16:14:47\n",
       "date_run_latest                                                   2013-03-26 21:08:03\n",
       "date_postprocessing                                        2025-01-28 02:23:58.831999\n",
       "Name: SXS:BBH:0109, dtype: object"
      ]
     },
     "metadata": {},
     "output_type": "display_data"
    }
   ],
   "source": [
    "ID_num = 109\n",
    "event = sxs.load(f\"SXS:BBH:0{ID_num}\", ignore_deprecation=True)\n",
    "with pd.option_context(\"max_colwidth\", 46, \"display.max_rows\", None, \"display.large_repr\", \"truncate\"):\n",
    "    display(event.series)"
   ]
  },
  {
   "cell_type": "code",
   "execution_count": 6,
   "id": "f18b79e4-5d6f-4a01-96a2-e50ac1c3af1c",
   "metadata": {},
   "outputs": [],
   "source": [
    "ref_orb_period = 2*np.pi/df_7[\"reference_orbital_frequency_mag\"]\n",
    "CHT = df_7[\"common_horizon_time\"] - df_7[\"reference_time\"]"
   ]
  },
  {
   "cell_type": "code",
   "execution_count": 7,
   "id": "7caa67c1-f087-4e41-9618-61e90b0c0880",
   "metadata": {},
   "outputs": [],
   "source": [
    "def Newtonian_CHT(X):\n",
    "    #tau is orbital period, q is mass_ratio, A is scaling constant based on fundamental mathematical and physical constants with G = C = 1\n",
    "    A = 5/(16*np.pi)**(8/3)\n",
    "    tau, q = X\n",
    "    return A*tau**(8/3)*(q+1)**2/q\n",
    "\n",
    "def nu(q):\n",
    "    return q/(q+1)**2"
   ]
  },
  {
   "cell_type": "code",
   "execution_count": 8,
   "id": "521aa609-531e-4faf-a5a5-846caf2a0c87",
   "metadata": {},
   "outputs": [],
   "source": [
    "default_pysr_params = dict(\n",
    "    populations = 30,\n",
    "    model_selection=\"best\",\n",
    ")\n",
    "\n",
    "best_avg_error = 100"
   ]
  },
  {
   "cell_type": "code",
   "execution_count": 9,
   "id": "4ae3ac3f-677e-482e-84a7-1e15015cb9fd",
   "metadata": {},
   "outputs": [],
   "source": [
    "model = PySRRegressor(\n",
    "    niterations=30,\n",
    "    binary_operators=[\"+\", \"*\", \"-\"],\n",
    "    unary_operators=[\"square\", \"cube\", \"sqrt\", \"cbrt\", \"inv(x) = 1/x\"], #\"cube_root(x) = cbrt(x)\"\n",
    "    extra_sympy_mappings={\"inv\": lambda x: 1/x}, #\"square\": lambda x: x**2, \"cube_root\": lambda x: x**(1/3)\n",
    "    **default_pysr_params,\n",
    "    elementwise_loss=\"loss(prediction, target, w) = ((prediction - target)/w)^2\"\n",
    "    # ^ Custom loss function (julia syntax). It takes the difference of the Newtonian residual from the PySR estimation and weights it by the inverse\n",
    "    #of the length of the original simulation\n",
    ")"
   ]
  },
  {
   "cell_type": "code",
   "execution_count": null,
   "id": "3a1e3778-0ca8-4b5b-b67e-326a1520e997",
   "metadata": {
    "scrolled": true
   },
   "outputs": [
    {
     "name": "stderr",
     "output_type": "stream",
     "text": [
      "/home/ajt6830/.local/share/mamba/envs/pysr_env/lib/python3.11/site-packages/pysr/sr.py:2217: UserWarning: The discovered expressions are being reset. Please set `warm_start=True` if you wish to continue to start a search where you left off.\n",
      "  warnings.warn(\n",
      "/home/ajt6830/.local/share/mamba/envs/pysr_env/lib/python3.11/site-packages/pysr/sr.py:2811: UserWarning: Note: it looks like you are running in Jupyter. The progress bar will be turned off.\n",
      "  warnings.warn(\n",
      "[ Info: Started!\n"
     ]
    },
    {
     "name": "stdout",
     "output_type": "stream",
     "text": [
      "\n",
      "Expressions evaluated per second: 9.050e+04\n",
      "Progress: 670 / 900 total iterations (74.444%)\n",
      "════════════════════════════════════════════════════════════════════════════════════════════════════\n",
      "───────────────────────────────────────────────────────────────────────────────────────────────────\n",
      "Complexity  Loss       Score      Equation\n",
      "1           6.858e-06  0.000e+00  y = 706.17\n",
      "3           4.194e-06  2.458e-01  y = x₁ * 231.57\n",
      "5           3.027e-06  1.631e-01  y = x₀ * (x₁ - x₂)\n",
      "6           2.764e-06  9.099e-02  y = x₀ * (x₁ - cbrt(x₂))\n",
      "7           7.315e-07  1.329e+00  y = x₁ * (x₀ * (0.62086 - x₂))\n",
      "9           3.672e-07  3.447e-01  y = (((0.6156 - x₂) * x₁) - x₃) * x₀\n",
      "11          2.285e-07  2.371e-01  y = x₀ * (((x₁ * (0.49503 - x₂)) - x₃) + 0.55287)\n",
      "13          1.515e-07  2.054e-01  y = x₀ * ((((x₂ + -0.67702) * -0.79846) * (x₁ - -0.80237))...\n",
      "                                       - x₃)\n",
      "15          1.364e-07  5.252e-02  y = (((x₂ + -0.6786) * ((x₁ - -0.92488) * -0.81358)) - x₃)...\n",
      "                                       * (x₀ - 14.884)\n",
      "17          1.363e-07  2.903e-04  y = ((x₀ - 14.084) * ((((x₁ - -0.92488) * -0.81358) * (x₂ ...\n",
      "                                      + -0.6786)) - x₃)) - 1.0969\n",
      "19          1.354e-07  3.400e-03  y = (((x₁ - -0.92705) * (-0.82123 * (-0.67657 + x₂))) - x₃...\n",
      "                                      ) * ((x₀ - (13.504 - x₃)) + x₂)\n",
      "24          1.326e-07  4.205e-03  y = ((x₀ - square(x₂ - 3.5065)) * (((x₁ - -0.98071) * ((x₂...\n",
      "                                       + -0.6786) * -0.81358)) - x₃)) - ((x₁ + 4.3296) - x₃)\n",
      "26          1.296e-07  1.133e-02  y = ((x₀ - square(x₂ - 3.5071)) * ((((x₁ - -0.984) * -0.83...\n",
      "                                      658) * (x₂ + -0.65643)) - x₃)) - ((x₃ + 0.67717) + (x₁ - x...\n",
      "                                      ₂))\n",
      "───────────────────────────────────────────────────────────────────────────────────────────────────\n",
      "════════════════════════════════════════════════════════════════════════════════════════════════════\n",
      "Press 'q' and then <enter> to stop execution early.\n",
      "───────────────────────────────────────────────────────────────────────────────────────────────────\n",
      "Complexity  Loss       Score      Equation\n",
      "1           6.858e-06  0.000e+00  y = 706.17\n",
      "3           4.194e-06  2.458e-01  y = x₁ * 231.57\n",
      "5           3.027e-06  1.631e-01  y = x₀ * (x₁ - x₂)\n",
      "6           2.764e-06  9.099e-02  y = x₀ * (x₁ - cbrt(x₂))\n",
      "7           7.315e-07  1.329e+00  y = x₁ * (x₀ * (0.62086 - x₂))\n",
      "9           3.672e-07  3.447e-01  y = (((0.6156 - x₂) * x₁) - x₃) * x₀\n",
      "11          2.285e-07  2.372e-01  y = x₀ * (((x₁ * (0.49621 - x₂)) - x₃) + 0.54772)\n",
      "13          1.436e-07  2.321e-01  y = x₀ * ((((x₁ - -1.0138) * (x₂ + -0.66185)) * -0.78085) ...\n",
      "                                      - x₃)\n",
      "15          1.192e-07  9.337e-02  y = (x₀ - 62.809) * ((((x₁ - -1.0467) * (x₂ + -0.69667)) *...\n",
      "                                       -0.94007) - x₃)\n",
      "18          1.161e-07  8.760e-03  y = (((((x₁ - -1.0467) * (x₂ + -0.69667)) * -0.94007) - x₃...\n",
      "                                      ) * (x₀ - 61.525)) - sqrt(61.525)\n",
      "19          1.057e-07  9.326e-02  y = ((((x₁ - -1.0323) * ((x₂ * -0.99784) + 0.66262)) - x₃)...\n",
      "                                       * (x₀ + (x₁ - 72.206))) - 20.418\n",
      "22          9.620e-08  3.150e-02  y = ((((x₂ + -0.65812) * ((x₁ - -1.0365) * -0.98575)) - (x...\n",
      "                                      ₃ * 1.3198)) * (x₀ - square(7.465 - -0.98575))) - 0.77383\n",
      "24          9.276e-08  1.824e-02  y = ((((x₂ + -0.65812) * ((x₁ - -0.98575) * -0.98575)) - (...\n",
      "                                      1.3198 * x₃)) * (x₀ - square(7.465 - x₂))) + (x₃ - 0.58087...\n",
      "                                      )\n",
      "25          8.981e-08  3.223e-02  y = ((((x₂ + -0.66825) * (x₁ - -1.0373)) * -0.99688) - (x₃...\n",
      "                                       * 1.3207)) * (((x₀ - 71.415) + ((x₃ * 7.465) + 1.0648)) -...\n",
      "                                       0.77379)\n",
      "27          8.472e-08  2.920e-02  y = (((((x₂ + -0.65812) * (x₁ - -1.0365)) * -0.98575) - (x...\n",
      "                                      ₃ * 1.3198)) * ((x₀ - 71.415) + ((x₁ - x₂) + (x₃ * 7.465))...\n",
      "                                      )) - 0.77383\n",
      "30          8.472e-08  1.987e-08  y = ((((x₂ + -0.65812) * ((x₁ - -1.0365) * -0.98575)) - (x...\n",
      "                                      ₃ * 1.3198)) * ((x₀ - square(7.465 - -0.98575)) + ((x₁ - x...\n",
      "                                      ₂) + (x₃ * 7.465)))) - 0.77383\n",
      "───────────────────────────────────────────────────────────────────────────────────────────────────\n",
      "Current Prediction Average Error (%): 2.227772955857522\n",
      "Best Prediction Average Error (%): 100\n",
      "Current Model Formula: (x0 - 1*62.809128)*(-x3 + (x1 - 1*(-1.0467321))*(x2 - 0.6966722)*(-0.94007295))\n"
     ]
    },
    {
     "name": "stderr",
     "output_type": "stream",
     "text": [
      "[ Info: Final population:\n",
      "[ Info: Results saved to:\n",
      "/home/ajt6830/.local/share/mamba/envs/pysr_env/lib/python3.11/site-packages/pysr/sr.py:1270: UserWarning: `extra_sympy_mappings` cannot be pickled and will be removed from the serialized instance. When loading the model, please redefine `extra_sympy_mappings` at runtime.\n",
      "  warnings.warn(warn_msg)\n",
      "/home/ajt6830/.local/share/mamba/envs/pysr_env/lib/python3.11/site-packages/pysr/sr.py:2217: UserWarning: The discovered expressions are being reset. Please set `warm_start=True` if you wish to continue to start a search where you left off.\n",
      "  warnings.warn(\n",
      "/home/ajt6830/.local/share/mamba/envs/pysr_env/lib/python3.11/site-packages/pysr/sr.py:2811: UserWarning: Note: it looks like you are running in Jupyter. The progress bar will be turned off.\n",
      "  warnings.warn(\n"
     ]
    },
    {
     "name": "stdout",
     "output_type": "stream",
     "text": [
      "  - outputs/20250703_150100_DMZcNC/hall_of_fame.csv\n",
      "───────────────────────────────────────────────────────────────────────────────────────────────────\n",
      "Complexity  Loss       Score      Equation\n",
      "1           6.858e-06  0.000e+00  y = 705.88\n",
      "3           4.194e-06  2.458e-01  y = x₁ * 231.54\n",
      "5           3.027e-06  1.631e-01  y = x₀ * (x₁ - x₂)\n",
      "6           2.764e-06  9.099e-02  y = (x₁ - cbrt(x₂)) * x₀\n",
      "7           7.315e-07  1.329e+00  y = x₁ * ((0.62083 - x₂) * x₀)\n",
      "9           3.671e-07  3.447e-01  y = x₀ * (((0.61396 - x₂) * x₁) - x₃)\n",
      "11          2.294e-07  2.351e-01  y = x₀ * ((((0.50851 - x₂) * x₁) + 0.51006) - x₃)\n",
      "12          1.902e-07  1.871e-01  y = x₀ * (((0.56484 - x₂) * (x₁ + inv(x₁))) - x₃)\n",
      "13          1.898e-07  2.194e-03  y = x₀ * (((inv(square(x₁)) + x₁) * (0.58585 - x₂)) - x₃)\n",
      "14          1.324e-07  3.600e-01  y = (((inv(x₁) + x₁) * (0.66639 - x₂)) - x₃) * (x₀ + -29.1...\n",
      "                                      25)\n",
      "16          1.139e-07  7.524e-02  y = (((inv(x₁) + x₁) * (0.674 - x₂)) - x₃) * (x₀ - (x₃ + 4...\n",
      "                                      1.857))\n",
      "20          1.135e-07  9.552e-04  y = ((x₀ + -1.6982) - (x₁ + 27.426)) * (((inv(x₁ + 0.26119...\n",
      "                                      ) + x₁) * (0.66639 - x₂)) - x₃)\n",
      "22          1.133e-07  9.355e-04  y = (((x₀ + -1.6982) - (x₁ + 27.426)) * (((0.66639 - x₂) *...\n",
      "                                       (inv(x₁ + 0.26119) + x₁)) - x₃)) - x₃\n",
      "23          1.117e-07  1.381e-02  y = ((x₀ + 1.0754) - (x₁ + 36.662)) * (((inv((x₁ + 0.19224...\n",
      "                                      ) - inv(x₀)) + x₁) * (0.68364 - x₂)) - x₃)\n",
      "25          1.117e-07  3.197e-04  y = (((x₀ + 1.0754) - (x₁ + 36.662)) * (((inv((x₁ + 0.1922...\n",
      "                                      4) - inv(x₀)) + x₁) * (0.68364 - x₂)) - x₃)) + -0.57041\n",
      "27          1.114e-07  1.089e-03  y = ((((x₀ + 1.0754) - (x₁ + 36.662)) * (((inv((x₁ + 0.192...\n",
      "                                      24) - inv(x₀)) + x₁) * (0.68364 - x₂)) - x₃)) + -0.57041) ...\n",
      "                                      - x₃\n",
      "29          1.067e-07  2.183e-02  y = (((inv(cbrt(x₁ + 0.43772)) + x₁) * (0.66974 - x₂)) - x...\n",
      "                                      ₃) * (x₀ + ((x₂ - x₁) + (((x₁ + x₁) + 1.5815) - (x₁ + 55.0...\n",
      "                                      92))))\n",
      "───────────────────────────────────────────────────────────────────────────────────────────────────\n"
     ]
    },
    {
     "name": "stderr",
     "output_type": "stream",
     "text": [
      "[ Info: Started!\n",
      "[ Info: Final population:\n",
      "[ Info: Results saved to:\n",
      "/home/ajt6830/.local/share/mamba/envs/pysr_env/lib/python3.11/site-packages/pysr/sr.py:1270: UserWarning: `extra_sympy_mappings` cannot be pickled and will be removed from the serialized instance. When loading the model, please redefine `extra_sympy_mappings` at runtime.\n",
      "  warnings.warn(warn_msg)\n",
      "/home/ajt6830/.local/share/mamba/envs/pysr_env/lib/python3.11/site-packages/pysr/sr.py:2217: UserWarning: The discovered expressions are being reset. Please set `warm_start=True` if you wish to continue to start a search where you left off.\n",
      "  warnings.warn(\n",
      "/home/ajt6830/.local/share/mamba/envs/pysr_env/lib/python3.11/site-packages/pysr/sr.py:2811: UserWarning: Note: it looks like you are running in Jupyter. The progress bar will be turned off.\n",
      "  warnings.warn(\n"
     ]
    },
    {
     "name": "stdout",
     "output_type": "stream",
     "text": [
      "Current Prediction Average Error (%): 2.0625349290039523\n",
      "Best Prediction Average Error (%): 2.227772955857522\n",
      "Current Model Formula: (x0 - 29.124502)*(-x3 + (0.6663933 - x2)*(x1 + 1/x1))\n",
      "  - outputs/20250703_150109_V4RAhV/hall_of_fame.csv\n"
     ]
    },
    {
     "name": "stderr",
     "output_type": "stream",
     "text": [
      "[ Info: Started!\n",
      "[ Info: Final population:\n",
      "[ Info: Results saved to:\n"
     ]
    },
    {
     "name": "stdout",
     "output_type": "stream",
     "text": [
      "───────────────────────────────────────────────────────────────────────────────────────────────────\n",
      "Complexity  Loss       Score      Equation\n",
      "1           6.858e-06  0.000e+00  y = 706.05\n",
      "3           4.194e-06  2.458e-01  y = x₁ * 231.57\n",
      "5           3.027e-06  1.631e-01  y = (x₁ - x₂) * x₀\n",
      "6           2.764e-06  9.099e-02  y = (x₁ - cbrt(x₂)) * x₀\n",
      "7           7.315e-07  1.329e+00  y = ((0.62086 - x₂) * x₀) * x₁\n",
      "9           3.671e-07  3.447e-01  y = x₀ * (((0.61396 - x₂) * x₁) - x₃)\n",
      "11          2.285e-07  2.371e-01  y = x₀ * ((((0.49617 - x₂) * x₁) - x₃) + 0.54778)\n",
      "13          2.223e-07  1.380e-02  y = ((((0.49617 - x₂) * x₁) - x₃) + 0.54778) * (x₀ - x₁)\n",
      "15          2.086e-07  3.176e-02  y = ((x₁ * 0.48786) + ((0.5575 - x₃) - (x₂ * (x₁ - -0.2772...\n",
      "                                      8)))) * x₀\n",
      "17          1.079e-07  3.296e-01  y = (((0.70097 * x₁) - (x₃ - 0.54017)) - (x₂ * (x₁ - -0.99...\n",
      "                                      842))) * (x₀ - 70.665)\n",
      "19          1.075e-07  1.928e-03  y = (((x₁ * 0.70097) - (x₃ - 0.54017)) - (x₂ * (x₁ - -0.99...\n",
      "                                      842))) * ((x₀ - 70.021) + x₂)\n",
      "20          1.074e-07  5.105e-04  y = ((x₀ - 70.665) * (((x₁ * 0.69947) - (x₃ - 0.53978)) - ...\n",
      "                                      (x₂ * (x₁ - -0.99712)))) - cbrt(x₃)\n",
      "21          8.503e-08  2.337e-01  y = (x₀ + -72.25) * ((((x₁ * 0.70097) - (x₃ * 0.33861)) - ...\n",
      "                                      (x₃ - 0.54017)) - (x₂ * (x₁ - -0.99842)))\n",
      "22          7.152e-08  1.731e-01  y = (x₀ - 71.751) * ((((0.70097 * x₁) - (x₃ * inv(x₁))) - ...\n",
      "                                      (x₃ - 0.54017)) - ((x₁ - -0.99842) * x₂))\n",
      "24          6.532e-08  4.536e-02  y = (((0.70097 * (x₁ - (x₃ * inv(x₁)))) - (x₃ - 0.54017)) ...\n",
      "                                      - ((x₁ - -0.99842) * x₂)) * (x₃ + (x₀ - 71.751))\n",
      "26          6.532e-08  2.116e-06  y = (((x₃ + x₀) - 71.751) * (((0.70097 * (x₁ - (x₃ * inv(x...\n",
      "                                      ₁)))) - (x₃ - 0.54017)) - ((x₁ - -0.99842) * x₂))) + -0.12...\n",
      "                                      882\n",
      "───────────────────────────────────────────────────────────────────────────────────────────────────\n",
      "Current Prediction Average Error (%): 1.8215411759552953\n",
      "Best Prediction Average Error (%): 2.0625349290039523\n",
      "Current Model Formula: (x0 - 72.24986)*(x1*0.70096886 - x2*(x1 - 1*(-0.99842125)) - 0.33861262*x3 - (x3 - 1*0.54016924))\n"
     ]
    },
    {
     "name": "stderr",
     "output_type": "stream",
     "text": [
      "/home/ajt6830/.local/share/mamba/envs/pysr_env/lib/python3.11/site-packages/pysr/sr.py:1270: UserWarning: `extra_sympy_mappings` cannot be pickled and will be removed from the serialized instance. When loading the model, please redefine `extra_sympy_mappings` at runtime.\n",
      "  warnings.warn(warn_msg)\n",
      "/home/ajt6830/.local/share/mamba/envs/pysr_env/lib/python3.11/site-packages/pysr/sr.py:2217: UserWarning: The discovered expressions are being reset. Please set `warm_start=True` if you wish to continue to start a search where you left off.\n",
      "  warnings.warn(\n",
      "/home/ajt6830/.local/share/mamba/envs/pysr_env/lib/python3.11/site-packages/pysr/sr.py:2811: UserWarning: Note: it looks like you are running in Jupyter. The progress bar will be turned off.\n",
      "  warnings.warn(\n"
     ]
    },
    {
     "name": "stdout",
     "output_type": "stream",
     "text": [
      "  - outputs/20250703_150114_3uZk5F/hall_of_fame.csv\n",
      "───────────────────────────────────────────────────────────────────────────────────────────────────\n",
      "Complexity  Loss       Score      Equation\n",
      "1           6.858e-06  0.000e+00  y = 706.05\n",
      "3           4.194e-06  2.458e-01  y = x₁ * 231.58\n",
      "5           3.027e-06  1.631e-01  y = x₀ * (x₁ - x₂)\n",
      "6           2.764e-06  9.099e-02  y = (x₁ - cbrt(x₂)) * x₀\n",
      "7           7.315e-07  1.329e+00  y = (x₁ * (0.62086 - x₂)) * x₀\n",
      "9           3.671e-07  3.447e-01  y = x₀ * ((x₁ * (0.61394 - x₂)) - x₃)\n",
      "11          2.285e-07  2.370e-01  y = x₀ * ((((0.49416 - x₂) * x₁) + 0.55685) - x₃)\n",
      "12          1.902e-07  1.833e-01  y = x₀ * (((0.56482 - x₂) * (x₁ + inv(x₁))) - x₃)\n",
      "13          1.289e-07  3.895e-01  y = (x₀ + -52.303) * (((0.63158 - x₂) * (x₁ + 0.9977)) - x...\n",
      "                                      ₃)\n",
      "15          1.128e-07  6.639e-02  y = (x₀ + -55.68) * ((((0.65825 - x₂) * 0.95974) * (x₁ + 0...\n",
      "                                      .98574)) - x₃)\n",
      "20          1.069e-07  1.092e-02  y = (((0.64391 - x₂) * (x₁ + 0.97038)) - x₃) * ((cube((x₂ ...\n",
      "                                      - 0.99316) + x₂) + x₀) - 51.996)\n",
      "22          1.065e-07  1.788e-03  y = (((0.62174 - x₂) * (x₁ + 0.99544)) - x₃) * (((cube(x₂ ...\n",
      "                                      + -1.6764) - 52.25) + (x₀ - x₂)) + x₁)\n",
      "23          1.059e-07  4.962e-03  y = (((x₀ + cube((x₂ + -0.85554) - 1.0016)) - 52.183) + cb...\n",
      "                                      rt(x₁)) * (((0.64472 - x₂) * (x₁ + 0.99903)) - x₃)\n",
      "24          1.042e-07  1.704e-02  y = (((0.63158 - x₂) * (x₁ + 0.9977)) - x₃) * ((x₀ + (cube...\n",
      "                                      ((x₂ * 1.5102) + -1.6792) - (x₂ + 52.25))) + x₁)\n",
      "28          1.038e-07  7.603e-04  y = ((((0.63158 - x₂) * (0.9977 + x₁)) - x₃) * ((x₀ + (cub...\n",
      "                                      e(-0.52279 + ((x₂ * 1.5102) + -1.1564)) - (52.25 + x₂))) +...\n",
      "                                       x₁)) - x₃\n",
      "29          1.027e-07  1.073e-02  y = cbrt(x₂) + ((((cube(x₂ + (-0.85622 - 0.9977)) - 51.185...\n",
      "                                      ) + x₀) - cube(-0.57706 * sqrt(x₁))) * (((0.63158 - x₂) * ...\n",
      "                                      (0.9977 + x₁)) - x₃))\n",
      "───────────────────────────────────────────────────────────────────────────────────────────────────\n"
     ]
    },
    {
     "name": "stderr",
     "output_type": "stream",
     "text": [
      "[ Info: Started!\n",
      "[ Info: Final population:\n",
      "[ Info: Results saved to:\n",
      "/home/ajt6830/.local/share/mamba/envs/pysr_env/lib/python3.11/site-packages/pysr/sr.py:1270: UserWarning: `extra_sympy_mappings` cannot be pickled and will be removed from the serialized instance. When loading the model, please redefine `extra_sympy_mappings` at runtime.\n",
      "  warnings.warn(warn_msg)\n",
      "/home/ajt6830/.local/share/mamba/envs/pysr_env/lib/python3.11/site-packages/pysr/sr.py:2217: UserWarning: The discovered expressions are being reset. Please set `warm_start=True` if you wish to continue to start a search where you left off.\n",
      "  warnings.warn(\n",
      "/home/ajt6830/.local/share/mamba/envs/pysr_env/lib/python3.11/site-packages/pysr/sr.py:2811: UserWarning: Note: it looks like you are running in Jupyter. The progress bar will be turned off.\n",
      "  warnings.warn(\n"
     ]
    },
    {
     "name": "stdout",
     "output_type": "stream",
     "text": [
      "Current Prediction Average Error (%): 2.141818964873399\n",
      "Best Prediction Average Error (%): 1.8215411759552953\n",
      "Current Model Formula: (x0 - 52.302753)*(-x3 + (0.63158053 - x2)*(x1 + 0.99770427))\n",
      "  - outputs/20250703_150121_XCcnmb/hall_of_fame.csv\n"
     ]
    },
    {
     "name": "stderr",
     "output_type": "stream",
     "text": [
      "[ Info: Started!\n",
      "[ Info: Final population:\n",
      "[ Info: Results saved to:\n",
      "/home/ajt6830/.local/share/mamba/envs/pysr_env/lib/python3.11/site-packages/pysr/sr.py:1270: UserWarning: `extra_sympy_mappings` cannot be pickled and will be removed from the serialized instance. When loading the model, please redefine `extra_sympy_mappings` at runtime.\n",
      "  warnings.warn(warn_msg)\n",
      "/home/ajt6830/.local/share/mamba/envs/pysr_env/lib/python3.11/site-packages/pysr/sr.py:2217: UserWarning: The discovered expressions are being reset. Please set `warm_start=True` if you wish to continue to start a search where you left off.\n",
      "  warnings.warn(\n",
      "/home/ajt6830/.local/share/mamba/envs/pysr_env/lib/python3.11/site-packages/pysr/sr.py:2811: UserWarning: Note: it looks like you are running in Jupyter. The progress bar will be turned off.\n",
      "  warnings.warn(\n"
     ]
    },
    {
     "name": "stdout",
     "output_type": "stream",
     "text": [
      "───────────────────────────────────────────────────────────────────────────────────────────────────\n",
      "Complexity  Loss       Score      Equation\n",
      "1           6.858e-06  0.000e+00  y = 706.24\n",
      "3           4.194e-06  2.458e-01  y = x₁ * 231.58\n",
      "5           3.027e-06  1.631e-01  y = x₀ * (x₁ - x₂)\n",
      "6           2.764e-06  9.099e-02  y = x₀ * (x₁ - cbrt(x₂))\n",
      "7           7.315e-07  1.329e+00  y = (x₀ * (0.62085 - x₂)) * x₁\n",
      "9           5.636e-07  1.304e-01  y = x₀ * (((0.49451 - x₂) * x₁) - x₃)\n",
      "10          4.812e-07  1.581e-01  y = (x₀ * (0.5723 - x₂)) * (inv(x₁) + x₁)\n",
      "11          2.285e-07  7.446e-01  y = x₀ * (((0.49451 - x₂) * x₁) + (0.54706 - x₃))\n",
      "13          2.178e-07  2.404e-02  y = (((0.53026 - x₂) * x₁) + (0.48956 - x₃)) * (x₀ - x₁)\n",
      "15          2.144e-07  7.966e-03  y = ((((0.53026 - x₂) * x₁) + 0.48956) - x₃) * ((x₀ - x₁) ...\n",
      "                                      - x₁)\n",
      "17          2.124e-07  4.643e-03  y = (x₀ - ((0.53462 - x₂) * x₁)) * (0.47872 + (((0.53462 -...\n",
      "                                       x₂) * x₁) - x₃))\n",
      "18          2.015e-07  5.280e-02  y = (x₀ - (cube(0.53684 - x₂) * x₁)) * (((x₁ * (0.52964 - ...\n",
      "                                      x₂)) + 0.47878) - x₃)\n",
      "19          1.432e-07  3.411e-01  y = ((0.76767 + (0.78656 * x₁)) * ((-1.3958 - (-0.66886 * ...\n",
      "                                      x₀)) - (x₀ * x₂))) - (x₃ * x₀)\n",
      "21          1.408e-07  8.679e-03  y = (((x₁ * 0.78656) + 0.76767) * ((-2.7838 - (x₀ * -0.668...\n",
      "                                      86)) - (x₀ * x₂))) + (x₀ * (x₃ * -1.1411))\n",
      "22          1.399e-07  6.151e-03  y = (((x₁ * 0.78656) + 0.76767) * ((-1.0773 - (x₀ * -0.668...\n",
      "                                      86)) - (x₂ * x₀))) - ((x₀ - square(x₁)) * x₃)\n",
      "23          1.378e-07  1.497e-02  y = ((x₀ * x₃) * -1.1369) + ((((x₁ * x₃) - (x₀ * -0.67098)...\n",
      "                                      ) - (x₀ * x₂)) * ((x₁ * 0.78466) + 0.73075))\n",
      "24          1.256e-07  9.319e-02  y = (((x₁ * 0.78453) + 0.76673) * ((x₂ - (x₀ * -0.66724)) ...\n",
      "                                      - (x₂ * x₀))) - ((square(x₀ - x₃) * 0.0031594) * x₃)\n",
      "26          1.228e-07  1.125e-02  y = (((x₁ * 0.78453) + 0.76673) * ((x₂ - (x₀ * -0.66724)) ...\n",
      "                                      - (x₂ * x₀))) - ((square(x₀ - (x₁ + x₁)) * 0.0031594) * x₃...\n",
      "                                      )\n",
      "28          1.216e-07  4.653e-03  y = (((x₁ * 0.78453) + 0.76673) * (((x₃ - 1.3343) - (x₀ * ...\n",
      "                                      -0.66724)) - (x₂ * x₀))) - ((x₃ * 0.0031594) * square(x₀ -...\n",
      "                                       (x₁ + x₁)))\n",
      "30          1.180e-07  1.519e-02  y = ((((-1.4381 - (x₀ * -0.66725)) - (x₂ * x₀)) * ((x₁ * 0...\n",
      "                                      .78453) + 0.76673)) - ((square(x₀ - (x₁ * x₁)) * 0.0032274...\n",
      "                                      ) * x₃)) - (x₁ + x₂)\n",
      "───────────────────────────────────────────────────────────────────────────────────────────────────\n",
      "Current Prediction Average Error (%): 2.1011519595014083\n",
      "Best Prediction Average Error (%): 1.8215411759552953\n",
      "Current Model Formula: -x0*x3 + (0.78656346*x1 + 0.76766986)*(-x0*x2 - (-1)*0.66885614*x0 - 1.3958336)\n",
      "  - outputs/20250703_150126_xhbs3O/hall_of_fame.csv\n"
     ]
    },
    {
     "name": "stderr",
     "output_type": "stream",
     "text": [
      "[ Info: Started!\n",
      "[ Info: Final population:\n",
      "[ Info: Results saved to:\n",
      "/home/ajt6830/.local/share/mamba/envs/pysr_env/lib/python3.11/site-packages/pysr/sr.py:1270: UserWarning: `extra_sympy_mappings` cannot be pickled and will be removed from the serialized instance. When loading the model, please redefine `extra_sympy_mappings` at runtime.\n",
      "  warnings.warn(warn_msg)\n",
      "/home/ajt6830/.local/share/mamba/envs/pysr_env/lib/python3.11/site-packages/pysr/sr.py:2217: UserWarning: The discovered expressions are being reset. Please set `warm_start=True` if you wish to continue to start a search where you left off.\n",
      "  warnings.warn(\n",
      "/home/ajt6830/.local/share/mamba/envs/pysr_env/lib/python3.11/site-packages/pysr/sr.py:2811: UserWarning: Note: it looks like you are running in Jupyter. The progress bar will be turned off.\n",
      "  warnings.warn(\n"
     ]
    },
    {
     "name": "stdout",
     "output_type": "stream",
     "text": [
      "\n",
      "Expressions evaluated per second: 1.410e+05\n",
      "Progress: 848 / 900 total iterations (94.222%)\n",
      "════════════════════════════════════════════════════════════════════════════════════════════════════\n",
      "───────────────────────────────────────────────────────────────────────────────────────────────────\n",
      "Complexity  Loss       Score      Equation\n",
      "1           6.858e-06  0.000e+00  y = 706.27\n",
      "3           4.194e-06  2.458e-01  y = x₁ * 231.56\n",
      "5           3.027e-06  1.631e-01  y = (x₁ - x₂) * x₀\n",
      "6           2.764e-06  9.099e-02  y = (x₁ - cbrt(x₂)) * x₀\n",
      "7           7.315e-07  1.329e+00  y = x₁ * ((0.62087 - x₂) * x₀)\n",
      "9           3.671e-07  3.447e-01  y = (((0.61396 - x₂) * x₁) - x₃) * x₀\n",
      "11          2.304e-07  2.330e-01  y = ((x₁ * (0.51358 - x₂)) - (-0.51091 + x₃)) * x₀\n",
      "13          2.175e-07  2.873e-02  y = (((0.52055 - x₂) * x₁) - (x₃ + -0.51674)) * (x₀ - x₁)\n",
      "15          2.090e-07  1.998e-02  y = (x₀ - 8.0379) * ((((x₁ + 0.2604) * (0.51845 - x₂)) - x...\n",
      "                                      ₃) - -0.52759)\n",
      "16          1.876e-07  1.080e-01  y = ((((x₁ + 0.2604) * (0.51845 - x₂)) - x₃) - -0.52759) *...\n",
      "                                       (x₀ - sqrt(x₀))\n",
      "17          1.865e-07  5.528e-03  y = ((((0.2604 + x₁) * (0.51845 - x₂)) - x₃) - cube(-0.803...\n",
      "                                      18)) * (x₀ - sqrt(x₀))\n",
      "18          1.756e-07  6.046e-02  y = ((((0.52268 - x₂) * x₁) - ((inv(x₁) * x₂) + x₃)) - -0....\n",
      "                                      48592) * (x₀ - x₁)\n",
      "19          1.521e-07  1.433e-01  y = ((((0.54982 - x₂) * x₁) - (x₃ + (x₂ * inv(x₁)))) - -0....\n",
      "                                      49019) * (x₀ - sqrt(x₀))\n",
      "21          1.455e-07  2.245e-02  y = ((((0.58929 - x₂) * x₁) - (x₃ + (x₂ * inv(x₁)))) - -0....\n",
      "                                      47033) * ((x₀ - x₁) - sqrt(x₀))\n",
      "22          1.370e-07  5.989e-02  y = ((x₀ - 13.399) - 13.399) * (0.24599 + ((0.28054 + ((0....\n",
      "                                      5425 - x₂) * x₁)) - ((inv(x₁) * x₂) + x₃)))\n",
      "25          1.361e-07  2.274e-03  y = (((x₁ * (0.58929 - x₂)) - (x₃ + (inv(x₁) * x₂))) - -0....\n",
      "                                      47033) * ((x₀ - ((0.99494 - x₂) * x₁)) - sqrt(x₀))\n",
      "26          1.297e-07  4.822e-02  y = ((0.12334 + (inv(sqrt(x₁)) * (0.48935 - (x₂ + (1.4721 ...\n",
      "                                      * x₃))))) + (x₁ * (0.57592 - x₂))) * (x₀ - (3.0791 + sqrt(...\n",
      "                                      x₀)))\n",
      "───────────────────────────────────────────────────────────────────────────────────────────────────\n",
      "════════════════════════════════════════════════════════════════════════════════════════════════════\n",
      "Press 'q' and then <enter> to stop execution early.\n",
      "───────────────────────────────────────────────────────────────────────────────────────────────────\n",
      "Complexity  Loss       Score      Equation\n",
      "1           6.858e-06  0.000e+00  y = 706.27\n",
      "3           4.194e-06  2.458e-01  y = x₁ * 231.56\n",
      "5           3.027e-06  1.631e-01  y = (x₁ - x₂) * x₀\n",
      "6           2.764e-06  9.099e-02  y = (x₁ - cbrt(x₂)) * x₀\n",
      "7           7.315e-07  1.329e+00  y = x₁ * ((0.62087 - x₂) * x₀)\n",
      "9           3.671e-07  3.447e-01  y = (((0.61396 - x₂) * x₁) - x₃) * x₀\n",
      "11          2.304e-07  2.330e-01  y = ((x₁ * (0.51358 - x₂)) - (-0.51091 + x₃)) * x₀\n",
      "13          2.175e-07  2.873e-02  y = (((0.52055 - x₂) * x₁) - (x₃ + -0.51674)) * (x₀ - x₁)\n",
      "15          2.090e-07  1.998e-02  y = (x₀ - 8.0379) * ((((x₁ + 0.2604) * (0.51845 - x₂)) - x...\n",
      "                                      ₃) - -0.52759)\n",
      "16          1.876e-07  1.080e-01  y = ((((x₁ + 0.2604) * (0.51845 - x₂)) - x₃) - -0.52759) *...\n",
      "                                       (x₀ - sqrt(x₀))\n",
      "17          1.865e-07  5.528e-03  y = ((((0.2604 + x₁) * (0.51845 - x₂)) - x₃) - cube(-0.803...\n",
      "                                      18)) * (x₀ - sqrt(x₀))\n",
      "18          1.756e-07  6.046e-02  y = ((((0.52268 - x₂) * x₁) - ((inv(x₁) * x₂) + x₃)) - -0....\n",
      "                                      48592) * (x₀ - x₁)\n",
      "19          1.521e-07  1.433e-01  y = ((((0.54982 - x₂) * x₁) - (x₃ + (x₂ * inv(x₁)))) - -0....\n",
      "                                      49019) * (x₀ - sqrt(x₀))\n",
      "21          1.455e-07  2.245e-02  y = ((((0.58929 - x₂) * x₁) - (x₃ + (x₂ * inv(x₁)))) - -0....\n",
      "                                      47033) * ((x₀ - x₁) - sqrt(x₀))\n",
      "22          1.370e-07  5.989e-02  y = ((x₀ - 13.399) - 13.399) * (0.24599 + ((0.28054 + ((0....\n",
      "                                      5425 - x₂) * x₁)) - ((inv(x₁) * x₂) + x₃)))\n",
      "25          1.361e-07  2.274e-03  y = (((x₁ * (0.58929 - x₂)) - (x₃ + (inv(x₁) * x₂))) - -0....\n",
      "                                      47033) * ((x₀ - ((0.99494 - x₂) * x₁)) - sqrt(x₀))\n",
      "26          1.297e-07  4.822e-02  y = ((0.12334 + (inv(sqrt(x₁)) * (0.48935 - (x₂ + (1.4721 ...\n",
      "                                      * x₃))))) + (x₁ * (0.57592 - x₂))) * (x₀ - (3.0791 + sqrt(...\n",
      "                                      x₀)))\n",
      "───────────────────────────────────────────────────────────────────────────────────────────────────\n",
      "Current Prediction Average Error (%): 2.098639219822536\n",
      "Best Prediction Average Error (%): 1.8215411759552953\n",
      "Current Model Formula: (-sqrt(x0) + x0)*(x1*(0.5498235 - x2) - x3 + 0.49018618 - x2/x1)\n",
      "  - outputs/20250703_150132_e0wYxs/hall_of_fame.csv\n"
     ]
    },
    {
     "name": "stderr",
     "output_type": "stream",
     "text": [
      "[ Info: Started!\n",
      "[ Info: Final population:\n",
      "[ Info: Results saved to:\n",
      "/home/ajt6830/.local/share/mamba/envs/pysr_env/lib/python3.11/site-packages/pysr/sr.py:1270: UserWarning: `extra_sympy_mappings` cannot be pickled and will be removed from the serialized instance. When loading the model, please redefine `extra_sympy_mappings` at runtime.\n",
      "  warnings.warn(warn_msg)\n",
      "/home/ajt6830/.local/share/mamba/envs/pysr_env/lib/python3.11/site-packages/pysr/sr.py:2217: UserWarning: The discovered expressions are being reset. Please set `warm_start=True` if you wish to continue to start a search where you left off.\n",
      "  warnings.warn(\n",
      "/home/ajt6830/.local/share/mamba/envs/pysr_env/lib/python3.11/site-packages/pysr/sr.py:2811: UserWarning: Note: it looks like you are running in Jupyter. The progress bar will be turned off.\n",
      "  warnings.warn(\n"
     ]
    },
    {
     "name": "stdout",
     "output_type": "stream",
     "text": [
      "───────────────────────────────────────────────────────────────────────────────────────────────────\n",
      "Complexity  Loss       Score      Equation\n",
      "1           6.858e-06  0.000e+00  y = 706.33\n",
      "3           4.194e-06  2.458e-01  y = x₁ * 231.58\n",
      "5           3.027e-06  1.631e-01  y = x₀ * (x₁ - x₂)\n",
      "6           2.764e-06  9.099e-02  y = (x₁ - cbrt(x₂)) * x₀\n",
      "7           7.315e-07  1.329e+00  y = (x₀ * (0.62086 - x₂)) * x₁\n",
      "9           3.671e-07  3.447e-01  y = x₀ * (((0.61397 - x₂) * x₁) - x₃)\n",
      "11          2.285e-07  2.371e-01  y = x₀ * (((x₁ * (0.49609 - x₂)) - x₃) - -0.54888)\n",
      "13          1.644e-07  1.647e-01  y = ((x₃ - ((x₁ - -1.0086) * (0.63741 - x₂))) * x₀) * -0.8...\n",
      "                                      0689\n",
      "15          1.637e-07  2.099e-03  y = ((x₃ - ((x₁ - -1.0086) * (0.63741 - x₂))) * (x₀ + -0.8...\n",
      "                                      0689)) * -0.80689\n",
      "16          1.452e-07  1.201e-01  y = x₀ * (((inv(x₀) - (x₁ - -1.0603)) * ((0.63828 - x₂) * ...\n",
      "                                      -0.79498)) - x₃)\n",
      "17          1.432e-07  1.331e-02  y = (2.8481 - x₀) * (((x₂ + (-0.63043 - ((0.67857 - x₂) * ...\n",
      "                                      x₁))) * 0.77591) + x₃)\n",
      "18          1.391e-07  2.925e-02  y = ((x₃ + x₂) + ((-0.63525 - (x₁ * (0.69885 - x₂))) * 0.7...\n",
      "                                      9868)) * (sqrt(x₀) - x₀)\n",
      "20          1.384e-07  2.558e-03  y = ((sqrt(x₀) + 0.90554) - x₀) * ((x₃ + ((-0.63574 - (x₁ ...\n",
      "                                      * (0.70057 - x₂))) * 0.8004)) + x₂)\n",
      "21          1.381e-07  2.592e-03  y = (x₃ + (x₂ + ((-0.63525 - ((0.69885 - x₂) * x₁)) * 0.79...\n",
      "                                      868))) * ((sqrt(x₀) - x₀) + inv(0.31403))\n",
      "22          1.339e-07  3.072e-02  y = (x₂ + ((-0.57001 - ((0.63989 - x₂) * (x₁ * 0.82896))) ...\n",
      "                                      + x₃)) * ((-1.2858 - x₀) - cube(x₂ - 2.0182))\n",
      "25          1.332e-07  1.681e-03  y = ((0.10105 - x₀) - (-0.86067 * ((14.664 - x₃) + 14.664)...\n",
      "                                      )) * ((-0.57277 + (x₂ - (0.83989 * ((0.64472 - x₂) * x₁)))...\n",
      "                                      ) + x₃)\n",
      "27          1.331e-07  4.257e-04  y = (((0.10105 - x₀) - (-0.86067 * ((14.664 - x₃) + 14.664...\n",
      "                                      ))) * ((-0.57277 + (x₂ - (0.83989 * ((0.64472 - x₂) * x₁))...\n",
      "                                      )) + x₃)) + 0.93772\n",
      "───────────────────────────────────────────────────────────────────────────────────────────────────\n",
      "Current Prediction Average Error (%): 2.2375931349774647\n",
      "Best Prediction Average Error (%): 1.8215411759552953\n",
      "Current Model Formula: (x3 - (0.6374073 - x2)*(x1 - 1*(-1.0086019)))*x0*(-0.8068922)\n",
      "  - outputs/20250703_150138_FSNvun/hall_of_fame.csv\n"
     ]
    },
    {
     "name": "stderr",
     "output_type": "stream",
     "text": [
      "[ Info: Started!\n",
      "[ Info: Final population:\n",
      "[ Info: Results saved to:\n"
     ]
    },
    {
     "name": "stdout",
     "output_type": "stream",
     "text": [
      "\n",
      "Expressions evaluated per second: 1.500e+05\n",
      "Progress: 859 / 900 total iterations (95.444%)\n",
      "════════════════════════════════════════════════════════════════════════════════════════════════════\n",
      "───────────────────────────────────────────────────────────────────────────────────────────────────\n",
      "Complexity  Loss       Score      Equation\n",
      "1           6.858e-06  0.000e+00  y = 706.28\n",
      "3           4.194e-06  2.458e-01  y = x₁ * 231.57\n",
      "5           3.027e-06  1.631e-01  y = x₀ * (x₁ - x₂)\n",
      "6           2.764e-06  9.099e-02  y = x₀ * (x₁ - cbrt(x₂))\n",
      "7           7.315e-07  1.329e+00  y = (0.62083 - x₂) * (x₀ * x₁)\n",
      "9           3.671e-07  3.447e-01  y = x₀ * ((x₁ * (0.61397 - x₂)) - x₃)\n",
      "11          2.322e-07  2.290e-01  y = ((x₁ * (0.5206 - x₂)) - (x₃ - 0.46538)) * x₀\n",
      "13          1.436e-07  2.402e-01  y = (((0.59822 - x₂) * (x₁ - -0.68086)) - x₃) * (x₀ + -39....\n",
      "                                      715)\n",
      "15          1.291e-07  5.350e-02  y = (((x₁ - -0.68086) * (0.59822 - x₂)) - (x₃ - 0.12565)) ...\n",
      "                                      * (x₀ + -39.715)\n",
      "16          1.291e-07  1.192e-07  y = ((((x₁ - -0.68086) * (0.59822 - x₂)) - x₃) + cube(0.50...\n",
      "                                      086)) * (x₀ + -39.715)\n",
      "17          1.131e-07  1.319e-01  y = (((x₁ - -0.87583) * (0.6752 - x₂)) - (x₃ - 0.045981)) ...\n",
      "                                      * (x₀ + (-69.77 - x₃))\n",
      "28          1.131e-07  3.005e-05  y = ((((cbrt(x₂ - 1.3641) * 39.38) + x₀) - 1.3442) * (((0....\n",
      "                                      60693 - x₂) * (x₁ - -0.78549)) - cbrt(cube(x₃ - 0.12678)))...\n",
      "                                      ) - (2.4288 - x₁)\n",
      "───────────────────────────────────────────────────────────────────────────────────────────────────\n",
      "════════════════════════════════════════════════════════════════════════════════════════════════════\n",
      "Press 'q' and then <enter> to stop execution early.\n",
      "───────────────────────────────────────────────────────────────────────────────────────────────────\n",
      "Complexity  Loss       Score      Equation\n",
      "1           6.858e-06  0.000e+00  y = 706.28\n",
      "3           4.194e-06  2.458e-01  y = x₁ * 231.57\n",
      "5           3.027e-06  1.631e-01  y = x₀ * (x₁ - x₂)\n",
      "6           2.764e-06  9.099e-02  y = x₀ * (x₁ - cbrt(x₂))\n",
      "7           7.315e-07  1.329e+00  y = (0.62083 - x₂) * (x₀ * x₁)\n",
      "9           3.671e-07  3.447e-01  y = x₀ * ((x₁ * (0.61397 - x₂)) - x₃)\n",
      "11          2.322e-07  2.290e-01  y = ((x₁ * (0.5206 - x₂)) - (x₃ - 0.46538)) * x₀\n",
      "13          1.436e-07  2.402e-01  y = (((0.59822 - x₂) * (x₁ - -0.68086)) - x₃) * (x₀ + -39....\n",
      "                                      715)\n",
      "15          1.291e-07  5.350e-02  y = (((x₁ - -0.68086) * (0.59822 - x₂)) - (x₃ - 0.12565)) ...\n",
      "                                      * (x₀ + -39.715)\n",
      "16          1.291e-07  1.192e-07  y = ((((x₁ - -0.68086) * (0.59822 - x₂)) - x₃) + cube(0.50...\n",
      "                                      086)) * (x₀ + -39.715)\n",
      "17          1.131e-07  1.319e-01  y = (((x₁ - -0.87583) * (0.6752 - x₂)) - (x₃ - 0.045981)) ...\n",
      "                                      * (x₀ + (-69.77 - x₃))\n",
      "28          1.131e-07  3.005e-05  y = ((((cbrt(x₂ - 1.3641) * 39.38) + x₀) - 1.3442) * (((0....\n",
      "                                      60693 - x₂) * (x₁ - -0.78549)) - cbrt(cube(x₃ - 0.12678)))...\n",
      "                                      ) - (2.4288 - x₁)\n",
      "───────────────────────────────────────────────────────────────────────────────────────────────────\n",
      "Current Prediction Average Error (%): 2.1474736998997197\n",
      "Best Prediction Average Error (%): 1.8215411759552953\n",
      "Current Model Formula: (x0 - 39.714607)*(-x3 + (0.59822255 - x2)*(x1 - 1*(-0.6808639)))\n"
     ]
    },
    {
     "name": "stderr",
     "output_type": "stream",
     "text": [
      "/home/ajt6830/.local/share/mamba/envs/pysr_env/lib/python3.11/site-packages/pysr/sr.py:1270: UserWarning: `extra_sympy_mappings` cannot be pickled and will be removed from the serialized instance. When loading the model, please redefine `extra_sympy_mappings` at runtime.\n",
      "  warnings.warn(warn_msg)\n",
      "/home/ajt6830/.local/share/mamba/envs/pysr_env/lib/python3.11/site-packages/pysr/sr.py:2217: UserWarning: The discovered expressions are being reset. Please set `warm_start=True` if you wish to continue to start a search where you left off.\n",
      "  warnings.warn(\n",
      "/home/ajt6830/.local/share/mamba/envs/pysr_env/lib/python3.11/site-packages/pysr/sr.py:2811: UserWarning: Note: it looks like you are running in Jupyter. The progress bar will be turned off.\n",
      "  warnings.warn(\n",
      "[ Info: Started!\n"
     ]
    },
    {
     "name": "stdout",
     "output_type": "stream",
     "text": [
      "  - outputs/20250703_150144_RqItOL/hall_of_fame.csv\n",
      "\n",
      "Expressions evaluated per second: 1.410e+05\n",
      "Progress: 894 / 900 total iterations (99.333%)\n",
      "════════════════════════════════════════════════════════════════════════════════════════════════════\n",
      "───────────────────────────────────────────────────────────────────────────────────────────────────\n",
      "Complexity  Loss       Score      Equation\n",
      "1           6.858e-06  0.000e+00  y = 706.05\n",
      "3           4.194e-06  2.458e-01  y = x₁ * 231.56\n",
      "5           3.027e-06  1.631e-01  y = (x₁ - x₂) * x₀\n",
      "6           2.764e-06  9.099e-02  y = (x₁ - cbrt(x₂)) * x₀\n",
      "7           7.315e-07  1.329e+00  y = (x₀ * (0.62083 - x₂)) * x₁\n",
      "9           3.679e-07  3.436e-01  y = ((x₁ * (0.62166 - x₂)) - x₃) * x₀\n",
      "11          2.285e-07  2.382e-01  y = (((x₁ * (0.49636 - x₂)) - x₃) - -0.5475) * x₀\n",
      "13          1.707e-07  1.459e-01  y = (x₀ * -0.84545) * (x₃ + ((-0.75886 - x₁) * (0.63595 - ...\n",
      "                                      x₂)))\n",
      "15          1.674e-07  9.665e-03  y = ((x₃ + ((0.63344 - x₂) * (-0.9174 - x₁))) * -0.85178) ...\n",
      "                                      * (x₀ + -3.5688)\n",
      "16          1.513e-07  1.011e-01  y = (x₃ + (((inv(x₁) * -0.95741) - x₁) * (0.66538 - x₂))) ...\n",
      "                                      * (x₀ * -0.87836)\n",
      "18          1.363e-07  5.198e-02  y = ((((x₃ + x₃) * inv(x₁)) - ((0.6473 - x₂) * (x₁ - -0.63...\n",
      "                                      719))) * -0.85178) * x₀\n",
      "20          1.337e-07  9.733e-03  y = (((x₃ + x₃) * inv(x₁)) - ((0.6473 - x₂) * (x₁ - -0.637...\n",
      "                                      19))) * (-0.85178 * (x₀ - x₁))\n",
      "21          1.294e-07  3.276e-02  y = (((x₃ + (x₃ * inv(square(x₁)))) - ((0.6473 - x₂) * (x₁...\n",
      "                                       - -0.63719))) * -0.85178) * (x₀ - x₁)\n",
      "23          1.237e-07  2.248e-02  y = (x₀ - 6.0825) * ((((square(inv(x₁) - x₃) * -0.2802) + ...\n",
      "                                      x₃) - ((0.6473 - x₂) * (x₁ - -0.63719))) * -0.85178)\n",
      "26          1.228e-07  2.523e-03  y = (x₃ + (((-0.2802 * square(inv(x₁) - x₃)) - (x₁ - -0.63...\n",
      "                                      719)) * (0.6473 - x₂))) * (-0.85178 * (x₀ - (cbrt(x₀) * 1....\n",
      "                                      4097)))\n",
      "27          1.192e-07  2.945e-02  y = ((-0.85178 * (x₀ - cbrt(x₀))) * ((x₃ + (-0.2802 * squa...\n",
      "                                      re(x₃ - inv(square(x₁))))) - ((0.6473 - x₂) * (x₁ - -0.637...\n",
      "                                      19)))) - x₁\n",
      "29          1.187e-07  2.354e-03  y = ((x₃ + ((square(x₃ - square(inv(x₁))) * -0.2802) - ((x...\n",
      "                                      ₁ - -0.63719) * (0.6473 - x₂)))) * (((x₀ - cbrt(x₀)) * -0....\n",
      "                                      85178) + 1.4097)) - 1.5274\n",
      "30          1.186e-07  4.823e-04  y = (((-0.85178 * (x₀ - cbrt(x₀))) + cbrt(x₁)) * (x₃ + ((-...\n",
      "                                      0.2802 * square(x₃ - square(inv(x₁)))) - ((0.6473 - x₂) * ...\n",
      "                                      (x₁ - -0.63719))))) - x₁\n",
      "───────────────────────────────────────────────────────────────────────────────────────────────────\n",
      "════════════════════════════════════════════════════════════════════════════════════════════════════\n",
      "Press 'q' and then <enter> to stop execution early.\n",
      "───────────────────────────────────────────────────────────────────────────────────────────────────\n",
      "Complexity  Loss       Score      Equation\n",
      "1           6.858e-06  0.000e+00  y = 706.05\n",
      "3           4.194e-06  2.458e-01  y = x₁ * 231.56\n",
      "5           3.027e-06  1.631e-01  y = (x₁ - x₂) * x₀\n",
      "6           2.764e-06  9.099e-02  y = (x₁ - cbrt(x₂)) * x₀\n",
      "7           7.315e-07  1.329e+00  y = (x₀ * (0.62083 - x₂)) * x₁\n",
      "9           3.679e-07  3.436e-01  y = ((x₁ * (0.62166 - x₂)) - x₃) * x₀\n",
      "11          2.285e-07  2.382e-01  y = (((x₁ * (0.49636 - x₂)) - x₃) - -0.5475) * x₀\n",
      "13          1.707e-07  1.459e-01  y = (x₀ * -0.84545) * (x₃ + ((-0.75886 - x₁) * (0.63595 - ...\n",
      "                                      x₂)))\n",
      "15          1.674e-07  9.665e-03  y = ((x₃ + ((0.63344 - x₂) * (-0.9174 - x₁))) * -0.85178) ...\n",
      "                                      * (x₀ + -3.5688)\n",
      "16          1.513e-07  1.011e-01  y = (x₃ + (((inv(x₁) * -0.95741) - x₁) * (0.66538 - x₂))) ...\n",
      "                                      * (x₀ * -0.87836)\n",
      "18          1.363e-07  5.198e-02  y = ((((x₃ + x₃) * inv(x₁)) - ((0.6473 - x₂) * (x₁ - -0.63...\n",
      "                                      719))) * -0.85178) * x₀\n",
      "20          1.337e-07  9.733e-03  y = (((x₃ + x₃) * inv(x₁)) - ((0.6473 - x₂) * (x₁ - -0.637...\n",
      "                                      19))) * (-0.85178 * (x₀ - x₁))\n",
      "21          1.294e-07  3.276e-02  y = (((x₃ + (x₃ * inv(square(x₁)))) - ((0.6473 - x₂) * (x₁...\n",
      "                                       - -0.63719))) * -0.85178) * (x₀ - x₁)\n",
      "23          1.237e-07  2.248e-02  y = (x₀ - 6.0825) * ((((square(inv(x₁) - x₃) * -0.2802) + ...\n",
      "                                      x₃) - ((0.6473 - x₂) * (x₁ - -0.63719))) * -0.85178)\n",
      "25          1.236e-07  2.795e-04  y = (((x₀ - 6.0825) * -0.85178) * (((square(inv(x₁) - x₃) ...\n",
      "                                      * -0.2802) + x₃) - ((0.6473 - x₂) * (x₁ - -0.63719)))) - x...\n",
      "                                      ₂\n",
      "26          1.228e-07  7.009e-03  y = (x₃ + (((-0.2802 * square(inv(x₁) - x₃)) - (x₁ - -0.63...\n",
      "                                      719)) * (0.6473 - x₂))) * (-0.85178 * (x₀ - (cbrt(x₀) * 1....\n",
      "                                      4097)))\n",
      "27          1.192e-07  2.945e-02  y = ((-0.85178 * (x₀ - cbrt(x₀))) * ((x₃ + (-0.2802 * squa...\n",
      "                                      re(x₃ - inv(square(x₁))))) - ((0.6473 - x₂) * (x₁ - -0.637...\n",
      "                                      19)))) - x₁\n",
      "29          1.187e-07  2.354e-03  y = ((x₃ + ((square(x₃ - square(inv(x₁))) * -0.2802) - ((x...\n",
      "                                      ₁ - -0.63719) * (0.6473 - x₂)))) * (((x₀ - cbrt(x₀)) * -0....\n",
      "                                      85178) + 1.4097)) - 1.5274\n",
      "30          1.186e-07  4.823e-04  y = (((-0.85178 * (x₀ - cbrt(x₀))) + cbrt(x₁)) * (x₃ + ((-...\n",
      "                                      0.2802 * square(x₃ - square(inv(x₁)))) - ((0.6473 - x₂) * ...\n",
      "                                      (x₁ - -0.63719))))) - x₁\n",
      "───────────────────────────────────────────────────────────────────────────────────────────────────\n",
      "Current Prediction Average Error (%): 2.236830715558705\n",
      "Best Prediction Average Error (%): 1.8215411759552953\n",
      "Current Model Formula: x0*(-0.8454524)*(x3 + (0.6359513 - x2)*(-x1 - 0.75885653))\n"
     ]
    },
    {
     "name": "stderr",
     "output_type": "stream",
     "text": [
      "[ Info: Final population:\n",
      "[ Info: Results saved to:\n",
      "/home/ajt6830/.local/share/mamba/envs/pysr_env/lib/python3.11/site-packages/pysr/sr.py:1270: UserWarning: `extra_sympy_mappings` cannot be pickled and will be removed from the serialized instance. When loading the model, please redefine `extra_sympy_mappings` at runtime.\n",
      "  warnings.warn(warn_msg)\n",
      "/home/ajt6830/.local/share/mamba/envs/pysr_env/lib/python3.11/site-packages/pysr/sr.py:2217: UserWarning: The discovered expressions are being reset. Please set `warm_start=True` if you wish to continue to start a search where you left off.\n",
      "  warnings.warn(\n",
      "/home/ajt6830/.local/share/mamba/envs/pysr_env/lib/python3.11/site-packages/pysr/sr.py:2811: UserWarning: Note: it looks like you are running in Jupyter. The progress bar will be turned off.\n",
      "  warnings.warn(\n"
     ]
    },
    {
     "name": "stdout",
     "output_type": "stream",
     "text": [
      "  - outputs/20250703_150151_Y9OpK4/hall_of_fame.csv\n",
      "───────────────────────────────────────────────────────────────────────────────────────────────────\n",
      "Complexity  Loss       Score      Equation\n",
      "1           6.858e-06  0.000e+00  y = 706.29\n",
      "3           4.194e-06  2.458e-01  y = x₁ * 231.56\n",
      "5           3.027e-06  1.631e-01  y = x₀ * (x₁ - x₂)\n",
      "6           2.764e-06  9.099e-02  y = x₀ * (x₁ - cbrt(x₂))\n",
      "7           7.315e-07  1.329e+00  y = (0.62083 - x₂) * (x₁ * x₀)\n",
      "9           3.671e-07  3.447e-01  y = x₀ * ((x₁ * (0.61397 - x₂)) - x₃)\n",
      "11          2.285e-07  2.371e-01  y = ((((0.49629 - x₂) * x₁) - -0.54726) - x₃) * x₀\n",
      "13          2.176e-07  2.431e-02  y = (x₀ - x₁) * ((((0.52812 - x₂) * x₁) + 0.49403) - x₃)\n",
      "15          1.437e-07  2.076e-01  y = (((x₁ + (0.77383 - (x₁ * 0.21245))) * (0.66028 - x₂)) ...\n",
      "                                      - x₃) * x₀\n",
      "17          1.430e-07  2.342e-03  y = (((0.66028 - x₂) * (0.77383 + (x₁ - (x₁ * 0.21245)))) ...\n",
      "                                      - x₃) * (x₀ + -1.036)\n",
      "18          1.428e-07  1.265e-03  y = (((0.65255 - x₂) * (x₁ + (0.80315 - ((inv(x₀) - -0.209...\n",
      "                                      ) * x₁)))) - x₃) * x₀\n",
      "19          1.382e-07  3.335e-02  y = (((0.66028 - x₂) * (x₁ + (0.77383 - ((0.19946 - x₁) * ...\n",
      "                                      -0.19993)))) - x₃) * (x₀ + -7.8254)\n",
      "21          1.199e-07  7.077e-02  y = (cube(cbrt(x₂) + -2.6951) + (x₀ + -4.1413)) * (((0.614...\n",
      "                                      05 - x₂) * ((x₁ - -0.014812) + 0.75854)) - x₃)\n",
      "───────────────────────────────────────────────────────────────────────────────────────────────────\n",
      "Current Prediction Average Error (%): 2.098345965357585\n",
      "Best Prediction Average Error (%): 1.8215411759552953\n",
      "Current Model Formula: x0*(-x3 + (0.6602793 - x2)*(-0.21245454*x1 + x1 + 0.7738287))\n"
     ]
    },
    {
     "name": "stderr",
     "output_type": "stream",
     "text": [
      "[ Info: Started!\n",
      "[ Info: Final population:\n",
      "[ Info: Results saved to:\n",
      "/home/ajt6830/.local/share/mamba/envs/pysr_env/lib/python3.11/site-packages/pysr/sr.py:1270: UserWarning: `extra_sympy_mappings` cannot be pickled and will be removed from the serialized instance. When loading the model, please redefine `extra_sympy_mappings` at runtime.\n",
      "  warnings.warn(warn_msg)\n",
      "/home/ajt6830/.local/share/mamba/envs/pysr_env/lib/python3.11/site-packages/pysr/sr.py:2217: UserWarning: The discovered expressions are being reset. Please set `warm_start=True` if you wish to continue to start a search where you left off.\n",
      "  warnings.warn(\n",
      "/home/ajt6830/.local/share/mamba/envs/pysr_env/lib/python3.11/site-packages/pysr/sr.py:2811: UserWarning: Note: it looks like you are running in Jupyter. The progress bar will be turned off.\n",
      "  warnings.warn(\n"
     ]
    },
    {
     "name": "stdout",
     "output_type": "stream",
     "text": [
      "  - outputs/20250703_150157_3fz8Fb/hall_of_fame.csv\n",
      "───────────────────────────────────────────────────────────────────────────────────────────────────\n",
      "Complexity  Loss       Score      Equation\n",
      "1           6.858e-06  0.000e+00  y = 706.2\n",
      "3           4.194e-06  2.458e-01  y = x₁ * 231.56\n",
      "5           3.027e-06  1.631e-01  y = x₀ * (x₁ - x₂)\n",
      "6           2.764e-06  9.099e-02  y = (x₁ - cbrt(x₂)) * x₀\n",
      "7           7.433e-07  1.313e+00  y = x₀ * (x₁ * (0.65008 - x₂))\n",
      "9           4.820e-07  2.166e-01  y = (x₂ - 0.62048) * ((x₃ - x₁) * x₀)\n",
      "11          2.723e-07  2.856e-01  y = x₀ * (((-0.32657 - x₁) * (x₂ - 0.56931)) - x₃)\n",
      "13          1.470e-07  3.083e-01  y = (((-0.87503 - x₁) * ((x₂ - 0.65081) * 0.81553)) - x₃) ...\n",
      "                                      * x₀\n",
      "15          1.456e-07  4.799e-03  y = ((((-1.1011 - x₁) * ((x₂ - 0.67292) * 0.76012)) - x₃) ...\n",
      "                                      * x₀) - x₂\n",
      "17          1.449e-07  2.215e-03  y = ((((x₂ - 0.63975) * 0.8202) * (-0.87088 - x₁)) - x₃) *...\n",
      "                                       (x₀ - (x₂ * -3.9925))\n",
      "19          1.414e-07  1.223e-02  y = ((((x₂ - 0.64726) * 0.82777) * (-0.87277 - x₁)) - x₃) ...\n",
      "                                      * (x₀ - ((x₂ - 0.63972) * -4.4187))\n",
      "───────────────────────────────────────────────────────────────────────────────────────────────────\n",
      "Current Prediction Average Error (%): 2.0717620181657006\n",
      "Best Prediction Average Error (%): 1.8215411759552953\n",
      "Current Model Formula: x0*(-x3 + (-x1 - 0.8750292)*(x2 - 1*0.65081435)*0.8155288)\n"
     ]
    },
    {
     "name": "stderr",
     "output_type": "stream",
     "text": [
      "[ Info: Started!\n",
      "[ Info: Final population:\n",
      "[ Info: Results saved to:\n",
      "/home/ajt6830/.local/share/mamba/envs/pysr_env/lib/python3.11/site-packages/pysr/sr.py:1270: UserWarning: `extra_sympy_mappings` cannot be pickled and will be removed from the serialized instance. When loading the model, please redefine `extra_sympy_mappings` at runtime.\n",
      "  warnings.warn(warn_msg)\n",
      "/home/ajt6830/.local/share/mamba/envs/pysr_env/lib/python3.11/site-packages/pysr/sr.py:2217: UserWarning: The discovered expressions are being reset. Please set `warm_start=True` if you wish to continue to start a search where you left off.\n",
      "  warnings.warn(\n",
      "/home/ajt6830/.local/share/mamba/envs/pysr_env/lib/python3.11/site-packages/pysr/sr.py:2811: UserWarning: Note: it looks like you are running in Jupyter. The progress bar will be turned off.\n",
      "  warnings.warn(\n",
      "[ Info: Started!\n"
     ]
    },
    {
     "name": "stdout",
     "output_type": "stream",
     "text": [
      "  - outputs/20250703_150203_5oqywx/hall_of_fame.csv\n",
      "Current Prediction Average Error (%): 2.095189939287716\n",
      "Best Prediction Average Error (%): 1.8215411759552953\n",
      "Current Model Formula: x0*(-x3 + (0.51613575 - 0.78678566*x2)*(x1 + 1.009091))\n"
     ]
    },
    {
     "name": "stderr",
     "output_type": "stream",
     "text": [
      "[ Info: Final population:\n",
      "[ Info: Results saved to:\n",
      "/home/ajt6830/.local/share/mamba/envs/pysr_env/lib/python3.11/site-packages/pysr/sr.py:1270: UserWarning: `extra_sympy_mappings` cannot be pickled and will be removed from the serialized instance. When loading the model, please redefine `extra_sympy_mappings` at runtime.\n",
      "  warnings.warn(warn_msg)\n",
      "/home/ajt6830/.local/share/mamba/envs/pysr_env/lib/python3.11/site-packages/pysr/sr.py:2217: UserWarning: The discovered expressions are being reset. Please set `warm_start=True` if you wish to continue to start a search where you left off.\n",
      "  warnings.warn(\n",
      "/home/ajt6830/.local/share/mamba/envs/pysr_env/lib/python3.11/site-packages/pysr/sr.py:2811: UserWarning: Note: it looks like you are running in Jupyter. The progress bar will be turned off.\n",
      "  warnings.warn(\n",
      "[ Info: Started!\n",
      "[ Info: Final population:\n",
      "[ Info: Results saved to:\n",
      "/home/ajt6830/.local/share/mamba/envs/pysr_env/lib/python3.11/site-packages/pysr/sr.py:1270: UserWarning: `extra_sympy_mappings` cannot be pickled and will be removed from the serialized instance. When loading the model, please redefine `extra_sympy_mappings` at runtime.\n",
      "  warnings.warn(warn_msg)\n",
      "/home/ajt6830/.local/share/mamba/envs/pysr_env/lib/python3.11/site-packages/pysr/sr.py:2217: UserWarning: The discovered expressions are being reset. Please set `warm_start=True` if you wish to continue to start a search where you left off.\n",
      "  warnings.warn(\n",
      "/home/ajt6830/.local/share/mamba/envs/pysr_env/lib/python3.11/site-packages/pysr/sr.py:2811: UserWarning: Note: it looks like you are running in Jupyter. The progress bar will be turned off.\n",
      "  warnings.warn(\n"
     ]
    },
    {
     "name": "stdout",
     "output_type": "stream",
     "text": [
      "Current Prediction Average Error (%): 2.0659163308786654\n",
      "Best Prediction Average Error (%): 1.8215411759552953\n",
      "Current Model Formula: (x0 - 59.88122)*(-x3 + (0.67620933 - x2)*(x1 + 0.73085225))\n"
     ]
    },
    {
     "name": "stderr",
     "output_type": "stream",
     "text": [
      "[ Info: Started!\n",
      "[ Info: Final population:\n",
      "[ Info: Results saved to:\n",
      "/home/ajt6830/.local/share/mamba/envs/pysr_env/lib/python3.11/site-packages/pysr/sr.py:1270: UserWarning: `extra_sympy_mappings` cannot be pickled and will be removed from the serialized instance. When loading the model, please redefine `extra_sympy_mappings` at runtime.\n",
      "  warnings.warn(warn_msg)\n",
      "/home/ajt6830/.local/share/mamba/envs/pysr_env/lib/python3.11/site-packages/pysr/sr.py:2217: UserWarning: The discovered expressions are being reset. Please set `warm_start=True` if you wish to continue to start a search where you left off.\n",
      "  warnings.warn(\n",
      "/home/ajt6830/.local/share/mamba/envs/pysr_env/lib/python3.11/site-packages/pysr/sr.py:2811: UserWarning: Note: it looks like you are running in Jupyter. The progress bar will be turned off.\n",
      "  warnings.warn(\n"
     ]
    },
    {
     "name": "stdout",
     "output_type": "stream",
     "text": [
      "Current Prediction Average Error (%): 2.0449880280125075\n",
      "Best Prediction Average Error (%): 1.8215411759552953\n",
      "Current Model Formula: (x0 - 1*23.440147)*(-x3 + (0.6522106 - x2)*(-0.12757841*x1 + x1 + 0.7667311))\n"
     ]
    },
    {
     "name": "stderr",
     "output_type": "stream",
     "text": [
      "[ Info: Started!\n",
      "[ Info: Final population:\n",
      "[ Info: Results saved to:\n",
      "/home/ajt6830/.local/share/mamba/envs/pysr_env/lib/python3.11/site-packages/pysr/sr.py:1270: UserWarning: `extra_sympy_mappings` cannot be pickled and will be removed from the serialized instance. When loading the model, please redefine `extra_sympy_mappings` at runtime.\n",
      "  warnings.warn(warn_msg)\n",
      "/home/ajt6830/.local/share/mamba/envs/pysr_env/lib/python3.11/site-packages/pysr/sr.py:2217: UserWarning: The discovered expressions are being reset. Please set `warm_start=True` if you wish to continue to start a search where you left off.\n",
      "  warnings.warn(\n",
      "/home/ajt6830/.local/share/mamba/envs/pysr_env/lib/python3.11/site-packages/pysr/sr.py:2811: UserWarning: Note: it looks like you are running in Jupyter. The progress bar will be turned off.\n",
      "  warnings.warn(\n"
     ]
    },
    {
     "name": "stdout",
     "output_type": "stream",
     "text": [
      "Current Prediction Average Error (%): 2.137519417566518\n",
      "Best Prediction Average Error (%): 1.8215411759552953\n",
      "Current Model Formula: x0*(-x3 + (-x1 - 1.0687667)*(x2*0.7730337 - 1*0.5089147)) - (x1 + x3)\n"
     ]
    },
    {
     "name": "stderr",
     "output_type": "stream",
     "text": [
      "[ Info: Started!\n",
      "[ Info: Final population:\n",
      "[ Info: Results saved to:\n",
      "/home/ajt6830/.local/share/mamba/envs/pysr_env/lib/python3.11/site-packages/pysr/sr.py:1270: UserWarning: `extra_sympy_mappings` cannot be pickled and will be removed from the serialized instance. When loading the model, please redefine `extra_sympy_mappings` at runtime.\n",
      "  warnings.warn(warn_msg)\n",
      "/home/ajt6830/.local/share/mamba/envs/pysr_env/lib/python3.11/site-packages/pysr/sr.py:2217: UserWarning: The discovered expressions are being reset. Please set `warm_start=True` if you wish to continue to start a search where you left off.\n",
      "  warnings.warn(\n",
      "/home/ajt6830/.local/share/mamba/envs/pysr_env/lib/python3.11/site-packages/pysr/sr.py:2811: UserWarning: Note: it looks like you are running in Jupyter. The progress bar will be turned off.\n",
      "  warnings.warn(\n"
     ]
    },
    {
     "name": "stdout",
     "output_type": "stream",
     "text": [
      "Current Prediction Average Error (%): 2.1141517088583366\n",
      "Best Prediction Average Error (%): 1.8215411759552953\n",
      "Current Model Formula: (x0 - 1*69.16492)*(-x3 + (0.6811802 - x2)*(x1 - 1*(-0.92053765)))\n"
     ]
    },
    {
     "name": "stderr",
     "output_type": "stream",
     "text": [
      "[ Info: Started!\n",
      "[ Info: Final population:\n",
      "[ Info: Results saved to:\n",
      "/home/ajt6830/.local/share/mamba/envs/pysr_env/lib/python3.11/site-packages/pysr/sr.py:1270: UserWarning: `extra_sympy_mappings` cannot be pickled and will be removed from the serialized instance. When loading the model, please redefine `extra_sympy_mappings` at runtime.\n",
      "  warnings.warn(warn_msg)\n",
      "/home/ajt6830/.local/share/mamba/envs/pysr_env/lib/python3.11/site-packages/pysr/sr.py:2217: UserWarning: The discovered expressions are being reset. Please set `warm_start=True` if you wish to continue to start a search where you left off.\n",
      "  warnings.warn(\n",
      "/home/ajt6830/.local/share/mamba/envs/pysr_env/lib/python3.11/site-packages/pysr/sr.py:2811: UserWarning: Note: it looks like you are running in Jupyter. The progress bar will be turned off.\n",
      "  warnings.warn(\n"
     ]
    },
    {
     "name": "stdout",
     "output_type": "stream",
     "text": [
      "Current Prediction Average Error (%): 2.063229689044101\n",
      "Best Prediction Average Error (%): 1.8215411759552953\n",
      "Current Model Formula: x0*(-x3 + (0.6259267 - x2)*(x1 + 1/x1)*0.9266015)\n"
     ]
    },
    {
     "name": "stderr",
     "output_type": "stream",
     "text": [
      "[ Info: Started!\n",
      "[ Info: Final population:\n",
      "[ Info: Results saved to:\n",
      "/home/ajt6830/.local/share/mamba/envs/pysr_env/lib/python3.11/site-packages/pysr/sr.py:1270: UserWarning: `extra_sympy_mappings` cannot be pickled and will be removed from the serialized instance. When loading the model, please redefine `extra_sympy_mappings` at runtime.\n",
      "  warnings.warn(warn_msg)\n",
      "/home/ajt6830/.local/share/mamba/envs/pysr_env/lib/python3.11/site-packages/pysr/sr.py:2217: UserWarning: The discovered expressions are being reset. Please set `warm_start=True` if you wish to continue to start a search where you left off.\n",
      "  warnings.warn(\n",
      "/home/ajt6830/.local/share/mamba/envs/pysr_env/lib/python3.11/site-packages/pysr/sr.py:2811: UserWarning: Note: it looks like you are running in Jupyter. The progress bar will be turned off.\n",
      "  warnings.warn(\n"
     ]
    },
    {
     "name": "stdout",
     "output_type": "stream",
     "text": [
      "Current Prediction Average Error (%): 2.4104765178880343\n",
      "Best Prediction Average Error (%): 1.8215411759552953\n",
      "Current Model Formula: x0*(x2**3 - (x3 - 0.87079614*(0.57486874 - x2)*(x1 - 1*(-1.1378067))))\n"
     ]
    },
    {
     "name": "stderr",
     "output_type": "stream",
     "text": [
      "[ Info: Started!\n",
      "[ Info: Final population:\n",
      "[ Info: Results saved to:\n",
      "/home/ajt6830/.local/share/mamba/envs/pysr_env/lib/python3.11/site-packages/pysr/sr.py:1270: UserWarning: `extra_sympy_mappings` cannot be pickled and will be removed from the serialized instance. When loading the model, please redefine `extra_sympy_mappings` at runtime.\n",
      "  warnings.warn(warn_msg)\n",
      "/home/ajt6830/.local/share/mamba/envs/pysr_env/lib/python3.11/site-packages/pysr/sr.py:2217: UserWarning: The discovered expressions are being reset. Please set `warm_start=True` if you wish to continue to start a search where you left off.\n",
      "  warnings.warn(\n",
      "/home/ajt6830/.local/share/mamba/envs/pysr_env/lib/python3.11/site-packages/pysr/sr.py:2811: UserWarning: Note: it looks like you are running in Jupyter. The progress bar will be turned off.\n",
      "  warnings.warn(\n"
     ]
    },
    {
     "name": "stdout",
     "output_type": "stream",
     "text": [
      "Current Prediction Average Error (%): 2.0487733159339436\n",
      "Best Prediction Average Error (%): 1.8215411759552953\n",
      "Current Model Formula: (62.7906 - x0)*(x3 + (0.65950227 - x2)*(-x1 - 0.922795))\n"
     ]
    },
    {
     "name": "stderr",
     "output_type": "stream",
     "text": [
      "[ Info: Started!\n",
      "[ Info: Final population:\n",
      "[ Info: Results saved to:\n",
      "/home/ajt6830/.local/share/mamba/envs/pysr_env/lib/python3.11/site-packages/pysr/sr.py:1270: UserWarning: `extra_sympy_mappings` cannot be pickled and will be removed from the serialized instance. When loading the model, please redefine `extra_sympy_mappings` at runtime.\n",
      "  warnings.warn(warn_msg)\n",
      "/home/ajt6830/.local/share/mamba/envs/pysr_env/lib/python3.11/site-packages/pysr/sr.py:2217: UserWarning: The discovered expressions are being reset. Please set `warm_start=True` if you wish to continue to start a search where you left off.\n",
      "  warnings.warn(\n",
      "/home/ajt6830/.local/share/mamba/envs/pysr_env/lib/python3.11/site-packages/pysr/sr.py:2811: UserWarning: Note: it looks like you are running in Jupyter. The progress bar will be turned off.\n",
      "  warnings.warn(\n"
     ]
    },
    {
     "name": "stdout",
     "output_type": "stream",
     "text": [
      "Current Prediction Average Error (%): 2.058051626727603\n",
      "Best Prediction Average Error (%): 1.8215411759552953\n",
      "Current Model Formula: x0*(-x3 + (x1 + 0.89518744)*(x2*(-0.8292903) - 1*(-0.52579755)))\n"
     ]
    },
    {
     "name": "stderr",
     "output_type": "stream",
     "text": [
      "[ Info: Started!\n",
      "[ Info: Final population:\n",
      "[ Info: Results saved to:\n",
      "/home/ajt6830/.local/share/mamba/envs/pysr_env/lib/python3.11/site-packages/pysr/sr.py:1270: UserWarning: `extra_sympy_mappings` cannot be pickled and will be removed from the serialized instance. When loading the model, please redefine `extra_sympy_mappings` at runtime.\n",
      "  warnings.warn(warn_msg)\n",
      "/home/ajt6830/.local/share/mamba/envs/pysr_env/lib/python3.11/site-packages/pysr/sr.py:2217: UserWarning: The discovered expressions are being reset. Please set `warm_start=True` if you wish to continue to start a search where you left off.\n",
      "  warnings.warn(\n",
      "/home/ajt6830/.local/share/mamba/envs/pysr_env/lib/python3.11/site-packages/pysr/sr.py:2811: UserWarning: Note: it looks like you are running in Jupyter. The progress bar will be turned off.\n",
      "  warnings.warn(\n"
     ]
    },
    {
     "name": "stdout",
     "output_type": "stream",
     "text": [
      "Current Prediction Average Error (%): 2.020308533621869\n",
      "Best Prediction Average Error (%): 1.8215411759552953\n",
      "Current Model Formula: (x0 - 1*60.151627)*(-x3 + (0.65926594 - x2)*(x1 - 1*(-0.8464105)))\n"
     ]
    },
    {
     "name": "stderr",
     "output_type": "stream",
     "text": [
      "[ Info: Started!\n",
      "[ Info: Final population:\n",
      "[ Info: Results saved to:\n",
      "/home/ajt6830/.local/share/mamba/envs/pysr_env/lib/python3.11/site-packages/pysr/sr.py:1270: UserWarning: `extra_sympy_mappings` cannot be pickled and will be removed from the serialized instance. When loading the model, please redefine `extra_sympy_mappings` at runtime.\n",
      "  warnings.warn(warn_msg)\n",
      "/home/ajt6830/.local/share/mamba/envs/pysr_env/lib/python3.11/site-packages/pysr/sr.py:2217: UserWarning: The discovered expressions are being reset. Please set `warm_start=True` if you wish to continue to start a search where you left off.\n",
      "  warnings.warn(\n",
      "/home/ajt6830/.local/share/mamba/envs/pysr_env/lib/python3.11/site-packages/pysr/sr.py:2811: UserWarning: Note: it looks like you are running in Jupyter. The progress bar will be turned off.\n",
      "  warnings.warn(\n"
     ]
    },
    {
     "name": "stdout",
     "output_type": "stream",
     "text": [
      "Current Prediction Average Error (%): 2.2759076172879324\n",
      "Best Prediction Average Error (%): 1.8215411759552953\n",
      "Current Model Formula: x0*(x1 - x3 + (-x2 - 0.55697536)*(x1*0.921583 + 0.52547777) + 0.8692176)\n"
     ]
    },
    {
     "name": "stderr",
     "output_type": "stream",
     "text": [
      "[ Info: Started!\n",
      "[ Info: Final population:\n",
      "[ Info: Results saved to:\n",
      "/home/ajt6830/.local/share/mamba/envs/pysr_env/lib/python3.11/site-packages/pysr/sr.py:1270: UserWarning: `extra_sympy_mappings` cannot be pickled and will be removed from the serialized instance. When loading the model, please redefine `extra_sympy_mappings` at runtime.\n",
      "  warnings.warn(warn_msg)\n",
      "/home/ajt6830/.local/share/mamba/envs/pysr_env/lib/python3.11/site-packages/pysr/sr.py:2217: UserWarning: The discovered expressions are being reset. Please set `warm_start=True` if you wish to continue to start a search where you left off.\n",
      "  warnings.warn(\n",
      "/home/ajt6830/.local/share/mamba/envs/pysr_env/lib/python3.11/site-packages/pysr/sr.py:2811: UserWarning: Note: it looks like you are running in Jupyter. The progress bar will be turned off.\n",
      "  warnings.warn(\n"
     ]
    },
    {
     "name": "stdout",
     "output_type": "stream",
     "text": [
      "Current Prediction Average Error (%): 2.0394694233608077\n",
      "Best Prediction Average Error (%): 1.8215411759552953\n",
      "Current Model Formula: (x0 - 62.287495)*(-x3 + (0.666988 - x2)*(x1 + 0.83711493))\n"
     ]
    },
    {
     "name": "stderr",
     "output_type": "stream",
     "text": [
      "[ Info: Started!\n",
      "[ Info: Final population:\n",
      "[ Info: Results saved to:\n",
      "/home/ajt6830/.local/share/mamba/envs/pysr_env/lib/python3.11/site-packages/pysr/sr.py:1270: UserWarning: `extra_sympy_mappings` cannot be pickled and will be removed from the serialized instance. When loading the model, please redefine `extra_sympy_mappings` at runtime.\n",
      "  warnings.warn(warn_msg)\n",
      "/home/ajt6830/.local/share/mamba/envs/pysr_env/lib/python3.11/site-packages/pysr/sr.py:2217: UserWarning: The discovered expressions are being reset. Please set `warm_start=True` if you wish to continue to start a search where you left off.\n",
      "  warnings.warn(\n",
      "/home/ajt6830/.local/share/mamba/envs/pysr_env/lib/python3.11/site-packages/pysr/sr.py:2811: UserWarning: Note: it looks like you are running in Jupyter. The progress bar will be turned off.\n",
      "  warnings.warn(\n"
     ]
    },
    {
     "name": "stdout",
     "output_type": "stream",
     "text": [
      "Current Prediction Average Error (%): 2.0338049266767877\n",
      "Best Prediction Average Error (%): 1.8215411759552953\n",
      "Current Model Formula: (x0 - 62.119144)*(-x3 + (0.65541965 - x2)*(x1 + 0.9041269))\n"
     ]
    },
    {
     "name": "stderr",
     "output_type": "stream",
     "text": [
      "[ Info: Started!\n",
      "[ Info: Final population:\n",
      "[ Info: Results saved to:\n",
      "/home/ajt6830/.local/share/mamba/envs/pysr_env/lib/python3.11/site-packages/pysr/sr.py:1270: UserWarning: `extra_sympy_mappings` cannot be pickled and will be removed from the serialized instance. When loading the model, please redefine `extra_sympy_mappings` at runtime.\n",
      "  warnings.warn(warn_msg)\n",
      "/home/ajt6830/.local/share/mamba/envs/pysr_env/lib/python3.11/site-packages/pysr/sr.py:2217: UserWarning: The discovered expressions are being reset. Please set `warm_start=True` if you wish to continue to start a search where you left off.\n",
      "  warnings.warn(\n",
      "/home/ajt6830/.local/share/mamba/envs/pysr_env/lib/python3.11/site-packages/pysr/sr.py:2811: UserWarning: Note: it looks like you are running in Jupyter. The progress bar will be turned off.\n",
      "  warnings.warn(\n"
     ]
    },
    {
     "name": "stdout",
     "output_type": "stream",
     "text": [
      "Current Prediction Average Error (%): 2.2474163638085103\n",
      "Best Prediction Average Error (%): 1.8215411759552953\n",
      "Current Model Formula: x0*(-x3 + (0.5652744 - x2)*(x1 + 1/x1))\n"
     ]
    },
    {
     "name": "stderr",
     "output_type": "stream",
     "text": [
      "[ Info: Started!\n",
      "[ Info: Final population:\n",
      "[ Info: Results saved to:\n",
      "/home/ajt6830/.local/share/mamba/envs/pysr_env/lib/python3.11/site-packages/pysr/sr.py:1270: UserWarning: `extra_sympy_mappings` cannot be pickled and will be removed from the serialized instance. When loading the model, please redefine `extra_sympy_mappings` at runtime.\n",
      "  warnings.warn(warn_msg)\n",
      "/home/ajt6830/.local/share/mamba/envs/pysr_env/lib/python3.11/site-packages/pysr/sr.py:2217: UserWarning: The discovered expressions are being reset. Please set `warm_start=True` if you wish to continue to start a search where you left off.\n",
      "  warnings.warn(\n",
      "/home/ajt6830/.local/share/mamba/envs/pysr_env/lib/python3.11/site-packages/pysr/sr.py:2811: UserWarning: Note: it looks like you are running in Jupyter. The progress bar will be turned off.\n",
      "  warnings.warn(\n"
     ]
    },
    {
     "name": "stdout",
     "output_type": "stream",
     "text": [
      "Current Prediction Average Error (%): 2.0659249010775715\n",
      "Best Prediction Average Error (%): 1.8215411759552953\n",
      "Current Model Formula: (x0 - 42.577225)*(-x3 + (0.6764746 - x2)*(x1 + 1/x1))\n"
     ]
    },
    {
     "name": "stderr",
     "output_type": "stream",
     "text": [
      "[ Info: Started!\n",
      "[ Info: Final population:\n",
      "[ Info: Results saved to:\n",
      "/home/ajt6830/.local/share/mamba/envs/pysr_env/lib/python3.11/site-packages/pysr/sr.py:1270: UserWarning: `extra_sympy_mappings` cannot be pickled and will be removed from the serialized instance. When loading the model, please redefine `extra_sympy_mappings` at runtime.\n",
      "  warnings.warn(warn_msg)\n",
      "/home/ajt6830/.local/share/mamba/envs/pysr_env/lib/python3.11/site-packages/pysr/sr.py:2217: UserWarning: The discovered expressions are being reset. Please set `warm_start=True` if you wish to continue to start a search where you left off.\n",
      "  warnings.warn(\n",
      "/home/ajt6830/.local/share/mamba/envs/pysr_env/lib/python3.11/site-packages/pysr/sr.py:2811: UserWarning: Note: it looks like you are running in Jupyter. The progress bar will be turned off.\n",
      "  warnings.warn(\n"
     ]
    },
    {
     "name": "stdout",
     "output_type": "stream",
     "text": [
      "Current Prediction Average Error (%): 2.0226833752115243\n",
      "Best Prediction Average Error (%): 1.8215411759552953\n",
      "Current Model Formula: (x0 - 1.0931121*32.328312)*(-x3 + (0.649668 - x2)*(x1 + 1/x1))\n"
     ]
    },
    {
     "name": "stderr",
     "output_type": "stream",
     "text": [
      "[ Info: Started!\n",
      "[ Info: Final population:\n",
      "[ Info: Results saved to:\n",
      "/home/ajt6830/.local/share/mamba/envs/pysr_env/lib/python3.11/site-packages/pysr/sr.py:1270: UserWarning: `extra_sympy_mappings` cannot be pickled and will be removed from the serialized instance. When loading the model, please redefine `extra_sympy_mappings` at runtime.\n",
      "  warnings.warn(warn_msg)\n",
      "/home/ajt6830/.local/share/mamba/envs/pysr_env/lib/python3.11/site-packages/pysr/sr.py:2217: UserWarning: The discovered expressions are being reset. Please set `warm_start=True` if you wish to continue to start a search where you left off.\n",
      "  warnings.warn(\n",
      "/home/ajt6830/.local/share/mamba/envs/pysr_env/lib/python3.11/site-packages/pysr/sr.py:2811: UserWarning: Note: it looks like you are running in Jupyter. The progress bar will be turned off.\n",
      "  warnings.warn(\n"
     ]
    },
    {
     "name": "stdout",
     "output_type": "stream",
     "text": [
      "Current Prediction Average Error (%): 2.0874849706325853\n",
      "Best Prediction Average Error (%): 1.8215411759552953\n",
      "Current Model Formula: x0*(-x3 + (0.65228665 - x2)*(x1 - 1*(-0.99303))*0.7919869)\n"
     ]
    }
   ],
   "source": [
    "\n",
    "#Here, we fit to the residuals between the Newtonian predictions for common horizon time and the common horizon times found by simulation. This model\n",
    "#uses regular mass ratio as a parameter, and all plots are made with mass ratio q\n",
    "\n",
    "num = 100\n",
    "Newt_Residual = Newtonian_CHT([ref_orb_period, df_7[\"reference_mass_ratio\"]]) - CHT\n",
    "init_param = np.column_stack((ref_orb_period, df_7[\"reference_mass_ratio\"], df_7[\"reference_dimensionless_spin1_z\"], df_7[\"reference_dimensionless_spin2_z\"]))\n",
    "\n",
    "for i in range(num):\n",
    "    model.fit(init_param, Newt_Residual, weights = CHT)\n",
    "    Residual_pred = model.predict(init_param)\n",
    "    current_avg_error = 100*np.sqrt(np.power((Newt_Residual - Residual_pred)/CHT, 2)).mean() \n",
    "    \n",
    "    print(\"Current Prediction Average Error (%):\", current_avg_error)\n",
    "    print(\"Best Prediction Average Error (%):\", best_avg_error)\n",
    "    print(\"Current Model Formula:\", model.sympy())\n",
    "    plt.scatter(df_7[\"reference_mass_ratio\"], 100*(Newt_Residual - Residual_pred)/CHT, marker = \".\", label = \"PySR\")\n",
    "    plt.xlabel(\"q\")\n",
    "    plt.ylabel(\"Error in CHT (%)\")\n",
    "    plt.title(\"Percent Residuals\")\n",
    "\n",
    "    if current_avg_error < best_avg_error:\n",
    "        best_avg_error = current_avg_error\n",
    "        plt.savefig(f\"spin_model_{round(best_avg_error, 3)}.png\")\n",
    "        with open(f'spin_model_{round(best_avg_error, 3)}.pk', 'wb') as best_model_file: #We create a pickle file called 'best_model.pk' that we want to write into and call it best_model_file\n",
    "            pickle.dump(model, best_model_file) #We write the current state of the model to the pickle file created above\n",
    "    elif current_avg_error < 1.5*best_avg_error:\n",
    "        plt.savefig(f\"spin_model_{round(current_avg_error, 3)}.png\")\n",
    "        with open(f'spin_model_{round(current_avg_error, 3)}.pk', 'wb') as good_model_file:\n",
    "            pickle.dump(model, good_model_file)\n",
    "\n",
    "    plt.close()"
   ]
  },
  {
   "cell_type": "code",
   "execution_count": 15,
   "id": "6c1df09e-848d-464c-baf3-2f1607908938",
   "metadata": {},
   "outputs": [
    {
     "data": {
      "text/latex": [
       "$\\displaystyle \\sqrt{\\frac{13.208489 x_{0}^{\\frac{3}{2}}}{x_{1}} - 13.208489 x_{1}^{2} \\left(656.6745 - 0.033914566 x_{0}^{2}\\right)}$"
      ],
      "text/plain": [
       "sqrt(13.208489*x0**(3/2)/x1 - 13.208489*x1**2*(656.6745 - 0.033914566*x0**2))"
      ]
     },
     "execution_count": 15,
     "metadata": {},
     "output_type": "execute_result"
    }
   ],
   "source": [
    "with open(\"best_model_0.446.pk\", 'rb') as file: #Open the saved model file and store that data under the name 'file'\n",
    "    loaded_model = pickle.load(file) #Use Pickle module to load data into usable format and put that into loaded_model variable\n",
    "\n",
    "loaded_model.sympy()\n",
    "\n",
    "#\\sqrt{\\frac{13.21 \\tau^\\frac{3}{2}}{q} - 13.21q^2(656.67 - 0.03 \\tau^2}"
   ]
  },
  {
   "cell_type": "code",
   "execution_count": 16,
   "id": "e6db17e5-b13c-47bc-899d-6a719dbe75bb",
   "metadata": {},
   "outputs": [
    {
     "data": {
      "image/png": "[encoded data removed]",
      "text/plain": [
       "<Figure size 640x480 with 1 Axes>"
      ]
     },
     "metadata": {},
     "output_type": "display_data"
    }
   ],
   "source": [
    "direct_corrections = loaded_model.predict(init_param)\n",
    "\n",
    "plt.scatter(df_7[\"reference_mass_ratio\"], 100*(Newtonian_CHT([ref_orb_period, df_7[\"reference_mass_ratio\"]]) - direct_corrections - CHT)/CHT)\n",
    "plt.axhline(0, linestyle = '--')\n",
    "plt.xlabel(\"Mass Ratio\")\n",
    "plt.ylabel(\"Residual (%)\")\n",
    "plt.title(\"Newtonian Percent Residuals w/Direct Corrections\")\n",
    "plt.savefig(r\"Newtonian_Percent_Residuals_with_Direct_Corrections.png\")\n",
    "#I suppose it makes sense that my model fitted to non-spinning black hole mergers doesn't do very well when I test it on black holes with nonzero spin"
   ]
  },
  {
   "cell_type": "code",
   "execution_count": null,
   "id": "299227df-e9bd-44b0-aa91-d1a516c096c0",
   "metadata": {},
   "outputs": [],
   "source": []
  }
 ],
 "metadata": {
  "kernelspec": {
   "display_name": "Python 3 (ipykernel)",
   "language": "python",
   "name": "python3"
  },
  "language_info": {
   "codemirror_mode": {
    "name": "ipython",
    "version": 3
   },
   "file_extension": ".py",
   "mimetype": "text/x-python",
   "name": "python",
   "nbconvert_exporter": "python",
   "pygments_lexer": "ipython3",
   "version": "3.11.13"
  }
 },
 "nbformat": 4,
 "nbformat_minor": 5
}
