{
 "cells": [
  {
   "cell_type": "code",
   "execution_count": 1,
   "id": "633e5d27-84d1-47e6-976a-2b5d324247ff",
   "metadata": {},
   "outputs": [],
   "source": [
    "import sxs\n",
    "sxs.write_config(download=True, cache=True, auto_supersede=False)\n",
    "import matplotlib.pyplot as plt\n",
    "import pandas as pd\n",
    "import seaborn as sns\n",
    "import numpy as np"
   ]
  },
  {
   "cell_type": "code",
   "execution_count": 2,
   "id": "e047dda7-6110-4517-bea8-5cdee430d3f2",
   "metadata": {},
   "outputs": [
    {
     "name": "stdout",
     "output_type": "stream",
     "text": [
      "Loading SXS simulations using latest tag 'v3.0.0', published at 2025-05-14T18:17:30Z.\n"
     ]
    }
   ],
   "source": [
    "df = sxs.load(\"dataframe\")"
   ]
  },
  {
   "cell_type": "code",
   "execution_count": 39,
   "id": "4854d959-c046-4864-ac35-b7656fc84345",
   "metadata": {},
   "outputs": [],
   "source": [
    "def get_common_horizon_time(ID_num):\n",
    "    event_param = {}\n",
    "    event = sxs.load(f\"SXS:BBH:{ID_num}\", ignore_deprecation=True)\n",
    "    horizons = event.horizons\n",
    "    event_param[\"Reference Separation\"] = float(df.loc[f\"SXS:BBH:{ID_num}\", \"reference_separation\"])\n",
    "    event_param[\"Eccentricity\"] = float(df.loc[f\"SXS:BBH:{ID_num}\", \"reference_eccentricity\"])\n",
    "    event_param[\"Mass Ratio\"] = float(df.loc[f\"SXS:BBH:{ID_num}\", \"reference_mass_ratio\"])\n",
    "    event_param[\"Reference Time\"] = float(df.loc[f\"SXS:BBH:{ID_num}\", \"reference_time\"])\n",
    "    #event_param[\"Reference Time of Common Horizon\"] = float(horizons.C.time[0] - df.loc[f\"SXS:BBH:{ID_num}\", \"reference_time\"])\n",
    "    event_param[\"Reference Time of Common Horizon\"] = float(df.loc[f\"SXS:BBH:{ID_num}\", \"common_horizon_time\"] - df.loc[f\"SXS:BBH:{ID_num}\", \"reference_time\"])\n",
    "    return event_param\n",
    "\n",
    "#Note that there is a distinction between parameters values at the \"reference time\" and at t = 0. Most of the time, the reference time describes \n",
    "#approximately when unphysical, gravitational \"junk radiation\" from the simulation's initial setup dies down, so the signal at this point onward is more\n",
    "#reliable for data.\n",
    "\n",
    "#Note also that dimensional metadata and horizon quantities, like the individual christodoulou masses of the black holes prior to merger, are in code units\n",
    "#that are slightly different from the dimensionless units of the strain data. Like the strain data is usually plotted on the y-axis scaled with rh/M where\n",
    "#r is the areal radius (r = a(t)R where a(t) is the scale factor) and h is the strain evaluated at null infinity. M is the sum of the Christodoulou masses \n",
    "#at the reference time, but it turns out that the difference in units between the dimensionless and dimensionful quantities may cause M and M_1 + M_2 to\n",
    "#disagree"
   ]
  },
  {
   "cell_type": "code",
   "execution_count": 40,
   "id": "b0d74108-95f4-41b4-9da9-1fda57db5faa",
   "metadata": {},
   "outputs": [
    {
     "data": {
      "text/plain": [
       "{'Reference Separation': 8.084836213731462,\n",
       " 'Eccentricity': 0.8607248,\n",
       " 'Mass Ratio': 5.000312512766477,\n",
       " 'Reference Time': 700.0,\n",
       " 'Reference Time of Common Horizon': 253.73313994505304}"
      ]
     },
     "execution_count": 40,
     "metadata": {},
     "output_type": "execute_result"
    }
   ],
   "source": [
    "get_common_horizon_time(3620)"
   ]
  },
  {
   "cell_type": "code",
   "execution_count": 28,
   "id": "21521401-56fa-486a-8a6c-06c178aeb5bc",
   "metadata": {},
   "outputs": [
    {
     "data": {
      "text/plain": [
       "deprecated                                                                       True\n",
       "reference_mass_ratio                                                         5.000313\n",
       "reference_chi_eff                                                           -0.175353\n",
       "reference_chi1_perp                                                          0.434717\n",
       "reference_chi2_perp                                                           0.00004\n",
       "reference_eccentricity                                                       0.860725\n",
       "reference_eccentricity_bound                                                 0.860725\n",
       "reference_time                                                                  700.0\n",
       "reference_dimensionless_spin1_x                                              0.454927\n",
       "reference_dimensionless_spin1_y                                              0.133866\n",
       "reference_dimensionless_spin1_z                                             -0.091473\n",
       "reference_dimensionless_spin1_mag                                            0.482956\n",
       "reference_dimensionless_spin1           [0.45492705146348306, 0.13386639736979608,...\n",
       "reference_dimensionless_spin2_x                                              0.000051\n",
       "reference_dimensionless_spin2_y                                               0.00004\n",
       "reference_dimensionless_spin2_z                                             -0.000107\n",
       "reference_dimensionless_spin2_mag                                            0.000125\n",
       "reference_dimensionless_spin2           [5.063290397595585e-05, 4.0110528872530216...\n",
       "reference_mean_anomaly                                                       3.303059\n",
       "reference_orbital_frequency_x                                               -0.006191\n",
       "reference_orbital_frequency_y                                               -0.022018\n",
       "reference_orbital_frequency_z                                                0.036958\n",
       "reference_orbital_frequency_mag                                              0.043463\n",
       "reference_orbital_frequency             [-0.006190751591349318, -0.022018072342439...\n",
       "reference_separation                                                         8.084836\n",
       "reference_position1                     [1.1515850250920687, -0.7168667374410241, ...\n",
       "reference_position2                     [-5.734188056890118, 3.3291856432094105, 1...\n",
       "reference_mass1                                                              0.833389\n",
       "reference_mass2                                                              0.166667\n",
       "reference_chi1_mag                                                           0.482956\n",
       "                                                            ...                      \n",
       "initial_ADM_linear_momentum             [-5.7052553e-09, -1.1581997e-09, 2.9778356...\n",
       "initial_ADM_angular_momentum_x                                               0.238283\n",
       "initial_ADM_angular_momentum_y                                              -0.180938\n",
       "initial_ADM_angular_momentum_z                                               0.392538\n",
       "initial_ADM_angular_momentum_mag                                             0.493562\n",
       "initial_ADM_angular_momentum            [0.238282785593638, -0.180937963681768, 0....\n",
       "initial_mass1                                                                0.833333\n",
       "initial_mass2                                                                0.166667\n",
       "initial_mass_ratio                                                                5.0\n",
       "initial_dimensionless_spin1_x                                                   0.343\n",
       "initial_dimensionless_spin1_y                                                  -0.269\n",
       "initial_dimensionless_spin1_z                                                  -0.208\n",
       "initial_dimensionless_spin1_mag                                              0.482984\n",
       "initial_dimensionless_spin1             [0.3430000006265226, -0.2690000015695022, ...\n",
       "initial_dimensionless_spin2_x                                                0.000005\n",
       "initial_dimensionless_spin2_y                                                0.000004\n",
       "initial_dimensionless_spin2_z                                                0.000004\n",
       "initial_dimensionless_spin2_mag                                              0.000008\n",
       "initial_dimensionless_spin2             [5.3512052691e-06, 4.2292480711e-06, 4.100...\n",
       "initial_position1                       [1.6038814131133674, 0.0312553658658585, 0...\n",
       "initial_position2                       [-7.896118586886633, 0.0312553658658585, 0...\n",
       "number_of_orbits                                                             6.583985\n",
       "number_of_orbits_from_start                                                       NaN\n",
       "number_of_orbits_from_reference_time                                              NaN\n",
       "DOI_versions                                                                 [, v2.0]\n",
       "keywords                                                                 [deprecated]\n",
       "date_link_earliest                                                2021-06-11 18:05:10\n",
       "date_run_earliest                                                 2021-11-03 18:39:32\n",
       "date_run_latest                                                   2022-05-04 10:10:46\n",
       "date_postprocessing                                               2023-01-19 23:07:23\n",
       "Name: SXS:BBH:3620, Length: 87, dtype: object"
      ]
     },
     "metadata": {},
     "output_type": "display_data"
    }
   ],
   "source": [
    "ID_num = 3620\n",
    "event = sxs.load(f\"SXS:BBH:{ID_num}\", ignore_deprecation=True)\n",
    "with pd.option_context(\"max_colwidth\", 46, \"display.min_rows\", 100, \"display.large_repr\", \"truncate\"):\n",
    "        display(event.series)"
   ]
  },
  {
   "cell_type": "code",
   "execution_count": null,
   "id": "881b24af-12be-434e-8f07-29db956a3f94",
   "metadata": {},
   "outputs": [],
   "source": []
  }
 ],
 "metadata": {
  "kernelspec": {
   "display_name": "Python 3 (ipykernel)",
   "language": "python",
   "name": "python3"
  },
  "language_info": {
   "codemirror_mode": {
    "name": "ipython",
    "version": 3
   },
   "file_extension": ".py",
   "mimetype": "text/x-python",
   "name": "python",
   "nbconvert_exporter": "python",
   "pygments_lexer": "ipython3",
   "version": "3.13.4"
  }
 },
 "nbformat": 4,
 "nbformat_minor": 5
}
